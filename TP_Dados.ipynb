{
  "cells": [
    {
      "cell_type": "markdown",
      "metadata": {
        "id": "view-in-github",
        "colab_type": "text"
      },
      "source": [
        "<a href=\"https://colab.research.google.com/github/GabriellMiranda/TP-Dados-Analise-de-dados-de-covid/blob/main/TP_Dados.ipynb\" target=\"_parent\"><img src=\"https://colab.research.google.com/assets/colab-badge.svg\" alt=\"Open In Colab\"/></a>"
      ]
    },
    {
      "cell_type": "markdown",
      "metadata": {
        "id": "fjBSrCTcK_PS"
      },
      "source": [
        "# Análise dos dados de COVID-19 nos períodos de 2020, 2021 e 2022\n",
        "\n",
        "\n",
        "\n"
      ]
    },
    {
      "cell_type": "markdown",
      "metadata": {
        "id": "5FW1wxBNPd2B"
      },
      "source": [
        "# Introdução\n",
        "\n",
        "Este trabalho tem como objetivo realizar o levantamento de dados reais de COVID-19 nos anos de 2020, 2021 e 2022, para que por meio deste seja possível realizar a extração de informações relevantes sobre os impactos da pandemia em todo país durante esse período.\n",
        "\n",
        "Por meio disso, utilizou-se dados reais obtidos na plataforma Corona Vírus Brasil (https://covid.saude.gov.br/), veículo oficial de comunicação sobre a situação epidemiológica da COVID-19 no Brasil. Essas informações são obtidas diretamente pelo Ministério da Saúde por meio de dados oficiais repassados pelas Secretarias Estaduais de Saúde das 27 unidades federativas brasileiras.\n",
        "\n",
        "Como o processo de atualização dos dados é um processo complexo e dinâmico, diariamente estes estão sujeitos a alterações. Além disso, devido a diversidade de cada município brasileiro se tratando de porte populacional, organização de saúde e infraestrutura, é possível que haja erros. Desse modo, a partir dos dados coletados, deve-se primeiramente realizar a limpeza dos dados, para que os mesmos não interfiram no resultado final obtido, ou seja, deve-se organizar os dados, retirar possíveis ruídos, erros e campos nulos. \n"
      ]
    },
    {
      "cell_type": "markdown",
      "metadata": {
        "id": "5pu3sWtQUe1J"
      },
      "source": [
        "## Objetivos gerais\n",
        "\n",
        "O objetivo do trabalho é aplicar os conceitos aprendidos dentro de sala de aula tanto práticos quanto teóricos, fazendo a manipulação de casos reais, a fim de compreender a complexidade em frente ao ambiente da análise de dados e consequentemente conseguir obter informações importantes a fim de responder os questionamentos levantados pelo grupo.\n"
      ]
    },
    {
      "cell_type": "markdown",
      "metadata": {
        "id": "JeW4EtSYXwp8"
      },
      "source": [
        "## Objetivos específicos\n",
        "\n",
        "- Entender os tipos de atributos e objetos de dados\n",
        "\n",
        "- Verificar e realizar a limpeza dos dados, eliminando possíveis ruídos, erros ou campos nulos\n",
        "\n",
        "- Redução da dimensionalidade, eliminando atributos irrelevantes e melhorando a visualização.\n",
        "\n",
        "- Agregação para combinação de dois ou mais atributos.\n",
        "\n",
        "- Estratificação para separação em partições (regiões, estados, período de tempo)\n",
        "\n",
        "- Estatística descritiva com a geração de gráficos e tabelas.\n",
        "\n",
        "\n",
        "\n",
        "\n"
      ]
    },
    {
      "cell_type": "markdown",
      "metadata": {
        "id": "aktpGkKgUgBY"
      },
      "source": [
        "# Manipulação dos dados"
      ]
    },
    {
      "cell_type": "markdown",
      "metadata": {
        "id": "bkRq1aUPYyvU"
      },
      "source": [
        "## Realizando a importação das bibliotecas necessárias para manipulação dos dados "
      ]
    },
    {
      "cell_type": "code",
      "execution_count": 1,
      "metadata": {
        "id": "jAzNJlrDi054"
      },
      "outputs": [],
      "source": [
        "import pandas as pd\n",
        "import numpy as np\n",
        "import seaborn as sns\n",
        "import matplotlib.pyplot as plt\n",
        "import datetime as dt\n",
        "from sklearn.linear_model import LinearRegression"
      ]
    },
    {
      "cell_type": "markdown",
      "metadata": {
        "id": "ZtbU8N2EY97T"
      },
      "source": [
        "## Obtendo os dados que serão estudados"
      ]
    },
    {
      "cell_type": "code",
      "execution_count": 2,
      "metadata": {
        "colab": {
          "base_uri": "https://localhost:8080/"
        },
        "id": "slUPy9L7IBwc",
        "outputId": "2d8e2572-8e08-4b66-b281-b49d2f7dfed3"
      },
      "outputs": [
        {
          "output_type": "stream",
          "name": "stdout",
          "text": [
            "--2022-07-23 21:37:07--  https://raw.githubusercontent.com/GabriellMiranda/TP-Dados-Analise-de-dados-de-covid/main/HIST_PAINEL_COVIDBR_03jun2022/HIST_PAINEL_COVIDBR_2020_Parte1_03jun2022.csv\n",
            "Resolving raw.githubusercontent.com (raw.githubusercontent.com)... 185.199.111.133, 185.199.110.133, 185.199.109.133, ...\n",
            "Connecting to raw.githubusercontent.com (raw.githubusercontent.com)|185.199.111.133|:443... connected.\n",
            "HTTP request sent, awaiting response... 200 OK\n",
            "Length: 62493275 (60M) [text/plain]\n",
            "Saving to: ‘HIST_PAINEL_COVIDBR_2020_Parte1_03jun2022.csv’\n",
            "\n",
            "HIST_PAINEL_COVIDBR 100%[===================>]  59.60M  91.7MB/s    in 0.6s    \n",
            "\n",
            "2022-07-23 21:37:09 (91.7 MB/s) - ‘HIST_PAINEL_COVIDBR_2020_Parte1_03jun2022.csv’ saved [62493275/62493275]\n",
            "\n",
            "--2022-07-23 21:37:09--  https://raw.githubusercontent.com/GabriellMiranda/TP-Dados-Analise-de-dados-de-covid/main/HIST_PAINEL_COVIDBR_03jun2022/HIST_PAINEL_COVIDBR_2020_Parte2_03jun2022.csv\n",
            "Resolving raw.githubusercontent.com (raw.githubusercontent.com)... 185.199.108.133, 185.199.109.133, 185.199.110.133, ...\n",
            "Connecting to raw.githubusercontent.com (raw.githubusercontent.com)|185.199.108.133|:443... connected.\n",
            "HTTP request sent, awaiting response... 200 OK\n",
            "Length: 76520606 (73M) [text/plain]\n",
            "Saving to: ‘HIST_PAINEL_COVIDBR_2020_Parte2_03jun2022.csv’\n",
            "\n",
            "HIST_PAINEL_COVIDBR 100%[===================>]  72.98M   139MB/s    in 0.5s    \n",
            "\n",
            "2022-07-23 21:37:10 (139 MB/s) - ‘HIST_PAINEL_COVIDBR_2020_Parte2_03jun2022.csv’ saved [76520606/76520606]\n",
            "\n",
            "--2022-07-23 21:37:10--  https://raw.githubusercontent.com/GabriellMiranda/TP-Dados-Analise-de-dados-de-covid/main/HIST_PAINEL_COVIDBR_03jun2022/HIST_PAINEL_COVIDBR_2021_Parte1_03jun2022.csv\n",
            "Resolving raw.githubusercontent.com (raw.githubusercontent.com)... 185.199.108.133, 185.199.109.133, 185.199.110.133, ...\n",
            "Connecting to raw.githubusercontent.com (raw.githubusercontent.com)|185.199.108.133|:443... connected.\n",
            "HTTP request sent, awaiting response... 200 OK\n",
            "Length: 91120853 (87M) [text/plain]\n",
            "Saving to: ‘HIST_PAINEL_COVIDBR_2021_Parte1_03jun2022.csv’\n",
            "\n",
            "HIST_PAINEL_COVIDBR 100%[===================>]  86.90M   151MB/s    in 0.6s    \n",
            "\n",
            "2022-07-23 21:37:12 (151 MB/s) - ‘HIST_PAINEL_COVIDBR_2021_Parte1_03jun2022.csv’ saved [91120853/91120853]\n",
            "\n",
            "--2022-07-23 21:37:12--  https://raw.githubusercontent.com/GabriellMiranda/TP-Dados-Analise-de-dados-de-covid/main/HIST_PAINEL_COVIDBR_03jun2022/HIST_PAINEL_COVIDBR_2021_Parte2_03jun2022.csv\n",
            "Resolving raw.githubusercontent.com (raw.githubusercontent.com)... 185.199.110.133, 185.199.109.133, 185.199.108.133, ...\n",
            "Connecting to raw.githubusercontent.com (raw.githubusercontent.com)|185.199.110.133|:443... connected.\n",
            "HTTP request sent, awaiting response... 200 OK\n",
            "Length: 93414239 (89M) [text/plain]\n",
            "Saving to: ‘HIST_PAINEL_COVIDBR_2021_Parte2_03jun2022.csv’\n",
            "\n",
            "HIST_PAINEL_COVIDBR 100%[===================>]  89.09M   105MB/s    in 0.8s    \n",
            "\n",
            "2022-07-23 21:37:13 (105 MB/s) - ‘HIST_PAINEL_COVIDBR_2021_Parte2_03jun2022.csv’ saved [93414239/93414239]\n",
            "\n",
            "--2022-07-23 21:37:13--  https://raw.githubusercontent.com/GabriellMiranda/TP-Dados-Analise-de-dados-de-covid/main/HIST_PAINEL_COVIDBR_03jun2022/HIST_PAINEL_COVIDBR_2022_Parte1_03jun2022.csv\n",
            "Resolving raw.githubusercontent.com (raw.githubusercontent.com)... 185.199.108.133, 185.199.109.133, 185.199.110.133, ...\n",
            "Connecting to raw.githubusercontent.com (raw.githubusercontent.com)|185.199.108.133|:443... connected.\n",
            "HTTP request sent, awaiting response... 200 OK\n",
            "Length: 78054992 (74M) [text/plain]\n",
            "Saving to: ‘HIST_PAINEL_COVIDBR_2022_Parte1_03jun2022.csv’\n",
            "\n",
            "HIST_PAINEL_COVIDBR 100%[===================>]  74.44M   122MB/s    in 0.6s    \n",
            "\n",
            "2022-07-23 21:37:15 (122 MB/s) - ‘HIST_PAINEL_COVIDBR_2022_Parte1_03jun2022.csv’ saved [78054992/78054992]\n",
            "\n"
          ]
        }
      ],
      "source": [
        "!wget https://raw.githubusercontent.com/GabriellMiranda/TP-Dados-Analise-de-dados-de-covid/main/HIST_PAINEL_COVIDBR_03jun2022/HIST_PAINEL_COVIDBR_2020_Parte1_03jun2022.csv\n",
        "!wget https://raw.githubusercontent.com/GabriellMiranda/TP-Dados-Analise-de-dados-de-covid/main/HIST_PAINEL_COVIDBR_03jun2022/HIST_PAINEL_COVIDBR_2020_Parte2_03jun2022.csv\n",
        "!wget https://raw.githubusercontent.com/GabriellMiranda/TP-Dados-Analise-de-dados-de-covid/main/HIST_PAINEL_COVIDBR_03jun2022/HIST_PAINEL_COVIDBR_2021_Parte1_03jun2022.csv\n",
        "!wget https://raw.githubusercontent.com/GabriellMiranda/TP-Dados-Analise-de-dados-de-covid/main/HIST_PAINEL_COVIDBR_03jun2022/HIST_PAINEL_COVIDBR_2021_Parte2_03jun2022.csv\n",
        "!wget https://raw.githubusercontent.com/GabriellMiranda/TP-Dados-Analise-de-dados-de-covid/main/HIST_PAINEL_COVIDBR_03jun2022/HIST_PAINEL_COVIDBR_2022_Parte1_03jun2022.csv"
      ]
    },
    {
      "cell_type": "markdown",
      "metadata": {
        "id": "O03HVlH6ZZbd"
      },
      "source": [
        "## Armazendo os dados em váriaveis auxiliares, de forma que seja possível estudar os dados nos anos de 2020, 2021 e 2022 durante a pandemia no Brasil.\n",
        "\n",
        "Vale ressaltar que os anos de 2020 e 2021 estão separados em duas partes diferentes cada um, desse forma é realizada a concatenação dessas partes, visto que será uma análise anual."
      ]
    },
    {
      "cell_type": "code",
      "execution_count": 3,
      "metadata": {
        "id": "P7iV6Icf37GT",
        "colab": {
          "base_uri": "https://localhost:8080/"
        },
        "outputId": "1ecd0d7a-f295-4178-87fc-a48d3359b6c3"
      },
      "outputs": [
        {
          "output_type": "stream",
          "name": "stderr",
          "text": [
            "/usr/local/lib/python3.7/dist-packages/IPython/core/interactiveshell.py:2882: FutureWarning: The error_bad_lines argument has been deprecated and will be removed in a future version.\n",
            "\n",
            "\n",
            "  exec(code_obj, self.user_global_ns, self.user_ns)\n"
          ]
        }
      ],
      "source": [
        "covid2020P1 = pd.read_csv(\"/content/HIST_PAINEL_COVIDBR_2020_Parte1_03jun2022.csv\",error_bad_lines=False,sep=\";\")\n",
        "covid2020P2 = pd.read_csv(\"/content/HIST_PAINEL_COVIDBR_2020_Parte2_03jun2022.csv\",error_bad_lines=False,sep=\";\")\n",
        "covid2021P1 = pd.read_csv(\"/content/HIST_PAINEL_COVIDBR_2021_Parte1_03jun2022.csv\",error_bad_lines=False,sep=\";\")\n",
        "covid2021P2 = pd.read_csv(\"/content/HIST_PAINEL_COVIDBR_2021_Parte2_03jun2022.csv\",error_bad_lines=False,sep=\";\")\n",
        "covid2022 = pd.read_csv(\"/content/HIST_PAINEL_COVIDBR_2022_Parte1_03jun2022.csv\",error_bad_lines=False,sep=\";\")\n",
        "covid2020 = pd.concat([covid2020P1,covid2020P2])\n",
        "covid2021 = pd.concat([covid2021P1,covid2021P2])\n",
        "\n"
      ]
    },
    {
      "cell_type": "markdown",
      "metadata": {
        "id": "vbx_ssHkH9yQ"
      },
      "source": [
        "# Análise exploratória"
      ]
    },
    {
      "cell_type": "markdown",
      "metadata": {
        "id": "uAYdloGTa0EL"
      },
      "source": [
        "A análise exploratória é uma análise preliminar dos dados para entender melhor suas características. Para que por meio disso, seja possível identificar o que precisa ser realizado no pré-processamento, entender quais são as melhores ferramentas para análise e pré-processamento, e por fim aproveitar habilidades humanas para reconhecer padrões.\n",
        "\n"
      ]
    },
    {
      "cell_type": "markdown",
      "metadata": {
        "id": "FOsgG-ZVH9yT"
      },
      "source": [
        "## Entendendo os atributos e objetos dos dados"
      ]
    },
    {
      "cell_type": "code",
      "execution_count": null,
      "metadata": {
        "id": "z3XwrjdXB-1Z",
        "colab": {
          "base_uri": "https://localhost:8080/"
        },
        "outputId": "461ee636-7ce6-439b-c01c-c47026b6a134"
      },
      "outputs": [
        {
          "output_type": "execute_result",
          "data": {
            "text/plain": [
              "Index(['regiao', 'estado', 'municipio', 'coduf', 'codmun', 'codRegiaoSaude',\n",
              "       'nomeRegiaoSaude', 'data', 'semanaEpi', 'populacaoTCU2019',\n",
              "       'casosAcumulado', 'casosNovos', 'obitosAcumulado', 'obitosNovos',\n",
              "       'Recuperadosnovos', 'emAcompanhamentoNovos', 'interior/metropolitana'],\n",
              "      dtype='object')"
            ]
          },
          "metadata": {},
          "execution_count": 4
        }
      ],
      "source": [
        "covid2020.columns"
      ]
    },
    {
      "cell_type": "markdown",
      "metadata": {
        "id": "pZjp-8dTOCWy"
      },
      "source": [
        "#Informações do dataframe"
      ]
    },
    {
      "cell_type": "code",
      "execution_count": null,
      "metadata": {
        "id": "jtp1oCRlN0yO",
        "colab": {
          "base_uri": "https://localhost:8080/"
        },
        "outputId": "a08d99bb-ca98-4c01-d0a4-b5b3086fe69f"
      },
      "outputs": [
        {
          "output_type": "stream",
          "name": "stdout",
          "text": [
            "<class 'pandas.core.frame.DataFrame'>\n",
            "Int64Index: 1574188 entries, 0 to 859706\n",
            "Data columns (total 17 columns):\n",
            " #   Column                  Non-Null Count    Dtype  \n",
            "---  ------                  --------------    -----  \n",
            " 0   regiao                  1574188 non-null  object \n",
            " 1   estado                  1573877 non-null  object \n",
            " 2   municipio               1559600 non-null  object \n",
            " 3   coduf                   1574188 non-null  int64  \n",
            " 4   codmun                  1565480 non-null  float64\n",
            " 5   codRegiaoSaude          1559600 non-null  float64\n",
            " 6   nomeRegiaoSaude         1559600 non-null  object \n",
            " 7   data                    1574188 non-null  object \n",
            " 8   semanaEpi               1574188 non-null  int64  \n",
            " 9   populacaoTCU2019        1568308 non-null  float64\n",
            " 10  casosAcumulado          1574188 non-null  int64  \n",
            " 11  casosNovos              1574188 non-null  int64  \n",
            " 12  obitosAcumulado         1574188 non-null  int64  \n",
            " 13  obitosNovos             1574188 non-null  int64  \n",
            " 14  Recuperadosnovos        311 non-null      float64\n",
            " 15  emAcompanhamentoNovos   311 non-null      float64\n",
            " 16  interior/metropolitana  1559600 non-null  float64\n",
            "dtypes: float64(6), int64(6), object(5)\n",
            "memory usage: 216.2+ MB\n"
          ]
        }
      ],
      "source": [
        "covid2020.info()"
      ]
    },
    {
      "cell_type": "code",
      "execution_count": null,
      "metadata": {
        "id": "shbO_945CBoY",
        "colab": {
          "base_uri": "https://localhost:8080/"
        },
        "outputId": "2390161c-d394-402e-bdec-a15073e86671"
      },
      "outputs": [
        {
          "output_type": "execute_result",
          "data": {
            "text/plain": [
              "regiao                     object\n",
              "estado                     object\n",
              "municipio                  object\n",
              "coduf                       int64\n",
              "codmun                    float64\n",
              "codRegiaoSaude            float64\n",
              "nomeRegiaoSaude            object\n",
              "data                       object\n",
              "semanaEpi                   int64\n",
              "populacaoTCU2019          float64\n",
              "casosAcumulado              int64\n",
              "casosNovos                  int64\n",
              "obitosAcumulado             int64\n",
              "obitosNovos                 int64\n",
              "Recuperadosnovos          float64\n",
              "emAcompanhamentoNovos     float64\n",
              "interior/metropolitana    float64\n",
              "dtype: object"
            ]
          },
          "metadata": {},
          "execution_count": 6
        }
      ],
      "source": [
        "covid2020.dtypes"
      ]
    },
    {
      "cell_type": "markdown",
      "metadata": {
        "id": "N3O2zzJwcjry"
      },
      "source": [
        "### Atributos:\n",
        "\n",
        "- **Regiao**:regiões do Brasil\n",
        "- **Estado**:estados do Brasil\n",
        "- **Municipio**: Municipio de cada estado\n",
        "- **coduf**: Códido da UF\n",
        "- **codmun**: Código municipal\n",
        "- **codRegiaoSaúde**:Este Código estabelece normas de ordem pública e interesse social para a promoção, defesa e recuperação da saúde.\n",
        "- **data**: Data atual da inserção dos dados\n",
        "- **semanaEpi**: Semana epidemiologica\n",
        "- **casosNovos**:Número de casos novos confirmados por COVID-19 que foram registrados pelas Secretarias Municipais e Estaduais de Saúde em relação ao dia anterior.\n",
        "- **casosAcumulados**: Número total de casos confirmados por COVID-19 que foram registrados pelas Secretarias Municipais e Estaduais de Saúde no período considerado.\n",
        "\n",
        "- **obitosNovos**:Número de óbitos novos confirmados por COVID-19 que foram registrados pelas Secretarias Municipais e Estaduais de Saúde em relação ao dia anterior.\n",
        "\n",
        "- **obitosAcumulado**:Número total de óbitos confirmados por COVID-19 que foram registrados pelas Secretarias Municipais e Estaduais de Saúde no período considerado.\n",
        "\n",
        "- **populacaoTCU2019**: Estimativas de 2019 utilizadas pelo TCU para determinação das cotas do FPM (sem sexo e faixa etária). \n"
      ]
    },
    {
      "cell_type": "markdown",
      "metadata": {
        "id": "1G4Czn_tPaPR"
      },
      "source": [
        "#Nesta parte iremos observar como estão os valores de casos novos e obitos novos"
      ]
    },
    {
      "cell_type": "code",
      "execution_count": null,
      "metadata": {
        "id": "1POXRyB7OjTX",
        "colab": {
          "base_uri": "https://localhost:8080/"
        },
        "outputId": "5aaf88e4-0dfe-4376-bb95-bfce4776e83b"
      },
      "outputs": [
        {
          "output_type": "execute_result",
          "data": {
            "text/plain": [
              "count    1.574188e+06\n",
              "mean     1.462844e+01\n",
              "std      4.517894e+02\n",
              "min     -7.926000e+03\n",
              "25%      0.000000e+00\n",
              "50%      0.000000e+00\n",
              "75%      1.000000e+00\n",
              "max      7.057400e+04\n",
              "Name: casosNovos, dtype: float64"
            ]
          },
          "metadata": {},
          "execution_count": 7
        }
      ],
      "source": [
        "covid2020['casosNovos'].describe()"
      ]
    },
    {
      "cell_type": "code",
      "execution_count": null,
      "metadata": {
        "id": "bMPI99XUO0fN",
        "colab": {
          "base_uri": "https://localhost:8080/"
        },
        "outputId": "b15cd23f-b066-4230-a278-6c14aad49b8b"
      },
      "outputs": [
        {
          "output_type": "execute_result",
          "data": {
            "text/plain": [
              "count    1.574188e+06\n",
              "mean     3.715230e-01\n",
              "std      1.129607e+01\n",
              "min     -2.920000e+02\n",
              "25%      0.000000e+00\n",
              "50%      0.000000e+00\n",
              "75%      0.000000e+00\n",
              "max      1.595000e+03\n",
              "Name: obitosNovos, dtype: float64"
            ]
          },
          "metadata": {},
          "execution_count": 8
        }
      ],
      "source": [
        "covid2020['obitosNovos'].describe()"
      ]
    },
    {
      "cell_type": "code",
      "execution_count": null,
      "metadata": {
        "id": "upBjKoqUP9d7",
        "colab": {
          "base_uri": "https://localhost:8080/"
        },
        "outputId": "a6f88be7-bc42-47c5-d29b-ac0d6f02cdd8"
      },
      "outputs": [
        {
          "output_type": "execute_result",
          "data": {
            "text/plain": [
              "count    2.050935e+06\n",
              "mean     2.137300e+01\n",
              "std      7.077957e+02\n",
              "min     -5.942900e+04\n",
              "25%      0.000000e+00\n",
              "50%      0.000000e+00\n",
              "75%      3.000000e+00\n",
              "max      1.501060e+05\n",
              "Name: casosNovos, dtype: float64"
            ]
          },
          "metadata": {},
          "execution_count": 9
        }
      ],
      "source": [
        "covid2021['casosNovos'].describe()"
      ]
    },
    {
      "cell_type": "code",
      "execution_count": null,
      "metadata": {
        "id": "MB-12juYQGiq",
        "colab": {
          "base_uri": "https://localhost:8080/"
        },
        "outputId": "8a4e5852-85d3-489a-92e9-2db599dec463"
      },
      "outputs": [
        {
          "output_type": "execute_result",
          "data": {
            "text/plain": [
              "count    2.050935e+06\n",
              "mean     6.203614e-01\n",
              "std      2.240610e+01\n",
              "min     -4.109000e+03\n",
              "25%      0.000000e+00\n",
              "50%      0.000000e+00\n",
              "75%      0.000000e+00\n",
              "max      4.249000e+03\n",
              "Name: obitosNovos, dtype: float64"
            ]
          },
          "metadata": {},
          "execution_count": 10
        }
      ],
      "source": [
        "covid2021['obitosNovos'].describe()"
      ]
    },
    {
      "cell_type": "code",
      "execution_count": null,
      "metadata": {
        "id": "hbvV4mSDQJfm",
        "colab": {
          "base_uri": "https://localhost:8080/"
        },
        "outputId": "6486b4c9-6fa8-4ecb-8ebe-f4fa48a753c6"
      },
      "outputs": [
        {
          "output_type": "execute_result",
          "data": {
            "text/plain": [
              "count    865326.000000\n",
              "mean         30.681933\n",
              "std        1193.774356\n",
              "min      -73907.000000\n",
              "25%           0.000000\n",
              "50%           0.000000\n",
              "75%           2.000000\n",
              "max      298408.000000\n",
              "Name: casosNovos, dtype: float64"
            ]
          },
          "metadata": {},
          "execution_count": 11
        }
      ],
      "source": [
        "covid2022['casosNovos'].describe()"
      ]
    },
    {
      "cell_type": "code",
      "execution_count": null,
      "metadata": {
        "id": "gv6qDajZQNse",
        "colab": {
          "base_uri": "https://localhost:8080/"
        },
        "outputId": "db50447c-a111-4803-9c69-4593e3e748f6"
      },
      "outputs": [
        {
          "output_type": "execute_result",
          "data": {
            "text/plain": [
              "count    865326.000000\n",
              "mean          0.166117\n",
              "std           6.869700\n",
              "min        -755.000000\n",
              "25%           0.000000\n",
              "50%           0.000000\n",
              "75%           0.000000\n",
              "max        1308.000000\n",
              "Name: obitosNovos, dtype: float64"
            ]
          },
          "metadata": {},
          "execution_count": 12
        }
      ],
      "source": [
        "covid2022['obitosNovos'].describe()"
      ]
    },
    {
      "cell_type": "markdown",
      "metadata": {
        "id": "wSkdnzHhPvVc"
      },
      "source": [
        "#Dessa forma, foi observado que existem valores negativos. "
      ]
    },
    {
      "cell_type": "markdown",
      "metadata": {
        "id": "zZujHBWMH9yV"
      },
      "source": [
        "# Primeiras 10 linhas dos dados de COVID-19 em 2020\n",
        "A seguir, é possível fazer a visualização dos dados de COVID-19 por meio de tabelas, dessa forma é possível visualizar seus atributos e seus respectivos valores.\n"
      ]
    },
    {
      "cell_type": "code",
      "execution_count": null,
      "metadata": {
        "id": "utqZJg9BCD8Y",
        "colab": {
          "base_uri": "https://localhost:8080/",
          "height": 601
        },
        "outputId": "841ca2fe-a054-4963-83a9-df1565563c87"
      },
      "outputs": [
        {
          "output_type": "execute_result",
          "data": {
            "text/plain": [
              "   regiao estado municipio  coduf  codmun  codRegiaoSaude nomeRegiaoSaude  \\\n",
              "0  Brasil    NaN       NaN     76     NaN             NaN             NaN   \n",
              "1  Brasil    NaN       NaN     76     NaN             NaN             NaN   \n",
              "2  Brasil    NaN       NaN     76     NaN             NaN             NaN   \n",
              "3  Brasil    NaN       NaN     76     NaN             NaN             NaN   \n",
              "4  Brasil    NaN       NaN     76     NaN             NaN             NaN   \n",
              "5  Brasil    NaN       NaN     76     NaN             NaN             NaN   \n",
              "6  Brasil    NaN       NaN     76     NaN             NaN             NaN   \n",
              "7  Brasil    NaN       NaN     76     NaN             NaN             NaN   \n",
              "8  Brasil    NaN       NaN     76     NaN             NaN             NaN   \n",
              "9  Brasil    NaN       NaN     76     NaN             NaN             NaN   \n",
              "\n",
              "         data  semanaEpi  populacaoTCU2019  casosAcumulado  casosNovos  \\\n",
              "0  2020-02-25          9       210147125.0               0           0   \n",
              "1  2020-02-26          9       210147125.0               1           1   \n",
              "2  2020-02-27          9       210147125.0               1           0   \n",
              "3  2020-02-28          9       210147125.0               1           0   \n",
              "4  2020-02-29          9       210147125.0               2           1   \n",
              "5  2020-03-01         10       210147125.0               2           0   \n",
              "6  2020-03-02         10       210147125.0               2           0   \n",
              "7  2020-03-03         10       210147125.0               2           0   \n",
              "8  2020-03-04         10       210147125.0               3           1   \n",
              "9  2020-03-05         10       210147125.0               7           4   \n",
              "\n",
              "   obitosAcumulado  obitosNovos  Recuperadosnovos  emAcompanhamentoNovos  \\\n",
              "0                0            0               0.0                    0.0   \n",
              "1                0            0               1.0                    0.0   \n",
              "2                0            0               1.0                    0.0   \n",
              "3                0            0               0.0                    1.0   \n",
              "4                0            0               1.0                    1.0   \n",
              "5                0            0               1.0                    1.0   \n",
              "6                0            0               0.0                    2.0   \n",
              "7                0            0               0.0                    2.0   \n",
              "8                0            0               1.0                    2.0   \n",
              "9                0            0               4.0                    3.0   \n",
              "\n",
              "   interior/metropolitana  \n",
              "0                     NaN  \n",
              "1                     NaN  \n",
              "2                     NaN  \n",
              "3                     NaN  \n",
              "4                     NaN  \n",
              "5                     NaN  \n",
              "6                     NaN  \n",
              "7                     NaN  \n",
              "8                     NaN  \n",
              "9                     NaN  "
            ],
            "text/html": [
              "\n",
              "  <div id=\"df-cf13d156-22bb-42ab-80dc-7c120c0b5b35\">\n",
              "    <div class=\"colab-df-container\">\n",
              "      <div>\n",
              "<style scoped>\n",
              "    .dataframe tbody tr th:only-of-type {\n",
              "        vertical-align: middle;\n",
              "    }\n",
              "\n",
              "    .dataframe tbody tr th {\n",
              "        vertical-align: top;\n",
              "    }\n",
              "\n",
              "    .dataframe thead th {\n",
              "        text-align: right;\n",
              "    }\n",
              "</style>\n",
              "<table border=\"1\" class=\"dataframe\">\n",
              "  <thead>\n",
              "    <tr style=\"text-align: right;\">\n",
              "      <th></th>\n",
              "      <th>regiao</th>\n",
              "      <th>estado</th>\n",
              "      <th>municipio</th>\n",
              "      <th>coduf</th>\n",
              "      <th>codmun</th>\n",
              "      <th>codRegiaoSaude</th>\n",
              "      <th>nomeRegiaoSaude</th>\n",
              "      <th>data</th>\n",
              "      <th>semanaEpi</th>\n",
              "      <th>populacaoTCU2019</th>\n",
              "      <th>casosAcumulado</th>\n",
              "      <th>casosNovos</th>\n",
              "      <th>obitosAcumulado</th>\n",
              "      <th>obitosNovos</th>\n",
              "      <th>Recuperadosnovos</th>\n",
              "      <th>emAcompanhamentoNovos</th>\n",
              "      <th>interior/metropolitana</th>\n",
              "    </tr>\n",
              "  </thead>\n",
              "  <tbody>\n",
              "    <tr>\n",
              "      <th>0</th>\n",
              "      <td>Brasil</td>\n",
              "      <td>NaN</td>\n",
              "      <td>NaN</td>\n",
              "      <td>76</td>\n",
              "      <td>NaN</td>\n",
              "      <td>NaN</td>\n",
              "      <td>NaN</td>\n",
              "      <td>2020-02-25</td>\n",
              "      <td>9</td>\n",
              "      <td>210147125.0</td>\n",
              "      <td>0</td>\n",
              "      <td>0</td>\n",
              "      <td>0</td>\n",
              "      <td>0</td>\n",
              "      <td>0.0</td>\n",
              "      <td>0.0</td>\n",
              "      <td>NaN</td>\n",
              "    </tr>\n",
              "    <tr>\n",
              "      <th>1</th>\n",
              "      <td>Brasil</td>\n",
              "      <td>NaN</td>\n",
              "      <td>NaN</td>\n",
              "      <td>76</td>\n",
              "      <td>NaN</td>\n",
              "      <td>NaN</td>\n",
              "      <td>NaN</td>\n",
              "      <td>2020-02-26</td>\n",
              "      <td>9</td>\n",
              "      <td>210147125.0</td>\n",
              "      <td>1</td>\n",
              "      <td>1</td>\n",
              "      <td>0</td>\n",
              "      <td>0</td>\n",
              "      <td>1.0</td>\n",
              "      <td>0.0</td>\n",
              "      <td>NaN</td>\n",
              "    </tr>\n",
              "    <tr>\n",
              "      <th>2</th>\n",
              "      <td>Brasil</td>\n",
              "      <td>NaN</td>\n",
              "      <td>NaN</td>\n",
              "      <td>76</td>\n",
              "      <td>NaN</td>\n",
              "      <td>NaN</td>\n",
              "      <td>NaN</td>\n",
              "      <td>2020-02-27</td>\n",
              "      <td>9</td>\n",
              "      <td>210147125.0</td>\n",
              "      <td>1</td>\n",
              "      <td>0</td>\n",
              "      <td>0</td>\n",
              "      <td>0</td>\n",
              "      <td>1.0</td>\n",
              "      <td>0.0</td>\n",
              "      <td>NaN</td>\n",
              "    </tr>\n",
              "    <tr>\n",
              "      <th>3</th>\n",
              "      <td>Brasil</td>\n",
              "      <td>NaN</td>\n",
              "      <td>NaN</td>\n",
              "      <td>76</td>\n",
              "      <td>NaN</td>\n",
              "      <td>NaN</td>\n",
              "      <td>NaN</td>\n",
              "      <td>2020-02-28</td>\n",
              "      <td>9</td>\n",
              "      <td>210147125.0</td>\n",
              "      <td>1</td>\n",
              "      <td>0</td>\n",
              "      <td>0</td>\n",
              "      <td>0</td>\n",
              "      <td>0.0</td>\n",
              "      <td>1.0</td>\n",
              "      <td>NaN</td>\n",
              "    </tr>\n",
              "    <tr>\n",
              "      <th>4</th>\n",
              "      <td>Brasil</td>\n",
              "      <td>NaN</td>\n",
              "      <td>NaN</td>\n",
              "      <td>76</td>\n",
              "      <td>NaN</td>\n",
              "      <td>NaN</td>\n",
              "      <td>NaN</td>\n",
              "      <td>2020-02-29</td>\n",
              "      <td>9</td>\n",
              "      <td>210147125.0</td>\n",
              "      <td>2</td>\n",
              "      <td>1</td>\n",
              "      <td>0</td>\n",
              "      <td>0</td>\n",
              "      <td>1.0</td>\n",
              "      <td>1.0</td>\n",
              "      <td>NaN</td>\n",
              "    </tr>\n",
              "    <tr>\n",
              "      <th>5</th>\n",
              "      <td>Brasil</td>\n",
              "      <td>NaN</td>\n",
              "      <td>NaN</td>\n",
              "      <td>76</td>\n",
              "      <td>NaN</td>\n",
              "      <td>NaN</td>\n",
              "      <td>NaN</td>\n",
              "      <td>2020-03-01</td>\n",
              "      <td>10</td>\n",
              "      <td>210147125.0</td>\n",
              "      <td>2</td>\n",
              "      <td>0</td>\n",
              "      <td>0</td>\n",
              "      <td>0</td>\n",
              "      <td>1.0</td>\n",
              "      <td>1.0</td>\n",
              "      <td>NaN</td>\n",
              "    </tr>\n",
              "    <tr>\n",
              "      <th>6</th>\n",
              "      <td>Brasil</td>\n",
              "      <td>NaN</td>\n",
              "      <td>NaN</td>\n",
              "      <td>76</td>\n",
              "      <td>NaN</td>\n",
              "      <td>NaN</td>\n",
              "      <td>NaN</td>\n",
              "      <td>2020-03-02</td>\n",
              "      <td>10</td>\n",
              "      <td>210147125.0</td>\n",
              "      <td>2</td>\n",
              "      <td>0</td>\n",
              "      <td>0</td>\n",
              "      <td>0</td>\n",
              "      <td>0.0</td>\n",
              "      <td>2.0</td>\n",
              "      <td>NaN</td>\n",
              "    </tr>\n",
              "    <tr>\n",
              "      <th>7</th>\n",
              "      <td>Brasil</td>\n",
              "      <td>NaN</td>\n",
              "      <td>NaN</td>\n",
              "      <td>76</td>\n",
              "      <td>NaN</td>\n",
              "      <td>NaN</td>\n",
              "      <td>NaN</td>\n",
              "      <td>2020-03-03</td>\n",
              "      <td>10</td>\n",
              "      <td>210147125.0</td>\n",
              "      <td>2</td>\n",
              "      <td>0</td>\n",
              "      <td>0</td>\n",
              "      <td>0</td>\n",
              "      <td>0.0</td>\n",
              "      <td>2.0</td>\n",
              "      <td>NaN</td>\n",
              "    </tr>\n",
              "    <tr>\n",
              "      <th>8</th>\n",
              "      <td>Brasil</td>\n",
              "      <td>NaN</td>\n",
              "      <td>NaN</td>\n",
              "      <td>76</td>\n",
              "      <td>NaN</td>\n",
              "      <td>NaN</td>\n",
              "      <td>NaN</td>\n",
              "      <td>2020-03-04</td>\n",
              "      <td>10</td>\n",
              "      <td>210147125.0</td>\n",
              "      <td>3</td>\n",
              "      <td>1</td>\n",
              "      <td>0</td>\n",
              "      <td>0</td>\n",
              "      <td>1.0</td>\n",
              "      <td>2.0</td>\n",
              "      <td>NaN</td>\n",
              "    </tr>\n",
              "    <tr>\n",
              "      <th>9</th>\n",
              "      <td>Brasil</td>\n",
              "      <td>NaN</td>\n",
              "      <td>NaN</td>\n",
              "      <td>76</td>\n",
              "      <td>NaN</td>\n",
              "      <td>NaN</td>\n",
              "      <td>NaN</td>\n",
              "      <td>2020-03-05</td>\n",
              "      <td>10</td>\n",
              "      <td>210147125.0</td>\n",
              "      <td>7</td>\n",
              "      <td>4</td>\n",
              "      <td>0</td>\n",
              "      <td>0</td>\n",
              "      <td>4.0</td>\n",
              "      <td>3.0</td>\n",
              "      <td>NaN</td>\n",
              "    </tr>\n",
              "  </tbody>\n",
              "</table>\n",
              "</div>\n",
              "      <button class=\"colab-df-convert\" onclick=\"convertToInteractive('df-cf13d156-22bb-42ab-80dc-7c120c0b5b35')\"\n",
              "              title=\"Convert this dataframe to an interactive table.\"\n",
              "              style=\"display:none;\">\n",
              "        \n",
              "  <svg xmlns=\"http://www.w3.org/2000/svg\" height=\"24px\"viewBox=\"0 0 24 24\"\n",
              "       width=\"24px\">\n",
              "    <path d=\"M0 0h24v24H0V0z\" fill=\"none\"/>\n",
              "    <path d=\"M18.56 5.44l.94 2.06.94-2.06 2.06-.94-2.06-.94-.94-2.06-.94 2.06-2.06.94zm-11 1L8.5 8.5l.94-2.06 2.06-.94-2.06-.94L8.5 2.5l-.94 2.06-2.06.94zm10 10l.94 2.06.94-2.06 2.06-.94-2.06-.94-.94-2.06-.94 2.06-2.06.94z\"/><path d=\"M17.41 7.96l-1.37-1.37c-.4-.4-.92-.59-1.43-.59-.52 0-1.04.2-1.43.59L10.3 9.45l-7.72 7.72c-.78.78-.78 2.05 0 2.83L4 21.41c.39.39.9.59 1.41.59.51 0 1.02-.2 1.41-.59l7.78-7.78 2.81-2.81c.8-.78.8-2.07 0-2.86zM5.41 20L4 18.59l7.72-7.72 1.47 1.35L5.41 20z\"/>\n",
              "  </svg>\n",
              "      </button>\n",
              "      \n",
              "  <style>\n",
              "    .colab-df-container {\n",
              "      display:flex;\n",
              "      flex-wrap:wrap;\n",
              "      gap: 12px;\n",
              "    }\n",
              "\n",
              "    .colab-df-convert {\n",
              "      background-color: #E8F0FE;\n",
              "      border: none;\n",
              "      border-radius: 50%;\n",
              "      cursor: pointer;\n",
              "      display: none;\n",
              "      fill: #1967D2;\n",
              "      height: 32px;\n",
              "      padding: 0 0 0 0;\n",
              "      width: 32px;\n",
              "    }\n",
              "\n",
              "    .colab-df-convert:hover {\n",
              "      background-color: #E2EBFA;\n",
              "      box-shadow: 0px 1px 2px rgba(60, 64, 67, 0.3), 0px 1px 3px 1px rgba(60, 64, 67, 0.15);\n",
              "      fill: #174EA6;\n",
              "    }\n",
              "\n",
              "    [theme=dark] .colab-df-convert {\n",
              "      background-color: #3B4455;\n",
              "      fill: #D2E3FC;\n",
              "    }\n",
              "\n",
              "    [theme=dark] .colab-df-convert:hover {\n",
              "      background-color: #434B5C;\n",
              "      box-shadow: 0px 1px 3px 1px rgba(0, 0, 0, 0.15);\n",
              "      filter: drop-shadow(0px 1px 2px rgba(0, 0, 0, 0.3));\n",
              "      fill: #FFFFFF;\n",
              "    }\n",
              "  </style>\n",
              "\n",
              "      <script>\n",
              "        const buttonEl =\n",
              "          document.querySelector('#df-cf13d156-22bb-42ab-80dc-7c120c0b5b35 button.colab-df-convert');\n",
              "        buttonEl.style.display =\n",
              "          google.colab.kernel.accessAllowed ? 'block' : 'none';\n",
              "\n",
              "        async function convertToInteractive(key) {\n",
              "          const element = document.querySelector('#df-cf13d156-22bb-42ab-80dc-7c120c0b5b35');\n",
              "          const dataTable =\n",
              "            await google.colab.kernel.invokeFunction('convertToInteractive',\n",
              "                                                     [key], {});\n",
              "          if (!dataTable) return;\n",
              "\n",
              "          const docLinkHtml = 'Like what you see? Visit the ' +\n",
              "            '<a target=\"_blank\" href=https://colab.research.google.com/notebooks/data_table.ipynb>data table notebook</a>'\n",
              "            + ' to learn more about interactive tables.';\n",
              "          element.innerHTML = '';\n",
              "          dataTable['output_type'] = 'display_data';\n",
              "          await google.colab.output.renderOutput(dataTable, element);\n",
              "          const docLink = document.createElement('div');\n",
              "          docLink.innerHTML = docLinkHtml;\n",
              "          element.appendChild(docLink);\n",
              "        }\n",
              "      </script>\n",
              "    </div>\n",
              "  </div>\n",
              "  "
            ]
          },
          "metadata": {},
          "execution_count": 13
        }
      ],
      "source": [
        "covid2020.head(10)"
      ]
    },
    {
      "cell_type": "markdown",
      "metadata": {
        "id": "a_6ebXeuhKdT"
      },
      "source": [
        "Por meio da tabela acima é possível visualizar a existência de muitos valores nulos. Além disso, pode-se observa que no atributo região aparece o valor *Brasil*. Dessa forma, será necessário realizar a limpeza dos dados e o reagrupamento das informações, como por exemplo separando a região *Brasil* das outras regiões."
      ]
    },
    {
      "cell_type": "code",
      "execution_count": null,
      "metadata": {
        "id": "LBBemzmDCI5o",
        "colab": {
          "base_uri": "https://localhost:8080/"
        },
        "outputId": "b498105e-51a4-4568-94ef-c88e8aa8d749"
      },
      "outputs": [
        {
          "output_type": "execute_result",
          "data": {
            "text/plain": [
              "array(['Brasil', 'Norte', 'Nordeste', 'Sudeste', 'Sul', 'Centro-Oeste'],\n",
              "      dtype=object)"
            ]
          },
          "metadata": {},
          "execution_count": 14
        }
      ],
      "source": [
        "covid2020['regiao'].unique()"
      ]
    },
    {
      "cell_type": "markdown",
      "metadata": {
        "id": "btxMlfmAXvs7"
      },
      "source": [
        "# Limpeza dos Dados\n",
        "\n",
        "A limpeza dos dados é essencial para que consigamos obter uma melhor visualização dos dados, fazendo com que possamos eliminar atributos irrelevantes, como ruídos, erros ou valores nulos. A fim de reduzir o tempo de processamento e memória.\n"
      ]
    },
    {
      "cell_type": "markdown",
      "metadata": {
        "id": "pagJyxv3H9yb"
      },
      "source": [
        "# Resultado obtido a partir da limpeza dos dados (Brasil)"
      ]
    },
    {
      "cell_type": "markdown",
      "metadata": {
        "id": "aM-W5YC6lSix"
      },
      "source": [
        "## Separação da região Brasil"
      ]
    },
    {
      "cell_type": "markdown",
      "metadata": {
        "id": "_Q5a9C4LX34k"
      },
      "source": [
        "A seguir será realizando a separação dos dados referente a região *Brasil* em relação às outras regiões do Brasil. Visto que Brasil se refere a todo o pais e não somente a uma região como por exemplo sul, norte e nordeste."
      ]
    },
    {
      "cell_type": "code",
      "execution_count": 4,
      "metadata": {
        "id": "YmmeFM5tDNiB"
      },
      "outputs": [],
      "source": [
        "DadosBrasil2020 = covid2020[covid2020['regiao'] == 'Brasil']\n",
        "DadosBrasil2021 = covid2021[covid2021['regiao'] == \"Brasil\"]\n",
        "DadosBrasil2022 = covid2022[covid2022['regiao'] == 'Brasil']"
      ]
    },
    {
      "cell_type": "markdown",
      "metadata": {
        "id": "YPVdi-8ElapS"
      },
      "source": [
        "## Renomeando a coluna *regiao* para *pais*"
      ]
    },
    {
      "cell_type": "code",
      "execution_count": 5,
      "metadata": {
        "id": "9EtRufBvH9yY",
        "colab": {
          "base_uri": "https://localhost:8080/"
        },
        "outputId": "1e06d734-f27d-455c-ca7c-cf4c577b0fa8"
      },
      "outputs": [
        {
          "output_type": "stream",
          "name": "stderr",
          "text": [
            "/usr/local/lib/python3.7/dist-packages/pandas/core/frame.py:5047: SettingWithCopyWarning: \n",
            "A value is trying to be set on a copy of a slice from a DataFrame\n",
            "\n",
            "See the caveats in the documentation: https://pandas.pydata.org/pandas-docs/stable/user_guide/indexing.html#returning-a-view-versus-a-copy\n",
            "  errors=errors,\n"
          ]
        }
      ],
      "source": [
        "#mudando a coluna do nome região para pais, já que só teremos os dados do Brasil\n",
        "DadosBrasil2020.rename(columns = {'regiao':'pais'}, inplace = True)\n",
        "DadosBrasil2021.rename(columns = {'regiao':'pais'}, inplace = True)\n",
        "DadosBrasil2022.rename(columns = {'regiao':'pais'}, inplace = True)"
      ]
    },
    {
      "cell_type": "code",
      "execution_count": null,
      "metadata": {
        "id": "4rCqTIa5H9yY",
        "colab": {
          "base_uri": "https://localhost:8080/",
          "height": 661
        },
        "outputId": "70b3a482-4b99-4cfd-842e-eadcb85b21a3"
      },
      "outputs": [
        {
          "output_type": "execute_result",
          "data": {
            "text/plain": [
              "       pais estado municipio  coduf  codmun  codRegiaoSaude nomeRegiaoSaude  \\\n",
              "0    Brasil    NaN       NaN     76     NaN             NaN             NaN   \n",
              "1    Brasil    NaN       NaN     76     NaN             NaN             NaN   \n",
              "2    Brasil    NaN       NaN     76     NaN             NaN             NaN   \n",
              "3    Brasil    NaN       NaN     76     NaN             NaN             NaN   \n",
              "4    Brasil    NaN       NaN     76     NaN             NaN             NaN   \n",
              "..      ...    ...       ...    ...     ...             ...             ...   \n",
              "149  Brasil    NaN       NaN     76     NaN             NaN             NaN   \n",
              "150  Brasil    NaN       NaN     76     NaN             NaN             NaN   \n",
              "151  Brasil    NaN       NaN     76     NaN             NaN             NaN   \n",
              "152  Brasil    NaN       NaN     76     NaN             NaN             NaN   \n",
              "153  Brasil    NaN       NaN     76     NaN             NaN             NaN   \n",
              "\n",
              "           data  semanaEpi  populacaoTCU2019  casosAcumulado  casosNovos  \\\n",
              "0    2022-01-01         52       210147125.0      22291507.0        3986   \n",
              "1    2022-01-02          1       210147125.0      22293228.0        1721   \n",
              "2    2022-01-03          1       210147125.0      22305078.0       11850   \n",
              "3    2022-01-04          1       210147125.0      22323837.0       18759   \n",
              "4    2022-01-05          1       210147125.0      22351104.0       27267   \n",
              "..          ...        ...               ...             ...         ...   \n",
              "149  2022-05-30         22       210147125.0      30977661.0       24082   \n",
              "150  2022-05-31         22       210147125.0      31019038.0       41377   \n",
              "151  2022-06-01         22       210147125.0      31060017.0       40979   \n",
              "152  2022-06-02         22       210147125.0      31101290.0       41273   \n",
              "153  2022-06-03         22       210147125.0      31137479.0       36189   \n",
              "\n",
              "     obitosAcumulado  obitosNovos  Recuperadosnovos  emAcompanhamentoNovos  \\\n",
              "0             619105           49        21581668.0                90734.0   \n",
              "1             619133           28        21581717.0                92378.0   \n",
              "2             619209           76        21591847.0                94022.0   \n",
              "3             619384          175        21603954.0               100499.0   \n",
              "4             619513          129        21615473.0               116118.0   \n",
              "..               ...          ...               ...                    ...   \n",
              "149           666516           63        29971308.0               339837.0   \n",
              "150           666676          160        30011391.0               340971.0   \n",
              "151           666801          125        30038200.0               355016.0   \n",
              "152           666928          127        30054599.0               379763.0   \n",
              "153           666971           43        30063682.0               406826.0   \n",
              "\n",
              "     interior/metropolitana  \n",
              "0                       NaN  \n",
              "1                       NaN  \n",
              "2                       NaN  \n",
              "3                       NaN  \n",
              "4                       NaN  \n",
              "..                      ...  \n",
              "149                     NaN  \n",
              "150                     NaN  \n",
              "151                     NaN  \n",
              "152                     NaN  \n",
              "153                     NaN  \n",
              "\n",
              "[154 rows x 17 columns]"
            ],
            "text/html": [
              "\n",
              "  <div id=\"df-07385ef0-74c7-4e83-98bb-30d7d4c0eda3\">\n",
              "    <div class=\"colab-df-container\">\n",
              "      <div>\n",
              "<style scoped>\n",
              "    .dataframe tbody tr th:only-of-type {\n",
              "        vertical-align: middle;\n",
              "    }\n",
              "\n",
              "    .dataframe tbody tr th {\n",
              "        vertical-align: top;\n",
              "    }\n",
              "\n",
              "    .dataframe thead th {\n",
              "        text-align: right;\n",
              "    }\n",
              "</style>\n",
              "<table border=\"1\" class=\"dataframe\">\n",
              "  <thead>\n",
              "    <tr style=\"text-align: right;\">\n",
              "      <th></th>\n",
              "      <th>pais</th>\n",
              "      <th>estado</th>\n",
              "      <th>municipio</th>\n",
              "      <th>coduf</th>\n",
              "      <th>codmun</th>\n",
              "      <th>codRegiaoSaude</th>\n",
              "      <th>nomeRegiaoSaude</th>\n",
              "      <th>data</th>\n",
              "      <th>semanaEpi</th>\n",
              "      <th>populacaoTCU2019</th>\n",
              "      <th>casosAcumulado</th>\n",
              "      <th>casosNovos</th>\n",
              "      <th>obitosAcumulado</th>\n",
              "      <th>obitosNovos</th>\n",
              "      <th>Recuperadosnovos</th>\n",
              "      <th>emAcompanhamentoNovos</th>\n",
              "      <th>interior/metropolitana</th>\n",
              "    </tr>\n",
              "  </thead>\n",
              "  <tbody>\n",
              "    <tr>\n",
              "      <th>0</th>\n",
              "      <td>Brasil</td>\n",
              "      <td>NaN</td>\n",
              "      <td>NaN</td>\n",
              "      <td>76</td>\n",
              "      <td>NaN</td>\n",
              "      <td>NaN</td>\n",
              "      <td>NaN</td>\n",
              "      <td>2022-01-01</td>\n",
              "      <td>52</td>\n",
              "      <td>210147125.0</td>\n",
              "      <td>22291507.0</td>\n",
              "      <td>3986</td>\n",
              "      <td>619105</td>\n",
              "      <td>49</td>\n",
              "      <td>21581668.0</td>\n",
              "      <td>90734.0</td>\n",
              "      <td>NaN</td>\n",
              "    </tr>\n",
              "    <tr>\n",
              "      <th>1</th>\n",
              "      <td>Brasil</td>\n",
              "      <td>NaN</td>\n",
              "      <td>NaN</td>\n",
              "      <td>76</td>\n",
              "      <td>NaN</td>\n",
              "      <td>NaN</td>\n",
              "      <td>NaN</td>\n",
              "      <td>2022-01-02</td>\n",
              "      <td>1</td>\n",
              "      <td>210147125.0</td>\n",
              "      <td>22293228.0</td>\n",
              "      <td>1721</td>\n",
              "      <td>619133</td>\n",
              "      <td>28</td>\n",
              "      <td>21581717.0</td>\n",
              "      <td>92378.0</td>\n",
              "      <td>NaN</td>\n",
              "    </tr>\n",
              "    <tr>\n",
              "      <th>2</th>\n",
              "      <td>Brasil</td>\n",
              "      <td>NaN</td>\n",
              "      <td>NaN</td>\n",
              "      <td>76</td>\n",
              "      <td>NaN</td>\n",
              "      <td>NaN</td>\n",
              "      <td>NaN</td>\n",
              "      <td>2022-01-03</td>\n",
              "      <td>1</td>\n",
              "      <td>210147125.0</td>\n",
              "      <td>22305078.0</td>\n",
              "      <td>11850</td>\n",
              "      <td>619209</td>\n",
              "      <td>76</td>\n",
              "      <td>21591847.0</td>\n",
              "      <td>94022.0</td>\n",
              "      <td>NaN</td>\n",
              "    </tr>\n",
              "    <tr>\n",
              "      <th>3</th>\n",
              "      <td>Brasil</td>\n",
              "      <td>NaN</td>\n",
              "      <td>NaN</td>\n",
              "      <td>76</td>\n",
              "      <td>NaN</td>\n",
              "      <td>NaN</td>\n",
              "      <td>NaN</td>\n",
              "      <td>2022-01-04</td>\n",
              "      <td>1</td>\n",
              "      <td>210147125.0</td>\n",
              "      <td>22323837.0</td>\n",
              "      <td>18759</td>\n",
              "      <td>619384</td>\n",
              "      <td>175</td>\n",
              "      <td>21603954.0</td>\n",
              "      <td>100499.0</td>\n",
              "      <td>NaN</td>\n",
              "    </tr>\n",
              "    <tr>\n",
              "      <th>4</th>\n",
              "      <td>Brasil</td>\n",
              "      <td>NaN</td>\n",
              "      <td>NaN</td>\n",
              "      <td>76</td>\n",
              "      <td>NaN</td>\n",
              "      <td>NaN</td>\n",
              "      <td>NaN</td>\n",
              "      <td>2022-01-05</td>\n",
              "      <td>1</td>\n",
              "      <td>210147125.0</td>\n",
              "      <td>22351104.0</td>\n",
              "      <td>27267</td>\n",
              "      <td>619513</td>\n",
              "      <td>129</td>\n",
              "      <td>21615473.0</td>\n",
              "      <td>116118.0</td>\n",
              "      <td>NaN</td>\n",
              "    </tr>\n",
              "    <tr>\n",
              "      <th>...</th>\n",
              "      <td>...</td>\n",
              "      <td>...</td>\n",
              "      <td>...</td>\n",
              "      <td>...</td>\n",
              "      <td>...</td>\n",
              "      <td>...</td>\n",
              "      <td>...</td>\n",
              "      <td>...</td>\n",
              "      <td>...</td>\n",
              "      <td>...</td>\n",
              "      <td>...</td>\n",
              "      <td>...</td>\n",
              "      <td>...</td>\n",
              "      <td>...</td>\n",
              "      <td>...</td>\n",
              "      <td>...</td>\n",
              "      <td>...</td>\n",
              "    </tr>\n",
              "    <tr>\n",
              "      <th>149</th>\n",
              "      <td>Brasil</td>\n",
              "      <td>NaN</td>\n",
              "      <td>NaN</td>\n",
              "      <td>76</td>\n",
              "      <td>NaN</td>\n",
              "      <td>NaN</td>\n",
              "      <td>NaN</td>\n",
              "      <td>2022-05-30</td>\n",
              "      <td>22</td>\n",
              "      <td>210147125.0</td>\n",
              "      <td>30977661.0</td>\n",
              "      <td>24082</td>\n",
              "      <td>666516</td>\n",
              "      <td>63</td>\n",
              "      <td>29971308.0</td>\n",
              "      <td>339837.0</td>\n",
              "      <td>NaN</td>\n",
              "    </tr>\n",
              "    <tr>\n",
              "      <th>150</th>\n",
              "      <td>Brasil</td>\n",
              "      <td>NaN</td>\n",
              "      <td>NaN</td>\n",
              "      <td>76</td>\n",
              "      <td>NaN</td>\n",
              "      <td>NaN</td>\n",
              "      <td>NaN</td>\n",
              "      <td>2022-05-31</td>\n",
              "      <td>22</td>\n",
              "      <td>210147125.0</td>\n",
              "      <td>31019038.0</td>\n",
              "      <td>41377</td>\n",
              "      <td>666676</td>\n",
              "      <td>160</td>\n",
              "      <td>30011391.0</td>\n",
              "      <td>340971.0</td>\n",
              "      <td>NaN</td>\n",
              "    </tr>\n",
              "    <tr>\n",
              "      <th>151</th>\n",
              "      <td>Brasil</td>\n",
              "      <td>NaN</td>\n",
              "      <td>NaN</td>\n",
              "      <td>76</td>\n",
              "      <td>NaN</td>\n",
              "      <td>NaN</td>\n",
              "      <td>NaN</td>\n",
              "      <td>2022-06-01</td>\n",
              "      <td>22</td>\n",
              "      <td>210147125.0</td>\n",
              "      <td>31060017.0</td>\n",
              "      <td>40979</td>\n",
              "      <td>666801</td>\n",
              "      <td>125</td>\n",
              "      <td>30038200.0</td>\n",
              "      <td>355016.0</td>\n",
              "      <td>NaN</td>\n",
              "    </tr>\n",
              "    <tr>\n",
              "      <th>152</th>\n",
              "      <td>Brasil</td>\n",
              "      <td>NaN</td>\n",
              "      <td>NaN</td>\n",
              "      <td>76</td>\n",
              "      <td>NaN</td>\n",
              "      <td>NaN</td>\n",
              "      <td>NaN</td>\n",
              "      <td>2022-06-02</td>\n",
              "      <td>22</td>\n",
              "      <td>210147125.0</td>\n",
              "      <td>31101290.0</td>\n",
              "      <td>41273</td>\n",
              "      <td>666928</td>\n",
              "      <td>127</td>\n",
              "      <td>30054599.0</td>\n",
              "      <td>379763.0</td>\n",
              "      <td>NaN</td>\n",
              "    </tr>\n",
              "    <tr>\n",
              "      <th>153</th>\n",
              "      <td>Brasil</td>\n",
              "      <td>NaN</td>\n",
              "      <td>NaN</td>\n",
              "      <td>76</td>\n",
              "      <td>NaN</td>\n",
              "      <td>NaN</td>\n",
              "      <td>NaN</td>\n",
              "      <td>2022-06-03</td>\n",
              "      <td>22</td>\n",
              "      <td>210147125.0</td>\n",
              "      <td>31137479.0</td>\n",
              "      <td>36189</td>\n",
              "      <td>666971</td>\n",
              "      <td>43</td>\n",
              "      <td>30063682.0</td>\n",
              "      <td>406826.0</td>\n",
              "      <td>NaN</td>\n",
              "    </tr>\n",
              "  </tbody>\n",
              "</table>\n",
              "<p>154 rows × 17 columns</p>\n",
              "</div>\n",
              "      <button class=\"colab-df-convert\" onclick=\"convertToInteractive('df-07385ef0-74c7-4e83-98bb-30d7d4c0eda3')\"\n",
              "              title=\"Convert this dataframe to an interactive table.\"\n",
              "              style=\"display:none;\">\n",
              "        \n",
              "  <svg xmlns=\"http://www.w3.org/2000/svg\" height=\"24px\"viewBox=\"0 0 24 24\"\n",
              "       width=\"24px\">\n",
              "    <path d=\"M0 0h24v24H0V0z\" fill=\"none\"/>\n",
              "    <path d=\"M18.56 5.44l.94 2.06.94-2.06 2.06-.94-2.06-.94-.94-2.06-.94 2.06-2.06.94zm-11 1L8.5 8.5l.94-2.06 2.06-.94-2.06-.94L8.5 2.5l-.94 2.06-2.06.94zm10 10l.94 2.06.94-2.06 2.06-.94-2.06-.94-.94-2.06-.94 2.06-2.06.94z\"/><path d=\"M17.41 7.96l-1.37-1.37c-.4-.4-.92-.59-1.43-.59-.52 0-1.04.2-1.43.59L10.3 9.45l-7.72 7.72c-.78.78-.78 2.05 0 2.83L4 21.41c.39.39.9.59 1.41.59.51 0 1.02-.2 1.41-.59l7.78-7.78 2.81-2.81c.8-.78.8-2.07 0-2.86zM5.41 20L4 18.59l7.72-7.72 1.47 1.35L5.41 20z\"/>\n",
              "  </svg>\n",
              "      </button>\n",
              "      \n",
              "  <style>\n",
              "    .colab-df-container {\n",
              "      display:flex;\n",
              "      flex-wrap:wrap;\n",
              "      gap: 12px;\n",
              "    }\n",
              "\n",
              "    .colab-df-convert {\n",
              "      background-color: #E8F0FE;\n",
              "      border: none;\n",
              "      border-radius: 50%;\n",
              "      cursor: pointer;\n",
              "      display: none;\n",
              "      fill: #1967D2;\n",
              "      height: 32px;\n",
              "      padding: 0 0 0 0;\n",
              "      width: 32px;\n",
              "    }\n",
              "\n",
              "    .colab-df-convert:hover {\n",
              "      background-color: #E2EBFA;\n",
              "      box-shadow: 0px 1px 2px rgba(60, 64, 67, 0.3), 0px 1px 3px 1px rgba(60, 64, 67, 0.15);\n",
              "      fill: #174EA6;\n",
              "    }\n",
              "\n",
              "    [theme=dark] .colab-df-convert {\n",
              "      background-color: #3B4455;\n",
              "      fill: #D2E3FC;\n",
              "    }\n",
              "\n",
              "    [theme=dark] .colab-df-convert:hover {\n",
              "      background-color: #434B5C;\n",
              "      box-shadow: 0px 1px 3px 1px rgba(0, 0, 0, 0.15);\n",
              "      filter: drop-shadow(0px 1px 2px rgba(0, 0, 0, 0.3));\n",
              "      fill: #FFFFFF;\n",
              "    }\n",
              "  </style>\n",
              "\n",
              "      <script>\n",
              "        const buttonEl =\n",
              "          document.querySelector('#df-07385ef0-74c7-4e83-98bb-30d7d4c0eda3 button.colab-df-convert');\n",
              "        buttonEl.style.display =\n",
              "          google.colab.kernel.accessAllowed ? 'block' : 'none';\n",
              "\n",
              "        async function convertToInteractive(key) {\n",
              "          const element = document.querySelector('#df-07385ef0-74c7-4e83-98bb-30d7d4c0eda3');\n",
              "          const dataTable =\n",
              "            await google.colab.kernel.invokeFunction('convertToInteractive',\n",
              "                                                     [key], {});\n",
              "          if (!dataTable) return;\n",
              "\n",
              "          const docLinkHtml = 'Like what you see? Visit the ' +\n",
              "            '<a target=\"_blank\" href=https://colab.research.google.com/notebooks/data_table.ipynb>data table notebook</a>'\n",
              "            + ' to learn more about interactive tables.';\n",
              "          element.innerHTML = '';\n",
              "          dataTable['output_type'] = 'display_data';\n",
              "          await google.colab.output.renderOutput(dataTable, element);\n",
              "          const docLink = document.createElement('div');\n",
              "          docLink.innerHTML = docLinkHtml;\n",
              "          element.appendChild(docLink);\n",
              "        }\n",
              "      </script>\n",
              "    </div>\n",
              "  </div>\n",
              "  "
            ]
          },
          "metadata": {},
          "execution_count": 17
        }
      ],
      "source": [
        "DadosBrasil2022"
      ]
    },
    {
      "cell_type": "markdown",
      "metadata": {
        "id": "zWQsWTThlozw"
      },
      "source": [
        "## Eliminando colunas nulas"
      ]
    },
    {
      "cell_type": "markdown",
      "metadata": {
        "id": "j-iZXUFsH9yY"
      },
      "source": [
        "Agora iremos eliminar as colunas \"estado\",\"municipio\",\"codmun\",\"codRegiaoSaude\",\"nomeRegiaoSaude\",\"interior/metropolitana\", visto que essas são colunas nulas. "
      ]
    },
    {
      "cell_type": "code",
      "execution_count": 6,
      "metadata": {
        "id": "JArCtw_LH9yZ"
      },
      "outputs": [],
      "source": [
        "for i in [\"estado\",\"municipio\",\"codmun\",\"codRegiaoSaude\",\"nomeRegiaoSaude\",\"interior/metropolitana\"]:\n",
        "  DadosBrasil2020 = DadosBrasil2020.drop(columns=[i])\n",
        "  DadosBrasil2021 = DadosBrasil2021.drop(columns=[i])\n",
        "  DadosBrasil2022 = DadosBrasil2022.drop(columns=[i])"
      ]
    },
    {
      "cell_type": "markdown",
      "metadata": {
        "id": "2RcO7ySWmKYy"
      },
      "source": [
        "## Visualização da retirada dos valores nulos\n",
        "\n",
        "Desse forma, facilitamos a visualizar dos dados relevantes, a partir da retirada das colunas nulas. Além disso, melhorando o tempo de processamento e mémoria."
      ]
    },
    {
      "cell_type": "code",
      "execution_count": null,
      "metadata": {
        "id": "YB5XAANMH9yZ",
        "colab": {
          "base_uri": "https://localhost:8080/",
          "height": 424
        },
        "outputId": "1b61c64f-2faa-47df-ea56-075b66bb2ad8"
      },
      "outputs": [
        {
          "output_type": "execute_result",
          "data": {
            "text/plain": [
              "       pais  coduf        data  semanaEpi  populacaoTCU2019  casosAcumulado  \\\n",
              "0    Brasil     76  2022-01-01         52       210147125.0      22291507.0   \n",
              "1    Brasil     76  2022-01-02          1       210147125.0      22293228.0   \n",
              "2    Brasil     76  2022-01-03          1       210147125.0      22305078.0   \n",
              "3    Brasil     76  2022-01-04          1       210147125.0      22323837.0   \n",
              "4    Brasil     76  2022-01-05          1       210147125.0      22351104.0   \n",
              "..      ...    ...         ...        ...               ...             ...   \n",
              "149  Brasil     76  2022-05-30         22       210147125.0      30977661.0   \n",
              "150  Brasil     76  2022-05-31         22       210147125.0      31019038.0   \n",
              "151  Brasil     76  2022-06-01         22       210147125.0      31060017.0   \n",
              "152  Brasil     76  2022-06-02         22       210147125.0      31101290.0   \n",
              "153  Brasil     76  2022-06-03         22       210147125.0      31137479.0   \n",
              "\n",
              "     casosNovos  obitosAcumulado  obitosNovos  Recuperadosnovos  \\\n",
              "0          3986           619105           49        21581668.0   \n",
              "1          1721           619133           28        21581717.0   \n",
              "2         11850           619209           76        21591847.0   \n",
              "3         18759           619384          175        21603954.0   \n",
              "4         27267           619513          129        21615473.0   \n",
              "..          ...              ...          ...               ...   \n",
              "149       24082           666516           63        29971308.0   \n",
              "150       41377           666676          160        30011391.0   \n",
              "151       40979           666801          125        30038200.0   \n",
              "152       41273           666928          127        30054599.0   \n",
              "153       36189           666971           43        30063682.0   \n",
              "\n",
              "     emAcompanhamentoNovos  \n",
              "0                  90734.0  \n",
              "1                  92378.0  \n",
              "2                  94022.0  \n",
              "3                 100499.0  \n",
              "4                 116118.0  \n",
              "..                     ...  \n",
              "149               339837.0  \n",
              "150               340971.0  \n",
              "151               355016.0  \n",
              "152               379763.0  \n",
              "153               406826.0  \n",
              "\n",
              "[154 rows x 11 columns]"
            ],
            "text/html": [
              "\n",
              "  <div id=\"df-c1fb3c0c-d351-46a9-9a62-2f5b39045eb4\">\n",
              "    <div class=\"colab-df-container\">\n",
              "      <div>\n",
              "<style scoped>\n",
              "    .dataframe tbody tr th:only-of-type {\n",
              "        vertical-align: middle;\n",
              "    }\n",
              "\n",
              "    .dataframe tbody tr th {\n",
              "        vertical-align: top;\n",
              "    }\n",
              "\n",
              "    .dataframe thead th {\n",
              "        text-align: right;\n",
              "    }\n",
              "</style>\n",
              "<table border=\"1\" class=\"dataframe\">\n",
              "  <thead>\n",
              "    <tr style=\"text-align: right;\">\n",
              "      <th></th>\n",
              "      <th>pais</th>\n",
              "      <th>coduf</th>\n",
              "      <th>data</th>\n",
              "      <th>semanaEpi</th>\n",
              "      <th>populacaoTCU2019</th>\n",
              "      <th>casosAcumulado</th>\n",
              "      <th>casosNovos</th>\n",
              "      <th>obitosAcumulado</th>\n",
              "      <th>obitosNovos</th>\n",
              "      <th>Recuperadosnovos</th>\n",
              "      <th>emAcompanhamentoNovos</th>\n",
              "    </tr>\n",
              "  </thead>\n",
              "  <tbody>\n",
              "    <tr>\n",
              "      <th>0</th>\n",
              "      <td>Brasil</td>\n",
              "      <td>76</td>\n",
              "      <td>2022-01-01</td>\n",
              "      <td>52</td>\n",
              "      <td>210147125.0</td>\n",
              "      <td>22291507.0</td>\n",
              "      <td>3986</td>\n",
              "      <td>619105</td>\n",
              "      <td>49</td>\n",
              "      <td>21581668.0</td>\n",
              "      <td>90734.0</td>\n",
              "    </tr>\n",
              "    <tr>\n",
              "      <th>1</th>\n",
              "      <td>Brasil</td>\n",
              "      <td>76</td>\n",
              "      <td>2022-01-02</td>\n",
              "      <td>1</td>\n",
              "      <td>210147125.0</td>\n",
              "      <td>22293228.0</td>\n",
              "      <td>1721</td>\n",
              "      <td>619133</td>\n",
              "      <td>28</td>\n",
              "      <td>21581717.0</td>\n",
              "      <td>92378.0</td>\n",
              "    </tr>\n",
              "    <tr>\n",
              "      <th>2</th>\n",
              "      <td>Brasil</td>\n",
              "      <td>76</td>\n",
              "      <td>2022-01-03</td>\n",
              "      <td>1</td>\n",
              "      <td>210147125.0</td>\n",
              "      <td>22305078.0</td>\n",
              "      <td>11850</td>\n",
              "      <td>619209</td>\n",
              "      <td>76</td>\n",
              "      <td>21591847.0</td>\n",
              "      <td>94022.0</td>\n",
              "    </tr>\n",
              "    <tr>\n",
              "      <th>3</th>\n",
              "      <td>Brasil</td>\n",
              "      <td>76</td>\n",
              "      <td>2022-01-04</td>\n",
              "      <td>1</td>\n",
              "      <td>210147125.0</td>\n",
              "      <td>22323837.0</td>\n",
              "      <td>18759</td>\n",
              "      <td>619384</td>\n",
              "      <td>175</td>\n",
              "      <td>21603954.0</td>\n",
              "      <td>100499.0</td>\n",
              "    </tr>\n",
              "    <tr>\n",
              "      <th>4</th>\n",
              "      <td>Brasil</td>\n",
              "      <td>76</td>\n",
              "      <td>2022-01-05</td>\n",
              "      <td>1</td>\n",
              "      <td>210147125.0</td>\n",
              "      <td>22351104.0</td>\n",
              "      <td>27267</td>\n",
              "      <td>619513</td>\n",
              "      <td>129</td>\n",
              "      <td>21615473.0</td>\n",
              "      <td>116118.0</td>\n",
              "    </tr>\n",
              "    <tr>\n",
              "      <th>...</th>\n",
              "      <td>...</td>\n",
              "      <td>...</td>\n",
              "      <td>...</td>\n",
              "      <td>...</td>\n",
              "      <td>...</td>\n",
              "      <td>...</td>\n",
              "      <td>...</td>\n",
              "      <td>...</td>\n",
              "      <td>...</td>\n",
              "      <td>...</td>\n",
              "      <td>...</td>\n",
              "    </tr>\n",
              "    <tr>\n",
              "      <th>149</th>\n",
              "      <td>Brasil</td>\n",
              "      <td>76</td>\n",
              "      <td>2022-05-30</td>\n",
              "      <td>22</td>\n",
              "      <td>210147125.0</td>\n",
              "      <td>30977661.0</td>\n",
              "      <td>24082</td>\n",
              "      <td>666516</td>\n",
              "      <td>63</td>\n",
              "      <td>29971308.0</td>\n",
              "      <td>339837.0</td>\n",
              "    </tr>\n",
              "    <tr>\n",
              "      <th>150</th>\n",
              "      <td>Brasil</td>\n",
              "      <td>76</td>\n",
              "      <td>2022-05-31</td>\n",
              "      <td>22</td>\n",
              "      <td>210147125.0</td>\n",
              "      <td>31019038.0</td>\n",
              "      <td>41377</td>\n",
              "      <td>666676</td>\n",
              "      <td>160</td>\n",
              "      <td>30011391.0</td>\n",
              "      <td>340971.0</td>\n",
              "    </tr>\n",
              "    <tr>\n",
              "      <th>151</th>\n",
              "      <td>Brasil</td>\n",
              "      <td>76</td>\n",
              "      <td>2022-06-01</td>\n",
              "      <td>22</td>\n",
              "      <td>210147125.0</td>\n",
              "      <td>31060017.0</td>\n",
              "      <td>40979</td>\n",
              "      <td>666801</td>\n",
              "      <td>125</td>\n",
              "      <td>30038200.0</td>\n",
              "      <td>355016.0</td>\n",
              "    </tr>\n",
              "    <tr>\n",
              "      <th>152</th>\n",
              "      <td>Brasil</td>\n",
              "      <td>76</td>\n",
              "      <td>2022-06-02</td>\n",
              "      <td>22</td>\n",
              "      <td>210147125.0</td>\n",
              "      <td>31101290.0</td>\n",
              "      <td>41273</td>\n",
              "      <td>666928</td>\n",
              "      <td>127</td>\n",
              "      <td>30054599.0</td>\n",
              "      <td>379763.0</td>\n",
              "    </tr>\n",
              "    <tr>\n",
              "      <th>153</th>\n",
              "      <td>Brasil</td>\n",
              "      <td>76</td>\n",
              "      <td>2022-06-03</td>\n",
              "      <td>22</td>\n",
              "      <td>210147125.0</td>\n",
              "      <td>31137479.0</td>\n",
              "      <td>36189</td>\n",
              "      <td>666971</td>\n",
              "      <td>43</td>\n",
              "      <td>30063682.0</td>\n",
              "      <td>406826.0</td>\n",
              "    </tr>\n",
              "  </tbody>\n",
              "</table>\n",
              "<p>154 rows × 11 columns</p>\n",
              "</div>\n",
              "      <button class=\"colab-df-convert\" onclick=\"convertToInteractive('df-c1fb3c0c-d351-46a9-9a62-2f5b39045eb4')\"\n",
              "              title=\"Convert this dataframe to an interactive table.\"\n",
              "              style=\"display:none;\">\n",
              "        \n",
              "  <svg xmlns=\"http://www.w3.org/2000/svg\" height=\"24px\"viewBox=\"0 0 24 24\"\n",
              "       width=\"24px\">\n",
              "    <path d=\"M0 0h24v24H0V0z\" fill=\"none\"/>\n",
              "    <path d=\"M18.56 5.44l.94 2.06.94-2.06 2.06-.94-2.06-.94-.94-2.06-.94 2.06-2.06.94zm-11 1L8.5 8.5l.94-2.06 2.06-.94-2.06-.94L8.5 2.5l-.94 2.06-2.06.94zm10 10l.94 2.06.94-2.06 2.06-.94-2.06-.94-.94-2.06-.94 2.06-2.06.94z\"/><path d=\"M17.41 7.96l-1.37-1.37c-.4-.4-.92-.59-1.43-.59-.52 0-1.04.2-1.43.59L10.3 9.45l-7.72 7.72c-.78.78-.78 2.05 0 2.83L4 21.41c.39.39.9.59 1.41.59.51 0 1.02-.2 1.41-.59l7.78-7.78 2.81-2.81c.8-.78.8-2.07 0-2.86zM5.41 20L4 18.59l7.72-7.72 1.47 1.35L5.41 20z\"/>\n",
              "  </svg>\n",
              "      </button>\n",
              "      \n",
              "  <style>\n",
              "    .colab-df-container {\n",
              "      display:flex;\n",
              "      flex-wrap:wrap;\n",
              "      gap: 12px;\n",
              "    }\n",
              "\n",
              "    .colab-df-convert {\n",
              "      background-color: #E8F0FE;\n",
              "      border: none;\n",
              "      border-radius: 50%;\n",
              "      cursor: pointer;\n",
              "      display: none;\n",
              "      fill: #1967D2;\n",
              "      height: 32px;\n",
              "      padding: 0 0 0 0;\n",
              "      width: 32px;\n",
              "    }\n",
              "\n",
              "    .colab-df-convert:hover {\n",
              "      background-color: #E2EBFA;\n",
              "      box-shadow: 0px 1px 2px rgba(60, 64, 67, 0.3), 0px 1px 3px 1px rgba(60, 64, 67, 0.15);\n",
              "      fill: #174EA6;\n",
              "    }\n",
              "\n",
              "    [theme=dark] .colab-df-convert {\n",
              "      background-color: #3B4455;\n",
              "      fill: #D2E3FC;\n",
              "    }\n",
              "\n",
              "    [theme=dark] .colab-df-convert:hover {\n",
              "      background-color: #434B5C;\n",
              "      box-shadow: 0px 1px 3px 1px rgba(0, 0, 0, 0.15);\n",
              "      filter: drop-shadow(0px 1px 2px rgba(0, 0, 0, 0.3));\n",
              "      fill: #FFFFFF;\n",
              "    }\n",
              "  </style>\n",
              "\n",
              "      <script>\n",
              "        const buttonEl =\n",
              "          document.querySelector('#df-c1fb3c0c-d351-46a9-9a62-2f5b39045eb4 button.colab-df-convert');\n",
              "        buttonEl.style.display =\n",
              "          google.colab.kernel.accessAllowed ? 'block' : 'none';\n",
              "\n",
              "        async function convertToInteractive(key) {\n",
              "          const element = document.querySelector('#df-c1fb3c0c-d351-46a9-9a62-2f5b39045eb4');\n",
              "          const dataTable =\n",
              "            await google.colab.kernel.invokeFunction('convertToInteractive',\n",
              "                                                     [key], {});\n",
              "          if (!dataTable) return;\n",
              "\n",
              "          const docLinkHtml = 'Like what you see? Visit the ' +\n",
              "            '<a target=\"_blank\" href=https://colab.research.google.com/notebooks/data_table.ipynb>data table notebook</a>'\n",
              "            + ' to learn more about interactive tables.';\n",
              "          element.innerHTML = '';\n",
              "          dataTable['output_type'] = 'display_data';\n",
              "          await google.colab.output.renderOutput(dataTable, element);\n",
              "          const docLink = document.createElement('div');\n",
              "          docLink.innerHTML = docLinkHtml;\n",
              "          element.appendChild(docLink);\n",
              "        }\n",
              "      </script>\n",
              "    </div>\n",
              "  </div>\n",
              "  "
            ]
          },
          "metadata": {},
          "execution_count": 19
        }
      ],
      "source": [
        "DadosBrasil2022"
      ]
    },
    {
      "cell_type": "markdown",
      "metadata": {
        "id": "Y6AZINgMnCAb"
      },
      "source": [
        "## Retirada de uma coluna não nula"
      ]
    },
    {
      "cell_type": "markdown",
      "metadata": {
        "id": "Szs2RctpH9ya"
      },
      "source": [
        "Nos dataframes do Brasil é possível perceber que a coluna 'coduf' não é nula, mas retorna o mesmo valor, que não serão necessário na análise, desse modo, pode-se retirar essa coluna do dataframe."
      ]
    },
    {
      "cell_type": "code",
      "execution_count": null,
      "metadata": {
        "id": "zCPUXw6kH9ya",
        "colab": {
          "base_uri": "https://localhost:8080/"
        },
        "outputId": "0da0bfa8-e094-422a-a9a6-3b2bcdcad87c"
      },
      "outputs": [
        {
          "output_type": "stream",
          "name": "stdout",
          "text": [
            "0      76\n",
            "1      76\n",
            "2      76\n",
            "3      76\n",
            "4      76\n",
            "       ..\n",
            "148    76\n",
            "149    76\n",
            "150    76\n",
            "151    76\n",
            "152    76\n",
            "Name: coduf, Length: 311, dtype: int64 0      76\n",
            "1      76\n",
            "2      76\n",
            "3      76\n",
            "4      76\n",
            "       ..\n",
            "179    76\n",
            "180    76\n",
            "181    76\n",
            "182    76\n",
            "183    76\n",
            "Name: coduf, Length: 365, dtype: int64 0      76\n",
            "1      76\n",
            "2      76\n",
            "3      76\n",
            "4      76\n",
            "       ..\n",
            "149    76\n",
            "150    76\n",
            "151    76\n",
            "152    76\n",
            "153    76\n",
            "Name: coduf, Length: 154, dtype: int64\n"
          ]
        }
      ],
      "source": [
        "print(DadosBrasil2020['coduf'],DadosBrasil2021['coduf'], DadosBrasil2022['coduf'])\n"
      ]
    },
    {
      "cell_type": "markdown",
      "metadata": {
        "id": "xKGJM7ZgH9ya"
      },
      "source": [
        "Então a coluna 'coduf' será removida dos dataframes"
      ]
    },
    {
      "cell_type": "code",
      "execution_count": 7,
      "metadata": {
        "id": "0eAWANeXH9yb"
      },
      "outputs": [],
      "source": [
        "DadosBrasil2020 = DadosBrasil2020.drop(columns=['coduf'])\n",
        "DadosBrasil2021 = DadosBrasil2021.drop(columns=['coduf'])\n",
        "DadosBrasil2022 = DadosBrasil2022.drop(columns=['coduf'])"
      ]
    },
    {
      "cell_type": "markdown",
      "metadata": {
        "id": "YytPzi5GD3fY"
      },
      "source": [
        "# Selecionando os dados das regiões do Brasil nos anos de 2020, 2021 e 2022."
      ]
    },
    {
      "cell_type": "code",
      "execution_count": 8,
      "metadata": {
        "id": "dCACCLz5EA9y"
      },
      "outputs": [],
      "source": [
        "RegioesBrasil2020 = covid2020[covid2020['regiao'] != 'Brasil']\n",
        "RegioesBrasil2021 = covid2021[covid2021['regiao'] != 'Brasil']\n",
        "RegioesBrasil2022 = covid2022[covid2022['regiao'] != 'Brasil']\n"
      ]
    },
    {
      "cell_type": "code",
      "execution_count": null,
      "metadata": {
        "id": "v9s2Kw6WHSx3",
        "colab": {
          "base_uri": "https://localhost:8080/",
          "height": 260
        },
        "outputId": "f3d03228-dc42-490b-b2a7-411227d71069"
      },
      "outputs": [
        {
          "output_type": "execute_result",
          "data": {
            "text/plain": [
              "    regiao estado municipio  coduf  codmun  codRegiaoSaude nomeRegiaoSaude  \\\n",
              "158  Norte     RO       NaN     11     NaN             NaN             NaN   \n",
              "159  Norte     RO       NaN     11     NaN             NaN             NaN   \n",
              "160  Norte     RO       NaN     11     NaN             NaN             NaN   \n",
              "\n",
              "           data  semanaEpi  populacaoTCU2019  casosAcumulado  casosNovos  \\\n",
              "158  2020-02-25          9         1777225.0               0           0   \n",
              "159  2020-02-26          9         1777225.0               0           0   \n",
              "160  2020-02-27          9         1777225.0               0           0   \n",
              "\n",
              "     obitosAcumulado  obitosNovos  Recuperadosnovos  emAcompanhamentoNovos  \\\n",
              "158                0            0               NaN                    NaN   \n",
              "159                0            0               NaN                    NaN   \n",
              "160                0            0               NaN                    NaN   \n",
              "\n",
              "     interior/metropolitana  \n",
              "158                     NaN  \n",
              "159                     NaN  \n",
              "160                     NaN  "
            ],
            "text/html": [
              "\n",
              "  <div id=\"df-71953eaa-dd87-4e4c-b5b3-4291d372e556\">\n",
              "    <div class=\"colab-df-container\">\n",
              "      <div>\n",
              "<style scoped>\n",
              "    .dataframe tbody tr th:only-of-type {\n",
              "        vertical-align: middle;\n",
              "    }\n",
              "\n",
              "    .dataframe tbody tr th {\n",
              "        vertical-align: top;\n",
              "    }\n",
              "\n",
              "    .dataframe thead th {\n",
              "        text-align: right;\n",
              "    }\n",
              "</style>\n",
              "<table border=\"1\" class=\"dataframe\">\n",
              "  <thead>\n",
              "    <tr style=\"text-align: right;\">\n",
              "      <th></th>\n",
              "      <th>regiao</th>\n",
              "      <th>estado</th>\n",
              "      <th>municipio</th>\n",
              "      <th>coduf</th>\n",
              "      <th>codmun</th>\n",
              "      <th>codRegiaoSaude</th>\n",
              "      <th>nomeRegiaoSaude</th>\n",
              "      <th>data</th>\n",
              "      <th>semanaEpi</th>\n",
              "      <th>populacaoTCU2019</th>\n",
              "      <th>casosAcumulado</th>\n",
              "      <th>casosNovos</th>\n",
              "      <th>obitosAcumulado</th>\n",
              "      <th>obitosNovos</th>\n",
              "      <th>Recuperadosnovos</th>\n",
              "      <th>emAcompanhamentoNovos</th>\n",
              "      <th>interior/metropolitana</th>\n",
              "    </tr>\n",
              "  </thead>\n",
              "  <tbody>\n",
              "    <tr>\n",
              "      <th>158</th>\n",
              "      <td>Norte</td>\n",
              "      <td>RO</td>\n",
              "      <td>NaN</td>\n",
              "      <td>11</td>\n",
              "      <td>NaN</td>\n",
              "      <td>NaN</td>\n",
              "      <td>NaN</td>\n",
              "      <td>2020-02-25</td>\n",
              "      <td>9</td>\n",
              "      <td>1777225.0</td>\n",
              "      <td>0</td>\n",
              "      <td>0</td>\n",
              "      <td>0</td>\n",
              "      <td>0</td>\n",
              "      <td>NaN</td>\n",
              "      <td>NaN</td>\n",
              "      <td>NaN</td>\n",
              "    </tr>\n",
              "    <tr>\n",
              "      <th>159</th>\n",
              "      <td>Norte</td>\n",
              "      <td>RO</td>\n",
              "      <td>NaN</td>\n",
              "      <td>11</td>\n",
              "      <td>NaN</td>\n",
              "      <td>NaN</td>\n",
              "      <td>NaN</td>\n",
              "      <td>2020-02-26</td>\n",
              "      <td>9</td>\n",
              "      <td>1777225.0</td>\n",
              "      <td>0</td>\n",
              "      <td>0</td>\n",
              "      <td>0</td>\n",
              "      <td>0</td>\n",
              "      <td>NaN</td>\n",
              "      <td>NaN</td>\n",
              "      <td>NaN</td>\n",
              "    </tr>\n",
              "    <tr>\n",
              "      <th>160</th>\n",
              "      <td>Norte</td>\n",
              "      <td>RO</td>\n",
              "      <td>NaN</td>\n",
              "      <td>11</td>\n",
              "      <td>NaN</td>\n",
              "      <td>NaN</td>\n",
              "      <td>NaN</td>\n",
              "      <td>2020-02-27</td>\n",
              "      <td>9</td>\n",
              "      <td>1777225.0</td>\n",
              "      <td>0</td>\n",
              "      <td>0</td>\n",
              "      <td>0</td>\n",
              "      <td>0</td>\n",
              "      <td>NaN</td>\n",
              "      <td>NaN</td>\n",
              "      <td>NaN</td>\n",
              "    </tr>\n",
              "  </tbody>\n",
              "</table>\n",
              "</div>\n",
              "      <button class=\"colab-df-convert\" onclick=\"convertToInteractive('df-71953eaa-dd87-4e4c-b5b3-4291d372e556')\"\n",
              "              title=\"Convert this dataframe to an interactive table.\"\n",
              "              style=\"display:none;\">\n",
              "        \n",
              "  <svg xmlns=\"http://www.w3.org/2000/svg\" height=\"24px\"viewBox=\"0 0 24 24\"\n",
              "       width=\"24px\">\n",
              "    <path d=\"M0 0h24v24H0V0z\" fill=\"none\"/>\n",
              "    <path d=\"M18.56 5.44l.94 2.06.94-2.06 2.06-.94-2.06-.94-.94-2.06-.94 2.06-2.06.94zm-11 1L8.5 8.5l.94-2.06 2.06-.94-2.06-.94L8.5 2.5l-.94 2.06-2.06.94zm10 10l.94 2.06.94-2.06 2.06-.94-2.06-.94-.94-2.06-.94 2.06-2.06.94z\"/><path d=\"M17.41 7.96l-1.37-1.37c-.4-.4-.92-.59-1.43-.59-.52 0-1.04.2-1.43.59L10.3 9.45l-7.72 7.72c-.78.78-.78 2.05 0 2.83L4 21.41c.39.39.9.59 1.41.59.51 0 1.02-.2 1.41-.59l7.78-7.78 2.81-2.81c.8-.78.8-2.07 0-2.86zM5.41 20L4 18.59l7.72-7.72 1.47 1.35L5.41 20z\"/>\n",
              "  </svg>\n",
              "      </button>\n",
              "      \n",
              "  <style>\n",
              "    .colab-df-container {\n",
              "      display:flex;\n",
              "      flex-wrap:wrap;\n",
              "      gap: 12px;\n",
              "    }\n",
              "\n",
              "    .colab-df-convert {\n",
              "      background-color: #E8F0FE;\n",
              "      border: none;\n",
              "      border-radius: 50%;\n",
              "      cursor: pointer;\n",
              "      display: none;\n",
              "      fill: #1967D2;\n",
              "      height: 32px;\n",
              "      padding: 0 0 0 0;\n",
              "      width: 32px;\n",
              "    }\n",
              "\n",
              "    .colab-df-convert:hover {\n",
              "      background-color: #E2EBFA;\n",
              "      box-shadow: 0px 1px 2px rgba(60, 64, 67, 0.3), 0px 1px 3px 1px rgba(60, 64, 67, 0.15);\n",
              "      fill: #174EA6;\n",
              "    }\n",
              "\n",
              "    [theme=dark] .colab-df-convert {\n",
              "      background-color: #3B4455;\n",
              "      fill: #D2E3FC;\n",
              "    }\n",
              "\n",
              "    [theme=dark] .colab-df-convert:hover {\n",
              "      background-color: #434B5C;\n",
              "      box-shadow: 0px 1px 3px 1px rgba(0, 0, 0, 0.15);\n",
              "      filter: drop-shadow(0px 1px 2px rgba(0, 0, 0, 0.3));\n",
              "      fill: #FFFFFF;\n",
              "    }\n",
              "  </style>\n",
              "\n",
              "      <script>\n",
              "        const buttonEl =\n",
              "          document.querySelector('#df-71953eaa-dd87-4e4c-b5b3-4291d372e556 button.colab-df-convert');\n",
              "        buttonEl.style.display =\n",
              "          google.colab.kernel.accessAllowed ? 'block' : 'none';\n",
              "\n",
              "        async function convertToInteractive(key) {\n",
              "          const element = document.querySelector('#df-71953eaa-dd87-4e4c-b5b3-4291d372e556');\n",
              "          const dataTable =\n",
              "            await google.colab.kernel.invokeFunction('convertToInteractive',\n",
              "                                                     [key], {});\n",
              "          if (!dataTable) return;\n",
              "\n",
              "          const docLinkHtml = 'Like what you see? Visit the ' +\n",
              "            '<a target=\"_blank\" href=https://colab.research.google.com/notebooks/data_table.ipynb>data table notebook</a>'\n",
              "            + ' to learn more about interactive tables.';\n",
              "          element.innerHTML = '';\n",
              "          dataTable['output_type'] = 'display_data';\n",
              "          await google.colab.output.renderOutput(dataTable, element);\n",
              "          const docLink = document.createElement('div');\n",
              "          docLink.innerHTML = docLinkHtml;\n",
              "          element.appendChild(docLink);\n",
              "        }\n",
              "      </script>\n",
              "    </div>\n",
              "  </div>\n",
              "  "
            ]
          },
          "metadata": {},
          "execution_count": 23
        }
      ],
      "source": [
        "RegioesBrasil2020.head(3)"
      ]
    },
    {
      "cell_type": "code",
      "execution_count": 9,
      "metadata": {
        "id": "AeVCy1SDLoH3"
      },
      "outputs": [],
      "source": [
        "def transf(valor):\n",
        "  if valor < 0:\n",
        "    return 0\n",
        "  else:\n",
        "    return valor"
      ]
    },
    {
      "cell_type": "code",
      "execution_count": 10,
      "metadata": {
        "id": "KWiMhGSSLq1J",
        "colab": {
          "base_uri": "https://localhost:8080/"
        },
        "outputId": "cf24016b-8ec7-4b3c-9362-a7888f214dc8"
      },
      "outputs": [
        {
          "output_type": "stream",
          "name": "stderr",
          "text": [
            "/usr/local/lib/python3.7/dist-packages/ipykernel_launcher.py:1: SettingWithCopyWarning: \n",
            "A value is trying to be set on a copy of a slice from a DataFrame.\n",
            "Try using .loc[row_indexer,col_indexer] = value instead\n",
            "\n",
            "See the caveats in the documentation: https://pandas.pydata.org/pandas-docs/stable/user_guide/indexing.html#returning-a-view-versus-a-copy\n",
            "  \"\"\"Entry point for launching an IPython kernel.\n",
            "/usr/local/lib/python3.7/dist-packages/ipykernel_launcher.py:2: SettingWithCopyWarning: \n",
            "A value is trying to be set on a copy of a slice from a DataFrame.\n",
            "Try using .loc[row_indexer,col_indexer] = value instead\n",
            "\n",
            "See the caveats in the documentation: https://pandas.pydata.org/pandas-docs/stable/user_guide/indexing.html#returning-a-view-versus-a-copy\n",
            "  \n"
          ]
        }
      ],
      "source": [
        "RegioesBrasil2020['casosNovos'] = RegioesBrasil2020['casosNovos'].apply(lambda x: transf(x))\n",
        "RegioesBrasil2020['obitosNovos'] = RegioesBrasil2020['obitosNovos'].apply(lambda x: transf(x))"
      ]
    },
    {
      "cell_type": "code",
      "execution_count": 11,
      "metadata": {
        "id": "FEvyxQVsXh5m",
        "colab": {
          "base_uri": "https://localhost:8080/"
        },
        "outputId": "27c3a290-73db-433a-94f0-762fcd6b855a"
      },
      "outputs": [
        {
          "output_type": "stream",
          "name": "stderr",
          "text": [
            "/usr/local/lib/python3.7/dist-packages/ipykernel_launcher.py:1: SettingWithCopyWarning: \n",
            "A value is trying to be set on a copy of a slice from a DataFrame.\n",
            "Try using .loc[row_indexer,col_indexer] = value instead\n",
            "\n",
            "See the caveats in the documentation: https://pandas.pydata.org/pandas-docs/stable/user_guide/indexing.html#returning-a-view-versus-a-copy\n",
            "  \"\"\"Entry point for launching an IPython kernel.\n",
            "/usr/local/lib/python3.7/dist-packages/ipykernel_launcher.py:2: SettingWithCopyWarning: \n",
            "A value is trying to be set on a copy of a slice from a DataFrame.\n",
            "Try using .loc[row_indexer,col_indexer] = value instead\n",
            "\n",
            "See the caveats in the documentation: https://pandas.pydata.org/pandas-docs/stable/user_guide/indexing.html#returning-a-view-versus-a-copy\n",
            "  \n"
          ]
        }
      ],
      "source": [
        "RegioesBrasil2021['casosNovos'] = RegioesBrasil2021['casosNovos'].apply(lambda x: transf(x))\n",
        "RegioesBrasil2021['obitosNovos'] = RegioesBrasil2021['obitosNovos'].apply(lambda x: transf(x))"
      ]
    },
    {
      "cell_type": "code",
      "execution_count": 12,
      "metadata": {
        "id": "yk7xCxwAXkv-",
        "colab": {
          "base_uri": "https://localhost:8080/"
        },
        "outputId": "9330e1e6-b6e7-4554-cbcc-cdce33a78741"
      },
      "outputs": [
        {
          "output_type": "stream",
          "name": "stderr",
          "text": [
            "/usr/local/lib/python3.7/dist-packages/ipykernel_launcher.py:1: SettingWithCopyWarning: \n",
            "A value is trying to be set on a copy of a slice from a DataFrame.\n",
            "Try using .loc[row_indexer,col_indexer] = value instead\n",
            "\n",
            "See the caveats in the documentation: https://pandas.pydata.org/pandas-docs/stable/user_guide/indexing.html#returning-a-view-versus-a-copy\n",
            "  \"\"\"Entry point for launching an IPython kernel.\n",
            "/usr/local/lib/python3.7/dist-packages/ipykernel_launcher.py:2: SettingWithCopyWarning: \n",
            "A value is trying to be set on a copy of a slice from a DataFrame.\n",
            "Try using .loc[row_indexer,col_indexer] = value instead\n",
            "\n",
            "See the caveats in the documentation: https://pandas.pydata.org/pandas-docs/stable/user_guide/indexing.html#returning-a-view-versus-a-copy\n",
            "  \n"
          ]
        }
      ],
      "source": [
        "RegioesBrasil2022['casosNovos'] = RegioesBrasil2022['casosNovos'].apply(lambda x: transf(x))\n",
        "RegioesBrasil2022['obitosNovos'] = RegioesBrasil2022['obitosNovos'].apply(lambda x: transf(x))"
      ]
    },
    {
      "cell_type": "code",
      "execution_count": 13,
      "metadata": {
        "id": "MB4qGYoUYAqJ"
      },
      "outputs": [],
      "source": [
        "DadosBrasil2020['casosNovos'] = DadosBrasil2020['casosNovos'].apply(lambda x: transf(x))\n",
        "DadosBrasil2021['casosNovos'] = DadosBrasil2021['casosNovos'].apply(lambda x: transf(x))\n",
        "DadosBrasil2022['casosNovos'] = DadosBrasil2022['casosNovos'].apply(lambda x: transf(x))\n",
        "DadosBrasil2020['obitosNovos'] = RegioesBrasil2022['obitosNovos'].apply(lambda x: transf(x))"
      ]
    },
    {
      "cell_type": "markdown",
      "metadata": {
        "id": "J1QOoVLLRvaF"
      },
      "source": [
        "# Regiões do Brasil em 2020"
      ]
    },
    {
      "cell_type": "code",
      "execution_count": null,
      "metadata": {
        "id": "6mVyE_8kH9yc",
        "colab": {
          "base_uri": "https://localhost:8080/",
          "height": 661
        },
        "outputId": "c05ef8fa-7249-4f19-daaf-cfff70ec535b"
      },
      "outputs": [
        {
          "output_type": "execute_result",
          "data": {
            "text/plain": [
              "              regiao estado municipio  coduf    codmun  codRegiaoSaude  \\\n",
              "158            Norte     RO       NaN     11       NaN             NaN   \n",
              "159            Norte     RO       NaN     11       NaN             NaN   \n",
              "160            Norte     RO       NaN     11       NaN             NaN   \n",
              "161            Norte     RO       NaN     11       NaN             NaN   \n",
              "162            Norte     RO       NaN     11       NaN             NaN   \n",
              "...              ...    ...       ...    ...       ...             ...   \n",
              "859702  Centro-Oeste     DF  Brasília     53  530010.0         53001.0   \n",
              "859703  Centro-Oeste     DF  Brasília     53  530010.0         53001.0   \n",
              "859704  Centro-Oeste     DF  Brasília     53  530010.0         53001.0   \n",
              "859705  Centro-Oeste     DF  Brasília     53  530010.0         53001.0   \n",
              "859706  Centro-Oeste     DF  Brasília     53  530010.0         53001.0   \n",
              "\n",
              "         nomeRegiaoSaude        data  semanaEpi  populacaoTCU2019  \\\n",
              "158                  NaN  2020-02-25          9         1777225.0   \n",
              "159                  NaN  2020-02-26          9         1777225.0   \n",
              "160                  NaN  2020-02-27          9         1777225.0   \n",
              "161                  NaN  2020-02-28          9         1777225.0   \n",
              "162                  NaN  2020-02-29          9         1777225.0   \n",
              "...                  ...         ...        ...               ...   \n",
              "859702  DISTRITO FEDERAL  2020-12-27         53         3015268.0   \n",
              "859703  DISTRITO FEDERAL  2020-12-28         53         3015268.0   \n",
              "859704  DISTRITO FEDERAL  2020-12-29         53         3015268.0   \n",
              "859705  DISTRITO FEDERAL  2020-12-30         53         3015268.0   \n",
              "859706  DISTRITO FEDERAL  2020-12-31         53         3015268.0   \n",
              "\n",
              "        casosAcumulado  casosNovos  obitosAcumulado  obitosNovos  \\\n",
              "158                  0           0                0            0   \n",
              "159                  0           0                0            0   \n",
              "160                  0           0                0            0   \n",
              "161                  0           0                0            0   \n",
              "162                  0           0                0            0   \n",
              "...                ...         ...              ...          ...   \n",
              "859702          248543         615             4201            3   \n",
              "859703          249736        1193             4223           22   \n",
              "859704          250457         721             4241           18   \n",
              "859705          251135         678             4248            7   \n",
              "859706          251701         566             4259           11   \n",
              "\n",
              "        Recuperadosnovos  emAcompanhamentoNovos  interior/metropolitana  \n",
              "158                  NaN                    NaN                     NaN  \n",
              "159                  NaN                    NaN                     NaN  \n",
              "160                  NaN                    NaN                     NaN  \n",
              "161                  NaN                    NaN                     NaN  \n",
              "162                  NaN                    NaN                     NaN  \n",
              "...                  ...                    ...                     ...  \n",
              "859702               NaN                    NaN                     1.0  \n",
              "859703               NaN                    NaN                     1.0  \n",
              "859704               NaN                    NaN                     1.0  \n",
              "859705               NaN                    NaN                     1.0  \n",
              "859706               NaN                    NaN                     1.0  \n",
              "\n",
              "[1573877 rows x 17 columns]"
            ],
            "text/html": [
              "\n",
              "  <div id=\"df-9cc7403b-636a-4891-b00e-96996a57e6ac\">\n",
              "    <div class=\"colab-df-container\">\n",
              "      <div>\n",
              "<style scoped>\n",
              "    .dataframe tbody tr th:only-of-type {\n",
              "        vertical-align: middle;\n",
              "    }\n",
              "\n",
              "    .dataframe tbody tr th {\n",
              "        vertical-align: top;\n",
              "    }\n",
              "\n",
              "    .dataframe thead th {\n",
              "        text-align: right;\n",
              "    }\n",
              "</style>\n",
              "<table border=\"1\" class=\"dataframe\">\n",
              "  <thead>\n",
              "    <tr style=\"text-align: right;\">\n",
              "      <th></th>\n",
              "      <th>regiao</th>\n",
              "      <th>estado</th>\n",
              "      <th>municipio</th>\n",
              "      <th>coduf</th>\n",
              "      <th>codmun</th>\n",
              "      <th>codRegiaoSaude</th>\n",
              "      <th>nomeRegiaoSaude</th>\n",
              "      <th>data</th>\n",
              "      <th>semanaEpi</th>\n",
              "      <th>populacaoTCU2019</th>\n",
              "      <th>casosAcumulado</th>\n",
              "      <th>casosNovos</th>\n",
              "      <th>obitosAcumulado</th>\n",
              "      <th>obitosNovos</th>\n",
              "      <th>Recuperadosnovos</th>\n",
              "      <th>emAcompanhamentoNovos</th>\n",
              "      <th>interior/metropolitana</th>\n",
              "    </tr>\n",
              "  </thead>\n",
              "  <tbody>\n",
              "    <tr>\n",
              "      <th>158</th>\n",
              "      <td>Norte</td>\n",
              "      <td>RO</td>\n",
              "      <td>NaN</td>\n",
              "      <td>11</td>\n",
              "      <td>NaN</td>\n",
              "      <td>NaN</td>\n",
              "      <td>NaN</td>\n",
              "      <td>2020-02-25</td>\n",
              "      <td>9</td>\n",
              "      <td>1777225.0</td>\n",
              "      <td>0</td>\n",
              "      <td>0</td>\n",
              "      <td>0</td>\n",
              "      <td>0</td>\n",
              "      <td>NaN</td>\n",
              "      <td>NaN</td>\n",
              "      <td>NaN</td>\n",
              "    </tr>\n",
              "    <tr>\n",
              "      <th>159</th>\n",
              "      <td>Norte</td>\n",
              "      <td>RO</td>\n",
              "      <td>NaN</td>\n",
              "      <td>11</td>\n",
              "      <td>NaN</td>\n",
              "      <td>NaN</td>\n",
              "      <td>NaN</td>\n",
              "      <td>2020-02-26</td>\n",
              "      <td>9</td>\n",
              "      <td>1777225.0</td>\n",
              "      <td>0</td>\n",
              "      <td>0</td>\n",
              "      <td>0</td>\n",
              "      <td>0</td>\n",
              "      <td>NaN</td>\n",
              "      <td>NaN</td>\n",
              "      <td>NaN</td>\n",
              "    </tr>\n",
              "    <tr>\n",
              "      <th>160</th>\n",
              "      <td>Norte</td>\n",
              "      <td>RO</td>\n",
              "      <td>NaN</td>\n",
              "      <td>11</td>\n",
              "      <td>NaN</td>\n",
              "      <td>NaN</td>\n",
              "      <td>NaN</td>\n",
              "      <td>2020-02-27</td>\n",
              "      <td>9</td>\n",
              "      <td>1777225.0</td>\n",
              "      <td>0</td>\n",
              "      <td>0</td>\n",
              "      <td>0</td>\n",
              "      <td>0</td>\n",
              "      <td>NaN</td>\n",
              "      <td>NaN</td>\n",
              "      <td>NaN</td>\n",
              "    </tr>\n",
              "    <tr>\n",
              "      <th>161</th>\n",
              "      <td>Norte</td>\n",
              "      <td>RO</td>\n",
              "      <td>NaN</td>\n",
              "      <td>11</td>\n",
              "      <td>NaN</td>\n",
              "      <td>NaN</td>\n",
              "      <td>NaN</td>\n",
              "      <td>2020-02-28</td>\n",
              "      <td>9</td>\n",
              "      <td>1777225.0</td>\n",
              "      <td>0</td>\n",
              "      <td>0</td>\n",
              "      <td>0</td>\n",
              "      <td>0</td>\n",
              "      <td>NaN</td>\n",
              "      <td>NaN</td>\n",
              "      <td>NaN</td>\n",
              "    </tr>\n",
              "    <tr>\n",
              "      <th>162</th>\n",
              "      <td>Norte</td>\n",
              "      <td>RO</td>\n",
              "      <td>NaN</td>\n",
              "      <td>11</td>\n",
              "      <td>NaN</td>\n",
              "      <td>NaN</td>\n",
              "      <td>NaN</td>\n",
              "      <td>2020-02-29</td>\n",
              "      <td>9</td>\n",
              "      <td>1777225.0</td>\n",
              "      <td>0</td>\n",
              "      <td>0</td>\n",
              "      <td>0</td>\n",
              "      <td>0</td>\n",
              "      <td>NaN</td>\n",
              "      <td>NaN</td>\n",
              "      <td>NaN</td>\n",
              "    </tr>\n",
              "    <tr>\n",
              "      <th>...</th>\n",
              "      <td>...</td>\n",
              "      <td>...</td>\n",
              "      <td>...</td>\n",
              "      <td>...</td>\n",
              "      <td>...</td>\n",
              "      <td>...</td>\n",
              "      <td>...</td>\n",
              "      <td>...</td>\n",
              "      <td>...</td>\n",
              "      <td>...</td>\n",
              "      <td>...</td>\n",
              "      <td>...</td>\n",
              "      <td>...</td>\n",
              "      <td>...</td>\n",
              "      <td>...</td>\n",
              "      <td>...</td>\n",
              "      <td>...</td>\n",
              "    </tr>\n",
              "    <tr>\n",
              "      <th>859702</th>\n",
              "      <td>Centro-Oeste</td>\n",
              "      <td>DF</td>\n",
              "      <td>Brasília</td>\n",
              "      <td>53</td>\n",
              "      <td>530010.0</td>\n",
              "      <td>53001.0</td>\n",
              "      <td>DISTRITO FEDERAL</td>\n",
              "      <td>2020-12-27</td>\n",
              "      <td>53</td>\n",
              "      <td>3015268.0</td>\n",
              "      <td>248543</td>\n",
              "      <td>615</td>\n",
              "      <td>4201</td>\n",
              "      <td>3</td>\n",
              "      <td>NaN</td>\n",
              "      <td>NaN</td>\n",
              "      <td>1.0</td>\n",
              "    </tr>\n",
              "    <tr>\n",
              "      <th>859703</th>\n",
              "      <td>Centro-Oeste</td>\n",
              "      <td>DF</td>\n",
              "      <td>Brasília</td>\n",
              "      <td>53</td>\n",
              "      <td>530010.0</td>\n",
              "      <td>53001.0</td>\n",
              "      <td>DISTRITO FEDERAL</td>\n",
              "      <td>2020-12-28</td>\n",
              "      <td>53</td>\n",
              "      <td>3015268.0</td>\n",
              "      <td>249736</td>\n",
              "      <td>1193</td>\n",
              "      <td>4223</td>\n",
              "      <td>22</td>\n",
              "      <td>NaN</td>\n",
              "      <td>NaN</td>\n",
              "      <td>1.0</td>\n",
              "    </tr>\n",
              "    <tr>\n",
              "      <th>859704</th>\n",
              "      <td>Centro-Oeste</td>\n",
              "      <td>DF</td>\n",
              "      <td>Brasília</td>\n",
              "      <td>53</td>\n",
              "      <td>530010.0</td>\n",
              "      <td>53001.0</td>\n",
              "      <td>DISTRITO FEDERAL</td>\n",
              "      <td>2020-12-29</td>\n",
              "      <td>53</td>\n",
              "      <td>3015268.0</td>\n",
              "      <td>250457</td>\n",
              "      <td>721</td>\n",
              "      <td>4241</td>\n",
              "      <td>18</td>\n",
              "      <td>NaN</td>\n",
              "      <td>NaN</td>\n",
              "      <td>1.0</td>\n",
              "    </tr>\n",
              "    <tr>\n",
              "      <th>859705</th>\n",
              "      <td>Centro-Oeste</td>\n",
              "      <td>DF</td>\n",
              "      <td>Brasília</td>\n",
              "      <td>53</td>\n",
              "      <td>530010.0</td>\n",
              "      <td>53001.0</td>\n",
              "      <td>DISTRITO FEDERAL</td>\n",
              "      <td>2020-12-30</td>\n",
              "      <td>53</td>\n",
              "      <td>3015268.0</td>\n",
              "      <td>251135</td>\n",
              "      <td>678</td>\n",
              "      <td>4248</td>\n",
              "      <td>7</td>\n",
              "      <td>NaN</td>\n",
              "      <td>NaN</td>\n",
              "      <td>1.0</td>\n",
              "    </tr>\n",
              "    <tr>\n",
              "      <th>859706</th>\n",
              "      <td>Centro-Oeste</td>\n",
              "      <td>DF</td>\n",
              "      <td>Brasília</td>\n",
              "      <td>53</td>\n",
              "      <td>530010.0</td>\n",
              "      <td>53001.0</td>\n",
              "      <td>DISTRITO FEDERAL</td>\n",
              "      <td>2020-12-31</td>\n",
              "      <td>53</td>\n",
              "      <td>3015268.0</td>\n",
              "      <td>251701</td>\n",
              "      <td>566</td>\n",
              "      <td>4259</td>\n",
              "      <td>11</td>\n",
              "      <td>NaN</td>\n",
              "      <td>NaN</td>\n",
              "      <td>1.0</td>\n",
              "    </tr>\n",
              "  </tbody>\n",
              "</table>\n",
              "<p>1573877 rows × 17 columns</p>\n",
              "</div>\n",
              "      <button class=\"colab-df-convert\" onclick=\"convertToInteractive('df-9cc7403b-636a-4891-b00e-96996a57e6ac')\"\n",
              "              title=\"Convert this dataframe to an interactive table.\"\n",
              "              style=\"display:none;\">\n",
              "        \n",
              "  <svg xmlns=\"http://www.w3.org/2000/svg\" height=\"24px\"viewBox=\"0 0 24 24\"\n",
              "       width=\"24px\">\n",
              "    <path d=\"M0 0h24v24H0V0z\" fill=\"none\"/>\n",
              "    <path d=\"M18.56 5.44l.94 2.06.94-2.06 2.06-.94-2.06-.94-.94-2.06-.94 2.06-2.06.94zm-11 1L8.5 8.5l.94-2.06 2.06-.94-2.06-.94L8.5 2.5l-.94 2.06-2.06.94zm10 10l.94 2.06.94-2.06 2.06-.94-2.06-.94-.94-2.06-.94 2.06-2.06.94z\"/><path d=\"M17.41 7.96l-1.37-1.37c-.4-.4-.92-.59-1.43-.59-.52 0-1.04.2-1.43.59L10.3 9.45l-7.72 7.72c-.78.78-.78 2.05 0 2.83L4 21.41c.39.39.9.59 1.41.59.51 0 1.02-.2 1.41-.59l7.78-7.78 2.81-2.81c.8-.78.8-2.07 0-2.86zM5.41 20L4 18.59l7.72-7.72 1.47 1.35L5.41 20z\"/>\n",
              "  </svg>\n",
              "      </button>\n",
              "      \n",
              "  <style>\n",
              "    .colab-df-container {\n",
              "      display:flex;\n",
              "      flex-wrap:wrap;\n",
              "      gap: 12px;\n",
              "    }\n",
              "\n",
              "    .colab-df-convert {\n",
              "      background-color: #E8F0FE;\n",
              "      border: none;\n",
              "      border-radius: 50%;\n",
              "      cursor: pointer;\n",
              "      display: none;\n",
              "      fill: #1967D2;\n",
              "      height: 32px;\n",
              "      padding: 0 0 0 0;\n",
              "      width: 32px;\n",
              "    }\n",
              "\n",
              "    .colab-df-convert:hover {\n",
              "      background-color: #E2EBFA;\n",
              "      box-shadow: 0px 1px 2px rgba(60, 64, 67, 0.3), 0px 1px 3px 1px rgba(60, 64, 67, 0.15);\n",
              "      fill: #174EA6;\n",
              "    }\n",
              "\n",
              "    [theme=dark] .colab-df-convert {\n",
              "      background-color: #3B4455;\n",
              "      fill: #D2E3FC;\n",
              "    }\n",
              "\n",
              "    [theme=dark] .colab-df-convert:hover {\n",
              "      background-color: #434B5C;\n",
              "      box-shadow: 0px 1px 3px 1px rgba(0, 0, 0, 0.15);\n",
              "      filter: drop-shadow(0px 1px 2px rgba(0, 0, 0, 0.3));\n",
              "      fill: #FFFFFF;\n",
              "    }\n",
              "  </style>\n",
              "\n",
              "      <script>\n",
              "        const buttonEl =\n",
              "          document.querySelector('#df-9cc7403b-636a-4891-b00e-96996a57e6ac button.colab-df-convert');\n",
              "        buttonEl.style.display =\n",
              "          google.colab.kernel.accessAllowed ? 'block' : 'none';\n",
              "\n",
              "        async function convertToInteractive(key) {\n",
              "          const element = document.querySelector('#df-9cc7403b-636a-4891-b00e-96996a57e6ac');\n",
              "          const dataTable =\n",
              "            await google.colab.kernel.invokeFunction('convertToInteractive',\n",
              "                                                     [key], {});\n",
              "          if (!dataTable) return;\n",
              "\n",
              "          const docLinkHtml = 'Like what you see? Visit the ' +\n",
              "            '<a target=\"_blank\" href=https://colab.research.google.com/notebooks/data_table.ipynb>data table notebook</a>'\n",
              "            + ' to learn more about interactive tables.';\n",
              "          element.innerHTML = '';\n",
              "          dataTable['output_type'] = 'display_data';\n",
              "          await google.colab.output.renderOutput(dataTable, element);\n",
              "          const docLink = document.createElement('div');\n",
              "          docLink.innerHTML = docLinkHtml;\n",
              "          element.appendChild(docLink);\n",
              "        }\n",
              "      </script>\n",
              "    </div>\n",
              "  </div>\n",
              "  "
            ]
          },
          "metadata": {},
          "execution_count": 29
        }
      ],
      "source": [
        "RegioesBrasil2020"
      ]
    },
    {
      "cell_type": "markdown",
      "metadata": {
        "id": "dx3fsJEYR079"
      },
      "source": [
        "# Regiões do Brasil em 2021"
      ]
    },
    {
      "cell_type": "code",
      "execution_count": null,
      "metadata": {
        "id": "23cG_LVnH9yc",
        "colab": {
          "base_uri": "https://localhost:8080/",
          "height": 661
        },
        "outputId": "4c4a5c76-9559-46ed-958d-32b64ba41423"
      },
      "outputs": [
        {
          "output_type": "execute_result",
          "data": {
            "text/plain": [
              "               regiao estado municipio  coduf    codmun  codRegiaoSaude  \\\n",
              "181             Norte     RO       NaN     11       NaN             NaN   \n",
              "182             Norte     RO       NaN     11       NaN             NaN   \n",
              "183             Norte     RO       NaN     11       NaN             NaN   \n",
              "184             Norte     RO       NaN     11       NaN             NaN   \n",
              "185             Norte     RO       NaN     11       NaN             NaN   \n",
              "...               ...    ...       ...    ...       ...             ...   \n",
              "1033891  Centro-Oeste     DF  Brasília     53  530010.0         53001.0   \n",
              "1033892  Centro-Oeste     DF  Brasília     53  530010.0         53001.0   \n",
              "1033893  Centro-Oeste     DF  Brasília     53  530010.0         53001.0   \n",
              "1033894  Centro-Oeste     DF  Brasília     53  530010.0         53001.0   \n",
              "1033895  Centro-Oeste     DF  Brasília     53  530010.0         53001.0   \n",
              "\n",
              "          nomeRegiaoSaude        data  semanaEpi  populacaoTCU2019  \\\n",
              "181                   NaN  2021-01-01         53         1777225.0   \n",
              "182                   NaN  2021-01-02         53         1777225.0   \n",
              "183                   NaN  2021-01-03          1         1777225.0   \n",
              "184                   NaN  2021-01-04          1         1777225.0   \n",
              "185                   NaN  2021-01-05          1         1777225.0   \n",
              "...                   ...         ...        ...               ...   \n",
              "1033891  DISTRITO FEDERAL  2021-12-27         52         3015268.0   \n",
              "1033892  DISTRITO FEDERAL  2021-12-28         52         3015268.0   \n",
              "1033893  DISTRITO FEDERAL  2021-12-29         52         3015268.0   \n",
              "1033894  DISTRITO FEDERAL  2021-12-30         52         3015268.0   \n",
              "1033895  DISTRITO FEDERAL  2021-12-31         52         3015268.0   \n",
              "\n",
              "         casosAcumulado  casosNovos  obitosAcumulado  obitosNovos  \\\n",
              "181             95999.0         270             1822            5   \n",
              "182             96433.0         434             1825            3   \n",
              "183             96906.0         473             1832            7   \n",
              "184             97197.0         291             1840            8   \n",
              "185             97854.0         657             1852           12   \n",
              "...                 ...         ...              ...          ...   \n",
              "1033891        519103.0         225            11100            5   \n",
              "1033892        519196.0          93            11104            4   \n",
              "1033893        519346.0         150            11105            1   \n",
              "1033894        519546.0         200            11107            2   \n",
              "1033895        519811.0         265            11108            1   \n",
              "\n",
              "         Recuperadosnovos  emAcompanhamentoNovos  interior/metropolitana  \n",
              "181                   NaN                    NaN                     NaN  \n",
              "182                   NaN                    NaN                     NaN  \n",
              "183                   NaN                    NaN                     NaN  \n",
              "184                   NaN                    NaN                     NaN  \n",
              "185                   NaN                    NaN                     NaN  \n",
              "...                   ...                    ...                     ...  \n",
              "1033891               NaN                    NaN                     1.0  \n",
              "1033892               NaN                    NaN                     1.0  \n",
              "1033893               NaN                    NaN                     1.0  \n",
              "1033894               NaN                    NaN                     1.0  \n",
              "1033895               NaN                    NaN                     1.0  \n",
              "\n",
              "[2050570 rows x 17 columns]"
            ],
            "text/html": [
              "\n",
              "  <div id=\"df-87aa50ae-e167-4171-89cb-df98df998c7a\">\n",
              "    <div class=\"colab-df-container\">\n",
              "      <div>\n",
              "<style scoped>\n",
              "    .dataframe tbody tr th:only-of-type {\n",
              "        vertical-align: middle;\n",
              "    }\n",
              "\n",
              "    .dataframe tbody tr th {\n",
              "        vertical-align: top;\n",
              "    }\n",
              "\n",
              "    .dataframe thead th {\n",
              "        text-align: right;\n",
              "    }\n",
              "</style>\n",
              "<table border=\"1\" class=\"dataframe\">\n",
              "  <thead>\n",
              "    <tr style=\"text-align: right;\">\n",
              "      <th></th>\n",
              "      <th>regiao</th>\n",
              "      <th>estado</th>\n",
              "      <th>municipio</th>\n",
              "      <th>coduf</th>\n",
              "      <th>codmun</th>\n",
              "      <th>codRegiaoSaude</th>\n",
              "      <th>nomeRegiaoSaude</th>\n",
              "      <th>data</th>\n",
              "      <th>semanaEpi</th>\n",
              "      <th>populacaoTCU2019</th>\n",
              "      <th>casosAcumulado</th>\n",
              "      <th>casosNovos</th>\n",
              "      <th>obitosAcumulado</th>\n",
              "      <th>obitosNovos</th>\n",
              "      <th>Recuperadosnovos</th>\n",
              "      <th>emAcompanhamentoNovos</th>\n",
              "      <th>interior/metropolitana</th>\n",
              "    </tr>\n",
              "  </thead>\n",
              "  <tbody>\n",
              "    <tr>\n",
              "      <th>181</th>\n",
              "      <td>Norte</td>\n",
              "      <td>RO</td>\n",
              "      <td>NaN</td>\n",
              "      <td>11</td>\n",
              "      <td>NaN</td>\n",
              "      <td>NaN</td>\n",
              "      <td>NaN</td>\n",
              "      <td>2021-01-01</td>\n",
              "      <td>53</td>\n",
              "      <td>1777225.0</td>\n",
              "      <td>95999.0</td>\n",
              "      <td>270</td>\n",
              "      <td>1822</td>\n",
              "      <td>5</td>\n",
              "      <td>NaN</td>\n",
              "      <td>NaN</td>\n",
              "      <td>NaN</td>\n",
              "    </tr>\n",
              "    <tr>\n",
              "      <th>182</th>\n",
              "      <td>Norte</td>\n",
              "      <td>RO</td>\n",
              "      <td>NaN</td>\n",
              "      <td>11</td>\n",
              "      <td>NaN</td>\n",
              "      <td>NaN</td>\n",
              "      <td>NaN</td>\n",
              "      <td>2021-01-02</td>\n",
              "      <td>53</td>\n",
              "      <td>1777225.0</td>\n",
              "      <td>96433.0</td>\n",
              "      <td>434</td>\n",
              "      <td>1825</td>\n",
              "      <td>3</td>\n",
              "      <td>NaN</td>\n",
              "      <td>NaN</td>\n",
              "      <td>NaN</td>\n",
              "    </tr>\n",
              "    <tr>\n",
              "      <th>183</th>\n",
              "      <td>Norte</td>\n",
              "      <td>RO</td>\n",
              "      <td>NaN</td>\n",
              "      <td>11</td>\n",
              "      <td>NaN</td>\n",
              "      <td>NaN</td>\n",
              "      <td>NaN</td>\n",
              "      <td>2021-01-03</td>\n",
              "      <td>1</td>\n",
              "      <td>1777225.0</td>\n",
              "      <td>96906.0</td>\n",
              "      <td>473</td>\n",
              "      <td>1832</td>\n",
              "      <td>7</td>\n",
              "      <td>NaN</td>\n",
              "      <td>NaN</td>\n",
              "      <td>NaN</td>\n",
              "    </tr>\n",
              "    <tr>\n",
              "      <th>184</th>\n",
              "      <td>Norte</td>\n",
              "      <td>RO</td>\n",
              "      <td>NaN</td>\n",
              "      <td>11</td>\n",
              "      <td>NaN</td>\n",
              "      <td>NaN</td>\n",
              "      <td>NaN</td>\n",
              "      <td>2021-01-04</td>\n",
              "      <td>1</td>\n",
              "      <td>1777225.0</td>\n",
              "      <td>97197.0</td>\n",
              "      <td>291</td>\n",
              "      <td>1840</td>\n",
              "      <td>8</td>\n",
              "      <td>NaN</td>\n",
              "      <td>NaN</td>\n",
              "      <td>NaN</td>\n",
              "    </tr>\n",
              "    <tr>\n",
              "      <th>185</th>\n",
              "      <td>Norte</td>\n",
              "      <td>RO</td>\n",
              "      <td>NaN</td>\n",
              "      <td>11</td>\n",
              "      <td>NaN</td>\n",
              "      <td>NaN</td>\n",
              "      <td>NaN</td>\n",
              "      <td>2021-01-05</td>\n",
              "      <td>1</td>\n",
              "      <td>1777225.0</td>\n",
              "      <td>97854.0</td>\n",
              "      <td>657</td>\n",
              "      <td>1852</td>\n",
              "      <td>12</td>\n",
              "      <td>NaN</td>\n",
              "      <td>NaN</td>\n",
              "      <td>NaN</td>\n",
              "    </tr>\n",
              "    <tr>\n",
              "      <th>...</th>\n",
              "      <td>...</td>\n",
              "      <td>...</td>\n",
              "      <td>...</td>\n",
              "      <td>...</td>\n",
              "      <td>...</td>\n",
              "      <td>...</td>\n",
              "      <td>...</td>\n",
              "      <td>...</td>\n",
              "      <td>...</td>\n",
              "      <td>...</td>\n",
              "      <td>...</td>\n",
              "      <td>...</td>\n",
              "      <td>...</td>\n",
              "      <td>...</td>\n",
              "      <td>...</td>\n",
              "      <td>...</td>\n",
              "      <td>...</td>\n",
              "    </tr>\n",
              "    <tr>\n",
              "      <th>1033891</th>\n",
              "      <td>Centro-Oeste</td>\n",
              "      <td>DF</td>\n",
              "      <td>Brasília</td>\n",
              "      <td>53</td>\n",
              "      <td>530010.0</td>\n",
              "      <td>53001.0</td>\n",
              "      <td>DISTRITO FEDERAL</td>\n",
              "      <td>2021-12-27</td>\n",
              "      <td>52</td>\n",
              "      <td>3015268.0</td>\n",
              "      <td>519103.0</td>\n",
              "      <td>225</td>\n",
              "      <td>11100</td>\n",
              "      <td>5</td>\n",
              "      <td>NaN</td>\n",
              "      <td>NaN</td>\n",
              "      <td>1.0</td>\n",
              "    </tr>\n",
              "    <tr>\n",
              "      <th>1033892</th>\n",
              "      <td>Centro-Oeste</td>\n",
              "      <td>DF</td>\n",
              "      <td>Brasília</td>\n",
              "      <td>53</td>\n",
              "      <td>530010.0</td>\n",
              "      <td>53001.0</td>\n",
              "      <td>DISTRITO FEDERAL</td>\n",
              "      <td>2021-12-28</td>\n",
              "      <td>52</td>\n",
              "      <td>3015268.0</td>\n",
              "      <td>519196.0</td>\n",
              "      <td>93</td>\n",
              "      <td>11104</td>\n",
              "      <td>4</td>\n",
              "      <td>NaN</td>\n",
              "      <td>NaN</td>\n",
              "      <td>1.0</td>\n",
              "    </tr>\n",
              "    <tr>\n",
              "      <th>1033893</th>\n",
              "      <td>Centro-Oeste</td>\n",
              "      <td>DF</td>\n",
              "      <td>Brasília</td>\n",
              "      <td>53</td>\n",
              "      <td>530010.0</td>\n",
              "      <td>53001.0</td>\n",
              "      <td>DISTRITO FEDERAL</td>\n",
              "      <td>2021-12-29</td>\n",
              "      <td>52</td>\n",
              "      <td>3015268.0</td>\n",
              "      <td>519346.0</td>\n",
              "      <td>150</td>\n",
              "      <td>11105</td>\n",
              "      <td>1</td>\n",
              "      <td>NaN</td>\n",
              "      <td>NaN</td>\n",
              "      <td>1.0</td>\n",
              "    </tr>\n",
              "    <tr>\n",
              "      <th>1033894</th>\n",
              "      <td>Centro-Oeste</td>\n",
              "      <td>DF</td>\n",
              "      <td>Brasília</td>\n",
              "      <td>53</td>\n",
              "      <td>530010.0</td>\n",
              "      <td>53001.0</td>\n",
              "      <td>DISTRITO FEDERAL</td>\n",
              "      <td>2021-12-30</td>\n",
              "      <td>52</td>\n",
              "      <td>3015268.0</td>\n",
              "      <td>519546.0</td>\n",
              "      <td>200</td>\n",
              "      <td>11107</td>\n",
              "      <td>2</td>\n",
              "      <td>NaN</td>\n",
              "      <td>NaN</td>\n",
              "      <td>1.0</td>\n",
              "    </tr>\n",
              "    <tr>\n",
              "      <th>1033895</th>\n",
              "      <td>Centro-Oeste</td>\n",
              "      <td>DF</td>\n",
              "      <td>Brasília</td>\n",
              "      <td>53</td>\n",
              "      <td>530010.0</td>\n",
              "      <td>53001.0</td>\n",
              "      <td>DISTRITO FEDERAL</td>\n",
              "      <td>2021-12-31</td>\n",
              "      <td>52</td>\n",
              "      <td>3015268.0</td>\n",
              "      <td>519811.0</td>\n",
              "      <td>265</td>\n",
              "      <td>11108</td>\n",
              "      <td>1</td>\n",
              "      <td>NaN</td>\n",
              "      <td>NaN</td>\n",
              "      <td>1.0</td>\n",
              "    </tr>\n",
              "  </tbody>\n",
              "</table>\n",
              "<p>2050570 rows × 17 columns</p>\n",
              "</div>\n",
              "      <button class=\"colab-df-convert\" onclick=\"convertToInteractive('df-87aa50ae-e167-4171-89cb-df98df998c7a')\"\n",
              "              title=\"Convert this dataframe to an interactive table.\"\n",
              "              style=\"display:none;\">\n",
              "        \n",
              "  <svg xmlns=\"http://www.w3.org/2000/svg\" height=\"24px\"viewBox=\"0 0 24 24\"\n",
              "       width=\"24px\">\n",
              "    <path d=\"M0 0h24v24H0V0z\" fill=\"none\"/>\n",
              "    <path d=\"M18.56 5.44l.94 2.06.94-2.06 2.06-.94-2.06-.94-.94-2.06-.94 2.06-2.06.94zm-11 1L8.5 8.5l.94-2.06 2.06-.94-2.06-.94L8.5 2.5l-.94 2.06-2.06.94zm10 10l.94 2.06.94-2.06 2.06-.94-2.06-.94-.94-2.06-.94 2.06-2.06.94z\"/><path d=\"M17.41 7.96l-1.37-1.37c-.4-.4-.92-.59-1.43-.59-.52 0-1.04.2-1.43.59L10.3 9.45l-7.72 7.72c-.78.78-.78 2.05 0 2.83L4 21.41c.39.39.9.59 1.41.59.51 0 1.02-.2 1.41-.59l7.78-7.78 2.81-2.81c.8-.78.8-2.07 0-2.86zM5.41 20L4 18.59l7.72-7.72 1.47 1.35L5.41 20z\"/>\n",
              "  </svg>\n",
              "      </button>\n",
              "      \n",
              "  <style>\n",
              "    .colab-df-container {\n",
              "      display:flex;\n",
              "      flex-wrap:wrap;\n",
              "      gap: 12px;\n",
              "    }\n",
              "\n",
              "    .colab-df-convert {\n",
              "      background-color: #E8F0FE;\n",
              "      border: none;\n",
              "      border-radius: 50%;\n",
              "      cursor: pointer;\n",
              "      display: none;\n",
              "      fill: #1967D2;\n",
              "      height: 32px;\n",
              "      padding: 0 0 0 0;\n",
              "      width: 32px;\n",
              "    }\n",
              "\n",
              "    .colab-df-convert:hover {\n",
              "      background-color: #E2EBFA;\n",
              "      box-shadow: 0px 1px 2px rgba(60, 64, 67, 0.3), 0px 1px 3px 1px rgba(60, 64, 67, 0.15);\n",
              "      fill: #174EA6;\n",
              "    }\n",
              "\n",
              "    [theme=dark] .colab-df-convert {\n",
              "      background-color: #3B4455;\n",
              "      fill: #D2E3FC;\n",
              "    }\n",
              "\n",
              "    [theme=dark] .colab-df-convert:hover {\n",
              "      background-color: #434B5C;\n",
              "      box-shadow: 0px 1px 3px 1px rgba(0, 0, 0, 0.15);\n",
              "      filter: drop-shadow(0px 1px 2px rgba(0, 0, 0, 0.3));\n",
              "      fill: #FFFFFF;\n",
              "    }\n",
              "  </style>\n",
              "\n",
              "      <script>\n",
              "        const buttonEl =\n",
              "          document.querySelector('#df-87aa50ae-e167-4171-89cb-df98df998c7a button.colab-df-convert');\n",
              "        buttonEl.style.display =\n",
              "          google.colab.kernel.accessAllowed ? 'block' : 'none';\n",
              "\n",
              "        async function convertToInteractive(key) {\n",
              "          const element = document.querySelector('#df-87aa50ae-e167-4171-89cb-df98df998c7a');\n",
              "          const dataTable =\n",
              "            await google.colab.kernel.invokeFunction('convertToInteractive',\n",
              "                                                     [key], {});\n",
              "          if (!dataTable) return;\n",
              "\n",
              "          const docLinkHtml = 'Like what you see? Visit the ' +\n",
              "            '<a target=\"_blank\" href=https://colab.research.google.com/notebooks/data_table.ipynb>data table notebook</a>'\n",
              "            + ' to learn more about interactive tables.';\n",
              "          element.innerHTML = '';\n",
              "          dataTable['output_type'] = 'display_data';\n",
              "          await google.colab.output.renderOutput(dataTable, element);\n",
              "          const docLink = document.createElement('div');\n",
              "          docLink.innerHTML = docLinkHtml;\n",
              "          element.appendChild(docLink);\n",
              "        }\n",
              "      </script>\n",
              "    </div>\n",
              "  </div>\n",
              "  "
            ]
          },
          "metadata": {},
          "execution_count": 30
        }
      ],
      "source": [
        "RegioesBrasil2021"
      ]
    },
    {
      "cell_type": "markdown",
      "metadata": {
        "id": "IkiyVkjaR4le"
      },
      "source": [
        "# Regiões do Brasil em 2022"
      ]
    },
    {
      "cell_type": "code",
      "execution_count": null,
      "metadata": {
        "id": "EU2Sg2GAH9yc",
        "colab": {
          "base_uri": "https://localhost:8080/",
          "height": 661
        },
        "outputId": "c0a875ad-5be9-415f-edc7-2b14bcf54e2e"
      },
      "outputs": [
        {
          "output_type": "execute_result",
          "data": {
            "text/plain": [
              "              regiao estado municipio  coduf    codmun  codRegiaoSaude  \\\n",
              "154            Norte     RO       NaN     11       NaN             NaN   \n",
              "155            Norte     RO       NaN     11       NaN             NaN   \n",
              "156            Norte     RO       NaN     11       NaN             NaN   \n",
              "157            Norte     RO       NaN     11       NaN             NaN   \n",
              "158            Norte     RO       NaN     11       NaN             NaN   \n",
              "...              ...    ...       ...    ...       ...             ...   \n",
              "865321  Centro-Oeste     DF  Brasília     53  530010.0         53001.0   \n",
              "865322  Centro-Oeste     DF  Brasília     53  530010.0         53001.0   \n",
              "865323  Centro-Oeste     DF  Brasília     53  530010.0         53001.0   \n",
              "865324  Centro-Oeste     DF  Brasília     53  530010.0         53001.0   \n",
              "865325  Centro-Oeste     DF  Brasília     53  530010.0         53001.0   \n",
              "\n",
              "         nomeRegiaoSaude        data  semanaEpi  populacaoTCU2019  \\\n",
              "154                  NaN  2022-01-01         52         1777225.0   \n",
              "155                  NaN  2022-01-02          1         1777225.0   \n",
              "156                  NaN  2022-01-03          1         1777225.0   \n",
              "157                  NaN  2022-01-04          1         1777225.0   \n",
              "158                  NaN  2022-01-05          1         1777225.0   \n",
              "...                  ...         ...        ...               ...   \n",
              "865321  DISTRITO FEDERAL  2022-05-30         22         3015268.0   \n",
              "865322  DISTRITO FEDERAL  2022-05-31         22         3015268.0   \n",
              "865323  DISTRITO FEDERAL  2022-06-01         22         3015268.0   \n",
              "865324  DISTRITO FEDERAL  2022-06-02         22         3015268.0   \n",
              "865325  DISTRITO FEDERAL  2022-06-03         22         3015268.0   \n",
              "\n",
              "        casosAcumulado  casosNovos  obitosAcumulado  obitosNovos  \\\n",
              "154           284660.0          34             6737            3   \n",
              "155           284692.0          32             6739            2   \n",
              "156           284783.0          91             6742            3   \n",
              "157           285037.0         254             6745            3   \n",
              "158           285269.0         232             6748            3   \n",
              "...                ...         ...              ...          ...   \n",
              "865321        708552.0        2604            11691            1   \n",
              "865322        710694.0        2142            11691            0   \n",
              "865323        712968.0        2274            11692            1   \n",
              "865324        715938.0        2970            11692            0   \n",
              "865325        718242.0        2304            11692            0   \n",
              "\n",
              "        Recuperadosnovos  emAcompanhamentoNovos  interior/metropolitana  \n",
              "154                  NaN                    NaN                     NaN  \n",
              "155                  NaN                    NaN                     NaN  \n",
              "156                  NaN                    NaN                     NaN  \n",
              "157                  NaN                    NaN                     NaN  \n",
              "158                  NaN                    NaN                     NaN  \n",
              "...                  ...                    ...                     ...  \n",
              "865321               NaN                    NaN                     1.0  \n",
              "865322               NaN                    NaN                     1.0  \n",
              "865323               NaN                    NaN                     1.0  \n",
              "865324               NaN                    NaN                     1.0  \n",
              "865325               NaN                    NaN                     1.0  \n",
              "\n",
              "[865172 rows x 17 columns]"
            ],
            "text/html": [
              "\n",
              "  <div id=\"df-672923f0-2b27-48da-b3a4-9840dcbf9f7a\">\n",
              "    <div class=\"colab-df-container\">\n",
              "      <div>\n",
              "<style scoped>\n",
              "    .dataframe tbody tr th:only-of-type {\n",
              "        vertical-align: middle;\n",
              "    }\n",
              "\n",
              "    .dataframe tbody tr th {\n",
              "        vertical-align: top;\n",
              "    }\n",
              "\n",
              "    .dataframe thead th {\n",
              "        text-align: right;\n",
              "    }\n",
              "</style>\n",
              "<table border=\"1\" class=\"dataframe\">\n",
              "  <thead>\n",
              "    <tr style=\"text-align: right;\">\n",
              "      <th></th>\n",
              "      <th>regiao</th>\n",
              "      <th>estado</th>\n",
              "      <th>municipio</th>\n",
              "      <th>coduf</th>\n",
              "      <th>codmun</th>\n",
              "      <th>codRegiaoSaude</th>\n",
              "      <th>nomeRegiaoSaude</th>\n",
              "      <th>data</th>\n",
              "      <th>semanaEpi</th>\n",
              "      <th>populacaoTCU2019</th>\n",
              "      <th>casosAcumulado</th>\n",
              "      <th>casosNovos</th>\n",
              "      <th>obitosAcumulado</th>\n",
              "      <th>obitosNovos</th>\n",
              "      <th>Recuperadosnovos</th>\n",
              "      <th>emAcompanhamentoNovos</th>\n",
              "      <th>interior/metropolitana</th>\n",
              "    </tr>\n",
              "  </thead>\n",
              "  <tbody>\n",
              "    <tr>\n",
              "      <th>154</th>\n",
              "      <td>Norte</td>\n",
              "      <td>RO</td>\n",
              "      <td>NaN</td>\n",
              "      <td>11</td>\n",
              "      <td>NaN</td>\n",
              "      <td>NaN</td>\n",
              "      <td>NaN</td>\n",
              "      <td>2022-01-01</td>\n",
              "      <td>52</td>\n",
              "      <td>1777225.0</td>\n",
              "      <td>284660.0</td>\n",
              "      <td>34</td>\n",
              "      <td>6737</td>\n",
              "      <td>3</td>\n",
              "      <td>NaN</td>\n",
              "      <td>NaN</td>\n",
              "      <td>NaN</td>\n",
              "    </tr>\n",
              "    <tr>\n",
              "      <th>155</th>\n",
              "      <td>Norte</td>\n",
              "      <td>RO</td>\n",
              "      <td>NaN</td>\n",
              "      <td>11</td>\n",
              "      <td>NaN</td>\n",
              "      <td>NaN</td>\n",
              "      <td>NaN</td>\n",
              "      <td>2022-01-02</td>\n",
              "      <td>1</td>\n",
              "      <td>1777225.0</td>\n",
              "      <td>284692.0</td>\n",
              "      <td>32</td>\n",
              "      <td>6739</td>\n",
              "      <td>2</td>\n",
              "      <td>NaN</td>\n",
              "      <td>NaN</td>\n",
              "      <td>NaN</td>\n",
              "    </tr>\n",
              "    <tr>\n",
              "      <th>156</th>\n",
              "      <td>Norte</td>\n",
              "      <td>RO</td>\n",
              "      <td>NaN</td>\n",
              "      <td>11</td>\n",
              "      <td>NaN</td>\n",
              "      <td>NaN</td>\n",
              "      <td>NaN</td>\n",
              "      <td>2022-01-03</td>\n",
              "      <td>1</td>\n",
              "      <td>1777225.0</td>\n",
              "      <td>284783.0</td>\n",
              "      <td>91</td>\n",
              "      <td>6742</td>\n",
              "      <td>3</td>\n",
              "      <td>NaN</td>\n",
              "      <td>NaN</td>\n",
              "      <td>NaN</td>\n",
              "    </tr>\n",
              "    <tr>\n",
              "      <th>157</th>\n",
              "      <td>Norte</td>\n",
              "      <td>RO</td>\n",
              "      <td>NaN</td>\n",
              "      <td>11</td>\n",
              "      <td>NaN</td>\n",
              "      <td>NaN</td>\n",
              "      <td>NaN</td>\n",
              "      <td>2022-01-04</td>\n",
              "      <td>1</td>\n",
              "      <td>1777225.0</td>\n",
              "      <td>285037.0</td>\n",
              "      <td>254</td>\n",
              "      <td>6745</td>\n",
              "      <td>3</td>\n",
              "      <td>NaN</td>\n",
              "      <td>NaN</td>\n",
              "      <td>NaN</td>\n",
              "    </tr>\n",
              "    <tr>\n",
              "      <th>158</th>\n",
              "      <td>Norte</td>\n",
              "      <td>RO</td>\n",
              "      <td>NaN</td>\n",
              "      <td>11</td>\n",
              "      <td>NaN</td>\n",
              "      <td>NaN</td>\n",
              "      <td>NaN</td>\n",
              "      <td>2022-01-05</td>\n",
              "      <td>1</td>\n",
              "      <td>1777225.0</td>\n",
              "      <td>285269.0</td>\n",
              "      <td>232</td>\n",
              "      <td>6748</td>\n",
              "      <td>3</td>\n",
              "      <td>NaN</td>\n",
              "      <td>NaN</td>\n",
              "      <td>NaN</td>\n",
              "    </tr>\n",
              "    <tr>\n",
              "      <th>...</th>\n",
              "      <td>...</td>\n",
              "      <td>...</td>\n",
              "      <td>...</td>\n",
              "      <td>...</td>\n",
              "      <td>...</td>\n",
              "      <td>...</td>\n",
              "      <td>...</td>\n",
              "      <td>...</td>\n",
              "      <td>...</td>\n",
              "      <td>...</td>\n",
              "      <td>...</td>\n",
              "      <td>...</td>\n",
              "      <td>...</td>\n",
              "      <td>...</td>\n",
              "      <td>...</td>\n",
              "      <td>...</td>\n",
              "      <td>...</td>\n",
              "    </tr>\n",
              "    <tr>\n",
              "      <th>865321</th>\n",
              "      <td>Centro-Oeste</td>\n",
              "      <td>DF</td>\n",
              "      <td>Brasília</td>\n",
              "      <td>53</td>\n",
              "      <td>530010.0</td>\n",
              "      <td>53001.0</td>\n",
              "      <td>DISTRITO FEDERAL</td>\n",
              "      <td>2022-05-30</td>\n",
              "      <td>22</td>\n",
              "      <td>3015268.0</td>\n",
              "      <td>708552.0</td>\n",
              "      <td>2604</td>\n",
              "      <td>11691</td>\n",
              "      <td>1</td>\n",
              "      <td>NaN</td>\n",
              "      <td>NaN</td>\n",
              "      <td>1.0</td>\n",
              "    </tr>\n",
              "    <tr>\n",
              "      <th>865322</th>\n",
              "      <td>Centro-Oeste</td>\n",
              "      <td>DF</td>\n",
              "      <td>Brasília</td>\n",
              "      <td>53</td>\n",
              "      <td>530010.0</td>\n",
              "      <td>53001.0</td>\n",
              "      <td>DISTRITO FEDERAL</td>\n",
              "      <td>2022-05-31</td>\n",
              "      <td>22</td>\n",
              "      <td>3015268.0</td>\n",
              "      <td>710694.0</td>\n",
              "      <td>2142</td>\n",
              "      <td>11691</td>\n",
              "      <td>0</td>\n",
              "      <td>NaN</td>\n",
              "      <td>NaN</td>\n",
              "      <td>1.0</td>\n",
              "    </tr>\n",
              "    <tr>\n",
              "      <th>865323</th>\n",
              "      <td>Centro-Oeste</td>\n",
              "      <td>DF</td>\n",
              "      <td>Brasília</td>\n",
              "      <td>53</td>\n",
              "      <td>530010.0</td>\n",
              "      <td>53001.0</td>\n",
              "      <td>DISTRITO FEDERAL</td>\n",
              "      <td>2022-06-01</td>\n",
              "      <td>22</td>\n",
              "      <td>3015268.0</td>\n",
              "      <td>712968.0</td>\n",
              "      <td>2274</td>\n",
              "      <td>11692</td>\n",
              "      <td>1</td>\n",
              "      <td>NaN</td>\n",
              "      <td>NaN</td>\n",
              "      <td>1.0</td>\n",
              "    </tr>\n",
              "    <tr>\n",
              "      <th>865324</th>\n",
              "      <td>Centro-Oeste</td>\n",
              "      <td>DF</td>\n",
              "      <td>Brasília</td>\n",
              "      <td>53</td>\n",
              "      <td>530010.0</td>\n",
              "      <td>53001.0</td>\n",
              "      <td>DISTRITO FEDERAL</td>\n",
              "      <td>2022-06-02</td>\n",
              "      <td>22</td>\n",
              "      <td>3015268.0</td>\n",
              "      <td>715938.0</td>\n",
              "      <td>2970</td>\n",
              "      <td>11692</td>\n",
              "      <td>0</td>\n",
              "      <td>NaN</td>\n",
              "      <td>NaN</td>\n",
              "      <td>1.0</td>\n",
              "    </tr>\n",
              "    <tr>\n",
              "      <th>865325</th>\n",
              "      <td>Centro-Oeste</td>\n",
              "      <td>DF</td>\n",
              "      <td>Brasília</td>\n",
              "      <td>53</td>\n",
              "      <td>530010.0</td>\n",
              "      <td>53001.0</td>\n",
              "      <td>DISTRITO FEDERAL</td>\n",
              "      <td>2022-06-03</td>\n",
              "      <td>22</td>\n",
              "      <td>3015268.0</td>\n",
              "      <td>718242.0</td>\n",
              "      <td>2304</td>\n",
              "      <td>11692</td>\n",
              "      <td>0</td>\n",
              "      <td>NaN</td>\n",
              "      <td>NaN</td>\n",
              "      <td>1.0</td>\n",
              "    </tr>\n",
              "  </tbody>\n",
              "</table>\n",
              "<p>865172 rows × 17 columns</p>\n",
              "</div>\n",
              "      <button class=\"colab-df-convert\" onclick=\"convertToInteractive('df-672923f0-2b27-48da-b3a4-9840dcbf9f7a')\"\n",
              "              title=\"Convert this dataframe to an interactive table.\"\n",
              "              style=\"display:none;\">\n",
              "        \n",
              "  <svg xmlns=\"http://www.w3.org/2000/svg\" height=\"24px\"viewBox=\"0 0 24 24\"\n",
              "       width=\"24px\">\n",
              "    <path d=\"M0 0h24v24H0V0z\" fill=\"none\"/>\n",
              "    <path d=\"M18.56 5.44l.94 2.06.94-2.06 2.06-.94-2.06-.94-.94-2.06-.94 2.06-2.06.94zm-11 1L8.5 8.5l.94-2.06 2.06-.94-2.06-.94L8.5 2.5l-.94 2.06-2.06.94zm10 10l.94 2.06.94-2.06 2.06-.94-2.06-.94-.94-2.06-.94 2.06-2.06.94z\"/><path d=\"M17.41 7.96l-1.37-1.37c-.4-.4-.92-.59-1.43-.59-.52 0-1.04.2-1.43.59L10.3 9.45l-7.72 7.72c-.78.78-.78 2.05 0 2.83L4 21.41c.39.39.9.59 1.41.59.51 0 1.02-.2 1.41-.59l7.78-7.78 2.81-2.81c.8-.78.8-2.07 0-2.86zM5.41 20L4 18.59l7.72-7.72 1.47 1.35L5.41 20z\"/>\n",
              "  </svg>\n",
              "      </button>\n",
              "      \n",
              "  <style>\n",
              "    .colab-df-container {\n",
              "      display:flex;\n",
              "      flex-wrap:wrap;\n",
              "      gap: 12px;\n",
              "    }\n",
              "\n",
              "    .colab-df-convert {\n",
              "      background-color: #E8F0FE;\n",
              "      border: none;\n",
              "      border-radius: 50%;\n",
              "      cursor: pointer;\n",
              "      display: none;\n",
              "      fill: #1967D2;\n",
              "      height: 32px;\n",
              "      padding: 0 0 0 0;\n",
              "      width: 32px;\n",
              "    }\n",
              "\n",
              "    .colab-df-convert:hover {\n",
              "      background-color: #E2EBFA;\n",
              "      box-shadow: 0px 1px 2px rgba(60, 64, 67, 0.3), 0px 1px 3px 1px rgba(60, 64, 67, 0.15);\n",
              "      fill: #174EA6;\n",
              "    }\n",
              "\n",
              "    [theme=dark] .colab-df-convert {\n",
              "      background-color: #3B4455;\n",
              "      fill: #D2E3FC;\n",
              "    }\n",
              "\n",
              "    [theme=dark] .colab-df-convert:hover {\n",
              "      background-color: #434B5C;\n",
              "      box-shadow: 0px 1px 3px 1px rgba(0, 0, 0, 0.15);\n",
              "      filter: drop-shadow(0px 1px 2px rgba(0, 0, 0, 0.3));\n",
              "      fill: #FFFFFF;\n",
              "    }\n",
              "  </style>\n",
              "\n",
              "      <script>\n",
              "        const buttonEl =\n",
              "          document.querySelector('#df-672923f0-2b27-48da-b3a4-9840dcbf9f7a button.colab-df-convert');\n",
              "        buttonEl.style.display =\n",
              "          google.colab.kernel.accessAllowed ? 'block' : 'none';\n",
              "\n",
              "        async function convertToInteractive(key) {\n",
              "          const element = document.querySelector('#df-672923f0-2b27-48da-b3a4-9840dcbf9f7a');\n",
              "          const dataTable =\n",
              "            await google.colab.kernel.invokeFunction('convertToInteractive',\n",
              "                                                     [key], {});\n",
              "          if (!dataTable) return;\n",
              "\n",
              "          const docLinkHtml = 'Like what you see? Visit the ' +\n",
              "            '<a target=\"_blank\" href=https://colab.research.google.com/notebooks/data_table.ipynb>data table notebook</a>'\n",
              "            + ' to learn more about interactive tables.';\n",
              "          element.innerHTML = '';\n",
              "          dataTable['output_type'] = 'display_data';\n",
              "          await google.colab.output.renderOutput(dataTable, element);\n",
              "          const docLink = document.createElement('div');\n",
              "          docLink.innerHTML = docLinkHtml;\n",
              "          element.appendChild(docLink);\n",
              "        }\n",
              "      </script>\n",
              "    </div>\n",
              "  </div>\n",
              "  "
            ]
          },
          "metadata": {},
          "execution_count": 31
        }
      ],
      "source": [
        "RegioesBrasil2022"
      ]
    },
    {
      "cell_type": "markdown",
      "metadata": {
        "id": "aRTa-mdhH9yc"
      },
      "source": [
        "## Contagem dos pacientes recuperados da COVID-19"
      ]
    },
    {
      "cell_type": "code",
      "execution_count": null,
      "metadata": {
        "id": "gGt4T-P_H9yc",
        "colab": {
          "base_uri": "https://localhost:8080/"
        },
        "outputId": "bacdf744-cc93-42b0-a8be-cf51d00c508a"
      },
      "outputs": [
        {
          "output_type": "stream",
          "name": "stdout",
          "text": [
            "RecuperadosNovaos: 0 0 0\n",
            "emAcompanhamentoNovos: 0 0 0\n"
          ]
        }
      ],
      "source": [
        "#Verificando se existem algum valor não nulo na coluna recuperadosnovos dos dataframes de regiões\n",
        "value1 = RegioesBrasil2022['Recuperadosnovos'].count()\n",
        "value2 = RegioesBrasil2021['Recuperadosnovos'].count()\n",
        "value3 = RegioesBrasil2020['Recuperadosnovos'].count()\n",
        "print(\"RecuperadosNovaos:\",value1, value2, value3)\n",
        "\n",
        "value1 = RegioesBrasil2022['emAcompanhamentoNovos'].count()\n",
        "value2 = RegioesBrasil2021['emAcompanhamentoNovos'].count()\n",
        "value3 = RegioesBrasil2020['emAcompanhamentoNovos'].count()\n",
        "print(\"emAcompanhamentoNovos:\",value1, value2, value3)\n"
      ]
    },
    {
      "cell_type": "markdown",
      "metadata": {
        "id": "WN1aSjmkH9yd"
      },
      "source": [
        "Apagando as colunas nulas dos dataframes de regiões"
      ]
    },
    {
      "cell_type": "code",
      "execution_count": 14,
      "metadata": {
        "id": "RxhtfVIjH9yd"
      },
      "outputs": [],
      "source": [
        "#Colunas nulas deletadas\n",
        "for i in ['Recuperadosnovos','emAcompanhamentoNovos']:\n",
        "\n",
        "  RegioesBrasil2022 = RegioesBrasil2022.drop(columns=[i])\n",
        "  RegioesBrasil2021 = RegioesBrasil2021.drop(columns=[i])\n",
        "  RegioesBrasil2020 = RegioesBrasil2020.drop(columns=[i])\n"
      ]
    },
    {
      "cell_type": "code",
      "execution_count": null,
      "metadata": {
        "id": "WYBbkrDMH9yd",
        "colab": {
          "base_uri": "https://localhost:8080/",
          "height": 661
        },
        "outputId": "999fbd7d-50b2-4029-ba39-31c72b101d10"
      },
      "outputs": [
        {
          "output_type": "execute_result",
          "data": {
            "text/plain": [
              "              regiao estado municipio  coduf    codmun  codRegiaoSaude  \\\n",
              "158            Norte     RO       NaN     11       NaN             NaN   \n",
              "159            Norte     RO       NaN     11       NaN             NaN   \n",
              "160            Norte     RO       NaN     11       NaN             NaN   \n",
              "161            Norte     RO       NaN     11       NaN             NaN   \n",
              "162            Norte     RO       NaN     11       NaN             NaN   \n",
              "...              ...    ...       ...    ...       ...             ...   \n",
              "859702  Centro-Oeste     DF  Brasília     53  530010.0         53001.0   \n",
              "859703  Centro-Oeste     DF  Brasília     53  530010.0         53001.0   \n",
              "859704  Centro-Oeste     DF  Brasília     53  530010.0         53001.0   \n",
              "859705  Centro-Oeste     DF  Brasília     53  530010.0         53001.0   \n",
              "859706  Centro-Oeste     DF  Brasília     53  530010.0         53001.0   \n",
              "\n",
              "         nomeRegiaoSaude        data  semanaEpi  populacaoTCU2019  \\\n",
              "158                  NaN  2020-02-25          9         1777225.0   \n",
              "159                  NaN  2020-02-26          9         1777225.0   \n",
              "160                  NaN  2020-02-27          9         1777225.0   \n",
              "161                  NaN  2020-02-28          9         1777225.0   \n",
              "162                  NaN  2020-02-29          9         1777225.0   \n",
              "...                  ...         ...        ...               ...   \n",
              "859702  DISTRITO FEDERAL  2020-12-27         53         3015268.0   \n",
              "859703  DISTRITO FEDERAL  2020-12-28         53         3015268.0   \n",
              "859704  DISTRITO FEDERAL  2020-12-29         53         3015268.0   \n",
              "859705  DISTRITO FEDERAL  2020-12-30         53         3015268.0   \n",
              "859706  DISTRITO FEDERAL  2020-12-31         53         3015268.0   \n",
              "\n",
              "        casosAcumulado  casosNovos  obitosAcumulado  obitosNovos  \\\n",
              "158                  0           0                0            0   \n",
              "159                  0           0                0            0   \n",
              "160                  0           0                0            0   \n",
              "161                  0           0                0            0   \n",
              "162                  0           0                0            0   \n",
              "...                ...         ...              ...          ...   \n",
              "859702          248543         615             4201            3   \n",
              "859703          249736        1193             4223           22   \n",
              "859704          250457         721             4241           18   \n",
              "859705          251135         678             4248            7   \n",
              "859706          251701         566             4259           11   \n",
              "\n",
              "        interior/metropolitana  \n",
              "158                        NaN  \n",
              "159                        NaN  \n",
              "160                        NaN  \n",
              "161                        NaN  \n",
              "162                        NaN  \n",
              "...                        ...  \n",
              "859702                     1.0  \n",
              "859703                     1.0  \n",
              "859704                     1.0  \n",
              "859705                     1.0  \n",
              "859706                     1.0  \n",
              "\n",
              "[1573877 rows x 15 columns]"
            ],
            "text/html": [
              "\n",
              "  <div id=\"df-d325a655-996c-40a3-bceb-7b654c194690\">\n",
              "    <div class=\"colab-df-container\">\n",
              "      <div>\n",
              "<style scoped>\n",
              "    .dataframe tbody tr th:only-of-type {\n",
              "        vertical-align: middle;\n",
              "    }\n",
              "\n",
              "    .dataframe tbody tr th {\n",
              "        vertical-align: top;\n",
              "    }\n",
              "\n",
              "    .dataframe thead th {\n",
              "        text-align: right;\n",
              "    }\n",
              "</style>\n",
              "<table border=\"1\" class=\"dataframe\">\n",
              "  <thead>\n",
              "    <tr style=\"text-align: right;\">\n",
              "      <th></th>\n",
              "      <th>regiao</th>\n",
              "      <th>estado</th>\n",
              "      <th>municipio</th>\n",
              "      <th>coduf</th>\n",
              "      <th>codmun</th>\n",
              "      <th>codRegiaoSaude</th>\n",
              "      <th>nomeRegiaoSaude</th>\n",
              "      <th>data</th>\n",
              "      <th>semanaEpi</th>\n",
              "      <th>populacaoTCU2019</th>\n",
              "      <th>casosAcumulado</th>\n",
              "      <th>casosNovos</th>\n",
              "      <th>obitosAcumulado</th>\n",
              "      <th>obitosNovos</th>\n",
              "      <th>interior/metropolitana</th>\n",
              "    </tr>\n",
              "  </thead>\n",
              "  <tbody>\n",
              "    <tr>\n",
              "      <th>158</th>\n",
              "      <td>Norte</td>\n",
              "      <td>RO</td>\n",
              "      <td>NaN</td>\n",
              "      <td>11</td>\n",
              "      <td>NaN</td>\n",
              "      <td>NaN</td>\n",
              "      <td>NaN</td>\n",
              "      <td>2020-02-25</td>\n",
              "      <td>9</td>\n",
              "      <td>1777225.0</td>\n",
              "      <td>0</td>\n",
              "      <td>0</td>\n",
              "      <td>0</td>\n",
              "      <td>0</td>\n",
              "      <td>NaN</td>\n",
              "    </tr>\n",
              "    <tr>\n",
              "      <th>159</th>\n",
              "      <td>Norte</td>\n",
              "      <td>RO</td>\n",
              "      <td>NaN</td>\n",
              "      <td>11</td>\n",
              "      <td>NaN</td>\n",
              "      <td>NaN</td>\n",
              "      <td>NaN</td>\n",
              "      <td>2020-02-26</td>\n",
              "      <td>9</td>\n",
              "      <td>1777225.0</td>\n",
              "      <td>0</td>\n",
              "      <td>0</td>\n",
              "      <td>0</td>\n",
              "      <td>0</td>\n",
              "      <td>NaN</td>\n",
              "    </tr>\n",
              "    <tr>\n",
              "      <th>160</th>\n",
              "      <td>Norte</td>\n",
              "      <td>RO</td>\n",
              "      <td>NaN</td>\n",
              "      <td>11</td>\n",
              "      <td>NaN</td>\n",
              "      <td>NaN</td>\n",
              "      <td>NaN</td>\n",
              "      <td>2020-02-27</td>\n",
              "      <td>9</td>\n",
              "      <td>1777225.0</td>\n",
              "      <td>0</td>\n",
              "      <td>0</td>\n",
              "      <td>0</td>\n",
              "      <td>0</td>\n",
              "      <td>NaN</td>\n",
              "    </tr>\n",
              "    <tr>\n",
              "      <th>161</th>\n",
              "      <td>Norte</td>\n",
              "      <td>RO</td>\n",
              "      <td>NaN</td>\n",
              "      <td>11</td>\n",
              "      <td>NaN</td>\n",
              "      <td>NaN</td>\n",
              "      <td>NaN</td>\n",
              "      <td>2020-02-28</td>\n",
              "      <td>9</td>\n",
              "      <td>1777225.0</td>\n",
              "      <td>0</td>\n",
              "      <td>0</td>\n",
              "      <td>0</td>\n",
              "      <td>0</td>\n",
              "      <td>NaN</td>\n",
              "    </tr>\n",
              "    <tr>\n",
              "      <th>162</th>\n",
              "      <td>Norte</td>\n",
              "      <td>RO</td>\n",
              "      <td>NaN</td>\n",
              "      <td>11</td>\n",
              "      <td>NaN</td>\n",
              "      <td>NaN</td>\n",
              "      <td>NaN</td>\n",
              "      <td>2020-02-29</td>\n",
              "      <td>9</td>\n",
              "      <td>1777225.0</td>\n",
              "      <td>0</td>\n",
              "      <td>0</td>\n",
              "      <td>0</td>\n",
              "      <td>0</td>\n",
              "      <td>NaN</td>\n",
              "    </tr>\n",
              "    <tr>\n",
              "      <th>...</th>\n",
              "      <td>...</td>\n",
              "      <td>...</td>\n",
              "      <td>...</td>\n",
              "      <td>...</td>\n",
              "      <td>...</td>\n",
              "      <td>...</td>\n",
              "      <td>...</td>\n",
              "      <td>...</td>\n",
              "      <td>...</td>\n",
              "      <td>...</td>\n",
              "      <td>...</td>\n",
              "      <td>...</td>\n",
              "      <td>...</td>\n",
              "      <td>...</td>\n",
              "      <td>...</td>\n",
              "    </tr>\n",
              "    <tr>\n",
              "      <th>859702</th>\n",
              "      <td>Centro-Oeste</td>\n",
              "      <td>DF</td>\n",
              "      <td>Brasília</td>\n",
              "      <td>53</td>\n",
              "      <td>530010.0</td>\n",
              "      <td>53001.0</td>\n",
              "      <td>DISTRITO FEDERAL</td>\n",
              "      <td>2020-12-27</td>\n",
              "      <td>53</td>\n",
              "      <td>3015268.0</td>\n",
              "      <td>248543</td>\n",
              "      <td>615</td>\n",
              "      <td>4201</td>\n",
              "      <td>3</td>\n",
              "      <td>1.0</td>\n",
              "    </tr>\n",
              "    <tr>\n",
              "      <th>859703</th>\n",
              "      <td>Centro-Oeste</td>\n",
              "      <td>DF</td>\n",
              "      <td>Brasília</td>\n",
              "      <td>53</td>\n",
              "      <td>530010.0</td>\n",
              "      <td>53001.0</td>\n",
              "      <td>DISTRITO FEDERAL</td>\n",
              "      <td>2020-12-28</td>\n",
              "      <td>53</td>\n",
              "      <td>3015268.0</td>\n",
              "      <td>249736</td>\n",
              "      <td>1193</td>\n",
              "      <td>4223</td>\n",
              "      <td>22</td>\n",
              "      <td>1.0</td>\n",
              "    </tr>\n",
              "    <tr>\n",
              "      <th>859704</th>\n",
              "      <td>Centro-Oeste</td>\n",
              "      <td>DF</td>\n",
              "      <td>Brasília</td>\n",
              "      <td>53</td>\n",
              "      <td>530010.0</td>\n",
              "      <td>53001.0</td>\n",
              "      <td>DISTRITO FEDERAL</td>\n",
              "      <td>2020-12-29</td>\n",
              "      <td>53</td>\n",
              "      <td>3015268.0</td>\n",
              "      <td>250457</td>\n",
              "      <td>721</td>\n",
              "      <td>4241</td>\n",
              "      <td>18</td>\n",
              "      <td>1.0</td>\n",
              "    </tr>\n",
              "    <tr>\n",
              "      <th>859705</th>\n",
              "      <td>Centro-Oeste</td>\n",
              "      <td>DF</td>\n",
              "      <td>Brasília</td>\n",
              "      <td>53</td>\n",
              "      <td>530010.0</td>\n",
              "      <td>53001.0</td>\n",
              "      <td>DISTRITO FEDERAL</td>\n",
              "      <td>2020-12-30</td>\n",
              "      <td>53</td>\n",
              "      <td>3015268.0</td>\n",
              "      <td>251135</td>\n",
              "      <td>678</td>\n",
              "      <td>4248</td>\n",
              "      <td>7</td>\n",
              "      <td>1.0</td>\n",
              "    </tr>\n",
              "    <tr>\n",
              "      <th>859706</th>\n",
              "      <td>Centro-Oeste</td>\n",
              "      <td>DF</td>\n",
              "      <td>Brasília</td>\n",
              "      <td>53</td>\n",
              "      <td>530010.0</td>\n",
              "      <td>53001.0</td>\n",
              "      <td>DISTRITO FEDERAL</td>\n",
              "      <td>2020-12-31</td>\n",
              "      <td>53</td>\n",
              "      <td>3015268.0</td>\n",
              "      <td>251701</td>\n",
              "      <td>566</td>\n",
              "      <td>4259</td>\n",
              "      <td>11</td>\n",
              "      <td>1.0</td>\n",
              "    </tr>\n",
              "  </tbody>\n",
              "</table>\n",
              "<p>1573877 rows × 15 columns</p>\n",
              "</div>\n",
              "      <button class=\"colab-df-convert\" onclick=\"convertToInteractive('df-d325a655-996c-40a3-bceb-7b654c194690')\"\n",
              "              title=\"Convert this dataframe to an interactive table.\"\n",
              "              style=\"display:none;\">\n",
              "        \n",
              "  <svg xmlns=\"http://www.w3.org/2000/svg\" height=\"24px\"viewBox=\"0 0 24 24\"\n",
              "       width=\"24px\">\n",
              "    <path d=\"M0 0h24v24H0V0z\" fill=\"none\"/>\n",
              "    <path d=\"M18.56 5.44l.94 2.06.94-2.06 2.06-.94-2.06-.94-.94-2.06-.94 2.06-2.06.94zm-11 1L8.5 8.5l.94-2.06 2.06-.94-2.06-.94L8.5 2.5l-.94 2.06-2.06.94zm10 10l.94 2.06.94-2.06 2.06-.94-2.06-.94-.94-2.06-.94 2.06-2.06.94z\"/><path d=\"M17.41 7.96l-1.37-1.37c-.4-.4-.92-.59-1.43-.59-.52 0-1.04.2-1.43.59L10.3 9.45l-7.72 7.72c-.78.78-.78 2.05 0 2.83L4 21.41c.39.39.9.59 1.41.59.51 0 1.02-.2 1.41-.59l7.78-7.78 2.81-2.81c.8-.78.8-2.07 0-2.86zM5.41 20L4 18.59l7.72-7.72 1.47 1.35L5.41 20z\"/>\n",
              "  </svg>\n",
              "      </button>\n",
              "      \n",
              "  <style>\n",
              "    .colab-df-container {\n",
              "      display:flex;\n",
              "      flex-wrap:wrap;\n",
              "      gap: 12px;\n",
              "    }\n",
              "\n",
              "    .colab-df-convert {\n",
              "      background-color: #E8F0FE;\n",
              "      border: none;\n",
              "      border-radius: 50%;\n",
              "      cursor: pointer;\n",
              "      display: none;\n",
              "      fill: #1967D2;\n",
              "      height: 32px;\n",
              "      padding: 0 0 0 0;\n",
              "      width: 32px;\n",
              "    }\n",
              "\n",
              "    .colab-df-convert:hover {\n",
              "      background-color: #E2EBFA;\n",
              "      box-shadow: 0px 1px 2px rgba(60, 64, 67, 0.3), 0px 1px 3px 1px rgba(60, 64, 67, 0.15);\n",
              "      fill: #174EA6;\n",
              "    }\n",
              "\n",
              "    [theme=dark] .colab-df-convert {\n",
              "      background-color: #3B4455;\n",
              "      fill: #D2E3FC;\n",
              "    }\n",
              "\n",
              "    [theme=dark] .colab-df-convert:hover {\n",
              "      background-color: #434B5C;\n",
              "      box-shadow: 0px 1px 3px 1px rgba(0, 0, 0, 0.15);\n",
              "      filter: drop-shadow(0px 1px 2px rgba(0, 0, 0, 0.3));\n",
              "      fill: #FFFFFF;\n",
              "    }\n",
              "  </style>\n",
              "\n",
              "      <script>\n",
              "        const buttonEl =\n",
              "          document.querySelector('#df-d325a655-996c-40a3-bceb-7b654c194690 button.colab-df-convert');\n",
              "        buttonEl.style.display =\n",
              "          google.colab.kernel.accessAllowed ? 'block' : 'none';\n",
              "\n",
              "        async function convertToInteractive(key) {\n",
              "          const element = document.querySelector('#df-d325a655-996c-40a3-bceb-7b654c194690');\n",
              "          const dataTable =\n",
              "            await google.colab.kernel.invokeFunction('convertToInteractive',\n",
              "                                                     [key], {});\n",
              "          if (!dataTable) return;\n",
              "\n",
              "          const docLinkHtml = 'Like what you see? Visit the ' +\n",
              "            '<a target=\"_blank\" href=https://colab.research.google.com/notebooks/data_table.ipynb>data table notebook</a>'\n",
              "            + ' to learn more about interactive tables.';\n",
              "          element.innerHTML = '';\n",
              "          dataTable['output_type'] = 'display_data';\n",
              "          await google.colab.output.renderOutput(dataTable, element);\n",
              "          const docLink = document.createElement('div');\n",
              "          docLink.innerHTML = docLinkHtml;\n",
              "          element.appendChild(docLink);\n",
              "        }\n",
              "      </script>\n",
              "    </div>\n",
              "  </div>\n",
              "  "
            ]
          },
          "metadata": {},
          "execution_count": 34
        }
      ],
      "source": [
        "RegioesBrasil2020"
      ]
    },
    {
      "cell_type": "markdown",
      "metadata": {
        "id": "AtT3Qvu04o6O"
      },
      "source": [
        "# Concatenação dos bancos de dados dos anos 2020,2021,2022 para a visualização mais abrangente acerca dos casos novos no decorrer dos anos"
      ]
    },
    {
      "cell_type": "code",
      "execution_count": 148,
      "metadata": {
        "id": "ZIBQuMxS0FFF"
      },
      "outputs": [],
      "source": [
        "# Variáveis a serem usadas\n",
        "# DadosBrasil2020 -> 21, 22\n",
        "# RegioesBrasil2020 -> 21, 22\n",
        "\n",
        "RegioesBrasilFull = pd.concat([RegioesBrasil2020,RegioesBrasil2021,RegioesBrasil2022])"
      ]
    },
    {
      "cell_type": "code",
      "execution_count": null,
      "metadata": {
        "id": "DiveRM9616Gk",
        "colab": {
          "base_uri": "https://localhost:8080/"
        },
        "outputId": "301a4750-8881-4b12-b1a0-cb7b4bb5ddb8"
      },
      "outputs": [
        {
          "output_type": "execute_result",
          "data": {
            "text/plain": [
              "array(['Norte', 'Nordeste', 'Sudeste', 'Sul', 'Centro-Oeste'],\n",
              "      dtype=object)"
            ]
          },
          "metadata": {},
          "execution_count": 36
        }
      ],
      "source": [
        "RegioesBrasilFull['regiao'].unique()"
      ]
    },
    {
      "cell_type": "code",
      "execution_count": null,
      "metadata": {
        "id": "VrfZ0VBr1XPh"
      },
      "outputs": [],
      "source": [
        "# Definição de algumas cores para graficos\n",
        "regioes_colors = {\n",
        "    'Norte': '#FAA916',\n",
        "    'Nordeste': '#0FA3B1',\n",
        "    'Sudeste': '#BB4430',\n",
        "    'Sul': '#FFCBDB',\n",
        "    'Centro-Oeste': '#7D5B8C'\n",
        "}"
      ]
    },
    {
      "cell_type": "markdown",
      "metadata": {
        "id": "8vQCk_mP66vI"
      },
      "source": [
        "#Gráfico que mostra o número de casos novos no decorrer dos anos"
      ]
    },
    {
      "cell_type": "code",
      "execution_count": null,
      "metadata": {
        "id": "dM5HV70u3ehN",
        "colab": {
          "base_uri": "https://localhost:8080/",
          "height": 279
        },
        "outputId": "6ddc86b5-3695-4e05-dc24-6e5fcc78ce78"
      },
      "outputs": [
        {
          "output_type": "display_data",
          "data": {
            "text/plain": [
              "<Figure size 432x288 with 1 Axes>"
            ],
            "image/png": "[encoded data removed]"
          },
          "metadata": {
            "needs_background": "light"
          }
        }
      ],
      "source": [
        "group_date = RegioesBrasilFull.groupby(\"data\")\n",
        "group_date.sum()['casosNovos'].plot(c='#EF2D56')\n",
        "plt.ylabel('Quantidade de casos novos')\n",
        "plt.xlabel('Data')\n",
        "plt.show()"
      ]
    },
    {
      "cell_type": "markdown",
      "metadata": {
        "id": "A0RG8rHP8okG"
      },
      "source": [
        "# Visualizando a população dos estados para tentar ver alguma correlação"
      ]
    },
    {
      "cell_type": "code",
      "execution_count": null,
      "metadata": {
        "id": "imBYR9vO5FfF",
        "colab": {
          "base_uri": "https://localhost:8080/",
          "height": 297
        },
        "outputId": "e3190cd1-68cc-436a-922e-b5b2d6183ce2"
      },
      "outputs": [
        {
          "output_type": "display_data",
          "data": {
            "text/plain": [
              "<Figure size 432x288 with 1 Axes>"
            ],
            "image/png": "[encoded data removed]"
          },
          "metadata": {
            "needs_background": "light"
          }
        }
      ],
      "source": [
        "GroupState = RegioesBrasilFull.groupby('estado')\n",
        "GroupState.sum()['populacaoTCU2019'].plot(kind='bar', color='#EF2D56')\n",
        "plt.xlabel('Estado')\n",
        "plt.ylabel('População')\n",
        "plt.show()"
      ]
    },
    {
      "cell_type": "markdown",
      "metadata": {
        "id": "U5TyXJ6F9v3n"
      },
      "source": [
        "# Criando uma nova coluna para mostrar a proporção entre o número de casos novos e o tamanho da população para cada estado"
      ]
    },
    {
      "cell_type": "code",
      "execution_count": null,
      "metadata": {
        "id": "6nbIBOfs7MUe"
      },
      "outputs": [],
      "source": [
        "df = RegioesBrasilFull\n",
        "df['Prop'] = df['casosNovos'] / df['populacaoTCU2019']"
      ]
    },
    {
      "cell_type": "markdown",
      "metadata": {
        "id": "T61OThqB90Vo"
      },
      "source": [
        "# Gráfico que mostra a relação entre o número de casos novos e a população do estado"
      ]
    },
    {
      "cell_type": "code",
      "execution_count": null,
      "metadata": {
        "id": "dAHvX5BP9G0w",
        "colab": {
          "base_uri": "https://localhost:8080/",
          "height": 295
        },
        "outputId": "1da3ebd7-a6f8-4da7-b7aa-d15f31b45f2a"
      },
      "outputs": [
        {
          "output_type": "display_data",
          "data": {
            "text/plain": [
              "<Figure size 432x288 with 1 Axes>"
            ],
            "image/png": "[encoded data removed]"
          },
          "metadata": {
            "needs_background": "light"
          }
        }
      ],
      "source": [
        "GroupState = df.groupby('estado')\n",
        "GroupState.sum()['Prop'].plot(kind='bar', color='#EF2D56')\n",
        "plt.xlabel('Estado')\n",
        "plt.ylabel('Proporção (Casos novos / População do estado)')\n",
        "plt.show()"
      ]
    },
    {
      "cell_type": "markdown",
      "metadata": {
        "id": "NEaJ_vuE-Q2X"
      },
      "source": [
        "### O gráfico acima revela como ocorre reíncidencia ou aparecimento de novos casos de covid19 em cada estado de acordo com sua população durante os anos de 2020,2021 e 2022"
      ]
    },
    {
      "cell_type": "markdown",
      "metadata": {
        "id": "ig8WR_unAHsZ"
      },
      "source": [
        "# Gráfico para visualização da relação feita anteriormente para cada ano separadamente"
      ]
    },
    {
      "cell_type": "code",
      "execution_count": null,
      "metadata": {
        "id": "P-u76xTT_A6o",
        "colab": {
          "base_uri": "https://localhost:8080/",
          "height": 955
        },
        "outputId": "b70641c0-0278-4cd3-a7bd-3fb4dd412d17"
      },
      "outputs": [
        {
          "output_type": "display_data",
          "data": {
            "text/plain": [
              "<Figure size 432x288 with 1 Axes>"
            ],
            "image/png": "[encoded data removed]"
          },
          "metadata": {
            "needs_background": "light"
          }
        },
        {
          "output_type": "stream",
          "name": "stdout",
          "text": [
            " "
          ]
        },
        {
          "output_type": "display_data",
          "data": {
            "text/plain": [
              "<Figure size 432x288 with 1 Axes>"
            ],
            "image/png": "[encoded data removed]"
          },
          "metadata": {
            "needs_background": "light"
          }
        },
        {
          "output_type": "stream",
          "name": "stdout",
          "text": [
            " "
          ]
        },
        {
          "output_type": "display_data",
          "data": {
            "text/plain": [
              "<Figure size 432x288 with 1 Axes>"
            ],
            "image/png": "[encoded data removed]"
          },
          "metadata": {
            "needs_background": "light"
          }
        }
      ],
      "source": [
        "df1 = RegioesBrasil2020\n",
        "df2 = RegioesBrasil2021\n",
        "df3 = RegioesBrasil2022\n",
        "\n",
        "df1['Prop'] = df1['casosNovos'] / df1['populacaoTCU2019']\n",
        "df2['Prop'] = df2['casosNovos'] / df2['populacaoTCU2019']\n",
        "df3['Prop'] = df3['casosNovos'] / df3['populacaoTCU2019']\n",
        "\n",
        "\n",
        "GroupState1 = df1.groupby('estado')\n",
        "GroupState1.sum()['Prop'].plot(kind='bar', color='#EF2D56')\n",
        "plt.xlabel('Estado')\n",
        "plt.ylabel('Proporção (Casos novos / População do estado) em 2020')\n",
        "plt.yscale('log')\n",
        "plt.show()\n",
        "\n",
        "print(end=\" \")\n",
        "\n",
        "GroupState2 = df2.groupby('estado')\n",
        "GroupState2.sum()['Prop'].plot(kind='bar', color='#EF2D56')\n",
        "plt.xlabel('Estado')\n",
        "plt.ylabel('Proporção (Casos novos / População do estado) em 2021')\n",
        "plt.yscale('log')\n",
        "plt.show()\n",
        "\n",
        "print(end=\" \")\n",
        "\n",
        "\n",
        "GroupState3 = df3.groupby('estado')\n",
        "GroupState3.sum()['Prop'].plot(kind='bar', color='#EF2D56')\n",
        "plt.xlabel('Estado')\n",
        "plt.ylabel('Proporção (Casos novos / População do estado) em 2022')\n",
        "plt.yscale('log')\n",
        "plt.show()\n"
      ]
    },
    {
      "cell_type": "markdown",
      "metadata": {
        "id": "lamsaQn0VMkH"
      },
      "source": [
        "##Removendo valores negativos dos atributos dos dataframes"
      ]
    },
    {
      "cell_type": "code",
      "execution_count": null,
      "metadata": {
        "id": "FBC4CIRcVEZa"
      },
      "outputs": [],
      "source": [
        "covid2020 = covid2020[(covid2020['casosNovos'] >=0 ) & (covid2020['obitosNovos'] >= 0) & (covid2020['populacaoTCU2019'] >= 0) & (covid2020['obitosAcumulado'] >= 0) & (covid2020['Recuperadosnovos'] >= 0) & (covid2020['emAcompanhamentoNovos'] >= 0)]"
      ]
    },
    {
      "cell_type": "code",
      "execution_count": null,
      "metadata": {
        "id": "HnLa6PNZVN6c"
      },
      "outputs": [],
      "source": [
        "covid2021 = covid2021[(covid2021['casosNovos'] >=0 ) & (covid2021['obitosNovos'] >= 0) & (covid2021['populacaoTCU2019'] >= 0) & (covid2021['obitosAcumulado'] >= 0) & (covid2021['Recuperadosnovos'] >= 0) & (covid2021['emAcompanhamentoNovos'] >= 0)]"
      ]
    },
    {
      "cell_type": "code",
      "execution_count": null,
      "metadata": {
        "id": "UxFJ7TYNVRyj"
      },
      "outputs": [],
      "source": [
        "covid2022 = covid2022[(covid2022['casosNovos'] >=0 ) & (covid2022['obitosNovos'] >= 0) & (covid2022['populacaoTCU2019'] >= 0) & (covid2022['obitosAcumulado'] >= 0) & (covid2022['Recuperadosnovos'] >= 0) & (covid2022['emAcompanhamentoNovos'] >= 0)]"
      ]
    },
    {
      "cell_type": "markdown",
      "metadata": {
        "id": "BTyY6NgMlULN"
      },
      "source": [
        "# Questionamentos levantados pelo grupo"
      ]
    },
    {
      "cell_type": "markdown",
      "metadata": {
        "id": "iL8Ctkjph4RK"
      },
      "source": [
        "# 1 - Existe uma relação entre o aumento no número de óbitos em relação ao número de casos novos de COVID-19 entre anos de 2020, 2021 e 2022?\n"
      ]
    },
    {
      "cell_type": "markdown",
      "metadata": {
        "id": "PKLOEh6Umr66"
      },
      "source": [
        "### Em 2020"
      ]
    },
    {
      "cell_type": "code",
      "execution_count": null,
      "metadata": {
        "id": "X9glpvw_h92f",
        "colab": {
          "base_uri": "https://localhost:8080/"
        },
        "outputId": "14bf3396-8a5f-467d-b85a-f705d1ba5b19"
      },
      "outputs": [
        {
          "output_type": "stream",
          "name": "stdout",
          "text": [
            "MÉDIA DE CASOS NOVOS EM 2020\n",
            "regiao\n",
            "Centro-Oeste    13.268112\n",
            "Nordeste         7.555598\n",
            "Norte           13.351287\n",
            "Sudeste         11.489979\n",
            "Sul              8.125505\n",
            "Name: casosNovos, dtype: float64\n",
            "==============================\n",
            "MEDIA DE NOVOS OBITOS EM 2020\n",
            "regiao\n",
            "Centro-Oeste    0.279654\n",
            "Nordeste        0.191892\n",
            "Norte           0.284862\n",
            "Sudeste         0.385244\n",
            "Sul             0.132879\n",
            "Name: obitosNovos, dtype: float64\n",
            "==============================\n"
          ]
        }
      ],
      "source": [
        "df_covid2020 = RegioesBrasil2020.groupby('regiao')\n",
        "mediaCasosNovos2020 = df_covid2020['casosNovos'].mean().head(10)\n",
        "print(\"MÉDIA DE CASOS NOVOS EM 2020\")\n",
        "print(mediaCasosNovos2020)\n",
        "print(\"=\"*30)\n",
        "\n",
        "mediaCasosNovos2020 = df_covid2020['obitosNovos'].mean().head(10)\n",
        "print(\"MEDIA DE NOVOS OBITOS EM 2020\")\n",
        "print(mediaCasosNovos2020)\n",
        "print(\"=\"*30)\n",
        "\n"
      ]
    },
    {
      "cell_type": "markdown",
      "metadata": {
        "id": "eGE9lyERmo5j"
      },
      "source": [
        "### Em 2021"
      ]
    },
    {
      "cell_type": "code",
      "execution_count": null,
      "metadata": {
        "id": "1rQasJpRisoJ",
        "colab": {
          "base_uri": "https://localhost:8080/"
        },
        "outputId": "6318e6a1-3835-4063-b78b-a45b8a874eea"
      },
      "outputs": [
        {
          "output_type": "stream",
          "name": "stdout",
          "text": [
            "MÉDIA DE CASOS NOVOS EM 2021\n",
            "regiao\n",
            "Centro-Oeste    17.799948\n",
            "Nordeste        10.113612\n",
            "Norte           12.766361\n",
            "Sudeste         19.639868\n",
            "Sul             14.838546\n",
            "Name: casosNovos, dtype: float64\n",
            "==============================\n",
            "MEDIA DE NOVOS OBITOS EM 2021\n",
            "regiao\n",
            "Centro-Oeste    0.483883\n",
            "Nordeste        0.252898\n",
            "Norte           0.355396\n",
            "Sudeste         0.676207\n",
            "Sul             0.372713\n",
            "Name: obitosNovos, dtype: float64\n",
            "==============================\n"
          ]
        }
      ],
      "source": [
        "df_covid2021 = RegioesBrasil2021.groupby('regiao')\n",
        "mediaCasosNovos2021 = df_covid2021['casosNovos'].mean().head(10)\n",
        "print(\"MÉDIA DE CASOS NOVOS EM 2021\")\n",
        "print(mediaCasosNovos2021)\n",
        "print(\"=\"*30)\n",
        "\n",
        "mediaCasosNovos2021 = df_covid2021['obitosNovos'].mean().head(10)\n",
        "print(\"MEDIA DE NOVOS OBITOS EM 2021\")\n",
        "print(mediaCasosNovos2021)\n",
        "print(\"=\"*30)\n"
      ]
    },
    {
      "cell_type": "markdown",
      "metadata": {
        "id": "AMWq7wdbmlNh"
      },
      "source": [
        "### Em 2022"
      ]
    },
    {
      "cell_type": "code",
      "execution_count": null,
      "metadata": {
        "id": "wfqI6QKjiu6V",
        "colab": {
          "base_uri": "https://localhost:8080/"
        },
        "outputId": "e5491c2a-0c29-4363-b3bd-a7c13498e76c"
      },
      "outputs": [
        {
          "output_type": "stream",
          "name": "stdout",
          "text": [
            "MÉDIA DE CASOS NOVOS EM 2022\n",
            "regiao\n",
            "Centro-Oeste    26.743857\n",
            "Nordeste        10.312552\n",
            "Norte           20.550805\n",
            "Sudeste         27.736540\n",
            "Sul             26.284266\n",
            "Name: casosNovos, dtype: float64\n",
            "==============================\n",
            "MEDIA DE NOVOS OBITOS EM 2022\n",
            "regiao\n",
            "Centro-Oeste    0.118860\n",
            "Nordeste        0.110623\n",
            "Norte           0.125621\n",
            "Sudeste         0.192531\n",
            "Sul             0.080830\n",
            "Name: obitosNovos, dtype: float64\n",
            "==============================\n"
          ]
        }
      ],
      "source": [
        "df_covid2022 = RegioesBrasil2022.groupby('regiao')\n",
        "mediaCasosNovos2022 = df_covid2022['casosNovos'].mean().head(10)\n",
        "print(\"MÉDIA DE CASOS NOVOS EM 2022\")\n",
        "print(mediaCasosNovos2022)\n",
        "print(\"=\"*30)\n",
        "\n",
        "mediaCasosNovos2022 = df_covid2022['obitosNovos'].mean().head(10)\n",
        "print(\"MEDIA DE NOVOS OBITOS EM 2022\")\n",
        "print(mediaCasosNovos2022)\n",
        "print(\"=\"*30)\n"
      ]
    },
    {
      "cell_type": "markdown",
      "metadata": {
        "id": "7A33PeUpEsNw"
      },
      "source": [
        "### Pode-se observar que a média de casos novos aumentou de forma crescente entre os anos de 2020 a 2022. E além disso, temos que entre o período de 2020 a 2021, houve um aumento no número de casos registrados e também um aumento na média de óbitos registrados. Entretanto, em relação ao ano de 2021 a 2022, também tivemos um aumento no número de casos registrados, porém uma diminuição na média de casos de óbitos registrados. Este é possivelmente um indicativo positivo sobre a eficiência da vacina.  "
      ]
    },
    {
      "cell_type": "markdown",
      "metadata": {
        "id": "HH1Yo2e9sMxj"
      },
      "source": [
        "# 2 - Qual o número de casos novos de Covid em cada região nos anos de  2020, 2021 e 2022 ?"
      ]
    },
    {
      "cell_type": "markdown",
      "metadata": {
        "id": "lWfFaxamsLO0"
      },
      "source": [
        "### 2020"
      ]
    },
    {
      "cell_type": "code",
      "execution_count": null,
      "metadata": {
        "id": "748OCaTrr6Uu",
        "colab": {
          "base_uri": "https://localhost:8080/",
          "height": 451
        },
        "outputId": "911498cb-af11-4231-8908-72bc6da70ad2"
      },
      "outputs": [
        {
          "output_type": "stream",
          "name": "stdout",
          "text": [
            "QUANTIDADE DE CASOS NOVOS EM 2020\n",
            "regiao\n",
            "Centro-Oeste    1758874\n",
            "Nordeste        3835516\n",
            "Norte           1722543\n",
            "Sudeste         5393442\n",
            "Sul             2724100\n",
            "Name: casosNovos, dtype: int64\n",
            "==============================\n"
          ]
        },
        {
          "output_type": "display_data",
          "data": {
            "text/plain": [
              "<Figure size 432x288 with 1 Axes>"
            ],
            "image/png": "[encoded data removed]"
          },
          "metadata": {
            "needs_background": "light"
          }
        }
      ],
      "source": [
        "df_covid2020 = RegioesBrasil2020.groupby('regiao')\n",
        "casosNovos2020 = df_covid2020['casosNovos'].sum().head(10)\n",
        "print(\"QUANTIDADE DE CASOS NOVOS EM 2020\")\n",
        "print(casosNovos2020)\n",
        "print(\"=\"*30)\n",
        "\n",
        "df_covid2020.sum()['casosNovos'].plot(c='#EF2D56')\n",
        "plt.xlabel('Região')\n",
        "plt.ylabel('Quantidade de casos novos')\n",
        "plt.title(\"Quantidade de casos novos nas regiões do Brasil\")\n",
        "plt.show()"
      ]
    },
    {
      "cell_type": "markdown",
      "metadata": {
        "id": "RaxLmlXgsJQx"
      },
      "source": [
        "### 2021"
      ]
    },
    {
      "cell_type": "code",
      "execution_count": null,
      "metadata": {
        "id": "ePwUyfnRsBWo",
        "colab": {
          "base_uri": "https://localhost:8080/",
          "height": 451
        },
        "outputId": "0f9337b2-9b57-4d4c-be76-f2bc7b0d6910"
      },
      "outputs": [
        {
          "output_type": "stream",
          "name": "stdout",
          "text": [
            "QUANTIDADE DE CASOS NOVOS EM 2021\n",
            "regiao\n",
            "Centro-Oeste     3073072\n",
            "Nordeste         6688941\n",
            "Norte            2143472\n",
            "Sudeste         12014493\n",
            "Sul              6483035\n",
            "Name: casosNovos, dtype: int64\n",
            "==============================\n"
          ]
        },
        {
          "output_type": "display_data",
          "data": {
            "text/plain": [
              "<Figure size 432x288 with 1 Axes>"
            ],
            "image/png": "[encoded data removed]"
          },
          "metadata": {
            "needs_background": "light"
          }
        }
      ],
      "source": [
        "df_covid2021 = RegioesBrasil2021.groupby('regiao')\n",
        "casosNovos2021 = df_covid2021['casosNovos'].sum().head(10)\n",
        "print(\"QUANTIDADE DE CASOS NOVOS EM 2021\")\n",
        "print(casosNovos2021)\n",
        "print(\"=\"*30)\n",
        "\n",
        "df_covid2021.sum()['casosNovos'].plot(c='#EF2D56')\n",
        "plt.xlabel('Região')\n",
        "plt.ylabel('Quantidade de casos novos')\n",
        "plt.title(\"Quantidade de casos novos nas regiões do Brasil\")\n",
        "plt.show()\n"
      ]
    },
    {
      "cell_type": "markdown",
      "metadata": {
        "id": "2V4LZeZTsF8I"
      },
      "source": [
        "### 2022"
      ]
    },
    {
      "cell_type": "code",
      "execution_count": null,
      "metadata": {
        "id": "XbaGF8F-sEwx",
        "colab": {
          "base_uri": "https://localhost:8080/",
          "height": 451
        },
        "outputId": "f10444db-6a12-4afb-f47b-56c49a967bb7"
      },
      "outputs": [
        {
          "output_type": "stream",
          "name": "stdout",
          "text": [
            "QUANTIDADE DE CASOS NOVOS EM 2022\n",
            "regiao\n",
            "Centro-Oeste    1948076\n",
            "Nordeste        2877697\n",
            "Norte           1455819\n",
            "Sudeste         7158912\n",
            "Sul             4845189\n",
            "Name: casosNovos, dtype: int64\n",
            "==============================\n"
          ]
        },
        {
          "output_type": "display_data",
          "data": {
            "text/plain": [
              "<Figure size 432x288 with 1 Axes>"
            ],
            "image/png": "[encoded data removed]"
          },
          "metadata": {
            "needs_background": "light"
          }
        }
      ],
      "source": [
        "df_covid2022 = RegioesBrasil2022.groupby('regiao')\n",
        "casosNovos2022 = df_covid2022['casosNovos'].sum().head(10)\n",
        "print(\"QUANTIDADE DE CASOS NOVOS EM 2022\")\n",
        "print(casosNovos2022)\n",
        "print(\"=\"*30)\n",
        "\n",
        "df_covid2022.sum()['casosNovos'].plot(c='#EF2D56')\n",
        "plt.xlabel('Região')\n",
        "plt.ylabel('Quantidade de casos novos')\n",
        "plt.title(\"Quantidade de casos novos nas regiões do Brasil\")\n",
        "plt.show()"
      ]
    },
    {
      "cell_type": "markdown",
      "metadata": {
        "id": "Mk6ZG5k6f4rI"
      },
      "source": [
        "#3 - Óbitos de covid durante o ano de 2022?"
      ]
    },
    {
      "cell_type": "code",
      "execution_count": null,
      "metadata": {
        "id": "3Hykyz7-f8fJ",
        "colab": {
          "base_uri": "https://localhost:8080/"
        },
        "outputId": "f1b08958-7d14-48d0-944e-170a2fd53532"
      },
      "outputs": [
        {
          "output_type": "execute_result",
          "data": {
            "text/plain": [
              "47915"
            ]
          },
          "metadata": {},
          "execution_count": 52
        }
      ],
      "source": [
        "DadosBrasil2022['obitosNovos'].sum()"
      ]
    },
    {
      "cell_type": "markdown",
      "metadata": {
        "id": "39Wy2miRg0Zw"
      },
      "source": [
        "#4 - Quais as regiões mais afetadas pela Covid-19?"
      ]
    },
    {
      "cell_type": "code",
      "execution_count": null,
      "metadata": {
        "id": "m70ilSpNg0FX",
        "colab": {
          "base_uri": "https://localhost:8080/",
          "height": 690
        },
        "outputId": "b53b32b4-12e5-463f-bc12-cd08c9bb1699"
      },
      "outputs": [
        {
          "output_type": "display_data",
          "data": {
            "text/plain": [
              "<Figure size 432x288 with 1 Axes>"
            ],
            "image/png": "[encoded data removed]"
          },
          "metadata": {
            "needs_background": "light"
          }
        },
        {
          "output_type": "stream",
          "name": "stdout",
          "text": [
            "\n",
            "\n"
          ]
        },
        {
          "output_type": "display_data",
          "data": {
            "text/plain": [
              "<Figure size 432x288 with 1 Axes>"
            ],
            "image/png": "[encoded data removed]"
          },
          "metadata": {
            "needs_background": "light"
          }
        }
      ],
      "source": [
        "# Pegando o gráfico para analisar os casos novos em cada região\n",
        "GroupState1 = RegioesBrasilFull.groupby('regiao')\n",
        "GroupState1.sum()['casosNovos'].plot(kind='bar', color='#EF2D56')\n",
        "plt.xlabel('Regiao')\n",
        "plt.ylabel('Casos Novos')\n",
        "plt.yscale('log')\n",
        "plt.show()\n",
        "# Pegando o gráfico para analisar os óbitos novos em cada região\n",
        "print('\\n')\n",
        "GroupState1 = RegioesBrasilFull.groupby('regiao')\n",
        "GroupState1.sum()['obitosNovos'].plot(kind='bar', color='#EF2D56')\n",
        "plt.xlabel('Regiao')\n",
        "plt.ylabel('Óbitos novos')\n",
        "plt.yscale('log')\n",
        "plt.show()"
      ]
    },
    {
      "cell_type": "markdown",
      "metadata": {
        "id": "gTEdELlYj46B"
      },
      "source": [
        "##Por meio desses dois gráficos que analisam os óbitos novos e os casos novos de covid19, podemos observar que as regiões mais afetadas pela covid são as regiões Nordeste,Sudeste e sul respectivamente."
      ]
    },
    {
      "cell_type": "markdown",
      "metadata": {
        "id": "lRRVnbLtkSCH"
      },
      "source": [
        "#5 -  Qual o ano mais afetado pela Covid 19 ?"
      ]
    },
    {
      "cell_type": "code",
      "execution_count": null,
      "metadata": {
        "id": "mb-jIhqmkVL2",
        "colab": {
          "base_uri": "https://localhost:8080/",
          "height": 295
        },
        "outputId": "5361c091-63c4-4341-cb84-2fbd3b1bb3c7"
      },
      "outputs": [
        {
          "output_type": "display_data",
          "data": {
            "text/plain": [
              "<Figure size 432x288 with 1 Axes>"
            ],
            "image/png": "[encoded data removed]"
          },
          "metadata": {
            "needs_background": "light"
          }
        }
      ],
      "source": [
        "data = pd.DataFrame(columns = ['Ano' , 'QtdCasosNovos'])\n",
        "data.loc[0] = ['2020',DadosBrasil2020['casosNovos'].sum()]\n",
        "data.loc[1] = ['2021',DadosBrasil2021['casosNovos'].sum()]\n",
        "data.loc[2] = ['2022',DadosBrasil2022['casosNovos'].sum()]\n",
        "\n",
        "GroupState1 = data.groupby('Ano')\n",
        "GroupState1.sum()['QtdCasosNovos'].plot(kind='bar', color='#EF2D56')\n",
        "plt.xlabel('Ano')\n",
        "plt.ylabel('QtdCasosNovos')\n",
        "plt.yscale('log')\n",
        "plt.show()"
      ]
    },
    {
      "cell_type": "markdown",
      "metadata": {
        "id": "d8jVoI1KuX6F"
      },
      "source": [
        "## Por meio desse gráfico, podemos notar que o ano mais afetado com novos casos de covid19 é o ano de 2021 com maior número de aparecimento de novos casos dentre os 3 anos"
      ]
    },
    {
      "cell_type": "markdown",
      "metadata": {
        "id": "-UIykCLfuig3"
      },
      "source": [
        "#6 - Qual a probabilidade de ocorrer um caso em Minas Gerais ?"
      ]
    },
    {
      "cell_type": "code",
      "execution_count": null,
      "metadata": {
        "id": "ewazYIJFunQe",
        "colab": {
          "base_uri": "https://localhost:8080/"
        },
        "outputId": "4eec832b-4b45-421e-e3dd-b3d2188f82ce"
      },
      "outputs": [
        {
          "output_type": "stream",
          "name": "stdout",
          "text": [
            "A probabilidade é de 32.35770556432507%\n"
          ]
        }
      ],
      "source": [
        "#Considerando todos os anos e voltando apenas para o estado de Minas Gerais, temos que a probabilidade de ocorrer um caso novo, seja uma relação entre os casos novos e o número de pessoas no estado de minas\n",
        "# População estimada em Minas Gerais = 21.411.923 no ano de 2021\n",
        "\n",
        "Minas = RegioesBrasilFull[RegioesBrasilFull['estado'] == 'MG']['casosNovos'].sum()\n",
        "print(f'A probabilidade é de {(Minas/21411923)*100}%')"
      ]
    },
    {
      "cell_type": "markdown",
      "metadata": {
        "id": "U3QEGXaOw7Lc"
      },
      "source": [
        "#7 - Qual a probabilidade de ocorrer um novo caso de Covid-19 em 2022 ?"
      ]
    },
    {
      "cell_type": "code",
      "execution_count": null,
      "metadata": {
        "id": "t2WCSMMtw9H9",
        "colab": {
          "base_uri": "https://localhost:8080/"
        },
        "outputId": "f2e6ed82-4983-474f-cb32-591356d419e5"
      },
      "outputs": [
        {
          "output_type": "stream",
          "name": "stdout",
          "text": [
            "A probabilidade é de 4.086282301833968%\n"
          ]
        }
      ],
      "source": [
        "#Estimativa da população brasileira em 2022  == 216 577 254\n",
        "\n",
        "Dados = DadosBrasil2022['casosNovos'].sum()\n",
        "print(f'A probabilidade é de {(Dados/216577254)*100}%')"
      ]
    },
    {
      "cell_type": "markdown",
      "metadata": {
        "id": "OuBHqOaVlqGU"
      },
      "source": [
        "#8 - Quais as regiões menos afetadas pela Covid nos anos de 2020, 2021 e 2022 ?"
      ]
    },
    {
      "cell_type": "markdown",
      "metadata": {
        "id": "ZZA-7CJ1fO2x"
      },
      "source": [
        "Para descobrir qual região foi mais afetada pelo covid, primeiro plotamos um gráfico para visualizar as regiões que mais tiveram casos novos"
      ]
    },
    {
      "cell_type": "markdown",
      "metadata": {
        "id": "L-BRU7erhrsJ"
      },
      "source": [
        "Visualizando o gráfico abaixo é possível perceber que as regiões menos afetadas foram as regiões Centro-Oeste, Norte e Sul."
      ]
    },
    {
      "cell_type": "code",
      "execution_count": null,
      "metadata": {
        "id": "_2Q9TSI2mlnH",
        "colab": {
          "base_uri": "https://localhost:8080/",
          "height": 307
        },
        "outputId": "b7cdf821-5c2b-4864-b3ad-0eeba125e2da"
      },
      "outputs": [
        {
          "output_type": "stream",
          "name": "stdout",
          "text": [
            "Quantidade de casos novos no dataframe de 2020\n"
          ]
        },
        {
          "output_type": "display_data",
          "data": {
            "text/plain": [
              "<Figure size 432x288 with 1 Axes>"
            ],
            "image/png": "[encoded data removed]"
          },
          "metadata": {
            "needs_background": "light"
          }
        }
      ],
      "source": [
        "casosNovos2020  = RegioesBrasil2020.groupby('regiao')\n",
        "casosNovos2020.sum()['casosNovos'].plot(c='#EF2D56')\n",
        "plt.ylabel('CasosNovos')\n",
        "plt.xlabel('Região')\n",
        "print(\"Quantidade de casos novos no dataframe de 2020\")\n",
        "plt.show()"
      ]
    },
    {
      "cell_type": "markdown",
      "metadata": {
        "id": "Zw5b1FhGh-lB"
      },
      "source": [
        "Veja abaixo a quantidade de casos novos em cada região, isto agrupando as regiões e somando a quantidade de casos novos. Nele é ratificado as informações do gráfico, onde demonstra ratificar a confirmação anterior que as regiões Centro-Oeste e Norte são as regiões que menor tiveram casos novos de covid. Veja os dados em ordem crescente abaixo."
      ]
    },
    {
      "cell_type": "code",
      "execution_count": null,
      "metadata": {
        "id": "H6KbIatYqb_9",
        "colab": {
          "base_uri": "https://localhost:8080/"
        },
        "outputId": "8599d163-5af9-470f-9684-a7deb68362a4"
      },
      "outputs": [
        {
          "output_type": "execute_result",
          "data": {
            "text/plain": [
              "regiao\n",
              "Norte           1722543\n",
              "Centro-Oeste    1758874\n",
              "Sul             2724100\n",
              "Nordeste        3835516\n",
              "Sudeste         5393442\n",
              "Name: casosNovos, dtype: int64"
            ]
          },
          "metadata": {},
          "execution_count": 58
        }
      ],
      "source": [
        "casosNovos2020  = RegioesBrasil2020.groupby('regiao')\n",
        "casosNovos2020['casosNovos'].sum().sort_values()"
      ]
    },
    {
      "cell_type": "markdown",
      "metadata": {
        "id": "pQUKeOlJjPGe"
      },
      "source": [
        "Veja agora no ano de 2021 quais foram as regiões que mais tiveram novos casos de covid, e com isto foram mais afetadas."
      ]
    },
    {
      "cell_type": "code",
      "execution_count": null,
      "metadata": {
        "id": "YiamTo3Zf85M",
        "colab": {
          "base_uri": "https://localhost:8080/",
          "height": 307
        },
        "outputId": "dd709c50-8e8f-41e4-aac6-80c0414e6a5f"
      },
      "outputs": [
        {
          "output_type": "stream",
          "name": "stdout",
          "text": [
            "Quantidade de casos novos no dataframe de 2021\n"
          ]
        },
        {
          "output_type": "display_data",
          "data": {
            "text/plain": [
              "<Figure size 432x288 with 1 Axes>"
            ],
            "image/png": "[encoded data removed]"
          },
          "metadata": {
            "needs_background": "light"
          }
        }
      ],
      "source": [
        "casosNovos2021  = RegioesBrasil2021.groupby('regiao')\n",
        "casosNovos2021.sum()['casosNovos'].plot(c='#EF2D56')\n",
        "plt.ylabel('CasosNovos')\n",
        "plt.xlabel('Região')\n",
        "print(\"Quantidade de casos novos no dataframe de 2021\")\n",
        "plt.show()"
      ]
    },
    {
      "cell_type": "markdown",
      "metadata": {
        "id": "DBQY1DkYkiv8"
      },
      "source": [
        "No gráfico e somando os casos novos de covid é possível ver que as regiões menos afetadas nos anos de 2021 foram as regiões do Norte e Centro-Oeste novamente. Veja os dados em ordem crescente abaixo."
      ]
    },
    {
      "cell_type": "code",
      "execution_count": null,
      "metadata": {
        "id": "Qme5gElnkIQ7",
        "colab": {
          "base_uri": "https://localhost:8080/"
        },
        "outputId": "3c27c600-4a83-46e9-c118-6ef791cecffa"
      },
      "outputs": [
        {
          "output_type": "execute_result",
          "data": {
            "text/plain": [
              "regiao\n",
              "Norte            2143472\n",
              "Centro-Oeste     3073072\n",
              "Sul              6483035\n",
              "Nordeste         6688941\n",
              "Sudeste         12014493\n",
              "Name: casosNovos, dtype: int64"
            ]
          },
          "metadata": {},
          "execution_count": 60
        }
      ],
      "source": [
        "casosNovos2021  = RegioesBrasil2021.groupby('regiao')\n",
        "casosNovos2021['casosNovos'].sum().sort_values()"
      ]
    },
    {
      "cell_type": "markdown",
      "metadata": {
        "id": "wdKMJzyulBd-"
      },
      "source": [
        "Agora iremos verificar quais regiões no ano de 2022 foram mais afetadas pelo covid."
      ]
    },
    {
      "cell_type": "code",
      "execution_count": null,
      "metadata": {
        "id": "wze9dmowlHv2",
        "colab": {
          "base_uri": "https://localhost:8080/",
          "height": 307
        },
        "outputId": "86e4fec9-3bb2-4c9e-f308-03b6ebe5233c"
      },
      "outputs": [
        {
          "output_type": "stream",
          "name": "stdout",
          "text": [
            "Quantidade de casos novos no dataframe de 2022\n"
          ]
        },
        {
          "output_type": "display_data",
          "data": {
            "text/plain": [
              "<Figure size 432x288 with 1 Axes>"
            ],
            "image/png": "[encoded data removed]"
          },
          "metadata": {
            "needs_background": "light"
          }
        }
      ],
      "source": [
        "casosNovos2022  = RegioesBrasil2022.groupby('regiao')\n",
        "casosNovos2022.sum()['casosNovos'].plot(c='#EF2D56')\n",
        "plt.ylabel('CasosNovos')\n",
        "plt.xlabel('Região')\n",
        "print(\"Quantidade de casos novos no dataframe de 2022\")\n",
        "plt.show()"
      ]
    },
    {
      "cell_type": "markdown",
      "metadata": {
        "id": "f12fyzaglbZ-"
      },
      "source": [
        "Novamente o Centro-Oeste e o Norte tiveram meno casos de covid, veja abaixo a soma dos novos casos."
      ]
    },
    {
      "cell_type": "code",
      "execution_count": null,
      "metadata": {
        "id": "Q3dab_LElQW9",
        "colab": {
          "base_uri": "https://localhost:8080/"
        },
        "outputId": "0a98f8cf-74ec-4e03-e1df-f7bd1cb7a8a6"
      },
      "outputs": [
        {
          "output_type": "execute_result",
          "data": {
            "text/plain": [
              "regiao\n",
              "Norte           1455819\n",
              "Centro-Oeste    1948076\n",
              "Nordeste        2877697\n",
              "Sul             4845189\n",
              "Sudeste         7158912\n",
              "Name: casosNovos, dtype: int64"
            ]
          },
          "metadata": {},
          "execution_count": 62
        }
      ],
      "source": [
        "casosNovos2022  = RegioesBrasil2022.groupby('regiao')\n",
        "casosNovos2022['casosNovos'].sum().sort_values()"
      ]
    },
    {
      "cell_type": "markdown",
      "metadata": {
        "id": "gCnR-gj4lpmI"
      },
      "source": [
        "Veja agora o dataframe, cujo os dados são a concatenação dos dataframes de 2020, 2021 e 2022. Nele veremos quais regiões foram mais afetadas nos 3 anos. Veja os dados em ordem crescente abaixo."
      ]
    },
    {
      "cell_type": "code",
      "execution_count": null,
      "metadata": {
        "id": "7_tRomC_mH2c",
        "colab": {
          "base_uri": "https://localhost:8080/"
        },
        "outputId": "97696f61-e545-411a-c91d-29b9a3cf6c99"
      },
      "outputs": [
        {
          "output_type": "execute_result",
          "data": {
            "text/plain": [
              "regiao\n",
              "Norte            5321834\n",
              "Centro-Oeste     6780022\n",
              "Nordeste        13402154\n",
              "Sul             14052324\n",
              "Sudeste         24566847\n",
              "Name: casosNovos, dtype: int64"
            ]
          },
          "metadata": {},
          "execution_count": 63
        }
      ],
      "source": [
        "df = RegioesBrasilFull.groupby('regiao')\n",
        "df['casosNovos'].sum().sort_values()"
      ]
    },
    {
      "cell_type": "markdown",
      "metadata": {
        "id": "Vqlt4OqT-M4Z"
      },
      "source": [
        "#9 - Qual o estado teve o maior número de casos em 2022 ?"
      ]
    },
    {
      "cell_type": "code",
      "execution_count": null,
      "metadata": {
        "id": "xa23sv8g_pVV",
        "colab": {
          "base_uri": "https://localhost:8080/",
          "height": 661
        },
        "outputId": "7da57f9e-d008-44f4-c4b0-be695e76243b"
      },
      "outputs": [
        {
          "output_type": "execute_result",
          "data": {
            "text/plain": [
              "              regiao estado municipio  coduf    codmun  codRegiaoSaude  \\\n",
              "154            Norte     RO       NaN     11       NaN             NaN   \n",
              "155            Norte     RO       NaN     11       NaN             NaN   \n",
              "156            Norte     RO       NaN     11       NaN             NaN   \n",
              "157            Norte     RO       NaN     11       NaN             NaN   \n",
              "158            Norte     RO       NaN     11       NaN             NaN   \n",
              "...              ...    ...       ...    ...       ...             ...   \n",
              "865321  Centro-Oeste     DF  Brasília     53  530010.0         53001.0   \n",
              "865322  Centro-Oeste     DF  Brasília     53  530010.0         53001.0   \n",
              "865323  Centro-Oeste     DF  Brasília     53  530010.0         53001.0   \n",
              "865324  Centro-Oeste     DF  Brasília     53  530010.0         53001.0   \n",
              "865325  Centro-Oeste     DF  Brasília     53  530010.0         53001.0   \n",
              "\n",
              "         nomeRegiaoSaude        data  semanaEpi  populacaoTCU2019  \\\n",
              "154                  NaN  2022-01-01         52         1777225.0   \n",
              "155                  NaN  2022-01-02          1         1777225.0   \n",
              "156                  NaN  2022-01-03          1         1777225.0   \n",
              "157                  NaN  2022-01-04          1         1777225.0   \n",
              "158                  NaN  2022-01-05          1         1777225.0   \n",
              "...                  ...         ...        ...               ...   \n",
              "865321  DISTRITO FEDERAL  2022-05-30         22         3015268.0   \n",
              "865322  DISTRITO FEDERAL  2022-05-31         22         3015268.0   \n",
              "865323  DISTRITO FEDERAL  2022-06-01         22         3015268.0   \n",
              "865324  DISTRITO FEDERAL  2022-06-02         22         3015268.0   \n",
              "865325  DISTRITO FEDERAL  2022-06-03         22         3015268.0   \n",
              "\n",
              "        casosAcumulado  casosNovos  obitosAcumulado  obitosNovos  \\\n",
              "154           284660.0          34             6737            3   \n",
              "155           284692.0          32             6739            2   \n",
              "156           284783.0          91             6742            3   \n",
              "157           285037.0         254             6745            3   \n",
              "158           285269.0         232             6748            3   \n",
              "...                ...         ...              ...          ...   \n",
              "865321        708552.0        2604            11691            1   \n",
              "865322        710694.0        2142            11691            0   \n",
              "865323        712968.0        2274            11692            1   \n",
              "865324        715938.0        2970            11692            0   \n",
              "865325        718242.0        2304            11692            0   \n",
              "\n",
              "        interior/metropolitana      Prop  \n",
              "154                        NaN  0.000019  \n",
              "155                        NaN  0.000018  \n",
              "156                        NaN  0.000051  \n",
              "157                        NaN  0.000143  \n",
              "158                        NaN  0.000131  \n",
              "...                        ...       ...  \n",
              "865321                     1.0  0.000864  \n",
              "865322                     1.0  0.000710  \n",
              "865323                     1.0  0.000754  \n",
              "865324                     1.0  0.000985  \n",
              "865325                     1.0  0.000764  \n",
              "\n",
              "[865172 rows x 16 columns]"
            ],
            "text/html": [
              "\n",
              "  <div id=\"df-d7c489b9-78e1-4e30-a9df-ae153567266c\">\n",
              "    <div class=\"colab-df-container\">\n",
              "      <div>\n",
              "<style scoped>\n",
              "    .dataframe tbody tr th:only-of-type {\n",
              "        vertical-align: middle;\n",
              "    }\n",
              "\n",
              "    .dataframe tbody tr th {\n",
              "        vertical-align: top;\n",
              "    }\n",
              "\n",
              "    .dataframe thead th {\n",
              "        text-align: right;\n",
              "    }\n",
              "</style>\n",
              "<table border=\"1\" class=\"dataframe\">\n",
              "  <thead>\n",
              "    <tr style=\"text-align: right;\">\n",
              "      <th></th>\n",
              "      <th>regiao</th>\n",
              "      <th>estado</th>\n",
              "      <th>municipio</th>\n",
              "      <th>coduf</th>\n",
              "      <th>codmun</th>\n",
              "      <th>codRegiaoSaude</th>\n",
              "      <th>nomeRegiaoSaude</th>\n",
              "      <th>data</th>\n",
              "      <th>semanaEpi</th>\n",
              "      <th>populacaoTCU2019</th>\n",
              "      <th>casosAcumulado</th>\n",
              "      <th>casosNovos</th>\n",
              "      <th>obitosAcumulado</th>\n",
              "      <th>obitosNovos</th>\n",
              "      <th>interior/metropolitana</th>\n",
              "      <th>Prop</th>\n",
              "    </tr>\n",
              "  </thead>\n",
              "  <tbody>\n",
              "    <tr>\n",
              "      <th>154</th>\n",
              "      <td>Norte</td>\n",
              "      <td>RO</td>\n",
              "      <td>NaN</td>\n",
              "      <td>11</td>\n",
              "      <td>NaN</td>\n",
              "      <td>NaN</td>\n",
              "      <td>NaN</td>\n",
              "      <td>2022-01-01</td>\n",
              "      <td>52</td>\n",
              "      <td>1777225.0</td>\n",
              "      <td>284660.0</td>\n",
              "      <td>34</td>\n",
              "      <td>6737</td>\n",
              "      <td>3</td>\n",
              "      <td>NaN</td>\n",
              "      <td>0.000019</td>\n",
              "    </tr>\n",
              "    <tr>\n",
              "      <th>155</th>\n",
              "      <td>Norte</td>\n",
              "      <td>RO</td>\n",
              "      <td>NaN</td>\n",
              "      <td>11</td>\n",
              "      <td>NaN</td>\n",
              "      <td>NaN</td>\n",
              "      <td>NaN</td>\n",
              "      <td>2022-01-02</td>\n",
              "      <td>1</td>\n",
              "      <td>1777225.0</td>\n",
              "      <td>284692.0</td>\n",
              "      <td>32</td>\n",
              "      <td>6739</td>\n",
              "      <td>2</td>\n",
              "      <td>NaN</td>\n",
              "      <td>0.000018</td>\n",
              "    </tr>\n",
              "    <tr>\n",
              "      <th>156</th>\n",
              "      <td>Norte</td>\n",
              "      <td>RO</td>\n",
              "      <td>NaN</td>\n",
              "      <td>11</td>\n",
              "      <td>NaN</td>\n",
              "      <td>NaN</td>\n",
              "      <td>NaN</td>\n",
              "      <td>2022-01-03</td>\n",
              "      <td>1</td>\n",
              "      <td>1777225.0</td>\n",
              "      <td>284783.0</td>\n",
              "      <td>91</td>\n",
              "      <td>6742</td>\n",
              "      <td>3</td>\n",
              "      <td>NaN</td>\n",
              "      <td>0.000051</td>\n",
              "    </tr>\n",
              "    <tr>\n",
              "      <th>157</th>\n",
              "      <td>Norte</td>\n",
              "      <td>RO</td>\n",
              "      <td>NaN</td>\n",
              "      <td>11</td>\n",
              "      <td>NaN</td>\n",
              "      <td>NaN</td>\n",
              "      <td>NaN</td>\n",
              "      <td>2022-01-04</td>\n",
              "      <td>1</td>\n",
              "      <td>1777225.0</td>\n",
              "      <td>285037.0</td>\n",
              "      <td>254</td>\n",
              "      <td>6745</td>\n",
              "      <td>3</td>\n",
              "      <td>NaN</td>\n",
              "      <td>0.000143</td>\n",
              "    </tr>\n",
              "    <tr>\n",
              "      <th>158</th>\n",
              "      <td>Norte</td>\n",
              "      <td>RO</td>\n",
              "      <td>NaN</td>\n",
              "      <td>11</td>\n",
              "      <td>NaN</td>\n",
              "      <td>NaN</td>\n",
              "      <td>NaN</td>\n",
              "      <td>2022-01-05</td>\n",
              "      <td>1</td>\n",
              "      <td>1777225.0</td>\n",
              "      <td>285269.0</td>\n",
              "      <td>232</td>\n",
              "      <td>6748</td>\n",
              "      <td>3</td>\n",
              "      <td>NaN</td>\n",
              "      <td>0.000131</td>\n",
              "    </tr>\n",
              "    <tr>\n",
              "      <th>...</th>\n",
              "      <td>...</td>\n",
              "      <td>...</td>\n",
              "      <td>...</td>\n",
              "      <td>...</td>\n",
              "      <td>...</td>\n",
              "      <td>...</td>\n",
              "      <td>...</td>\n",
              "      <td>...</td>\n",
              "      <td>...</td>\n",
              "      <td>...</td>\n",
              "      <td>...</td>\n",
              "      <td>...</td>\n",
              "      <td>...</td>\n",
              "      <td>...</td>\n",
              "      <td>...</td>\n",
              "      <td>...</td>\n",
              "    </tr>\n",
              "    <tr>\n",
              "      <th>865321</th>\n",
              "      <td>Centro-Oeste</td>\n",
              "      <td>DF</td>\n",
              "      <td>Brasília</td>\n",
              "      <td>53</td>\n",
              "      <td>530010.0</td>\n",
              "      <td>53001.0</td>\n",
              "      <td>DISTRITO FEDERAL</td>\n",
              "      <td>2022-05-30</td>\n",
              "      <td>22</td>\n",
              "      <td>3015268.0</td>\n",
              "      <td>708552.0</td>\n",
              "      <td>2604</td>\n",
              "      <td>11691</td>\n",
              "      <td>1</td>\n",
              "      <td>1.0</td>\n",
              "      <td>0.000864</td>\n",
              "    </tr>\n",
              "    <tr>\n",
              "      <th>865322</th>\n",
              "      <td>Centro-Oeste</td>\n",
              "      <td>DF</td>\n",
              "      <td>Brasília</td>\n",
              "      <td>53</td>\n",
              "      <td>530010.0</td>\n",
              "      <td>53001.0</td>\n",
              "      <td>DISTRITO FEDERAL</td>\n",
              "      <td>2022-05-31</td>\n",
              "      <td>22</td>\n",
              "      <td>3015268.0</td>\n",
              "      <td>710694.0</td>\n",
              "      <td>2142</td>\n",
              "      <td>11691</td>\n",
              "      <td>0</td>\n",
              "      <td>1.0</td>\n",
              "      <td>0.000710</td>\n",
              "    </tr>\n",
              "    <tr>\n",
              "      <th>865323</th>\n",
              "      <td>Centro-Oeste</td>\n",
              "      <td>DF</td>\n",
              "      <td>Brasília</td>\n",
              "      <td>53</td>\n",
              "      <td>530010.0</td>\n",
              "      <td>53001.0</td>\n",
              "      <td>DISTRITO FEDERAL</td>\n",
              "      <td>2022-06-01</td>\n",
              "      <td>22</td>\n",
              "      <td>3015268.0</td>\n",
              "      <td>712968.0</td>\n",
              "      <td>2274</td>\n",
              "      <td>11692</td>\n",
              "      <td>1</td>\n",
              "      <td>1.0</td>\n",
              "      <td>0.000754</td>\n",
              "    </tr>\n",
              "    <tr>\n",
              "      <th>865324</th>\n",
              "      <td>Centro-Oeste</td>\n",
              "      <td>DF</td>\n",
              "      <td>Brasília</td>\n",
              "      <td>53</td>\n",
              "      <td>530010.0</td>\n",
              "      <td>53001.0</td>\n",
              "      <td>DISTRITO FEDERAL</td>\n",
              "      <td>2022-06-02</td>\n",
              "      <td>22</td>\n",
              "      <td>3015268.0</td>\n",
              "      <td>715938.0</td>\n",
              "      <td>2970</td>\n",
              "      <td>11692</td>\n",
              "      <td>0</td>\n",
              "      <td>1.0</td>\n",
              "      <td>0.000985</td>\n",
              "    </tr>\n",
              "    <tr>\n",
              "      <th>865325</th>\n",
              "      <td>Centro-Oeste</td>\n",
              "      <td>DF</td>\n",
              "      <td>Brasília</td>\n",
              "      <td>53</td>\n",
              "      <td>530010.0</td>\n",
              "      <td>53001.0</td>\n",
              "      <td>DISTRITO FEDERAL</td>\n",
              "      <td>2022-06-03</td>\n",
              "      <td>22</td>\n",
              "      <td>3015268.0</td>\n",
              "      <td>718242.0</td>\n",
              "      <td>2304</td>\n",
              "      <td>11692</td>\n",
              "      <td>0</td>\n",
              "      <td>1.0</td>\n",
              "      <td>0.000764</td>\n",
              "    </tr>\n",
              "  </tbody>\n",
              "</table>\n",
              "<p>865172 rows × 16 columns</p>\n",
              "</div>\n",
              "      <button class=\"colab-df-convert\" onclick=\"convertToInteractive('df-d7c489b9-78e1-4e30-a9df-ae153567266c')\"\n",
              "              title=\"Convert this dataframe to an interactive table.\"\n",
              "              style=\"display:none;\">\n",
              "        \n",
              "  <svg xmlns=\"http://www.w3.org/2000/svg\" height=\"24px\"viewBox=\"0 0 24 24\"\n",
              "       width=\"24px\">\n",
              "    <path d=\"M0 0h24v24H0V0z\" fill=\"none\"/>\n",
              "    <path d=\"M18.56 5.44l.94 2.06.94-2.06 2.06-.94-2.06-.94-.94-2.06-.94 2.06-2.06.94zm-11 1L8.5 8.5l.94-2.06 2.06-.94-2.06-.94L8.5 2.5l-.94 2.06-2.06.94zm10 10l.94 2.06.94-2.06 2.06-.94-2.06-.94-.94-2.06-.94 2.06-2.06.94z\"/><path d=\"M17.41 7.96l-1.37-1.37c-.4-.4-.92-.59-1.43-.59-.52 0-1.04.2-1.43.59L10.3 9.45l-7.72 7.72c-.78.78-.78 2.05 0 2.83L4 21.41c.39.39.9.59 1.41.59.51 0 1.02-.2 1.41-.59l7.78-7.78 2.81-2.81c.8-.78.8-2.07 0-2.86zM5.41 20L4 18.59l7.72-7.72 1.47 1.35L5.41 20z\"/>\n",
              "  </svg>\n",
              "      </button>\n",
              "      \n",
              "  <style>\n",
              "    .colab-df-container {\n",
              "      display:flex;\n",
              "      flex-wrap:wrap;\n",
              "      gap: 12px;\n",
              "    }\n",
              "\n",
              "    .colab-df-convert {\n",
              "      background-color: #E8F0FE;\n",
              "      border: none;\n",
              "      border-radius: 50%;\n",
              "      cursor: pointer;\n",
              "      display: none;\n",
              "      fill: #1967D2;\n",
              "      height: 32px;\n",
              "      padding: 0 0 0 0;\n",
              "      width: 32px;\n",
              "    }\n",
              "\n",
              "    .colab-df-convert:hover {\n",
              "      background-color: #E2EBFA;\n",
              "      box-shadow: 0px 1px 2px rgba(60, 64, 67, 0.3), 0px 1px 3px 1px rgba(60, 64, 67, 0.15);\n",
              "      fill: #174EA6;\n",
              "    }\n",
              "\n",
              "    [theme=dark] .colab-df-convert {\n",
              "      background-color: #3B4455;\n",
              "      fill: #D2E3FC;\n",
              "    }\n",
              "\n",
              "    [theme=dark] .colab-df-convert:hover {\n",
              "      background-color: #434B5C;\n",
              "      box-shadow: 0px 1px 3px 1px rgba(0, 0, 0, 0.15);\n",
              "      filter: drop-shadow(0px 1px 2px rgba(0, 0, 0, 0.3));\n",
              "      fill: #FFFFFF;\n",
              "    }\n",
              "  </style>\n",
              "\n",
              "      <script>\n",
              "        const buttonEl =\n",
              "          document.querySelector('#df-d7c489b9-78e1-4e30-a9df-ae153567266c button.colab-df-convert');\n",
              "        buttonEl.style.display =\n",
              "          google.colab.kernel.accessAllowed ? 'block' : 'none';\n",
              "\n",
              "        async function convertToInteractive(key) {\n",
              "          const element = document.querySelector('#df-d7c489b9-78e1-4e30-a9df-ae153567266c');\n",
              "          const dataTable =\n",
              "            await google.colab.kernel.invokeFunction('convertToInteractive',\n",
              "                                                     [key], {});\n",
              "          if (!dataTable) return;\n",
              "\n",
              "          const docLinkHtml = 'Like what you see? Visit the ' +\n",
              "            '<a target=\"_blank\" href=https://colab.research.google.com/notebooks/data_table.ipynb>data table notebook</a>'\n",
              "            + ' to learn more about interactive tables.';\n",
              "          element.innerHTML = '';\n",
              "          dataTable['output_type'] = 'display_data';\n",
              "          await google.colab.output.renderOutput(dataTable, element);\n",
              "          const docLink = document.createElement('div');\n",
              "          docLink.innerHTML = docLinkHtml;\n",
              "          element.appendChild(docLink);\n",
              "        }\n",
              "      </script>\n",
              "    </div>\n",
              "  </div>\n",
              "  "
            ]
          },
          "metadata": {},
          "execution_count": 64
        }
      ],
      "source": [
        "RegioesBrasil2022"
      ]
    },
    {
      "cell_type": "code",
      "execution_count": null,
      "metadata": {
        "id": "RKdpIy2P_9wK",
        "colab": {
          "base_uri": "https://localhost:8080/"
        },
        "outputId": "f1f01986-0bb4-43ce-e65f-51565b98867a"
      },
      "outputs": [
        {
          "output_type": "execute_result",
          "data": {
            "text/plain": [
              "estado\n",
              "RR      53523\n",
              "AP      66924\n",
              "AC      74048\n",
              "PI      84191\n",
              "SE      98119\n",
              "AL     114817\n",
              "MA     136733\n",
              "RO     245894\n",
              "RN     251294\n",
              "PB     283050\n",
              "AM     298044\n",
              "PA     299756\n",
              "MS     311901\n",
              "MT     360209\n",
              "DF     396862\n",
              "TO     417630\n",
              "BA     558698\n",
              "PE     595666\n",
              "CE     755129\n",
              "ES     855886\n",
              "GO     879104\n",
              "SC    1010804\n",
              "RJ    1711384\n",
              "RS    1890541\n",
              "PR    1943844\n",
              "SP    2150609\n",
              "MG    2441033\n",
              "Name: casosNovos, dtype: int64"
            ]
          },
          "metadata": {},
          "execution_count": 65
        }
      ],
      "source": [
        "estadosAgrupados = RegioesBrasil2022.groupby('estado')\n",
        "estadosOrdenados = estadosAgrupados['casosNovos'].sum().sort_values()\n",
        "estadosOrdenados"
      ]
    },
    {
      "cell_type": "code",
      "execution_count": null,
      "metadata": {
        "id": "WZkvsR8NCvY2",
        "colab": {
          "base_uri": "https://localhost:8080/",
          "height": 314
        },
        "outputId": "9e439cf5-afd6-41ee-8764-3482fe08d164"
      },
      "outputs": [
        {
          "output_type": "stream",
          "name": "stdout",
          "text": [
            "Quantidade de casos novos no dataframe de 2022\n"
          ]
        },
        {
          "output_type": "display_data",
          "data": {
            "text/plain": [
              "<Figure size 432x288 with 1 Axes>"
            ],
            "image/png": "[encoded data removed]"
          },
          "metadata": {
            "needs_background": "light"
          }
        }
      ],
      "source": [
        "estadosAgrupados = RegioesBrasil2022.groupby('estado')\n",
        "estadosAgrupados.sum()['casosNovos'].plot(kind='bar', color='#EF2D56')\n",
        "plt.ylabel('CasosNovos')\n",
        "plt.xlabel('Região')\n",
        "print(\"Quantidade de casos novos no dataframe de 2022\")\n",
        "plt.show()"
      ]
    },
    {
      "cell_type": "markdown",
      "metadata": {
        "id": "-8K7Q297DHTT"
      },
      "source": [
        "Verificando os dados depois de ordenados, isto em ordem crescente, e verificando o gráfico de barras acima, o estado que teve a maior taxa de covid foi o estado de Minas Gerais."
      ]
    },
    {
      "cell_type": "markdown",
      "metadata": {
        "id": "A9EroZdURyYm"
      },
      "source": [
        "# 10 - Qual o estado teve o menor número de casos em 2021 ?"
      ]
    },
    {
      "cell_type": "markdown",
      "metadata": {
        "id": "8edrpwC6T3sL"
      },
      "source": [
        "Para sabermos qual foi o estado que menor teve casos de covid no anos de 2021, iremos primeiro agrupar o dataframe por estado e ordená-lo verificando qual estado teve menor número de casos em 2021"
      ]
    },
    {
      "cell_type": "code",
      "execution_count": null,
      "metadata": {
        "id": "vTLjleQ_WeeN",
        "colab": {
          "base_uri": "https://localhost:8080/"
        },
        "outputId": "2edacff2-db41-458c-9123-8699859de2e3"
      },
      "outputs": [
        {
          "output_type": "execute_result",
          "data": {
            "text/plain": [
              "estado\n",
              "AC      94023\n",
              "AP     117666\n",
              "RR     123592\n",
              "AL     275009\n",
              "TO     294063\n",
              "SE     333558\n",
              "MA     358034\n",
              "RO     383457\n",
              "PI     383647\n",
              "AM     466690\n",
              "MS     495919\n",
              "DF     536220\n",
              "PB     597210\n",
              "PA     663981\n",
              "MT     749366\n",
              "ES     764139\n",
              "PE     906796\n",
              "RN     975391\n",
              "GO    1291567\n",
              "CE    1299736\n",
              "SC    1522052\n",
              "BA    1559560\n",
              "RJ    1839940\n",
              "RS    2125419\n",
              "PR    2835564\n",
              "MG    3396451\n",
              "SP    6013963\n",
              "Name: casosNovos, dtype: int64"
            ]
          },
          "metadata": {},
          "execution_count": 67
        }
      ],
      "source": [
        "estadosOrdenados = RegioesBrasil2021.groupby('estado')\n",
        "estadosOrdenados = estadosOrdenados['casosNovos'].sum().sort_values()\n",
        "estadosOrdenados"
      ]
    },
    {
      "cell_type": "markdown",
      "metadata": {
        "id": "eKrZGwgHXg2U"
      },
      "source": [
        "Acima é possível ver em ordem crescente que o estado que teve o menor número de casos em 2021 foi o estado do Acré, agora plotaremos um gráfico de barras para ver esta diferença com os outros estados. Veja abaixo:"
      ]
    },
    {
      "cell_type": "code",
      "execution_count": null,
      "metadata": {
        "id": "M2xVdF_4X4Tn",
        "colab": {
          "base_uri": "https://localhost:8080/",
          "height": 314
        },
        "outputId": "46b4bcab-4a45-4a42-ff35-07b03d09320c"
      },
      "outputs": [
        {
          "output_type": "stream",
          "name": "stdout",
          "text": [
            "Quantidade de casos novos no dataframe de 2021\n"
          ]
        },
        {
          "output_type": "display_data",
          "data": {
            "text/plain": [
              "<Figure size 432x288 with 1 Axes>"
            ],
            "image/png": "[encoded data removed]"
          },
          "metadata": {
            "needs_background": "light"
          }
        }
      ],
      "source": [
        "estadosAgrupados = RegioesBrasil2021.groupby('estado')\n",
        "estadosAgrupados.sum()['casosNovos'].plot(kind='bar', color='#EF2D56')\n",
        "plt.ylabel('CasosNovos')\n",
        "plt.xlabel('Região')\n",
        "print(\"Quantidade de casos novos no dataframe de 2021\")\n",
        "plt.show()"
      ]
    },
    {
      "cell_type": "markdown",
      "metadata": {
        "id": "Hf2_aVlgYbud"
      },
      "source": [
        "#11 - Qual a região teve mais sucesso no combate ao Covid, nos anos de 2020, 2021 2 2022 ?"
      ]
    },
    {
      "cell_type": "markdown",
      "metadata": {
        "id": "7lPPTWWZY1r_"
      },
      "source": [
        "Para desconbrir qual região teve mais sucesso ao combate ao covid primeiro vamos verficar quais regiões menos tiveram casos de covid, e verificar as regiões que tiveram menos morte."
      ]
    },
    {
      "cell_type": "code",
      "execution_count": null,
      "metadata": {
        "id": "-MmXkK-dZIDu",
        "colab": {
          "base_uri": "https://localhost:8080/"
        },
        "outputId": "33f65d23-825e-4fba-ca19-94e746c5ba76"
      },
      "outputs": [
        {
          "output_type": "execute_result",
          "data": {
            "text/plain": [
              "regiao\n",
              "Norte            5321834\n",
              "Centro-Oeste     6780022\n",
              "Nordeste        13402154\n",
              "Sul             14052324\n",
              "Sudeste         24566847\n",
              "Name: casosNovos, dtype: int64"
            ]
          },
          "metadata": {},
          "execution_count": 69
        }
      ],
      "source": [
        "#Agrupando as regiões e verificando quais delas tiveram menos casos, vamos usar o dataframe que contenham todos os dados de 2020, 2021 e 2022\n",
        "regioesOrdenadas = RegioesBrasilFull.groupby('regiao')\n",
        "regioesOrdenadas['casosNovos'].sum().sort_values()"
      ]
    },
    {
      "cell_type": "markdown",
      "metadata": {
        "id": "c9a7CZaWaHAo"
      },
      "source": [
        "Nos anos de 2020 a 2022 a região norte teve menos casos novos de covid, ou seja, foi a região que menos teve casos. Veja no gráfico abaixo esta descrepância:"
      ]
    },
    {
      "cell_type": "code",
      "execution_count": null,
      "metadata": {
        "id": "igijtA-WaWFw",
        "colab": {
          "base_uri": "https://localhost:8080/",
          "height": 364
        },
        "outputId": "4e4e66f6-732e-4bad-9883-88c5b663178c"
      },
      "outputs": [
        {
          "output_type": "stream",
          "name": "stdout",
          "text": [
            "Quantidade de casos novos no dataframe de 2021\n"
          ]
        },
        {
          "output_type": "display_data",
          "data": {
            "text/plain": [
              "<Figure size 432x288 with 1 Axes>"
            ],
            "image/png": "[encoded data removed]"
          },
          "metadata": {
            "needs_background": "light"
          }
        }
      ],
      "source": [
        "regioesOrdenadas.sum()['casosNovos'].plot(kind='bar', color='#EF2D56')\n",
        "plt.ylabel('CasosNovos')\n",
        "plt.xlabel('Região')\n",
        "print(\"Quantidade de casos novos no dataframe de 2021\")\n",
        "plt.show()\n"
      ]
    },
    {
      "cell_type": "markdown",
      "metadata": {
        "id": "UMveL2IRbamY"
      },
      "source": [
        "Logo, é possível afirmar apenas vendo o gráfico de barras que a região norte foi a menos afetada."
      ]
    },
    {
      "cell_type": "markdown",
      "metadata": {
        "id": "4qS_3VCNcTLw"
      },
      "source": [
        "Agora iremos verificar qual região teve menos casos de óbitos"
      ]
    },
    {
      "cell_type": "code",
      "execution_count": null,
      "metadata": {
        "id": "FvFNx1F4cSon",
        "colab": {
          "base_uri": "https://localhost:8080/"
        },
        "outputId": "e2762e45-9a5a-47f4-8fa4-5b34e17c6b89"
      },
      "outputs": [
        {
          "output_type": "execute_result",
          "data": {
            "text/plain": [
              "regiao\n",
              "Norte           105322\n",
              "Centro-Oeste    129270\n",
              "Sul             222288\n",
              "Nordeste        295543\n",
              "Sudeste         644191\n",
              "Name: obitosNovos, dtype: int64"
            ]
          },
          "metadata": {},
          "execution_count": 71
        }
      ],
      "source": [
        "regioesOrdenadas['obitosNovos'].sum().sort_values()"
      ]
    },
    {
      "cell_type": "markdown",
      "metadata": {
        "id": "6hSXiAEodqp-"
      },
      "source": [
        "A região que menos teve casos de óbitos foi o Norte. Veja no gráfico abaixo esta descrepância com os outros estados."
      ]
    },
    {
      "cell_type": "code",
      "execution_count": null,
      "metadata": {
        "id": "G0rmwHxIdcc8",
        "colab": {
          "base_uri": "https://localhost:8080/",
          "height": 353
        },
        "outputId": "4f4088ad-c669-409b-90f8-5ec44fc04a33"
      },
      "outputs": [
        {
          "output_type": "stream",
          "name": "stdout",
          "text": [
            "Quantidade de casos novos no dataframe de 2021\n"
          ]
        },
        {
          "output_type": "display_data",
          "data": {
            "text/plain": [
              "<Figure size 432x288 with 1 Axes>"
            ],
            "image/png": "[encoded data removed]"
          },
          "metadata": {
            "needs_background": "light"
          }
        }
      ],
      "source": [
        "regioesOrdenadas.sum()['obitosNovos'].plot(kind='bar', color='#EF2D56')\n",
        "plt.ylabel('ObitosNovos')\n",
        "plt.xlabel('Região')\n",
        "print(\"Quantidade de casos novos no dataframe de 2021\")\n",
        "plt.show()\n"
      ]
    },
    {
      "cell_type": "markdown",
      "metadata": {
        "id": "a3dUnXTheg5I"
      },
      "source": [
        "Diante disso, analisando os anos de 2020, 2021 e 2022 a região que conteve mais o covid foi o Norte, pois foi o estado com menos casos e menas morte."
      ]
    },
    {
      "cell_type": "markdown",
      "metadata": {
        "id": "u0QMPEhMe3Xv"
      },
      "source": [
        "# 12 - Qual a região que teve mais óbitos com a Covid ?"
      ]
    },
    {
      "cell_type": "markdown",
      "metadata": {
        "id": "DIJEhcAxe52s"
      },
      "source": [
        "A região que teve mais óbito de covid foi a região Sudeste. Veja no gráfico abaixo:"
      ]
    },
    {
      "cell_type": "code",
      "execution_count": null,
      "metadata": {
        "id": "3JxugISNfXMq",
        "colab": {
          "base_uri": "https://localhost:8080/",
          "height": 609
        },
        "outputId": "bc406b51-56e4-4f83-a319-826620fdf957"
      },
      "outputs": [
        {
          "output_type": "display_data",
          "data": {
            "text/plain": [
              "<Figure size 720x720 with 1 Axes>"
            ],
            "image/png": "[encoded data removed]"
          },
          "metadata": {
            "needs_background": "light"
          }
        }
      ],
      "source": [
        "country_group_sum = RegioesBrasilFull.groupby('regiao').sum().reset_index()\n",
        "plt.figure(figsize=(10,10))\n",
        "\n",
        "g=sns.barplot(data=country_group_sum, y='regiao', x='obitosNovos', orient='h')\n",
        "g.set_xscale('log')\n",
        "\n",
        "plt.show()"
      ]
    },
    {
      "cell_type": "markdown",
      "metadata": {
        "id": "sMO_jImExaLZ"
      },
      "source": [
        "# 13 - Qual o impacto das vacinas com o número de óbitos de Covid-19?"
      ]
    },
    {
      "cell_type": "markdown",
      "metadata": {
        "id": "nZk7EqBC1uZr"
      },
      "source": [
        "## Primeiramente iremos analisar o número de óbitos em cada ano:"
      ]
    },
    {
      "cell_type": "markdown",
      "metadata": {
        "id": "rJ4gWlkK17p0"
      },
      "source": [
        "### 2020"
      ]
    },
    {
      "cell_type": "code",
      "execution_count": null,
      "metadata": {
        "id": "LvfwExg-2DYd",
        "colab": {
          "base_uri": "https://localhost:8080/",
          "height": 336
        },
        "outputId": "cb7239f9-5b5c-4bc9-ce30-28e406210383"
      },
      "outputs": [
        {
          "output_type": "display_data",
          "data": {
            "text/plain": [
              "<Figure size 432x288 with 1 Axes>"
            ],
            "image/png": "[encoded data removed]"
          },
          "metadata": {
            "needs_background": "light"
          }
        }
      ],
      "source": [
        "group_date = RegioesBrasil2020.groupby(\"regiao\")\n",
        "group_date.sum()['obitosNovos'].plot(kind='bar', color='#EF2D56')\n",
        "plt.ylabel('Quantidade de obitos novos')\n",
        "plt.xlabel('região do Brasil')\n",
        "plt.yscale('log')\n",
        "plt.show()\n",
        "\n"
      ]
    },
    {
      "cell_type": "markdown",
      "metadata": {
        "id": "HG4cDtRa2Vo5"
      },
      "source": [
        "### 2021"
      ]
    },
    {
      "cell_type": "code",
      "execution_count": null,
      "metadata": {
        "id": "gYhEMPB2xlY7",
        "colab": {
          "base_uri": "https://localhost:8080/",
          "height": 336
        },
        "outputId": "b24b6f74-ca31-4bfa-d258-2e885bcdf4d6"
      },
      "outputs": [
        {
          "output_type": "display_data",
          "data": {
            "text/plain": [
              "<Figure size 432x288 with 1 Axes>"
            ],
            "image/png": "[encoded data removed]"
          },
          "metadata": {
            "needs_background": "light"
          }
        }
      ],
      "source": [
        "group_date = RegioesBrasil2021.groupby(\"regiao\")\n",
        "group_date.sum()['obitosNovos'].plot(kind='bar', color='#EF2D56')\n",
        "plt.ylabel('Quantidade de obitos novos')\n",
        "plt.xlabel('região do Brasil')\n",
        "plt.yscale('log')\n",
        "plt.show()"
      ]
    },
    {
      "cell_type": "markdown",
      "metadata": {
        "id": "4ORXWijo2eep"
      },
      "source": [
        "### 2022"
      ]
    },
    {
      "cell_type": "code",
      "execution_count": null,
      "metadata": {
        "id": "Zb806pJl2iqq",
        "colab": {
          "base_uri": "https://localhost:8080/",
          "height": 336
        },
        "outputId": "76cf8039-fffa-499e-d000-9109b010afe5"
      },
      "outputs": [
        {
          "output_type": "display_data",
          "data": {
            "text/plain": [
              "<Figure size 432x288 with 1 Axes>"
            ],
            "image/png": "[encoded data removed]"
          },
          "metadata": {
            "needs_background": "light"
          }
        }
      ],
      "source": [
        "group_date = RegioesBrasil2022.groupby(\"regiao\")\n",
        "group_date.sum()['obitosNovos'].plot(kind='bar', color='#EF2D56')\n",
        "plt.ylabel('Quantidade de obitos novos')\n",
        "plt.xlabel('região do Brasil')\n",
        "plt.yscale('log')\n",
        "plt.show()"
      ]
    },
    {
      "cell_type": "markdown",
      "metadata": {
        "id": "58SMkBbw5DZI"
      },
      "source": [
        "### A partir dos gráficos acima é possível perceber uma baixa consideravel em relação aos anos de 2020 e 2021 em relação com o ano de 2022. Desse modo, pode-se dizer que provavelmente a vacina para o combate do corona vírus teve um impacto positivo em relação ao números de óbitos registrados."
      ]
    },
    {
      "cell_type": "markdown",
      "metadata": {
        "id": "nAO3c7PZxeq6"
      },
      "source": [
        "# 14 - Qual o número de casos de COVID-19 no decorrer dos anos?"
      ]
    },
    {
      "cell_type": "code",
      "execution_count": null,
      "metadata": {
        "id": "kymGEcLHxk9T",
        "colab": {
          "base_uri": "https://localhost:8080/"
        },
        "outputId": "df23ff85-9f08-49fa-edd5-3c1dec388cc6"
      },
      "outputs": [
        {
          "output_type": "stream",
          "name": "stdout",
          "text": [
            "Número de casos de COVID-19 em 2020\n",
            "1573877\n",
            "==============================\n",
            "Número de casos de COVID-19 em 2021\n",
            "2050570\n",
            "==============================\n",
            "Número de casos de COVID-19 em 2022\n",
            "865172\n",
            "==============================\n",
            "====================================================================================================\n",
            "O aumento em porcentagem do número de casos novos de 2020 a 2021: 30.28781791715616%\n",
            "O aumento em porcentagem do número de casos novos de 2021 a 2022: -57.80821917808219%\n",
            "====================================================================================================\n"
          ]
        }
      ],
      "source": [
        "CasosNovos2020 = RegioesBrasil2020['casosNovos'].count()\n",
        "print(\"Número de casos de COVID-19 em 2020\")\n",
        "print(CasosNovos2020)\n",
        "print(\"=\"*30)\n",
        "\n",
        "CasosNovos2021 = RegioesBrasil2021['casosNovos'].count()\n",
        "print(\"Número de casos de COVID-19 em 2021\")\n",
        "print(CasosNovos2021)\n",
        "print(\"=\"*30)\n",
        "\n",
        "CasosNovos2022 = RegioesBrasil2022['casosNovos'].count()\n",
        "print(\"Número de casos de COVID-19 em 2022\")\n",
        "print(CasosNovos2022)\n",
        "print(\"=\"*30)\n",
        "\n",
        "port2020to2021 = (CasosNovos2021 * 100) /CasosNovos2020\n",
        "port2021to2022 = (CasosNovos2022 * 100) /CasosNovos2021\n",
        "print(\"=\"*100)\n",
        "print(f\"O aumento em porcentagem do número de casos novos de 2020 a 2021: {port2020to2021 - 100}%\")\n",
        "print(f\"O aumento em porcentagem do número de casos novos de 2021 a 2022: {port2021to2022 - 100}%\")\n",
        "print(\"=\"*100)"
      ]
    },
    {
      "cell_type": "markdown",
      "metadata": {
        "id": "ghvHC-BO9XfE"
      },
      "source": [
        "## Pode-se notar que houve uma aumento do numero de casos novos em relação aos nos de 2020 e 2021 e uma redução no número de casos registrado no período de 2021 a 2020."
      ]
    },
    {
      "cell_type": "markdown",
      "metadata": {
        "id": "5W4SqG77xgo6"
      },
      "source": [
        "# 15 - Qual é a distribuição de casos novos ao decorrer do tempo em Minas Gerais no ano de 2020?"
      ]
    },
    {
      "cell_type": "code",
      "execution_count": null,
      "metadata": {
        "id": "OzIrnPxKyCqh",
        "colab": {
          "base_uri": "https://localhost:8080/",
          "height": 279
        },
        "outputId": "8f5b8ec9-0c7c-48ad-8814-446d47dc6a07"
      },
      "outputs": [
        {
          "output_type": "display_data",
          "data": {
            "text/plain": [
              "<Figure size 432x288 with 1 Axes>"
            ],
            "image/png": "[encoded data removed]"
          },
          "metadata": {
            "needs_background": "light"
          }
        }
      ],
      "source": [
        "minas = RegioesBrasil2020[RegioesBrasil2020['estado'] == 'MG']\n",
        "\n",
        "group_date = minas.groupby(\"data\")\n",
        "group_date.sum()['casosNovos'].plot(c='#EF2D56')\n",
        "plt.ylabel('Quantidade de casos novos')\n",
        "plt.xlabel('Data')\n",
        "plt.show()"
      ]
    },
    {
      "cell_type": "markdown",
      "metadata": {
        "id": "PY-KV1sABVpd"
      },
      "source": [
        "## Podemos observar que houve um aumento no número de casos novos registrado em Minas Gerais com o passar do tempo da pandemia.Havendo uma crescente no final do ano."
      ]
    },
    {
      "cell_type": "markdown",
      "metadata": {
        "id": "xUyiIHHfA1jn"
      },
      "source": [
        "# 16 - Analise os óbitos diários por covid nos anos de 2020, 2021 e 2022.\n",
        "Para fazer uma análise dos óbitos diários por covid nos anos de 2020, 2021 e 2022 será utilizado o boxplot.\n"
      ]
    },
    {
      "cell_type": "markdown",
      "metadata": {
        "id": "DNdMXRFSBa_4"
      },
      "source": [
        "## Boxplot dos óbitos em 2020"
      ]
    },
    {
      "cell_type": "code",
      "execution_count": null,
      "metadata": {
        "id": "7L9C_y-Z8y6_",
        "colab": {
          "base_uri": "https://localhost:8080/",
          "height": 279
        },
        "outputId": "ed12830b-201e-4781-e6bf-e3b6d661e041"
      },
      "outputs": [
        {
          "output_type": "display_data",
          "data": {
            "text/plain": [
              "<Figure size 432x288 with 1 Axes>"
            ],
            "image/png": "[encoded data removed]"
          },
          "metadata": {
            "needs_background": "light"
          }
        }
      ],
      "source": [
        "sns.boxplot(x=DadosBrasil2020['obitosNovos']) \n",
        "plt.show()"
      ]
    },
    {
      "cell_type": "markdown",
      "metadata": {
        "id": "nmM_CalRBxog"
      },
      "source": [
        "## Boxplot dos óbitos em 2021"
      ]
    },
    {
      "cell_type": "code",
      "execution_count": null,
      "metadata": {
        "id": "jBSF5q91B0Vf",
        "colab": {
          "base_uri": "https://localhost:8080/",
          "height": 279
        },
        "outputId": "bddfef9c-dd5d-4cd4-a136-be68a011dd9f"
      },
      "outputs": [
        {
          "output_type": "display_data",
          "data": {
            "text/plain": [
              "<Figure size 432x288 with 1 Axes>"
            ],
            "image/png": "[encoded data removed]"
          },
          "metadata": {
            "needs_background": "light"
          }
        }
      ],
      "source": [
        "sns.boxplot(x=DadosBrasil2021['obitosNovos']) \n",
        "plt.show()"
      ]
    },
    {
      "cell_type": "markdown",
      "metadata": {
        "id": "HflEvsIaB50X"
      },
      "source": [
        "## Boxplot dos óbitos em 2022"
      ]
    },
    {
      "cell_type": "code",
      "execution_count": null,
      "metadata": {
        "id": "nnKRFJcbB-RG",
        "colab": {
          "base_uri": "https://localhost:8080/",
          "height": 279
        },
        "outputId": "0cb764b3-2931-420d-f404-024a548b2af1"
      },
      "outputs": [
        {
          "output_type": "display_data",
          "data": {
            "text/plain": [
              "<Figure size 432x288 with 1 Axes>"
            ],
            "image/png": "[encoded data removed]"
          },
          "metadata": {
            "needs_background": "light"
          }
        }
      ],
      "source": [
        "sns.boxplot(x=DadosBrasil2022['obitosNovos']) \n",
        "plt.show()"
      ]
    },
    {
      "cell_type": "markdown",
      "metadata": {
        "id": "K4yyw9e5CzLn"
      },
      "source": [
        "Através dos boxplots criados foi possível perceber que as mortes diárias se elevaram de 2020 para 2021 e diminuíram de 2021 para 2022. Isso ficou perceptível através do maior número de óbito e o 3º quartil de cada ano, sendo que:\n",
        "\n",
        "*   Em 2020 o maior óbito diário ficou por volta dos 1.600 e o 3º quartil por volta de 970.\n",
        "*   Em 2021 o maior óbito diário ficou por volta dos 3.500 e o 3º quartil por volta de 1600.\n",
        "* Em 2020 o maior óbito diário ficou por volta dos 800 e o 3º quartil por volta de 390.\n",
        "\n",
        "Vale lembrar que foi desconsiderado os outliers na análise realizada.\n",
        "\n"
      ]
    },
    {
      "cell_type": "markdown",
      "metadata": {
        "id": "bmrqe801He0G"
      },
      "source": [
        "# 17 - Identifique os quartis de cada boxplot gerado na questão 11."
      ]
    },
    {
      "cell_type": "code",
      "execution_count": null,
      "metadata": {
        "id": "mTtZ5FFpIgv-",
        "colab": {
          "base_uri": "https://localhost:8080/",
          "height": 208
        },
        "outputId": "9fa84d06-da37-4292-d8f2-5679974a8989"
      },
      "outputs": [
        {
          "output_type": "display_data",
          "data": {
            "text/plain": [
              "nan"
            ]
          },
          "metadata": {}
        },
        {
          "output_type": "display_data",
          "data": {
            "text/plain": [
              "nan"
            ]
          },
          "metadata": {}
        },
        {
          "output_type": "display_data",
          "data": {
            "text/plain": [
              "nan"
            ]
          },
          "metadata": {}
        },
        {
          "output_type": "stream",
          "name": "stdout",
          "text": [
            "\n"
          ]
        },
        {
          "output_type": "display_data",
          "data": {
            "text/plain": [
              "389.0"
            ]
          },
          "metadata": {}
        },
        {
          "output_type": "display_data",
          "data": {
            "text/plain": [
              "962.0"
            ]
          },
          "metadata": {}
        },
        {
          "output_type": "display_data",
          "data": {
            "text/plain": [
              "1641.0"
            ]
          },
          "metadata": {}
        },
        {
          "output_type": "stream",
          "name": "stdout",
          "text": [
            "\n"
          ]
        },
        {
          "output_type": "display_data",
          "data": {
            "text/plain": [
              "103.0"
            ]
          },
          "metadata": {}
        },
        {
          "output_type": "display_data",
          "data": {
            "text/plain": [
              "195.0"
            ]
          },
          "metadata": {}
        },
        {
          "output_type": "display_data",
          "data": {
            "text/plain": [
              "385.0"
            ]
          },
          "metadata": {}
        }
      ],
      "source": [
        "# Ano de 2020\n",
        "display(np.percentile(DadosBrasil2020['obitosNovos'],25))\n",
        "display(np.percentile(DadosBrasil2020['obitosNovos'],50))\n",
        "display(np.percentile(DadosBrasil2020['obitosNovos'],75))\n",
        "print()\n",
        "# Ano de 2021\n",
        "display(np.percentile(DadosBrasil2021['obitosNovos'],25))\n",
        "display(np.percentile(DadosBrasil2021['obitosNovos'],50))\n",
        "display(np.percentile(DadosBrasil2021['obitosNovos'],75))\n",
        "print()\n",
        "# Ano de 2022\n",
        "display(np.percentile(DadosBrasil2022['obitosNovos'],25))\n",
        "display(np.percentile(DadosBrasil2022['obitosNovos'],50))\n",
        "display(np.percentile(DadosBrasil2022['obitosNovos'],75))"
      ]
    },
    {
      "cell_type": "markdown",
      "metadata": {
        "id": "rx5MesCdHwYc"
      },
      "source": [
        "Quartis de óbitos diários de 2020:\n",
        "* **1º quartil:** 293\n",
        "* **2º quartil:** 627\n",
        "* **3º quartil:** 957\n",
        "\n",
        "Quartis de óbitos diários de 2021:\n",
        "* **1º quartil:** 389\n",
        "* **2º quartil:** 962\n",
        "* **3º quartil:** 1641\n",
        "\n",
        "Quartis de óbitos diários de 2022:\n",
        "* **1º quartil:** 103\n",
        "* **2º quartil:** 195\n",
        "* **3º quartil:** 385\n",
        "\n",
        "Estes dados contribuem na confirmação da afirmação realizada na questão anterior."
      ]
    },
    {
      "cell_type": "markdown",
      "metadata": {
        "id": "v7yv1c8-LWGU"
      },
      "source": [
        "# 18 - Os óbitos por covid ocorreram mais em regiões do interior ou em regiões metropolitanas ?\n",
        "Para responder a esta pergunta será utilizado um gráfico de pizza, onde cidade interior é representada por 0 e cidade metropolitana por 1."
      ]
    },
    {
      "cell_type": "code",
      "execution_count": null,
      "metadata": {
        "id": "41wummkILj7W",
        "colab": {
          "base_uri": "https://localhost:8080/",
          "height": 411
        },
        "outputId": "58f1be19-69d8-4810-d2f3-6e4cf0d13af0"
      },
      "outputs": [
        {
          "output_type": "display_data",
          "data": {
            "text/plain": [
              "<Figure size 720x504 with 1 Axes>"
            ],
            "image/png": "[encoded data removed]"
          },
          "metadata": {}
        }
      ],
      "source": [
        "filtro = RegioesBrasilFull.groupby('interior/metropolitana').sum()\n",
        "fig=plt.figure(figsize=(10,7))\n",
        "plt.pie(labels=filtro.index,x=filtro['obitosNovos'])\n",
        "plt.show()"
      ]
    },
    {
      "cell_type": "markdown",
      "metadata": {
        "id": "IF5mFWDxPsGm"
      },
      "source": [
        "Observando o gráfico de pizza acima podemos concluir que os óbitos são maiores em regiões do interior, no entanto, a porcentagem de óbitos para cada tipo de região está bem próxima."
      ]
    },
    {
      "cell_type": "markdown",
      "metadata": {
        "id": "2sxKA5OuV5Of"
      },
      "source": [
        "# 19 - Como ocorreu os óbitos por covid na região sudeste nos anos de 2020, 2021, 2022?\n",
        "Para responder a esta pergunta usaremos gráfico de barras para cada ano."
      ]
    },
    {
      "cell_type": "code",
      "execution_count": null,
      "metadata": {
        "id": "y_LDGTv6WEjD",
        "colab": {
          "base_uri": "https://localhost:8080/",
          "height": 295
        },
        "outputId": "16406fac-efaf-4e76-e42e-68b847ab26be"
      },
      "outputs": [
        {
          "output_type": "display_data",
          "data": {
            "text/plain": [
              "<Figure size 432x288 with 1 Axes>"
            ],
            "image/png": "[encoded data removed]"
          },
          "metadata": {
            "needs_background": "light"
          }
        }
      ],
      "source": [
        "sudeste2020=RegioesBrasil2020.groupby('regiao').sum().reset_index()\n",
        "sudeste2020=sudeste2020.assign(ano=\"2020\")\n",
        "sudeste2021=RegioesBrasil2021.groupby('regiao').sum().reset_index()\n",
        "sudeste2021=sudeste2021.assign(ano=\"2021\")\n",
        "sudeste2022=RegioesBrasil2022.groupby('regiao').sum().reset_index()\n",
        "sudeste2022=sudeste2022.assign(ano=\"2022\")\n",
        "\n",
        "sudeste2020=sudeste2020[sudeste2020['regiao']==\"Sudeste\"]\n",
        "sudeste2021=sudeste2021[sudeste2021['regiao']==\"Sudeste\"]\n",
        "sudeste2022=sudeste2022[sudeste2022['regiao']==\"Sudeste\"]\n",
        "\n",
        "data =pd.concat([sudeste2020,sudeste2021,sudeste2022])\n",
        "data = data.groupby('ano').sum() \n",
        "data['obitosNovos'].plot(kind='bar', color='#EF2D56')\n",
        "plt.show()"
      ]
    },
    {
      "cell_type": "markdown",
      "metadata": {
        "id": "hwmVBPp97BIu"
      },
      "source": [
        "Analisando a resposta da questão 11 poderiamos supor que as demais regiões também teriam um aumento nos óbitos de 2020 para 2021 e uma regressão de 2021 para 2022. Como de fato acontece, basta observar o gráfico de barras acima."
      ]
    },
    {
      "cell_type": "markdown",
      "metadata": {
        "id": "bE3K_x5l9cQI"
      },
      "source": [
        "# 20 - Identifique como ocorreu os óbitos por covid em cada estado da região sudeste."
      ]
    },
    {
      "cell_type": "code",
      "execution_count": null,
      "metadata": {
        "id": "4Bq2DKDy8CbU",
        "colab": {
          "base_uri": "https://localhost:8080/",
          "height": 411
        },
        "outputId": "6ef5fd8d-3efc-41a5-9e20-14035809fdf9"
      },
      "outputs": [
        {
          "output_type": "display_data",
          "data": {
            "text/plain": [
              "<Figure size 720x504 with 1 Axes>"
            ],
            "image/png": "[encoded data removed]"
          },
          "metadata": {}
        }
      ],
      "source": [
        "sudeste2020=RegioesBrasil2020[RegioesBrasil2020['regiao']==\"Sudeste\"]\n",
        "sudeste2021=RegioesBrasil2021[RegioesBrasil2021['regiao']==\"Sudeste\"]\n",
        "sudeste2022=RegioesBrasil2022[RegioesBrasil2022['regiao']==\"Sudeste\"]\n",
        "data = pd.concat([sudeste2020,sudeste2021,sudeste2022])\n",
        "data=data.groupby('estado').sum()\n",
        "fig=plt.figure(figsize=(10,7))\n",
        "plt.pie(labels=data.index,x=data['obitosNovos'])\n",
        "plt.show()"
      ]
    },
    {
      "cell_type": "markdown",
      "metadata": {
        "id": "3vYGP-uqCnH2"
      },
      "source": [
        "A partir do gráfico de pizza acima podemos perceber que o estado de São Paulo é repsonsável por mais de 50% dos óbitos por covid da região sudeste. Depois de SP, o Rio de Janeiro possui maior quantidade de mortes, seguido de Minas gerais e Espírito Santo. Além disso, o ES possui uma quantidade muito baixa de óbitos comparado aos outros estados da região sudeste."
      ]
    },
    {
      "cell_type": "markdown",
      "metadata": {
        "id": "nvVROa1xTv1I"
      },
      "source": [
        "# Análise preditiva"
      ]
    },
    {
      "cell_type": "markdown",
      "metadata": {
        "id": "fM6mQknBTv1J"
      },
      "source": [
        "Primeiramente iremos analisar as variáveis que possuem correlações fortes para aplicarmos a regressão linear para tentar algum comportamento das variáveis."
      ]
    },
    {
      "cell_type": "code",
      "execution_count": 16,
      "metadata": {
        "id": "RO9Sq5DGTv1J",
        "colab": {
          "base_uri": "https://localhost:8080/",
          "height": 359
        },
        "outputId": "3c050617-c7f8-4aa7-a4a6-7ac7d20c35b6"
      },
      "outputs": [
        {
          "output_type": "execute_result",
          "data": {
            "text/plain": [
              "<matplotlib.axes._subplots.AxesSubplot at 0x7f8fcd7017d0>"
            ]
          },
          "metadata": {},
          "execution_count": 16
        },
        {
          "output_type": "display_data",
          "data": {
            "text/plain": [
              "<Figure size 432x288 with 2 Axes>"
            ],
            "image/png": "[encoded data removed]"
          },
          "metadata": {
            "needs_background": "light"
          }
        }
      ],
      "source": [
        "correlation_columns = ['casosAcumulado','casosNovos','obitosAcumulado','obitosNovos']\n",
        "correlation = RegioesBrasilFull[correlation_columns].corr()\n",
        "matrix = np.triu(RegioesBrasilFull[correlation_columns].corr())\n",
        "sns.heatmap(correlation, xticklabels=correlation.columns, yticklabels=correlation.columns, annot=True, center=0, cmap='coolwarm', mask=matrix)"
      ]
    },
    {
      "cell_type": "markdown",
      "metadata": {
        "id": "wUORWXRITv1K"
      },
      "source": [
        "A partir da correlação de Pearson podemos perceber que as variáveis que possuem maior correlação são obitosAcumulado e casosAcumulado, e obitosNovos e casosNovos."
      ]
    },
    {
      "cell_type": "markdown",
      "metadata": {
        "id": "3gjhfio0Tv1L"
      },
      "source": [
        "## Modelo de regressão linear utilizando obitosAcumulado e casosAcumulados.\n"
      ]
    },
    {
      "cell_type": "code",
      "execution_count": 17,
      "metadata": {
        "id": "sfaVX6XDTv1M",
        "colab": {
          "base_uri": "https://localhost:8080/"
        },
        "outputId": "d6aa7933-6dcf-4c29-f97d-73ec26f9878e"
      },
      "outputs": [
        {
          "output_type": "stream",
          "name": "stdout",
          "text": [
            "Coeficiente estimado:  [0.02829546]\n",
            "R2 (score):  0.9163298457685978\n",
            "Intercept -12.322 \n",
            "932054.47619822\n"
          ]
        }
      ],
      "source": [
        "X = RegioesBrasilFull.casosAcumulado\n",
        "Y = RegioesBrasilFull.obitosAcumulado\n",
        "\n",
        "lm = LinearRegression()\n",
        "lm.fit(X.values.reshape(-1,1), Y)\n",
        "\n",
        "print('Coeficiente estimado: ', lm.coef_)\n",
        "print('R2 (score): ', lm.score(X.values.reshape(-1,1), Y))\n",
        "print('Intercept %.3f ' % lm.intercept_)\n",
        "# Predição para obitosAcumulado e casosAcumulados.\n",
        "def calcPredicao1 (casosAcumulados:int,):\n",
        "  return (casosAcumulados*0.02829546 - 12.322)\n",
        "print(calcPredicao1(32940507))"
      ]
    },
    {
      "cell_type": "markdown",
      "metadata": {
        "id": "DhYGy384Tv1M"
      },
      "source": [
        "A partir do modelo de regressão linear implementado obtemos uma equação que representa uma predição dos óbitos acumulados dada uma quantidade de casos acumulados de covid-19. A equação encontrada foi:\n",
        "\n",
        "* _ObitosAcumulados_ = 0.02829546 x _CasosAcumulados_ -12.322"
      ]
    },
    {
      "cell_type": "markdown",
      "source": [
        "Como no teste obtido os valores não estão próximos do que ocorre no mundo real, será feito outros testes para avaliar o que pode estar causando esta grande discrepância."
      ],
      "metadata": {
        "id": "wowHWBUo5ja3"
      }
    },
    {
      "cell_type": "code",
      "source": [
        "plt.scatter(RegioesBrasilFull.casosAcumulado,RegioesBrasilFull.obitosAcumulado)\n",
        "plt.xlabel('Casos acumulados')\n",
        "plt.ylabel('Óbitos acumulados')\n",
        "plt.title('Relação entre número casos acumulados e a quantidade de óbitos acumulados durante a pandemia.\\n')\n",
        "plt.show()"
      ],
      "metadata": {
        "colab": {
          "base_uri": "https://localhost:8080/",
          "height": 310
        },
        "id": "pJdPqTFS5mjA",
        "outputId": "f9b5ba28-4f5c-4234-bd31-cd146fec738b"
      },
      "execution_count": 18,
      "outputs": [
        {
          "output_type": "display_data",
          "data": {
            "text/plain": [
              "<Figure size 432x288 with 1 Axes>"
            ],
            "image/png": "[encoded data removed]"
          },
          "metadata": {
            "needs_background": "light"
          }
        }
      ]
    },
    {
      "cell_type": "markdown",
      "source": [
        "De acordo com o gráfico acima, podemos perceber que uma regressão linear realmente é uma boa opção a utilizar para criar um modelo, neste caso. No entanto, há dados que podem estar atrapalhando o resultado do modelo, como pode ser visto no gráfico acima."
      ],
      "metadata": {
        "id": "1qwxycon5qfw"
      }
    },
    {
      "cell_type": "markdown",
      "metadata": {
        "id": "ubqEiiJetaHK"
      },
      "source": [
        "## Avaliando relação par-a-par entre variáveis\n",
        "\n",
        "Antes de se criar um modelo de regressão, é importante avaliar as correlações entre todas as possíveis variáveis."
      ]
    },
    {
      "cell_type": "markdown",
      "metadata": {
        "id": "7s8hKEV3vEv8"
      },
      "source": [
        "## Regiões Brasil em 2020"
      ]
    },
    {
      "cell_type": "code",
      "execution_count": null,
      "metadata": {
        "id": "XQkSKIE9wSvl",
        "colab": {
          "base_uri": "https://localhost:8080/"
        },
        "outputId": "5a5838bd-4a38-4b83-86de-6f6e4bde860f"
      },
      "outputs": [
        {
          "output_type": "stream",
          "name": "stdout",
          "text": [
            "<class 'pandas.core.frame.DataFrame'>\n",
            "Int64Index: 1573877 entries, 158 to 859706\n",
            "Data columns (total 16 columns):\n",
            " #   Column                  Non-Null Count    Dtype  \n",
            "---  ------                  --------------    -----  \n",
            " 0   regiao                  1573877 non-null  object \n",
            " 1   estado                  1573877 non-null  object \n",
            " 2   municipio               1559600 non-null  object \n",
            " 3   coduf                   1573877 non-null  int64  \n",
            " 4   codmun                  1565480 non-null  float64\n",
            " 5   codRegiaoSaude          1559600 non-null  float64\n",
            " 6   nomeRegiaoSaude         1559600 non-null  object \n",
            " 7   data                    1573877 non-null  object \n",
            " 8   semanaEpi               1573877 non-null  int64  \n",
            " 9   populacaoTCU2019        1567997 non-null  float64\n",
            " 10  casosAcumulado          1573877 non-null  int64  \n",
            " 11  casosNovos              1573877 non-null  int64  \n",
            " 12  obitosAcumulado         1573877 non-null  int64  \n",
            " 13  obitosNovos             1573877 non-null  int64  \n",
            " 14  interior/metropolitana  1559600 non-null  float64\n",
            " 15  Prop                    1567997 non-null  float64\n",
            "dtypes: float64(5), int64(6), object(5)\n",
            "memory usage: 204.1+ MB\n"
          ]
        }
      ],
      "source": [
        "RegioesBrasil2020.info()"
      ]
    },
    {
      "cell_type": "code",
      "source": [
        "RegioesBrasil2020.index.is_unique"
      ],
      "metadata": {
        "id": "R2XKQ4Nrct__",
        "colab": {
          "base_uri": "https://localhost:8080/"
        },
        "outputId": "39005c59-a1bd-4af4-df98-e37e53bfd3bc"
      },
      "execution_count": null,
      "outputs": [
        {
          "output_type": "execute_result",
          "data": {
            "text/plain": [
              "False"
            ]
          },
          "metadata": {},
          "execution_count": 90
        }
      ]
    },
    {
      "cell_type": "markdown",
      "source": [
        "# Existência de valores de indices duplicados no data frame, portanto devemos reindexar o dataframe"
      ],
      "metadata": {
        "id": "vMHpmdojda4I"
      }
    },
    {
      "cell_type": "code",
      "source": [
        "RegioesBrasil2020.reset_index(level=0, inplace=True)"
      ],
      "metadata": {
        "id": "oKIruxe4eFVt"
      },
      "execution_count": 19,
      "outputs": []
    },
    {
      "cell_type": "code",
      "source": [
        "RegioesBrasil2020.index.is_unique"
      ],
      "metadata": {
        "id": "68UzdSbjeKaW",
        "colab": {
          "base_uri": "https://localhost:8080/"
        },
        "outputId": "7521b885-daa5-4b53-d1d5-c612cf948ad3"
      },
      "execution_count": 20,
      "outputs": [
        {
          "output_type": "execute_result",
          "data": {
            "text/plain": [
              "True"
            ]
          },
          "metadata": {},
          "execution_count": 20
        }
      ]
    },
    {
      "cell_type": "markdown",
      "source": [
        "# Como podemos perceber, os indices foram reindexados e agora o data frame não possui indices duplicados."
      ],
      "metadata": {
        "id": "I4MKdH3tes_I"
      }
    },
    {
      "cell_type": "markdown",
      "source": [
        "Retirando uma amostra dos dados para analisar a correlação entre as variáveis"
      ],
      "metadata": {
        "id": "HdA6hx2dYVaV"
      }
    },
    {
      "cell_type": "code",
      "execution_count": null,
      "metadata": {
        "id": "E4ONZFmYup3p",
        "colab": {
          "base_uri": "https://localhost:8080/",
          "height": 743
        },
        "outputId": "77416d17-4396-40dc-9b1c-6b8720440948"
      },
      "outputs": [
        {
          "output_type": "execute_result",
          "data": {
            "text/plain": [
              "<seaborn.axisgrid.PairGrid at 0x7f8f3c4c7690>"
            ]
          },
          "metadata": {},
          "execution_count": 93
        },
        {
          "output_type": "display_data",
          "data": {
            "text/plain": [
              "<Figure size 720x720 with 20 Axes>"
            ],
            "image/png": "[encoded data removed]"
          },
          "metadata": {
            "needs_background": "light"
          }
        }
      ],
      "source": [
        "sample = RegioesBrasil2020.sample(10000)\n",
        "sns.pairplot(sample,vars=['casosNovos','obitosNovos','casosAcumulado','obitosAcumulado'])"
      ]
    },
    {
      "cell_type": "markdown",
      "source": [
        "Como pode ser notado, as variáveis cujas correlações são mais fortes são de fácil entendimento, dado que por exemplo: obitosAcumulado e casosAcumulado, tendem a ter naturalmente uma relação. Entretanto, há uma correlação entre casos novos e óbitos novos. Isso permite dizer que em 2020 existia uma relação entre pegar a doença e morrer"
      ],
      "metadata": {
        "id": "gZufhv_bX9Ak"
      }
    },
    {
      "cell_type": "markdown",
      "source": [
        "Agora, analisando para 2022 vamos tentar analisar se o mesmo acontece após a vacinação:"
      ],
      "metadata": {
        "id": "vA-ItILWYzLC"
      }
    },
    {
      "cell_type": "code",
      "source": [
        "sample = RegioesBrasil2022.sample(10000)\n",
        "sns.pairplot(sample,vars=['casosNovos','obitosNovos','casosAcumulado','obitosAcumulado'])"
      ],
      "metadata": {
        "colab": {
          "base_uri": "https://localhost:8080/",
          "height": 743
        },
        "id": "OEpVlll7Y7IR",
        "outputId": "f3c12cd3-b5f8-4b40-dc4e-de843b3c7856"
      },
      "execution_count": null,
      "outputs": [
        {
          "output_type": "execute_result",
          "data": {
            "text/plain": [
              "<seaborn.axisgrid.PairGrid at 0x7f8eee256a90>"
            ]
          },
          "metadata": {},
          "execution_count": 94
        },
        {
          "output_type": "display_data",
          "data": {
            "text/plain": [
              "<Figure size 720x720 with 20 Axes>"
            ],
            "image/png": "[encoded data removed]"
          },
          "metadata": {
            "needs_background": "light"
          }
        }
      ]
    },
    {
      "cell_type": "markdown",
      "source": [
        "Como podemos perceber, a diferença apesar de pequena, resultou em um menor agrupamento dos dados quando se é analisado em 2022. Isso permite se questionar se de fato as vacinas tendenram a diminuir os óbitos por Covid 19"
      ],
      "metadata": {
        "id": "yqVqkh7NbMa6"
      }
    },
    {
      "cell_type": "markdown",
      "metadata": {
        "id": "lze6O-Xbv4re"
      },
      "source": [
        "### Vamos olhar individualmente para o casos acumulado. Qual sua relação com o obitos acumulado?"
      ]
    },
    {
      "cell_type": "code",
      "execution_count": null,
      "metadata": {
        "id": "qMjux2OVv4QW",
        "colab": {
          "base_uri": "https://localhost:8080/",
          "height": 295
        },
        "outputId": "db14292f-df2e-46d8-d502-7b237e09e941"
      },
      "outputs": [
        {
          "output_type": "display_data",
          "data": {
            "text/plain": [
              "<Figure size 432x288 with 1 Axes>"
            ],
            "image/png": "[encoded data removed]"
          },
          "metadata": {
            "needs_background": "light"
          }
        }
      ],
      "source": [
        "plt.scatter(RegioesBrasil2020.casosAcumulado, RegioesBrasil2020.obitosAcumulado)\n",
        "plt.xlabel('Número de casos acumulados')\n",
        "plt.ylabel('Número de obitos acumulados')\n",
        "plt.title('Relação entre número de casos acumulados e obitos acumulados')\n",
        "plt.show()"
      ]
    },
    {
      "cell_type": "markdown",
      "metadata": {
        "id": "vVQSvTmA5mom"
      },
      "source": [
        "### Vamos olhar individualmente para o casos novos. Qual sua relação com obitos casos?"
      ]
    },
    {
      "cell_type": "code",
      "execution_count": null,
      "metadata": {
        "id": "5wTOUEvo4bNO",
        "colab": {
          "base_uri": "https://localhost:8080/",
          "height": 295
        },
        "outputId": "be7fa06e-46fa-4dfb-b7db-bd5e44d6bef2"
      },
      "outputs": [
        {
          "output_type": "display_data",
          "data": {
            "text/plain": [
              "<Figure size 432x288 with 1 Axes>"
            ],
            "image/png": "[encoded data removed]"
          },
          "metadata": {
            "needs_background": "light"
          }
        }
      ],
      "source": [
        "plt.scatter(RegioesBrasil2020.casosNovos, RegioesBrasil2020.obitosNovos)\n",
        "plt.xlabel('Número de casos novos')\n",
        "plt.ylabel('Número de obitos novos')\n",
        "plt.title('Relação entre número de casos novos e obitos novos')\n",
        "plt.show()"
      ]
    },
    {
      "cell_type": "markdown",
      "metadata": {
        "id": "fzguQbGR6dJG"
      },
      "source": [
        "### Vamos olhar individualmente para o casos novos. Qual sua relação com obitos acumulados?"
      ]
    },
    {
      "cell_type": "code",
      "execution_count": null,
      "metadata": {
        "id": "1CQr3Hqu6lu-",
        "colab": {
          "base_uri": "https://localhost:8080/",
          "height": 295
        },
        "outputId": "81a3aa5f-fa88-4418-83e3-29b959ccb831"
      },
      "outputs": [
        {
          "output_type": "display_data",
          "data": {
            "text/plain": [
              "<Figure size 432x288 with 1 Axes>"
            ],
            "image/png": "[encoded data removed]"
          },
          "metadata": {
            "needs_background": "light"
          }
        }
      ],
      "source": [
        "plt.scatter(RegioesBrasil2020.casosNovos, RegioesBrasil2020.obitosAcumulado)\n",
        "plt.xlabel('Número de casos novos')\n",
        "plt.ylabel('Número de obitos acumulados')\n",
        "plt.title('Relação entre número de casos novos e obitos acumulados')\n",
        "plt.show()"
      ]
    },
    {
      "cell_type": "markdown",
      "metadata": {
        "id": "9VDpsq7q7UwF"
      },
      "source": [
        "# Calculando a Correlação & Coeficiente de Pearson\n",
        "Uma medida importante para saber se duas variáveis numéricas estão relacionadas é a Correlação de Pearson"
      ]
    },
    {
      "cell_type": "code",
      "execution_count": null,
      "metadata": {
        "id": "-T80mPmW7UMp",
        "colab": {
          "base_uri": "https://localhost:8080/",
          "height": 70
        },
        "outputId": "3f163179-7017-4b94-e799-5511d2998544"
      },
      "outputs": [
        {
          "output_type": "execute_result",
          "data": {
            "text/plain": [
              "'\\ngraph = sns.jointplot(data=RegioesBrasilFull, x=\\'casosNovos\\', y=\\'casosAcumulado\\', alpha=0.1)\\nr, p = stats.pearsonr(RegioesBrasilFull[\\'casosNovos\\'], RegioesBrasilFull[\\'casosAcumulado\\'])\\nphantom, = graph.ax_joint.plot([], [], linestyle=\"\", alpha=0)\\n\\ngraph.ax_joint.legend([phantom],[\\'r={:f}, p={:f}\\'.format(r,p)])\\n'"
            ],
            "application/vnd.google.colaboratory.intrinsic+json": {
              "type": "string"
            }
          },
          "metadata": {},
          "execution_count": 98
        }
      ],
      "source": [
        "# sns.jointplot(x='RM', y='PRICE', data=df, alpha = 0.1, stat_func=pearsonr)\n",
        "\"\"\"\n",
        "graph = sns.jointplot(data=RegioesBrasilFull, x='casosNovos', y='casosAcumulado', alpha=0.1)\n",
        "r, p = stats.pearsonr(RegioesBrasilFull['casosNovos'], RegioesBrasilFull['casosAcumulado'])\n",
        "phantom, = graph.ax_joint.plot([], [], linestyle=\"\", alpha=0)\n",
        "\n",
        "graph.ax_joint.legend([phantom],['r={:f}, p={:f}'.format(r,p)])\n",
        "\"\"\""
      ]
    },
    {
      "cell_type": "markdown",
      "metadata": {
        "id": "DhjxKECaA9QU"
      },
      "source": [
        "### Com base nos casos novos avaliar a quantidade de obitos novos em dado ano."
      ]
    },
    {
      "cell_type": "markdown",
      "source": [
        "Transformando a data em um DateTime para separar os dados"
      ],
      "metadata": {
        "id": "yzmvWBAHBMSP"
      }
    },
    {
      "cell_type": "code",
      "source": [
        "RegioesBrasilFull['data'] = pd.to_datetime(RegioesBrasilFull['data'])"
      ],
      "metadata": {
        "id": "yXjwwmt-ApWf"
      },
      "execution_count": 150,
      "outputs": []
    },
    {
      "cell_type": "markdown",
      "source": [
        "Criando um contador para atribuir valor da semana"
      ],
      "metadata": {
        "id": "s-sxjx9-Fjz7"
      }
    },
    {
      "cell_type": "code",
      "source": [
        "dic = {'contador':1,'dia':[],'mes':[],'ano':[]}"
      ],
      "metadata": {
        "id": "WbtI2eKpD_iC"
      },
      "execution_count": 175,
      "outputs": []
    },
    {
      "cell_type": "markdown",
      "source": [
        "Função para incrementar o valor do contador da semana quando o número é multiplo de 7"
      ],
      "metadata": {
        "id": "yimzyEyLFqZw"
      }
    },
    {
      "cell_type": "code",
      "source": [
        "def valorSemana(dia,mes,ano,dic):\n",
        "  if ano not in dic['ano']:\n",
        "    dic['ano'].append(ano)\n",
        "    dic['mes'] = []\n",
        "\n",
        "  if mes not in dic['mes']:\n",
        "    dic['mes'].append(mes)\n",
        "    dic['dia'] = []\n",
        "\n",
        "  if dia%7 == 0 and dia not in dic['dia']:\n",
        "    dic['contador'] += 1\n",
        "    dic['dia'].append(dia)\n",
        "  \n",
        "  return dic['contador']"
      ],
      "metadata": {
        "id": "79H1wjCEBuMo"
      },
      "execution_count": 176,
      "outputs": []
    },
    {
      "cell_type": "code",
      "source": [
        "def sepSemana(data,dic):\n",
        "  dia = data.day\n",
        "  mes = data.month\n",
        "  ano = data.year\n",
        "  return valorSemana(dia,mes,ano,dic)"
      ],
      "metadata": {
        "id": "tpdAubKiBh0C"
      },
      "execution_count": 177,
      "outputs": []
    },
    {
      "cell_type": "code",
      "source": [
        "RegioesBrasilFull['semana'] = RegioesBrasilFull['data'].apply(lambda x: sepSemana(x,dic))"
      ],
      "metadata": {
        "id": "ocIx2NxkBL7H"
      },
      "execution_count": 178,
      "outputs": []
    },
    {
      "cell_type": "code",
      "source": [
        "RegioesBrasilFull['semana'].unique()"
      ],
      "metadata": {
        "colab": {
          "base_uri": "https://localhost:8080/"
        },
        "id": "pANBK8riF3tr",
        "outputId": "0dc170f8-f90a-4950-ed0e-d23ca96cefde"
      },
      "execution_count": 179,
      "outputs": [
        {
          "output_type": "execute_result",
          "data": {
            "text/plain": [
              "array([  1,   2,   3,   4,   5,   6,   7,   8,   9,  10,  11,  12,  13,\n",
              "        14,  15,  16,  17,  18,  19,  20,  21,  22,  23,  24,  25,  26,\n",
              "        27,  28,  29,  30,  31,  32,  33,  34,  35,  36,  37,  38,  39,\n",
              "        40,  41,  42,  43,  44,  45,  46,  47,  48,  49,  50,  51,  52,\n",
              "        53,  54,  55,  56,  57,  58,  59,  60,  61,  62,  63,  64,  65,\n",
              "        66,  67,  68,  69,  70,  71,  72,  73,  74,  75,  76,  77,  78,\n",
              "        79,  80,  81,  82,  83,  84,  85,  86,  87,  88,  89,  90,  91,\n",
              "        92,  93,  94,  95,  96,  97,  98,  99, 100, 101, 102, 103, 104,\n",
              "       105, 106, 107, 108, 109, 110, 111, 112, 113, 114])"
            ]
          },
          "metadata": {},
          "execution_count": 179
        }
      ]
    },
    {
      "cell_type": "markdown",
      "source": [
        "Temos 114 semanas de dados para serem agrupados"
      ],
      "metadata": {
        "id": "BZWQ9HnESDDJ"
      }
    },
    {
      "cell_type": "code",
      "source": [
        "RegioesBrasilFull[['semana','regiao']]"
      ],
      "metadata": {
        "colab": {
          "base_uri": "https://localhost:8080/",
          "height": 424
        },
        "id": "DhZghHmVGc7l",
        "outputId": "e0ea669a-f4dc-4d88-97b4-ec3c533c19a1"
      },
      "execution_count": 180,
      "outputs": [
        {
          "output_type": "execute_result",
          "data": {
            "text/plain": [
              "        semana        regiao\n",
              "0            1         Norte\n",
              "1            1         Norte\n",
              "2            1         Norte\n",
              "3            2         Norte\n",
              "4            2         Norte\n",
              "...        ...           ...\n",
              "865321     114  Centro-Oeste\n",
              "865322     114  Centro-Oeste\n",
              "865323     114  Centro-Oeste\n",
              "865324     114  Centro-Oeste\n",
              "865325     114  Centro-Oeste\n",
              "\n",
              "[4489619 rows x 2 columns]"
            ],
            "text/html": [
              "\n",
              "  <div id=\"df-7dc4ddd8-fa23-49d9-997e-aa4caf36b45d\">\n",
              "    <div class=\"colab-df-container\">\n",
              "      <div>\n",
              "<style scoped>\n",
              "    .dataframe tbody tr th:only-of-type {\n",
              "        vertical-align: middle;\n",
              "    }\n",
              "\n",
              "    .dataframe tbody tr th {\n",
              "        vertical-align: top;\n",
              "    }\n",
              "\n",
              "    .dataframe thead th {\n",
              "        text-align: right;\n",
              "    }\n",
              "</style>\n",
              "<table border=\"1\" class=\"dataframe\">\n",
              "  <thead>\n",
              "    <tr style=\"text-align: right;\">\n",
              "      <th></th>\n",
              "      <th>semana</th>\n",
              "      <th>regiao</th>\n",
              "    </tr>\n",
              "  </thead>\n",
              "  <tbody>\n",
              "    <tr>\n",
              "      <th>0</th>\n",
              "      <td>1</td>\n",
              "      <td>Norte</td>\n",
              "    </tr>\n",
              "    <tr>\n",
              "      <th>1</th>\n",
              "      <td>1</td>\n",
              "      <td>Norte</td>\n",
              "    </tr>\n",
              "    <tr>\n",
              "      <th>2</th>\n",
              "      <td>1</td>\n",
              "      <td>Norte</td>\n",
              "    </tr>\n",
              "    <tr>\n",
              "      <th>3</th>\n",
              "      <td>2</td>\n",
              "      <td>Norte</td>\n",
              "    </tr>\n",
              "    <tr>\n",
              "      <th>4</th>\n",
              "      <td>2</td>\n",
              "      <td>Norte</td>\n",
              "    </tr>\n",
              "    <tr>\n",
              "      <th>...</th>\n",
              "      <td>...</td>\n",
              "      <td>...</td>\n",
              "    </tr>\n",
              "    <tr>\n",
              "      <th>865321</th>\n",
              "      <td>114</td>\n",
              "      <td>Centro-Oeste</td>\n",
              "    </tr>\n",
              "    <tr>\n",
              "      <th>865322</th>\n",
              "      <td>114</td>\n",
              "      <td>Centro-Oeste</td>\n",
              "    </tr>\n",
              "    <tr>\n",
              "      <th>865323</th>\n",
              "      <td>114</td>\n",
              "      <td>Centro-Oeste</td>\n",
              "    </tr>\n",
              "    <tr>\n",
              "      <th>865324</th>\n",
              "      <td>114</td>\n",
              "      <td>Centro-Oeste</td>\n",
              "    </tr>\n",
              "    <tr>\n",
              "      <th>865325</th>\n",
              "      <td>114</td>\n",
              "      <td>Centro-Oeste</td>\n",
              "    </tr>\n",
              "  </tbody>\n",
              "</table>\n",
              "<p>4489619 rows × 2 columns</p>\n",
              "</div>\n",
              "      <button class=\"colab-df-convert\" onclick=\"convertToInteractive('df-7dc4ddd8-fa23-49d9-997e-aa4caf36b45d')\"\n",
              "              title=\"Convert this dataframe to an interactive table.\"\n",
              "              style=\"display:none;\">\n",
              "        \n",
              "  <svg xmlns=\"http://www.w3.org/2000/svg\" height=\"24px\"viewBox=\"0 0 24 24\"\n",
              "       width=\"24px\">\n",
              "    <path d=\"M0 0h24v24H0V0z\" fill=\"none\"/>\n",
              "    <path d=\"M18.56 5.44l.94 2.06.94-2.06 2.06-.94-2.06-.94-.94-2.06-.94 2.06-2.06.94zm-11 1L8.5 8.5l.94-2.06 2.06-.94-2.06-.94L8.5 2.5l-.94 2.06-2.06.94zm10 10l.94 2.06.94-2.06 2.06-.94-2.06-.94-.94-2.06-.94 2.06-2.06.94z\"/><path d=\"M17.41 7.96l-1.37-1.37c-.4-.4-.92-.59-1.43-.59-.52 0-1.04.2-1.43.59L10.3 9.45l-7.72 7.72c-.78.78-.78 2.05 0 2.83L4 21.41c.39.39.9.59 1.41.59.51 0 1.02-.2 1.41-.59l7.78-7.78 2.81-2.81c.8-.78.8-2.07 0-2.86zM5.41 20L4 18.59l7.72-7.72 1.47 1.35L5.41 20z\"/>\n",
              "  </svg>\n",
              "      </button>\n",
              "      \n",
              "  <style>\n",
              "    .colab-df-container {\n",
              "      display:flex;\n",
              "      flex-wrap:wrap;\n",
              "      gap: 12px;\n",
              "    }\n",
              "\n",
              "    .colab-df-convert {\n",
              "      background-color: #E8F0FE;\n",
              "      border: none;\n",
              "      border-radius: 50%;\n",
              "      cursor: pointer;\n",
              "      display: none;\n",
              "      fill: #1967D2;\n",
              "      height: 32px;\n",
              "      padding: 0 0 0 0;\n",
              "      width: 32px;\n",
              "    }\n",
              "\n",
              "    .colab-df-convert:hover {\n",
              "      background-color: #E2EBFA;\n",
              "      box-shadow: 0px 1px 2px rgba(60, 64, 67, 0.3), 0px 1px 3px 1px rgba(60, 64, 67, 0.15);\n",
              "      fill: #174EA6;\n",
              "    }\n",
              "\n",
              "    [theme=dark] .colab-df-convert {\n",
              "      background-color: #3B4455;\n",
              "      fill: #D2E3FC;\n",
              "    }\n",
              "\n",
              "    [theme=dark] .colab-df-convert:hover {\n",
              "      background-color: #434B5C;\n",
              "      box-shadow: 0px 1px 3px 1px rgba(0, 0, 0, 0.15);\n",
              "      filter: drop-shadow(0px 1px 2px rgba(0, 0, 0, 0.3));\n",
              "      fill: #FFFFFF;\n",
              "    }\n",
              "  </style>\n",
              "\n",
              "      <script>\n",
              "        const buttonEl =\n",
              "          document.querySelector('#df-7dc4ddd8-fa23-49d9-997e-aa4caf36b45d button.colab-df-convert');\n",
              "        buttonEl.style.display =\n",
              "          google.colab.kernel.accessAllowed ? 'block' : 'none';\n",
              "\n",
              "        async function convertToInteractive(key) {\n",
              "          const element = document.querySelector('#df-7dc4ddd8-fa23-49d9-997e-aa4caf36b45d');\n",
              "          const dataTable =\n",
              "            await google.colab.kernel.invokeFunction('convertToInteractive',\n",
              "                                                     [key], {});\n",
              "          if (!dataTable) return;\n",
              "\n",
              "          const docLinkHtml = 'Like what you see? Visit the ' +\n",
              "            '<a target=\"_blank\" href=https://colab.research.google.com/notebooks/data_table.ipynb>data table notebook</a>'\n",
              "            + ' to learn more about interactive tables.';\n",
              "          element.innerHTML = '';\n",
              "          dataTable['output_type'] = 'display_data';\n",
              "          await google.colab.output.renderOutput(dataTable, element);\n",
              "          const docLink = document.createElement('div');\n",
              "          docLink.innerHTML = docLinkHtml;\n",
              "          element.appendChild(docLink);\n",
              "        }\n",
              "      </script>\n",
              "    </div>\n",
              "  </div>\n",
              "  "
            ]
          },
          "metadata": {},
          "execution_count": 180
        }
      ]
    },
    {
      "cell_type": "markdown",
      "source": [
        "Pegando as médias dos valores dos dias para construir os dados da semana e criar um data frame que seja possível realizar uma predição por semana"
      ],
      "metadata": {
        "id": "D7Fqos71G3B-"
      }
    },
    {
      "cell_type": "code",
      "source": [
        "df_semanas = RegioesBrasilFull.groupby('semana').mean()\n",
        "df_semanas"
      ],
      "metadata": {
        "colab": {
          "base_uri": "https://localhost:8080/",
          "height": 519
        },
        "id": "OyVXDuSMGr6v",
        "outputId": "b7c26e15-62b8-43b6-dcbe-7ea3df144248"
      },
      "execution_count": 181,
      "outputs": [
        {
          "output_type": "execute_result",
          "data": {
            "text/plain": [
              "        index      coduf        codmun  codRegiaoSaude  semanaEpi  \\\n",
              "semana                                                              \n",
              "1       159.0  11.000000           NaN             NaN   9.000000   \n",
              "2       164.5  11.000000           NaN             NaN   9.750000   \n",
              "3       172.0  11.000000           NaN             NaN  10.857143   \n",
              "4       179.0  11.000000           NaN             NaN  11.857143   \n",
              "5       186.0  11.000000           NaN             NaN  12.857143   \n",
              "...       ...        ...           ...             ...        ...   \n",
              "110       NaN  11.461538           NaN             NaN  16.153846   \n",
              "111       NaN  12.000000           NaN             NaN   1.714286   \n",
              "112       NaN  12.000000           NaN             NaN   2.714286   \n",
              "113       NaN  12.000000           NaN             NaN   3.714286   \n",
              "114       NaN  32.357053  325258.01413    32403.123698  11.695038   \n",
              "\n",
              "        populacaoTCU2019  casosAcumulado  casosNovos  obitosAcumulado  \\\n",
              "semana                                                                  \n",
              "1           1.777225e+06        0.000000    0.000000         0.000000   \n",
              "2           1.777225e+06        0.000000    0.000000         0.000000   \n",
              "3           1.777225e+06        0.000000    0.000000         0.000000   \n",
              "4           1.777225e+06        0.142857    0.142857         0.000000   \n",
              "5           1.777225e+06        3.714286    0.714286         0.000000   \n",
              "...                  ...             ...         ...              ...   \n",
              "110         1.364014e+06   258411.846154   52.692308      4740.461538   \n",
              "111         8.819350e+05    88619.142857  120.142857      1852.857143   \n",
              "112         8.819350e+05    90395.142857  362.428571      1854.000000   \n",
              "113         8.819350e+05    94758.857143  721.857143      1857.285714   \n",
              "114         7.476331e+04    10013.152709   20.990236       229.847067   \n",
              "\n",
              "        obitosNovos  interior/metropolitana  \n",
              "semana                                       \n",
              "1          0.000000                     NaN  \n",
              "2          0.000000                     NaN  \n",
              "3          0.000000                     NaN  \n",
              "4          0.000000                     NaN  \n",
              "5          0.000000                     NaN  \n",
              "...             ...                     ...  \n",
              "110        0.461538                     NaN  \n",
              "111        0.285714                     NaN  \n",
              "112        0.000000                     NaN  \n",
              "113        1.000000                     NaN  \n",
              "114        0.130072                  0.0693  \n",
              "\n",
              "[114 rows x 11 columns]"
            ],
            "text/html": [
              "\n",
              "  <div id=\"df-9c2de981-bb83-43d2-8649-73d2b9999c25\">\n",
              "    <div class=\"colab-df-container\">\n",
              "      <div>\n",
              "<style scoped>\n",
              "    .dataframe tbody tr th:only-of-type {\n",
              "        vertical-align: middle;\n",
              "    }\n",
              "\n",
              "    .dataframe tbody tr th {\n",
              "        vertical-align: top;\n",
              "    }\n",
              "\n",
              "    .dataframe thead th {\n",
              "        text-align: right;\n",
              "    }\n",
              "</style>\n",
              "<table border=\"1\" class=\"dataframe\">\n",
              "  <thead>\n",
              "    <tr style=\"text-align: right;\">\n",
              "      <th></th>\n",
              "      <th>index</th>\n",
              "      <th>coduf</th>\n",
              "      <th>codmun</th>\n",
              "      <th>codRegiaoSaude</th>\n",
              "      <th>semanaEpi</th>\n",
              "      <th>populacaoTCU2019</th>\n",
              "      <th>casosAcumulado</th>\n",
              "      <th>casosNovos</th>\n",
              "      <th>obitosAcumulado</th>\n",
              "      <th>obitosNovos</th>\n",
              "      <th>interior/metropolitana</th>\n",
              "    </tr>\n",
              "    <tr>\n",
              "      <th>semana</th>\n",
              "      <th></th>\n",
              "      <th></th>\n",
              "      <th></th>\n",
              "      <th></th>\n",
              "      <th></th>\n",
              "      <th></th>\n",
              "      <th></th>\n",
              "      <th></th>\n",
              "      <th></th>\n",
              "      <th></th>\n",
              "      <th></th>\n",
              "    </tr>\n",
              "  </thead>\n",
              "  <tbody>\n",
              "    <tr>\n",
              "      <th>1</th>\n",
              "      <td>159.0</td>\n",
              "      <td>11.000000</td>\n",
              "      <td>NaN</td>\n",
              "      <td>NaN</td>\n",
              "      <td>9.000000</td>\n",
              "      <td>1.777225e+06</td>\n",
              "      <td>0.000000</td>\n",
              "      <td>0.000000</td>\n",
              "      <td>0.000000</td>\n",
              "      <td>0.000000</td>\n",
              "      <td>NaN</td>\n",
              "    </tr>\n",
              "    <tr>\n",
              "      <th>2</th>\n",
              "      <td>164.5</td>\n",
              "      <td>11.000000</td>\n",
              "      <td>NaN</td>\n",
              "      <td>NaN</td>\n",
              "      <td>9.750000</td>\n",
              "      <td>1.777225e+06</td>\n",
              "      <td>0.000000</td>\n",
              "      <td>0.000000</td>\n",
              "      <td>0.000000</td>\n",
              "      <td>0.000000</td>\n",
              "      <td>NaN</td>\n",
              "    </tr>\n",
              "    <tr>\n",
              "      <th>3</th>\n",
              "      <td>172.0</td>\n",
              "      <td>11.000000</td>\n",
              "      <td>NaN</td>\n",
              "      <td>NaN</td>\n",
              "      <td>10.857143</td>\n",
              "      <td>1.777225e+06</td>\n",
              "      <td>0.000000</td>\n",
              "      <td>0.000000</td>\n",
              "      <td>0.000000</td>\n",
              "      <td>0.000000</td>\n",
              "      <td>NaN</td>\n",
              "    </tr>\n",
              "    <tr>\n",
              "      <th>4</th>\n",
              "      <td>179.0</td>\n",
              "      <td>11.000000</td>\n",
              "      <td>NaN</td>\n",
              "      <td>NaN</td>\n",
              "      <td>11.857143</td>\n",
              "      <td>1.777225e+06</td>\n",
              "      <td>0.142857</td>\n",
              "      <td>0.142857</td>\n",
              "      <td>0.000000</td>\n",
              "      <td>0.000000</td>\n",
              "      <td>NaN</td>\n",
              "    </tr>\n",
              "    <tr>\n",
              "      <th>5</th>\n",
              "      <td>186.0</td>\n",
              "      <td>11.000000</td>\n",
              "      <td>NaN</td>\n",
              "      <td>NaN</td>\n",
              "      <td>12.857143</td>\n",
              "      <td>1.777225e+06</td>\n",
              "      <td>3.714286</td>\n",
              "      <td>0.714286</td>\n",
              "      <td>0.000000</td>\n",
              "      <td>0.000000</td>\n",
              "      <td>NaN</td>\n",
              "    </tr>\n",
              "    <tr>\n",
              "      <th>...</th>\n",
              "      <td>...</td>\n",
              "      <td>...</td>\n",
              "      <td>...</td>\n",
              "      <td>...</td>\n",
              "      <td>...</td>\n",
              "      <td>...</td>\n",
              "      <td>...</td>\n",
              "      <td>...</td>\n",
              "      <td>...</td>\n",
              "      <td>...</td>\n",
              "      <td>...</td>\n",
              "    </tr>\n",
              "    <tr>\n",
              "      <th>110</th>\n",
              "      <td>NaN</td>\n",
              "      <td>11.461538</td>\n",
              "      <td>NaN</td>\n",
              "      <td>NaN</td>\n",
              "      <td>16.153846</td>\n",
              "      <td>1.364014e+06</td>\n",
              "      <td>258411.846154</td>\n",
              "      <td>52.692308</td>\n",
              "      <td>4740.461538</td>\n",
              "      <td>0.461538</td>\n",
              "      <td>NaN</td>\n",
              "    </tr>\n",
              "    <tr>\n",
              "      <th>111</th>\n",
              "      <td>NaN</td>\n",
              "      <td>12.000000</td>\n",
              "      <td>NaN</td>\n",
              "      <td>NaN</td>\n",
              "      <td>1.714286</td>\n",
              "      <td>8.819350e+05</td>\n",
              "      <td>88619.142857</td>\n",
              "      <td>120.142857</td>\n",
              "      <td>1852.857143</td>\n",
              "      <td>0.285714</td>\n",
              "      <td>NaN</td>\n",
              "    </tr>\n",
              "    <tr>\n",
              "      <th>112</th>\n",
              "      <td>NaN</td>\n",
              "      <td>12.000000</td>\n",
              "      <td>NaN</td>\n",
              "      <td>NaN</td>\n",
              "      <td>2.714286</td>\n",
              "      <td>8.819350e+05</td>\n",
              "      <td>90395.142857</td>\n",
              "      <td>362.428571</td>\n",
              "      <td>1854.000000</td>\n",
              "      <td>0.000000</td>\n",
              "      <td>NaN</td>\n",
              "    </tr>\n",
              "    <tr>\n",
              "      <th>113</th>\n",
              "      <td>NaN</td>\n",
              "      <td>12.000000</td>\n",
              "      <td>NaN</td>\n",
              "      <td>NaN</td>\n",
              "      <td>3.714286</td>\n",
              "      <td>8.819350e+05</td>\n",
              "      <td>94758.857143</td>\n",
              "      <td>721.857143</td>\n",
              "      <td>1857.285714</td>\n",
              "      <td>1.000000</td>\n",
              "      <td>NaN</td>\n",
              "    </tr>\n",
              "    <tr>\n",
              "      <th>114</th>\n",
              "      <td>NaN</td>\n",
              "      <td>32.357053</td>\n",
              "      <td>325258.01413</td>\n",
              "      <td>32403.123698</td>\n",
              "      <td>11.695038</td>\n",
              "      <td>7.476331e+04</td>\n",
              "      <td>10013.152709</td>\n",
              "      <td>20.990236</td>\n",
              "      <td>229.847067</td>\n",
              "      <td>0.130072</td>\n",
              "      <td>0.0693</td>\n",
              "    </tr>\n",
              "  </tbody>\n",
              "</table>\n",
              "<p>114 rows × 11 columns</p>\n",
              "</div>\n",
              "      <button class=\"colab-df-convert\" onclick=\"convertToInteractive('df-9c2de981-bb83-43d2-8649-73d2b9999c25')\"\n",
              "              title=\"Convert this dataframe to an interactive table.\"\n",
              "              style=\"display:none;\">\n",
              "        \n",
              "  <svg xmlns=\"http://www.w3.org/2000/svg\" height=\"24px\"viewBox=\"0 0 24 24\"\n",
              "       width=\"24px\">\n",
              "    <path d=\"M0 0h24v24H0V0z\" fill=\"none\"/>\n",
              "    <path d=\"M18.56 5.44l.94 2.06.94-2.06 2.06-.94-2.06-.94-.94-2.06-.94 2.06-2.06.94zm-11 1L8.5 8.5l.94-2.06 2.06-.94-2.06-.94L8.5 2.5l-.94 2.06-2.06.94zm10 10l.94 2.06.94-2.06 2.06-.94-2.06-.94-.94-2.06-.94 2.06-2.06.94z\"/><path d=\"M17.41 7.96l-1.37-1.37c-.4-.4-.92-.59-1.43-.59-.52 0-1.04.2-1.43.59L10.3 9.45l-7.72 7.72c-.78.78-.78 2.05 0 2.83L4 21.41c.39.39.9.59 1.41.59.51 0 1.02-.2 1.41-.59l7.78-7.78 2.81-2.81c.8-.78.8-2.07 0-2.86zM5.41 20L4 18.59l7.72-7.72 1.47 1.35L5.41 20z\"/>\n",
              "  </svg>\n",
              "      </button>\n",
              "      \n",
              "  <style>\n",
              "    .colab-df-container {\n",
              "      display:flex;\n",
              "      flex-wrap:wrap;\n",
              "      gap: 12px;\n",
              "    }\n",
              "\n",
              "    .colab-df-convert {\n",
              "      background-color: #E8F0FE;\n",
              "      border: none;\n",
              "      border-radius: 50%;\n",
              "      cursor: pointer;\n",
              "      display: none;\n",
              "      fill: #1967D2;\n",
              "      height: 32px;\n",
              "      padding: 0 0 0 0;\n",
              "      width: 32px;\n",
              "    }\n",
              "\n",
              "    .colab-df-convert:hover {\n",
              "      background-color: #E2EBFA;\n",
              "      box-shadow: 0px 1px 2px rgba(60, 64, 67, 0.3), 0px 1px 3px 1px rgba(60, 64, 67, 0.15);\n",
              "      fill: #174EA6;\n",
              "    }\n",
              "\n",
              "    [theme=dark] .colab-df-convert {\n",
              "      background-color: #3B4455;\n",
              "      fill: #D2E3FC;\n",
              "    }\n",
              "\n",
              "    [theme=dark] .colab-df-convert:hover {\n",
              "      background-color: #434B5C;\n",
              "      box-shadow: 0px 1px 3px 1px rgba(0, 0, 0, 0.15);\n",
              "      filter: drop-shadow(0px 1px 2px rgba(0, 0, 0, 0.3));\n",
              "      fill: #FFFFFF;\n",
              "    }\n",
              "  </style>\n",
              "\n",
              "      <script>\n",
              "        const buttonEl =\n",
              "          document.querySelector('#df-9c2de981-bb83-43d2-8649-73d2b9999c25 button.colab-df-convert');\n",
              "        buttonEl.style.display =\n",
              "          google.colab.kernel.accessAllowed ? 'block' : 'none';\n",
              "\n",
              "        async function convertToInteractive(key) {\n",
              "          const element = document.querySelector('#df-9c2de981-bb83-43d2-8649-73d2b9999c25');\n",
              "          const dataTable =\n",
              "            await google.colab.kernel.invokeFunction('convertToInteractive',\n",
              "                                                     [key], {});\n",
              "          if (!dataTable) return;\n",
              "\n",
              "          const docLinkHtml = 'Like what you see? Visit the ' +\n",
              "            '<a target=\"_blank\" href=https://colab.research.google.com/notebooks/data_table.ipynb>data table notebook</a>'\n",
              "            + ' to learn more about interactive tables.';\n",
              "          element.innerHTML = '';\n",
              "          dataTable['output_type'] = 'display_data';\n",
              "          await google.colab.output.renderOutput(dataTable, element);\n",
              "          const docLink = document.createElement('div');\n",
              "          docLink.innerHTML = docLinkHtml;\n",
              "          element.appendChild(docLink);\n",
              "        }\n",
              "      </script>\n",
              "    </div>\n",
              "  </div>\n",
              "  "
            ]
          },
          "metadata": {},
          "execution_count": 181
        }
      ]
    },
    {
      "cell_type": "code",
      "source": [
        "df_semanas.columns"
      ],
      "metadata": {
        "colab": {
          "base_uri": "https://localhost:8080/"
        },
        "id": "3mwe7GeGS1Qy",
        "outputId": "093a0006-904c-40a0-d34b-82c5f610158e"
      },
      "execution_count": 183,
      "outputs": [
        {
          "output_type": "execute_result",
          "data": {
            "text/plain": [
              "Index(['index', 'coduf', 'codmun', 'codRegiaoSaude', 'semanaEpi',\n",
              "       'populacaoTCU2019', 'casosAcumulado', 'casosNovos', 'obitosAcumulado',\n",
              "       'obitosNovos', 'interior/metropolitana'],\n",
              "      dtype='object')"
            ]
          },
          "metadata": {},
          "execution_count": 183
        }
      ]
    },
    {
      "cell_type": "code",
      "source": [
        "df_analise = df_semanas[['casosAcumulado','casosNovos','obitosAcumulado','obitosNovos']]"
      ],
      "metadata": {
        "id": "nfcCf0c9SW7C"
      },
      "execution_count": 184,
      "outputs": []
    },
    {
      "cell_type": "code",
      "source": [
        "df_analise"
      ],
      "metadata": {
        "colab": {
          "base_uri": "https://localhost:8080/",
          "height": 455
        },
        "id": "2tpIN1JXTBRn",
        "outputId": "00dbf51f-b8e9-4ebf-8cec-ecc619dd0e2d"
      },
      "execution_count": 187,
      "outputs": [
        {
          "output_type": "execute_result",
          "data": {
            "text/plain": [
              "        casosAcumulado  casosNovos  obitosAcumulado  obitosNovos\n",
              "semana                                                          \n",
              "1             0.000000    0.000000         0.000000     0.000000\n",
              "2             0.000000    0.000000         0.000000     0.000000\n",
              "3             0.000000    0.000000         0.000000     0.000000\n",
              "4             0.142857    0.142857         0.000000     0.000000\n",
              "5             3.714286    0.714286         0.000000     0.000000\n",
              "...                ...         ...              ...          ...\n",
              "110      258411.846154   52.692308      4740.461538     0.461538\n",
              "111       88619.142857  120.142857      1852.857143     0.285714\n",
              "112       90395.142857  362.428571      1854.000000     0.000000\n",
              "113       94758.857143  721.857143      1857.285714     1.000000\n",
              "114       10013.152709   20.990236       229.847067     0.130072\n",
              "\n",
              "[114 rows x 4 columns]"
            ],
            "text/html": [
              "\n",
              "  <div id=\"df-b5227fde-60f5-4d29-a7eb-a213de9ad202\">\n",
              "    <div class=\"colab-df-container\">\n",
              "      <div>\n",
              "<style scoped>\n",
              "    .dataframe tbody tr th:only-of-type {\n",
              "        vertical-align: middle;\n",
              "    }\n",
              "\n",
              "    .dataframe tbody tr th {\n",
              "        vertical-align: top;\n",
              "    }\n",
              "\n",
              "    .dataframe thead th {\n",
              "        text-align: right;\n",
              "    }\n",
              "</style>\n",
              "<table border=\"1\" class=\"dataframe\">\n",
              "  <thead>\n",
              "    <tr style=\"text-align: right;\">\n",
              "      <th></th>\n",
              "      <th>casosAcumulado</th>\n",
              "      <th>casosNovos</th>\n",
              "      <th>obitosAcumulado</th>\n",
              "      <th>obitosNovos</th>\n",
              "    </tr>\n",
              "    <tr>\n",
              "      <th>semana</th>\n",
              "      <th></th>\n",
              "      <th></th>\n",
              "      <th></th>\n",
              "      <th></th>\n",
              "    </tr>\n",
              "  </thead>\n",
              "  <tbody>\n",
              "    <tr>\n",
              "      <th>1</th>\n",
              "      <td>0.000000</td>\n",
              "      <td>0.000000</td>\n",
              "      <td>0.000000</td>\n",
              "      <td>0.000000</td>\n",
              "    </tr>\n",
              "    <tr>\n",
              "      <th>2</th>\n",
              "      <td>0.000000</td>\n",
              "      <td>0.000000</td>\n",
              "      <td>0.000000</td>\n",
              "      <td>0.000000</td>\n",
              "    </tr>\n",
              "    <tr>\n",
              "      <th>3</th>\n",
              "      <td>0.000000</td>\n",
              "      <td>0.000000</td>\n",
              "      <td>0.000000</td>\n",
              "      <td>0.000000</td>\n",
              "    </tr>\n",
              "    <tr>\n",
              "      <th>4</th>\n",
              "      <td>0.142857</td>\n",
              "      <td>0.142857</td>\n",
              "      <td>0.000000</td>\n",
              "      <td>0.000000</td>\n",
              "    </tr>\n",
              "    <tr>\n",
              "      <th>5</th>\n",
              "      <td>3.714286</td>\n",
              "      <td>0.714286</td>\n",
              "      <td>0.000000</td>\n",
              "      <td>0.000000</td>\n",
              "    </tr>\n",
              "    <tr>\n",
              "      <th>...</th>\n",
              "      <td>...</td>\n",
              "      <td>...</td>\n",
              "      <td>...</td>\n",
              "      <td>...</td>\n",
              "    </tr>\n",
              "    <tr>\n",
              "      <th>110</th>\n",
              "      <td>258411.846154</td>\n",
              "      <td>52.692308</td>\n",
              "      <td>4740.461538</td>\n",
              "      <td>0.461538</td>\n",
              "    </tr>\n",
              "    <tr>\n",
              "      <th>111</th>\n",
              "      <td>88619.142857</td>\n",
              "      <td>120.142857</td>\n",
              "      <td>1852.857143</td>\n",
              "      <td>0.285714</td>\n",
              "    </tr>\n",
              "    <tr>\n",
              "      <th>112</th>\n",
              "      <td>90395.142857</td>\n",
              "      <td>362.428571</td>\n",
              "      <td>1854.000000</td>\n",
              "      <td>0.000000</td>\n",
              "    </tr>\n",
              "    <tr>\n",
              "      <th>113</th>\n",
              "      <td>94758.857143</td>\n",
              "      <td>721.857143</td>\n",
              "      <td>1857.285714</td>\n",
              "      <td>1.000000</td>\n",
              "    </tr>\n",
              "    <tr>\n",
              "      <th>114</th>\n",
              "      <td>10013.152709</td>\n",
              "      <td>20.990236</td>\n",
              "      <td>229.847067</td>\n",
              "      <td>0.130072</td>\n",
              "    </tr>\n",
              "  </tbody>\n",
              "</table>\n",
              "<p>114 rows × 4 columns</p>\n",
              "</div>\n",
              "      <button class=\"colab-df-convert\" onclick=\"convertToInteractive('df-b5227fde-60f5-4d29-a7eb-a213de9ad202')\"\n",
              "              title=\"Convert this dataframe to an interactive table.\"\n",
              "              style=\"display:none;\">\n",
              "        \n",
              "  <svg xmlns=\"http://www.w3.org/2000/svg\" height=\"24px\"viewBox=\"0 0 24 24\"\n",
              "       width=\"24px\">\n",
              "    <path d=\"M0 0h24v24H0V0z\" fill=\"none\"/>\n",
              "    <path d=\"M18.56 5.44l.94 2.06.94-2.06 2.06-.94-2.06-.94-.94-2.06-.94 2.06-2.06.94zm-11 1L8.5 8.5l.94-2.06 2.06-.94-2.06-.94L8.5 2.5l-.94 2.06-2.06.94zm10 10l.94 2.06.94-2.06 2.06-.94-2.06-.94-.94-2.06-.94 2.06-2.06.94z\"/><path d=\"M17.41 7.96l-1.37-1.37c-.4-.4-.92-.59-1.43-.59-.52 0-1.04.2-1.43.59L10.3 9.45l-7.72 7.72c-.78.78-.78 2.05 0 2.83L4 21.41c.39.39.9.59 1.41.59.51 0 1.02-.2 1.41-.59l7.78-7.78 2.81-2.81c.8-.78.8-2.07 0-2.86zM5.41 20L4 18.59l7.72-7.72 1.47 1.35L5.41 20z\"/>\n",
              "  </svg>\n",
              "      </button>\n",
              "      \n",
              "  <style>\n",
              "    .colab-df-container {\n",
              "      display:flex;\n",
              "      flex-wrap:wrap;\n",
              "      gap: 12px;\n",
              "    }\n",
              "\n",
              "    .colab-df-convert {\n",
              "      background-color: #E8F0FE;\n",
              "      border: none;\n",
              "      border-radius: 50%;\n",
              "      cursor: pointer;\n",
              "      display: none;\n",
              "      fill: #1967D2;\n",
              "      height: 32px;\n",
              "      padding: 0 0 0 0;\n",
              "      width: 32px;\n",
              "    }\n",
              "\n",
              "    .colab-df-convert:hover {\n",
              "      background-color: #E2EBFA;\n",
              "      box-shadow: 0px 1px 2px rgba(60, 64, 67, 0.3), 0px 1px 3px 1px rgba(60, 64, 67, 0.15);\n",
              "      fill: #174EA6;\n",
              "    }\n",
              "\n",
              "    [theme=dark] .colab-df-convert {\n",
              "      background-color: #3B4455;\n",
              "      fill: #D2E3FC;\n",
              "    }\n",
              "\n",
              "    [theme=dark] .colab-df-convert:hover {\n",
              "      background-color: #434B5C;\n",
              "      box-shadow: 0px 1px 3px 1px rgba(0, 0, 0, 0.15);\n",
              "      filter: drop-shadow(0px 1px 2px rgba(0, 0, 0, 0.3));\n",
              "      fill: #FFFFFF;\n",
              "    }\n",
              "  </style>\n",
              "\n",
              "      <script>\n",
              "        const buttonEl =\n",
              "          document.querySelector('#df-b5227fde-60f5-4d29-a7eb-a213de9ad202 button.colab-df-convert');\n",
              "        buttonEl.style.display =\n",
              "          google.colab.kernel.accessAllowed ? 'block' : 'none';\n",
              "\n",
              "        async function convertToInteractive(key) {\n",
              "          const element = document.querySelector('#df-b5227fde-60f5-4d29-a7eb-a213de9ad202');\n",
              "          const dataTable =\n",
              "            await google.colab.kernel.invokeFunction('convertToInteractive',\n",
              "                                                     [key], {});\n",
              "          if (!dataTable) return;\n",
              "\n",
              "          const docLinkHtml = 'Like what you see? Visit the ' +\n",
              "            '<a target=\"_blank\" href=https://colab.research.google.com/notebooks/data_table.ipynb>data table notebook</a>'\n",
              "            + ' to learn more about interactive tables.';\n",
              "          element.innerHTML = '';\n",
              "          dataTable['output_type'] = 'display_data';\n",
              "          await google.colab.output.renderOutput(dataTable, element);\n",
              "          const docLink = document.createElement('div');\n",
              "          docLink.innerHTML = docLinkHtml;\n",
              "          element.appendChild(docLink);\n",
              "        }\n",
              "      </script>\n",
              "    </div>\n",
              "  </div>\n",
              "  "
            ]
          },
          "metadata": {},
          "execution_count": 187
        }
      ]
    },
    {
      "cell_type": "markdown",
      "source": [
        "Construido o dataframe com as semanas, podemos então começar a analisar os dados para construir o modelo de previsão usando uma regressão linear"
      ],
      "metadata": {
        "id": "DvgReVC8T5li"
      }
    }
  ],
  "metadata": {
    "colab": {
      "collapsed_sections": [
        "NEaJ_vuE-Q2X",
        "BTyY6NgMlULN",
        "gTEdELlYj46B",
        "d8jVoI1KuX6F"
      ],
      "name": "TP_Dados.ipynb",
      "provenance": [],
      "include_colab_link": true
    },
    "interpreter": {
      "hash": "916dbcbb3f70747c44a77c7bcd40155683ae19c65e1c03b4aa3499c5328201f1"
    },
    "kernelspec": {
      "display_name": "Python 3.10.4 64-bit",
      "language": "python",
      "name": "python3"
    },
    "language_info": {
      "codemirror_mode": {
        "name": "ipython",
        "version": 3
      },
      "file_extension": ".py",
      "mimetype": "text/x-python",
      "name": "python",
      "nbconvert_exporter": "python",
      "pygments_lexer": "ipython3",
      "version": "3.10.4"
    }
  },
  "nbformat": 4,
  "nbformat_minor": 0
}