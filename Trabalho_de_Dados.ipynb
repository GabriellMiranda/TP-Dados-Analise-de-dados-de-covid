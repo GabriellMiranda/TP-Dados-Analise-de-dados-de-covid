{
  "cells": [
    {
      "cell_type": "markdown",
      "metadata": {
        "id": "view-in-github",
        "colab_type": "text"
      },
      "source": [
        "<a href=\"https://colab.research.google.com/github/GabriellMiranda/TP-Dados-Analise-de-dados-de-covid/blob/main/Trabalho_de_Dados.ipynb\" target=\"_parent\"><img src=\"https://colab.research.google.com/assets/colab-badge.svg\" alt=\"Open In Colab\"/></a>"
      ]
    },
    {
      "cell_type": "code",
      "source": [
        "import pandas as pd\n",
        "import numpy as np\n",
        "import seaborn as sns\n",
        "import matplotlib.pyplot as plt\n",
        "import datetime as dt\n",
        "from sklearn.linear_model import LinearRegression\n"
      ],
      "metadata": {
        "id": "jAzNJlrDi054"
      },
      "execution_count": 267,
      "outputs": []
    },
    {
      "cell_type": "code",
      "source": [
        "!wget https://raw.githubusercontent.com/GabriellMiranda/TP-Dados-Analise-de-dados-de-covid/main/HIST_PAINEL_COVIDBR_03jun2022/HIST_PAINEL_COVIDBR_2020_Parte1_03jun2022.csv\n",
        "!wget https://raw.githubusercontent.com/GabriellMiranda/TP-Dados-Analise-de-dados-de-covid/main/HIST_PAINEL_COVIDBR_03jun2022/HIST_PAINEL_COVIDBR_2020_Parte2_03jun2022.csv\n",
        "!wget https://raw.githubusercontent.com/GabriellMiranda/TP-Dados-Analise-de-dados-de-covid/main/HIST_PAINEL_COVIDBR_03jun2022/HIST_PAINEL_COVIDBR_2021_Parte1_03jun2022.csv\n",
        "!wget https://raw.githubusercontent.com/GabriellMiranda/TP-Dados-Analise-de-dados-de-covid/main/HIST_PAINEL_COVIDBR_03jun2022/HIST_PAINEL_COVIDBR_2021_Parte2_03jun2022.csv\n",
        "!wget https://raw.githubusercontent.com/GabriellMiranda/TP-Dados-Analise-de-dados-de-covid/main/HIST_PAINEL_COVIDBR_03jun2022/HIST_PAINEL_COVIDBR_2022_Parte1_03jun2022.csv"
      ],
      "metadata": {
        "colab": {
          "base_uri": "https://localhost:8080/"
        },
        "id": "slUPy9L7IBwc",
        "outputId": "0940e6ac-26bc-4d1d-b389-7ade8a71d618"
      },
      "execution_count": 188,
      "outputs": [
        {
          "output_type": "stream",
          "name": "stdout",
          "text": [
            "--2022-07-17 22:08:36--  https://raw.githubusercontent.com/GabriellMiranda/TP-Dados-Analise-de-dados-de-covid/main/HIST_PAINEL_COVIDBR_03jun2022/HIST_PAINEL_COVIDBR_2020_Parte1_03jun2022.csv\n",
            "Resolving raw.githubusercontent.com (raw.githubusercontent.com)... 185.199.108.133, 185.199.110.133, 185.199.111.133, ...\n",
            "Connecting to raw.githubusercontent.com (raw.githubusercontent.com)|185.199.108.133|:443... connected.\n",
            "HTTP request sent, awaiting response... 200 OK\n",
            "Length: 62493275 (60M) [text/plain]\n",
            "Saving to: ‘HIST_PAINEL_COVIDBR_2020_Parte1_03jun2022.csv.7’\n",
            "\n",
            "HIST_PAINEL_COVIDBR 100%[===================>]  59.60M  45.4MB/s    in 1.3s    \n",
            "\n",
            "2022-07-17 22:08:37 (45.4 MB/s) - ‘HIST_PAINEL_COVIDBR_2020_Parte1_03jun2022.csv.7’ saved [62493275/62493275]\n",
            "\n",
            "--2022-07-17 22:08:38--  https://raw.githubusercontent.com/GabriellMiranda/TP-Dados-Analise-de-dados-de-covid/main/HIST_PAINEL_COVIDBR_03jun2022/HIST_PAINEL_COVIDBR_2020_Parte2_03jun2022.csv\n",
            "Resolving raw.githubusercontent.com (raw.githubusercontent.com)... 185.199.108.133, 185.199.109.133, 185.199.110.133, ...\n",
            "Connecting to raw.githubusercontent.com (raw.githubusercontent.com)|185.199.108.133|:443... connected.\n",
            "HTTP request sent, awaiting response... 200 OK\n",
            "Length: 76520606 (73M) [text/plain]\n",
            "Saving to: ‘HIST_PAINEL_COVIDBR_2020_Parte2_03jun2022.csv.7’\n",
            "\n",
            "HIST_PAINEL_COVIDBR 100%[===================>]  72.98M  53.1MB/s    in 1.4s    \n",
            "\n",
            "2022-07-17 22:08:39 (53.1 MB/s) - ‘HIST_PAINEL_COVIDBR_2020_Parte2_03jun2022.csv.7’ saved [76520606/76520606]\n",
            "\n",
            "--2022-07-17 22:08:39--  https://raw.githubusercontent.com/GabriellMiranda/TP-Dados-Analise-de-dados-de-covid/main/HIST_PAINEL_COVIDBR_03jun2022/HIST_PAINEL_COVIDBR_2021_Parte1_03jun2022.csv\n",
            "Resolving raw.githubusercontent.com (raw.githubusercontent.com)... 185.199.110.133, 185.199.109.133, 185.199.108.133, ...\n",
            "Connecting to raw.githubusercontent.com (raw.githubusercontent.com)|185.199.110.133|:443... connected.\n",
            "HTTP request sent, awaiting response... 200 OK\n",
            "Length: 91120853 (87M) [text/plain]\n",
            "Saving to: ‘HIST_PAINEL_COVIDBR_2021_Parte1_03jun2022.csv.7’\n",
            "\n",
            "HIST_PAINEL_COVIDBR 100%[===================>]  86.90M  19.9MB/s    in 4.3s    \n",
            "\n",
            "2022-07-17 22:08:44 (20.3 MB/s) - ‘HIST_PAINEL_COVIDBR_2021_Parte1_03jun2022.csv.7’ saved [91120853/91120853]\n",
            "\n",
            "--2022-07-17 22:08:44--  https://raw.githubusercontent.com/GabriellMiranda/TP-Dados-Analise-de-dados-de-covid/main/HIST_PAINEL_COVIDBR_03jun2022/HIST_PAINEL_COVIDBR_2021_Parte2_03jun2022.csv\n",
            "Resolving raw.githubusercontent.com (raw.githubusercontent.com)... 185.199.110.133, 185.199.111.133, 185.199.108.133, ...\n",
            "Connecting to raw.githubusercontent.com (raw.githubusercontent.com)|185.199.110.133|:443... connected.\n",
            "HTTP request sent, awaiting response... 200 OK\n",
            "Length: 93414239 (89M) [text/plain]\n",
            "Saving to: ‘HIST_PAINEL_COVIDBR_2021_Parte2_03jun2022.csv.7’\n",
            "\n",
            "HIST_PAINEL_COVIDBR 100%[===================>]  89.09M  42.1MB/s    in 2.1s    \n",
            "\n",
            "2022-07-17 22:08:46 (42.1 MB/s) - ‘HIST_PAINEL_COVIDBR_2021_Parte2_03jun2022.csv.7’ saved [93414239/93414239]\n",
            "\n",
            "--2022-07-17 22:08:46--  https://raw.githubusercontent.com/GabriellMiranda/TP-Dados-Analise-de-dados-de-covid/main/HIST_PAINEL_COVIDBR_03jun2022/HIST_PAINEL_COVIDBR_2022_Parte1_03jun2022.csv\n",
            "Resolving raw.githubusercontent.com (raw.githubusercontent.com)... 185.199.110.133, 185.199.108.133, 185.199.109.133, ...\n",
            "Connecting to raw.githubusercontent.com (raw.githubusercontent.com)|185.199.110.133|:443... connected.\n",
            "HTTP request sent, awaiting response... 200 OK\n",
            "Length: 78054992 (74M) [text/plain]\n",
            "Saving to: ‘HIST_PAINEL_COVIDBR_2022_Parte1_03jun2022.csv.7’\n",
            "\n",
            "HIST_PAINEL_COVIDBR 100%[===================>]  74.44M  18.5MB/s    in 3.9s    \n",
            "\n",
            "2022-07-17 22:08:50 (19.0 MB/s) - ‘HIST_PAINEL_COVIDBR_2022_Parte1_03jun2022.csv.7’ saved [78054992/78054992]\n",
            "\n"
          ]
        }
      ]
    },
    {
      "cell_type": "code",
      "execution_count": 189,
      "metadata": {
        "colab": {
          "base_uri": "https://localhost:8080/"
        },
        "id": "P7iV6Icf37GT",
        "outputId": "2e111622-ac05-44c2-b644-b7c65e55823e"
      },
      "outputs": [
        {
          "output_type": "stream",
          "name": "stderr",
          "text": [
            "/usr/local/lib/python3.7/dist-packages/IPython/core/interactiveshell.py:2882: FutureWarning: The error_bad_lines argument has been deprecated and will be removed in a future version.\n",
            "\n",
            "\n",
            "  exec(code_obj, self.user_global_ns, self.user_ns)\n"
          ]
        }
      ],
      "source": [
        "covid2020P1 = pd.read_csv(\"/content/HIST_PAINEL_COVIDBR_2020_Parte1_03jun2022.csv\",error_bad_lines=False,sep=\";\")\n",
        "covid2020P2 = pd.read_csv(\"/content/HIST_PAINEL_COVIDBR_2020_Parte2_03jun2022.csv\",error_bad_lines=False,sep=\";\")\n",
        "covid2021P1 = pd.read_csv(\"/content/HIST_PAINEL_COVIDBR_2021_Parte1_03jun2022.csv\",error_bad_lines=False,sep=\";\")\n",
        "covid2021P2 = pd.read_csv(\"/content/HIST_PAINEL_COVIDBR_2021_Parte2_03jun2022.csv\",error_bad_lines=False,sep=\";\")\n",
        "covid2022 = pd.read_csv(\"/content/HIST_PAINEL_COVIDBR_2022_Parte1_03jun2022.csv\",error_bad_lines=False,sep=\";\")\n",
        "covid2020 = pd.concat([covid2020P1,covid2020P2])\n",
        "covid2021 = pd.concat([covid2021P1,covid2021P2])\n",
        "\n"
      ]
    },
    {
      "cell_type": "markdown",
      "metadata": {
        "id": "vbx_ssHkH9yQ"
      },
      "source": [
        "# Análise exploratória"
      ]
    },
    {
      "cell_type": "markdown",
      "metadata": {
        "id": "FOsgG-ZVH9yT"
      },
      "source": [
        "## Demonstração dos nomes das colunas dos dataframes"
      ]
    },
    {
      "cell_type": "code",
      "execution_count": 190,
      "metadata": {
        "colab": {
          "base_uri": "https://localhost:8080/"
        },
        "id": "z3XwrjdXB-1Z",
        "outputId": "3abbc9f7-e5e0-425b-9031-095201d69f68"
      },
      "outputs": [
        {
          "output_type": "execute_result",
          "data": {
            "text/plain": [
              "Index(['regiao', 'estado', 'municipio', 'coduf', 'codmun', 'codRegiaoSaude',\n",
              "       'nomeRegiaoSaude', 'data', 'semanaEpi', 'populacaoTCU2019',\n",
              "       'casosAcumulado', 'casosNovos', 'obitosAcumulado', 'obitosNovos',\n",
              "       'Recuperadosnovos', 'emAcompanhamentoNovos', 'interior/metropolitana'],\n",
              "      dtype='object')"
            ]
          },
          "metadata": {},
          "execution_count": 190
        }
      ],
      "source": [
        "covid2020.columns"
      ]
    },
    {
      "cell_type": "markdown",
      "source": [
        "#Informações do dataframe"
      ],
      "metadata": {
        "id": "txeGYt67NOMB"
      }
    },
    {
      "cell_type": "code",
      "source": [
        "covid2020.info()"
      ],
      "metadata": {
        "colab": {
          "base_uri": "https://localhost:8080/"
        },
        "id": "d1LvC0fVMzz6",
        "outputId": "462ee471-8514-48c6-da43-0420df2c3075"
      },
      "execution_count": 191,
      "outputs": [
        {
          "output_type": "stream",
          "name": "stdout",
          "text": [
            "<class 'pandas.core.frame.DataFrame'>\n",
            "Int64Index: 1574188 entries, 0 to 859706\n",
            "Data columns (total 17 columns):\n",
            " #   Column                  Non-Null Count    Dtype  \n",
            "---  ------                  --------------    -----  \n",
            " 0   regiao                  1574188 non-null  object \n",
            " 1   estado                  1573877 non-null  object \n",
            " 2   municipio               1559600 non-null  object \n",
            " 3   coduf                   1574188 non-null  int64  \n",
            " 4   codmun                  1565480 non-null  float64\n",
            " 5   codRegiaoSaude          1559600 non-null  float64\n",
            " 6   nomeRegiaoSaude         1559600 non-null  object \n",
            " 7   data                    1574188 non-null  object \n",
            " 8   semanaEpi               1574188 non-null  int64  \n",
            " 9   populacaoTCU2019        1568308 non-null  float64\n",
            " 10  casosAcumulado          1574188 non-null  int64  \n",
            " 11  casosNovos              1574188 non-null  int64  \n",
            " 12  obitosAcumulado         1574188 non-null  int64  \n",
            " 13  obitosNovos             1574188 non-null  int64  \n",
            " 14  Recuperadosnovos        311 non-null      float64\n",
            " 15  emAcompanhamentoNovos   311 non-null      float64\n",
            " 16  interior/metropolitana  1559600 non-null  float64\n",
            "dtypes: float64(6), int64(6), object(5)\n",
            "memory usage: 216.2+ MB\n"
          ]
        }
      ]
    },
    {
      "cell_type": "markdown",
      "metadata": {
        "id": "XoCevjEwH9yU"
      },
      "source": [
        "# Tipos de dados do dataframe"
      ]
    },
    {
      "cell_type": "code",
      "execution_count": 192,
      "metadata": {
        "colab": {
          "base_uri": "https://localhost:8080/"
        },
        "id": "shbO_945CBoY",
        "outputId": "abd42a3e-d00e-4c11-faa5-afc80bcf5a03"
      },
      "outputs": [
        {
          "output_type": "execute_result",
          "data": {
            "text/plain": [
              "regiao                     object\n",
              "estado                     object\n",
              "municipio                  object\n",
              "coduf                       int64\n",
              "codmun                    float64\n",
              "codRegiaoSaude            float64\n",
              "nomeRegiaoSaude            object\n",
              "data                       object\n",
              "semanaEpi                   int64\n",
              "populacaoTCU2019          float64\n",
              "casosAcumulado              int64\n",
              "casosNovos                  int64\n",
              "obitosAcumulado             int64\n",
              "obitosNovos                 int64\n",
              "Recuperadosnovos          float64\n",
              "emAcompanhamentoNovos     float64\n",
              "interior/metropolitana    float64\n",
              "dtype: object"
            ]
          },
          "metadata": {},
          "execution_count": 192
        }
      ],
      "source": [
        "covid2020.dtypes"
      ]
    },
    {
      "cell_type": "markdown",
      "metadata": {
        "id": "zZujHBWMH9yV"
      },
      "source": [
        "# Primeiras 10 linhas do dataframe\n",
        "É possível perceber que existem muitos valores nulos em alguns colunas, isto por que além dos dados de cada região do\n",
        "Brásil, também temos dados de todo o Brasil, dessa forma iremos dividir o dataframe, um que terá muitos valores nulos, mas monstrando\n",
        "os dados do país todo, e outro com dados de regiões do Brasil."
      ]
    },
    {
      "cell_type": "code",
      "execution_count": 193,
      "metadata": {
        "colab": {
          "base_uri": "https://localhost:8080/",
          "height": 600
        },
        "id": "utqZJg9BCD8Y",
        "outputId": "45dba405-d7bc-418d-83dc-5888993c7063"
      },
      "outputs": [
        {
          "output_type": "execute_result",
          "data": {
            "text/plain": [
              "   regiao estado municipio  coduf  codmun  codRegiaoSaude nomeRegiaoSaude  \\\n",
              "0  Brasil    NaN       NaN     76     NaN             NaN             NaN   \n",
              "1  Brasil    NaN       NaN     76     NaN             NaN             NaN   \n",
              "2  Brasil    NaN       NaN     76     NaN             NaN             NaN   \n",
              "3  Brasil    NaN       NaN     76     NaN             NaN             NaN   \n",
              "4  Brasil    NaN       NaN     76     NaN             NaN             NaN   \n",
              "5  Brasil    NaN       NaN     76     NaN             NaN             NaN   \n",
              "6  Brasil    NaN       NaN     76     NaN             NaN             NaN   \n",
              "7  Brasil    NaN       NaN     76     NaN             NaN             NaN   \n",
              "8  Brasil    NaN       NaN     76     NaN             NaN             NaN   \n",
              "9  Brasil    NaN       NaN     76     NaN             NaN             NaN   \n",
              "\n",
              "         data  semanaEpi  populacaoTCU2019  casosAcumulado  casosNovos  \\\n",
              "0  2020-02-25          9       210147125.0               0           0   \n",
              "1  2020-02-26          9       210147125.0               1           1   \n",
              "2  2020-02-27          9       210147125.0               1           0   \n",
              "3  2020-02-28          9       210147125.0               1           0   \n",
              "4  2020-02-29          9       210147125.0               2           1   \n",
              "5  2020-03-01         10       210147125.0               2           0   \n",
              "6  2020-03-02         10       210147125.0               2           0   \n",
              "7  2020-03-03         10       210147125.0               2           0   \n",
              "8  2020-03-04         10       210147125.0               3           1   \n",
              "9  2020-03-05         10       210147125.0               7           4   \n",
              "\n",
              "   obitosAcumulado  obitosNovos  Recuperadosnovos  emAcompanhamentoNovos  \\\n",
              "0                0            0               0.0                    0.0   \n",
              "1                0            0               1.0                    0.0   \n",
              "2                0            0               1.0                    0.0   \n",
              "3                0            0               0.0                    1.0   \n",
              "4                0            0               1.0                    1.0   \n",
              "5                0            0               1.0                    1.0   \n",
              "6                0            0               0.0                    2.0   \n",
              "7                0            0               0.0                    2.0   \n",
              "8                0            0               1.0                    2.0   \n",
              "9                0            0               4.0                    3.0   \n",
              "\n",
              "   interior/metropolitana  \n",
              "0                     NaN  \n",
              "1                     NaN  \n",
              "2                     NaN  \n",
              "3                     NaN  \n",
              "4                     NaN  \n",
              "5                     NaN  \n",
              "6                     NaN  \n",
              "7                     NaN  \n",
              "8                     NaN  \n",
              "9                     NaN  "
            ],
            "text/html": [
              "\n",
              "  <div id=\"df-3af639ca-7c09-4448-9ebe-48e11028990d\">\n",
              "    <div class=\"colab-df-container\">\n",
              "      <div>\n",
              "<style scoped>\n",
              "    .dataframe tbody tr th:only-of-type {\n",
              "        vertical-align: middle;\n",
              "    }\n",
              "\n",
              "    .dataframe tbody tr th {\n",
              "        vertical-align: top;\n",
              "    }\n",
              "\n",
              "    .dataframe thead th {\n",
              "        text-align: right;\n",
              "    }\n",
              "</style>\n",
              "<table border=\"1\" class=\"dataframe\">\n",
              "  <thead>\n",
              "    <tr style=\"text-align: right;\">\n",
              "      <th></th>\n",
              "      <th>regiao</th>\n",
              "      <th>estado</th>\n",
              "      <th>municipio</th>\n",
              "      <th>coduf</th>\n",
              "      <th>codmun</th>\n",
              "      <th>codRegiaoSaude</th>\n",
              "      <th>nomeRegiaoSaude</th>\n",
              "      <th>data</th>\n",
              "      <th>semanaEpi</th>\n",
              "      <th>populacaoTCU2019</th>\n",
              "      <th>casosAcumulado</th>\n",
              "      <th>casosNovos</th>\n",
              "      <th>obitosAcumulado</th>\n",
              "      <th>obitosNovos</th>\n",
              "      <th>Recuperadosnovos</th>\n",
              "      <th>emAcompanhamentoNovos</th>\n",
              "      <th>interior/metropolitana</th>\n",
              "    </tr>\n",
              "  </thead>\n",
              "  <tbody>\n",
              "    <tr>\n",
              "      <th>0</th>\n",
              "      <td>Brasil</td>\n",
              "      <td>NaN</td>\n",
              "      <td>NaN</td>\n",
              "      <td>76</td>\n",
              "      <td>NaN</td>\n",
              "      <td>NaN</td>\n",
              "      <td>NaN</td>\n",
              "      <td>2020-02-25</td>\n",
              "      <td>9</td>\n",
              "      <td>210147125.0</td>\n",
              "      <td>0</td>\n",
              "      <td>0</td>\n",
              "      <td>0</td>\n",
              "      <td>0</td>\n",
              "      <td>0.0</td>\n",
              "      <td>0.0</td>\n",
              "      <td>NaN</td>\n",
              "    </tr>\n",
              "    <tr>\n",
              "      <th>1</th>\n",
              "      <td>Brasil</td>\n",
              "      <td>NaN</td>\n",
              "      <td>NaN</td>\n",
              "      <td>76</td>\n",
              "      <td>NaN</td>\n",
              "      <td>NaN</td>\n",
              "      <td>NaN</td>\n",
              "      <td>2020-02-26</td>\n",
              "      <td>9</td>\n",
              "      <td>210147125.0</td>\n",
              "      <td>1</td>\n",
              "      <td>1</td>\n",
              "      <td>0</td>\n",
              "      <td>0</td>\n",
              "      <td>1.0</td>\n",
              "      <td>0.0</td>\n",
              "      <td>NaN</td>\n",
              "    </tr>\n",
              "    <tr>\n",
              "      <th>2</th>\n",
              "      <td>Brasil</td>\n",
              "      <td>NaN</td>\n",
              "      <td>NaN</td>\n",
              "      <td>76</td>\n",
              "      <td>NaN</td>\n",
              "      <td>NaN</td>\n",
              "      <td>NaN</td>\n",
              "      <td>2020-02-27</td>\n",
              "      <td>9</td>\n",
              "      <td>210147125.0</td>\n",
              "      <td>1</td>\n",
              "      <td>0</td>\n",
              "      <td>0</td>\n",
              "      <td>0</td>\n",
              "      <td>1.0</td>\n",
              "      <td>0.0</td>\n",
              "      <td>NaN</td>\n",
              "    </tr>\n",
              "    <tr>\n",
              "      <th>3</th>\n",
              "      <td>Brasil</td>\n",
              "      <td>NaN</td>\n",
              "      <td>NaN</td>\n",
              "      <td>76</td>\n",
              "      <td>NaN</td>\n",
              "      <td>NaN</td>\n",
              "      <td>NaN</td>\n",
              "      <td>2020-02-28</td>\n",
              "      <td>9</td>\n",
              "      <td>210147125.0</td>\n",
              "      <td>1</td>\n",
              "      <td>0</td>\n",
              "      <td>0</td>\n",
              "      <td>0</td>\n",
              "      <td>0.0</td>\n",
              "      <td>1.0</td>\n",
              "      <td>NaN</td>\n",
              "    </tr>\n",
              "    <tr>\n",
              "      <th>4</th>\n",
              "      <td>Brasil</td>\n",
              "      <td>NaN</td>\n",
              "      <td>NaN</td>\n",
              "      <td>76</td>\n",
              "      <td>NaN</td>\n",
              "      <td>NaN</td>\n",
              "      <td>NaN</td>\n",
              "      <td>2020-02-29</td>\n",
              "      <td>9</td>\n",
              "      <td>210147125.0</td>\n",
              "      <td>2</td>\n",
              "      <td>1</td>\n",
              "      <td>0</td>\n",
              "      <td>0</td>\n",
              "      <td>1.0</td>\n",
              "      <td>1.0</td>\n",
              "      <td>NaN</td>\n",
              "    </tr>\n",
              "    <tr>\n",
              "      <th>5</th>\n",
              "      <td>Brasil</td>\n",
              "      <td>NaN</td>\n",
              "      <td>NaN</td>\n",
              "      <td>76</td>\n",
              "      <td>NaN</td>\n",
              "      <td>NaN</td>\n",
              "      <td>NaN</td>\n",
              "      <td>2020-03-01</td>\n",
              "      <td>10</td>\n",
              "      <td>210147125.0</td>\n",
              "      <td>2</td>\n",
              "      <td>0</td>\n",
              "      <td>0</td>\n",
              "      <td>0</td>\n",
              "      <td>1.0</td>\n",
              "      <td>1.0</td>\n",
              "      <td>NaN</td>\n",
              "    </tr>\n",
              "    <tr>\n",
              "      <th>6</th>\n",
              "      <td>Brasil</td>\n",
              "      <td>NaN</td>\n",
              "      <td>NaN</td>\n",
              "      <td>76</td>\n",
              "      <td>NaN</td>\n",
              "      <td>NaN</td>\n",
              "      <td>NaN</td>\n",
              "      <td>2020-03-02</td>\n",
              "      <td>10</td>\n",
              "      <td>210147125.0</td>\n",
              "      <td>2</td>\n",
              "      <td>0</td>\n",
              "      <td>0</td>\n",
              "      <td>0</td>\n",
              "      <td>0.0</td>\n",
              "      <td>2.0</td>\n",
              "      <td>NaN</td>\n",
              "    </tr>\n",
              "    <tr>\n",
              "      <th>7</th>\n",
              "      <td>Brasil</td>\n",
              "      <td>NaN</td>\n",
              "      <td>NaN</td>\n",
              "      <td>76</td>\n",
              "      <td>NaN</td>\n",
              "      <td>NaN</td>\n",
              "      <td>NaN</td>\n",
              "      <td>2020-03-03</td>\n",
              "      <td>10</td>\n",
              "      <td>210147125.0</td>\n",
              "      <td>2</td>\n",
              "      <td>0</td>\n",
              "      <td>0</td>\n",
              "      <td>0</td>\n",
              "      <td>0.0</td>\n",
              "      <td>2.0</td>\n",
              "      <td>NaN</td>\n",
              "    </tr>\n",
              "    <tr>\n",
              "      <th>8</th>\n",
              "      <td>Brasil</td>\n",
              "      <td>NaN</td>\n",
              "      <td>NaN</td>\n",
              "      <td>76</td>\n",
              "      <td>NaN</td>\n",
              "      <td>NaN</td>\n",
              "      <td>NaN</td>\n",
              "      <td>2020-03-04</td>\n",
              "      <td>10</td>\n",
              "      <td>210147125.0</td>\n",
              "      <td>3</td>\n",
              "      <td>1</td>\n",
              "      <td>0</td>\n",
              "      <td>0</td>\n",
              "      <td>1.0</td>\n",
              "      <td>2.0</td>\n",
              "      <td>NaN</td>\n",
              "    </tr>\n",
              "    <tr>\n",
              "      <th>9</th>\n",
              "      <td>Brasil</td>\n",
              "      <td>NaN</td>\n",
              "      <td>NaN</td>\n",
              "      <td>76</td>\n",
              "      <td>NaN</td>\n",
              "      <td>NaN</td>\n",
              "      <td>NaN</td>\n",
              "      <td>2020-03-05</td>\n",
              "      <td>10</td>\n",
              "      <td>210147125.0</td>\n",
              "      <td>7</td>\n",
              "      <td>4</td>\n",
              "      <td>0</td>\n",
              "      <td>0</td>\n",
              "      <td>4.0</td>\n",
              "      <td>3.0</td>\n",
              "      <td>NaN</td>\n",
              "    </tr>\n",
              "  </tbody>\n",
              "</table>\n",
              "</div>\n",
              "      <button class=\"colab-df-convert\" onclick=\"convertToInteractive('df-3af639ca-7c09-4448-9ebe-48e11028990d')\"\n",
              "              title=\"Convert this dataframe to an interactive table.\"\n",
              "              style=\"display:none;\">\n",
              "        \n",
              "  <svg xmlns=\"http://www.w3.org/2000/svg\" height=\"24px\"viewBox=\"0 0 24 24\"\n",
              "       width=\"24px\">\n",
              "    <path d=\"M0 0h24v24H0V0z\" fill=\"none\"/>\n",
              "    <path d=\"M18.56 5.44l.94 2.06.94-2.06 2.06-.94-2.06-.94-.94-2.06-.94 2.06-2.06.94zm-11 1L8.5 8.5l.94-2.06 2.06-.94-2.06-.94L8.5 2.5l-.94 2.06-2.06.94zm10 10l.94 2.06.94-2.06 2.06-.94-2.06-.94-.94-2.06-.94 2.06-2.06.94z\"/><path d=\"M17.41 7.96l-1.37-1.37c-.4-.4-.92-.59-1.43-.59-.52 0-1.04.2-1.43.59L10.3 9.45l-7.72 7.72c-.78.78-.78 2.05 0 2.83L4 21.41c.39.39.9.59 1.41.59.51 0 1.02-.2 1.41-.59l7.78-7.78 2.81-2.81c.8-.78.8-2.07 0-2.86zM5.41 20L4 18.59l7.72-7.72 1.47 1.35L5.41 20z\"/>\n",
              "  </svg>\n",
              "      </button>\n",
              "      \n",
              "  <style>\n",
              "    .colab-df-container {\n",
              "      display:flex;\n",
              "      flex-wrap:wrap;\n",
              "      gap: 12px;\n",
              "    }\n",
              "\n",
              "    .colab-df-convert {\n",
              "      background-color: #E8F0FE;\n",
              "      border: none;\n",
              "      border-radius: 50%;\n",
              "      cursor: pointer;\n",
              "      display: none;\n",
              "      fill: #1967D2;\n",
              "      height: 32px;\n",
              "      padding: 0 0 0 0;\n",
              "      width: 32px;\n",
              "    }\n",
              "\n",
              "    .colab-df-convert:hover {\n",
              "      background-color: #E2EBFA;\n",
              "      box-shadow: 0px 1px 2px rgba(60, 64, 67, 0.3), 0px 1px 3px 1px rgba(60, 64, 67, 0.15);\n",
              "      fill: #174EA6;\n",
              "    }\n",
              "\n",
              "    [theme=dark] .colab-df-convert {\n",
              "      background-color: #3B4455;\n",
              "      fill: #D2E3FC;\n",
              "    }\n",
              "\n",
              "    [theme=dark] .colab-df-convert:hover {\n",
              "      background-color: #434B5C;\n",
              "      box-shadow: 0px 1px 3px 1px rgba(0, 0, 0, 0.15);\n",
              "      filter: drop-shadow(0px 1px 2px rgba(0, 0, 0, 0.3));\n",
              "      fill: #FFFFFF;\n",
              "    }\n",
              "  </style>\n",
              "\n",
              "      <script>\n",
              "        const buttonEl =\n",
              "          document.querySelector('#df-3af639ca-7c09-4448-9ebe-48e11028990d button.colab-df-convert');\n",
              "        buttonEl.style.display =\n",
              "          google.colab.kernel.accessAllowed ? 'block' : 'none';\n",
              "\n",
              "        async function convertToInteractive(key) {\n",
              "          const element = document.querySelector('#df-3af639ca-7c09-4448-9ebe-48e11028990d');\n",
              "          const dataTable =\n",
              "            await google.colab.kernel.invokeFunction('convertToInteractive',\n",
              "                                                     [key], {});\n",
              "          if (!dataTable) return;\n",
              "\n",
              "          const docLinkHtml = 'Like what you see? Visit the ' +\n",
              "            '<a target=\"_blank\" href=https://colab.research.google.com/notebooks/data_table.ipynb>data table notebook</a>'\n",
              "            + ' to learn more about interactive tables.';\n",
              "          element.innerHTML = '';\n",
              "          dataTable['output_type'] = 'display_data';\n",
              "          await google.colab.output.renderOutput(dataTable, element);\n",
              "          const docLink = document.createElement('div');\n",
              "          docLink.innerHTML = docLinkHtml;\n",
              "          element.appendChild(docLink);\n",
              "        }\n",
              "      </script>\n",
              "    </div>\n",
              "  </div>\n",
              "  "
            ]
          },
          "metadata": {},
          "execution_count": 193
        }
      ],
      "source": [
        "covid2020.head(10)"
      ]
    },
    {
      "cell_type": "markdown",
      "metadata": {
        "id": "GsU0jALvH9yW"
      },
      "source": [
        "Aqui é possível perceber que o Brasil se encontra na coluna região"
      ]
    },
    {
      "cell_type": "code",
      "execution_count": 194,
      "metadata": {
        "colab": {
          "base_uri": "https://localhost:8080/"
        },
        "id": "LBBemzmDCI5o",
        "outputId": "e5607df4-473a-4937-8745-b19ff46b8d32"
      },
      "outputs": [
        {
          "output_type": "execute_result",
          "data": {
            "text/plain": [
              "array(['Brasil', 'Norte', 'Nordeste', 'Sudeste', 'Sul', 'Centro-Oeste'],\n",
              "      dtype=object)"
            ]
          },
          "metadata": {},
          "execution_count": 194
        }
      ],
      "source": [
        "covid2020['regiao'].unique()"
      ]
    },
    {
      "cell_type": "markdown",
      "source": [
        "# Limpeza dos Dados"
      ],
      "metadata": {
        "id": "btxMlfmAXvs7"
      }
    },
    {
      "cell_type": "markdown",
      "source": [
        "## Realizando a limpeza dos dados referente ao Brasil"
      ],
      "metadata": {
        "id": "_Q5a9C4LX34k"
      }
    },
    {
      "cell_type": "markdown",
      "metadata": {
        "id": "6gW2ozxYDBQA"
      },
      "source": [
        "Quando a região é Brasil, temos que os dados referentes a essa linha se refere ao Brasil inteiro."
      ]
    },
    {
      "cell_type": "code",
      "execution_count": 195,
      "metadata": {
        "id": "YmmeFM5tDNiB"
      },
      "outputs": [],
      "source": [
        "DadosBrasil2020 = covid2020[covid2020['regiao'] == 'Brasil']\n",
        "DadosBrasil2021 = covid2021[covid2021['regiao'] == \"Brasil\"]\n",
        "DadosBrasil2022 = covid2022[covid2022['regiao'] == 'Brasil']"
      ]
    },
    {
      "cell_type": "code",
      "execution_count": 196,
      "metadata": {
        "colab": {
          "base_uri": "https://localhost:8080/"
        },
        "id": "9EtRufBvH9yY",
        "outputId": "3688e7e0-0cab-4a9b-df38-0b944621cd85"
      },
      "outputs": [
        {
          "output_type": "stream",
          "name": "stderr",
          "text": [
            "/usr/local/lib/python3.7/dist-packages/pandas/core/frame.py:5047: SettingWithCopyWarning: \n",
            "A value is trying to be set on a copy of a slice from a DataFrame\n",
            "\n",
            "See the caveats in the documentation: https://pandas.pydata.org/pandas-docs/stable/user_guide/indexing.html#returning-a-view-versus-a-copy\n",
            "  errors=errors,\n"
          ]
        }
      ],
      "source": [
        "#mudando a coluna do nome região para pais, já que só teremos os dados do Brasil\n",
        "DadosBrasil2020.rename(columns = {'regiao':'pais'}, inplace = True)\n",
        "DadosBrasil2021.rename(columns = {'regiao':'pais'}, inplace = True)\n",
        "DadosBrasil2022.rename(columns = {'regiao':'pais'}, inplace = True)"
      ]
    },
    {
      "cell_type": "code",
      "execution_count": 197,
      "metadata": {
        "colab": {
          "base_uri": "https://localhost:8080/",
          "height": 661
        },
        "id": "4rCqTIa5H9yY",
        "outputId": "a3068432-70e4-4019-be6d-8966b45477ea"
      },
      "outputs": [
        {
          "output_type": "execute_result",
          "data": {
            "text/plain": [
              "       pais estado municipio  coduf  codmun  codRegiaoSaude nomeRegiaoSaude  \\\n",
              "0    Brasil    NaN       NaN     76     NaN             NaN             NaN   \n",
              "1    Brasil    NaN       NaN     76     NaN             NaN             NaN   \n",
              "2    Brasil    NaN       NaN     76     NaN             NaN             NaN   \n",
              "3    Brasil    NaN       NaN     76     NaN             NaN             NaN   \n",
              "4    Brasil    NaN       NaN     76     NaN             NaN             NaN   \n",
              "..      ...    ...       ...    ...     ...             ...             ...   \n",
              "149  Brasil    NaN       NaN     76     NaN             NaN             NaN   \n",
              "150  Brasil    NaN       NaN     76     NaN             NaN             NaN   \n",
              "151  Brasil    NaN       NaN     76     NaN             NaN             NaN   \n",
              "152  Brasil    NaN       NaN     76     NaN             NaN             NaN   \n",
              "153  Brasil    NaN       NaN     76     NaN             NaN             NaN   \n",
              "\n",
              "           data  semanaEpi  populacaoTCU2019  casosAcumulado  casosNovos  \\\n",
              "0    2022-01-01         52       210147125.0      22291507.0        3986   \n",
              "1    2022-01-02          1       210147125.0      22293228.0        1721   \n",
              "2    2022-01-03          1       210147125.0      22305078.0       11850   \n",
              "3    2022-01-04          1       210147125.0      22323837.0       18759   \n",
              "4    2022-01-05          1       210147125.0      22351104.0       27267   \n",
              "..          ...        ...               ...             ...         ...   \n",
              "149  2022-05-30         22       210147125.0      30977661.0       24082   \n",
              "150  2022-05-31         22       210147125.0      31019038.0       41377   \n",
              "151  2022-06-01         22       210147125.0      31060017.0       40979   \n",
              "152  2022-06-02         22       210147125.0      31101290.0       41273   \n",
              "153  2022-06-03         22       210147125.0      31137479.0       36189   \n",
              "\n",
              "     obitosAcumulado  obitosNovos  Recuperadosnovos  emAcompanhamentoNovos  \\\n",
              "0             619105           49        21581668.0                90734.0   \n",
              "1             619133           28        21581717.0                92378.0   \n",
              "2             619209           76        21591847.0                94022.0   \n",
              "3             619384          175        21603954.0               100499.0   \n",
              "4             619513          129        21615473.0               116118.0   \n",
              "..               ...          ...               ...                    ...   \n",
              "149           666516           63        29971308.0               339837.0   \n",
              "150           666676          160        30011391.0               340971.0   \n",
              "151           666801          125        30038200.0               355016.0   \n",
              "152           666928          127        30054599.0               379763.0   \n",
              "153           666971           43        30063682.0               406826.0   \n",
              "\n",
              "     interior/metropolitana  \n",
              "0                       NaN  \n",
              "1                       NaN  \n",
              "2                       NaN  \n",
              "3                       NaN  \n",
              "4                       NaN  \n",
              "..                      ...  \n",
              "149                     NaN  \n",
              "150                     NaN  \n",
              "151                     NaN  \n",
              "152                     NaN  \n",
              "153                     NaN  \n",
              "\n",
              "[154 rows x 17 columns]"
            ],
            "text/html": [
              "\n",
              "  <div id=\"df-88f2f026-0eab-48fe-982c-cd314d604beb\">\n",
              "    <div class=\"colab-df-container\">\n",
              "      <div>\n",
              "<style scoped>\n",
              "    .dataframe tbody tr th:only-of-type {\n",
              "        vertical-align: middle;\n",
              "    }\n",
              "\n",
              "    .dataframe tbody tr th {\n",
              "        vertical-align: top;\n",
              "    }\n",
              "\n",
              "    .dataframe thead th {\n",
              "        text-align: right;\n",
              "    }\n",
              "</style>\n",
              "<table border=\"1\" class=\"dataframe\">\n",
              "  <thead>\n",
              "    <tr style=\"text-align: right;\">\n",
              "      <th></th>\n",
              "      <th>pais</th>\n",
              "      <th>estado</th>\n",
              "      <th>municipio</th>\n",
              "      <th>coduf</th>\n",
              "      <th>codmun</th>\n",
              "      <th>codRegiaoSaude</th>\n",
              "      <th>nomeRegiaoSaude</th>\n",
              "      <th>data</th>\n",
              "      <th>semanaEpi</th>\n",
              "      <th>populacaoTCU2019</th>\n",
              "      <th>casosAcumulado</th>\n",
              "      <th>casosNovos</th>\n",
              "      <th>obitosAcumulado</th>\n",
              "      <th>obitosNovos</th>\n",
              "      <th>Recuperadosnovos</th>\n",
              "      <th>emAcompanhamentoNovos</th>\n",
              "      <th>interior/metropolitana</th>\n",
              "    </tr>\n",
              "  </thead>\n",
              "  <tbody>\n",
              "    <tr>\n",
              "      <th>0</th>\n",
              "      <td>Brasil</td>\n",
              "      <td>NaN</td>\n",
              "      <td>NaN</td>\n",
              "      <td>76</td>\n",
              "      <td>NaN</td>\n",
              "      <td>NaN</td>\n",
              "      <td>NaN</td>\n",
              "      <td>2022-01-01</td>\n",
              "      <td>52</td>\n",
              "      <td>210147125.0</td>\n",
              "      <td>22291507.0</td>\n",
              "      <td>3986</td>\n",
              "      <td>619105</td>\n",
              "      <td>49</td>\n",
              "      <td>21581668.0</td>\n",
              "      <td>90734.0</td>\n",
              "      <td>NaN</td>\n",
              "    </tr>\n",
              "    <tr>\n",
              "      <th>1</th>\n",
              "      <td>Brasil</td>\n",
              "      <td>NaN</td>\n",
              "      <td>NaN</td>\n",
              "      <td>76</td>\n",
              "      <td>NaN</td>\n",
              "      <td>NaN</td>\n",
              "      <td>NaN</td>\n",
              "      <td>2022-01-02</td>\n",
              "      <td>1</td>\n",
              "      <td>210147125.0</td>\n",
              "      <td>22293228.0</td>\n",
              "      <td>1721</td>\n",
              "      <td>619133</td>\n",
              "      <td>28</td>\n",
              "      <td>21581717.0</td>\n",
              "      <td>92378.0</td>\n",
              "      <td>NaN</td>\n",
              "    </tr>\n",
              "    <tr>\n",
              "      <th>2</th>\n",
              "      <td>Brasil</td>\n",
              "      <td>NaN</td>\n",
              "      <td>NaN</td>\n",
              "      <td>76</td>\n",
              "      <td>NaN</td>\n",
              "      <td>NaN</td>\n",
              "      <td>NaN</td>\n",
              "      <td>2022-01-03</td>\n",
              "      <td>1</td>\n",
              "      <td>210147125.0</td>\n",
              "      <td>22305078.0</td>\n",
              "      <td>11850</td>\n",
              "      <td>619209</td>\n",
              "      <td>76</td>\n",
              "      <td>21591847.0</td>\n",
              "      <td>94022.0</td>\n",
              "      <td>NaN</td>\n",
              "    </tr>\n",
              "    <tr>\n",
              "      <th>3</th>\n",
              "      <td>Brasil</td>\n",
              "      <td>NaN</td>\n",
              "      <td>NaN</td>\n",
              "      <td>76</td>\n",
              "      <td>NaN</td>\n",
              "      <td>NaN</td>\n",
              "      <td>NaN</td>\n",
              "      <td>2022-01-04</td>\n",
              "      <td>1</td>\n",
              "      <td>210147125.0</td>\n",
              "      <td>22323837.0</td>\n",
              "      <td>18759</td>\n",
              "      <td>619384</td>\n",
              "      <td>175</td>\n",
              "      <td>21603954.0</td>\n",
              "      <td>100499.0</td>\n",
              "      <td>NaN</td>\n",
              "    </tr>\n",
              "    <tr>\n",
              "      <th>4</th>\n",
              "      <td>Brasil</td>\n",
              "      <td>NaN</td>\n",
              "      <td>NaN</td>\n",
              "      <td>76</td>\n",
              "      <td>NaN</td>\n",
              "      <td>NaN</td>\n",
              "      <td>NaN</td>\n",
              "      <td>2022-01-05</td>\n",
              "      <td>1</td>\n",
              "      <td>210147125.0</td>\n",
              "      <td>22351104.0</td>\n",
              "      <td>27267</td>\n",
              "      <td>619513</td>\n",
              "      <td>129</td>\n",
              "      <td>21615473.0</td>\n",
              "      <td>116118.0</td>\n",
              "      <td>NaN</td>\n",
              "    </tr>\n",
              "    <tr>\n",
              "      <th>...</th>\n",
              "      <td>...</td>\n",
              "      <td>...</td>\n",
              "      <td>...</td>\n",
              "      <td>...</td>\n",
              "      <td>...</td>\n",
              "      <td>...</td>\n",
              "      <td>...</td>\n",
              "      <td>...</td>\n",
              "      <td>...</td>\n",
              "      <td>...</td>\n",
              "      <td>...</td>\n",
              "      <td>...</td>\n",
              "      <td>...</td>\n",
              "      <td>...</td>\n",
              "      <td>...</td>\n",
              "      <td>...</td>\n",
              "      <td>...</td>\n",
              "    </tr>\n",
              "    <tr>\n",
              "      <th>149</th>\n",
              "      <td>Brasil</td>\n",
              "      <td>NaN</td>\n",
              "      <td>NaN</td>\n",
              "      <td>76</td>\n",
              "      <td>NaN</td>\n",
              "      <td>NaN</td>\n",
              "      <td>NaN</td>\n",
              "      <td>2022-05-30</td>\n",
              "      <td>22</td>\n",
              "      <td>210147125.0</td>\n",
              "      <td>30977661.0</td>\n",
              "      <td>24082</td>\n",
              "      <td>666516</td>\n",
              "      <td>63</td>\n",
              "      <td>29971308.0</td>\n",
              "      <td>339837.0</td>\n",
              "      <td>NaN</td>\n",
              "    </tr>\n",
              "    <tr>\n",
              "      <th>150</th>\n",
              "      <td>Brasil</td>\n",
              "      <td>NaN</td>\n",
              "      <td>NaN</td>\n",
              "      <td>76</td>\n",
              "      <td>NaN</td>\n",
              "      <td>NaN</td>\n",
              "      <td>NaN</td>\n",
              "      <td>2022-05-31</td>\n",
              "      <td>22</td>\n",
              "      <td>210147125.0</td>\n",
              "      <td>31019038.0</td>\n",
              "      <td>41377</td>\n",
              "      <td>666676</td>\n",
              "      <td>160</td>\n",
              "      <td>30011391.0</td>\n",
              "      <td>340971.0</td>\n",
              "      <td>NaN</td>\n",
              "    </tr>\n",
              "    <tr>\n",
              "      <th>151</th>\n",
              "      <td>Brasil</td>\n",
              "      <td>NaN</td>\n",
              "      <td>NaN</td>\n",
              "      <td>76</td>\n",
              "      <td>NaN</td>\n",
              "      <td>NaN</td>\n",
              "      <td>NaN</td>\n",
              "      <td>2022-06-01</td>\n",
              "      <td>22</td>\n",
              "      <td>210147125.0</td>\n",
              "      <td>31060017.0</td>\n",
              "      <td>40979</td>\n",
              "      <td>666801</td>\n",
              "      <td>125</td>\n",
              "      <td>30038200.0</td>\n",
              "      <td>355016.0</td>\n",
              "      <td>NaN</td>\n",
              "    </tr>\n",
              "    <tr>\n",
              "      <th>152</th>\n",
              "      <td>Brasil</td>\n",
              "      <td>NaN</td>\n",
              "      <td>NaN</td>\n",
              "      <td>76</td>\n",
              "      <td>NaN</td>\n",
              "      <td>NaN</td>\n",
              "      <td>NaN</td>\n",
              "      <td>2022-06-02</td>\n",
              "      <td>22</td>\n",
              "      <td>210147125.0</td>\n",
              "      <td>31101290.0</td>\n",
              "      <td>41273</td>\n",
              "      <td>666928</td>\n",
              "      <td>127</td>\n",
              "      <td>30054599.0</td>\n",
              "      <td>379763.0</td>\n",
              "      <td>NaN</td>\n",
              "    </tr>\n",
              "    <tr>\n",
              "      <th>153</th>\n",
              "      <td>Brasil</td>\n",
              "      <td>NaN</td>\n",
              "      <td>NaN</td>\n",
              "      <td>76</td>\n",
              "      <td>NaN</td>\n",
              "      <td>NaN</td>\n",
              "      <td>NaN</td>\n",
              "      <td>2022-06-03</td>\n",
              "      <td>22</td>\n",
              "      <td>210147125.0</td>\n",
              "      <td>31137479.0</td>\n",
              "      <td>36189</td>\n",
              "      <td>666971</td>\n",
              "      <td>43</td>\n",
              "      <td>30063682.0</td>\n",
              "      <td>406826.0</td>\n",
              "      <td>NaN</td>\n",
              "    </tr>\n",
              "  </tbody>\n",
              "</table>\n",
              "<p>154 rows × 17 columns</p>\n",
              "</div>\n",
              "      <button class=\"colab-df-convert\" onclick=\"convertToInteractive('df-88f2f026-0eab-48fe-982c-cd314d604beb')\"\n",
              "              title=\"Convert this dataframe to an interactive table.\"\n",
              "              style=\"display:none;\">\n",
              "        \n",
              "  <svg xmlns=\"http://www.w3.org/2000/svg\" height=\"24px\"viewBox=\"0 0 24 24\"\n",
              "       width=\"24px\">\n",
              "    <path d=\"M0 0h24v24H0V0z\" fill=\"none\"/>\n",
              "    <path d=\"M18.56 5.44l.94 2.06.94-2.06 2.06-.94-2.06-.94-.94-2.06-.94 2.06-2.06.94zm-11 1L8.5 8.5l.94-2.06 2.06-.94-2.06-.94L8.5 2.5l-.94 2.06-2.06.94zm10 10l.94 2.06.94-2.06 2.06-.94-2.06-.94-.94-2.06-.94 2.06-2.06.94z\"/><path d=\"M17.41 7.96l-1.37-1.37c-.4-.4-.92-.59-1.43-.59-.52 0-1.04.2-1.43.59L10.3 9.45l-7.72 7.72c-.78.78-.78 2.05 0 2.83L4 21.41c.39.39.9.59 1.41.59.51 0 1.02-.2 1.41-.59l7.78-7.78 2.81-2.81c.8-.78.8-2.07 0-2.86zM5.41 20L4 18.59l7.72-7.72 1.47 1.35L5.41 20z\"/>\n",
              "  </svg>\n",
              "      </button>\n",
              "      \n",
              "  <style>\n",
              "    .colab-df-container {\n",
              "      display:flex;\n",
              "      flex-wrap:wrap;\n",
              "      gap: 12px;\n",
              "    }\n",
              "\n",
              "    .colab-df-convert {\n",
              "      background-color: #E8F0FE;\n",
              "      border: none;\n",
              "      border-radius: 50%;\n",
              "      cursor: pointer;\n",
              "      display: none;\n",
              "      fill: #1967D2;\n",
              "      height: 32px;\n",
              "      padding: 0 0 0 0;\n",
              "      width: 32px;\n",
              "    }\n",
              "\n",
              "    .colab-df-convert:hover {\n",
              "      background-color: #E2EBFA;\n",
              "      box-shadow: 0px 1px 2px rgba(60, 64, 67, 0.3), 0px 1px 3px 1px rgba(60, 64, 67, 0.15);\n",
              "      fill: #174EA6;\n",
              "    }\n",
              "\n",
              "    [theme=dark] .colab-df-convert {\n",
              "      background-color: #3B4455;\n",
              "      fill: #D2E3FC;\n",
              "    }\n",
              "\n",
              "    [theme=dark] .colab-df-convert:hover {\n",
              "      background-color: #434B5C;\n",
              "      box-shadow: 0px 1px 3px 1px rgba(0, 0, 0, 0.15);\n",
              "      filter: drop-shadow(0px 1px 2px rgba(0, 0, 0, 0.3));\n",
              "      fill: #FFFFFF;\n",
              "    }\n",
              "  </style>\n",
              "\n",
              "      <script>\n",
              "        const buttonEl =\n",
              "          document.querySelector('#df-88f2f026-0eab-48fe-982c-cd314d604beb button.colab-df-convert');\n",
              "        buttonEl.style.display =\n",
              "          google.colab.kernel.accessAllowed ? 'block' : 'none';\n",
              "\n",
              "        async function convertToInteractive(key) {\n",
              "          const element = document.querySelector('#df-88f2f026-0eab-48fe-982c-cd314d604beb');\n",
              "          const dataTable =\n",
              "            await google.colab.kernel.invokeFunction('convertToInteractive',\n",
              "                                                     [key], {});\n",
              "          if (!dataTable) return;\n",
              "\n",
              "          const docLinkHtml = 'Like what you see? Visit the ' +\n",
              "            '<a target=\"_blank\" href=https://colab.research.google.com/notebooks/data_table.ipynb>data table notebook</a>'\n",
              "            + ' to learn more about interactive tables.';\n",
              "          element.innerHTML = '';\n",
              "          dataTable['output_type'] = 'display_data';\n",
              "          await google.colab.output.renderOutput(dataTable, element);\n",
              "          const docLink = document.createElement('div');\n",
              "          docLink.innerHTML = docLinkHtml;\n",
              "          element.appendChild(docLink);\n",
              "        }\n",
              "      </script>\n",
              "    </div>\n",
              "  </div>\n",
              "  "
            ]
          },
          "metadata": {},
          "execution_count": 197
        }
      ],
      "source": [
        "DadosBrasil2022"
      ]
    },
    {
      "cell_type": "markdown",
      "metadata": {
        "id": "j-iZXUFsH9yY"
      },
      "source": [
        "Agora iremos eliminar as colunas que tem valores nulos dos dataframes do Brasil"
      ]
    },
    {
      "cell_type": "code",
      "execution_count": 198,
      "metadata": {
        "id": "JArCtw_LH9yZ"
      },
      "outputs": [],
      "source": [
        "for i in [\"estado\",\"municipio\",\"codmun\",\"codRegiaoSaude\",\"nomeRegiaoSaude\",\"interior/metropolitana\"]:\n",
        "  DadosBrasil2020 = DadosBrasil2020.drop(columns=[i])\n",
        "  DadosBrasil2021 = DadosBrasil2021.drop(columns=[i])\n",
        "  DadosBrasil2022 = DadosBrasil2022.drop(columns=[i])"
      ]
    },
    {
      "cell_type": "code",
      "execution_count": 199,
      "metadata": {
        "colab": {
          "base_uri": "https://localhost:8080/",
          "height": 424
        },
        "id": "YB5XAANMH9yZ",
        "outputId": "630dd7a9-5ace-4084-d235-2cd4f41a0917"
      },
      "outputs": [
        {
          "output_type": "execute_result",
          "data": {
            "text/plain": [
              "       pais  coduf        data  semanaEpi  populacaoTCU2019  casosAcumulado  \\\n",
              "0    Brasil     76  2022-01-01         52       210147125.0      22291507.0   \n",
              "1    Brasil     76  2022-01-02          1       210147125.0      22293228.0   \n",
              "2    Brasil     76  2022-01-03          1       210147125.0      22305078.0   \n",
              "3    Brasil     76  2022-01-04          1       210147125.0      22323837.0   \n",
              "4    Brasil     76  2022-01-05          1       210147125.0      22351104.0   \n",
              "..      ...    ...         ...        ...               ...             ...   \n",
              "149  Brasil     76  2022-05-30         22       210147125.0      30977661.0   \n",
              "150  Brasil     76  2022-05-31         22       210147125.0      31019038.0   \n",
              "151  Brasil     76  2022-06-01         22       210147125.0      31060017.0   \n",
              "152  Brasil     76  2022-06-02         22       210147125.0      31101290.0   \n",
              "153  Brasil     76  2022-06-03         22       210147125.0      31137479.0   \n",
              "\n",
              "     casosNovos  obitosAcumulado  obitosNovos  Recuperadosnovos  \\\n",
              "0          3986           619105           49        21581668.0   \n",
              "1          1721           619133           28        21581717.0   \n",
              "2         11850           619209           76        21591847.0   \n",
              "3         18759           619384          175        21603954.0   \n",
              "4         27267           619513          129        21615473.0   \n",
              "..          ...              ...          ...               ...   \n",
              "149       24082           666516           63        29971308.0   \n",
              "150       41377           666676          160        30011391.0   \n",
              "151       40979           666801          125        30038200.0   \n",
              "152       41273           666928          127        30054599.0   \n",
              "153       36189           666971           43        30063682.0   \n",
              "\n",
              "     emAcompanhamentoNovos  \n",
              "0                  90734.0  \n",
              "1                  92378.0  \n",
              "2                  94022.0  \n",
              "3                 100499.0  \n",
              "4                 116118.0  \n",
              "..                     ...  \n",
              "149               339837.0  \n",
              "150               340971.0  \n",
              "151               355016.0  \n",
              "152               379763.0  \n",
              "153               406826.0  \n",
              "\n",
              "[154 rows x 11 columns]"
            ],
            "text/html": [
              "\n",
              "  <div id=\"df-eafd3d13-0307-4cad-be02-7c629c5661f7\">\n",
              "    <div class=\"colab-df-container\">\n",
              "      <div>\n",
              "<style scoped>\n",
              "    .dataframe tbody tr th:only-of-type {\n",
              "        vertical-align: middle;\n",
              "    }\n",
              "\n",
              "    .dataframe tbody tr th {\n",
              "        vertical-align: top;\n",
              "    }\n",
              "\n",
              "    .dataframe thead th {\n",
              "        text-align: right;\n",
              "    }\n",
              "</style>\n",
              "<table border=\"1\" class=\"dataframe\">\n",
              "  <thead>\n",
              "    <tr style=\"text-align: right;\">\n",
              "      <th></th>\n",
              "      <th>pais</th>\n",
              "      <th>coduf</th>\n",
              "      <th>data</th>\n",
              "      <th>semanaEpi</th>\n",
              "      <th>populacaoTCU2019</th>\n",
              "      <th>casosAcumulado</th>\n",
              "      <th>casosNovos</th>\n",
              "      <th>obitosAcumulado</th>\n",
              "      <th>obitosNovos</th>\n",
              "      <th>Recuperadosnovos</th>\n",
              "      <th>emAcompanhamentoNovos</th>\n",
              "    </tr>\n",
              "  </thead>\n",
              "  <tbody>\n",
              "    <tr>\n",
              "      <th>0</th>\n",
              "      <td>Brasil</td>\n",
              "      <td>76</td>\n",
              "      <td>2022-01-01</td>\n",
              "      <td>52</td>\n",
              "      <td>210147125.0</td>\n",
              "      <td>22291507.0</td>\n",
              "      <td>3986</td>\n",
              "      <td>619105</td>\n",
              "      <td>49</td>\n",
              "      <td>21581668.0</td>\n",
              "      <td>90734.0</td>\n",
              "    </tr>\n",
              "    <tr>\n",
              "      <th>1</th>\n",
              "      <td>Brasil</td>\n",
              "      <td>76</td>\n",
              "      <td>2022-01-02</td>\n",
              "      <td>1</td>\n",
              "      <td>210147125.0</td>\n",
              "      <td>22293228.0</td>\n",
              "      <td>1721</td>\n",
              "      <td>619133</td>\n",
              "      <td>28</td>\n",
              "      <td>21581717.0</td>\n",
              "      <td>92378.0</td>\n",
              "    </tr>\n",
              "    <tr>\n",
              "      <th>2</th>\n",
              "      <td>Brasil</td>\n",
              "      <td>76</td>\n",
              "      <td>2022-01-03</td>\n",
              "      <td>1</td>\n",
              "      <td>210147125.0</td>\n",
              "      <td>22305078.0</td>\n",
              "      <td>11850</td>\n",
              "      <td>619209</td>\n",
              "      <td>76</td>\n",
              "      <td>21591847.0</td>\n",
              "      <td>94022.0</td>\n",
              "    </tr>\n",
              "    <tr>\n",
              "      <th>3</th>\n",
              "      <td>Brasil</td>\n",
              "      <td>76</td>\n",
              "      <td>2022-01-04</td>\n",
              "      <td>1</td>\n",
              "      <td>210147125.0</td>\n",
              "      <td>22323837.0</td>\n",
              "      <td>18759</td>\n",
              "      <td>619384</td>\n",
              "      <td>175</td>\n",
              "      <td>21603954.0</td>\n",
              "      <td>100499.0</td>\n",
              "    </tr>\n",
              "    <tr>\n",
              "      <th>4</th>\n",
              "      <td>Brasil</td>\n",
              "      <td>76</td>\n",
              "      <td>2022-01-05</td>\n",
              "      <td>1</td>\n",
              "      <td>210147125.0</td>\n",
              "      <td>22351104.0</td>\n",
              "      <td>27267</td>\n",
              "      <td>619513</td>\n",
              "      <td>129</td>\n",
              "      <td>21615473.0</td>\n",
              "      <td>116118.0</td>\n",
              "    </tr>\n",
              "    <tr>\n",
              "      <th>...</th>\n",
              "      <td>...</td>\n",
              "      <td>...</td>\n",
              "      <td>...</td>\n",
              "      <td>...</td>\n",
              "      <td>...</td>\n",
              "      <td>...</td>\n",
              "      <td>...</td>\n",
              "      <td>...</td>\n",
              "      <td>...</td>\n",
              "      <td>...</td>\n",
              "      <td>...</td>\n",
              "    </tr>\n",
              "    <tr>\n",
              "      <th>149</th>\n",
              "      <td>Brasil</td>\n",
              "      <td>76</td>\n",
              "      <td>2022-05-30</td>\n",
              "      <td>22</td>\n",
              "      <td>210147125.0</td>\n",
              "      <td>30977661.0</td>\n",
              "      <td>24082</td>\n",
              "      <td>666516</td>\n",
              "      <td>63</td>\n",
              "      <td>29971308.0</td>\n",
              "      <td>339837.0</td>\n",
              "    </tr>\n",
              "    <tr>\n",
              "      <th>150</th>\n",
              "      <td>Brasil</td>\n",
              "      <td>76</td>\n",
              "      <td>2022-05-31</td>\n",
              "      <td>22</td>\n",
              "      <td>210147125.0</td>\n",
              "      <td>31019038.0</td>\n",
              "      <td>41377</td>\n",
              "      <td>666676</td>\n",
              "      <td>160</td>\n",
              "      <td>30011391.0</td>\n",
              "      <td>340971.0</td>\n",
              "    </tr>\n",
              "    <tr>\n",
              "      <th>151</th>\n",
              "      <td>Brasil</td>\n",
              "      <td>76</td>\n",
              "      <td>2022-06-01</td>\n",
              "      <td>22</td>\n",
              "      <td>210147125.0</td>\n",
              "      <td>31060017.0</td>\n",
              "      <td>40979</td>\n",
              "      <td>666801</td>\n",
              "      <td>125</td>\n",
              "      <td>30038200.0</td>\n",
              "      <td>355016.0</td>\n",
              "    </tr>\n",
              "    <tr>\n",
              "      <th>152</th>\n",
              "      <td>Brasil</td>\n",
              "      <td>76</td>\n",
              "      <td>2022-06-02</td>\n",
              "      <td>22</td>\n",
              "      <td>210147125.0</td>\n",
              "      <td>31101290.0</td>\n",
              "      <td>41273</td>\n",
              "      <td>666928</td>\n",
              "      <td>127</td>\n",
              "      <td>30054599.0</td>\n",
              "      <td>379763.0</td>\n",
              "    </tr>\n",
              "    <tr>\n",
              "      <th>153</th>\n",
              "      <td>Brasil</td>\n",
              "      <td>76</td>\n",
              "      <td>2022-06-03</td>\n",
              "      <td>22</td>\n",
              "      <td>210147125.0</td>\n",
              "      <td>31137479.0</td>\n",
              "      <td>36189</td>\n",
              "      <td>666971</td>\n",
              "      <td>43</td>\n",
              "      <td>30063682.0</td>\n",
              "      <td>406826.0</td>\n",
              "    </tr>\n",
              "  </tbody>\n",
              "</table>\n",
              "<p>154 rows × 11 columns</p>\n",
              "</div>\n",
              "      <button class=\"colab-df-convert\" onclick=\"convertToInteractive('df-eafd3d13-0307-4cad-be02-7c629c5661f7')\"\n",
              "              title=\"Convert this dataframe to an interactive table.\"\n",
              "              style=\"display:none;\">\n",
              "        \n",
              "  <svg xmlns=\"http://www.w3.org/2000/svg\" height=\"24px\"viewBox=\"0 0 24 24\"\n",
              "       width=\"24px\">\n",
              "    <path d=\"M0 0h24v24H0V0z\" fill=\"none\"/>\n",
              "    <path d=\"M18.56 5.44l.94 2.06.94-2.06 2.06-.94-2.06-.94-.94-2.06-.94 2.06-2.06.94zm-11 1L8.5 8.5l.94-2.06 2.06-.94-2.06-.94L8.5 2.5l-.94 2.06-2.06.94zm10 10l.94 2.06.94-2.06 2.06-.94-2.06-.94-.94-2.06-.94 2.06-2.06.94z\"/><path d=\"M17.41 7.96l-1.37-1.37c-.4-.4-.92-.59-1.43-.59-.52 0-1.04.2-1.43.59L10.3 9.45l-7.72 7.72c-.78.78-.78 2.05 0 2.83L4 21.41c.39.39.9.59 1.41.59.51 0 1.02-.2 1.41-.59l7.78-7.78 2.81-2.81c.8-.78.8-2.07 0-2.86zM5.41 20L4 18.59l7.72-7.72 1.47 1.35L5.41 20z\"/>\n",
              "  </svg>\n",
              "      </button>\n",
              "      \n",
              "  <style>\n",
              "    .colab-df-container {\n",
              "      display:flex;\n",
              "      flex-wrap:wrap;\n",
              "      gap: 12px;\n",
              "    }\n",
              "\n",
              "    .colab-df-convert {\n",
              "      background-color: #E8F0FE;\n",
              "      border: none;\n",
              "      border-radius: 50%;\n",
              "      cursor: pointer;\n",
              "      display: none;\n",
              "      fill: #1967D2;\n",
              "      height: 32px;\n",
              "      padding: 0 0 0 0;\n",
              "      width: 32px;\n",
              "    }\n",
              "\n",
              "    .colab-df-convert:hover {\n",
              "      background-color: #E2EBFA;\n",
              "      box-shadow: 0px 1px 2px rgba(60, 64, 67, 0.3), 0px 1px 3px 1px rgba(60, 64, 67, 0.15);\n",
              "      fill: #174EA6;\n",
              "    }\n",
              "\n",
              "    [theme=dark] .colab-df-convert {\n",
              "      background-color: #3B4455;\n",
              "      fill: #D2E3FC;\n",
              "    }\n",
              "\n",
              "    [theme=dark] .colab-df-convert:hover {\n",
              "      background-color: #434B5C;\n",
              "      box-shadow: 0px 1px 3px 1px rgba(0, 0, 0, 0.15);\n",
              "      filter: drop-shadow(0px 1px 2px rgba(0, 0, 0, 0.3));\n",
              "      fill: #FFFFFF;\n",
              "    }\n",
              "  </style>\n",
              "\n",
              "      <script>\n",
              "        const buttonEl =\n",
              "          document.querySelector('#df-eafd3d13-0307-4cad-be02-7c629c5661f7 button.colab-df-convert');\n",
              "        buttonEl.style.display =\n",
              "          google.colab.kernel.accessAllowed ? 'block' : 'none';\n",
              "\n",
              "        async function convertToInteractive(key) {\n",
              "          const element = document.querySelector('#df-eafd3d13-0307-4cad-be02-7c629c5661f7');\n",
              "          const dataTable =\n",
              "            await google.colab.kernel.invokeFunction('convertToInteractive',\n",
              "                                                     [key], {});\n",
              "          if (!dataTable) return;\n",
              "\n",
              "          const docLinkHtml = 'Like what you see? Visit the ' +\n",
              "            '<a target=\"_blank\" href=https://colab.research.google.com/notebooks/data_table.ipynb>data table notebook</a>'\n",
              "            + ' to learn more about interactive tables.';\n",
              "          element.innerHTML = '';\n",
              "          dataTable['output_type'] = 'display_data';\n",
              "          await google.colab.output.renderOutput(dataTable, element);\n",
              "          const docLink = document.createElement('div');\n",
              "          docLink.innerHTML = docLinkHtml;\n",
              "          element.appendChild(docLink);\n",
              "        }\n",
              "      </script>\n",
              "    </div>\n",
              "  </div>\n",
              "  "
            ]
          },
          "metadata": {},
          "execution_count": 199
        }
      ],
      "source": [
        "DadosBrasil2022"
      ]
    },
    {
      "cell_type": "markdown",
      "metadata": {
        "id": "Szs2RctpH9ya"
      },
      "source": [
        "Nos dataframes do Brasil é possível perceber que a coluna 'coduf' não é nula, mas retorna o mesmo valor, valor esse que não serão utilizados nesta análise"
      ]
    },
    {
      "cell_type": "code",
      "execution_count": 200,
      "metadata": {
        "colab": {
          "base_uri": "https://localhost:8080/"
        },
        "id": "zCPUXw6kH9ya",
        "outputId": "ffde23d3-11de-411b-8e13-173b138123d4"
      },
      "outputs": [
        {
          "output_type": "stream",
          "name": "stdout",
          "text": [
            "0      76\n",
            "1      76\n",
            "2      76\n",
            "3      76\n",
            "4      76\n",
            "       ..\n",
            "148    76\n",
            "149    76\n",
            "150    76\n",
            "151    76\n",
            "152    76\n",
            "Name: coduf, Length: 311, dtype: int64 0      76\n",
            "1      76\n",
            "2      76\n",
            "3      76\n",
            "4      76\n",
            "       ..\n",
            "179    76\n",
            "180    76\n",
            "181    76\n",
            "182    76\n",
            "183    76\n",
            "Name: coduf, Length: 365, dtype: int64 0      76\n",
            "1      76\n",
            "2      76\n",
            "3      76\n",
            "4      76\n",
            "       ..\n",
            "149    76\n",
            "150    76\n",
            "151    76\n",
            "152    76\n",
            "153    76\n",
            "Name: coduf, Length: 154, dtype: int64\n"
          ]
        }
      ],
      "source": [
        "print(DadosBrasil2020['coduf'],DadosBrasil2021['coduf'], DadosBrasil2022['coduf'])\n"
      ]
    },
    {
      "cell_type": "markdown",
      "metadata": {
        "id": "xKGJM7ZgH9ya"
      },
      "source": [
        "Então a coluna 'coduf' será removida dos dataframes"
      ]
    },
    {
      "cell_type": "code",
      "execution_count": 201,
      "metadata": {
        "id": "0eAWANeXH9yb"
      },
      "outputs": [],
      "source": [
        "DadosBrasil2020 = DadosBrasil2020.drop(columns=['coduf'])\n",
        "DadosBrasil2021 = DadosBrasil2021.drop(columns=['coduf'])\n",
        "DadosBrasil2022 = DadosBrasil2022.drop(columns=['coduf'])"
      ]
    },
    {
      "cell_type": "markdown",
      "metadata": {
        "id": "pagJyxv3H9yb"
      },
      "source": [
        "# Resultado obtido a partir da limpeza dos dados (Brasil)"
      ]
    },
    {
      "cell_type": "code",
      "execution_count": 202,
      "metadata": {
        "colab": {
          "base_uri": "https://localhost:8080/",
          "height": 424
        },
        "id": "FVIHvg7GH9yb",
        "outputId": "73424cff-0232-4902-e5bf-1689dede0611"
      },
      "outputs": [
        {
          "output_type": "execute_result",
          "data": {
            "text/plain": [
              "       pais        data  semanaEpi  populacaoTCU2019  casosAcumulado  \\\n",
              "0    Brasil  2022-01-01         52       210147125.0      22291507.0   \n",
              "1    Brasil  2022-01-02          1       210147125.0      22293228.0   \n",
              "2    Brasil  2022-01-03          1       210147125.0      22305078.0   \n",
              "3    Brasil  2022-01-04          1       210147125.0      22323837.0   \n",
              "4    Brasil  2022-01-05          1       210147125.0      22351104.0   \n",
              "..      ...         ...        ...               ...             ...   \n",
              "149  Brasil  2022-05-30         22       210147125.0      30977661.0   \n",
              "150  Brasil  2022-05-31         22       210147125.0      31019038.0   \n",
              "151  Brasil  2022-06-01         22       210147125.0      31060017.0   \n",
              "152  Brasil  2022-06-02         22       210147125.0      31101290.0   \n",
              "153  Brasil  2022-06-03         22       210147125.0      31137479.0   \n",
              "\n",
              "     casosNovos  obitosAcumulado  obitosNovos  Recuperadosnovos  \\\n",
              "0          3986           619105           49        21581668.0   \n",
              "1          1721           619133           28        21581717.0   \n",
              "2         11850           619209           76        21591847.0   \n",
              "3         18759           619384          175        21603954.0   \n",
              "4         27267           619513          129        21615473.0   \n",
              "..          ...              ...          ...               ...   \n",
              "149       24082           666516           63        29971308.0   \n",
              "150       41377           666676          160        30011391.0   \n",
              "151       40979           666801          125        30038200.0   \n",
              "152       41273           666928          127        30054599.0   \n",
              "153       36189           666971           43        30063682.0   \n",
              "\n",
              "     emAcompanhamentoNovos  \n",
              "0                  90734.0  \n",
              "1                  92378.0  \n",
              "2                  94022.0  \n",
              "3                 100499.0  \n",
              "4                 116118.0  \n",
              "..                     ...  \n",
              "149               339837.0  \n",
              "150               340971.0  \n",
              "151               355016.0  \n",
              "152               379763.0  \n",
              "153               406826.0  \n",
              "\n",
              "[154 rows x 10 columns]"
            ],
            "text/html": [
              "\n",
              "  <div id=\"df-afd3dc44-30ac-4d91-9253-84dcd8bb74b9\">\n",
              "    <div class=\"colab-df-container\">\n",
              "      <div>\n",
              "<style scoped>\n",
              "    .dataframe tbody tr th:only-of-type {\n",
              "        vertical-align: middle;\n",
              "    }\n",
              "\n",
              "    .dataframe tbody tr th {\n",
              "        vertical-align: top;\n",
              "    }\n",
              "\n",
              "    .dataframe thead th {\n",
              "        text-align: right;\n",
              "    }\n",
              "</style>\n",
              "<table border=\"1\" class=\"dataframe\">\n",
              "  <thead>\n",
              "    <tr style=\"text-align: right;\">\n",
              "      <th></th>\n",
              "      <th>pais</th>\n",
              "      <th>data</th>\n",
              "      <th>semanaEpi</th>\n",
              "      <th>populacaoTCU2019</th>\n",
              "      <th>casosAcumulado</th>\n",
              "      <th>casosNovos</th>\n",
              "      <th>obitosAcumulado</th>\n",
              "      <th>obitosNovos</th>\n",
              "      <th>Recuperadosnovos</th>\n",
              "      <th>emAcompanhamentoNovos</th>\n",
              "    </tr>\n",
              "  </thead>\n",
              "  <tbody>\n",
              "    <tr>\n",
              "      <th>0</th>\n",
              "      <td>Brasil</td>\n",
              "      <td>2022-01-01</td>\n",
              "      <td>52</td>\n",
              "      <td>210147125.0</td>\n",
              "      <td>22291507.0</td>\n",
              "      <td>3986</td>\n",
              "      <td>619105</td>\n",
              "      <td>49</td>\n",
              "      <td>21581668.0</td>\n",
              "      <td>90734.0</td>\n",
              "    </tr>\n",
              "    <tr>\n",
              "      <th>1</th>\n",
              "      <td>Brasil</td>\n",
              "      <td>2022-01-02</td>\n",
              "      <td>1</td>\n",
              "      <td>210147125.0</td>\n",
              "      <td>22293228.0</td>\n",
              "      <td>1721</td>\n",
              "      <td>619133</td>\n",
              "      <td>28</td>\n",
              "      <td>21581717.0</td>\n",
              "      <td>92378.0</td>\n",
              "    </tr>\n",
              "    <tr>\n",
              "      <th>2</th>\n",
              "      <td>Brasil</td>\n",
              "      <td>2022-01-03</td>\n",
              "      <td>1</td>\n",
              "      <td>210147125.0</td>\n",
              "      <td>22305078.0</td>\n",
              "      <td>11850</td>\n",
              "      <td>619209</td>\n",
              "      <td>76</td>\n",
              "      <td>21591847.0</td>\n",
              "      <td>94022.0</td>\n",
              "    </tr>\n",
              "    <tr>\n",
              "      <th>3</th>\n",
              "      <td>Brasil</td>\n",
              "      <td>2022-01-04</td>\n",
              "      <td>1</td>\n",
              "      <td>210147125.0</td>\n",
              "      <td>22323837.0</td>\n",
              "      <td>18759</td>\n",
              "      <td>619384</td>\n",
              "      <td>175</td>\n",
              "      <td>21603954.0</td>\n",
              "      <td>100499.0</td>\n",
              "    </tr>\n",
              "    <tr>\n",
              "      <th>4</th>\n",
              "      <td>Brasil</td>\n",
              "      <td>2022-01-05</td>\n",
              "      <td>1</td>\n",
              "      <td>210147125.0</td>\n",
              "      <td>22351104.0</td>\n",
              "      <td>27267</td>\n",
              "      <td>619513</td>\n",
              "      <td>129</td>\n",
              "      <td>21615473.0</td>\n",
              "      <td>116118.0</td>\n",
              "    </tr>\n",
              "    <tr>\n",
              "      <th>...</th>\n",
              "      <td>...</td>\n",
              "      <td>...</td>\n",
              "      <td>...</td>\n",
              "      <td>...</td>\n",
              "      <td>...</td>\n",
              "      <td>...</td>\n",
              "      <td>...</td>\n",
              "      <td>...</td>\n",
              "      <td>...</td>\n",
              "      <td>...</td>\n",
              "    </tr>\n",
              "    <tr>\n",
              "      <th>149</th>\n",
              "      <td>Brasil</td>\n",
              "      <td>2022-05-30</td>\n",
              "      <td>22</td>\n",
              "      <td>210147125.0</td>\n",
              "      <td>30977661.0</td>\n",
              "      <td>24082</td>\n",
              "      <td>666516</td>\n",
              "      <td>63</td>\n",
              "      <td>29971308.0</td>\n",
              "      <td>339837.0</td>\n",
              "    </tr>\n",
              "    <tr>\n",
              "      <th>150</th>\n",
              "      <td>Brasil</td>\n",
              "      <td>2022-05-31</td>\n",
              "      <td>22</td>\n",
              "      <td>210147125.0</td>\n",
              "      <td>31019038.0</td>\n",
              "      <td>41377</td>\n",
              "      <td>666676</td>\n",
              "      <td>160</td>\n",
              "      <td>30011391.0</td>\n",
              "      <td>340971.0</td>\n",
              "    </tr>\n",
              "    <tr>\n",
              "      <th>151</th>\n",
              "      <td>Brasil</td>\n",
              "      <td>2022-06-01</td>\n",
              "      <td>22</td>\n",
              "      <td>210147125.0</td>\n",
              "      <td>31060017.0</td>\n",
              "      <td>40979</td>\n",
              "      <td>666801</td>\n",
              "      <td>125</td>\n",
              "      <td>30038200.0</td>\n",
              "      <td>355016.0</td>\n",
              "    </tr>\n",
              "    <tr>\n",
              "      <th>152</th>\n",
              "      <td>Brasil</td>\n",
              "      <td>2022-06-02</td>\n",
              "      <td>22</td>\n",
              "      <td>210147125.0</td>\n",
              "      <td>31101290.0</td>\n",
              "      <td>41273</td>\n",
              "      <td>666928</td>\n",
              "      <td>127</td>\n",
              "      <td>30054599.0</td>\n",
              "      <td>379763.0</td>\n",
              "    </tr>\n",
              "    <tr>\n",
              "      <th>153</th>\n",
              "      <td>Brasil</td>\n",
              "      <td>2022-06-03</td>\n",
              "      <td>22</td>\n",
              "      <td>210147125.0</td>\n",
              "      <td>31137479.0</td>\n",
              "      <td>36189</td>\n",
              "      <td>666971</td>\n",
              "      <td>43</td>\n",
              "      <td>30063682.0</td>\n",
              "      <td>406826.0</td>\n",
              "    </tr>\n",
              "  </tbody>\n",
              "</table>\n",
              "<p>154 rows × 10 columns</p>\n",
              "</div>\n",
              "      <button class=\"colab-df-convert\" onclick=\"convertToInteractive('df-afd3dc44-30ac-4d91-9253-84dcd8bb74b9')\"\n",
              "              title=\"Convert this dataframe to an interactive table.\"\n",
              "              style=\"display:none;\">\n",
              "        \n",
              "  <svg xmlns=\"http://www.w3.org/2000/svg\" height=\"24px\"viewBox=\"0 0 24 24\"\n",
              "       width=\"24px\">\n",
              "    <path d=\"M0 0h24v24H0V0z\" fill=\"none\"/>\n",
              "    <path d=\"M18.56 5.44l.94 2.06.94-2.06 2.06-.94-2.06-.94-.94-2.06-.94 2.06-2.06.94zm-11 1L8.5 8.5l.94-2.06 2.06-.94-2.06-.94L8.5 2.5l-.94 2.06-2.06.94zm10 10l.94 2.06.94-2.06 2.06-.94-2.06-.94-.94-2.06-.94 2.06-2.06.94z\"/><path d=\"M17.41 7.96l-1.37-1.37c-.4-.4-.92-.59-1.43-.59-.52 0-1.04.2-1.43.59L10.3 9.45l-7.72 7.72c-.78.78-.78 2.05 0 2.83L4 21.41c.39.39.9.59 1.41.59.51 0 1.02-.2 1.41-.59l7.78-7.78 2.81-2.81c.8-.78.8-2.07 0-2.86zM5.41 20L4 18.59l7.72-7.72 1.47 1.35L5.41 20z\"/>\n",
              "  </svg>\n",
              "      </button>\n",
              "      \n",
              "  <style>\n",
              "    .colab-df-container {\n",
              "      display:flex;\n",
              "      flex-wrap:wrap;\n",
              "      gap: 12px;\n",
              "    }\n",
              "\n",
              "    .colab-df-convert {\n",
              "      background-color: #E8F0FE;\n",
              "      border: none;\n",
              "      border-radius: 50%;\n",
              "      cursor: pointer;\n",
              "      display: none;\n",
              "      fill: #1967D2;\n",
              "      height: 32px;\n",
              "      padding: 0 0 0 0;\n",
              "      width: 32px;\n",
              "    }\n",
              "\n",
              "    .colab-df-convert:hover {\n",
              "      background-color: #E2EBFA;\n",
              "      box-shadow: 0px 1px 2px rgba(60, 64, 67, 0.3), 0px 1px 3px 1px rgba(60, 64, 67, 0.15);\n",
              "      fill: #174EA6;\n",
              "    }\n",
              "\n",
              "    [theme=dark] .colab-df-convert {\n",
              "      background-color: #3B4455;\n",
              "      fill: #D2E3FC;\n",
              "    }\n",
              "\n",
              "    [theme=dark] .colab-df-convert:hover {\n",
              "      background-color: #434B5C;\n",
              "      box-shadow: 0px 1px 3px 1px rgba(0, 0, 0, 0.15);\n",
              "      filter: drop-shadow(0px 1px 2px rgba(0, 0, 0, 0.3));\n",
              "      fill: #FFFFFF;\n",
              "    }\n",
              "  </style>\n",
              "\n",
              "      <script>\n",
              "        const buttonEl =\n",
              "          document.querySelector('#df-afd3dc44-30ac-4d91-9253-84dcd8bb74b9 button.colab-df-convert');\n",
              "        buttonEl.style.display =\n",
              "          google.colab.kernel.accessAllowed ? 'block' : 'none';\n",
              "\n",
              "        async function convertToInteractive(key) {\n",
              "          const element = document.querySelector('#df-afd3dc44-30ac-4d91-9253-84dcd8bb74b9');\n",
              "          const dataTable =\n",
              "            await google.colab.kernel.invokeFunction('convertToInteractive',\n",
              "                                                     [key], {});\n",
              "          if (!dataTable) return;\n",
              "\n",
              "          const docLinkHtml = 'Like what you see? Visit the ' +\n",
              "            '<a target=\"_blank\" href=https://colab.research.google.com/notebooks/data_table.ipynb>data table notebook</a>'\n",
              "            + ' to learn more about interactive tables.';\n",
              "          element.innerHTML = '';\n",
              "          dataTable['output_type'] = 'display_data';\n",
              "          await google.colab.output.renderOutput(dataTable, element);\n",
              "          const docLink = document.createElement('div');\n",
              "          docLink.innerHTML = docLinkHtml;\n",
              "          element.appendChild(docLink);\n",
              "        }\n",
              "      </script>\n",
              "    </div>\n",
              "  </div>\n",
              "  "
            ]
          },
          "metadata": {},
          "execution_count": 202
        }
      ],
      "source": [
        "DadosBrasil2022"
      ]
    },
    {
      "cell_type": "markdown",
      "metadata": {
        "id": "YytPzi5GD3fY"
      },
      "source": [
        "# Selecionando os dados das regiões do Brasil nos anos de 2020, 2021 e 2022."
      ]
    },
    {
      "cell_type": "code",
      "execution_count": 203,
      "metadata": {
        "id": "dCACCLz5EA9y"
      },
      "outputs": [],
      "source": [
        "RegioesBrasil2020 = covid2020[covid2020['regiao'] != 'Brasil']\n",
        "RegioesBrasil2021 = covid2021[covid2021['regiao'] != 'Brasil']\n",
        "RegioesBrasil2022 = covid2022[covid2022['regiao'] != 'Brasil']\n"
      ]
    },
    {
      "cell_type": "code",
      "source": [
        "RegioesBrasil2020.head(3)"
      ],
      "metadata": {
        "colab": {
          "base_uri": "https://localhost:8080/",
          "height": 259
        },
        "id": "v9s2Kw6WHSx3",
        "outputId": "c9c48e18-5f2a-4ec9-a9a3-4cc26effc671"
      },
      "execution_count": 204,
      "outputs": [
        {
          "output_type": "execute_result",
          "data": {
            "text/plain": [
              "    regiao estado municipio  coduf  codmun  codRegiaoSaude nomeRegiaoSaude  \\\n",
              "158  Norte     RO       NaN     11     NaN             NaN             NaN   \n",
              "159  Norte     RO       NaN     11     NaN             NaN             NaN   \n",
              "160  Norte     RO       NaN     11     NaN             NaN             NaN   \n",
              "\n",
              "           data  semanaEpi  populacaoTCU2019  casosAcumulado  casosNovos  \\\n",
              "158  2020-02-25          9         1777225.0               0           0   \n",
              "159  2020-02-26          9         1777225.0               0           0   \n",
              "160  2020-02-27          9         1777225.0               0           0   \n",
              "\n",
              "     obitosAcumulado  obitosNovos  Recuperadosnovos  emAcompanhamentoNovos  \\\n",
              "158                0            0               NaN                    NaN   \n",
              "159                0            0               NaN                    NaN   \n",
              "160                0            0               NaN                    NaN   \n",
              "\n",
              "     interior/metropolitana  \n",
              "158                     NaN  \n",
              "159                     NaN  \n",
              "160                     NaN  "
            ],
            "text/html": [
              "\n",
              "  <div id=\"df-89e92a81-0f07-483d-9391-fe78303578a4\">\n",
              "    <div class=\"colab-df-container\">\n",
              "      <div>\n",
              "<style scoped>\n",
              "    .dataframe tbody tr th:only-of-type {\n",
              "        vertical-align: middle;\n",
              "    }\n",
              "\n",
              "    .dataframe tbody tr th {\n",
              "        vertical-align: top;\n",
              "    }\n",
              "\n",
              "    .dataframe thead th {\n",
              "        text-align: right;\n",
              "    }\n",
              "</style>\n",
              "<table border=\"1\" class=\"dataframe\">\n",
              "  <thead>\n",
              "    <tr style=\"text-align: right;\">\n",
              "      <th></th>\n",
              "      <th>regiao</th>\n",
              "      <th>estado</th>\n",
              "      <th>municipio</th>\n",
              "      <th>coduf</th>\n",
              "      <th>codmun</th>\n",
              "      <th>codRegiaoSaude</th>\n",
              "      <th>nomeRegiaoSaude</th>\n",
              "      <th>data</th>\n",
              "      <th>semanaEpi</th>\n",
              "      <th>populacaoTCU2019</th>\n",
              "      <th>casosAcumulado</th>\n",
              "      <th>casosNovos</th>\n",
              "      <th>obitosAcumulado</th>\n",
              "      <th>obitosNovos</th>\n",
              "      <th>Recuperadosnovos</th>\n",
              "      <th>emAcompanhamentoNovos</th>\n",
              "      <th>interior/metropolitana</th>\n",
              "    </tr>\n",
              "  </thead>\n",
              "  <tbody>\n",
              "    <tr>\n",
              "      <th>158</th>\n",
              "      <td>Norte</td>\n",
              "      <td>RO</td>\n",
              "      <td>NaN</td>\n",
              "      <td>11</td>\n",
              "      <td>NaN</td>\n",
              "      <td>NaN</td>\n",
              "      <td>NaN</td>\n",
              "      <td>2020-02-25</td>\n",
              "      <td>9</td>\n",
              "      <td>1777225.0</td>\n",
              "      <td>0</td>\n",
              "      <td>0</td>\n",
              "      <td>0</td>\n",
              "      <td>0</td>\n",
              "      <td>NaN</td>\n",
              "      <td>NaN</td>\n",
              "      <td>NaN</td>\n",
              "    </tr>\n",
              "    <tr>\n",
              "      <th>159</th>\n",
              "      <td>Norte</td>\n",
              "      <td>RO</td>\n",
              "      <td>NaN</td>\n",
              "      <td>11</td>\n",
              "      <td>NaN</td>\n",
              "      <td>NaN</td>\n",
              "      <td>NaN</td>\n",
              "      <td>2020-02-26</td>\n",
              "      <td>9</td>\n",
              "      <td>1777225.0</td>\n",
              "      <td>0</td>\n",
              "      <td>0</td>\n",
              "      <td>0</td>\n",
              "      <td>0</td>\n",
              "      <td>NaN</td>\n",
              "      <td>NaN</td>\n",
              "      <td>NaN</td>\n",
              "    </tr>\n",
              "    <tr>\n",
              "      <th>160</th>\n",
              "      <td>Norte</td>\n",
              "      <td>RO</td>\n",
              "      <td>NaN</td>\n",
              "      <td>11</td>\n",
              "      <td>NaN</td>\n",
              "      <td>NaN</td>\n",
              "      <td>NaN</td>\n",
              "      <td>2020-02-27</td>\n",
              "      <td>9</td>\n",
              "      <td>1777225.0</td>\n",
              "      <td>0</td>\n",
              "      <td>0</td>\n",
              "      <td>0</td>\n",
              "      <td>0</td>\n",
              "      <td>NaN</td>\n",
              "      <td>NaN</td>\n",
              "      <td>NaN</td>\n",
              "    </tr>\n",
              "  </tbody>\n",
              "</table>\n",
              "</div>\n",
              "      <button class=\"colab-df-convert\" onclick=\"convertToInteractive('df-89e92a81-0f07-483d-9391-fe78303578a4')\"\n",
              "              title=\"Convert this dataframe to an interactive table.\"\n",
              "              style=\"display:none;\">\n",
              "        \n",
              "  <svg xmlns=\"http://www.w3.org/2000/svg\" height=\"24px\"viewBox=\"0 0 24 24\"\n",
              "       width=\"24px\">\n",
              "    <path d=\"M0 0h24v24H0V0z\" fill=\"none\"/>\n",
              "    <path d=\"M18.56 5.44l.94 2.06.94-2.06 2.06-.94-2.06-.94-.94-2.06-.94 2.06-2.06.94zm-11 1L8.5 8.5l.94-2.06 2.06-.94-2.06-.94L8.5 2.5l-.94 2.06-2.06.94zm10 10l.94 2.06.94-2.06 2.06-.94-2.06-.94-.94-2.06-.94 2.06-2.06.94z\"/><path d=\"M17.41 7.96l-1.37-1.37c-.4-.4-.92-.59-1.43-.59-.52 0-1.04.2-1.43.59L10.3 9.45l-7.72 7.72c-.78.78-.78 2.05 0 2.83L4 21.41c.39.39.9.59 1.41.59.51 0 1.02-.2 1.41-.59l7.78-7.78 2.81-2.81c.8-.78.8-2.07 0-2.86zM5.41 20L4 18.59l7.72-7.72 1.47 1.35L5.41 20z\"/>\n",
              "  </svg>\n",
              "      </button>\n",
              "      \n",
              "  <style>\n",
              "    .colab-df-container {\n",
              "      display:flex;\n",
              "      flex-wrap:wrap;\n",
              "      gap: 12px;\n",
              "    }\n",
              "\n",
              "    .colab-df-convert {\n",
              "      background-color: #E8F0FE;\n",
              "      border: none;\n",
              "      border-radius: 50%;\n",
              "      cursor: pointer;\n",
              "      display: none;\n",
              "      fill: #1967D2;\n",
              "      height: 32px;\n",
              "      padding: 0 0 0 0;\n",
              "      width: 32px;\n",
              "    }\n",
              "\n",
              "    .colab-df-convert:hover {\n",
              "      background-color: #E2EBFA;\n",
              "      box-shadow: 0px 1px 2px rgba(60, 64, 67, 0.3), 0px 1px 3px 1px rgba(60, 64, 67, 0.15);\n",
              "      fill: #174EA6;\n",
              "    }\n",
              "\n",
              "    [theme=dark] .colab-df-convert {\n",
              "      background-color: #3B4455;\n",
              "      fill: #D2E3FC;\n",
              "    }\n",
              "\n",
              "    [theme=dark] .colab-df-convert:hover {\n",
              "      background-color: #434B5C;\n",
              "      box-shadow: 0px 1px 3px 1px rgba(0, 0, 0, 0.15);\n",
              "      filter: drop-shadow(0px 1px 2px rgba(0, 0, 0, 0.3));\n",
              "      fill: #FFFFFF;\n",
              "    }\n",
              "  </style>\n",
              "\n",
              "      <script>\n",
              "        const buttonEl =\n",
              "          document.querySelector('#df-89e92a81-0f07-483d-9391-fe78303578a4 button.colab-df-convert');\n",
              "        buttonEl.style.display =\n",
              "          google.colab.kernel.accessAllowed ? 'block' : 'none';\n",
              "\n",
              "        async function convertToInteractive(key) {\n",
              "          const element = document.querySelector('#df-89e92a81-0f07-483d-9391-fe78303578a4');\n",
              "          const dataTable =\n",
              "            await google.colab.kernel.invokeFunction('convertToInteractive',\n",
              "                                                     [key], {});\n",
              "          if (!dataTable) return;\n",
              "\n",
              "          const docLinkHtml = 'Like what you see? Visit the ' +\n",
              "            '<a target=\"_blank\" href=https://colab.research.google.com/notebooks/data_table.ipynb>data table notebook</a>'\n",
              "            + ' to learn more about interactive tables.';\n",
              "          element.innerHTML = '';\n",
              "          dataTable['output_type'] = 'display_data';\n",
              "          await google.colab.output.renderOutput(dataTable, element);\n",
              "          const docLink = document.createElement('div');\n",
              "          docLink.innerHTML = docLinkHtml;\n",
              "          element.appendChild(docLink);\n",
              "        }\n",
              "      </script>\n",
              "    </div>\n",
              "  </div>\n",
              "  "
            ]
          },
          "metadata": {},
          "execution_count": 204
        }
      ]
    },
    {
      "cell_type": "code",
      "source": [
        "def transf(valor):\n",
        "  if valor < 0:\n",
        "    return 0\n",
        "  else:\n",
        "    return valor"
      ],
      "metadata": {
        "id": "AeVCy1SDLoH3"
      },
      "execution_count": 205,
      "outputs": []
    },
    {
      "cell_type": "code",
      "source": [
        "RegioesBrasil2020['casosNovos'] = RegioesBrasil2020['casosNovos'].apply(lambda x: transf(x))\n",
        "RegioesBrasil2020['obitosNovos'] = RegioesBrasil2020['obitosNovos'].apply(lambda x: transf(x))"
      ],
      "metadata": {
        "colab": {
          "base_uri": "https://localhost:8080/"
        },
        "id": "KWiMhGSSLq1J",
        "outputId": "d01c709a-6ec1-448f-9074-309cf0160b4a"
      },
      "execution_count": 206,
      "outputs": [
        {
          "output_type": "stream",
          "name": "stderr",
          "text": [
            "/usr/local/lib/python3.7/dist-packages/ipykernel_launcher.py:1: SettingWithCopyWarning: \n",
            "A value is trying to be set on a copy of a slice from a DataFrame.\n",
            "Try using .loc[row_indexer,col_indexer] = value instead\n",
            "\n",
            "See the caveats in the documentation: https://pandas.pydata.org/pandas-docs/stable/user_guide/indexing.html#returning-a-view-versus-a-copy\n",
            "  \"\"\"Entry point for launching an IPython kernel.\n",
            "/usr/local/lib/python3.7/dist-packages/ipykernel_launcher.py:2: SettingWithCopyWarning: \n",
            "A value is trying to be set on a copy of a slice from a DataFrame.\n",
            "Try using .loc[row_indexer,col_indexer] = value instead\n",
            "\n",
            "See the caveats in the documentation: https://pandas.pydata.org/pandas-docs/stable/user_guide/indexing.html#returning-a-view-versus-a-copy\n",
            "  \n"
          ]
        }
      ]
    },
    {
      "cell_type": "markdown",
      "source": [
        "# Regiões do Brasil em 2020"
      ],
      "metadata": {
        "id": "J1QOoVLLRvaF"
      }
    },
    {
      "cell_type": "code",
      "execution_count": 207,
      "metadata": {
        "colab": {
          "base_uri": "https://localhost:8080/",
          "height": 661
        },
        "id": "6mVyE_8kH9yc",
        "outputId": "23ec1f60-b90e-48b6-9619-a7550dcf9d41"
      },
      "outputs": [
        {
          "output_type": "execute_result",
          "data": {
            "text/plain": [
              "              regiao estado municipio  coduf    codmun  codRegiaoSaude  \\\n",
              "158            Norte     RO       NaN     11       NaN             NaN   \n",
              "159            Norte     RO       NaN     11       NaN             NaN   \n",
              "160            Norte     RO       NaN     11       NaN             NaN   \n",
              "161            Norte     RO       NaN     11       NaN             NaN   \n",
              "162            Norte     RO       NaN     11       NaN             NaN   \n",
              "...              ...    ...       ...    ...       ...             ...   \n",
              "859702  Centro-Oeste     DF  Brasília     53  530010.0         53001.0   \n",
              "859703  Centro-Oeste     DF  Brasília     53  530010.0         53001.0   \n",
              "859704  Centro-Oeste     DF  Brasília     53  530010.0         53001.0   \n",
              "859705  Centro-Oeste     DF  Brasília     53  530010.0         53001.0   \n",
              "859706  Centro-Oeste     DF  Brasília     53  530010.0         53001.0   \n",
              "\n",
              "         nomeRegiaoSaude        data  semanaEpi  populacaoTCU2019  \\\n",
              "158                  NaN  2020-02-25          9         1777225.0   \n",
              "159                  NaN  2020-02-26          9         1777225.0   \n",
              "160                  NaN  2020-02-27          9         1777225.0   \n",
              "161                  NaN  2020-02-28          9         1777225.0   \n",
              "162                  NaN  2020-02-29          9         1777225.0   \n",
              "...                  ...         ...        ...               ...   \n",
              "859702  DISTRITO FEDERAL  2020-12-27         53         3015268.0   \n",
              "859703  DISTRITO FEDERAL  2020-12-28         53         3015268.0   \n",
              "859704  DISTRITO FEDERAL  2020-12-29         53         3015268.0   \n",
              "859705  DISTRITO FEDERAL  2020-12-30         53         3015268.0   \n",
              "859706  DISTRITO FEDERAL  2020-12-31         53         3015268.0   \n",
              "\n",
              "        casosAcumulado  casosNovos  obitosAcumulado  obitosNovos  \\\n",
              "158                  0           0                0            0   \n",
              "159                  0           0                0            0   \n",
              "160                  0           0                0            0   \n",
              "161                  0           0                0            0   \n",
              "162                  0           0                0            0   \n",
              "...                ...         ...              ...          ...   \n",
              "859702          248543         615             4201            3   \n",
              "859703          249736        1193             4223           22   \n",
              "859704          250457         721             4241           18   \n",
              "859705          251135         678             4248            7   \n",
              "859706          251701         566             4259           11   \n",
              "\n",
              "        Recuperadosnovos  emAcompanhamentoNovos  interior/metropolitana  \n",
              "158                  NaN                    NaN                     NaN  \n",
              "159                  NaN                    NaN                     NaN  \n",
              "160                  NaN                    NaN                     NaN  \n",
              "161                  NaN                    NaN                     NaN  \n",
              "162                  NaN                    NaN                     NaN  \n",
              "...                  ...                    ...                     ...  \n",
              "859702               NaN                    NaN                     1.0  \n",
              "859703               NaN                    NaN                     1.0  \n",
              "859704               NaN                    NaN                     1.0  \n",
              "859705               NaN                    NaN                     1.0  \n",
              "859706               NaN                    NaN                     1.0  \n",
              "\n",
              "[1573877 rows x 17 columns]"
            ],
            "text/html": [
              "\n",
              "  <div id=\"df-cd045ff8-b4a0-4258-9e7f-64a215161a8b\">\n",
              "    <div class=\"colab-df-container\">\n",
              "      <div>\n",
              "<style scoped>\n",
              "    .dataframe tbody tr th:only-of-type {\n",
              "        vertical-align: middle;\n",
              "    }\n",
              "\n",
              "    .dataframe tbody tr th {\n",
              "        vertical-align: top;\n",
              "    }\n",
              "\n",
              "    .dataframe thead th {\n",
              "        text-align: right;\n",
              "    }\n",
              "</style>\n",
              "<table border=\"1\" class=\"dataframe\">\n",
              "  <thead>\n",
              "    <tr style=\"text-align: right;\">\n",
              "      <th></th>\n",
              "      <th>regiao</th>\n",
              "      <th>estado</th>\n",
              "      <th>municipio</th>\n",
              "      <th>coduf</th>\n",
              "      <th>codmun</th>\n",
              "      <th>codRegiaoSaude</th>\n",
              "      <th>nomeRegiaoSaude</th>\n",
              "      <th>data</th>\n",
              "      <th>semanaEpi</th>\n",
              "      <th>populacaoTCU2019</th>\n",
              "      <th>casosAcumulado</th>\n",
              "      <th>casosNovos</th>\n",
              "      <th>obitosAcumulado</th>\n",
              "      <th>obitosNovos</th>\n",
              "      <th>Recuperadosnovos</th>\n",
              "      <th>emAcompanhamentoNovos</th>\n",
              "      <th>interior/metropolitana</th>\n",
              "    </tr>\n",
              "  </thead>\n",
              "  <tbody>\n",
              "    <tr>\n",
              "      <th>158</th>\n",
              "      <td>Norte</td>\n",
              "      <td>RO</td>\n",
              "      <td>NaN</td>\n",
              "      <td>11</td>\n",
              "      <td>NaN</td>\n",
              "      <td>NaN</td>\n",
              "      <td>NaN</td>\n",
              "      <td>2020-02-25</td>\n",
              "      <td>9</td>\n",
              "      <td>1777225.0</td>\n",
              "      <td>0</td>\n",
              "      <td>0</td>\n",
              "      <td>0</td>\n",
              "      <td>0</td>\n",
              "      <td>NaN</td>\n",
              "      <td>NaN</td>\n",
              "      <td>NaN</td>\n",
              "    </tr>\n",
              "    <tr>\n",
              "      <th>159</th>\n",
              "      <td>Norte</td>\n",
              "      <td>RO</td>\n",
              "      <td>NaN</td>\n",
              "      <td>11</td>\n",
              "      <td>NaN</td>\n",
              "      <td>NaN</td>\n",
              "      <td>NaN</td>\n",
              "      <td>2020-02-26</td>\n",
              "      <td>9</td>\n",
              "      <td>1777225.0</td>\n",
              "      <td>0</td>\n",
              "      <td>0</td>\n",
              "      <td>0</td>\n",
              "      <td>0</td>\n",
              "      <td>NaN</td>\n",
              "      <td>NaN</td>\n",
              "      <td>NaN</td>\n",
              "    </tr>\n",
              "    <tr>\n",
              "      <th>160</th>\n",
              "      <td>Norte</td>\n",
              "      <td>RO</td>\n",
              "      <td>NaN</td>\n",
              "      <td>11</td>\n",
              "      <td>NaN</td>\n",
              "      <td>NaN</td>\n",
              "      <td>NaN</td>\n",
              "      <td>2020-02-27</td>\n",
              "      <td>9</td>\n",
              "      <td>1777225.0</td>\n",
              "      <td>0</td>\n",
              "      <td>0</td>\n",
              "      <td>0</td>\n",
              "      <td>0</td>\n",
              "      <td>NaN</td>\n",
              "      <td>NaN</td>\n",
              "      <td>NaN</td>\n",
              "    </tr>\n",
              "    <tr>\n",
              "      <th>161</th>\n",
              "      <td>Norte</td>\n",
              "      <td>RO</td>\n",
              "      <td>NaN</td>\n",
              "      <td>11</td>\n",
              "      <td>NaN</td>\n",
              "      <td>NaN</td>\n",
              "      <td>NaN</td>\n",
              "      <td>2020-02-28</td>\n",
              "      <td>9</td>\n",
              "      <td>1777225.0</td>\n",
              "      <td>0</td>\n",
              "      <td>0</td>\n",
              "      <td>0</td>\n",
              "      <td>0</td>\n",
              "      <td>NaN</td>\n",
              "      <td>NaN</td>\n",
              "      <td>NaN</td>\n",
              "    </tr>\n",
              "    <tr>\n",
              "      <th>162</th>\n",
              "      <td>Norte</td>\n",
              "      <td>RO</td>\n",
              "      <td>NaN</td>\n",
              "      <td>11</td>\n",
              "      <td>NaN</td>\n",
              "      <td>NaN</td>\n",
              "      <td>NaN</td>\n",
              "      <td>2020-02-29</td>\n",
              "      <td>9</td>\n",
              "      <td>1777225.0</td>\n",
              "      <td>0</td>\n",
              "      <td>0</td>\n",
              "      <td>0</td>\n",
              "      <td>0</td>\n",
              "      <td>NaN</td>\n",
              "      <td>NaN</td>\n",
              "      <td>NaN</td>\n",
              "    </tr>\n",
              "    <tr>\n",
              "      <th>...</th>\n",
              "      <td>...</td>\n",
              "      <td>...</td>\n",
              "      <td>...</td>\n",
              "      <td>...</td>\n",
              "      <td>...</td>\n",
              "      <td>...</td>\n",
              "      <td>...</td>\n",
              "      <td>...</td>\n",
              "      <td>...</td>\n",
              "      <td>...</td>\n",
              "      <td>...</td>\n",
              "      <td>...</td>\n",
              "      <td>...</td>\n",
              "      <td>...</td>\n",
              "      <td>...</td>\n",
              "      <td>...</td>\n",
              "      <td>...</td>\n",
              "    </tr>\n",
              "    <tr>\n",
              "      <th>859702</th>\n",
              "      <td>Centro-Oeste</td>\n",
              "      <td>DF</td>\n",
              "      <td>Brasília</td>\n",
              "      <td>53</td>\n",
              "      <td>530010.0</td>\n",
              "      <td>53001.0</td>\n",
              "      <td>DISTRITO FEDERAL</td>\n",
              "      <td>2020-12-27</td>\n",
              "      <td>53</td>\n",
              "      <td>3015268.0</td>\n",
              "      <td>248543</td>\n",
              "      <td>615</td>\n",
              "      <td>4201</td>\n",
              "      <td>3</td>\n",
              "      <td>NaN</td>\n",
              "      <td>NaN</td>\n",
              "      <td>1.0</td>\n",
              "    </tr>\n",
              "    <tr>\n",
              "      <th>859703</th>\n",
              "      <td>Centro-Oeste</td>\n",
              "      <td>DF</td>\n",
              "      <td>Brasília</td>\n",
              "      <td>53</td>\n",
              "      <td>530010.0</td>\n",
              "      <td>53001.0</td>\n",
              "      <td>DISTRITO FEDERAL</td>\n",
              "      <td>2020-12-28</td>\n",
              "      <td>53</td>\n",
              "      <td>3015268.0</td>\n",
              "      <td>249736</td>\n",
              "      <td>1193</td>\n",
              "      <td>4223</td>\n",
              "      <td>22</td>\n",
              "      <td>NaN</td>\n",
              "      <td>NaN</td>\n",
              "      <td>1.0</td>\n",
              "    </tr>\n",
              "    <tr>\n",
              "      <th>859704</th>\n",
              "      <td>Centro-Oeste</td>\n",
              "      <td>DF</td>\n",
              "      <td>Brasília</td>\n",
              "      <td>53</td>\n",
              "      <td>530010.0</td>\n",
              "      <td>53001.0</td>\n",
              "      <td>DISTRITO FEDERAL</td>\n",
              "      <td>2020-12-29</td>\n",
              "      <td>53</td>\n",
              "      <td>3015268.0</td>\n",
              "      <td>250457</td>\n",
              "      <td>721</td>\n",
              "      <td>4241</td>\n",
              "      <td>18</td>\n",
              "      <td>NaN</td>\n",
              "      <td>NaN</td>\n",
              "      <td>1.0</td>\n",
              "    </tr>\n",
              "    <tr>\n",
              "      <th>859705</th>\n",
              "      <td>Centro-Oeste</td>\n",
              "      <td>DF</td>\n",
              "      <td>Brasília</td>\n",
              "      <td>53</td>\n",
              "      <td>530010.0</td>\n",
              "      <td>53001.0</td>\n",
              "      <td>DISTRITO FEDERAL</td>\n",
              "      <td>2020-12-30</td>\n",
              "      <td>53</td>\n",
              "      <td>3015268.0</td>\n",
              "      <td>251135</td>\n",
              "      <td>678</td>\n",
              "      <td>4248</td>\n",
              "      <td>7</td>\n",
              "      <td>NaN</td>\n",
              "      <td>NaN</td>\n",
              "      <td>1.0</td>\n",
              "    </tr>\n",
              "    <tr>\n",
              "      <th>859706</th>\n",
              "      <td>Centro-Oeste</td>\n",
              "      <td>DF</td>\n",
              "      <td>Brasília</td>\n",
              "      <td>53</td>\n",
              "      <td>530010.0</td>\n",
              "      <td>53001.0</td>\n",
              "      <td>DISTRITO FEDERAL</td>\n",
              "      <td>2020-12-31</td>\n",
              "      <td>53</td>\n",
              "      <td>3015268.0</td>\n",
              "      <td>251701</td>\n",
              "      <td>566</td>\n",
              "      <td>4259</td>\n",
              "      <td>11</td>\n",
              "      <td>NaN</td>\n",
              "      <td>NaN</td>\n",
              "      <td>1.0</td>\n",
              "    </tr>\n",
              "  </tbody>\n",
              "</table>\n",
              "<p>1573877 rows × 17 columns</p>\n",
              "</div>\n",
              "      <button class=\"colab-df-convert\" onclick=\"convertToInteractive('df-cd045ff8-b4a0-4258-9e7f-64a215161a8b')\"\n",
              "              title=\"Convert this dataframe to an interactive table.\"\n",
              "              style=\"display:none;\">\n",
              "        \n",
              "  <svg xmlns=\"http://www.w3.org/2000/svg\" height=\"24px\"viewBox=\"0 0 24 24\"\n",
              "       width=\"24px\">\n",
              "    <path d=\"M0 0h24v24H0V0z\" fill=\"none\"/>\n",
              "    <path d=\"M18.56 5.44l.94 2.06.94-2.06 2.06-.94-2.06-.94-.94-2.06-.94 2.06-2.06.94zm-11 1L8.5 8.5l.94-2.06 2.06-.94-2.06-.94L8.5 2.5l-.94 2.06-2.06.94zm10 10l.94 2.06.94-2.06 2.06-.94-2.06-.94-.94-2.06-.94 2.06-2.06.94z\"/><path d=\"M17.41 7.96l-1.37-1.37c-.4-.4-.92-.59-1.43-.59-.52 0-1.04.2-1.43.59L10.3 9.45l-7.72 7.72c-.78.78-.78 2.05 0 2.83L4 21.41c.39.39.9.59 1.41.59.51 0 1.02-.2 1.41-.59l7.78-7.78 2.81-2.81c.8-.78.8-2.07 0-2.86zM5.41 20L4 18.59l7.72-7.72 1.47 1.35L5.41 20z\"/>\n",
              "  </svg>\n",
              "      </button>\n",
              "      \n",
              "  <style>\n",
              "    .colab-df-container {\n",
              "      display:flex;\n",
              "      flex-wrap:wrap;\n",
              "      gap: 12px;\n",
              "    }\n",
              "\n",
              "    .colab-df-convert {\n",
              "      background-color: #E8F0FE;\n",
              "      border: none;\n",
              "      border-radius: 50%;\n",
              "      cursor: pointer;\n",
              "      display: none;\n",
              "      fill: #1967D2;\n",
              "      height: 32px;\n",
              "      padding: 0 0 0 0;\n",
              "      width: 32px;\n",
              "    }\n",
              "\n",
              "    .colab-df-convert:hover {\n",
              "      background-color: #E2EBFA;\n",
              "      box-shadow: 0px 1px 2px rgba(60, 64, 67, 0.3), 0px 1px 3px 1px rgba(60, 64, 67, 0.15);\n",
              "      fill: #174EA6;\n",
              "    }\n",
              "\n",
              "    [theme=dark] .colab-df-convert {\n",
              "      background-color: #3B4455;\n",
              "      fill: #D2E3FC;\n",
              "    }\n",
              "\n",
              "    [theme=dark] .colab-df-convert:hover {\n",
              "      background-color: #434B5C;\n",
              "      box-shadow: 0px 1px 3px 1px rgba(0, 0, 0, 0.15);\n",
              "      filter: drop-shadow(0px 1px 2px rgba(0, 0, 0, 0.3));\n",
              "      fill: #FFFFFF;\n",
              "    }\n",
              "  </style>\n",
              "\n",
              "      <script>\n",
              "        const buttonEl =\n",
              "          document.querySelector('#df-cd045ff8-b4a0-4258-9e7f-64a215161a8b button.colab-df-convert');\n",
              "        buttonEl.style.display =\n",
              "          google.colab.kernel.accessAllowed ? 'block' : 'none';\n",
              "\n",
              "        async function convertToInteractive(key) {\n",
              "          const element = document.querySelector('#df-cd045ff8-b4a0-4258-9e7f-64a215161a8b');\n",
              "          const dataTable =\n",
              "            await google.colab.kernel.invokeFunction('convertToInteractive',\n",
              "                                                     [key], {});\n",
              "          if (!dataTable) return;\n",
              "\n",
              "          const docLinkHtml = 'Like what you see? Visit the ' +\n",
              "            '<a target=\"_blank\" href=https://colab.research.google.com/notebooks/data_table.ipynb>data table notebook</a>'\n",
              "            + ' to learn more about interactive tables.';\n",
              "          element.innerHTML = '';\n",
              "          dataTable['output_type'] = 'display_data';\n",
              "          await google.colab.output.renderOutput(dataTable, element);\n",
              "          const docLink = document.createElement('div');\n",
              "          docLink.innerHTML = docLinkHtml;\n",
              "          element.appendChild(docLink);\n",
              "        }\n",
              "      </script>\n",
              "    </div>\n",
              "  </div>\n",
              "  "
            ]
          },
          "metadata": {},
          "execution_count": 207
        }
      ],
      "source": [
        "RegioesBrasil2020"
      ]
    },
    {
      "cell_type": "markdown",
      "source": [
        "# Regiões do Brasil em 2021"
      ],
      "metadata": {
        "id": "dx3fsJEYR079"
      }
    },
    {
      "cell_type": "code",
      "execution_count": 208,
      "metadata": {
        "colab": {
          "base_uri": "https://localhost:8080/",
          "height": 661
        },
        "id": "23cG_LVnH9yc",
        "outputId": "6b5a56f5-e534-4ed9-9721-6e6de44f6b62"
      },
      "outputs": [
        {
          "output_type": "execute_result",
          "data": {
            "text/plain": [
              "               regiao estado municipio  coduf    codmun  codRegiaoSaude  \\\n",
              "181             Norte     RO       NaN     11       NaN             NaN   \n",
              "182             Norte     RO       NaN     11       NaN             NaN   \n",
              "183             Norte     RO       NaN     11       NaN             NaN   \n",
              "184             Norte     RO       NaN     11       NaN             NaN   \n",
              "185             Norte     RO       NaN     11       NaN             NaN   \n",
              "...               ...    ...       ...    ...       ...             ...   \n",
              "1033891  Centro-Oeste     DF  Brasília     53  530010.0         53001.0   \n",
              "1033892  Centro-Oeste     DF  Brasília     53  530010.0         53001.0   \n",
              "1033893  Centro-Oeste     DF  Brasília     53  530010.0         53001.0   \n",
              "1033894  Centro-Oeste     DF  Brasília     53  530010.0         53001.0   \n",
              "1033895  Centro-Oeste     DF  Brasília     53  530010.0         53001.0   \n",
              "\n",
              "          nomeRegiaoSaude        data  semanaEpi  populacaoTCU2019  \\\n",
              "181                   NaN  2021-01-01         53         1777225.0   \n",
              "182                   NaN  2021-01-02         53         1777225.0   \n",
              "183                   NaN  2021-01-03          1         1777225.0   \n",
              "184                   NaN  2021-01-04          1         1777225.0   \n",
              "185                   NaN  2021-01-05          1         1777225.0   \n",
              "...                   ...         ...        ...               ...   \n",
              "1033891  DISTRITO FEDERAL  2021-12-27         52         3015268.0   \n",
              "1033892  DISTRITO FEDERAL  2021-12-28         52         3015268.0   \n",
              "1033893  DISTRITO FEDERAL  2021-12-29         52         3015268.0   \n",
              "1033894  DISTRITO FEDERAL  2021-12-30         52         3015268.0   \n",
              "1033895  DISTRITO FEDERAL  2021-12-31         52         3015268.0   \n",
              "\n",
              "         casosAcumulado  casosNovos  obitosAcumulado  obitosNovos  \\\n",
              "181             95999.0         270             1822            5   \n",
              "182             96433.0         434             1825            3   \n",
              "183             96906.0         473             1832            7   \n",
              "184             97197.0         291             1840            8   \n",
              "185             97854.0         657             1852           12   \n",
              "...                 ...         ...              ...          ...   \n",
              "1033891        519103.0         225            11100            5   \n",
              "1033892        519196.0          93            11104            4   \n",
              "1033893        519346.0         150            11105            1   \n",
              "1033894        519546.0         200            11107            2   \n",
              "1033895        519811.0         265            11108            1   \n",
              "\n",
              "         Recuperadosnovos  emAcompanhamentoNovos  interior/metropolitana  \n",
              "181                   NaN                    NaN                     NaN  \n",
              "182                   NaN                    NaN                     NaN  \n",
              "183                   NaN                    NaN                     NaN  \n",
              "184                   NaN                    NaN                     NaN  \n",
              "185                   NaN                    NaN                     NaN  \n",
              "...                   ...                    ...                     ...  \n",
              "1033891               NaN                    NaN                     1.0  \n",
              "1033892               NaN                    NaN                     1.0  \n",
              "1033893               NaN                    NaN                     1.0  \n",
              "1033894               NaN                    NaN                     1.0  \n",
              "1033895               NaN                    NaN                     1.0  \n",
              "\n",
              "[2050570 rows x 17 columns]"
            ],
            "text/html": [
              "\n",
              "  <div id=\"df-91235553-c6df-433a-bc44-76e4b878fd8c\">\n",
              "    <div class=\"colab-df-container\">\n",
              "      <div>\n",
              "<style scoped>\n",
              "    .dataframe tbody tr th:only-of-type {\n",
              "        vertical-align: middle;\n",
              "    }\n",
              "\n",
              "    .dataframe tbody tr th {\n",
              "        vertical-align: top;\n",
              "    }\n",
              "\n",
              "    .dataframe thead th {\n",
              "        text-align: right;\n",
              "    }\n",
              "</style>\n",
              "<table border=\"1\" class=\"dataframe\">\n",
              "  <thead>\n",
              "    <tr style=\"text-align: right;\">\n",
              "      <th></th>\n",
              "      <th>regiao</th>\n",
              "      <th>estado</th>\n",
              "      <th>municipio</th>\n",
              "      <th>coduf</th>\n",
              "      <th>codmun</th>\n",
              "      <th>codRegiaoSaude</th>\n",
              "      <th>nomeRegiaoSaude</th>\n",
              "      <th>data</th>\n",
              "      <th>semanaEpi</th>\n",
              "      <th>populacaoTCU2019</th>\n",
              "      <th>casosAcumulado</th>\n",
              "      <th>casosNovos</th>\n",
              "      <th>obitosAcumulado</th>\n",
              "      <th>obitosNovos</th>\n",
              "      <th>Recuperadosnovos</th>\n",
              "      <th>emAcompanhamentoNovos</th>\n",
              "      <th>interior/metropolitana</th>\n",
              "    </tr>\n",
              "  </thead>\n",
              "  <tbody>\n",
              "    <tr>\n",
              "      <th>181</th>\n",
              "      <td>Norte</td>\n",
              "      <td>RO</td>\n",
              "      <td>NaN</td>\n",
              "      <td>11</td>\n",
              "      <td>NaN</td>\n",
              "      <td>NaN</td>\n",
              "      <td>NaN</td>\n",
              "      <td>2021-01-01</td>\n",
              "      <td>53</td>\n",
              "      <td>1777225.0</td>\n",
              "      <td>95999.0</td>\n",
              "      <td>270</td>\n",
              "      <td>1822</td>\n",
              "      <td>5</td>\n",
              "      <td>NaN</td>\n",
              "      <td>NaN</td>\n",
              "      <td>NaN</td>\n",
              "    </tr>\n",
              "    <tr>\n",
              "      <th>182</th>\n",
              "      <td>Norte</td>\n",
              "      <td>RO</td>\n",
              "      <td>NaN</td>\n",
              "      <td>11</td>\n",
              "      <td>NaN</td>\n",
              "      <td>NaN</td>\n",
              "      <td>NaN</td>\n",
              "      <td>2021-01-02</td>\n",
              "      <td>53</td>\n",
              "      <td>1777225.0</td>\n",
              "      <td>96433.0</td>\n",
              "      <td>434</td>\n",
              "      <td>1825</td>\n",
              "      <td>3</td>\n",
              "      <td>NaN</td>\n",
              "      <td>NaN</td>\n",
              "      <td>NaN</td>\n",
              "    </tr>\n",
              "    <tr>\n",
              "      <th>183</th>\n",
              "      <td>Norte</td>\n",
              "      <td>RO</td>\n",
              "      <td>NaN</td>\n",
              "      <td>11</td>\n",
              "      <td>NaN</td>\n",
              "      <td>NaN</td>\n",
              "      <td>NaN</td>\n",
              "      <td>2021-01-03</td>\n",
              "      <td>1</td>\n",
              "      <td>1777225.0</td>\n",
              "      <td>96906.0</td>\n",
              "      <td>473</td>\n",
              "      <td>1832</td>\n",
              "      <td>7</td>\n",
              "      <td>NaN</td>\n",
              "      <td>NaN</td>\n",
              "      <td>NaN</td>\n",
              "    </tr>\n",
              "    <tr>\n",
              "      <th>184</th>\n",
              "      <td>Norte</td>\n",
              "      <td>RO</td>\n",
              "      <td>NaN</td>\n",
              "      <td>11</td>\n",
              "      <td>NaN</td>\n",
              "      <td>NaN</td>\n",
              "      <td>NaN</td>\n",
              "      <td>2021-01-04</td>\n",
              "      <td>1</td>\n",
              "      <td>1777225.0</td>\n",
              "      <td>97197.0</td>\n",
              "      <td>291</td>\n",
              "      <td>1840</td>\n",
              "      <td>8</td>\n",
              "      <td>NaN</td>\n",
              "      <td>NaN</td>\n",
              "      <td>NaN</td>\n",
              "    </tr>\n",
              "    <tr>\n",
              "      <th>185</th>\n",
              "      <td>Norte</td>\n",
              "      <td>RO</td>\n",
              "      <td>NaN</td>\n",
              "      <td>11</td>\n",
              "      <td>NaN</td>\n",
              "      <td>NaN</td>\n",
              "      <td>NaN</td>\n",
              "      <td>2021-01-05</td>\n",
              "      <td>1</td>\n",
              "      <td>1777225.0</td>\n",
              "      <td>97854.0</td>\n",
              "      <td>657</td>\n",
              "      <td>1852</td>\n",
              "      <td>12</td>\n",
              "      <td>NaN</td>\n",
              "      <td>NaN</td>\n",
              "      <td>NaN</td>\n",
              "    </tr>\n",
              "    <tr>\n",
              "      <th>...</th>\n",
              "      <td>...</td>\n",
              "      <td>...</td>\n",
              "      <td>...</td>\n",
              "      <td>...</td>\n",
              "      <td>...</td>\n",
              "      <td>...</td>\n",
              "      <td>...</td>\n",
              "      <td>...</td>\n",
              "      <td>...</td>\n",
              "      <td>...</td>\n",
              "      <td>...</td>\n",
              "      <td>...</td>\n",
              "      <td>...</td>\n",
              "      <td>...</td>\n",
              "      <td>...</td>\n",
              "      <td>...</td>\n",
              "      <td>...</td>\n",
              "    </tr>\n",
              "    <tr>\n",
              "      <th>1033891</th>\n",
              "      <td>Centro-Oeste</td>\n",
              "      <td>DF</td>\n",
              "      <td>Brasília</td>\n",
              "      <td>53</td>\n",
              "      <td>530010.0</td>\n",
              "      <td>53001.0</td>\n",
              "      <td>DISTRITO FEDERAL</td>\n",
              "      <td>2021-12-27</td>\n",
              "      <td>52</td>\n",
              "      <td>3015268.0</td>\n",
              "      <td>519103.0</td>\n",
              "      <td>225</td>\n",
              "      <td>11100</td>\n",
              "      <td>5</td>\n",
              "      <td>NaN</td>\n",
              "      <td>NaN</td>\n",
              "      <td>1.0</td>\n",
              "    </tr>\n",
              "    <tr>\n",
              "      <th>1033892</th>\n",
              "      <td>Centro-Oeste</td>\n",
              "      <td>DF</td>\n",
              "      <td>Brasília</td>\n",
              "      <td>53</td>\n",
              "      <td>530010.0</td>\n",
              "      <td>53001.0</td>\n",
              "      <td>DISTRITO FEDERAL</td>\n",
              "      <td>2021-12-28</td>\n",
              "      <td>52</td>\n",
              "      <td>3015268.0</td>\n",
              "      <td>519196.0</td>\n",
              "      <td>93</td>\n",
              "      <td>11104</td>\n",
              "      <td>4</td>\n",
              "      <td>NaN</td>\n",
              "      <td>NaN</td>\n",
              "      <td>1.0</td>\n",
              "    </tr>\n",
              "    <tr>\n",
              "      <th>1033893</th>\n",
              "      <td>Centro-Oeste</td>\n",
              "      <td>DF</td>\n",
              "      <td>Brasília</td>\n",
              "      <td>53</td>\n",
              "      <td>530010.0</td>\n",
              "      <td>53001.0</td>\n",
              "      <td>DISTRITO FEDERAL</td>\n",
              "      <td>2021-12-29</td>\n",
              "      <td>52</td>\n",
              "      <td>3015268.0</td>\n",
              "      <td>519346.0</td>\n",
              "      <td>150</td>\n",
              "      <td>11105</td>\n",
              "      <td>1</td>\n",
              "      <td>NaN</td>\n",
              "      <td>NaN</td>\n",
              "      <td>1.0</td>\n",
              "    </tr>\n",
              "    <tr>\n",
              "      <th>1033894</th>\n",
              "      <td>Centro-Oeste</td>\n",
              "      <td>DF</td>\n",
              "      <td>Brasília</td>\n",
              "      <td>53</td>\n",
              "      <td>530010.0</td>\n",
              "      <td>53001.0</td>\n",
              "      <td>DISTRITO FEDERAL</td>\n",
              "      <td>2021-12-30</td>\n",
              "      <td>52</td>\n",
              "      <td>3015268.0</td>\n",
              "      <td>519546.0</td>\n",
              "      <td>200</td>\n",
              "      <td>11107</td>\n",
              "      <td>2</td>\n",
              "      <td>NaN</td>\n",
              "      <td>NaN</td>\n",
              "      <td>1.0</td>\n",
              "    </tr>\n",
              "    <tr>\n",
              "      <th>1033895</th>\n",
              "      <td>Centro-Oeste</td>\n",
              "      <td>DF</td>\n",
              "      <td>Brasília</td>\n",
              "      <td>53</td>\n",
              "      <td>530010.0</td>\n",
              "      <td>53001.0</td>\n",
              "      <td>DISTRITO FEDERAL</td>\n",
              "      <td>2021-12-31</td>\n",
              "      <td>52</td>\n",
              "      <td>3015268.0</td>\n",
              "      <td>519811.0</td>\n",
              "      <td>265</td>\n",
              "      <td>11108</td>\n",
              "      <td>1</td>\n",
              "      <td>NaN</td>\n",
              "      <td>NaN</td>\n",
              "      <td>1.0</td>\n",
              "    </tr>\n",
              "  </tbody>\n",
              "</table>\n",
              "<p>2050570 rows × 17 columns</p>\n",
              "</div>\n",
              "      <button class=\"colab-df-convert\" onclick=\"convertToInteractive('df-91235553-c6df-433a-bc44-76e4b878fd8c')\"\n",
              "              title=\"Convert this dataframe to an interactive table.\"\n",
              "              style=\"display:none;\">\n",
              "        \n",
              "  <svg xmlns=\"http://www.w3.org/2000/svg\" height=\"24px\"viewBox=\"0 0 24 24\"\n",
              "       width=\"24px\">\n",
              "    <path d=\"M0 0h24v24H0V0z\" fill=\"none\"/>\n",
              "    <path d=\"M18.56 5.44l.94 2.06.94-2.06 2.06-.94-2.06-.94-.94-2.06-.94 2.06-2.06.94zm-11 1L8.5 8.5l.94-2.06 2.06-.94-2.06-.94L8.5 2.5l-.94 2.06-2.06.94zm10 10l.94 2.06.94-2.06 2.06-.94-2.06-.94-.94-2.06-.94 2.06-2.06.94z\"/><path d=\"M17.41 7.96l-1.37-1.37c-.4-.4-.92-.59-1.43-.59-.52 0-1.04.2-1.43.59L10.3 9.45l-7.72 7.72c-.78.78-.78 2.05 0 2.83L4 21.41c.39.39.9.59 1.41.59.51 0 1.02-.2 1.41-.59l7.78-7.78 2.81-2.81c.8-.78.8-2.07 0-2.86zM5.41 20L4 18.59l7.72-7.72 1.47 1.35L5.41 20z\"/>\n",
              "  </svg>\n",
              "      </button>\n",
              "      \n",
              "  <style>\n",
              "    .colab-df-container {\n",
              "      display:flex;\n",
              "      flex-wrap:wrap;\n",
              "      gap: 12px;\n",
              "    }\n",
              "\n",
              "    .colab-df-convert {\n",
              "      background-color: #E8F0FE;\n",
              "      border: none;\n",
              "      border-radius: 50%;\n",
              "      cursor: pointer;\n",
              "      display: none;\n",
              "      fill: #1967D2;\n",
              "      height: 32px;\n",
              "      padding: 0 0 0 0;\n",
              "      width: 32px;\n",
              "    }\n",
              "\n",
              "    .colab-df-convert:hover {\n",
              "      background-color: #E2EBFA;\n",
              "      box-shadow: 0px 1px 2px rgba(60, 64, 67, 0.3), 0px 1px 3px 1px rgba(60, 64, 67, 0.15);\n",
              "      fill: #174EA6;\n",
              "    }\n",
              "\n",
              "    [theme=dark] .colab-df-convert {\n",
              "      background-color: #3B4455;\n",
              "      fill: #D2E3FC;\n",
              "    }\n",
              "\n",
              "    [theme=dark] .colab-df-convert:hover {\n",
              "      background-color: #434B5C;\n",
              "      box-shadow: 0px 1px 3px 1px rgba(0, 0, 0, 0.15);\n",
              "      filter: drop-shadow(0px 1px 2px rgba(0, 0, 0, 0.3));\n",
              "      fill: #FFFFFF;\n",
              "    }\n",
              "  </style>\n",
              "\n",
              "      <script>\n",
              "        const buttonEl =\n",
              "          document.querySelector('#df-91235553-c6df-433a-bc44-76e4b878fd8c button.colab-df-convert');\n",
              "        buttonEl.style.display =\n",
              "          google.colab.kernel.accessAllowed ? 'block' : 'none';\n",
              "\n",
              "        async function convertToInteractive(key) {\n",
              "          const element = document.querySelector('#df-91235553-c6df-433a-bc44-76e4b878fd8c');\n",
              "          const dataTable =\n",
              "            await google.colab.kernel.invokeFunction('convertToInteractive',\n",
              "                                                     [key], {});\n",
              "          if (!dataTable) return;\n",
              "\n",
              "          const docLinkHtml = 'Like what you see? Visit the ' +\n",
              "            '<a target=\"_blank\" href=https://colab.research.google.com/notebooks/data_table.ipynb>data table notebook</a>'\n",
              "            + ' to learn more about interactive tables.';\n",
              "          element.innerHTML = '';\n",
              "          dataTable['output_type'] = 'display_data';\n",
              "          await google.colab.output.renderOutput(dataTable, element);\n",
              "          const docLink = document.createElement('div');\n",
              "          docLink.innerHTML = docLinkHtml;\n",
              "          element.appendChild(docLink);\n",
              "        }\n",
              "      </script>\n",
              "    </div>\n",
              "  </div>\n",
              "  "
            ]
          },
          "metadata": {},
          "execution_count": 208
        }
      ],
      "source": [
        "RegioesBrasil2021"
      ]
    },
    {
      "cell_type": "markdown",
      "source": [
        "# Regiões do Brasil em 2022"
      ],
      "metadata": {
        "id": "IkiyVkjaR4le"
      }
    },
    {
      "cell_type": "code",
      "execution_count": 209,
      "metadata": {
        "colab": {
          "base_uri": "https://localhost:8080/",
          "height": 661
        },
        "id": "EU2Sg2GAH9yc",
        "outputId": "bdcdbb7c-002b-4341-97f8-e16d2022da88"
      },
      "outputs": [
        {
          "output_type": "execute_result",
          "data": {
            "text/plain": [
              "              regiao estado municipio  coduf    codmun  codRegiaoSaude  \\\n",
              "154            Norte     RO       NaN     11       NaN             NaN   \n",
              "155            Norte     RO       NaN     11       NaN             NaN   \n",
              "156            Norte     RO       NaN     11       NaN             NaN   \n",
              "157            Norte     RO       NaN     11       NaN             NaN   \n",
              "158            Norte     RO       NaN     11       NaN             NaN   \n",
              "...              ...    ...       ...    ...       ...             ...   \n",
              "865321  Centro-Oeste     DF  Brasília     53  530010.0         53001.0   \n",
              "865322  Centro-Oeste     DF  Brasília     53  530010.0         53001.0   \n",
              "865323  Centro-Oeste     DF  Brasília     53  530010.0         53001.0   \n",
              "865324  Centro-Oeste     DF  Brasília     53  530010.0         53001.0   \n",
              "865325  Centro-Oeste     DF  Brasília     53  530010.0         53001.0   \n",
              "\n",
              "         nomeRegiaoSaude        data  semanaEpi  populacaoTCU2019  \\\n",
              "154                  NaN  2022-01-01         52         1777225.0   \n",
              "155                  NaN  2022-01-02          1         1777225.0   \n",
              "156                  NaN  2022-01-03          1         1777225.0   \n",
              "157                  NaN  2022-01-04          1         1777225.0   \n",
              "158                  NaN  2022-01-05          1         1777225.0   \n",
              "...                  ...         ...        ...               ...   \n",
              "865321  DISTRITO FEDERAL  2022-05-30         22         3015268.0   \n",
              "865322  DISTRITO FEDERAL  2022-05-31         22         3015268.0   \n",
              "865323  DISTRITO FEDERAL  2022-06-01         22         3015268.0   \n",
              "865324  DISTRITO FEDERAL  2022-06-02         22         3015268.0   \n",
              "865325  DISTRITO FEDERAL  2022-06-03         22         3015268.0   \n",
              "\n",
              "        casosAcumulado  casosNovos  obitosAcumulado  obitosNovos  \\\n",
              "154           284660.0          34             6737            3   \n",
              "155           284692.0          32             6739            2   \n",
              "156           284783.0          91             6742            3   \n",
              "157           285037.0         254             6745            3   \n",
              "158           285269.0         232             6748            3   \n",
              "...                ...         ...              ...          ...   \n",
              "865321        708552.0        2604            11691            1   \n",
              "865322        710694.0        2142            11691            0   \n",
              "865323        712968.0        2274            11692            1   \n",
              "865324        715938.0        2970            11692            0   \n",
              "865325        718242.0        2304            11692            0   \n",
              "\n",
              "        Recuperadosnovos  emAcompanhamentoNovos  interior/metropolitana  \n",
              "154                  NaN                    NaN                     NaN  \n",
              "155                  NaN                    NaN                     NaN  \n",
              "156                  NaN                    NaN                     NaN  \n",
              "157                  NaN                    NaN                     NaN  \n",
              "158                  NaN                    NaN                     NaN  \n",
              "...                  ...                    ...                     ...  \n",
              "865321               NaN                    NaN                     1.0  \n",
              "865322               NaN                    NaN                     1.0  \n",
              "865323               NaN                    NaN                     1.0  \n",
              "865324               NaN                    NaN                     1.0  \n",
              "865325               NaN                    NaN                     1.0  \n",
              "\n",
              "[865172 rows x 17 columns]"
            ],
            "text/html": [
              "\n",
              "  <div id=\"df-5c612b36-1214-4407-a58d-9c7b0d0c0e02\">\n",
              "    <div class=\"colab-df-container\">\n",
              "      <div>\n",
              "<style scoped>\n",
              "    .dataframe tbody tr th:only-of-type {\n",
              "        vertical-align: middle;\n",
              "    }\n",
              "\n",
              "    .dataframe tbody tr th {\n",
              "        vertical-align: top;\n",
              "    }\n",
              "\n",
              "    .dataframe thead th {\n",
              "        text-align: right;\n",
              "    }\n",
              "</style>\n",
              "<table border=\"1\" class=\"dataframe\">\n",
              "  <thead>\n",
              "    <tr style=\"text-align: right;\">\n",
              "      <th></th>\n",
              "      <th>regiao</th>\n",
              "      <th>estado</th>\n",
              "      <th>municipio</th>\n",
              "      <th>coduf</th>\n",
              "      <th>codmun</th>\n",
              "      <th>codRegiaoSaude</th>\n",
              "      <th>nomeRegiaoSaude</th>\n",
              "      <th>data</th>\n",
              "      <th>semanaEpi</th>\n",
              "      <th>populacaoTCU2019</th>\n",
              "      <th>casosAcumulado</th>\n",
              "      <th>casosNovos</th>\n",
              "      <th>obitosAcumulado</th>\n",
              "      <th>obitosNovos</th>\n",
              "      <th>Recuperadosnovos</th>\n",
              "      <th>emAcompanhamentoNovos</th>\n",
              "      <th>interior/metropolitana</th>\n",
              "    </tr>\n",
              "  </thead>\n",
              "  <tbody>\n",
              "    <tr>\n",
              "      <th>154</th>\n",
              "      <td>Norte</td>\n",
              "      <td>RO</td>\n",
              "      <td>NaN</td>\n",
              "      <td>11</td>\n",
              "      <td>NaN</td>\n",
              "      <td>NaN</td>\n",
              "      <td>NaN</td>\n",
              "      <td>2022-01-01</td>\n",
              "      <td>52</td>\n",
              "      <td>1777225.0</td>\n",
              "      <td>284660.0</td>\n",
              "      <td>34</td>\n",
              "      <td>6737</td>\n",
              "      <td>3</td>\n",
              "      <td>NaN</td>\n",
              "      <td>NaN</td>\n",
              "      <td>NaN</td>\n",
              "    </tr>\n",
              "    <tr>\n",
              "      <th>155</th>\n",
              "      <td>Norte</td>\n",
              "      <td>RO</td>\n",
              "      <td>NaN</td>\n",
              "      <td>11</td>\n",
              "      <td>NaN</td>\n",
              "      <td>NaN</td>\n",
              "      <td>NaN</td>\n",
              "      <td>2022-01-02</td>\n",
              "      <td>1</td>\n",
              "      <td>1777225.0</td>\n",
              "      <td>284692.0</td>\n",
              "      <td>32</td>\n",
              "      <td>6739</td>\n",
              "      <td>2</td>\n",
              "      <td>NaN</td>\n",
              "      <td>NaN</td>\n",
              "      <td>NaN</td>\n",
              "    </tr>\n",
              "    <tr>\n",
              "      <th>156</th>\n",
              "      <td>Norte</td>\n",
              "      <td>RO</td>\n",
              "      <td>NaN</td>\n",
              "      <td>11</td>\n",
              "      <td>NaN</td>\n",
              "      <td>NaN</td>\n",
              "      <td>NaN</td>\n",
              "      <td>2022-01-03</td>\n",
              "      <td>1</td>\n",
              "      <td>1777225.0</td>\n",
              "      <td>284783.0</td>\n",
              "      <td>91</td>\n",
              "      <td>6742</td>\n",
              "      <td>3</td>\n",
              "      <td>NaN</td>\n",
              "      <td>NaN</td>\n",
              "      <td>NaN</td>\n",
              "    </tr>\n",
              "    <tr>\n",
              "      <th>157</th>\n",
              "      <td>Norte</td>\n",
              "      <td>RO</td>\n",
              "      <td>NaN</td>\n",
              "      <td>11</td>\n",
              "      <td>NaN</td>\n",
              "      <td>NaN</td>\n",
              "      <td>NaN</td>\n",
              "      <td>2022-01-04</td>\n",
              "      <td>1</td>\n",
              "      <td>1777225.0</td>\n",
              "      <td>285037.0</td>\n",
              "      <td>254</td>\n",
              "      <td>6745</td>\n",
              "      <td>3</td>\n",
              "      <td>NaN</td>\n",
              "      <td>NaN</td>\n",
              "      <td>NaN</td>\n",
              "    </tr>\n",
              "    <tr>\n",
              "      <th>158</th>\n",
              "      <td>Norte</td>\n",
              "      <td>RO</td>\n",
              "      <td>NaN</td>\n",
              "      <td>11</td>\n",
              "      <td>NaN</td>\n",
              "      <td>NaN</td>\n",
              "      <td>NaN</td>\n",
              "      <td>2022-01-05</td>\n",
              "      <td>1</td>\n",
              "      <td>1777225.0</td>\n",
              "      <td>285269.0</td>\n",
              "      <td>232</td>\n",
              "      <td>6748</td>\n",
              "      <td>3</td>\n",
              "      <td>NaN</td>\n",
              "      <td>NaN</td>\n",
              "      <td>NaN</td>\n",
              "    </tr>\n",
              "    <tr>\n",
              "      <th>...</th>\n",
              "      <td>...</td>\n",
              "      <td>...</td>\n",
              "      <td>...</td>\n",
              "      <td>...</td>\n",
              "      <td>...</td>\n",
              "      <td>...</td>\n",
              "      <td>...</td>\n",
              "      <td>...</td>\n",
              "      <td>...</td>\n",
              "      <td>...</td>\n",
              "      <td>...</td>\n",
              "      <td>...</td>\n",
              "      <td>...</td>\n",
              "      <td>...</td>\n",
              "      <td>...</td>\n",
              "      <td>...</td>\n",
              "      <td>...</td>\n",
              "    </tr>\n",
              "    <tr>\n",
              "      <th>865321</th>\n",
              "      <td>Centro-Oeste</td>\n",
              "      <td>DF</td>\n",
              "      <td>Brasília</td>\n",
              "      <td>53</td>\n",
              "      <td>530010.0</td>\n",
              "      <td>53001.0</td>\n",
              "      <td>DISTRITO FEDERAL</td>\n",
              "      <td>2022-05-30</td>\n",
              "      <td>22</td>\n",
              "      <td>3015268.0</td>\n",
              "      <td>708552.0</td>\n",
              "      <td>2604</td>\n",
              "      <td>11691</td>\n",
              "      <td>1</td>\n",
              "      <td>NaN</td>\n",
              "      <td>NaN</td>\n",
              "      <td>1.0</td>\n",
              "    </tr>\n",
              "    <tr>\n",
              "      <th>865322</th>\n",
              "      <td>Centro-Oeste</td>\n",
              "      <td>DF</td>\n",
              "      <td>Brasília</td>\n",
              "      <td>53</td>\n",
              "      <td>530010.0</td>\n",
              "      <td>53001.0</td>\n",
              "      <td>DISTRITO FEDERAL</td>\n",
              "      <td>2022-05-31</td>\n",
              "      <td>22</td>\n",
              "      <td>3015268.0</td>\n",
              "      <td>710694.0</td>\n",
              "      <td>2142</td>\n",
              "      <td>11691</td>\n",
              "      <td>0</td>\n",
              "      <td>NaN</td>\n",
              "      <td>NaN</td>\n",
              "      <td>1.0</td>\n",
              "    </tr>\n",
              "    <tr>\n",
              "      <th>865323</th>\n",
              "      <td>Centro-Oeste</td>\n",
              "      <td>DF</td>\n",
              "      <td>Brasília</td>\n",
              "      <td>53</td>\n",
              "      <td>530010.0</td>\n",
              "      <td>53001.0</td>\n",
              "      <td>DISTRITO FEDERAL</td>\n",
              "      <td>2022-06-01</td>\n",
              "      <td>22</td>\n",
              "      <td>3015268.0</td>\n",
              "      <td>712968.0</td>\n",
              "      <td>2274</td>\n",
              "      <td>11692</td>\n",
              "      <td>1</td>\n",
              "      <td>NaN</td>\n",
              "      <td>NaN</td>\n",
              "      <td>1.0</td>\n",
              "    </tr>\n",
              "    <tr>\n",
              "      <th>865324</th>\n",
              "      <td>Centro-Oeste</td>\n",
              "      <td>DF</td>\n",
              "      <td>Brasília</td>\n",
              "      <td>53</td>\n",
              "      <td>530010.0</td>\n",
              "      <td>53001.0</td>\n",
              "      <td>DISTRITO FEDERAL</td>\n",
              "      <td>2022-06-02</td>\n",
              "      <td>22</td>\n",
              "      <td>3015268.0</td>\n",
              "      <td>715938.0</td>\n",
              "      <td>2970</td>\n",
              "      <td>11692</td>\n",
              "      <td>0</td>\n",
              "      <td>NaN</td>\n",
              "      <td>NaN</td>\n",
              "      <td>1.0</td>\n",
              "    </tr>\n",
              "    <tr>\n",
              "      <th>865325</th>\n",
              "      <td>Centro-Oeste</td>\n",
              "      <td>DF</td>\n",
              "      <td>Brasília</td>\n",
              "      <td>53</td>\n",
              "      <td>530010.0</td>\n",
              "      <td>53001.0</td>\n",
              "      <td>DISTRITO FEDERAL</td>\n",
              "      <td>2022-06-03</td>\n",
              "      <td>22</td>\n",
              "      <td>3015268.0</td>\n",
              "      <td>718242.0</td>\n",
              "      <td>2304</td>\n",
              "      <td>11692</td>\n",
              "      <td>0</td>\n",
              "      <td>NaN</td>\n",
              "      <td>NaN</td>\n",
              "      <td>1.0</td>\n",
              "    </tr>\n",
              "  </tbody>\n",
              "</table>\n",
              "<p>865172 rows × 17 columns</p>\n",
              "</div>\n",
              "      <button class=\"colab-df-convert\" onclick=\"convertToInteractive('df-5c612b36-1214-4407-a58d-9c7b0d0c0e02')\"\n",
              "              title=\"Convert this dataframe to an interactive table.\"\n",
              "              style=\"display:none;\">\n",
              "        \n",
              "  <svg xmlns=\"http://www.w3.org/2000/svg\" height=\"24px\"viewBox=\"0 0 24 24\"\n",
              "       width=\"24px\">\n",
              "    <path d=\"M0 0h24v24H0V0z\" fill=\"none\"/>\n",
              "    <path d=\"M18.56 5.44l.94 2.06.94-2.06 2.06-.94-2.06-.94-.94-2.06-.94 2.06-2.06.94zm-11 1L8.5 8.5l.94-2.06 2.06-.94-2.06-.94L8.5 2.5l-.94 2.06-2.06.94zm10 10l.94 2.06.94-2.06 2.06-.94-2.06-.94-.94-2.06-.94 2.06-2.06.94z\"/><path d=\"M17.41 7.96l-1.37-1.37c-.4-.4-.92-.59-1.43-.59-.52 0-1.04.2-1.43.59L10.3 9.45l-7.72 7.72c-.78.78-.78 2.05 0 2.83L4 21.41c.39.39.9.59 1.41.59.51 0 1.02-.2 1.41-.59l7.78-7.78 2.81-2.81c.8-.78.8-2.07 0-2.86zM5.41 20L4 18.59l7.72-7.72 1.47 1.35L5.41 20z\"/>\n",
              "  </svg>\n",
              "      </button>\n",
              "      \n",
              "  <style>\n",
              "    .colab-df-container {\n",
              "      display:flex;\n",
              "      flex-wrap:wrap;\n",
              "      gap: 12px;\n",
              "    }\n",
              "\n",
              "    .colab-df-convert {\n",
              "      background-color: #E8F0FE;\n",
              "      border: none;\n",
              "      border-radius: 50%;\n",
              "      cursor: pointer;\n",
              "      display: none;\n",
              "      fill: #1967D2;\n",
              "      height: 32px;\n",
              "      padding: 0 0 0 0;\n",
              "      width: 32px;\n",
              "    }\n",
              "\n",
              "    .colab-df-convert:hover {\n",
              "      background-color: #E2EBFA;\n",
              "      box-shadow: 0px 1px 2px rgba(60, 64, 67, 0.3), 0px 1px 3px 1px rgba(60, 64, 67, 0.15);\n",
              "      fill: #174EA6;\n",
              "    }\n",
              "\n",
              "    [theme=dark] .colab-df-convert {\n",
              "      background-color: #3B4455;\n",
              "      fill: #D2E3FC;\n",
              "    }\n",
              "\n",
              "    [theme=dark] .colab-df-convert:hover {\n",
              "      background-color: #434B5C;\n",
              "      box-shadow: 0px 1px 3px 1px rgba(0, 0, 0, 0.15);\n",
              "      filter: drop-shadow(0px 1px 2px rgba(0, 0, 0, 0.3));\n",
              "      fill: #FFFFFF;\n",
              "    }\n",
              "  </style>\n",
              "\n",
              "      <script>\n",
              "        const buttonEl =\n",
              "          document.querySelector('#df-5c612b36-1214-4407-a58d-9c7b0d0c0e02 button.colab-df-convert');\n",
              "        buttonEl.style.display =\n",
              "          google.colab.kernel.accessAllowed ? 'block' : 'none';\n",
              "\n",
              "        async function convertToInteractive(key) {\n",
              "          const element = document.querySelector('#df-5c612b36-1214-4407-a58d-9c7b0d0c0e02');\n",
              "          const dataTable =\n",
              "            await google.colab.kernel.invokeFunction('convertToInteractive',\n",
              "                                                     [key], {});\n",
              "          if (!dataTable) return;\n",
              "\n",
              "          const docLinkHtml = 'Like what you see? Visit the ' +\n",
              "            '<a target=\"_blank\" href=https://colab.research.google.com/notebooks/data_table.ipynb>data table notebook</a>'\n",
              "            + ' to learn more about interactive tables.';\n",
              "          element.innerHTML = '';\n",
              "          dataTable['output_type'] = 'display_data';\n",
              "          await google.colab.output.renderOutput(dataTable, element);\n",
              "          const docLink = document.createElement('div');\n",
              "          docLink.innerHTML = docLinkHtml;\n",
              "          element.appendChild(docLink);\n",
              "        }\n",
              "      </script>\n",
              "    </div>\n",
              "  </div>\n",
              "  "
            ]
          },
          "metadata": {},
          "execution_count": 209
        }
      ],
      "source": [
        "RegioesBrasil2022"
      ]
    },
    {
      "cell_type": "markdown",
      "metadata": {
        "id": "aRTa-mdhH9yc"
      },
      "source": [
        "# Contagem dos pacientes recuperados da COVID-19"
      ]
    },
    {
      "cell_type": "code",
      "execution_count": 210,
      "metadata": {
        "colab": {
          "base_uri": "https://localhost:8080/"
        },
        "id": "gGt4T-P_H9yc",
        "outputId": "2fec1864-1518-418e-e7b9-46c13dad8b00"
      },
      "outputs": [
        {
          "output_type": "stream",
          "name": "stdout",
          "text": [
            "RecuperadosNovaos: 0 0 0\n",
            "emAcompanhamentoNovos: 0 0 0\n"
          ]
        }
      ],
      "source": [
        "#Verificando se existem algum valor não nulo na coluna recuperadosnovos dos dataframes de regiões\n",
        "value1 = RegioesBrasil2022['Recuperadosnovos'].count()\n",
        "value2 = RegioesBrasil2021['Recuperadosnovos'].count()\n",
        "value3 = RegioesBrasil2020['Recuperadosnovos'].count()\n",
        "print(\"RecuperadosNovaos:\",value1, value2, value3)\n",
        "\n",
        "value1 = RegioesBrasil2022['emAcompanhamentoNovos'].count()\n",
        "value2 = RegioesBrasil2021['emAcompanhamentoNovos'].count()\n",
        "value3 = RegioesBrasil2020['emAcompanhamentoNovos'].count()\n",
        "print(\"emAcompanhamentoNovos:\",value1, value2, value3)\n"
      ]
    },
    {
      "cell_type": "markdown",
      "metadata": {
        "id": "WN1aSjmkH9yd"
      },
      "source": [
        "Apagando as colunas nulas dos dataframes de regiões"
      ]
    },
    {
      "cell_type": "code",
      "execution_count": 211,
      "metadata": {
        "id": "RxhtfVIjH9yd"
      },
      "outputs": [],
      "source": [
        "#Colunas nulas deletadas\n",
        "for i in ['Recuperadosnovos','emAcompanhamentoNovos']:\n",
        "\n",
        "  RegioesBrasil2022 = RegioesBrasil2022.drop(columns=[i])\n",
        "  RegioesBrasil2021 = RegioesBrasil2021.drop(columns=[i])\n",
        "  RegioesBrasil2020 = RegioesBrasil2020.drop(columns=[i])\n"
      ]
    },
    {
      "cell_type": "code",
      "execution_count": 212,
      "metadata": {
        "colab": {
          "base_uri": "https://localhost:8080/",
          "height": 661
        },
        "id": "WYBbkrDMH9yd",
        "outputId": "527a56bf-cc54-4097-8fc2-398ff7501cf2"
      },
      "outputs": [
        {
          "output_type": "execute_result",
          "data": {
            "text/plain": [
              "              regiao estado municipio  coduf    codmun  codRegiaoSaude  \\\n",
              "158            Norte     RO       NaN     11       NaN             NaN   \n",
              "159            Norte     RO       NaN     11       NaN             NaN   \n",
              "160            Norte     RO       NaN     11       NaN             NaN   \n",
              "161            Norte     RO       NaN     11       NaN             NaN   \n",
              "162            Norte     RO       NaN     11       NaN             NaN   \n",
              "...              ...    ...       ...    ...       ...             ...   \n",
              "859702  Centro-Oeste     DF  Brasília     53  530010.0         53001.0   \n",
              "859703  Centro-Oeste     DF  Brasília     53  530010.0         53001.0   \n",
              "859704  Centro-Oeste     DF  Brasília     53  530010.0         53001.0   \n",
              "859705  Centro-Oeste     DF  Brasília     53  530010.0         53001.0   \n",
              "859706  Centro-Oeste     DF  Brasília     53  530010.0         53001.0   \n",
              "\n",
              "         nomeRegiaoSaude        data  semanaEpi  populacaoTCU2019  \\\n",
              "158                  NaN  2020-02-25          9         1777225.0   \n",
              "159                  NaN  2020-02-26          9         1777225.0   \n",
              "160                  NaN  2020-02-27          9         1777225.0   \n",
              "161                  NaN  2020-02-28          9         1777225.0   \n",
              "162                  NaN  2020-02-29          9         1777225.0   \n",
              "...                  ...         ...        ...               ...   \n",
              "859702  DISTRITO FEDERAL  2020-12-27         53         3015268.0   \n",
              "859703  DISTRITO FEDERAL  2020-12-28         53         3015268.0   \n",
              "859704  DISTRITO FEDERAL  2020-12-29         53         3015268.0   \n",
              "859705  DISTRITO FEDERAL  2020-12-30         53         3015268.0   \n",
              "859706  DISTRITO FEDERAL  2020-12-31         53         3015268.0   \n",
              "\n",
              "        casosAcumulado  casosNovos  obitosAcumulado  obitosNovos  \\\n",
              "158                  0           0                0            0   \n",
              "159                  0           0                0            0   \n",
              "160                  0           0                0            0   \n",
              "161                  0           0                0            0   \n",
              "162                  0           0                0            0   \n",
              "...                ...         ...              ...          ...   \n",
              "859702          248543         615             4201            3   \n",
              "859703          249736        1193             4223           22   \n",
              "859704          250457         721             4241           18   \n",
              "859705          251135         678             4248            7   \n",
              "859706          251701         566             4259           11   \n",
              "\n",
              "        interior/metropolitana  \n",
              "158                        NaN  \n",
              "159                        NaN  \n",
              "160                        NaN  \n",
              "161                        NaN  \n",
              "162                        NaN  \n",
              "...                        ...  \n",
              "859702                     1.0  \n",
              "859703                     1.0  \n",
              "859704                     1.0  \n",
              "859705                     1.0  \n",
              "859706                     1.0  \n",
              "\n",
              "[1573877 rows x 15 columns]"
            ],
            "text/html": [
              "\n",
              "  <div id=\"df-4e563f10-23c6-4097-a800-a200785b92b8\">\n",
              "    <div class=\"colab-df-container\">\n",
              "      <div>\n",
              "<style scoped>\n",
              "    .dataframe tbody tr th:only-of-type {\n",
              "        vertical-align: middle;\n",
              "    }\n",
              "\n",
              "    .dataframe tbody tr th {\n",
              "        vertical-align: top;\n",
              "    }\n",
              "\n",
              "    .dataframe thead th {\n",
              "        text-align: right;\n",
              "    }\n",
              "</style>\n",
              "<table border=\"1\" class=\"dataframe\">\n",
              "  <thead>\n",
              "    <tr style=\"text-align: right;\">\n",
              "      <th></th>\n",
              "      <th>regiao</th>\n",
              "      <th>estado</th>\n",
              "      <th>municipio</th>\n",
              "      <th>coduf</th>\n",
              "      <th>codmun</th>\n",
              "      <th>codRegiaoSaude</th>\n",
              "      <th>nomeRegiaoSaude</th>\n",
              "      <th>data</th>\n",
              "      <th>semanaEpi</th>\n",
              "      <th>populacaoTCU2019</th>\n",
              "      <th>casosAcumulado</th>\n",
              "      <th>casosNovos</th>\n",
              "      <th>obitosAcumulado</th>\n",
              "      <th>obitosNovos</th>\n",
              "      <th>interior/metropolitana</th>\n",
              "    </tr>\n",
              "  </thead>\n",
              "  <tbody>\n",
              "    <tr>\n",
              "      <th>158</th>\n",
              "      <td>Norte</td>\n",
              "      <td>RO</td>\n",
              "      <td>NaN</td>\n",
              "      <td>11</td>\n",
              "      <td>NaN</td>\n",
              "      <td>NaN</td>\n",
              "      <td>NaN</td>\n",
              "      <td>2020-02-25</td>\n",
              "      <td>9</td>\n",
              "      <td>1777225.0</td>\n",
              "      <td>0</td>\n",
              "      <td>0</td>\n",
              "      <td>0</td>\n",
              "      <td>0</td>\n",
              "      <td>NaN</td>\n",
              "    </tr>\n",
              "    <tr>\n",
              "      <th>159</th>\n",
              "      <td>Norte</td>\n",
              "      <td>RO</td>\n",
              "      <td>NaN</td>\n",
              "      <td>11</td>\n",
              "      <td>NaN</td>\n",
              "      <td>NaN</td>\n",
              "      <td>NaN</td>\n",
              "      <td>2020-02-26</td>\n",
              "      <td>9</td>\n",
              "      <td>1777225.0</td>\n",
              "      <td>0</td>\n",
              "      <td>0</td>\n",
              "      <td>0</td>\n",
              "      <td>0</td>\n",
              "      <td>NaN</td>\n",
              "    </tr>\n",
              "    <tr>\n",
              "      <th>160</th>\n",
              "      <td>Norte</td>\n",
              "      <td>RO</td>\n",
              "      <td>NaN</td>\n",
              "      <td>11</td>\n",
              "      <td>NaN</td>\n",
              "      <td>NaN</td>\n",
              "      <td>NaN</td>\n",
              "      <td>2020-02-27</td>\n",
              "      <td>9</td>\n",
              "      <td>1777225.0</td>\n",
              "      <td>0</td>\n",
              "      <td>0</td>\n",
              "      <td>0</td>\n",
              "      <td>0</td>\n",
              "      <td>NaN</td>\n",
              "    </tr>\n",
              "    <tr>\n",
              "      <th>161</th>\n",
              "      <td>Norte</td>\n",
              "      <td>RO</td>\n",
              "      <td>NaN</td>\n",
              "      <td>11</td>\n",
              "      <td>NaN</td>\n",
              "      <td>NaN</td>\n",
              "      <td>NaN</td>\n",
              "      <td>2020-02-28</td>\n",
              "      <td>9</td>\n",
              "      <td>1777225.0</td>\n",
              "      <td>0</td>\n",
              "      <td>0</td>\n",
              "      <td>0</td>\n",
              "      <td>0</td>\n",
              "      <td>NaN</td>\n",
              "    </tr>\n",
              "    <tr>\n",
              "      <th>162</th>\n",
              "      <td>Norte</td>\n",
              "      <td>RO</td>\n",
              "      <td>NaN</td>\n",
              "      <td>11</td>\n",
              "      <td>NaN</td>\n",
              "      <td>NaN</td>\n",
              "      <td>NaN</td>\n",
              "      <td>2020-02-29</td>\n",
              "      <td>9</td>\n",
              "      <td>1777225.0</td>\n",
              "      <td>0</td>\n",
              "      <td>0</td>\n",
              "      <td>0</td>\n",
              "      <td>0</td>\n",
              "      <td>NaN</td>\n",
              "    </tr>\n",
              "    <tr>\n",
              "      <th>...</th>\n",
              "      <td>...</td>\n",
              "      <td>...</td>\n",
              "      <td>...</td>\n",
              "      <td>...</td>\n",
              "      <td>...</td>\n",
              "      <td>...</td>\n",
              "      <td>...</td>\n",
              "      <td>...</td>\n",
              "      <td>...</td>\n",
              "      <td>...</td>\n",
              "      <td>...</td>\n",
              "      <td>...</td>\n",
              "      <td>...</td>\n",
              "      <td>...</td>\n",
              "      <td>...</td>\n",
              "    </tr>\n",
              "    <tr>\n",
              "      <th>859702</th>\n",
              "      <td>Centro-Oeste</td>\n",
              "      <td>DF</td>\n",
              "      <td>Brasília</td>\n",
              "      <td>53</td>\n",
              "      <td>530010.0</td>\n",
              "      <td>53001.0</td>\n",
              "      <td>DISTRITO FEDERAL</td>\n",
              "      <td>2020-12-27</td>\n",
              "      <td>53</td>\n",
              "      <td>3015268.0</td>\n",
              "      <td>248543</td>\n",
              "      <td>615</td>\n",
              "      <td>4201</td>\n",
              "      <td>3</td>\n",
              "      <td>1.0</td>\n",
              "    </tr>\n",
              "    <tr>\n",
              "      <th>859703</th>\n",
              "      <td>Centro-Oeste</td>\n",
              "      <td>DF</td>\n",
              "      <td>Brasília</td>\n",
              "      <td>53</td>\n",
              "      <td>530010.0</td>\n",
              "      <td>53001.0</td>\n",
              "      <td>DISTRITO FEDERAL</td>\n",
              "      <td>2020-12-28</td>\n",
              "      <td>53</td>\n",
              "      <td>3015268.0</td>\n",
              "      <td>249736</td>\n",
              "      <td>1193</td>\n",
              "      <td>4223</td>\n",
              "      <td>22</td>\n",
              "      <td>1.0</td>\n",
              "    </tr>\n",
              "    <tr>\n",
              "      <th>859704</th>\n",
              "      <td>Centro-Oeste</td>\n",
              "      <td>DF</td>\n",
              "      <td>Brasília</td>\n",
              "      <td>53</td>\n",
              "      <td>530010.0</td>\n",
              "      <td>53001.0</td>\n",
              "      <td>DISTRITO FEDERAL</td>\n",
              "      <td>2020-12-29</td>\n",
              "      <td>53</td>\n",
              "      <td>3015268.0</td>\n",
              "      <td>250457</td>\n",
              "      <td>721</td>\n",
              "      <td>4241</td>\n",
              "      <td>18</td>\n",
              "      <td>1.0</td>\n",
              "    </tr>\n",
              "    <tr>\n",
              "      <th>859705</th>\n",
              "      <td>Centro-Oeste</td>\n",
              "      <td>DF</td>\n",
              "      <td>Brasília</td>\n",
              "      <td>53</td>\n",
              "      <td>530010.0</td>\n",
              "      <td>53001.0</td>\n",
              "      <td>DISTRITO FEDERAL</td>\n",
              "      <td>2020-12-30</td>\n",
              "      <td>53</td>\n",
              "      <td>3015268.0</td>\n",
              "      <td>251135</td>\n",
              "      <td>678</td>\n",
              "      <td>4248</td>\n",
              "      <td>7</td>\n",
              "      <td>1.0</td>\n",
              "    </tr>\n",
              "    <tr>\n",
              "      <th>859706</th>\n",
              "      <td>Centro-Oeste</td>\n",
              "      <td>DF</td>\n",
              "      <td>Brasília</td>\n",
              "      <td>53</td>\n",
              "      <td>530010.0</td>\n",
              "      <td>53001.0</td>\n",
              "      <td>DISTRITO FEDERAL</td>\n",
              "      <td>2020-12-31</td>\n",
              "      <td>53</td>\n",
              "      <td>3015268.0</td>\n",
              "      <td>251701</td>\n",
              "      <td>566</td>\n",
              "      <td>4259</td>\n",
              "      <td>11</td>\n",
              "      <td>1.0</td>\n",
              "    </tr>\n",
              "  </tbody>\n",
              "</table>\n",
              "<p>1573877 rows × 15 columns</p>\n",
              "</div>\n",
              "      <button class=\"colab-df-convert\" onclick=\"convertToInteractive('df-4e563f10-23c6-4097-a800-a200785b92b8')\"\n",
              "              title=\"Convert this dataframe to an interactive table.\"\n",
              "              style=\"display:none;\">\n",
              "        \n",
              "  <svg xmlns=\"http://www.w3.org/2000/svg\" height=\"24px\"viewBox=\"0 0 24 24\"\n",
              "       width=\"24px\">\n",
              "    <path d=\"M0 0h24v24H0V0z\" fill=\"none\"/>\n",
              "    <path d=\"M18.56 5.44l.94 2.06.94-2.06 2.06-.94-2.06-.94-.94-2.06-.94 2.06-2.06.94zm-11 1L8.5 8.5l.94-2.06 2.06-.94-2.06-.94L8.5 2.5l-.94 2.06-2.06.94zm10 10l.94 2.06.94-2.06 2.06-.94-2.06-.94-.94-2.06-.94 2.06-2.06.94z\"/><path d=\"M17.41 7.96l-1.37-1.37c-.4-.4-.92-.59-1.43-.59-.52 0-1.04.2-1.43.59L10.3 9.45l-7.72 7.72c-.78.78-.78 2.05 0 2.83L4 21.41c.39.39.9.59 1.41.59.51 0 1.02-.2 1.41-.59l7.78-7.78 2.81-2.81c.8-.78.8-2.07 0-2.86zM5.41 20L4 18.59l7.72-7.72 1.47 1.35L5.41 20z\"/>\n",
              "  </svg>\n",
              "      </button>\n",
              "      \n",
              "  <style>\n",
              "    .colab-df-container {\n",
              "      display:flex;\n",
              "      flex-wrap:wrap;\n",
              "      gap: 12px;\n",
              "    }\n",
              "\n",
              "    .colab-df-convert {\n",
              "      background-color: #E8F0FE;\n",
              "      border: none;\n",
              "      border-radius: 50%;\n",
              "      cursor: pointer;\n",
              "      display: none;\n",
              "      fill: #1967D2;\n",
              "      height: 32px;\n",
              "      padding: 0 0 0 0;\n",
              "      width: 32px;\n",
              "    }\n",
              "\n",
              "    .colab-df-convert:hover {\n",
              "      background-color: #E2EBFA;\n",
              "      box-shadow: 0px 1px 2px rgba(60, 64, 67, 0.3), 0px 1px 3px 1px rgba(60, 64, 67, 0.15);\n",
              "      fill: #174EA6;\n",
              "    }\n",
              "\n",
              "    [theme=dark] .colab-df-convert {\n",
              "      background-color: #3B4455;\n",
              "      fill: #D2E3FC;\n",
              "    }\n",
              "\n",
              "    [theme=dark] .colab-df-convert:hover {\n",
              "      background-color: #434B5C;\n",
              "      box-shadow: 0px 1px 3px 1px rgba(0, 0, 0, 0.15);\n",
              "      filter: drop-shadow(0px 1px 2px rgba(0, 0, 0, 0.3));\n",
              "      fill: #FFFFFF;\n",
              "    }\n",
              "  </style>\n",
              "\n",
              "      <script>\n",
              "        const buttonEl =\n",
              "          document.querySelector('#df-4e563f10-23c6-4097-a800-a200785b92b8 button.colab-df-convert');\n",
              "        buttonEl.style.display =\n",
              "          google.colab.kernel.accessAllowed ? 'block' : 'none';\n",
              "\n",
              "        async function convertToInteractive(key) {\n",
              "          const element = document.querySelector('#df-4e563f10-23c6-4097-a800-a200785b92b8');\n",
              "          const dataTable =\n",
              "            await google.colab.kernel.invokeFunction('convertToInteractive',\n",
              "                                                     [key], {});\n",
              "          if (!dataTable) return;\n",
              "\n",
              "          const docLinkHtml = 'Like what you see? Visit the ' +\n",
              "            '<a target=\"_blank\" href=https://colab.research.google.com/notebooks/data_table.ipynb>data table notebook</a>'\n",
              "            + ' to learn more about interactive tables.';\n",
              "          element.innerHTML = '';\n",
              "          dataTable['output_type'] = 'display_data';\n",
              "          await google.colab.output.renderOutput(dataTable, element);\n",
              "          const docLink = document.createElement('div');\n",
              "          docLink.innerHTML = docLinkHtml;\n",
              "          element.appendChild(docLink);\n",
              "        }\n",
              "      </script>\n",
              "    </div>\n",
              "  </div>\n",
              "  "
            ]
          },
          "metadata": {},
          "execution_count": 212
        }
      ],
      "source": [
        "RegioesBrasil2020"
      ]
    },
    {
      "cell_type": "markdown",
      "source": [
        "# Visualização de Dados"
      ],
      "metadata": {
        "id": "KTm5u0SOJ4sv"
      }
    },
    {
      "cell_type": "markdown",
      "source": [
        "## Média de casos novos de Covid em cada região do Brasil nos anos de 2020, 2021 e 2022"
      ],
      "metadata": {
        "id": "iL8Ctkjph4RK"
      }
    },
    {
      "cell_type": "markdown",
      "source": [
        "## Em 2020"
      ],
      "metadata": {
        "id": "PKLOEh6Umr66"
      }
    },
    {
      "cell_type": "code",
      "source": [
        "df_covid2020 = RegioesBrasil2020.groupby('regiao')\n",
        "mediaCasosNovos2020 = df_covid2020['casosNovos'].mean().head(10)\n",
        "print(\"MÉDIA DE CASOS NOVOS EM 2020\")\n",
        "print(mediaCasosNovos2020)\n",
        "print(\"=\"*30)\n",
        "\n",
        "df_covid2020.mean()['casosNovos'].plot(c='#EF2D56')\n",
        "plt.xlabel('Região')\n",
        "plt.ylabel('Média de casos novos')\n",
        "plt.title(\"Média de casos novos nas regiões do Brasil\")\n",
        "plt.show()\n"
      ],
      "metadata": {
        "colab": {
          "base_uri": "https://localhost:8080/",
          "height": 451
        },
        "id": "X9glpvw_h92f",
        "outputId": "d8e0e7e8-4162-4c98-aa47-3bd014c9f65c"
      },
      "execution_count": 213,
      "outputs": [
        {
          "output_type": "stream",
          "name": "stdout",
          "text": [
            "MÉDIA DE CASOS NOVOS EM 2020\n",
            "regiao\n",
            "Centro-Oeste    13.268112\n",
            "Nordeste         7.555598\n",
            "Norte           13.351287\n",
            "Sudeste         11.489979\n",
            "Sul              8.125505\n",
            "Name: casosNovos, dtype: float64\n",
            "==============================\n"
          ]
        },
        {
          "output_type": "display_data",
          "data": {
            "text/plain": [
              "<Figure size 432x288 with 1 Axes>"
            ],
            "image/png": "[encoded data removed]"
          },
          "metadata": {
            "needs_background": "light"
          }
        }
      ]
    },
    {
      "cell_type": "markdown",
      "source": [
        "## Em 2021"
      ],
      "metadata": {
        "id": "eGE9lyERmo5j"
      }
    },
    {
      "cell_type": "code",
      "source": [
        "df_covid2021 = RegioesBrasil2021.groupby('regiao')\n",
        "mediaCasosNovos2021 = df_covid2021['casosNovos'].mean().head(10)\n",
        "print(\"MÉDIA DE CASOS NOVOS EM 2021\")\n",
        "print(mediaCasosNovos2021)\n",
        "print(\"=\"*30)\n",
        "\n",
        "df_covid2021.mean()['casosNovos'].plot(c='#EF2D56')\n",
        "plt.xlabel('Região')\n",
        "plt.ylabel('Média de casos novos')\n",
        "plt.title(\"Média de casos novos nas regiões do Brasil\")\n",
        "plt.show()\n"
      ],
      "metadata": {
        "colab": {
          "base_uri": "https://localhost:8080/",
          "height": 451
        },
        "id": "1rQasJpRisoJ",
        "outputId": "9d65b930-65ca-48e1-b54e-53cb3a29a40c"
      },
      "execution_count": 214,
      "outputs": [
        {
          "output_type": "stream",
          "name": "stdout",
          "text": [
            "MÉDIA DE CASOS NOVOS EM 2021\n",
            "regiao\n",
            "Centro-Oeste    17.701237\n",
            "Nordeste         9.235051\n",
            "Norte           12.683276\n",
            "Sudeste         19.533468\n",
            "Sul             13.687786\n",
            "Name: casosNovos, dtype: float64\n",
            "==============================\n"
          ]
        },
        {
          "output_type": "display_data",
          "data": {
            "text/plain": [
              "<Figure size 432x288 with 1 Axes>"
            ],
            "image/png": "[encoded data removed]"
          },
          "metadata": {
            "needs_background": "light"
          }
        }
      ]
    },
    {
      "cell_type": "markdown",
      "source": [
        "## Em 2022"
      ],
      "metadata": {
        "id": "AMWq7wdbmlNh"
      }
    },
    {
      "cell_type": "code",
      "source": [
        "df_covid2022 = RegioesBrasil2022.groupby('regiao')\n",
        "mediaCasosNovos2022 = df_covid2022['casosNovos'].mean().head(10)\n",
        "print(\"MÉDIA DE CASOS NOVOS EM 2022\")\n",
        "print(mediaCasosNovos2022)\n",
        "print(\"=\"*30)\n",
        "\n",
        "df_covid2022.mean()['casosNovos'].plot(c='#EF2D56')\n",
        "plt.xlabel('Região')\n",
        "plt.ylabel('Média de casos novos')\n",
        "plt.title(\"Média de casos novos nas regiões do Brasil\")\n",
        "plt.show()"
      ],
      "metadata": {
        "colab": {
          "base_uri": "https://localhost:8080/",
          "height": 451
        },
        "id": "wfqI6QKjiu6V",
        "outputId": "18c7e081-bd47-4e2a-e174-102a4fc85469"
      },
      "execution_count": 215,
      "outputs": [
        {
          "output_type": "stream",
          "name": "stdout",
          "text": [
            "MÉDIA DE CASOS NOVOS EM 2022\n",
            "regiao\n",
            "Centro-Oeste    26.616238\n",
            "Nordeste         9.554292\n",
            "Norte           16.576934\n",
            "Sudeste         27.620882\n",
            "Sul             25.993881\n",
            "Name: casosNovos, dtype: float64\n",
            "==============================\n"
          ]
        },
        {
          "output_type": "display_data",
          "data": {
            "text/plain": [
              "<Figure size 432x288 with 1 Axes>"
            ],
            "image/png": "[encoded data removed]"
          },
          "metadata": {
            "needs_background": "light"
          }
        }
      ]
    },
    {
      "cell_type": "markdown",
      "source": [
        "## Quantidade de casos novos em cada região nos anos de 2020, 2021 e 2022.\n",
        "\n",
        "\n"
      ],
      "metadata": {
        "id": "3vNduZeBiNCM"
      }
    },
    {
      "cell_type": "code",
      "source": [
        "df_covid2020 = RegioesBrasil2020.groupby('regiao')\n",
        "casosNovos2020 = df_covid2020['casosNovos'].sum().head(10)\n",
        "print(\"QUANTIDADE DE CASOS NOVOS EM 2020\")\n",
        "print(casosNovos2020)\n",
        "print(\"=\"*30)\n",
        "\n",
        "df_covid2020.sum()['casosNovos'].plot(c='#EF2D56')\n",
        "plt.xlabel('Região')\n",
        "plt.ylabel('Quantidade de casos novos')\n",
        "plt.title(\"Quantidade de casos novos nas regiões do Brasil\")\n",
        "plt.show()"
      ],
      "metadata": {
        "colab": {
          "base_uri": "https://localhost:8080/",
          "height": 451
        },
        "id": "vcmrBoyliLyA",
        "outputId": "7d15c716-a4d6-486c-c792-91c8b67f10f7"
      },
      "execution_count": 216,
      "outputs": [
        {
          "output_type": "stream",
          "name": "stdout",
          "text": [
            "QUANTIDADE DE CASOS NOVOS EM 2020\n",
            "regiao\n",
            "Centro-Oeste    1758874\n",
            "Nordeste        3835516\n",
            "Norte           1722543\n",
            "Sudeste         5393442\n",
            "Sul             2724100\n",
            "Name: casosNovos, dtype: int64\n",
            "==============================\n"
          ]
        },
        {
          "output_type": "display_data",
          "data": {
            "text/plain": [
              "<Figure size 432x288 with 1 Axes>"
            ],
            "image/png": "[encoded data removed]"
          },
          "metadata": {
            "needs_background": "light"
          }
        }
      ]
    },
    {
      "cell_type": "code",
      "source": [
        "df_covid2021 = RegioesBrasil2021.groupby('regiao')\n",
        "casosNovos2021 = df_covid2021['casosNovos'].sum().head(10)\n",
        "print(\"QUANTIDADE DE CASOS NOVOS EM 2021\")\n",
        "print(casosNovos2021)\n",
        "print(\"=\"*30)\n",
        "\n",
        "df_covid2021.sum()['casosNovos'].plot(c='#EF2D56')\n",
        "plt.xlabel('Região')\n",
        "plt.ylabel('Quantidade de casos novos')\n",
        "plt.title(\"Quantidade de casos novos nas regiões do Brasil\")\n",
        "plt.show()\n"
      ],
      "metadata": {
        "colab": {
          "base_uri": "https://localhost:8080/",
          "height": 451
        },
        "id": "ne7fGUr6pSzR",
        "outputId": "78083dae-e631-43c3-adf3-89c99671b70b"
      },
      "execution_count": 217,
      "outputs": [
        {
          "output_type": "stream",
          "name": "stdout",
          "text": [
            "QUANTIDADE DE CASOS NOVOS EM 2021\n",
            "regiao\n",
            "Centro-Oeste     3056030\n",
            "Nordeste         6107878\n",
            "Norte            2129522\n",
            "Sudeste         11949404\n",
            "Sul              5980262\n",
            "Name: casosNovos, dtype: int64\n",
            "==============================\n"
          ]
        },
        {
          "output_type": "display_data",
          "data": {
            "text/plain": [
              "<Figure size 432x288 with 1 Axes>"
            ],
            "image/png": "[encoded data removed]"
          },
          "metadata": {
            "needs_background": "light"
          }
        }
      ]
    },
    {
      "cell_type": "code",
      "source": [
        "df_covid2022 = RegioesBrasil2022.groupby('regiao')\n",
        "casosNovos2022 = df_covid2022['casosNovos'].sum().head(10)\n",
        "print(\"QUANTIDADE DE CASOS NOVOS EM 2022\")\n",
        "print(casosNovos2022)\n",
        "print(\"=\"*30)\n",
        "\n",
        "df_covid2022.sum()['casosNovos'].plot(c='#EF2D56')\n",
        "plt.xlabel('Região')\n",
        "plt.ylabel('Quantidade de casos novos')\n",
        "plt.title(\"Quantidade de casos novos nas regiões do Brasil\")\n",
        "plt.show()"
      ],
      "metadata": {
        "colab": {
          "base_uri": "https://localhost:8080/",
          "height": 451
        },
        "id": "KJY2P74GpUqw",
        "outputId": "65e8ba1c-805b-4df1-e5bd-d71c9b368f2e"
      },
      "execution_count": 218,
      "outputs": [
        {
          "output_type": "stream",
          "name": "stdout",
          "text": [
            "QUANTIDADE DE CASOS NOVOS EM 2022\n",
            "regiao\n",
            "Centro-Oeste    1938780\n",
            "Nordeste        2666106\n",
            "Norte           1174310\n",
            "Sudeste         7129060\n",
            "Sul             4791660\n",
            "Name: casosNovos, dtype: int64\n",
            "==============================\n"
          ]
        },
        {
          "output_type": "display_data",
          "data": {
            "text/plain": [
              "<Figure size 432x288 with 1 Axes>"
            ],
            "image/png": "[encoded data removed]"
          },
          "metadata": {
            "needs_background": "light"
          }
        }
      ]
    },
    {
      "cell_type": "markdown",
      "source": [
        "###Concatenação dos bancos de dados dos anos 2020,2021,2022 para a visualização mais abrangente acerca dos casos novos no decorrer dos anos"
      ],
      "metadata": {
        "id": "AtT3Qvu04o6O"
      }
    },
    {
      "cell_type": "code",
      "source": [
        "# Variáveis a serem usadas\n",
        "# DadosBrasil2020 -> 21, 22\n",
        "# RegioesBrasil2020 -> 21, 22\n",
        "\n",
        "RegioesBrasilFull = pd.concat([RegioesBrasil2020,RegioesBrasil2021,RegioesBrasil2022])"
      ],
      "metadata": {
        "id": "ZIBQuMxS0FFF"
      },
      "execution_count": 219,
      "outputs": []
    },
    {
      "cell_type": "code",
      "source": [
        "RegioesBrasilFull['regiao'].unique()"
      ],
      "metadata": {
        "colab": {
          "base_uri": "https://localhost:8080/"
        },
        "id": "DiveRM9616Gk",
        "outputId": "7633bb4f-8597-4234-c569-b1d25ba3916d"
      },
      "execution_count": 220,
      "outputs": [
        {
          "output_type": "execute_result",
          "data": {
            "text/plain": [
              "array(['Norte', 'Nordeste', 'Sudeste', 'Sul', 'Centro-Oeste'],\n",
              "      dtype=object)"
            ]
          },
          "metadata": {},
          "execution_count": 220
        }
      ]
    },
    {
      "cell_type": "code",
      "source": [
        "# Definição de algumas cores para graficos\n",
        "regioes_colors = {\n",
        "    'Norte': '#FAA916',\n",
        "    'Nordeste': '#0FA3B1',\n",
        "    'Sudeste': '#BB4430',\n",
        "    'Sul': '#FFCBDB',\n",
        "    'Centro-Oeste': '#7D5B8C'\n",
        "}"
      ],
      "metadata": {
        "id": "VrfZ0VBr1XPh"
      },
      "execution_count": 221,
      "outputs": []
    },
    {
      "cell_type": "markdown",
      "source": [
        "##Gráfico que mostra o número de casos novos no decorrer dos anos"
      ],
      "metadata": {
        "id": "8vQCk_mP66vI"
      }
    },
    {
      "cell_type": "code",
      "source": [
        "group_date = RegioesBrasilFull.groupby(\"data\")\n",
        "group_date.sum()['casosNovos'].plot(c='#EF2D56')\n",
        "plt.ylabel('Quantidade de casos novos')\n",
        "plt.xlabel('Data')\n",
        "plt.show()"
      ],
      "metadata": {
        "colab": {
          "base_uri": "https://localhost:8080/",
          "height": 279
        },
        "id": "dM5HV70u3ehN",
        "outputId": "12efc5d2-1e1c-4006-966f-cbfc168e845d"
      },
      "execution_count": 222,
      "outputs": [
        {
          "output_type": "display_data",
          "data": {
            "text/plain": [
              "<Figure size 432x288 with 1 Axes>"
            ],
            "image/png": "[encoded data removed]"
          },
          "metadata": {
            "needs_background": "light"
          }
        }
      ]
    },
    {
      "cell_type": "markdown",
      "source": [
        "##Visualizando a população dos estados para tentar ver alguma correação"
      ],
      "metadata": {
        "id": "A0RG8rHP8okG"
      }
    },
    {
      "cell_type": "code",
      "source": [
        "GroupState = RegioesBrasilFull.groupby('estado')\n",
        "GroupState.sum()['populacaoTCU2019'].plot(kind='bar', color='#EF2D56')\n",
        "plt.xlabel('Estado')\n",
        "plt.ylabel('População')\n",
        "plt.show()"
      ],
      "metadata": {
        "colab": {
          "base_uri": "https://localhost:8080/",
          "height": 297
        },
        "id": "imBYR9vO5FfF",
        "outputId": "1364bdec-cabf-4b04-ff88-a8a6f0014052"
      },
      "execution_count": 223,
      "outputs": [
        {
          "output_type": "display_data",
          "data": {
            "text/plain": [
              "<Figure size 432x288 with 1 Axes>"
            ],
            "image/png": "[encoded data removed]"
          },
          "metadata": {
            "needs_background": "light"
          }
        }
      ]
    },
    {
      "cell_type": "markdown",
      "source": [
        "##Criando uma nova coluna para mostrar a proporção entre o número de casos novos e o tamanho da população para cada estado"
      ],
      "metadata": {
        "id": "U5TyXJ6F9v3n"
      }
    },
    {
      "cell_type": "code",
      "source": [
        "df = RegioesBrasilFull\n",
        "df['Prop'] = df['casosNovos'] / df['populacaoTCU2019']"
      ],
      "metadata": {
        "id": "6nbIBOfs7MUe"
      },
      "execution_count": 224,
      "outputs": []
    },
    {
      "cell_type": "markdown",
      "source": [
        "## Gráfico que mostra a relação entre o número de casos novos e a população do estado"
      ],
      "metadata": {
        "id": "T61OThqB90Vo"
      }
    },
    {
      "cell_type": "code",
      "source": [
        "GroupState = df.groupby('estado')\n",
        "GroupState.sum()['Prop'].plot(kind='bar', color='#EF2D56')\n",
        "plt.xlabel('Estado')\n",
        "plt.ylabel('Proporção (Casos novos / População do estado)')\n",
        "plt.show()"
      ],
      "metadata": {
        "colab": {
          "base_uri": "https://localhost:8080/",
          "height": 295
        },
        "id": "dAHvX5BP9G0w",
        "outputId": "3faf638f-2fdf-4d58-ce0a-20d9e69a8a66"
      },
      "execution_count": 225,
      "outputs": [
        {
          "output_type": "display_data",
          "data": {
            "text/plain": [
              "<Figure size 432x288 with 1 Axes>"
            ],
            "image/png": "[encoded data removed]"
          },
          "metadata": {
            "needs_background": "light"
          }
        }
      ]
    },
    {
      "cell_type": "markdown",
      "source": [
        "## O gráfico acima revela como ocorre reíncidencia ou aparecimento de novos casos de covid19 em cada estado de acordo com sua população durante os anos de 2020,2021 e 2022"
      ],
      "metadata": {
        "id": "NEaJ_vuE-Q2X"
      }
    },
    {
      "cell_type": "markdown",
      "source": [
        "## Gráfico para visualização da relação feita anteriormente para cada ano separadamente"
      ],
      "metadata": {
        "id": "ig8WR_unAHsZ"
      }
    },
    {
      "cell_type": "code",
      "source": [
        "df1 = RegioesBrasil2020\n",
        "df2 = RegioesBrasil2021\n",
        "df3 = RegioesBrasil2022\n",
        "\n",
        "df1['Prop'] = df1['casosNovos'] / df1['populacaoTCU2019']\n",
        "df2['Prop'] = df2['casosNovos'] / df2['populacaoTCU2019']\n",
        "df3['Prop'] = df3['casosNovos'] / df3['populacaoTCU2019']\n",
        "\n",
        "\n",
        "GroupState1 = df1.groupby('estado')\n",
        "GroupState1.sum()['Prop'].plot(kind='bar', color='#EF2D56')\n",
        "plt.xlabel('Estado')\n",
        "plt.ylabel('Proporção (Casos novos / População do estado) em 2020')\n",
        "plt.yscale('log')\n",
        "plt.show()\n",
        "\n",
        "print(end=\" \")\n",
        "\n",
        "GroupState2 = df2.groupby('estado')\n",
        "GroupState2.sum()['Prop'].plot(kind='bar', color='#EF2D56')\n",
        "plt.xlabel('Estado')\n",
        "plt.ylabel('Proporção (Casos novos / População do estado) em 2021')\n",
        "plt.yscale('log')\n",
        "plt.show()\n",
        "\n",
        "print(end=\" \")\n",
        "\n",
        "\n",
        "GroupState3 = df3.groupby('estado')\n",
        "GroupState3.sum()['Prop'].plot(kind='bar', color='#EF2D56')\n",
        "plt.xlabel('Estado')\n",
        "plt.ylabel('Proporção (Casos novos / População do estado) em 2022')\n",
        "plt.yscale('log')\n",
        "plt.show()\n"
      ],
      "metadata": {
        "colab": {
          "base_uri": "https://localhost:8080/",
          "height": 955
        },
        "id": "P-u76xTT_A6o",
        "outputId": "bf505baf-775e-467c-8aef-d95ded721ce5"
      },
      "execution_count": 226,
      "outputs": [
        {
          "output_type": "display_data",
          "data": {
            "text/plain": [
              "<Figure size 432x288 with 1 Axes>"
            ],
            "image/png": "[encoded data removed]"
          },
          "metadata": {
            "needs_background": "light"
          }
        },
        {
          "output_type": "stream",
          "name": "stdout",
          "text": [
            " "
          ]
        },
        {
          "output_type": "display_data",
          "data": {
            "text/plain": [
              "<Figure size 432x288 with 1 Axes>"
            ],
            "image/png": "[encoded data removed]"
          },
          "metadata": {
            "needs_background": "light"
          }
        },
        {
          "output_type": "stream",
          "name": "stdout",
          "text": [
            " "
          ]
        },
        {
          "output_type": "display_data",
          "data": {
            "text/plain": [
              "<Figure size 432x288 with 1 Axes>"
            ],
            "image/png": "[encoded data removed]"
          },
          "metadata": {
            "needs_background": "light"
          }
        }
      ]
    },
    {
      "cell_type": "markdown",
      "source": [
        "#Perguntas elaboradas pelo grupo:"
      ],
      "metadata": {
        "id": "BTyY6NgMlULN"
      }
    },
    {
      "cell_type": "markdown",
      "source": [
        "#1 - Quais as regiões menos afetadas pela Covid nos anos de 2020, 2021 e 2022 ?"
      ],
      "metadata": {
        "id": "OuBHqOaVlqGU"
      }
    },
    {
      "cell_type": "markdown",
      "source": [
        "Para descobrir qual região foi mais afetada pelo covid, primeiro plotamos um gráfico para visualizar as regiões que mais tiveram casos novos"
      ],
      "metadata": {
        "id": "ZZA-7CJ1fO2x"
      }
    },
    {
      "cell_type": "markdown",
      "source": [
        "Visualizando o gráfico abaixo é possível perceber que as regiões menos afetadas foram as regiões Centro-Oeste, Norte e Sul."
      ],
      "metadata": {
        "id": "L-BRU7erhrsJ"
      }
    },
    {
      "cell_type": "code",
      "source": [
        "casosNovos2020  = RegioesBrasil2020.groupby('regiao')\n",
        "casosNovos2020.sum()['casosNovos'].plot(c='#EF2D56')\n",
        "plt.ylabel('CasosNovos')\n",
        "plt.xlabel('Região')\n",
        "print(\"Quantidade de casos novos no dataframe de 2020\")\n",
        "plt.show()"
      ],
      "metadata": {
        "colab": {
          "base_uri": "https://localhost:8080/",
          "height": 307
        },
        "id": "_2Q9TSI2mlnH",
        "outputId": "c05a905c-1c83-41d3-bc84-1cf896b14057"
      },
      "execution_count": 227,
      "outputs": [
        {
          "output_type": "stream",
          "name": "stdout",
          "text": [
            "Quantidade de casos novos no dataframe de 2020\n"
          ]
        },
        {
          "output_type": "display_data",
          "data": {
            "text/plain": [
              "<Figure size 432x288 with 1 Axes>"
            ],
            "image/png": "[encoded data removed]"
          },
          "metadata": {
            "needs_background": "light"
          }
        }
      ]
    },
    {
      "cell_type": "markdown",
      "source": [
        "Veja abaixo a quantidade de casos novos em cada região, isto agrupando as regiões e somando a quantidade de casos novos. Nele é ratificado as informações do gráfico, onde demonstra ratificar a confirmação anterior que as regiões Centro-Oeste e Norte são as regiões que menor tiveram casos novos de covid. Veja os dados em ordem crescente abaixo."
      ],
      "metadata": {
        "id": "Zw5b1FhGh-lB"
      }
    },
    {
      "cell_type": "code",
      "source": [
        "casosNovos2020  = RegioesBrasil2020.groupby('regiao')\n",
        "casosNovos2020['casosNovos'].sum().sort_values()"
      ],
      "metadata": {
        "colab": {
          "base_uri": "https://localhost:8080/"
        },
        "id": "H6KbIatYqb_9",
        "outputId": "b7c1a0ec-a81a-47c4-e4fe-1243a271775e"
      },
      "execution_count": 228,
      "outputs": [
        {
          "output_type": "execute_result",
          "data": {
            "text/plain": [
              "regiao\n",
              "Norte           1722543\n",
              "Centro-Oeste    1758874\n",
              "Sul             2724100\n",
              "Nordeste        3835516\n",
              "Sudeste         5393442\n",
              "Name: casosNovos, dtype: int64"
            ]
          },
          "metadata": {},
          "execution_count": 228
        }
      ]
    },
    {
      "cell_type": "markdown",
      "source": [
        "Veja agora no ano de 2021 quais foram as regiões que mais tiveram novos casos de covid, e com isto foram mais afetadas."
      ],
      "metadata": {
        "id": "pQUKeOlJjPGe"
      }
    },
    {
      "cell_type": "code",
      "source": [
        "casosNovos2021  = RegioesBrasil2021.groupby('regiao')\n",
        "casosNovos2021.sum()['casosNovos'].plot(c='#EF2D56')\n",
        "plt.ylabel('CasosNovos')\n",
        "plt.xlabel('Região')\n",
        "print(\"Quantidade de casos novos no dataframe de 2021\")\n",
        "plt.show()"
      ],
      "metadata": {
        "colab": {
          "base_uri": "https://localhost:8080/",
          "height": 307
        },
        "id": "YiamTo3Zf85M",
        "outputId": "e7015ce5-031c-4f46-d9d5-004b9a57c226"
      },
      "execution_count": 229,
      "outputs": [
        {
          "output_type": "stream",
          "name": "stdout",
          "text": [
            "Quantidade de casos novos no dataframe de 2021\n"
          ]
        },
        {
          "output_type": "display_data",
          "data": {
            "text/plain": [
              "<Figure size 432x288 with 1 Axes>"
            ],
            "image/png": "[encoded data removed]"
          },
          "metadata": {
            "needs_background": "light"
          }
        }
      ]
    },
    {
      "cell_type": "markdown",
      "source": [
        "No gráfico e somando os casos novos de covid é possível ver que as regiões menos afetadas nos anos de 2021 foram as regiões do Norte e Centro-Oeste novamente. Veja os dados em ordem crescente abaixo."
      ],
      "metadata": {
        "id": "DBQY1DkYkiv8"
      }
    },
    {
      "cell_type": "code",
      "source": [
        "casosNovos2021  = RegioesBrasil2021.groupby('regiao')\n",
        "casosNovos2021['casosNovos'].sum().sort_values()"
      ],
      "metadata": {
        "colab": {
          "base_uri": "https://localhost:8080/"
        },
        "id": "Qme5gElnkIQ7",
        "outputId": "d7fa7581-2a97-47ad-e475-a291961e655d"
      },
      "execution_count": 230,
      "outputs": [
        {
          "output_type": "execute_result",
          "data": {
            "text/plain": [
              "regiao\n",
              "Norte            2129522\n",
              "Centro-Oeste     3056030\n",
              "Sul              5980262\n",
              "Nordeste         6107878\n",
              "Sudeste         11949404\n",
              "Name: casosNovos, dtype: int64"
            ]
          },
          "metadata": {},
          "execution_count": 230
        }
      ]
    },
    {
      "cell_type": "markdown",
      "source": [
        "Agora iremos verificar quais regiões no ano de 2022 foram mais afetadas pelo covid."
      ],
      "metadata": {
        "id": "wdKMJzyulBd-"
      }
    },
    {
      "cell_type": "code",
      "source": [
        "casosNovos2022  = RegioesBrasil2022.groupby('regiao')\n",
        "casosNovos2022.sum()['casosNovos'].plot(c='#EF2D56')\n",
        "plt.ylabel('CasosNovos')\n",
        "plt.xlabel('Região')\n",
        "print(\"Quantidade de casos novos no dataframe de 2022\")\n",
        "plt.show()"
      ],
      "metadata": {
        "colab": {
          "base_uri": "https://localhost:8080/",
          "height": 307
        },
        "id": "wze9dmowlHv2",
        "outputId": "006b4fc7-4fde-4cf2-93fa-b2e4a9c11c46"
      },
      "execution_count": 231,
      "outputs": [
        {
          "output_type": "stream",
          "name": "stdout",
          "text": [
            "Quantidade de casos novos no dataframe de 2022\n"
          ]
        },
        {
          "output_type": "display_data",
          "data": {
            "text/plain": [
              "<Figure size 432x288 with 1 Axes>"
            ],
            "image/png": "[encoded data removed]"
          },
          "metadata": {
            "needs_background": "light"
          }
        }
      ]
    },
    {
      "cell_type": "markdown",
      "source": [
        "Novamente o Centro-Oeste e o Norte tiveram meno casos de covid, veja abaixo a soma dos novos casos."
      ],
      "metadata": {
        "id": "f12fyzaglbZ-"
      }
    },
    {
      "cell_type": "code",
      "source": [
        "casosNovos2022  = RegioesBrasil2022.groupby('regiao')\n",
        "casosNovos2022['casosNovos'].sum().sort_values()"
      ],
      "metadata": {
        "colab": {
          "base_uri": "https://localhost:8080/"
        },
        "id": "Q3dab_LElQW9",
        "outputId": "2a1d46e0-9d0c-416a-d0ae-cb2c9b902fdb"
      },
      "execution_count": 232,
      "outputs": [
        {
          "output_type": "execute_result",
          "data": {
            "text/plain": [
              "regiao\n",
              "Norte           1174310\n",
              "Centro-Oeste    1938780\n",
              "Nordeste        2666106\n",
              "Sul             4791660\n",
              "Sudeste         7129060\n",
              "Name: casosNovos, dtype: int64"
            ]
          },
          "metadata": {},
          "execution_count": 232
        }
      ]
    },
    {
      "cell_type": "markdown",
      "source": [
        "Veja agora o dataframe, cujo os dados são a concatenação dos dataframes de 2020, 2021 e 2022. Nele veremos quais regiões foram mais afetadas nos 3 anos. Veja os dados em ordem crescente abaixo."
      ],
      "metadata": {
        "id": "gCnR-gj4lpmI"
      }
    },
    {
      "cell_type": "code",
      "source": [
        "df = RegioesBrasilFull.groupby('regiao')\n",
        "df['casosNovos'].sum().sort_values()"
      ],
      "metadata": {
        "colab": {
          "base_uri": "https://localhost:8080/"
        },
        "id": "7_tRomC_mH2c",
        "outputId": "e35a69b1-1041-4907-f0c4-f3dd733ba13e"
      },
      "execution_count": 233,
      "outputs": [
        {
          "output_type": "execute_result",
          "data": {
            "text/plain": [
              "regiao\n",
              "Norte            5026375\n",
              "Centro-Oeste     6753684\n",
              "Nordeste        12609500\n",
              "Sul             13496022\n",
              "Sudeste         24471906\n",
              "Name: casosNovos, dtype: int64"
            ]
          },
          "metadata": {},
          "execution_count": 233
        }
      ]
    },
    {
      "cell_type": "markdown",
      "source": [
        "#2 - Óbitos de covid durante o ano de 2022?"
      ],
      "metadata": {
        "id": "Mk6ZG5k6f4rI"
      }
    },
    {
      "cell_type": "code",
      "source": [
        "DadosBrasil2022['obitosNovos'].sum()"
      ],
      "metadata": {
        "colab": {
          "base_uri": "https://localhost:8080/"
        },
        "id": "3Hykyz7-f8fJ",
        "outputId": "3e892933-a4ad-44ce-e135-17b5ad840d45"
      },
      "execution_count": 234,
      "outputs": [
        {
          "output_type": "execute_result",
          "data": {
            "text/plain": [
              "47915"
            ]
          },
          "metadata": {},
          "execution_count": 234
        }
      ]
    },
    {
      "cell_type": "markdown",
      "source": [
        "#3 - Quais as regiões mais afetadas pela Covid ?"
      ],
      "metadata": {
        "id": "39Wy2miRg0Zw"
      }
    },
    {
      "cell_type": "code",
      "source": [
        "# Pegando o gráfico para analisar os casos novos em cada região\n",
        "GroupState1 = RegioesBrasilFull.groupby('regiao')\n",
        "GroupState1.sum()['casosNovos'].plot(kind='bar', color='#EF2D56')\n",
        "plt.xlabel('Regiao')\n",
        "plt.ylabel('Casos Novos')\n",
        "plt.yscale('log')\n",
        "plt.show()\n",
        "# Pegando o gráfico para analisar os óbitos novos em cada região\n",
        "print('\\n')\n",
        "GroupState1 = RegioesBrasilFull.groupby('regiao')\n",
        "GroupState1.sum()['obitosNovos'].plot(kind='bar', color='#EF2D56')\n",
        "plt.xlabel('Regiao')\n",
        "plt.ylabel('Óbitos novos')\n",
        "plt.yscale('log')\n",
        "plt.show()"
      ],
      "metadata": {
        "colab": {
          "base_uri": "https://localhost:8080/",
          "height": 690
        },
        "id": "m70ilSpNg0FX",
        "outputId": "ff917459-f05a-417b-8d0f-d981daea88d3"
      },
      "execution_count": 235,
      "outputs": [
        {
          "output_type": "display_data",
          "data": {
            "text/plain": [
              "<Figure size 432x288 with 1 Axes>"
            ],
            "image/png": "[encoded data removed]"
          },
          "metadata": {
            "needs_background": "light"
          }
        },
        {
          "output_type": "stream",
          "name": "stdout",
          "text": [
            "\n",
            "\n"
          ]
        },
        {
          "output_type": "display_data",
          "data": {
            "text/plain": [
              "<Figure size 432x288 with 1 Axes>"
            ],
            "image/png": "[encoded data removed]"
          },
          "metadata": {
            "needs_background": "light"
          }
        }
      ]
    },
    {
      "cell_type": "markdown",
      "source": [
        "##Por meio desses dois gráficos que analisam os óbitos novos e os casos novos de covid19, podemos observar que as regiões mais afetadas pela covid são as regiões Nordeste,Sudeste e sul respectivamente."
      ],
      "metadata": {
        "id": "gTEdELlYj46B"
      }
    },
    {
      "cell_type": "markdown",
      "source": [
        "#4 -  Qual o ano mais afetado pela Covid 19 ?"
      ],
      "metadata": {
        "id": "lRRVnbLtkSCH"
      }
    },
    {
      "cell_type": "code",
      "source": [
        "data = pd.DataFrame(columns = ['Ano' , 'QtdCasosNovos'])\n",
        "data.loc[0] = ['2020',DadosBrasil2020['casosNovos'].sum()]\n",
        "data.loc[1] = ['2021',DadosBrasil2021['casosNovos'].sum()]\n",
        "data.loc[2] = ['2022',DadosBrasil2022['casosNovos'].sum()]\n",
        "\n",
        "GroupState1 = data.groupby('Ano')\n",
        "GroupState1.sum()['QtdCasosNovos'].plot(kind='bar', color='#EF2D56')\n",
        "plt.xlabel('Ano')\n",
        "plt.ylabel('QtdCasosNovos')\n",
        "plt.yscale('log')\n",
        "plt.show()"
      ],
      "metadata": {
        "colab": {
          "base_uri": "https://localhost:8080/",
          "height": 295
        },
        "id": "mb-jIhqmkVL2",
        "outputId": "9a68bc3f-d21b-4369-d4b5-5332a3be702b"
      },
      "execution_count": 236,
      "outputs": [
        {
          "output_type": "display_data",
          "data": {
            "text/plain": [
              "<Figure size 432x288 with 1 Axes>"
            ],
            "image/png": "[encoded data removed]"
          },
          "metadata": {
            "needs_background": "light"
          }
        }
      ]
    },
    {
      "cell_type": "markdown",
      "source": [
        "## Por meio desse gráfico, podemos notar que o ano mais afetado com novos casos de covid19 é o ano de 2021 com maior número de aparecimento de novos casos dentre os 3 anos"
      ],
      "metadata": {
        "id": "d8jVoI1KuX6F"
      }
    },
    {
      "cell_type": "markdown",
      "source": [
        "#5 - Qual a probabilidade de ocorrer um caso em Minas Gerais ?"
      ],
      "metadata": {
        "id": "-UIykCLfuig3"
      }
    },
    {
      "cell_type": "code",
      "source": [
        "#Considerando todos os anos e voltando apenas para o estado de Minas Gerais, temos que a probabilidade de ocorrer um caso novo, seja uma relação entre os casos novos e o número de pessoas no estado de minas\n",
        "# População estimada em Minas Gerais = 21.411.923 no ano de 2021\n",
        "\n",
        "Minas = RegioesBrasilFull[RegioesBrasilFull['estado'] == 'MG']['casosNovos'].sum()\n",
        "print(f'A probabilidade é de {(Minas/21411923)*100}%')"
      ],
      "metadata": {
        "colab": {
          "base_uri": "https://localhost:8080/"
        },
        "id": "ewazYIJFunQe",
        "outputId": "c6a0f352-19fa-456b-c0b2-2c7ceb1b3db6"
      },
      "execution_count": 237,
      "outputs": [
        {
          "output_type": "stream",
          "name": "stdout",
          "text": [
            "A probabilidade é de 32.11344912831977%\n"
          ]
        }
      ]
    },
    {
      "cell_type": "markdown",
      "source": [
        "#6 - Qual a probabilidade de ocorrer um novo caso de Covid em 2022 ?"
      ],
      "metadata": {
        "id": "U3QEGXaOw7Lc"
      }
    },
    {
      "cell_type": "code",
      "source": [
        "#Estimativa da população brasileira em 2022  == 216 577 254\n",
        "\n",
        "Dados = DadosBrasil2022['casosNovos'].sum()\n",
        "print(f'A probabilidade é de {(Dados/216577254)*100}%')"
      ],
      "metadata": {
        "colab": {
          "base_uri": "https://localhost:8080/"
        },
        "id": "t2WCSMMtw9H9",
        "outputId": "8cc8b0ae-57b4-4e85-a493-f24d07fe8589"
      },
      "execution_count": 238,
      "outputs": [
        {
          "output_type": "stream",
          "name": "stdout",
          "text": [
            "A probabilidade é de 4.086282301833968%\n"
          ]
        }
      ]
    },
    {
      "cell_type": "markdown",
      "source": [
        "#7 - Qual o estado teve o maior número de casos em 2022 ?"
      ],
      "metadata": {
        "id": "Vqlt4OqT-M4Z"
      }
    },
    {
      "cell_type": "code",
      "source": [
        "RegioesBrasil2022"
      ],
      "metadata": {
        "colab": {
          "base_uri": "https://localhost:8080/",
          "height": 661
        },
        "id": "xa23sv8g_pVV",
        "outputId": "5f7f3db4-4ef8-48f2-c5c1-95048f7414dc"
      },
      "execution_count": 239,
      "outputs": [
        {
          "output_type": "execute_result",
          "data": {
            "text/plain": [
              "              regiao estado municipio  coduf    codmun  codRegiaoSaude  \\\n",
              "154            Norte     RO       NaN     11       NaN             NaN   \n",
              "155            Norte     RO       NaN     11       NaN             NaN   \n",
              "156            Norte     RO       NaN     11       NaN             NaN   \n",
              "157            Norte     RO       NaN     11       NaN             NaN   \n",
              "158            Norte     RO       NaN     11       NaN             NaN   \n",
              "...              ...    ...       ...    ...       ...             ...   \n",
              "865321  Centro-Oeste     DF  Brasília     53  530010.0         53001.0   \n",
              "865322  Centro-Oeste     DF  Brasília     53  530010.0         53001.0   \n",
              "865323  Centro-Oeste     DF  Brasília     53  530010.0         53001.0   \n",
              "865324  Centro-Oeste     DF  Brasília     53  530010.0         53001.0   \n",
              "865325  Centro-Oeste     DF  Brasília     53  530010.0         53001.0   \n",
              "\n",
              "         nomeRegiaoSaude        data  semanaEpi  populacaoTCU2019  \\\n",
              "154                  NaN  2022-01-01         52         1777225.0   \n",
              "155                  NaN  2022-01-02          1         1777225.0   \n",
              "156                  NaN  2022-01-03          1         1777225.0   \n",
              "157                  NaN  2022-01-04          1         1777225.0   \n",
              "158                  NaN  2022-01-05          1         1777225.0   \n",
              "...                  ...         ...        ...               ...   \n",
              "865321  DISTRITO FEDERAL  2022-05-30         22         3015268.0   \n",
              "865322  DISTRITO FEDERAL  2022-05-31         22         3015268.0   \n",
              "865323  DISTRITO FEDERAL  2022-06-01         22         3015268.0   \n",
              "865324  DISTRITO FEDERAL  2022-06-02         22         3015268.0   \n",
              "865325  DISTRITO FEDERAL  2022-06-03         22         3015268.0   \n",
              "\n",
              "        casosAcumulado  casosNovos  obitosAcumulado  obitosNovos  \\\n",
              "154           284660.0          34             6737            3   \n",
              "155           284692.0          32             6739            2   \n",
              "156           284783.0          91             6742            3   \n",
              "157           285037.0         254             6745            3   \n",
              "158           285269.0         232             6748            3   \n",
              "...                ...         ...              ...          ...   \n",
              "865321        708552.0        2604            11691            1   \n",
              "865322        710694.0        2142            11691            0   \n",
              "865323        712968.0        2274            11692            1   \n",
              "865324        715938.0        2970            11692            0   \n",
              "865325        718242.0        2304            11692            0   \n",
              "\n",
              "        interior/metropolitana      Prop  \n",
              "154                        NaN  0.000019  \n",
              "155                        NaN  0.000018  \n",
              "156                        NaN  0.000051  \n",
              "157                        NaN  0.000143  \n",
              "158                        NaN  0.000131  \n",
              "...                        ...       ...  \n",
              "865321                     1.0  0.000864  \n",
              "865322                     1.0  0.000710  \n",
              "865323                     1.0  0.000754  \n",
              "865324                     1.0  0.000985  \n",
              "865325                     1.0  0.000764  \n",
              "\n",
              "[865172 rows x 16 columns]"
            ],
            "text/html": [
              "\n",
              "  <div id=\"df-9c34e177-7696-4661-91b8-54d8369a6c98\">\n",
              "    <div class=\"colab-df-container\">\n",
              "      <div>\n",
              "<style scoped>\n",
              "    .dataframe tbody tr th:only-of-type {\n",
              "        vertical-align: middle;\n",
              "    }\n",
              "\n",
              "    .dataframe tbody tr th {\n",
              "        vertical-align: top;\n",
              "    }\n",
              "\n",
              "    .dataframe thead th {\n",
              "        text-align: right;\n",
              "    }\n",
              "</style>\n",
              "<table border=\"1\" class=\"dataframe\">\n",
              "  <thead>\n",
              "    <tr style=\"text-align: right;\">\n",
              "      <th></th>\n",
              "      <th>regiao</th>\n",
              "      <th>estado</th>\n",
              "      <th>municipio</th>\n",
              "      <th>coduf</th>\n",
              "      <th>codmun</th>\n",
              "      <th>codRegiaoSaude</th>\n",
              "      <th>nomeRegiaoSaude</th>\n",
              "      <th>data</th>\n",
              "      <th>semanaEpi</th>\n",
              "      <th>populacaoTCU2019</th>\n",
              "      <th>casosAcumulado</th>\n",
              "      <th>casosNovos</th>\n",
              "      <th>obitosAcumulado</th>\n",
              "      <th>obitosNovos</th>\n",
              "      <th>interior/metropolitana</th>\n",
              "      <th>Prop</th>\n",
              "    </tr>\n",
              "  </thead>\n",
              "  <tbody>\n",
              "    <tr>\n",
              "      <th>154</th>\n",
              "      <td>Norte</td>\n",
              "      <td>RO</td>\n",
              "      <td>NaN</td>\n",
              "      <td>11</td>\n",
              "      <td>NaN</td>\n",
              "      <td>NaN</td>\n",
              "      <td>NaN</td>\n",
              "      <td>2022-01-01</td>\n",
              "      <td>52</td>\n",
              "      <td>1777225.0</td>\n",
              "      <td>284660.0</td>\n",
              "      <td>34</td>\n",
              "      <td>6737</td>\n",
              "      <td>3</td>\n",
              "      <td>NaN</td>\n",
              "      <td>0.000019</td>\n",
              "    </tr>\n",
              "    <tr>\n",
              "      <th>155</th>\n",
              "      <td>Norte</td>\n",
              "      <td>RO</td>\n",
              "      <td>NaN</td>\n",
              "      <td>11</td>\n",
              "      <td>NaN</td>\n",
              "      <td>NaN</td>\n",
              "      <td>NaN</td>\n",
              "      <td>2022-01-02</td>\n",
              "      <td>1</td>\n",
              "      <td>1777225.0</td>\n",
              "      <td>284692.0</td>\n",
              "      <td>32</td>\n",
              "      <td>6739</td>\n",
              "      <td>2</td>\n",
              "      <td>NaN</td>\n",
              "      <td>0.000018</td>\n",
              "    </tr>\n",
              "    <tr>\n",
              "      <th>156</th>\n",
              "      <td>Norte</td>\n",
              "      <td>RO</td>\n",
              "      <td>NaN</td>\n",
              "      <td>11</td>\n",
              "      <td>NaN</td>\n",
              "      <td>NaN</td>\n",
              "      <td>NaN</td>\n",
              "      <td>2022-01-03</td>\n",
              "      <td>1</td>\n",
              "      <td>1777225.0</td>\n",
              "      <td>284783.0</td>\n",
              "      <td>91</td>\n",
              "      <td>6742</td>\n",
              "      <td>3</td>\n",
              "      <td>NaN</td>\n",
              "      <td>0.000051</td>\n",
              "    </tr>\n",
              "    <tr>\n",
              "      <th>157</th>\n",
              "      <td>Norte</td>\n",
              "      <td>RO</td>\n",
              "      <td>NaN</td>\n",
              "      <td>11</td>\n",
              "      <td>NaN</td>\n",
              "      <td>NaN</td>\n",
              "      <td>NaN</td>\n",
              "      <td>2022-01-04</td>\n",
              "      <td>1</td>\n",
              "      <td>1777225.0</td>\n",
              "      <td>285037.0</td>\n",
              "      <td>254</td>\n",
              "      <td>6745</td>\n",
              "      <td>3</td>\n",
              "      <td>NaN</td>\n",
              "      <td>0.000143</td>\n",
              "    </tr>\n",
              "    <tr>\n",
              "      <th>158</th>\n",
              "      <td>Norte</td>\n",
              "      <td>RO</td>\n",
              "      <td>NaN</td>\n",
              "      <td>11</td>\n",
              "      <td>NaN</td>\n",
              "      <td>NaN</td>\n",
              "      <td>NaN</td>\n",
              "      <td>2022-01-05</td>\n",
              "      <td>1</td>\n",
              "      <td>1777225.0</td>\n",
              "      <td>285269.0</td>\n",
              "      <td>232</td>\n",
              "      <td>6748</td>\n",
              "      <td>3</td>\n",
              "      <td>NaN</td>\n",
              "      <td>0.000131</td>\n",
              "    </tr>\n",
              "    <tr>\n",
              "      <th>...</th>\n",
              "      <td>...</td>\n",
              "      <td>...</td>\n",
              "      <td>...</td>\n",
              "      <td>...</td>\n",
              "      <td>...</td>\n",
              "      <td>...</td>\n",
              "      <td>...</td>\n",
              "      <td>...</td>\n",
              "      <td>...</td>\n",
              "      <td>...</td>\n",
              "      <td>...</td>\n",
              "      <td>...</td>\n",
              "      <td>...</td>\n",
              "      <td>...</td>\n",
              "      <td>...</td>\n",
              "      <td>...</td>\n",
              "    </tr>\n",
              "    <tr>\n",
              "      <th>865321</th>\n",
              "      <td>Centro-Oeste</td>\n",
              "      <td>DF</td>\n",
              "      <td>Brasília</td>\n",
              "      <td>53</td>\n",
              "      <td>530010.0</td>\n",
              "      <td>53001.0</td>\n",
              "      <td>DISTRITO FEDERAL</td>\n",
              "      <td>2022-05-30</td>\n",
              "      <td>22</td>\n",
              "      <td>3015268.0</td>\n",
              "      <td>708552.0</td>\n",
              "      <td>2604</td>\n",
              "      <td>11691</td>\n",
              "      <td>1</td>\n",
              "      <td>1.0</td>\n",
              "      <td>0.000864</td>\n",
              "    </tr>\n",
              "    <tr>\n",
              "      <th>865322</th>\n",
              "      <td>Centro-Oeste</td>\n",
              "      <td>DF</td>\n",
              "      <td>Brasília</td>\n",
              "      <td>53</td>\n",
              "      <td>530010.0</td>\n",
              "      <td>53001.0</td>\n",
              "      <td>DISTRITO FEDERAL</td>\n",
              "      <td>2022-05-31</td>\n",
              "      <td>22</td>\n",
              "      <td>3015268.0</td>\n",
              "      <td>710694.0</td>\n",
              "      <td>2142</td>\n",
              "      <td>11691</td>\n",
              "      <td>0</td>\n",
              "      <td>1.0</td>\n",
              "      <td>0.000710</td>\n",
              "    </tr>\n",
              "    <tr>\n",
              "      <th>865323</th>\n",
              "      <td>Centro-Oeste</td>\n",
              "      <td>DF</td>\n",
              "      <td>Brasília</td>\n",
              "      <td>53</td>\n",
              "      <td>530010.0</td>\n",
              "      <td>53001.0</td>\n",
              "      <td>DISTRITO FEDERAL</td>\n",
              "      <td>2022-06-01</td>\n",
              "      <td>22</td>\n",
              "      <td>3015268.0</td>\n",
              "      <td>712968.0</td>\n",
              "      <td>2274</td>\n",
              "      <td>11692</td>\n",
              "      <td>1</td>\n",
              "      <td>1.0</td>\n",
              "      <td>0.000754</td>\n",
              "    </tr>\n",
              "    <tr>\n",
              "      <th>865324</th>\n",
              "      <td>Centro-Oeste</td>\n",
              "      <td>DF</td>\n",
              "      <td>Brasília</td>\n",
              "      <td>53</td>\n",
              "      <td>530010.0</td>\n",
              "      <td>53001.0</td>\n",
              "      <td>DISTRITO FEDERAL</td>\n",
              "      <td>2022-06-02</td>\n",
              "      <td>22</td>\n",
              "      <td>3015268.0</td>\n",
              "      <td>715938.0</td>\n",
              "      <td>2970</td>\n",
              "      <td>11692</td>\n",
              "      <td>0</td>\n",
              "      <td>1.0</td>\n",
              "      <td>0.000985</td>\n",
              "    </tr>\n",
              "    <tr>\n",
              "      <th>865325</th>\n",
              "      <td>Centro-Oeste</td>\n",
              "      <td>DF</td>\n",
              "      <td>Brasília</td>\n",
              "      <td>53</td>\n",
              "      <td>530010.0</td>\n",
              "      <td>53001.0</td>\n",
              "      <td>DISTRITO FEDERAL</td>\n",
              "      <td>2022-06-03</td>\n",
              "      <td>22</td>\n",
              "      <td>3015268.0</td>\n",
              "      <td>718242.0</td>\n",
              "      <td>2304</td>\n",
              "      <td>11692</td>\n",
              "      <td>0</td>\n",
              "      <td>1.0</td>\n",
              "      <td>0.000764</td>\n",
              "    </tr>\n",
              "  </tbody>\n",
              "</table>\n",
              "<p>865172 rows × 16 columns</p>\n",
              "</div>\n",
              "      <button class=\"colab-df-convert\" onclick=\"convertToInteractive('df-9c34e177-7696-4661-91b8-54d8369a6c98')\"\n",
              "              title=\"Convert this dataframe to an interactive table.\"\n",
              "              style=\"display:none;\">\n",
              "        \n",
              "  <svg xmlns=\"http://www.w3.org/2000/svg\" height=\"24px\"viewBox=\"0 0 24 24\"\n",
              "       width=\"24px\">\n",
              "    <path d=\"M0 0h24v24H0V0z\" fill=\"none\"/>\n",
              "    <path d=\"M18.56 5.44l.94 2.06.94-2.06 2.06-.94-2.06-.94-.94-2.06-.94 2.06-2.06.94zm-11 1L8.5 8.5l.94-2.06 2.06-.94-2.06-.94L8.5 2.5l-.94 2.06-2.06.94zm10 10l.94 2.06.94-2.06 2.06-.94-2.06-.94-.94-2.06-.94 2.06-2.06.94z\"/><path d=\"M17.41 7.96l-1.37-1.37c-.4-.4-.92-.59-1.43-.59-.52 0-1.04.2-1.43.59L10.3 9.45l-7.72 7.72c-.78.78-.78 2.05 0 2.83L4 21.41c.39.39.9.59 1.41.59.51 0 1.02-.2 1.41-.59l7.78-7.78 2.81-2.81c.8-.78.8-2.07 0-2.86zM5.41 20L4 18.59l7.72-7.72 1.47 1.35L5.41 20z\"/>\n",
              "  </svg>\n",
              "      </button>\n",
              "      \n",
              "  <style>\n",
              "    .colab-df-container {\n",
              "      display:flex;\n",
              "      flex-wrap:wrap;\n",
              "      gap: 12px;\n",
              "    }\n",
              "\n",
              "    .colab-df-convert {\n",
              "      background-color: #E8F0FE;\n",
              "      border: none;\n",
              "      border-radius: 50%;\n",
              "      cursor: pointer;\n",
              "      display: none;\n",
              "      fill: #1967D2;\n",
              "      height: 32px;\n",
              "      padding: 0 0 0 0;\n",
              "      width: 32px;\n",
              "    }\n",
              "\n",
              "    .colab-df-convert:hover {\n",
              "      background-color: #E2EBFA;\n",
              "      box-shadow: 0px 1px 2px rgba(60, 64, 67, 0.3), 0px 1px 3px 1px rgba(60, 64, 67, 0.15);\n",
              "      fill: #174EA6;\n",
              "    }\n",
              "\n",
              "    [theme=dark] .colab-df-convert {\n",
              "      background-color: #3B4455;\n",
              "      fill: #D2E3FC;\n",
              "    }\n",
              "\n",
              "    [theme=dark] .colab-df-convert:hover {\n",
              "      background-color: #434B5C;\n",
              "      box-shadow: 0px 1px 3px 1px rgba(0, 0, 0, 0.15);\n",
              "      filter: drop-shadow(0px 1px 2px rgba(0, 0, 0, 0.3));\n",
              "      fill: #FFFFFF;\n",
              "    }\n",
              "  </style>\n",
              "\n",
              "      <script>\n",
              "        const buttonEl =\n",
              "          document.querySelector('#df-9c34e177-7696-4661-91b8-54d8369a6c98 button.colab-df-convert');\n",
              "        buttonEl.style.display =\n",
              "          google.colab.kernel.accessAllowed ? 'block' : 'none';\n",
              "\n",
              "        async function convertToInteractive(key) {\n",
              "          const element = document.querySelector('#df-9c34e177-7696-4661-91b8-54d8369a6c98');\n",
              "          const dataTable =\n",
              "            await google.colab.kernel.invokeFunction('convertToInteractive',\n",
              "                                                     [key], {});\n",
              "          if (!dataTable) return;\n",
              "\n",
              "          const docLinkHtml = 'Like what you see? Visit the ' +\n",
              "            '<a target=\"_blank\" href=https://colab.research.google.com/notebooks/data_table.ipynb>data table notebook</a>'\n",
              "            + ' to learn more about interactive tables.';\n",
              "          element.innerHTML = '';\n",
              "          dataTable['output_type'] = 'display_data';\n",
              "          await google.colab.output.renderOutput(dataTable, element);\n",
              "          const docLink = document.createElement('div');\n",
              "          docLink.innerHTML = docLinkHtml;\n",
              "          element.appendChild(docLink);\n",
              "        }\n",
              "      </script>\n",
              "    </div>\n",
              "  </div>\n",
              "  "
            ]
          },
          "metadata": {},
          "execution_count": 239
        }
      ]
    },
    {
      "cell_type": "code",
      "source": [
        "estadosAgrupados = RegioesBrasil2022.groupby('estado')\n",
        "estadosOrdenados = estadosAgrupados['casosNovos'].sum().sort_values()\n",
        "estadosOrdenados"
      ],
      "metadata": {
        "colab": {
          "base_uri": "https://localhost:8080/"
        },
        "id": "RKdpIy2P_9wK",
        "outputId": "86e42e6f-787b-4c23-e517-932c169dd144"
      },
      "execution_count": 240,
      "outputs": [
        {
          "output_type": "execute_result",
          "data": {
            "text/plain": [
              "estado\n",
              "RR      53510\n",
              "AP      66924\n",
              "PI      67316\n",
              "AC      73454\n",
              "SE      97974\n",
              "AL     114698\n",
              "MA     136732\n",
              "TO     142926\n",
              "RO     239734\n",
              "RN     240142\n",
              "PB     282762\n",
              "AM     298044\n",
              "PA     299718\n",
              "MS     310690\n",
              "MT     360150\n",
              "DF     396862\n",
              "BA     558014\n",
              "CE     580612\n",
              "PE     587856\n",
              "ES     852016\n",
              "GO     871078\n",
              "SC    1009636\n",
              "RJ    1710776\n",
              "RS    1889352\n",
              "PR    1892672\n",
              "SP    2143236\n",
              "MG    2423032\n",
              "Name: casosNovos, dtype: int64"
            ]
          },
          "metadata": {},
          "execution_count": 240
        }
      ]
    },
    {
      "cell_type": "code",
      "source": [
        "estadosAgrupados = RegioesBrasil2022.groupby('estado')\n",
        "estadosAgrupados.sum()['casosNovos'].plot(kind='bar', color='#EF2D56')\n",
        "plt.ylabel('CasosNovos')\n",
        "plt.xlabel('Região')\n",
        "print(\"Quantidade de casos novos no dataframe de 2022\")\n",
        "plt.show()"
      ],
      "metadata": {
        "colab": {
          "base_uri": "https://localhost:8080/",
          "height": 314
        },
        "id": "WZkvsR8NCvY2",
        "outputId": "7e7458af-5854-4b27-eec9-7b38f96613e5"
      },
      "execution_count": 241,
      "outputs": [
        {
          "output_type": "stream",
          "name": "stdout",
          "text": [
            "Quantidade de casos novos no dataframe de 2022\n"
          ]
        },
        {
          "output_type": "display_data",
          "data": {
            "text/plain": [
              "<Figure size 432x288 with 1 Axes>"
            ],
            "image/png": "[encoded data removed]"
          },
          "metadata": {
            "needs_background": "light"
          }
        }
      ]
    },
    {
      "cell_type": "markdown",
      "source": [
        "Verificando os dados depois de ordenados, isto em ordem crescente, e verificando o gráfico de barras acima, o estado que teve a maior taxa de covid foi o estado de Minas Gerais."
      ],
      "metadata": {
        "id": "-8K7Q297DHTT"
      }
    },
    {
      "cell_type": "markdown",
      "source": [
        "# 8 - Qual o estado teve o menor número de casos em 2021 ?"
      ],
      "metadata": {
        "id": "A9EroZdURyYm"
      }
    },
    {
      "cell_type": "markdown",
      "source": [
        "Para sabermos qual foi o estado que menor teve casos de covid no anos de 2021, iremos primeiro agrupar o dataframe por estado e ordená-lo verificando qual estado teve menor número de casos em 2021"
      ],
      "metadata": {
        "id": "8edrpwC6T3sL"
      }
    },
    {
      "cell_type": "code",
      "source": [
        "estadosOrdenados = RegioesBrasil2021.groupby('estado')\n",
        "estadosOrdenados = estadosOrdenados['casosNovos'].sum().sort_values()\n",
        "estadosOrdenados"
      ],
      "metadata": {
        "colab": {
          "base_uri": "https://localhost:8080/"
        },
        "id": "vTLjleQ_WeeN",
        "outputId": "60837104-d665-434c-c50f-e3ad32596add"
      },
      "execution_count": 242,
      "outputs": [
        {
          "output_type": "execute_result",
          "data": {
            "text/plain": [
              "estado\n",
              "AC      93528\n",
              "AP     117560\n",
              "RR     120794\n",
              "AL     274524\n",
              "TO     290400\n",
              "SE     332050\n",
              "MA     339414\n",
              "RO     377794\n",
              "PI     383536\n",
              "AM     465600\n",
              "MS     493288\n",
              "DF     536220\n",
              "RN     538238\n",
              "PB     595702\n",
              "PA     663846\n",
              "MT     748850\n",
              "ES     763278\n",
              "PE     847030\n",
              "CE    1242468\n",
              "GO    1277672\n",
              "SC    1501904\n",
              "BA    1554916\n",
              "RJ    1836352\n",
              "RS    2114886\n",
              "PR    2363472\n",
              "MG    3362152\n",
              "SP    5987622\n",
              "Name: casosNovos, dtype: int64"
            ]
          },
          "metadata": {},
          "execution_count": 242
        }
      ]
    },
    {
      "cell_type": "markdown",
      "source": [
        "Acima é possível ver em ordem crescente que o estado que teve o menor número de casos em 2021 foi o estado do Acré, agora plotaremos um gráfico de barras para ver esta diferença com os outros estados. Veja abaixo:"
      ],
      "metadata": {
        "id": "eKrZGwgHXg2U"
      }
    },
    {
      "cell_type": "code",
      "source": [
        "estadosAgrupados = RegioesBrasil2021.groupby('estado')\n",
        "estadosAgrupados.sum()['casosNovos'].plot(kind='bar', color='#EF2D56')\n",
        "plt.ylabel('CasosNovos')\n",
        "plt.xlabel('Região')\n",
        "print(\"Quantidade de casos novos no dataframe de 2021\")\n",
        "plt.show()"
      ],
      "metadata": {
        "colab": {
          "base_uri": "https://localhost:8080/",
          "height": 314
        },
        "id": "M2xVdF_4X4Tn",
        "outputId": "7572df13-aed6-48b0-94a9-6d5c80b856ff"
      },
      "execution_count": 243,
      "outputs": [
        {
          "output_type": "stream",
          "name": "stdout",
          "text": [
            "Quantidade de casos novos no dataframe de 2021\n"
          ]
        },
        {
          "output_type": "display_data",
          "data": {
            "text/plain": [
              "<Figure size 432x288 with 1 Axes>"
            ],
            "image/png": "[encoded data removed]"
          },
          "metadata": {
            "needs_background": "light"
          }
        }
      ]
    },
    {
      "cell_type": "markdown",
      "source": [
        "#9 - Qual a região teve mais sucesso no combate ao Covid, nos anos de 2020, 2021 2 2022 ?"
      ],
      "metadata": {
        "id": "Hf2_aVlgYbud"
      }
    },
    {
      "cell_type": "markdown",
      "source": [
        "Para desconbrir qual região teve mais sucesso ao combate ao covid primeiro vamos verficar quais regiões menos tiveram casos de covid, e verificar as regiões que tiveram menos morte."
      ],
      "metadata": {
        "id": "7lPPTWWZY1r_"
      }
    },
    {
      "cell_type": "code",
      "source": [
        "#Agrupando as regiões e verificando quais delas tiveram menos casos, vamos usar o dataframe que contenham todos os dados de 2020, 2021 e 2022\n",
        "regioesOrdenadas = RegioesBrasilFull.groupby('regiao')\n",
        "regioesOrdenadas['casosNovos'].sum().sort_values()"
      ],
      "metadata": {
        "colab": {
          "base_uri": "https://localhost:8080/"
        },
        "id": "-MmXkK-dZIDu",
        "outputId": "15b1b054-b95c-463d-fca2-776bfcbe3586"
      },
      "execution_count": 244,
      "outputs": [
        {
          "output_type": "execute_result",
          "data": {
            "text/plain": [
              "regiao\n",
              "Norte            5026375\n",
              "Centro-Oeste     6753684\n",
              "Nordeste        12609500\n",
              "Sul             13496022\n",
              "Sudeste         24471906\n",
              "Name: casosNovos, dtype: int64"
            ]
          },
          "metadata": {},
          "execution_count": 244
        }
      ]
    },
    {
      "cell_type": "markdown",
      "source": [
        "Nos anos de 2020 a 2022 a região norte teve menos casos novos de covid, ou seja, foi a região que menos teve casos. Veja no gráfico abaixo esta descrepância:"
      ],
      "metadata": {
        "id": "c9a7CZaWaHAo"
      }
    },
    {
      "cell_type": "code",
      "source": [
        "regioesOrdenadas.sum()['casosNovos'].plot(kind='bar', color='#EF2D56')\n",
        "plt.ylabel('CasosNovos')\n",
        "plt.xlabel('Região')\n",
        "print(\"Quantidade de casos novos no dataframe de 2021\")\n",
        "plt.show()\n"
      ],
      "metadata": {
        "colab": {
          "base_uri": "https://localhost:8080/",
          "height": 364
        },
        "id": "igijtA-WaWFw",
        "outputId": "3d236f5f-817a-49aa-de63-6713361dc8a6"
      },
      "execution_count": 245,
      "outputs": [
        {
          "output_type": "stream",
          "name": "stdout",
          "text": [
            "Quantidade de casos novos no dataframe de 2021\n"
          ]
        },
        {
          "output_type": "display_data",
          "data": {
            "text/plain": [
              "<Figure size 432x288 with 1 Axes>"
            ],
            "image/png": "[encoded data removed]"
          },
          "metadata": {
            "needs_background": "light"
          }
        }
      ]
    },
    {
      "cell_type": "markdown",
      "source": [
        "Logo, é possível afirmar apenas vendo o gráfico de barras que a região norte foi a menos afetada."
      ],
      "metadata": {
        "id": "UMveL2IRbamY"
      }
    },
    {
      "cell_type": "markdown",
      "source": [
        "Agora iremos verificar qual região teve menos casos de óbitos"
      ],
      "metadata": {
        "id": "4qS_3VCNcTLw"
      }
    },
    {
      "cell_type": "code",
      "source": [
        "regioesOrdenadas['obitosNovos'].sum().sort_values()"
      ],
      "metadata": {
        "colab": {
          "base_uri": "https://localhost:8080/"
        },
        "id": "FvFNx1F4cSon",
        "outputId": "e423fa28-e1d7-425a-af53-5ab86d7f061e"
      },
      "execution_count": 246,
      "outputs": [
        {
          "output_type": "execute_result",
          "data": {
            "text/plain": [
              "regiao\n",
              "Norte           101142\n",
              "Centro-Oeste    128498\n",
              "Sul             209988\n",
              "Nordeste        260176\n",
              "Sudeste         640859\n",
              "Name: obitosNovos, dtype: int64"
            ]
          },
          "metadata": {},
          "execution_count": 246
        }
      ]
    },
    {
      "cell_type": "markdown",
      "source": [
        "A região que menos teve casos de óbitos foi o Norte. Veja no gráfico abaixo esta descrepância com os outros estados."
      ],
      "metadata": {
        "id": "6hSXiAEodqp-"
      }
    },
    {
      "cell_type": "code",
      "source": [
        "regioesOrdenadas.sum()['obitosNovos'].plot(kind='bar', color='#EF2D56')\n",
        "plt.ylabel('ObitosNovos')\n",
        "plt.xlabel('Região')\n",
        "print(\"Quantidade de casos novos no dataframe de 2021\")\n",
        "plt.show()\n"
      ],
      "metadata": {
        "colab": {
          "base_uri": "https://localhost:8080/",
          "height": 353
        },
        "id": "G0rmwHxIdcc8",
        "outputId": "5e3fc009-6e4d-4b10-c295-310663c29603"
      },
      "execution_count": 247,
      "outputs": [
        {
          "output_type": "stream",
          "name": "stdout",
          "text": [
            "Quantidade de casos novos no dataframe de 2021\n"
          ]
        },
        {
          "output_type": "display_data",
          "data": {
            "text/plain": [
              "<Figure size 432x288 with 1 Axes>"
            ],
            "image/png": "[encoded data removed]"
          },
          "metadata": {
            "needs_background": "light"
          }
        }
      ]
    },
    {
      "cell_type": "markdown",
      "source": [
        "Diante disso, analisando os anos de 2020, 2021 e 2022 a região que conteve mais o covid foi o Norte, pois foi o estado com menos casos e menas morte."
      ],
      "metadata": {
        "id": "a3dUnXTheg5I"
      }
    },
    {
      "cell_type": "markdown",
      "source": [
        "#10 - Qual a região que teve mais óbitos com a Covid ?"
      ],
      "metadata": {
        "id": "u0QMPEhMe3Xv"
      }
    },
    {
      "cell_type": "markdown",
      "source": [
        "A região que teve mais óbito de covid foi a região Sudeste. Veja no gráfico abaixo:"
      ],
      "metadata": {
        "id": "DIJEhcAxe52s"
      }
    },
    {
      "cell_type": "code",
      "source": [
        "country_group_sum = RegioesBrasilFull.groupby('regiao').sum().reset_index()\n",
        "plt.figure(figsize=(10,10))\n",
        "\n",
        "g=sns.barplot(data=country_group_sum, y='regiao', x='obitosNovos', orient='h')\n",
        "g.set_xscale('log')\n",
        "\n",
        "plt.show()"
      ],
      "metadata": {
        "colab": {
          "base_uri": "https://localhost:8080/",
          "height": 609
        },
        "id": "3JxugISNfXMq",
        "outputId": "effcf5da-4ff2-4fea-921d-dad75388492b"
      },
      "execution_count": 248,
      "outputs": [
        {
          "output_type": "display_data",
          "data": {
            "text/plain": [
              "<Figure size 720x720 with 1 Axes>"
            ],
            "image/png": "[encoded data removed]"
          },
          "metadata": {
            "needs_background": "light"
          }
        }
      ]
    },
    {
      "cell_type": "markdown",
      "source": [
        "# 16) Analise os óbitos diários por covid nos anos de 2020, 2021 e 2022.\n",
        "Para fazer uma análise dos óbitos diários por covid nos anos de 2020, 2021 e 2022 será utilizado o boxplot.\n"
      ],
      "metadata": {
        "id": "xUyiIHHfA1jn"
      }
    },
    {
      "cell_type": "markdown",
      "source": [
        "# Boxplot dos óbitos em 2020"
      ],
      "metadata": {
        "id": "DNdMXRFSBa_4"
      }
    },
    {
      "cell_type": "code",
      "source": [
        "sns.boxplot(x=DadosBrasil2020['obitosNovos']) \n",
        "plt.show()"
      ],
      "metadata": {
        "colab": {
          "base_uri": "https://localhost:8080/",
          "height": 279
        },
        "id": "7L9C_y-Z8y6_",
        "outputId": "3b621c57-2ec1-4038-e81d-0ccede08bc9d"
      },
      "execution_count": 249,
      "outputs": [
        {
          "output_type": "display_data",
          "data": {
            "text/plain": [
              "<Figure size 432x288 with 1 Axes>"
            ],
            "image/png": "[encoded data removed]"
          },
          "metadata": {
            "needs_background": "light"
          }
        }
      ]
    },
    {
      "cell_type": "markdown",
      "source": [
        "# Boxplot dos óbitos em 2021"
      ],
      "metadata": {
        "id": "nmM_CalRBxog"
      }
    },
    {
      "cell_type": "code",
      "source": [
        "sns.boxplot(x=DadosBrasil2021['obitosNovos']) \n",
        "plt.show()"
      ],
      "metadata": {
        "colab": {
          "base_uri": "https://localhost:8080/",
          "height": 0
        },
        "id": "jBSF5q91B0Vf",
        "outputId": "b6c8290b-c2b1-449b-f769-7ea6aa137994"
      },
      "execution_count": 250,
      "outputs": [
        {
          "output_type": "display_data",
          "data": {
            "text/plain": [
              "<Figure size 432x288 with 1 Axes>"
            ],
            "image/png": "[encoded data removed]"
          },
          "metadata": {
            "needs_background": "light"
          }
        }
      ]
    },
    {
      "cell_type": "markdown",
      "source": [
        "# Boxplot dos óbitos em 2022"
      ],
      "metadata": {
        "id": "HflEvsIaB50X"
      }
    },
    {
      "cell_type": "code",
      "source": [
        "sns.boxplot(x=DadosBrasil2022['obitosNovos']) \n",
        "plt.show()"
      ],
      "metadata": {
        "colab": {
          "base_uri": "https://localhost:8080/",
          "height": 0
        },
        "id": "nnKRFJcbB-RG",
        "outputId": "d327d6fd-1bad-4a79-d236-a07a26f9a2c3"
      },
      "execution_count": 251,
      "outputs": [
        {
          "output_type": "display_data",
          "data": {
            "text/plain": [
              "<Figure size 432x288 with 1 Axes>"
            ],
            "image/png": "[encoded data removed]"
          },
          "metadata": {
            "needs_background": "light"
          }
        }
      ]
    },
    {
      "cell_type": "markdown",
      "source": [
        "Através dos boxplots criados foi possível perceber que as mortes diárias se elevaram de 2020 para 2021 e diminuíram de 2021 para 2022. Isso ficou perceptível através do maior número de óbito e o 3º quartil de cada ano, sendo que:\n",
        "\n",
        "*   Em 2020 o maior óbito diário ficou por volta dos 1.600 e o 3º quartil por volta de 970.\n",
        "*   Em 2021 o maior óbito diário ficou por volta dos 3.500 e o 3º quartil por volta de 1600.\n",
        "* Em 2020 o maior óbito diário ficou por volta dos 800 e o 3º quartil por volta de 390.\n",
        "\n",
        "Vale lembrar que foi desconsiderado os outliers na análise realizada.\n",
        "\n"
      ],
      "metadata": {
        "id": "K4yyw9e5CzLn"
      }
    },
    {
      "cell_type": "markdown",
      "source": [
        "# 17) Identifique os quartis de cada boxplot gerado na questão 11."
      ],
      "metadata": {
        "id": "bmrqe801He0G"
      }
    },
    {
      "cell_type": "code",
      "source": [
        "# Ano de 2020\n",
        "display(np.percentile(DadosBrasil2020['obitosNovos'],25))\n",
        "display(np.percentile(DadosBrasil2020['obitosNovos'],50))\n",
        "display(np.percentile(DadosBrasil2020['obitosNovos'],75))\n",
        "print()\n",
        "# Ano de 2021\n",
        "display(np.percentile(DadosBrasil2021['obitosNovos'],25))\n",
        "display(np.percentile(DadosBrasil2021['obitosNovos'],50))\n",
        "display(np.percentile(DadosBrasil2021['obitosNovos'],75))\n",
        "print()\n",
        "# Ano de 2022\n",
        "display(np.percentile(DadosBrasil2022['obitosNovos'],25))\n",
        "display(np.percentile(DadosBrasil2022['obitosNovos'],50))\n",
        "display(np.percentile(DadosBrasil2022['obitosNovos'],75))"
      ],
      "metadata": {
        "colab": {
          "base_uri": "https://localhost:8080/",
          "height": 208
        },
        "id": "mTtZ5FFpIgv-",
        "outputId": "6d402bdb-f63c-48ee-a1e5-19cd4f0d5e07"
      },
      "execution_count": 252,
      "outputs": [
        {
          "output_type": "display_data",
          "data": {
            "text/plain": [
              "293.0"
            ]
          },
          "metadata": {}
        },
        {
          "output_type": "display_data",
          "data": {
            "text/plain": [
              "627.0"
            ]
          },
          "metadata": {}
        },
        {
          "output_type": "display_data",
          "data": {
            "text/plain": [
              "957.0"
            ]
          },
          "metadata": {}
        },
        {
          "output_type": "stream",
          "name": "stdout",
          "text": [
            "\n"
          ]
        },
        {
          "output_type": "display_data",
          "data": {
            "text/plain": [
              "389.0"
            ]
          },
          "metadata": {}
        },
        {
          "output_type": "display_data",
          "data": {
            "text/plain": [
              "962.0"
            ]
          },
          "metadata": {}
        },
        {
          "output_type": "display_data",
          "data": {
            "text/plain": [
              "1641.0"
            ]
          },
          "metadata": {}
        },
        {
          "output_type": "stream",
          "name": "stdout",
          "text": [
            "\n"
          ]
        },
        {
          "output_type": "display_data",
          "data": {
            "text/plain": [
              "103.0"
            ]
          },
          "metadata": {}
        },
        {
          "output_type": "display_data",
          "data": {
            "text/plain": [
              "195.0"
            ]
          },
          "metadata": {}
        },
        {
          "output_type": "display_data",
          "data": {
            "text/plain": [
              "385.0"
            ]
          },
          "metadata": {}
        }
      ]
    },
    {
      "cell_type": "markdown",
      "source": [
        "Quartis de óbitos diários de 2020:\n",
        "* **1º quartil:** 293\n",
        "* **2º quartil:** 627\n",
        "* **3º quartil:** 957\n",
        "\n",
        "Quartis de óbitos diários de 2021:\n",
        "* **1º quartil:** 389\n",
        "* **2º quartil:** 962\n",
        "* **3º quartil:** 1641\n",
        "\n",
        "Quartis de óbitos diários de 2022:\n",
        "* **1º quartil:** 103\n",
        "* **2º quartil:** 195\n",
        "* **3º quartil:** 385\n",
        "\n",
        "Estes dados contribuem na confirmação da afirmação realizada na questão anterior."
      ],
      "metadata": {
        "id": "rx5MesCdHwYc"
      }
    },
    {
      "cell_type": "markdown",
      "source": [
        "# 18 - Os óbitos por covid ocorreram mais em regiões do interior ou em regiões metropolitanas ?\n",
        "Para responder a esta pergunta será utilizado um gráfico de pizza, onde cidade interior é representada por 0 e cidade metropolitana por 1."
      ],
      "metadata": {
        "id": "v7yv1c8-LWGU"
      }
    },
    {
      "cell_type": "code",
      "source": [
        "filtro = RegioesBrasilFull.groupby('interior/metropolitana').sum()\n",
        "filtro.index=filtro.index.astype(str)\n",
        "filtro.index.values[0]=\"Interior\"\n",
        "filtro.index.values[1]=\"Metropolitana\"\n",
        "\n",
        "fig=plt.figure(figsize=(10,7))\n",
        "plt.pie(labels=filtro.index,x=filtro['obitosNovos'])\n",
        "plt.show()"
      ],
      "metadata": {
        "colab": {
          "base_uri": "https://localhost:8080/",
          "height": 411
        },
        "id": "41wummkILj7W",
        "outputId": "8fdfdc60-f9f7-457e-c091-84f31f6e9106"
      },
      "execution_count": 253,
      "outputs": [
        {
          "output_type": "display_data",
          "data": {
            "text/plain": [
              "<Figure size 720x504 with 1 Axes>"
            ],
            "image/png": "[encoded data removed]"
          },
          "metadata": {}
        }
      ]
    },
    {
      "cell_type": "markdown",
      "source": [
        "Observando o gráfico de pizza acima podemos concluir que os óbitos são maiores em regiões do interior, no entanto, a porcentagem de óbitos para cada tipo de região está bem próxima."
      ],
      "metadata": {
        "id": "IF5mFWDxPsGm"
      }
    },
    {
      "cell_type": "markdown",
      "source": [
        "# 19) Como ocorreu os óbitos por covid na região sudeste nos anos de 2020, 2021, 2022?\n",
        "Para responder a esta pergunta usaremos gráfico de barras para cada ano."
      ],
      "metadata": {
        "id": "2sxKA5OuV5Of"
      }
    },
    {
      "cell_type": "code",
      "source": [
        "sudeste2020=RegioesBrasil2020.groupby('regiao').sum().reset_index()\n",
        "sudeste2020=sudeste2020.assign(ano=\"2020\")\n",
        "sudeste2021=RegioesBrasil2021.groupby('regiao').sum().reset_index()\n",
        "sudeste2021=sudeste2021.assign(ano=\"2021\")\n",
        "sudeste2022=RegioesBrasil2022.groupby('regiao').sum().reset_index()\n",
        "sudeste2022=sudeste2022.assign(ano=\"2022\")\n",
        "\n",
        "sudeste2020=sudeste2020[sudeste2020['regiao']==\"Sudeste\"]\n",
        "sudeste2021=sudeste2021[sudeste2021['regiao']==\"Sudeste\"]\n",
        "sudeste2022=sudeste2022[sudeste2022['regiao']==\"Sudeste\"]\n",
        "\n",
        "data =pd.concat([sudeste2020,sudeste2021,sudeste2022])\n",
        "data = data.groupby('ano').sum() \n",
        "data['obitosNovos'].plot(kind='bar', color='#EF2D56',title=\"Óbitos na região sudeste nos anos de 2020, 2021 e 2022\",ylabel=\"Quantidade\",xlabel=\"Ano\")\n",
        "plt.show()"
      ],
      "metadata": {
        "colab": {
          "base_uri": "https://localhost:8080/",
          "height": 313
        },
        "id": "y_LDGTv6WEjD",
        "outputId": "39cbbe03-c909-4735-c87b-a65ad05366c7"
      },
      "execution_count": 254,
      "outputs": [
        {
          "output_type": "display_data",
          "data": {
            "text/plain": [
              "<Figure size 432x288 with 1 Axes>"
            ],
            "image/png": "[encoded data removed]"
          },
          "metadata": {
            "needs_background": "light"
          }
        }
      ]
    },
    {
      "cell_type": "markdown",
      "source": [
        "Analisando a resposta da questão 11 poderiamos supor que as demais regiões também teriam um aumento nos óbitos de 2020 para 2021 e uma regressão de 2021 para 2022. Como de fato acontece, basta observar o gráfico de barras acima."
      ],
      "metadata": {
        "id": "hwmVBPp97BIu"
      }
    },
    {
      "cell_type": "markdown",
      "source": [
        "# 20) Identifique como ocorreu os óbitos por covid em cada estado da região sudeste."
      ],
      "metadata": {
        "id": "bE3K_x5l9cQI"
      }
    },
    {
      "cell_type": "code",
      "source": [
        "sudeste2020=RegioesBrasil2020[RegioesBrasil2020['regiao']==\"Sudeste\"]\n",
        "sudeste2021=RegioesBrasil2021[RegioesBrasil2021['regiao']==\"Sudeste\"]\n",
        "sudeste2022=RegioesBrasil2022[RegioesBrasil2022['regiao']==\"Sudeste\"]\n",
        "data = pd.concat([sudeste2020,sudeste2021,sudeste2022])\n",
        "data=data.groupby('estado').sum()\n",
        "fig=plt.figure(figsize=(10,7))\n",
        "plt.pie(labels=data.index,x=data['obitosNovos'])\n",
        "plt.show()"
      ],
      "metadata": {
        "colab": {
          "base_uri": "https://localhost:8080/",
          "height": 411
        },
        "id": "4Bq2DKDy8CbU",
        "outputId": "1b1c190e-2bdb-41fe-f6d9-c7382f05a2fe"
      },
      "execution_count": 255,
      "outputs": [
        {
          "output_type": "display_data",
          "data": {
            "text/plain": [
              "<Figure size 720x504 with 1 Axes>"
            ],
            "image/png": "[encoded data removed]"
          },
          "metadata": {}
        }
      ]
    },
    {
      "cell_type": "markdown",
      "source": [
        "A partir do gráfico de pizza acima podemos perceber que o estado de São Paulo é responsável por mais de 50% dos óbitos por covid da região sudeste. Depois de SP, o Rio de Janeiro possui maior quantidade de mortes, seguido de Minas gerais e Espírito Santo. Além disso, o ES possui uma quantidade muito baixa de óbitos comparado aos outros estados da região sudeste."
      ],
      "metadata": {
        "id": "3vYGP-uqCnH2"
      }
    },
    {
      "cell_type": "markdown",
      "source": [
        "# Regressão Linear\n",
        "\n",
        "**Objetivo:** Extrair correlação entre atributos de dados reais por meio da técnica de regressão linear."
      ],
      "metadata": {
        "id": "n5fS7udUrUOm"
      }
    },
    {
      "cell_type": "code",
      "source": [
        "import seaborn as sns\n",
        "import statsmodels.api as sm\n",
        "\n",
        "from sklearn.datasets import load_boston\n",
        "from sklearn.linear_model import LinearRegression\n",
        "import scipy.stats as stats\n",
        "plt.scatter(RegioesBrasil2020.casosNovos, RegioesBrasil2020.obitosNovos)\n",
        "plt.xlabel('Número de casos novos')\n",
        "plt.ylabel('Número de obitos novos')\n",
        "plt.title('Relação entre número de casos novos e obitos novos')\n",
        "plt.show()"
      ],
      "metadata": {
        "colab": {
          "base_uri": "https://localhost:8080/",
          "height": 295
        },
        "id": "dy0cwjyGvxzK",
        "outputId": "07a6a8da-518d-401c-b7e8-8c277ab31f25"
      },
      "execution_count": 256,
      "outputs": [
        {
          "output_type": "display_data",
          "data": {
            "text/plain": [
              "<Figure size 432x288 with 1 Axes>"
            ],
            "image/png": "[encoded data removed]"
          },
          "metadata": {
            "needs_background": "light"
          }
        }
      ]
    },
    {
      "cell_type": "markdown",
      "source": [
        "# Análise preditiva"
      ],
      "metadata": {
        "id": "i6ncVE45CrH-"
      }
    },
    {
      "cell_type": "markdown",
      "source": [
        "Primeiramente iremos analisar as variáveis que possuem correlações fortes para aplicarmos a regressão linear para tentar algum comportamento das variáveis."
      ],
      "metadata": {
        "id": "Cp2CK7pIC9xV"
      }
    },
    {
      "cell_type": "code",
      "source": [
        "RegioesBrasilFull.info()"
      ],
      "metadata": {
        "colab": {
          "base_uri": "https://localhost:8080/"
        },
        "id": "g7xx2pNG8e_P",
        "outputId": "e4829c0b-0bc9-49d2-85cc-df28ca3eed51"
      },
      "execution_count": 257,
      "outputs": [
        {
          "output_type": "stream",
          "name": "stdout",
          "text": [
            "<class 'pandas.core.frame.DataFrame'>\n",
            "Int64Index: 4489619 entries, 158 to 865325\n",
            "Data columns (total 16 columns):\n",
            " #   Column                  Dtype  \n",
            "---  ------                  -----  \n",
            " 0   regiao                  object \n",
            " 1   estado                  object \n",
            " 2   municipio               object \n",
            " 3   coduf                   int64  \n",
            " 4   codmun                  float64\n",
            " 5   codRegiaoSaude          float64\n",
            " 6   nomeRegiaoSaude         object \n",
            " 7   data                    object \n",
            " 8   semanaEpi               int64  \n",
            " 9   populacaoTCU2019        float64\n",
            " 10  casosAcumulado          float64\n",
            " 11  casosNovos              int64  \n",
            " 12  obitosAcumulado         int64  \n",
            " 13  obitosNovos             int64  \n",
            " 14  interior/metropolitana  float64\n",
            " 15  Prop                    float64\n",
            "dtypes: float64(6), int64(5), object(5)\n",
            "memory usage: 582.3+ MB\n"
          ]
        }
      ]
    },
    {
      "cell_type": "code",
      "source": [
        "correlation_columns = ['regiao','casosNovos','obitosNovos']\n",
        "correlation = RegioesBrasilFull[correlation_columns].corr()\n",
        "matrix = np.triu(RegioesBrasilFull[correlation_columns].corr())\n",
        "sns.heatmap(correlation, xticklabels=correlation.columns, yticklabels=correlation.columns, annot=True, center=0, cmap='coolwarm', mask=matrix)"
      ],
      "metadata": {
        "colab": {
          "base_uri": "https://localhost:8080/",
          "height": 282
        },
        "id": "tcXHG3MqEfhG",
        "outputId": "2a21cb22-1748-43a8-85e8-d47893c17c8b"
      },
      "execution_count": 258,
      "outputs": [
        {
          "output_type": "execute_result",
          "data": {
            "text/plain": [
              "<matplotlib.axes._subplots.AxesSubplot at 0x7fb57c2f6e10>"
            ]
          },
          "metadata": {},
          "execution_count": 258
        },
        {
          "output_type": "display_data",
          "data": {
            "text/plain": [
              "<Figure size 432x288 with 2 Axes>"
            ],
            "image/png": "[encoded data removed]"
          },
          "metadata": {
            "needs_background": "light"
          }
        }
      ]
    },
    {
      "cell_type": "code",
      "source": [
        ""
      ],
      "metadata": {
        "id": "KKCkKC-m8P6n"
      },
      "execution_count": 258,
      "outputs": []
    },
    {
      "cell_type": "markdown",
      "source": [
        "A partir da correlação de Pearson podemos perceber que as variáveis que possuem maior correlação são obitosAcumulado e casosAcumulado, e obitosNovos e casosNovos."
      ],
      "metadata": {
        "id": "CAqc4n4UJKzd"
      }
    },
    {
      "cell_type": "markdown",
      "source": [
        "## Modelo de regressão linear utilizando obitosAcumulado e casosAcumulados.\n"
      ],
      "metadata": {
        "id": "sGl_d7RVJ0P8"
      }
    },
    {
      "cell_type": "code",
      "source": [
        "X = RegioesBrasilFull.casosAcumulado\n",
        "Y = RegioesBrasilFull.obitosAcumulado\n",
        "\n",
        "lm = LinearRegression()\n",
        "lm.fit(X.values.reshape(-1,1), Y)\n",
        "\n",
        "print('Coeficiente estimado: ', lm.coef_)\n",
        "print('R2 (score): ', lm.score(X.values.reshape(-1,1), Y))\n",
        "print('Intercept %.3f ' % lm.intercept_)\n",
        "# Predição para obitosAcumulado e casosAcumulados.\n",
        "def calcPredicao1 (casosAcumulados:int,):\n",
        "  return (casosAcumulados*0.02829546 - 12.322)\n",
        "print(calcPredicao1(30580512))"
      ],
      "metadata": {
        "colab": {
          "base_uri": "https://localhost:8080/"
        },
        "id": "AO6jhMbWKa0W",
        "outputId": "4980afd9-3b4a-42f9-c114-3072141e1f33"
      },
      "execution_count": 259,
      "outputs": [
        {
          "output_type": "stream",
          "name": "stdout",
          "text": [
            "Coeficiente estimado:  [0.02829546]\n",
            "R2 (score):  0.9163298457685978\n",
            "Intercept -12.322 \n",
            "865277.33207552\n"
          ]
        }
      ]
    },
    {
      "cell_type": "markdown",
      "source": [
        "A partir do modelo de regressão linear implementado obtemos uma equação que representa uma predição dos óbitos acumulados dada uma quantidade de casos acumulados de covid-19. A equação encontrada foi:\n",
        "\n",
        "* _ObitosAcumulados_ = 0.02829546 x _CasosAcumulados_ -12.322"
      ],
      "metadata": {
        "id": "D8FkGmrkPwMj"
      }
    },
    {
      "cell_type": "markdown",
      "source": [
        "## Avaliando relação par-a-par entre variáveis\n",
        "\n",
        "Antes de se criar um modelo de regressão, é importante avaliar as correlações entre todas as possíveis variáveis."
      ],
      "metadata": {
        "id": "ubqEiiJetaHK"
      }
    },
    {
      "cell_type": "markdown",
      "source": [
        "## Regiões Brasil em 2020"
      ],
      "metadata": {
        "id": "7s8hKEV3vEv8"
      }
    },
    {
      "cell_type": "code",
      "source": [
        "RegioesBrasil2020.info()"
      ],
      "metadata": {
        "colab": {
          "base_uri": "https://localhost:8080/"
        },
        "id": "XQkSKIE9wSvl",
        "outputId": "f7313937-baca-47b5-af17-ac4cec3d69fe"
      },
      "execution_count": 260,
      "outputs": [
        {
          "output_type": "stream",
          "name": "stdout",
          "text": [
            "<class 'pandas.core.frame.DataFrame'>\n",
            "Int64Index: 1573877 entries, 158 to 859706\n",
            "Data columns (total 16 columns):\n",
            " #   Column                  Non-Null Count    Dtype  \n",
            "---  ------                  --------------    -----  \n",
            " 0   regiao                  1573877 non-null  object \n",
            " 1   estado                  1573877 non-null  object \n",
            " 2   municipio               1559600 non-null  object \n",
            " 3   coduf                   1573877 non-null  int64  \n",
            " 4   codmun                  1565480 non-null  float64\n",
            " 5   codRegiaoSaude          1559600 non-null  float64\n",
            " 6   nomeRegiaoSaude         1559600 non-null  object \n",
            " 7   data                    1573877 non-null  object \n",
            " 8   semanaEpi               1573877 non-null  int64  \n",
            " 9   populacaoTCU2019        1567997 non-null  float64\n",
            " 10  casosAcumulado          1573877 non-null  int64  \n",
            " 11  casosNovos              1573877 non-null  int64  \n",
            " 12  obitosAcumulado         1573877 non-null  int64  \n",
            " 13  obitosNovos             1573877 non-null  int64  \n",
            " 14  interior/metropolitana  1559600 non-null  float64\n",
            " 15  Prop                    1567997 non-null  float64\n",
            "dtypes: float64(5), int64(6), object(5)\n",
            "memory usage: 204.1+ MB\n"
          ]
        }
      ]
    },
    {
      "cell_type": "code",
      "source": [
        "#sns.pairplot(RegioesBrasil2020[['casosAcumulado','casosNovos','obitosAcumulado','obitosNovos']])"
      ],
      "metadata": {
        "id": "E4ONZFmYup3p"
      },
      "execution_count": 261,
      "outputs": []
    },
    {
      "cell_type": "markdown",
      "source": [
        "### Vamos olhar individualmente para o casos acumulado. Qual sua relação com o obitos acumulado?"
      ],
      "metadata": {
        "id": "lze6O-Xbv4re"
      }
    },
    {
      "cell_type": "code",
      "source": [
        "plt.scatter(RegioesBrasil2020.casosAcumulado, RegioesBrasil2020.obitosAcumulado)\n",
        "plt.xlabel('Número de casos acumulados')\n",
        "plt.ylabel('Número de obitos acumulados')\n",
        "plt.title('Relação entre número de casos acumulados e obitos acumulados')\n",
        "plt.show()"
      ],
      "metadata": {
        "colab": {
          "base_uri": "https://localhost:8080/",
          "height": 295
        },
        "id": "qMjux2OVv4QW",
        "outputId": "b10a1531-4678-4e9c-ed9c-a6d225137665"
      },
      "execution_count": 262,
      "outputs": [
        {
          "output_type": "display_data",
          "data": {
            "text/plain": [
              "<Figure size 432x288 with 1 Axes>"
            ],
            "image/png": "[encoded data removed]"
          },
          "metadata": {
            "needs_background": "light"
          }
        }
      ]
    },
    {
      "cell_type": "markdown",
      "source": [
        "### Vamos olhar individualmente para o casos novos. Qual sua relação com obitos casos?"
      ],
      "metadata": {
        "id": "vVQSvTmA5mom"
      }
    },
    {
      "cell_type": "code",
      "source": [
        "plt.scatter(RegioesBrasil2020.casosNovos, RegioesBrasil2020.obitosNovos)\n",
        "plt.xlabel('Número de casos novos')\n",
        "plt.ylabel('Número de obitos novos')\n",
        "plt.title('Relação entre número de casos novos e obitos novos')\n",
        "plt.show()"
      ],
      "metadata": {
        "colab": {
          "base_uri": "https://localhost:8080/",
          "height": 295
        },
        "id": "5wTOUEvo4bNO",
        "outputId": "a35abfba-5f8d-402c-c373-72c91cbd4a0a"
      },
      "execution_count": 263,
      "outputs": [
        {
          "output_type": "display_data",
          "data": {
            "text/plain": [
              "<Figure size 432x288 with 1 Axes>"
            ],
            "image/png": "[encoded data removed]"
          },
          "metadata": {
            "needs_background": "light"
          }
        }
      ]
    },
    {
      "cell_type": "markdown",
      "source": [
        "### Vamos olhar individualmente para o casos novos. Qual sua relação com obitos acumulados?"
      ],
      "metadata": {
        "id": "fzguQbGR6dJG"
      }
    },
    {
      "cell_type": "code",
      "source": [
        "plt.scatter(RegioesBrasil2020.casosNovos, RegioesBrasil2020.obitosAcumulado)\n",
        "plt.xlabel('Número de casos novos')\n",
        "plt.ylabel('Número de obitos acumulados')\n",
        "plt.title('Relação entre número de casos novos e obitos acumulados')\n",
        "plt.show()"
      ],
      "metadata": {
        "colab": {
          "base_uri": "https://localhost:8080/",
          "height": 295
        },
        "id": "1CQr3Hqu6lu-",
        "outputId": "6e2a7a65-0593-41ce-8039-113245f080c7"
      },
      "execution_count": 264,
      "outputs": [
        {
          "output_type": "display_data",
          "data": {
            "text/plain": [
              "<Figure size 432x288 with 1 Axes>"
            ],
            "image/png": "[encoded data removed]"
          },
          "metadata": {
            "needs_background": "light"
          }
        }
      ]
    },
    {
      "cell_type": "markdown",
      "source": [
        "# Calculando a Correlação & Coeficiente de Pearson\n",
        "Uma medida importante para saber se duas variáveis numéricas estão relacionadas é a Correlação de Pearson"
      ],
      "metadata": {
        "id": "9VDpsq7q7UwF"
      }
    },
    {
      "cell_type": "code",
      "source": [
        "# sns.jointplot(x='RM', y='PRICE', data=df, alpha = 0.1, stat_func=pearsonr)\n",
        "\"\"\"\n",
        "graph = sns.jointplot(data=RegioesBrasilFull, x='casosNovos', y='casosAcumulado', alpha=0.1)\n",
        "r, p = stats.pearsonr(RegioesBrasilFull['casosNovos'], RegioesBrasilFull['casosAcumulado'])\n",
        "phantom, = graph.ax_joint.plot([], [], linestyle=\"\", alpha=0)\n",
        "\n",
        "graph.ax_joint.legend([phantom],['r={:f}, p={:f}'.format(r,p)])\n",
        "\"\"\""
      ],
      "metadata": {
        "colab": {
          "base_uri": "https://localhost:8080/",
          "height": 53
        },
        "id": "-T80mPmW7UMp",
        "outputId": "09320185-d616-4b79-f956-870ed54bd4ac"
      },
      "execution_count": 266,
      "outputs": [
        {
          "output_type": "execute_result",
          "data": {
            "text/plain": [
              "'\\ngraph = sns.jointplot(data=RegioesBrasilFull, x=\\'casosNovos\\', y=\\'casosAcumulado\\', alpha=0.1)\\nr, p = stats.pearsonr(RegioesBrasilFull[\\'casosNovos\\'], RegioesBrasilFull[\\'casosAcumulado\\'])\\nphantom, = graph.ax_joint.plot([], [], linestyle=\"\", alpha=0)\\n\\ngraph.ax_joint.legend([phantom],[\\'r={:f}, p={:f}\\'.format(r,p)])\\n'"
            ],
            "application/vnd.google.colaboratory.intrinsic+json": {
              "type": "string"
            }
          },
          "metadata": {},
          "execution_count": 266
        }
      ]
    },
    {
      "cell_type": "markdown",
      "source": [
        "### Com base nos casos novos avaliar a quantidade de obitos novos em dado ano."
      ],
      "metadata": {
        "id": "DhjxKECaA9QU"
      }
    }
  ],
  "metadata": {
    "colab": {
      "collapsed_sections": [
        "J1QOoVLLRvaF",
        "dx3fsJEYR079",
        "IkiyVkjaR4le",
        "aRTa-mdhH9yc",
        "iL8Ctkjph4RK",
        "eGE9lyERmo5j",
        "AMWq7wdbmlNh",
        "3vNduZeBiNCM",
        "AtT3Qvu04o6O",
        "8vQCk_mP66vI",
        "NEaJ_vuE-Q2X",
        "ig8WR_unAHsZ",
        "BTyY6NgMlULN",
        "OuBHqOaVlqGU",
        "Mk6ZG5k6f4rI",
        "39Wy2miRg0Zw",
        "gTEdELlYj46B",
        "lRRVnbLtkSCH",
        "d8jVoI1KuX6F",
        "-UIykCLfuig3",
        "U3QEGXaOw7Lc",
        "xUyiIHHfA1jn",
        "nmM_CalRBxog",
        "HflEvsIaB50X"
      ],
      "name": "Trabalho_de_Dados.ipynb",
      "provenance": [],
      "include_colab_link": true
    },
    "interpreter": {
      "hash": "916dbcbb3f70747c44a77c7bcd40155683ae19c65e1c03b4aa3499c5328201f1"
    },
    "kernelspec": {
      "display_name": "Python 3.10.4 64-bit",
      "language": "python",
      "name": "python3"
    },
    "language_info": {
      "codemirror_mode": {
        "name": "ipython",
        "version": 3
      },
      "file_extension": ".py",
      "mimetype": "text/x-python",
      "name": "python",
      "nbconvert_exporter": "python",
      "pygments_lexer": "ipython3",
      "version": "3.10.4"
    }
  },
  "nbformat": 4,
  "nbformat_minor": 0
}