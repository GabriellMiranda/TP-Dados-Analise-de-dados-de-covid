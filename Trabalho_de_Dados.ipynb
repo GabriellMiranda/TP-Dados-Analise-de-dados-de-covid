{
  "cells": [
    {
      "cell_type": "markdown",
      "metadata": {
        "id": "view-in-github",
        "colab_type": "text"
      },
      "source": [
        "<a href=\"https://colab.research.google.com/github/GabriellMiranda/TP-Dados-Analise-de-dados-de-covid/blob/main/Trabalho_de_Dados.ipynb\" target=\"_parent\"><img src=\"https://colab.research.google.com/assets/colab-badge.svg\" alt=\"Open In Colab\"/></a>"
      ]
    },
    {
      "cell_type": "markdown",
      "source": [
        "# Análise dos dados de COVID-19 nos períodos de 2020, 2021 e 2022\n",
        "\n",
        "\n",
        "\n"
      ],
      "metadata": {
        "id": "fjBSrCTcK_PS"
      }
    },
    {
      "cell_type": "markdown",
      "source": [
        "# Introdução\n",
        "\n",
        "Este trabalho tem como objetivo realizar o levantamento de dados reais de COVID-19 nos anos de 2020, 2021 e 2022, para que por meio deste seja possível realizar a extração de informações relevantes sobre os impactos da pandemia em todo país durante esse período.\n",
        "\n",
        "Por meio disso, utilizou-se dados reais obtidos na plataforma Corona Vírus Brasil (https://covid.saude.gov.br/), veículo oficial de comunicação sobre a situação epidemiológica da COVID-19 no Brasil. Essas informações são obtidas diretamente pelo Ministério da Saúde por meio de dados oficiais repassados pelas Secretarias Estaduais de Saúde das 27 unidades federativas brasileiras.\n",
        "\n",
        "Como o processo de atualização dos dados é um processo complexo e dinâmico, diariamente estes estão sujeitos a alterações. Além disso, devido a diversidade de cada município brasileiro se tratando de porte populacional, organização de saúde e infraestrutura, é possível que haja erros. Desse modo, a partir dos dados coletados, deve-se primeiramente realizar a limpeza dos dados, para que os mesmos não interfiram no resultado final obtido, ou seja, deve-se organizar os dados, retirar possíveis ruídos, erros e campos nulos. \n"
      ],
      "metadata": {
        "id": "5FW1wxBNPd2B"
      }
    },
    {
      "cell_type": "markdown",
      "source": [
        "## Objetivos gerais\n",
        "\n",
        "O objetivo do trabalho é aplicar os conceitos aprendidos dentro de sala de aula tanto práticos quanto teóricos, fazendo a manipulação de casos reais, a fim de compreender a complexidade em frente ao ambiente da análise de dados e consequentemente conseguir obter informações importantes a fim de responder os questionamentos levantados pelo grupo.\n"
      ],
      "metadata": {
        "id": "5pu3sWtQUe1J"
      }
    },
    {
      "cell_type": "markdown",
      "source": [
        "## Objetivos específicos\n",
        "\n",
        "- Entender os tipos de atributos e objetos de dados\n",
        "\n",
        "- Verificar e realizar a limpeza dos dados, eliminando possíveis ruídos, erros ou campos nulos\n",
        "\n",
        "- Redução da dimensionalidade, eliminando atributos irrelevantes e melhorando a visualização.\n",
        "\n",
        "- Agregação para combinação de dois ou mais atributos.\n",
        "\n",
        "- Estratificação para separação em partições (regiões, estados, período de tempo)\n",
        "\n",
        "- Estatística descritiva com a geração de gráficos e tabelas.\n",
        "\n",
        "\n",
        "\n",
        "\n"
      ],
      "metadata": {
        "id": "JeW4EtSYXwp8"
      }
    },
    {
      "cell_type": "markdown",
      "source": [
        "# Manipulação dos dados"
      ],
      "metadata": {
        "id": "aktpGkKgUgBY"
      }
    },
    {
      "cell_type": "markdown",
      "source": [
        "## Realizando a importação das bibliotecas necessárias para manipulação dos dados "
      ],
      "metadata": {
        "id": "bkRq1aUPYyvU"
      }
    },
    {
      "cell_type": "code",
      "execution_count": 87,
      "metadata": {
        "id": "jAzNJlrDi054"
      },
      "outputs": [],
      "source": [
        "import pandas as pd\n",
        "import numpy as np\n",
        "import seaborn as sns\n",
        "import matplotlib.pyplot as plt\n",
        "import datetime as dt"
      ]
    },
    {
      "cell_type": "markdown",
      "source": [
        "## Obtendo os dados que serão estudados"
      ],
      "metadata": {
        "id": "ZtbU8N2EY97T"
      }
    },
    {
      "cell_type": "code",
      "execution_count": 88,
      "metadata": {
        "colab": {
          "base_uri": "https://localhost:8080/"
        },
        "id": "slUPy9L7IBwc",
        "outputId": "0a23bcfc-9cda-402a-9a84-dc0cf8249755"
      },
      "outputs": [
        {
          "output_type": "stream",
          "name": "stdout",
          "text": [
            "--2022-06-20 20:33:07--  https://raw.githubusercontent.com/GabriellMiranda/TP-Dados-Analise-de-dados-de-covid/main/HIST_PAINEL_COVIDBR_03jun2022/HIST_PAINEL_COVIDBR_2020_Parte1_03jun2022.csv\n",
            "Resolving raw.githubusercontent.com (raw.githubusercontent.com)... 185.199.108.133, 185.199.109.133, 185.199.110.133, ...\n",
            "Connecting to raw.githubusercontent.com (raw.githubusercontent.com)|185.199.108.133|:443... connected.\n",
            "HTTP request sent, awaiting response... 200 OK\n",
            "Length: 62493275 (60M) [text/plain]\n",
            "Saving to: ‘HIST_PAINEL_COVIDBR_2020_Parte1_03jun2022.csv.1’\n",
            "\n",
            "HIST_PAINEL_COVIDBR 100%[===================>]  59.60M   269MB/s    in 0.2s    \n",
            "\n",
            "2022-06-20 20:33:08 (269 MB/s) - ‘HIST_PAINEL_COVIDBR_2020_Parte1_03jun2022.csv.1’ saved [62493275/62493275]\n",
            "\n",
            "--2022-06-20 20:33:08--  https://raw.githubusercontent.com/GabriellMiranda/TP-Dados-Analise-de-dados-de-covid/main/HIST_PAINEL_COVIDBR_03jun2022/HIST_PAINEL_COVIDBR_2020_Parte2_03jun2022.csv\n",
            "Resolving raw.githubusercontent.com (raw.githubusercontent.com)... 185.199.108.133, 185.199.109.133, 185.199.110.133, ...\n",
            "Connecting to raw.githubusercontent.com (raw.githubusercontent.com)|185.199.108.133|:443... connected.\n",
            "HTTP request sent, awaiting response... 200 OK\n",
            "Length: 76520606 (73M) [text/plain]\n",
            "Saving to: ‘HIST_PAINEL_COVIDBR_2020_Parte2_03jun2022.csv.1’\n",
            "\n",
            "HIST_PAINEL_COVIDBR 100%[===================>]  72.98M   168MB/s    in 0.4s    \n",
            "\n",
            "2022-06-20 20:33:09 (168 MB/s) - ‘HIST_PAINEL_COVIDBR_2020_Parte2_03jun2022.csv.1’ saved [76520606/76520606]\n",
            "\n",
            "--2022-06-20 20:33:10--  https://raw.githubusercontent.com/GabriellMiranda/TP-Dados-Analise-de-dados-de-covid/main/HIST_PAINEL_COVIDBR_03jun2022/HIST_PAINEL_COVIDBR_2021_Parte1_03jun2022.csv\n",
            "Resolving raw.githubusercontent.com (raw.githubusercontent.com)... 185.199.108.133, 185.199.109.133, 185.199.110.133, ...\n",
            "Connecting to raw.githubusercontent.com (raw.githubusercontent.com)|185.199.108.133|:443... connected.\n",
            "HTTP request sent, awaiting response... 200 OK\n",
            "Length: 91120853 (87M) [text/plain]\n",
            "Saving to: ‘HIST_PAINEL_COVIDBR_2021_Parte1_03jun2022.csv.1’\n",
            "\n",
            "HIST_PAINEL_COVIDBR 100%[===================>]  86.90M   166MB/s    in 0.5s    \n",
            "\n",
            "2022-06-20 20:33:11 (166 MB/s) - ‘HIST_PAINEL_COVIDBR_2021_Parte1_03jun2022.csv.1’ saved [91120853/91120853]\n",
            "\n",
            "--2022-06-20 20:33:11--  https://raw.githubusercontent.com/GabriellMiranda/TP-Dados-Analise-de-dados-de-covid/main/HIST_PAINEL_COVIDBR_03jun2022/HIST_PAINEL_COVIDBR_2021_Parte2_03jun2022.csv\n",
            "Resolving raw.githubusercontent.com (raw.githubusercontent.com)... 185.199.108.133, 185.199.109.133, 185.199.110.133, ...\n",
            "Connecting to raw.githubusercontent.com (raw.githubusercontent.com)|185.199.108.133|:443... connected.\n",
            "HTTP request sent, awaiting response... 200 OK\n",
            "Length: 93414239 (89M) [text/plain]\n",
            "Saving to: ‘HIST_PAINEL_COVIDBR_2021_Parte2_03jun2022.csv.1’\n",
            "\n",
            "HIST_PAINEL_COVIDBR 100%[===================>]  89.09M   165MB/s    in 0.5s    \n",
            "\n",
            "2022-06-20 20:33:12 (165 MB/s) - ‘HIST_PAINEL_COVIDBR_2021_Parte2_03jun2022.csv.1’ saved [93414239/93414239]\n",
            "\n",
            "--2022-06-20 20:33:12--  https://raw.githubusercontent.com/GabriellMiranda/TP-Dados-Analise-de-dados-de-covid/main/HIST_PAINEL_COVIDBR_03jun2022/HIST_PAINEL_COVIDBR_2022_Parte1_03jun2022.csv\n",
            "Resolving raw.githubusercontent.com (raw.githubusercontent.com)... 185.199.108.133, 185.199.109.133, 185.199.111.133, ...\n",
            "Connecting to raw.githubusercontent.com (raw.githubusercontent.com)|185.199.108.133|:443... connected.\n",
            "HTTP request sent, awaiting response... 200 OK\n",
            "Length: 78054992 (74M) [text/plain]\n",
            "Saving to: ‘HIST_PAINEL_COVIDBR_2022_Parte1_03jun2022.csv.1’\n",
            "\n",
            "HIST_PAINEL_COVIDBR 100%[===================>]  74.44M   150MB/s    in 0.5s    \n",
            "\n",
            "2022-06-20 20:33:14 (150 MB/s) - ‘HIST_PAINEL_COVIDBR_2022_Parte1_03jun2022.csv.1’ saved [78054992/78054992]\n",
            "\n"
          ]
        }
      ],
      "source": [
        "!wget https://raw.githubusercontent.com/GabriellMiranda/TP-Dados-Analise-de-dados-de-covid/main/HIST_PAINEL_COVIDBR_03jun2022/HIST_PAINEL_COVIDBR_2020_Parte1_03jun2022.csv\n",
        "!wget https://raw.githubusercontent.com/GabriellMiranda/TP-Dados-Analise-de-dados-de-covid/main/HIST_PAINEL_COVIDBR_03jun2022/HIST_PAINEL_COVIDBR_2020_Parte2_03jun2022.csv\n",
        "!wget https://raw.githubusercontent.com/GabriellMiranda/TP-Dados-Analise-de-dados-de-covid/main/HIST_PAINEL_COVIDBR_03jun2022/HIST_PAINEL_COVIDBR_2021_Parte1_03jun2022.csv\n",
        "!wget https://raw.githubusercontent.com/GabriellMiranda/TP-Dados-Analise-de-dados-de-covid/main/HIST_PAINEL_COVIDBR_03jun2022/HIST_PAINEL_COVIDBR_2021_Parte2_03jun2022.csv\n",
        "!wget https://raw.githubusercontent.com/GabriellMiranda/TP-Dados-Analise-de-dados-de-covid/main/HIST_PAINEL_COVIDBR_03jun2022/HIST_PAINEL_COVIDBR_2022_Parte1_03jun2022.csv"
      ]
    },
    {
      "cell_type": "markdown",
      "source": [
        "## Armazendo os dados em váriaveis auxiliares, de forma que seja possível estudar os dados nos anos de 2020, 2021 e 2022 durante a pandemia no Brasil.\n",
        "\n",
        "Vale ressaltar que os anos de 2020 e 2021 estão separados em duas partes diferentes cada um, desse forma é realizada a concatenação dessas partes, visto que será uma análise anual."
      ],
      "metadata": {
        "id": "O03HVlH6ZZbd"
      }
    },
    {
      "cell_type": "code",
      "execution_count": 89,
      "metadata": {
        "colab": {
          "base_uri": "https://localhost:8080/"
        },
        "id": "P7iV6Icf37GT",
        "outputId": "242bfc39-85b6-41bc-f2c3-f8a1e3ad46f4"
      },
      "outputs": [
        {
          "output_type": "stream",
          "name": "stderr",
          "text": [
            "/usr/local/lib/python3.7/dist-packages/IPython/core/interactiveshell.py:2882: FutureWarning: The error_bad_lines argument has been deprecated and will be removed in a future version.\n",
            "\n",
            "\n",
            "  exec(code_obj, self.user_global_ns, self.user_ns)\n"
          ]
        }
      ],
      "source": [
        "covid2020P1 = pd.read_csv(\"/content/HIST_PAINEL_COVIDBR_2020_Parte1_03jun2022.csv\",error_bad_lines=False,sep=\";\")\n",
        "covid2020P2 = pd.read_csv(\"/content/HIST_PAINEL_COVIDBR_2020_Parte2_03jun2022.csv\",error_bad_lines=False,sep=\";\")\n",
        "covid2021P1 = pd.read_csv(\"/content/HIST_PAINEL_COVIDBR_2021_Parte1_03jun2022.csv\",error_bad_lines=False,sep=\";\")\n",
        "covid2021P2 = pd.read_csv(\"/content/HIST_PAINEL_COVIDBR_2021_Parte2_03jun2022.csv\",error_bad_lines=False,sep=\";\")\n",
        "covid2022 = pd.read_csv(\"/content/HIST_PAINEL_COVIDBR_2022_Parte1_03jun2022.csv\",error_bad_lines=False,sep=\";\")\n",
        "covid2020 = pd.concat([covid2020P1,covid2020P2])\n",
        "covid2021 = pd.concat([covid2021P1,covid2021P2])\n",
        "\n"
      ]
    },
    {
      "cell_type": "markdown",
      "metadata": {
        "id": "vbx_ssHkH9yQ"
      },
      "source": [
        "# Análise exploratória"
      ]
    },
    {
      "cell_type": "markdown",
      "source": [
        "A análise exploratória é uma análise preliminar dos dados para entender melhor suas características. Para que por meio disso, seja possível identificar o que precisa ser realizado no pré-processamento, entender quais são as melhores ferramentas para análise e pré-processamento, e por fim aproveitar habilidades humanas para reconhecer padrões.\n",
        "\n"
      ],
      "metadata": {
        "id": "uAYdloGTa0EL"
      }
    },
    {
      "cell_type": "markdown",
      "metadata": {
        "id": "FOsgG-ZVH9yT"
      },
      "source": [
        "## Entendendo os atributos e objetos dos dados"
      ]
    },
    {
      "cell_type": "code",
      "execution_count": 90,
      "metadata": {
        "colab": {
          "base_uri": "https://localhost:8080/"
        },
        "id": "z3XwrjdXB-1Z",
        "outputId": "91a08871-0d10-49fa-d3f5-cd0192fd22fb"
      },
      "outputs": [
        {
          "output_type": "execute_result",
          "data": {
            "text/plain": [
              "Index(['regiao', 'estado', 'municipio', 'coduf', 'codmun', 'codRegiaoSaude',\n",
              "       'nomeRegiaoSaude', 'data', 'semanaEpi', 'populacaoTCU2019',\n",
              "       'casosAcumulado', 'casosNovos', 'obitosAcumulado', 'obitosNovos',\n",
              "       'Recuperadosnovos', 'emAcompanhamentoNovos', 'interior/metropolitana'],\n",
              "      dtype='object')"
            ]
          },
          "metadata": {},
          "execution_count": 90
        }
      ],
      "source": [
        "covid2020.columns"
      ]
    },
    {
      "cell_type": "code",
      "execution_count": 91,
      "metadata": {
        "colab": {
          "base_uri": "https://localhost:8080/"
        },
        "id": "shbO_945CBoY",
        "outputId": "7d83b8b5-3d1b-4c63-f53b-30d07e67c8ae"
      },
      "outputs": [
        {
          "output_type": "execute_result",
          "data": {
            "text/plain": [
              "regiao                     object\n",
              "estado                     object\n",
              "municipio                  object\n",
              "coduf                       int64\n",
              "codmun                    float64\n",
              "codRegiaoSaude            float64\n",
              "nomeRegiaoSaude            object\n",
              "data                       object\n",
              "semanaEpi                   int64\n",
              "populacaoTCU2019          float64\n",
              "casosAcumulado              int64\n",
              "casosNovos                  int64\n",
              "obitosAcumulado             int64\n",
              "obitosNovos                 int64\n",
              "Recuperadosnovos          float64\n",
              "emAcompanhamentoNovos     float64\n",
              "interior/metropolitana    float64\n",
              "dtype: object"
            ]
          },
          "metadata": {},
          "execution_count": 91
        }
      ],
      "source": [
        "covid2020.dtypes"
      ]
    },
    {
      "cell_type": "markdown",
      "source": [
        "### Atributos:\n",
        "\n",
        "- **Regiao**:regiões do Brasil\n",
        "- **Estado**:estados do Brasil\n",
        "- **Municipio**: Municipio de cada estado\n",
        "- **coduf**: Códido da UF\n",
        "- **codmun**: Código municipal\n",
        "- **codRegiaoSaúde**:Este Código estabelece normas de ordem pública e interesse social para a promoção, defesa e recuperação da saúde.\n",
        "- **data**: Data atual da inserção dos dados\n",
        "- **semanaEpi**: Semana epidemiologica\n",
        "- **casosNovos**:Número de casos novos confirmados por COVID-19 que foram registrados pelas Secretarias Municipais e Estaduais de Saúde em relação ao dia anterior.\n",
        "- **casosAcumulados**: Número total de casos confirmados por COVID-19 que foram registrados pelas Secretarias Municipais e Estaduais de Saúde no período considerado.\n",
        "\n",
        "- **obitosNovos**:Número de óbitos novos confirmados por COVID-19 que foram registrados pelas Secretarias Municipais e Estaduais de Saúde em relação ao dia anterior.\n",
        "\n",
        "- **obitosAcumulado**:Número total de óbitos confirmados por COVID-19 que foram registrados pelas Secretarias Municipais e Estaduais de Saúde no período considerado.\n",
        "\n",
        "- **populacaoTCU2019**: Estimativas de 2019 utilizadas pelo TCU para determinação das cotas do FPM (sem sexo e faixa etária). \n"
      ],
      "metadata": {
        "id": "N3O2zzJwcjry"
      }
    },
    {
      "cell_type": "markdown",
      "metadata": {
        "id": "zZujHBWMH9yV"
      },
      "source": [
        "# Primeiras 10 linhas dos dados de COVID-19 em 2020\n",
        "A seguir, é possível fazer a visualização dos dados de COVID-19 por meio de tabelas, dessa forma é possível visualizar seus atributos e seus respectivos valores.\n"
      ]
    },
    {
      "cell_type": "code",
      "execution_count": 92,
      "metadata": {
        "colab": {
          "base_uri": "https://localhost:8080/",
          "height": 0
        },
        "id": "utqZJg9BCD8Y",
        "outputId": "7c391483-f6c6-4122-c466-5ea61eaa8bc7"
      },
      "outputs": [
        {
          "output_type": "execute_result",
          "data": {
            "text/plain": [
              "   regiao estado municipio  coduf  codmun  codRegiaoSaude nomeRegiaoSaude  \\\n",
              "0  Brasil    NaN       NaN     76     NaN             NaN             NaN   \n",
              "1  Brasil    NaN       NaN     76     NaN             NaN             NaN   \n",
              "2  Brasil    NaN       NaN     76     NaN             NaN             NaN   \n",
              "3  Brasil    NaN       NaN     76     NaN             NaN             NaN   \n",
              "4  Brasil    NaN       NaN     76     NaN             NaN             NaN   \n",
              "5  Brasil    NaN       NaN     76     NaN             NaN             NaN   \n",
              "6  Brasil    NaN       NaN     76     NaN             NaN             NaN   \n",
              "7  Brasil    NaN       NaN     76     NaN             NaN             NaN   \n",
              "8  Brasil    NaN       NaN     76     NaN             NaN             NaN   \n",
              "9  Brasil    NaN       NaN     76     NaN             NaN             NaN   \n",
              "\n",
              "         data  semanaEpi  populacaoTCU2019  casosAcumulado  casosNovos  \\\n",
              "0  2020-02-25          9       210147125.0               0           0   \n",
              "1  2020-02-26          9       210147125.0               1           1   \n",
              "2  2020-02-27          9       210147125.0               1           0   \n",
              "3  2020-02-28          9       210147125.0               1           0   \n",
              "4  2020-02-29          9       210147125.0               2           1   \n",
              "5  2020-03-01         10       210147125.0               2           0   \n",
              "6  2020-03-02         10       210147125.0               2           0   \n",
              "7  2020-03-03         10       210147125.0               2           0   \n",
              "8  2020-03-04         10       210147125.0               3           1   \n",
              "9  2020-03-05         10       210147125.0               7           4   \n",
              "\n",
              "   obitosAcumulado  obitosNovos  Recuperadosnovos  emAcompanhamentoNovos  \\\n",
              "0                0            0               0.0                    0.0   \n",
              "1                0            0               1.0                    0.0   \n",
              "2                0            0               1.0                    0.0   \n",
              "3                0            0               0.0                    1.0   \n",
              "4                0            0               1.0                    1.0   \n",
              "5                0            0               1.0                    1.0   \n",
              "6                0            0               0.0                    2.0   \n",
              "7                0            0               0.0                    2.0   \n",
              "8                0            0               1.0                    2.0   \n",
              "9                0            0               4.0                    3.0   \n",
              "\n",
              "   interior/metropolitana  \n",
              "0                     NaN  \n",
              "1                     NaN  \n",
              "2                     NaN  \n",
              "3                     NaN  \n",
              "4                     NaN  \n",
              "5                     NaN  \n",
              "6                     NaN  \n",
              "7                     NaN  \n",
              "8                     NaN  \n",
              "9                     NaN  "
            ],
            "text/html": [
              "\n",
              "  <div id=\"df-9c543d3e-c378-4758-a914-8e21ef49522c\">\n",
              "    <div class=\"colab-df-container\">\n",
              "      <div>\n",
              "<style scoped>\n",
              "    .dataframe tbody tr th:only-of-type {\n",
              "        vertical-align: middle;\n",
              "    }\n",
              "\n",
              "    .dataframe tbody tr th {\n",
              "        vertical-align: top;\n",
              "    }\n",
              "\n",
              "    .dataframe thead th {\n",
              "        text-align: right;\n",
              "    }\n",
              "</style>\n",
              "<table border=\"1\" class=\"dataframe\">\n",
              "  <thead>\n",
              "    <tr style=\"text-align: right;\">\n",
              "      <th></th>\n",
              "      <th>regiao</th>\n",
              "      <th>estado</th>\n",
              "      <th>municipio</th>\n",
              "      <th>coduf</th>\n",
              "      <th>codmun</th>\n",
              "      <th>codRegiaoSaude</th>\n",
              "      <th>nomeRegiaoSaude</th>\n",
              "      <th>data</th>\n",
              "      <th>semanaEpi</th>\n",
              "      <th>populacaoTCU2019</th>\n",
              "      <th>casosAcumulado</th>\n",
              "      <th>casosNovos</th>\n",
              "      <th>obitosAcumulado</th>\n",
              "      <th>obitosNovos</th>\n",
              "      <th>Recuperadosnovos</th>\n",
              "      <th>emAcompanhamentoNovos</th>\n",
              "      <th>interior/metropolitana</th>\n",
              "    </tr>\n",
              "  </thead>\n",
              "  <tbody>\n",
              "    <tr>\n",
              "      <th>0</th>\n",
              "      <td>Brasil</td>\n",
              "      <td>NaN</td>\n",
              "      <td>NaN</td>\n",
              "      <td>76</td>\n",
              "      <td>NaN</td>\n",
              "      <td>NaN</td>\n",
              "      <td>NaN</td>\n",
              "      <td>2020-02-25</td>\n",
              "      <td>9</td>\n",
              "      <td>210147125.0</td>\n",
              "      <td>0</td>\n",
              "      <td>0</td>\n",
              "      <td>0</td>\n",
              "      <td>0</td>\n",
              "      <td>0.0</td>\n",
              "      <td>0.0</td>\n",
              "      <td>NaN</td>\n",
              "    </tr>\n",
              "    <tr>\n",
              "      <th>1</th>\n",
              "      <td>Brasil</td>\n",
              "      <td>NaN</td>\n",
              "      <td>NaN</td>\n",
              "      <td>76</td>\n",
              "      <td>NaN</td>\n",
              "      <td>NaN</td>\n",
              "      <td>NaN</td>\n",
              "      <td>2020-02-26</td>\n",
              "      <td>9</td>\n",
              "      <td>210147125.0</td>\n",
              "      <td>1</td>\n",
              "      <td>1</td>\n",
              "      <td>0</td>\n",
              "      <td>0</td>\n",
              "      <td>1.0</td>\n",
              "      <td>0.0</td>\n",
              "      <td>NaN</td>\n",
              "    </tr>\n",
              "    <tr>\n",
              "      <th>2</th>\n",
              "      <td>Brasil</td>\n",
              "      <td>NaN</td>\n",
              "      <td>NaN</td>\n",
              "      <td>76</td>\n",
              "      <td>NaN</td>\n",
              "      <td>NaN</td>\n",
              "      <td>NaN</td>\n",
              "      <td>2020-02-27</td>\n",
              "      <td>9</td>\n",
              "      <td>210147125.0</td>\n",
              "      <td>1</td>\n",
              "      <td>0</td>\n",
              "      <td>0</td>\n",
              "      <td>0</td>\n",
              "      <td>1.0</td>\n",
              "      <td>0.0</td>\n",
              "      <td>NaN</td>\n",
              "    </tr>\n",
              "    <tr>\n",
              "      <th>3</th>\n",
              "      <td>Brasil</td>\n",
              "      <td>NaN</td>\n",
              "      <td>NaN</td>\n",
              "      <td>76</td>\n",
              "      <td>NaN</td>\n",
              "      <td>NaN</td>\n",
              "      <td>NaN</td>\n",
              "      <td>2020-02-28</td>\n",
              "      <td>9</td>\n",
              "      <td>210147125.0</td>\n",
              "      <td>1</td>\n",
              "      <td>0</td>\n",
              "      <td>0</td>\n",
              "      <td>0</td>\n",
              "      <td>0.0</td>\n",
              "      <td>1.0</td>\n",
              "      <td>NaN</td>\n",
              "    </tr>\n",
              "    <tr>\n",
              "      <th>4</th>\n",
              "      <td>Brasil</td>\n",
              "      <td>NaN</td>\n",
              "      <td>NaN</td>\n",
              "      <td>76</td>\n",
              "      <td>NaN</td>\n",
              "      <td>NaN</td>\n",
              "      <td>NaN</td>\n",
              "      <td>2020-02-29</td>\n",
              "      <td>9</td>\n",
              "      <td>210147125.0</td>\n",
              "      <td>2</td>\n",
              "      <td>1</td>\n",
              "      <td>0</td>\n",
              "      <td>0</td>\n",
              "      <td>1.0</td>\n",
              "      <td>1.0</td>\n",
              "      <td>NaN</td>\n",
              "    </tr>\n",
              "    <tr>\n",
              "      <th>5</th>\n",
              "      <td>Brasil</td>\n",
              "      <td>NaN</td>\n",
              "      <td>NaN</td>\n",
              "      <td>76</td>\n",
              "      <td>NaN</td>\n",
              "      <td>NaN</td>\n",
              "      <td>NaN</td>\n",
              "      <td>2020-03-01</td>\n",
              "      <td>10</td>\n",
              "      <td>210147125.0</td>\n",
              "      <td>2</td>\n",
              "      <td>0</td>\n",
              "      <td>0</td>\n",
              "      <td>0</td>\n",
              "      <td>1.0</td>\n",
              "      <td>1.0</td>\n",
              "      <td>NaN</td>\n",
              "    </tr>\n",
              "    <tr>\n",
              "      <th>6</th>\n",
              "      <td>Brasil</td>\n",
              "      <td>NaN</td>\n",
              "      <td>NaN</td>\n",
              "      <td>76</td>\n",
              "      <td>NaN</td>\n",
              "      <td>NaN</td>\n",
              "      <td>NaN</td>\n",
              "      <td>2020-03-02</td>\n",
              "      <td>10</td>\n",
              "      <td>210147125.0</td>\n",
              "      <td>2</td>\n",
              "      <td>0</td>\n",
              "      <td>0</td>\n",
              "      <td>0</td>\n",
              "      <td>0.0</td>\n",
              "      <td>2.0</td>\n",
              "      <td>NaN</td>\n",
              "    </tr>\n",
              "    <tr>\n",
              "      <th>7</th>\n",
              "      <td>Brasil</td>\n",
              "      <td>NaN</td>\n",
              "      <td>NaN</td>\n",
              "      <td>76</td>\n",
              "      <td>NaN</td>\n",
              "      <td>NaN</td>\n",
              "      <td>NaN</td>\n",
              "      <td>2020-03-03</td>\n",
              "      <td>10</td>\n",
              "      <td>210147125.0</td>\n",
              "      <td>2</td>\n",
              "      <td>0</td>\n",
              "      <td>0</td>\n",
              "      <td>0</td>\n",
              "      <td>0.0</td>\n",
              "      <td>2.0</td>\n",
              "      <td>NaN</td>\n",
              "    </tr>\n",
              "    <tr>\n",
              "      <th>8</th>\n",
              "      <td>Brasil</td>\n",
              "      <td>NaN</td>\n",
              "      <td>NaN</td>\n",
              "      <td>76</td>\n",
              "      <td>NaN</td>\n",
              "      <td>NaN</td>\n",
              "      <td>NaN</td>\n",
              "      <td>2020-03-04</td>\n",
              "      <td>10</td>\n",
              "      <td>210147125.0</td>\n",
              "      <td>3</td>\n",
              "      <td>1</td>\n",
              "      <td>0</td>\n",
              "      <td>0</td>\n",
              "      <td>1.0</td>\n",
              "      <td>2.0</td>\n",
              "      <td>NaN</td>\n",
              "    </tr>\n",
              "    <tr>\n",
              "      <th>9</th>\n",
              "      <td>Brasil</td>\n",
              "      <td>NaN</td>\n",
              "      <td>NaN</td>\n",
              "      <td>76</td>\n",
              "      <td>NaN</td>\n",
              "      <td>NaN</td>\n",
              "      <td>NaN</td>\n",
              "      <td>2020-03-05</td>\n",
              "      <td>10</td>\n",
              "      <td>210147125.0</td>\n",
              "      <td>7</td>\n",
              "      <td>4</td>\n",
              "      <td>0</td>\n",
              "      <td>0</td>\n",
              "      <td>4.0</td>\n",
              "      <td>3.0</td>\n",
              "      <td>NaN</td>\n",
              "    </tr>\n",
              "  </tbody>\n",
              "</table>\n",
              "</div>\n",
              "      <button class=\"colab-df-convert\" onclick=\"convertToInteractive('df-9c543d3e-c378-4758-a914-8e21ef49522c')\"\n",
              "              title=\"Convert this dataframe to an interactive table.\"\n",
              "              style=\"display:none;\">\n",
              "        \n",
              "  <svg xmlns=\"http://www.w3.org/2000/svg\" height=\"24px\"viewBox=\"0 0 24 24\"\n",
              "       width=\"24px\">\n",
              "    <path d=\"M0 0h24v24H0V0z\" fill=\"none\"/>\n",
              "    <path d=\"M18.56 5.44l.94 2.06.94-2.06 2.06-.94-2.06-.94-.94-2.06-.94 2.06-2.06.94zm-11 1L8.5 8.5l.94-2.06 2.06-.94-2.06-.94L8.5 2.5l-.94 2.06-2.06.94zm10 10l.94 2.06.94-2.06 2.06-.94-2.06-.94-.94-2.06-.94 2.06-2.06.94z\"/><path d=\"M17.41 7.96l-1.37-1.37c-.4-.4-.92-.59-1.43-.59-.52 0-1.04.2-1.43.59L10.3 9.45l-7.72 7.72c-.78.78-.78 2.05 0 2.83L4 21.41c.39.39.9.59 1.41.59.51 0 1.02-.2 1.41-.59l7.78-7.78 2.81-2.81c.8-.78.8-2.07 0-2.86zM5.41 20L4 18.59l7.72-7.72 1.47 1.35L5.41 20z\"/>\n",
              "  </svg>\n",
              "      </button>\n",
              "      \n",
              "  <style>\n",
              "    .colab-df-container {\n",
              "      display:flex;\n",
              "      flex-wrap:wrap;\n",
              "      gap: 12px;\n",
              "    }\n",
              "\n",
              "    .colab-df-convert {\n",
              "      background-color: #E8F0FE;\n",
              "      border: none;\n",
              "      border-radius: 50%;\n",
              "      cursor: pointer;\n",
              "      display: none;\n",
              "      fill: #1967D2;\n",
              "      height: 32px;\n",
              "      padding: 0 0 0 0;\n",
              "      width: 32px;\n",
              "    }\n",
              "\n",
              "    .colab-df-convert:hover {\n",
              "      background-color: #E2EBFA;\n",
              "      box-shadow: 0px 1px 2px rgba(60, 64, 67, 0.3), 0px 1px 3px 1px rgba(60, 64, 67, 0.15);\n",
              "      fill: #174EA6;\n",
              "    }\n",
              "\n",
              "    [theme=dark] .colab-df-convert {\n",
              "      background-color: #3B4455;\n",
              "      fill: #D2E3FC;\n",
              "    }\n",
              "\n",
              "    [theme=dark] .colab-df-convert:hover {\n",
              "      background-color: #434B5C;\n",
              "      box-shadow: 0px 1px 3px 1px rgba(0, 0, 0, 0.15);\n",
              "      filter: drop-shadow(0px 1px 2px rgba(0, 0, 0, 0.3));\n",
              "      fill: #FFFFFF;\n",
              "    }\n",
              "  </style>\n",
              "\n",
              "      <script>\n",
              "        const buttonEl =\n",
              "          document.querySelector('#df-9c543d3e-c378-4758-a914-8e21ef49522c button.colab-df-convert');\n",
              "        buttonEl.style.display =\n",
              "          google.colab.kernel.accessAllowed ? 'block' : 'none';\n",
              "\n",
              "        async function convertToInteractive(key) {\n",
              "          const element = document.querySelector('#df-9c543d3e-c378-4758-a914-8e21ef49522c');\n",
              "          const dataTable =\n",
              "            await google.colab.kernel.invokeFunction('convertToInteractive',\n",
              "                                                     [key], {});\n",
              "          if (!dataTable) return;\n",
              "\n",
              "          const docLinkHtml = 'Like what you see? Visit the ' +\n",
              "            '<a target=\"_blank\" href=https://colab.research.google.com/notebooks/data_table.ipynb>data table notebook</a>'\n",
              "            + ' to learn more about interactive tables.';\n",
              "          element.innerHTML = '';\n",
              "          dataTable['output_type'] = 'display_data';\n",
              "          await google.colab.output.renderOutput(dataTable, element);\n",
              "          const docLink = document.createElement('div');\n",
              "          docLink.innerHTML = docLinkHtml;\n",
              "          element.appendChild(docLink);\n",
              "        }\n",
              "      </script>\n",
              "    </div>\n",
              "  </div>\n",
              "  "
            ]
          },
          "metadata": {},
          "execution_count": 92
        }
      ],
      "source": [
        "covid2020.head(10)"
      ]
    },
    {
      "cell_type": "markdown",
      "source": [
        "Por meio da tabela acima é possível visualizar a existência de muitos valores nulos. Além disso, pode-se observa que no atributo região aparece o valor *Brasil*. Dessa forma, será necessário realizar a limpeza dos dados e o reagrupamento das informações, como por exemplo separando a região *Brasil* das outras regiões."
      ],
      "metadata": {
        "id": "a_6ebXeuhKdT"
      }
    },
    {
      "cell_type": "code",
      "execution_count": 93,
      "metadata": {
        "colab": {
          "base_uri": "https://localhost:8080/"
        },
        "id": "LBBemzmDCI5o",
        "outputId": "b7ff89ab-4cf8-4f9a-c540-11f4a9ae1564"
      },
      "outputs": [
        {
          "output_type": "execute_result",
          "data": {
            "text/plain": [
              "array(['Brasil', 'Norte', 'Nordeste', 'Sudeste', 'Sul', 'Centro-Oeste'],\n",
              "      dtype=object)"
            ]
          },
          "metadata": {},
          "execution_count": 93
        }
      ],
      "source": [
        "covid2020['regiao'].unique()"
      ]
    },
    {
      "cell_type": "markdown",
      "metadata": {
        "id": "btxMlfmAXvs7"
      },
      "source": [
        "# Limpeza dos Dados\n",
        "\n",
        "A limpeza dos dados é essencial para que consigamos obter uma melhor visualização dos dados, fazendo com que possamos eliminar atributos irrelevantes, como ruídos, erros ou valores nulos. A fim de reduzir o tempo de processamento e memória.\n"
      ]
    },
    {
      "cell_type": "markdown",
      "source": [
        "## Separação da região Brasil"
      ],
      "metadata": {
        "id": "aM-W5YC6lSix"
      }
    },
    {
      "cell_type": "markdown",
      "metadata": {
        "id": "_Q5a9C4LX34k"
      },
      "source": [
        "A seguir será realizando a separação dos dados referente a região *Brasil* em relação às outras regiões do Brasil. Visto que Brasil se refere a todo o pais e não somente a uma região como por exemplo sul, norte e nordeste."
      ]
    },
    {
      "cell_type": "code",
      "execution_count": 94,
      "metadata": {
        "id": "YmmeFM5tDNiB"
      },
      "outputs": [],
      "source": [
        "DadosBrasil2020 = covid2020[covid2020['regiao'] == 'Brasil']\n",
        "DadosBrasil2021 = covid2021[covid2021['regiao'] == \"Brasil\"]\n",
        "DadosBrasil2022 = covid2022[covid2022['regiao'] == 'Brasil']"
      ]
    },
    {
      "cell_type": "markdown",
      "source": [
        "## Renomeando a coluna *regiao* para *pais*"
      ],
      "metadata": {
        "id": "YPVdi-8ElapS"
      }
    },
    {
      "cell_type": "code",
      "execution_count": 95,
      "metadata": {
        "colab": {
          "base_uri": "https://localhost:8080/"
        },
        "id": "9EtRufBvH9yY",
        "outputId": "d6a93c2c-2f6a-4b5b-bcf3-bb9b921742c8"
      },
      "outputs": [
        {
          "output_type": "stream",
          "name": "stderr",
          "text": [
            "/usr/local/lib/python3.7/dist-packages/pandas/core/frame.py:5047: SettingWithCopyWarning: \n",
            "A value is trying to be set on a copy of a slice from a DataFrame\n",
            "\n",
            "See the caveats in the documentation: https://pandas.pydata.org/pandas-docs/stable/user_guide/indexing.html#returning-a-view-versus-a-copy\n",
            "  errors=errors,\n"
          ]
        }
      ],
      "source": [
        "#mudando a coluna do nome região para pais, já que só teremos os dados do Brasil\n",
        "DadosBrasil2020.rename(columns = {'regiao':'pais'}, inplace = True)\n",
        "DadosBrasil2021.rename(columns = {'regiao':'pais'}, inplace = True)\n",
        "DadosBrasil2022.rename(columns = {'regiao':'pais'}, inplace = True)"
      ]
    },
    {
      "cell_type": "code",
      "execution_count": 96,
      "metadata": {
        "colab": {
          "base_uri": "https://localhost:8080/",
          "height": 0
        },
        "id": "4rCqTIa5H9yY",
        "outputId": "53179f9f-00a6-4eb5-bf9e-aa6ddbee5e1f"
      },
      "outputs": [
        {
          "output_type": "execute_result",
          "data": {
            "text/plain": [
              "       pais estado municipio  coduf  codmun  codRegiaoSaude nomeRegiaoSaude  \\\n",
              "0    Brasil    NaN       NaN     76     NaN             NaN             NaN   \n",
              "1    Brasil    NaN       NaN     76     NaN             NaN             NaN   \n",
              "2    Brasil    NaN       NaN     76     NaN             NaN             NaN   \n",
              "3    Brasil    NaN       NaN     76     NaN             NaN             NaN   \n",
              "4    Brasil    NaN       NaN     76     NaN             NaN             NaN   \n",
              "..      ...    ...       ...    ...     ...             ...             ...   \n",
              "149  Brasil    NaN       NaN     76     NaN             NaN             NaN   \n",
              "150  Brasil    NaN       NaN     76     NaN             NaN             NaN   \n",
              "151  Brasil    NaN       NaN     76     NaN             NaN             NaN   \n",
              "152  Brasil    NaN       NaN     76     NaN             NaN             NaN   \n",
              "153  Brasil    NaN       NaN     76     NaN             NaN             NaN   \n",
              "\n",
              "           data  semanaEpi  populacaoTCU2019  casosAcumulado  casosNovos  \\\n",
              "0    2022-01-01         52       210147125.0      22291507.0        3986   \n",
              "1    2022-01-02          1       210147125.0      22293228.0        1721   \n",
              "2    2022-01-03          1       210147125.0      22305078.0       11850   \n",
              "3    2022-01-04          1       210147125.0      22323837.0       18759   \n",
              "4    2022-01-05          1       210147125.0      22351104.0       27267   \n",
              "..          ...        ...               ...             ...         ...   \n",
              "149  2022-05-30         22       210147125.0      30977661.0       24082   \n",
              "150  2022-05-31         22       210147125.0      31019038.0       41377   \n",
              "151  2022-06-01         22       210147125.0      31060017.0       40979   \n",
              "152  2022-06-02         22       210147125.0      31101290.0       41273   \n",
              "153  2022-06-03         22       210147125.0      31137479.0       36189   \n",
              "\n",
              "     obitosAcumulado  obitosNovos  Recuperadosnovos  emAcompanhamentoNovos  \\\n",
              "0             619105           49        21581668.0                90734.0   \n",
              "1             619133           28        21581717.0                92378.0   \n",
              "2             619209           76        21591847.0                94022.0   \n",
              "3             619384          175        21603954.0               100499.0   \n",
              "4             619513          129        21615473.0               116118.0   \n",
              "..               ...          ...               ...                    ...   \n",
              "149           666516           63        29971308.0               339837.0   \n",
              "150           666676          160        30011391.0               340971.0   \n",
              "151           666801          125        30038200.0               355016.0   \n",
              "152           666928          127        30054599.0               379763.0   \n",
              "153           666971           43        30063682.0               406826.0   \n",
              "\n",
              "     interior/metropolitana  \n",
              "0                       NaN  \n",
              "1                       NaN  \n",
              "2                       NaN  \n",
              "3                       NaN  \n",
              "4                       NaN  \n",
              "..                      ...  \n",
              "149                     NaN  \n",
              "150                     NaN  \n",
              "151                     NaN  \n",
              "152                     NaN  \n",
              "153                     NaN  \n",
              "\n",
              "[154 rows x 17 columns]"
            ],
            "text/html": [
              "\n",
              "  <div id=\"df-bbc5d076-62eb-4cf6-b406-03721def0d03\">\n",
              "    <div class=\"colab-df-container\">\n",
              "      <div>\n",
              "<style scoped>\n",
              "    .dataframe tbody tr th:only-of-type {\n",
              "        vertical-align: middle;\n",
              "    }\n",
              "\n",
              "    .dataframe tbody tr th {\n",
              "        vertical-align: top;\n",
              "    }\n",
              "\n",
              "    .dataframe thead th {\n",
              "        text-align: right;\n",
              "    }\n",
              "</style>\n",
              "<table border=\"1\" class=\"dataframe\">\n",
              "  <thead>\n",
              "    <tr style=\"text-align: right;\">\n",
              "      <th></th>\n",
              "      <th>pais</th>\n",
              "      <th>estado</th>\n",
              "      <th>municipio</th>\n",
              "      <th>coduf</th>\n",
              "      <th>codmun</th>\n",
              "      <th>codRegiaoSaude</th>\n",
              "      <th>nomeRegiaoSaude</th>\n",
              "      <th>data</th>\n",
              "      <th>semanaEpi</th>\n",
              "      <th>populacaoTCU2019</th>\n",
              "      <th>casosAcumulado</th>\n",
              "      <th>casosNovos</th>\n",
              "      <th>obitosAcumulado</th>\n",
              "      <th>obitosNovos</th>\n",
              "      <th>Recuperadosnovos</th>\n",
              "      <th>emAcompanhamentoNovos</th>\n",
              "      <th>interior/metropolitana</th>\n",
              "    </tr>\n",
              "  </thead>\n",
              "  <tbody>\n",
              "    <tr>\n",
              "      <th>0</th>\n",
              "      <td>Brasil</td>\n",
              "      <td>NaN</td>\n",
              "      <td>NaN</td>\n",
              "      <td>76</td>\n",
              "      <td>NaN</td>\n",
              "      <td>NaN</td>\n",
              "      <td>NaN</td>\n",
              "      <td>2022-01-01</td>\n",
              "      <td>52</td>\n",
              "      <td>210147125.0</td>\n",
              "      <td>22291507.0</td>\n",
              "      <td>3986</td>\n",
              "      <td>619105</td>\n",
              "      <td>49</td>\n",
              "      <td>21581668.0</td>\n",
              "      <td>90734.0</td>\n",
              "      <td>NaN</td>\n",
              "    </tr>\n",
              "    <tr>\n",
              "      <th>1</th>\n",
              "      <td>Brasil</td>\n",
              "      <td>NaN</td>\n",
              "      <td>NaN</td>\n",
              "      <td>76</td>\n",
              "      <td>NaN</td>\n",
              "      <td>NaN</td>\n",
              "      <td>NaN</td>\n",
              "      <td>2022-01-02</td>\n",
              "      <td>1</td>\n",
              "      <td>210147125.0</td>\n",
              "      <td>22293228.0</td>\n",
              "      <td>1721</td>\n",
              "      <td>619133</td>\n",
              "      <td>28</td>\n",
              "      <td>21581717.0</td>\n",
              "      <td>92378.0</td>\n",
              "      <td>NaN</td>\n",
              "    </tr>\n",
              "    <tr>\n",
              "      <th>2</th>\n",
              "      <td>Brasil</td>\n",
              "      <td>NaN</td>\n",
              "      <td>NaN</td>\n",
              "      <td>76</td>\n",
              "      <td>NaN</td>\n",
              "      <td>NaN</td>\n",
              "      <td>NaN</td>\n",
              "      <td>2022-01-03</td>\n",
              "      <td>1</td>\n",
              "      <td>210147125.0</td>\n",
              "      <td>22305078.0</td>\n",
              "      <td>11850</td>\n",
              "      <td>619209</td>\n",
              "      <td>76</td>\n",
              "      <td>21591847.0</td>\n",
              "      <td>94022.0</td>\n",
              "      <td>NaN</td>\n",
              "    </tr>\n",
              "    <tr>\n",
              "      <th>3</th>\n",
              "      <td>Brasil</td>\n",
              "      <td>NaN</td>\n",
              "      <td>NaN</td>\n",
              "      <td>76</td>\n",
              "      <td>NaN</td>\n",
              "      <td>NaN</td>\n",
              "      <td>NaN</td>\n",
              "      <td>2022-01-04</td>\n",
              "      <td>1</td>\n",
              "      <td>210147125.0</td>\n",
              "      <td>22323837.0</td>\n",
              "      <td>18759</td>\n",
              "      <td>619384</td>\n",
              "      <td>175</td>\n",
              "      <td>21603954.0</td>\n",
              "      <td>100499.0</td>\n",
              "      <td>NaN</td>\n",
              "    </tr>\n",
              "    <tr>\n",
              "      <th>4</th>\n",
              "      <td>Brasil</td>\n",
              "      <td>NaN</td>\n",
              "      <td>NaN</td>\n",
              "      <td>76</td>\n",
              "      <td>NaN</td>\n",
              "      <td>NaN</td>\n",
              "      <td>NaN</td>\n",
              "      <td>2022-01-05</td>\n",
              "      <td>1</td>\n",
              "      <td>210147125.0</td>\n",
              "      <td>22351104.0</td>\n",
              "      <td>27267</td>\n",
              "      <td>619513</td>\n",
              "      <td>129</td>\n",
              "      <td>21615473.0</td>\n",
              "      <td>116118.0</td>\n",
              "      <td>NaN</td>\n",
              "    </tr>\n",
              "    <tr>\n",
              "      <th>...</th>\n",
              "      <td>...</td>\n",
              "      <td>...</td>\n",
              "      <td>...</td>\n",
              "      <td>...</td>\n",
              "      <td>...</td>\n",
              "      <td>...</td>\n",
              "      <td>...</td>\n",
              "      <td>...</td>\n",
              "      <td>...</td>\n",
              "      <td>...</td>\n",
              "      <td>...</td>\n",
              "      <td>...</td>\n",
              "      <td>...</td>\n",
              "      <td>...</td>\n",
              "      <td>...</td>\n",
              "      <td>...</td>\n",
              "      <td>...</td>\n",
              "    </tr>\n",
              "    <tr>\n",
              "      <th>149</th>\n",
              "      <td>Brasil</td>\n",
              "      <td>NaN</td>\n",
              "      <td>NaN</td>\n",
              "      <td>76</td>\n",
              "      <td>NaN</td>\n",
              "      <td>NaN</td>\n",
              "      <td>NaN</td>\n",
              "      <td>2022-05-30</td>\n",
              "      <td>22</td>\n",
              "      <td>210147125.0</td>\n",
              "      <td>30977661.0</td>\n",
              "      <td>24082</td>\n",
              "      <td>666516</td>\n",
              "      <td>63</td>\n",
              "      <td>29971308.0</td>\n",
              "      <td>339837.0</td>\n",
              "      <td>NaN</td>\n",
              "    </tr>\n",
              "    <tr>\n",
              "      <th>150</th>\n",
              "      <td>Brasil</td>\n",
              "      <td>NaN</td>\n",
              "      <td>NaN</td>\n",
              "      <td>76</td>\n",
              "      <td>NaN</td>\n",
              "      <td>NaN</td>\n",
              "      <td>NaN</td>\n",
              "      <td>2022-05-31</td>\n",
              "      <td>22</td>\n",
              "      <td>210147125.0</td>\n",
              "      <td>31019038.0</td>\n",
              "      <td>41377</td>\n",
              "      <td>666676</td>\n",
              "      <td>160</td>\n",
              "      <td>30011391.0</td>\n",
              "      <td>340971.0</td>\n",
              "      <td>NaN</td>\n",
              "    </tr>\n",
              "    <tr>\n",
              "      <th>151</th>\n",
              "      <td>Brasil</td>\n",
              "      <td>NaN</td>\n",
              "      <td>NaN</td>\n",
              "      <td>76</td>\n",
              "      <td>NaN</td>\n",
              "      <td>NaN</td>\n",
              "      <td>NaN</td>\n",
              "      <td>2022-06-01</td>\n",
              "      <td>22</td>\n",
              "      <td>210147125.0</td>\n",
              "      <td>31060017.0</td>\n",
              "      <td>40979</td>\n",
              "      <td>666801</td>\n",
              "      <td>125</td>\n",
              "      <td>30038200.0</td>\n",
              "      <td>355016.0</td>\n",
              "      <td>NaN</td>\n",
              "    </tr>\n",
              "    <tr>\n",
              "      <th>152</th>\n",
              "      <td>Brasil</td>\n",
              "      <td>NaN</td>\n",
              "      <td>NaN</td>\n",
              "      <td>76</td>\n",
              "      <td>NaN</td>\n",
              "      <td>NaN</td>\n",
              "      <td>NaN</td>\n",
              "      <td>2022-06-02</td>\n",
              "      <td>22</td>\n",
              "      <td>210147125.0</td>\n",
              "      <td>31101290.0</td>\n",
              "      <td>41273</td>\n",
              "      <td>666928</td>\n",
              "      <td>127</td>\n",
              "      <td>30054599.0</td>\n",
              "      <td>379763.0</td>\n",
              "      <td>NaN</td>\n",
              "    </tr>\n",
              "    <tr>\n",
              "      <th>153</th>\n",
              "      <td>Brasil</td>\n",
              "      <td>NaN</td>\n",
              "      <td>NaN</td>\n",
              "      <td>76</td>\n",
              "      <td>NaN</td>\n",
              "      <td>NaN</td>\n",
              "      <td>NaN</td>\n",
              "      <td>2022-06-03</td>\n",
              "      <td>22</td>\n",
              "      <td>210147125.0</td>\n",
              "      <td>31137479.0</td>\n",
              "      <td>36189</td>\n",
              "      <td>666971</td>\n",
              "      <td>43</td>\n",
              "      <td>30063682.0</td>\n",
              "      <td>406826.0</td>\n",
              "      <td>NaN</td>\n",
              "    </tr>\n",
              "  </tbody>\n",
              "</table>\n",
              "<p>154 rows × 17 columns</p>\n",
              "</div>\n",
              "      <button class=\"colab-df-convert\" onclick=\"convertToInteractive('df-bbc5d076-62eb-4cf6-b406-03721def0d03')\"\n",
              "              title=\"Convert this dataframe to an interactive table.\"\n",
              "              style=\"display:none;\">\n",
              "        \n",
              "  <svg xmlns=\"http://www.w3.org/2000/svg\" height=\"24px\"viewBox=\"0 0 24 24\"\n",
              "       width=\"24px\">\n",
              "    <path d=\"M0 0h24v24H0V0z\" fill=\"none\"/>\n",
              "    <path d=\"M18.56 5.44l.94 2.06.94-2.06 2.06-.94-2.06-.94-.94-2.06-.94 2.06-2.06.94zm-11 1L8.5 8.5l.94-2.06 2.06-.94-2.06-.94L8.5 2.5l-.94 2.06-2.06.94zm10 10l.94 2.06.94-2.06 2.06-.94-2.06-.94-.94-2.06-.94 2.06-2.06.94z\"/><path d=\"M17.41 7.96l-1.37-1.37c-.4-.4-.92-.59-1.43-.59-.52 0-1.04.2-1.43.59L10.3 9.45l-7.72 7.72c-.78.78-.78 2.05 0 2.83L4 21.41c.39.39.9.59 1.41.59.51 0 1.02-.2 1.41-.59l7.78-7.78 2.81-2.81c.8-.78.8-2.07 0-2.86zM5.41 20L4 18.59l7.72-7.72 1.47 1.35L5.41 20z\"/>\n",
              "  </svg>\n",
              "      </button>\n",
              "      \n",
              "  <style>\n",
              "    .colab-df-container {\n",
              "      display:flex;\n",
              "      flex-wrap:wrap;\n",
              "      gap: 12px;\n",
              "    }\n",
              "\n",
              "    .colab-df-convert {\n",
              "      background-color: #E8F0FE;\n",
              "      border: none;\n",
              "      border-radius: 50%;\n",
              "      cursor: pointer;\n",
              "      display: none;\n",
              "      fill: #1967D2;\n",
              "      height: 32px;\n",
              "      padding: 0 0 0 0;\n",
              "      width: 32px;\n",
              "    }\n",
              "\n",
              "    .colab-df-convert:hover {\n",
              "      background-color: #E2EBFA;\n",
              "      box-shadow: 0px 1px 2px rgba(60, 64, 67, 0.3), 0px 1px 3px 1px rgba(60, 64, 67, 0.15);\n",
              "      fill: #174EA6;\n",
              "    }\n",
              "\n",
              "    [theme=dark] .colab-df-convert {\n",
              "      background-color: #3B4455;\n",
              "      fill: #D2E3FC;\n",
              "    }\n",
              "\n",
              "    [theme=dark] .colab-df-convert:hover {\n",
              "      background-color: #434B5C;\n",
              "      box-shadow: 0px 1px 3px 1px rgba(0, 0, 0, 0.15);\n",
              "      filter: drop-shadow(0px 1px 2px rgba(0, 0, 0, 0.3));\n",
              "      fill: #FFFFFF;\n",
              "    }\n",
              "  </style>\n",
              "\n",
              "      <script>\n",
              "        const buttonEl =\n",
              "          document.querySelector('#df-bbc5d076-62eb-4cf6-b406-03721def0d03 button.colab-df-convert');\n",
              "        buttonEl.style.display =\n",
              "          google.colab.kernel.accessAllowed ? 'block' : 'none';\n",
              "\n",
              "        async function convertToInteractive(key) {\n",
              "          const element = document.querySelector('#df-bbc5d076-62eb-4cf6-b406-03721def0d03');\n",
              "          const dataTable =\n",
              "            await google.colab.kernel.invokeFunction('convertToInteractive',\n",
              "                                                     [key], {});\n",
              "          if (!dataTable) return;\n",
              "\n",
              "          const docLinkHtml = 'Like what you see? Visit the ' +\n",
              "            '<a target=\"_blank\" href=https://colab.research.google.com/notebooks/data_table.ipynb>data table notebook</a>'\n",
              "            + ' to learn more about interactive tables.';\n",
              "          element.innerHTML = '';\n",
              "          dataTable['output_type'] = 'display_data';\n",
              "          await google.colab.output.renderOutput(dataTable, element);\n",
              "          const docLink = document.createElement('div');\n",
              "          docLink.innerHTML = docLinkHtml;\n",
              "          element.appendChild(docLink);\n",
              "        }\n",
              "      </script>\n",
              "    </div>\n",
              "  </div>\n",
              "  "
            ]
          },
          "metadata": {},
          "execution_count": 96
        }
      ],
      "source": [
        "DadosBrasil2022"
      ]
    },
    {
      "cell_type": "markdown",
      "source": [
        "## Eliminando colunas nulas"
      ],
      "metadata": {
        "id": "zWQsWTThlozw"
      }
    },
    {
      "cell_type": "markdown",
      "metadata": {
        "id": "j-iZXUFsH9yY"
      },
      "source": [
        "Agora iremos eliminar as colunas \"estado\",\"municipio\",\"codmun\",\"codRegiaoSaude\",\"nomeRegiaoSaude\",\"interior/metropolitana\", visto que essas são colunas nulas. "
      ]
    },
    {
      "cell_type": "code",
      "execution_count": 97,
      "metadata": {
        "id": "JArCtw_LH9yZ"
      },
      "outputs": [],
      "source": [
        "for i in [\"estado\",\"municipio\",\"codmun\",\"codRegiaoSaude\",\"nomeRegiaoSaude\",\"interior/metropolitana\"]:\n",
        "  DadosBrasil2020 = DadosBrasil2020.drop(columns=[i])\n",
        "  DadosBrasil2021 = DadosBrasil2021.drop(columns=[i])\n",
        "  DadosBrasil2022 = DadosBrasil2022.drop(columns=[i])"
      ]
    },
    {
      "cell_type": "markdown",
      "source": [
        "## Visualização da retirada dos valores nulos\n",
        "\n",
        "Desse forma, facilitamos a visualizar dos dados relevantes, a partir da retirada das colunas nulas. Além disso, melhorando o tempo de processamento e mémoria."
      ],
      "metadata": {
        "id": "2RcO7ySWmKYy"
      }
    },
    {
      "cell_type": "code",
      "execution_count": 98,
      "metadata": {
        "colab": {
          "base_uri": "https://localhost:8080/",
          "height": 0
        },
        "id": "YB5XAANMH9yZ",
        "outputId": "bf299813-2fab-4b86-ee25-fbc9cc8152de"
      },
      "outputs": [
        {
          "output_type": "execute_result",
          "data": {
            "text/plain": [
              "       pais  coduf        data  semanaEpi  populacaoTCU2019  casosAcumulado  \\\n",
              "0    Brasil     76  2022-01-01         52       210147125.0      22291507.0   \n",
              "1    Brasil     76  2022-01-02          1       210147125.0      22293228.0   \n",
              "2    Brasil     76  2022-01-03          1       210147125.0      22305078.0   \n",
              "3    Brasil     76  2022-01-04          1       210147125.0      22323837.0   \n",
              "4    Brasil     76  2022-01-05          1       210147125.0      22351104.0   \n",
              "..      ...    ...         ...        ...               ...             ...   \n",
              "149  Brasil     76  2022-05-30         22       210147125.0      30977661.0   \n",
              "150  Brasil     76  2022-05-31         22       210147125.0      31019038.0   \n",
              "151  Brasil     76  2022-06-01         22       210147125.0      31060017.0   \n",
              "152  Brasil     76  2022-06-02         22       210147125.0      31101290.0   \n",
              "153  Brasil     76  2022-06-03         22       210147125.0      31137479.0   \n",
              "\n",
              "     casosNovos  obitosAcumulado  obitosNovos  Recuperadosnovos  \\\n",
              "0          3986           619105           49        21581668.0   \n",
              "1          1721           619133           28        21581717.0   \n",
              "2         11850           619209           76        21591847.0   \n",
              "3         18759           619384          175        21603954.0   \n",
              "4         27267           619513          129        21615473.0   \n",
              "..          ...              ...          ...               ...   \n",
              "149       24082           666516           63        29971308.0   \n",
              "150       41377           666676          160        30011391.0   \n",
              "151       40979           666801          125        30038200.0   \n",
              "152       41273           666928          127        30054599.0   \n",
              "153       36189           666971           43        30063682.0   \n",
              "\n",
              "     emAcompanhamentoNovos  \n",
              "0                  90734.0  \n",
              "1                  92378.0  \n",
              "2                  94022.0  \n",
              "3                 100499.0  \n",
              "4                 116118.0  \n",
              "..                     ...  \n",
              "149               339837.0  \n",
              "150               340971.0  \n",
              "151               355016.0  \n",
              "152               379763.0  \n",
              "153               406826.0  \n",
              "\n",
              "[154 rows x 11 columns]"
            ],
            "text/html": [
              "\n",
              "  <div id=\"df-4e3e65bd-fe22-4404-b069-73382577ea28\">\n",
              "    <div class=\"colab-df-container\">\n",
              "      <div>\n",
              "<style scoped>\n",
              "    .dataframe tbody tr th:only-of-type {\n",
              "        vertical-align: middle;\n",
              "    }\n",
              "\n",
              "    .dataframe tbody tr th {\n",
              "        vertical-align: top;\n",
              "    }\n",
              "\n",
              "    .dataframe thead th {\n",
              "        text-align: right;\n",
              "    }\n",
              "</style>\n",
              "<table border=\"1\" class=\"dataframe\">\n",
              "  <thead>\n",
              "    <tr style=\"text-align: right;\">\n",
              "      <th></th>\n",
              "      <th>pais</th>\n",
              "      <th>coduf</th>\n",
              "      <th>data</th>\n",
              "      <th>semanaEpi</th>\n",
              "      <th>populacaoTCU2019</th>\n",
              "      <th>casosAcumulado</th>\n",
              "      <th>casosNovos</th>\n",
              "      <th>obitosAcumulado</th>\n",
              "      <th>obitosNovos</th>\n",
              "      <th>Recuperadosnovos</th>\n",
              "      <th>emAcompanhamentoNovos</th>\n",
              "    </tr>\n",
              "  </thead>\n",
              "  <tbody>\n",
              "    <tr>\n",
              "      <th>0</th>\n",
              "      <td>Brasil</td>\n",
              "      <td>76</td>\n",
              "      <td>2022-01-01</td>\n",
              "      <td>52</td>\n",
              "      <td>210147125.0</td>\n",
              "      <td>22291507.0</td>\n",
              "      <td>3986</td>\n",
              "      <td>619105</td>\n",
              "      <td>49</td>\n",
              "      <td>21581668.0</td>\n",
              "      <td>90734.0</td>\n",
              "    </tr>\n",
              "    <tr>\n",
              "      <th>1</th>\n",
              "      <td>Brasil</td>\n",
              "      <td>76</td>\n",
              "      <td>2022-01-02</td>\n",
              "      <td>1</td>\n",
              "      <td>210147125.0</td>\n",
              "      <td>22293228.0</td>\n",
              "      <td>1721</td>\n",
              "      <td>619133</td>\n",
              "      <td>28</td>\n",
              "      <td>21581717.0</td>\n",
              "      <td>92378.0</td>\n",
              "    </tr>\n",
              "    <tr>\n",
              "      <th>2</th>\n",
              "      <td>Brasil</td>\n",
              "      <td>76</td>\n",
              "      <td>2022-01-03</td>\n",
              "      <td>1</td>\n",
              "      <td>210147125.0</td>\n",
              "      <td>22305078.0</td>\n",
              "      <td>11850</td>\n",
              "      <td>619209</td>\n",
              "      <td>76</td>\n",
              "      <td>21591847.0</td>\n",
              "      <td>94022.0</td>\n",
              "    </tr>\n",
              "    <tr>\n",
              "      <th>3</th>\n",
              "      <td>Brasil</td>\n",
              "      <td>76</td>\n",
              "      <td>2022-01-04</td>\n",
              "      <td>1</td>\n",
              "      <td>210147125.0</td>\n",
              "      <td>22323837.0</td>\n",
              "      <td>18759</td>\n",
              "      <td>619384</td>\n",
              "      <td>175</td>\n",
              "      <td>21603954.0</td>\n",
              "      <td>100499.0</td>\n",
              "    </tr>\n",
              "    <tr>\n",
              "      <th>4</th>\n",
              "      <td>Brasil</td>\n",
              "      <td>76</td>\n",
              "      <td>2022-01-05</td>\n",
              "      <td>1</td>\n",
              "      <td>210147125.0</td>\n",
              "      <td>22351104.0</td>\n",
              "      <td>27267</td>\n",
              "      <td>619513</td>\n",
              "      <td>129</td>\n",
              "      <td>21615473.0</td>\n",
              "      <td>116118.0</td>\n",
              "    </tr>\n",
              "    <tr>\n",
              "      <th>...</th>\n",
              "      <td>...</td>\n",
              "      <td>...</td>\n",
              "      <td>...</td>\n",
              "      <td>...</td>\n",
              "      <td>...</td>\n",
              "      <td>...</td>\n",
              "      <td>...</td>\n",
              "      <td>...</td>\n",
              "      <td>...</td>\n",
              "      <td>...</td>\n",
              "      <td>...</td>\n",
              "    </tr>\n",
              "    <tr>\n",
              "      <th>149</th>\n",
              "      <td>Brasil</td>\n",
              "      <td>76</td>\n",
              "      <td>2022-05-30</td>\n",
              "      <td>22</td>\n",
              "      <td>210147125.0</td>\n",
              "      <td>30977661.0</td>\n",
              "      <td>24082</td>\n",
              "      <td>666516</td>\n",
              "      <td>63</td>\n",
              "      <td>29971308.0</td>\n",
              "      <td>339837.0</td>\n",
              "    </tr>\n",
              "    <tr>\n",
              "      <th>150</th>\n",
              "      <td>Brasil</td>\n",
              "      <td>76</td>\n",
              "      <td>2022-05-31</td>\n",
              "      <td>22</td>\n",
              "      <td>210147125.0</td>\n",
              "      <td>31019038.0</td>\n",
              "      <td>41377</td>\n",
              "      <td>666676</td>\n",
              "      <td>160</td>\n",
              "      <td>30011391.0</td>\n",
              "      <td>340971.0</td>\n",
              "    </tr>\n",
              "    <tr>\n",
              "      <th>151</th>\n",
              "      <td>Brasil</td>\n",
              "      <td>76</td>\n",
              "      <td>2022-06-01</td>\n",
              "      <td>22</td>\n",
              "      <td>210147125.0</td>\n",
              "      <td>31060017.0</td>\n",
              "      <td>40979</td>\n",
              "      <td>666801</td>\n",
              "      <td>125</td>\n",
              "      <td>30038200.0</td>\n",
              "      <td>355016.0</td>\n",
              "    </tr>\n",
              "    <tr>\n",
              "      <th>152</th>\n",
              "      <td>Brasil</td>\n",
              "      <td>76</td>\n",
              "      <td>2022-06-02</td>\n",
              "      <td>22</td>\n",
              "      <td>210147125.0</td>\n",
              "      <td>31101290.0</td>\n",
              "      <td>41273</td>\n",
              "      <td>666928</td>\n",
              "      <td>127</td>\n",
              "      <td>30054599.0</td>\n",
              "      <td>379763.0</td>\n",
              "    </tr>\n",
              "    <tr>\n",
              "      <th>153</th>\n",
              "      <td>Brasil</td>\n",
              "      <td>76</td>\n",
              "      <td>2022-06-03</td>\n",
              "      <td>22</td>\n",
              "      <td>210147125.0</td>\n",
              "      <td>31137479.0</td>\n",
              "      <td>36189</td>\n",
              "      <td>666971</td>\n",
              "      <td>43</td>\n",
              "      <td>30063682.0</td>\n",
              "      <td>406826.0</td>\n",
              "    </tr>\n",
              "  </tbody>\n",
              "</table>\n",
              "<p>154 rows × 11 columns</p>\n",
              "</div>\n",
              "      <button class=\"colab-df-convert\" onclick=\"convertToInteractive('df-4e3e65bd-fe22-4404-b069-73382577ea28')\"\n",
              "              title=\"Convert this dataframe to an interactive table.\"\n",
              "              style=\"display:none;\">\n",
              "        \n",
              "  <svg xmlns=\"http://www.w3.org/2000/svg\" height=\"24px\"viewBox=\"0 0 24 24\"\n",
              "       width=\"24px\">\n",
              "    <path d=\"M0 0h24v24H0V0z\" fill=\"none\"/>\n",
              "    <path d=\"M18.56 5.44l.94 2.06.94-2.06 2.06-.94-2.06-.94-.94-2.06-.94 2.06-2.06.94zm-11 1L8.5 8.5l.94-2.06 2.06-.94-2.06-.94L8.5 2.5l-.94 2.06-2.06.94zm10 10l.94 2.06.94-2.06 2.06-.94-2.06-.94-.94-2.06-.94 2.06-2.06.94z\"/><path d=\"M17.41 7.96l-1.37-1.37c-.4-.4-.92-.59-1.43-.59-.52 0-1.04.2-1.43.59L10.3 9.45l-7.72 7.72c-.78.78-.78 2.05 0 2.83L4 21.41c.39.39.9.59 1.41.59.51 0 1.02-.2 1.41-.59l7.78-7.78 2.81-2.81c.8-.78.8-2.07 0-2.86zM5.41 20L4 18.59l7.72-7.72 1.47 1.35L5.41 20z\"/>\n",
              "  </svg>\n",
              "      </button>\n",
              "      \n",
              "  <style>\n",
              "    .colab-df-container {\n",
              "      display:flex;\n",
              "      flex-wrap:wrap;\n",
              "      gap: 12px;\n",
              "    }\n",
              "\n",
              "    .colab-df-convert {\n",
              "      background-color: #E8F0FE;\n",
              "      border: none;\n",
              "      border-radius: 50%;\n",
              "      cursor: pointer;\n",
              "      display: none;\n",
              "      fill: #1967D2;\n",
              "      height: 32px;\n",
              "      padding: 0 0 0 0;\n",
              "      width: 32px;\n",
              "    }\n",
              "\n",
              "    .colab-df-convert:hover {\n",
              "      background-color: #E2EBFA;\n",
              "      box-shadow: 0px 1px 2px rgba(60, 64, 67, 0.3), 0px 1px 3px 1px rgba(60, 64, 67, 0.15);\n",
              "      fill: #174EA6;\n",
              "    }\n",
              "\n",
              "    [theme=dark] .colab-df-convert {\n",
              "      background-color: #3B4455;\n",
              "      fill: #D2E3FC;\n",
              "    }\n",
              "\n",
              "    [theme=dark] .colab-df-convert:hover {\n",
              "      background-color: #434B5C;\n",
              "      box-shadow: 0px 1px 3px 1px rgba(0, 0, 0, 0.15);\n",
              "      filter: drop-shadow(0px 1px 2px rgba(0, 0, 0, 0.3));\n",
              "      fill: #FFFFFF;\n",
              "    }\n",
              "  </style>\n",
              "\n",
              "      <script>\n",
              "        const buttonEl =\n",
              "          document.querySelector('#df-4e3e65bd-fe22-4404-b069-73382577ea28 button.colab-df-convert');\n",
              "        buttonEl.style.display =\n",
              "          google.colab.kernel.accessAllowed ? 'block' : 'none';\n",
              "\n",
              "        async function convertToInteractive(key) {\n",
              "          const element = document.querySelector('#df-4e3e65bd-fe22-4404-b069-73382577ea28');\n",
              "          const dataTable =\n",
              "            await google.colab.kernel.invokeFunction('convertToInteractive',\n",
              "                                                     [key], {});\n",
              "          if (!dataTable) return;\n",
              "\n",
              "          const docLinkHtml = 'Like what you see? Visit the ' +\n",
              "            '<a target=\"_blank\" href=https://colab.research.google.com/notebooks/data_table.ipynb>data table notebook</a>'\n",
              "            + ' to learn more about interactive tables.';\n",
              "          element.innerHTML = '';\n",
              "          dataTable['output_type'] = 'display_data';\n",
              "          await google.colab.output.renderOutput(dataTable, element);\n",
              "          const docLink = document.createElement('div');\n",
              "          docLink.innerHTML = docLinkHtml;\n",
              "          element.appendChild(docLink);\n",
              "        }\n",
              "      </script>\n",
              "    </div>\n",
              "  </div>\n",
              "  "
            ]
          },
          "metadata": {},
          "execution_count": 98
        }
      ],
      "source": [
        "DadosBrasil2022"
      ]
    },
    {
      "cell_type": "markdown",
      "source": [
        "## Retirada de uma coluna não nula"
      ],
      "metadata": {
        "id": "Y6AZINgMnCAb"
      }
    },
    {
      "cell_type": "markdown",
      "metadata": {
        "id": "Szs2RctpH9ya"
      },
      "source": [
        "Nos dataframes do Brasil é possível perceber que a coluna 'coduf' não é nula, mas retorna o mesmo valor, que não serão necessário na análise, desse modo, pode-se retirar essa coluna do dataframe."
      ]
    },
    {
      "cell_type": "code",
      "execution_count": 99,
      "metadata": {
        "colab": {
          "base_uri": "https://localhost:8080/"
        },
        "id": "zCPUXw6kH9ya",
        "outputId": "919c3152-c422-4166-a4d8-97b1bb7c803d"
      },
      "outputs": [
        {
          "output_type": "stream",
          "name": "stdout",
          "text": [
            "0      76\n",
            "1      76\n",
            "2      76\n",
            "3      76\n",
            "4      76\n",
            "       ..\n",
            "148    76\n",
            "149    76\n",
            "150    76\n",
            "151    76\n",
            "152    76\n",
            "Name: coduf, Length: 311, dtype: int64 0      76\n",
            "1      76\n",
            "2      76\n",
            "3      76\n",
            "4      76\n",
            "       ..\n",
            "179    76\n",
            "180    76\n",
            "181    76\n",
            "182    76\n",
            "183    76\n",
            "Name: coduf, Length: 365, dtype: int64 0      76\n",
            "1      76\n",
            "2      76\n",
            "3      76\n",
            "4      76\n",
            "       ..\n",
            "149    76\n",
            "150    76\n",
            "151    76\n",
            "152    76\n",
            "153    76\n",
            "Name: coduf, Length: 154, dtype: int64\n"
          ]
        }
      ],
      "source": [
        "print(DadosBrasil2020['coduf'],DadosBrasil2021['coduf'], DadosBrasil2022['coduf'])\n"
      ]
    },
    {
      "cell_type": "markdown",
      "metadata": {
        "id": "xKGJM7ZgH9ya"
      },
      "source": [
        "Então a coluna 'coduf' será removida dos dataframes"
      ]
    },
    {
      "cell_type": "code",
      "execution_count": 100,
      "metadata": {
        "id": "0eAWANeXH9yb"
      },
      "outputs": [],
      "source": [
        "DadosBrasil2020 = DadosBrasil2020.drop(columns=['coduf'])\n",
        "DadosBrasil2021 = DadosBrasil2021.drop(columns=['coduf'])\n",
        "DadosBrasil2022 = DadosBrasil2022.drop(columns=['coduf'])"
      ]
    },
    {
      "cell_type": "markdown",
      "metadata": {
        "id": "pagJyxv3H9yb"
      },
      "source": [
        "# Resultado obtido a partir da limpeza dos dados (Brasil)"
      ]
    },
    {
      "cell_type": "code",
      "execution_count": 101,
      "metadata": {
        "colab": {
          "base_uri": "https://localhost:8080/",
          "height": 0
        },
        "id": "FVIHvg7GH9yb",
        "outputId": "286dee46-b898-4656-c5c3-b502cedbb792"
      },
      "outputs": [
        {
          "output_type": "execute_result",
          "data": {
            "text/plain": [
              "       pais        data  semanaEpi  populacaoTCU2019  casosAcumulado  \\\n",
              "0    Brasil  2022-01-01         52       210147125.0      22291507.0   \n",
              "1    Brasil  2022-01-02          1       210147125.0      22293228.0   \n",
              "2    Brasil  2022-01-03          1       210147125.0      22305078.0   \n",
              "3    Brasil  2022-01-04          1       210147125.0      22323837.0   \n",
              "4    Brasil  2022-01-05          1       210147125.0      22351104.0   \n",
              "..      ...         ...        ...               ...             ...   \n",
              "149  Brasil  2022-05-30         22       210147125.0      30977661.0   \n",
              "150  Brasil  2022-05-31         22       210147125.0      31019038.0   \n",
              "151  Brasil  2022-06-01         22       210147125.0      31060017.0   \n",
              "152  Brasil  2022-06-02         22       210147125.0      31101290.0   \n",
              "153  Brasil  2022-06-03         22       210147125.0      31137479.0   \n",
              "\n",
              "     casosNovos  obitosAcumulado  obitosNovos  Recuperadosnovos  \\\n",
              "0          3986           619105           49        21581668.0   \n",
              "1          1721           619133           28        21581717.0   \n",
              "2         11850           619209           76        21591847.0   \n",
              "3         18759           619384          175        21603954.0   \n",
              "4         27267           619513          129        21615473.0   \n",
              "..          ...              ...          ...               ...   \n",
              "149       24082           666516           63        29971308.0   \n",
              "150       41377           666676          160        30011391.0   \n",
              "151       40979           666801          125        30038200.0   \n",
              "152       41273           666928          127        30054599.0   \n",
              "153       36189           666971           43        30063682.0   \n",
              "\n",
              "     emAcompanhamentoNovos  \n",
              "0                  90734.0  \n",
              "1                  92378.0  \n",
              "2                  94022.0  \n",
              "3                 100499.0  \n",
              "4                 116118.0  \n",
              "..                     ...  \n",
              "149               339837.0  \n",
              "150               340971.0  \n",
              "151               355016.0  \n",
              "152               379763.0  \n",
              "153               406826.0  \n",
              "\n",
              "[154 rows x 10 columns]"
            ],
            "text/html": [
              "\n",
              "  <div id=\"df-3aaad973-89f9-4fca-9bdb-513dd898673e\">\n",
              "    <div class=\"colab-df-container\">\n",
              "      <div>\n",
              "<style scoped>\n",
              "    .dataframe tbody tr th:only-of-type {\n",
              "        vertical-align: middle;\n",
              "    }\n",
              "\n",
              "    .dataframe tbody tr th {\n",
              "        vertical-align: top;\n",
              "    }\n",
              "\n",
              "    .dataframe thead th {\n",
              "        text-align: right;\n",
              "    }\n",
              "</style>\n",
              "<table border=\"1\" class=\"dataframe\">\n",
              "  <thead>\n",
              "    <tr style=\"text-align: right;\">\n",
              "      <th></th>\n",
              "      <th>pais</th>\n",
              "      <th>data</th>\n",
              "      <th>semanaEpi</th>\n",
              "      <th>populacaoTCU2019</th>\n",
              "      <th>casosAcumulado</th>\n",
              "      <th>casosNovos</th>\n",
              "      <th>obitosAcumulado</th>\n",
              "      <th>obitosNovos</th>\n",
              "      <th>Recuperadosnovos</th>\n",
              "      <th>emAcompanhamentoNovos</th>\n",
              "    </tr>\n",
              "  </thead>\n",
              "  <tbody>\n",
              "    <tr>\n",
              "      <th>0</th>\n",
              "      <td>Brasil</td>\n",
              "      <td>2022-01-01</td>\n",
              "      <td>52</td>\n",
              "      <td>210147125.0</td>\n",
              "      <td>22291507.0</td>\n",
              "      <td>3986</td>\n",
              "      <td>619105</td>\n",
              "      <td>49</td>\n",
              "      <td>21581668.0</td>\n",
              "      <td>90734.0</td>\n",
              "    </tr>\n",
              "    <tr>\n",
              "      <th>1</th>\n",
              "      <td>Brasil</td>\n",
              "      <td>2022-01-02</td>\n",
              "      <td>1</td>\n",
              "      <td>210147125.0</td>\n",
              "      <td>22293228.0</td>\n",
              "      <td>1721</td>\n",
              "      <td>619133</td>\n",
              "      <td>28</td>\n",
              "      <td>21581717.0</td>\n",
              "      <td>92378.0</td>\n",
              "    </tr>\n",
              "    <tr>\n",
              "      <th>2</th>\n",
              "      <td>Brasil</td>\n",
              "      <td>2022-01-03</td>\n",
              "      <td>1</td>\n",
              "      <td>210147125.0</td>\n",
              "      <td>22305078.0</td>\n",
              "      <td>11850</td>\n",
              "      <td>619209</td>\n",
              "      <td>76</td>\n",
              "      <td>21591847.0</td>\n",
              "      <td>94022.0</td>\n",
              "    </tr>\n",
              "    <tr>\n",
              "      <th>3</th>\n",
              "      <td>Brasil</td>\n",
              "      <td>2022-01-04</td>\n",
              "      <td>1</td>\n",
              "      <td>210147125.0</td>\n",
              "      <td>22323837.0</td>\n",
              "      <td>18759</td>\n",
              "      <td>619384</td>\n",
              "      <td>175</td>\n",
              "      <td>21603954.0</td>\n",
              "      <td>100499.0</td>\n",
              "    </tr>\n",
              "    <tr>\n",
              "      <th>4</th>\n",
              "      <td>Brasil</td>\n",
              "      <td>2022-01-05</td>\n",
              "      <td>1</td>\n",
              "      <td>210147125.0</td>\n",
              "      <td>22351104.0</td>\n",
              "      <td>27267</td>\n",
              "      <td>619513</td>\n",
              "      <td>129</td>\n",
              "      <td>21615473.0</td>\n",
              "      <td>116118.0</td>\n",
              "    </tr>\n",
              "    <tr>\n",
              "      <th>...</th>\n",
              "      <td>...</td>\n",
              "      <td>...</td>\n",
              "      <td>...</td>\n",
              "      <td>...</td>\n",
              "      <td>...</td>\n",
              "      <td>...</td>\n",
              "      <td>...</td>\n",
              "      <td>...</td>\n",
              "      <td>...</td>\n",
              "      <td>...</td>\n",
              "    </tr>\n",
              "    <tr>\n",
              "      <th>149</th>\n",
              "      <td>Brasil</td>\n",
              "      <td>2022-05-30</td>\n",
              "      <td>22</td>\n",
              "      <td>210147125.0</td>\n",
              "      <td>30977661.0</td>\n",
              "      <td>24082</td>\n",
              "      <td>666516</td>\n",
              "      <td>63</td>\n",
              "      <td>29971308.0</td>\n",
              "      <td>339837.0</td>\n",
              "    </tr>\n",
              "    <tr>\n",
              "      <th>150</th>\n",
              "      <td>Brasil</td>\n",
              "      <td>2022-05-31</td>\n",
              "      <td>22</td>\n",
              "      <td>210147125.0</td>\n",
              "      <td>31019038.0</td>\n",
              "      <td>41377</td>\n",
              "      <td>666676</td>\n",
              "      <td>160</td>\n",
              "      <td>30011391.0</td>\n",
              "      <td>340971.0</td>\n",
              "    </tr>\n",
              "    <tr>\n",
              "      <th>151</th>\n",
              "      <td>Brasil</td>\n",
              "      <td>2022-06-01</td>\n",
              "      <td>22</td>\n",
              "      <td>210147125.0</td>\n",
              "      <td>31060017.0</td>\n",
              "      <td>40979</td>\n",
              "      <td>666801</td>\n",
              "      <td>125</td>\n",
              "      <td>30038200.0</td>\n",
              "      <td>355016.0</td>\n",
              "    </tr>\n",
              "    <tr>\n",
              "      <th>152</th>\n",
              "      <td>Brasil</td>\n",
              "      <td>2022-06-02</td>\n",
              "      <td>22</td>\n",
              "      <td>210147125.0</td>\n",
              "      <td>31101290.0</td>\n",
              "      <td>41273</td>\n",
              "      <td>666928</td>\n",
              "      <td>127</td>\n",
              "      <td>30054599.0</td>\n",
              "      <td>379763.0</td>\n",
              "    </tr>\n",
              "    <tr>\n",
              "      <th>153</th>\n",
              "      <td>Brasil</td>\n",
              "      <td>2022-06-03</td>\n",
              "      <td>22</td>\n",
              "      <td>210147125.0</td>\n",
              "      <td>31137479.0</td>\n",
              "      <td>36189</td>\n",
              "      <td>666971</td>\n",
              "      <td>43</td>\n",
              "      <td>30063682.0</td>\n",
              "      <td>406826.0</td>\n",
              "    </tr>\n",
              "  </tbody>\n",
              "</table>\n",
              "<p>154 rows × 10 columns</p>\n",
              "</div>\n",
              "      <button class=\"colab-df-convert\" onclick=\"convertToInteractive('df-3aaad973-89f9-4fca-9bdb-513dd898673e')\"\n",
              "              title=\"Convert this dataframe to an interactive table.\"\n",
              "              style=\"display:none;\">\n",
              "        \n",
              "  <svg xmlns=\"http://www.w3.org/2000/svg\" height=\"24px\"viewBox=\"0 0 24 24\"\n",
              "       width=\"24px\">\n",
              "    <path d=\"M0 0h24v24H0V0z\" fill=\"none\"/>\n",
              "    <path d=\"M18.56 5.44l.94 2.06.94-2.06 2.06-.94-2.06-.94-.94-2.06-.94 2.06-2.06.94zm-11 1L8.5 8.5l.94-2.06 2.06-.94-2.06-.94L8.5 2.5l-.94 2.06-2.06.94zm10 10l.94 2.06.94-2.06 2.06-.94-2.06-.94-.94-2.06-.94 2.06-2.06.94z\"/><path d=\"M17.41 7.96l-1.37-1.37c-.4-.4-.92-.59-1.43-.59-.52 0-1.04.2-1.43.59L10.3 9.45l-7.72 7.72c-.78.78-.78 2.05 0 2.83L4 21.41c.39.39.9.59 1.41.59.51 0 1.02-.2 1.41-.59l7.78-7.78 2.81-2.81c.8-.78.8-2.07 0-2.86zM5.41 20L4 18.59l7.72-7.72 1.47 1.35L5.41 20z\"/>\n",
              "  </svg>\n",
              "      </button>\n",
              "      \n",
              "  <style>\n",
              "    .colab-df-container {\n",
              "      display:flex;\n",
              "      flex-wrap:wrap;\n",
              "      gap: 12px;\n",
              "    }\n",
              "\n",
              "    .colab-df-convert {\n",
              "      background-color: #E8F0FE;\n",
              "      border: none;\n",
              "      border-radius: 50%;\n",
              "      cursor: pointer;\n",
              "      display: none;\n",
              "      fill: #1967D2;\n",
              "      height: 32px;\n",
              "      padding: 0 0 0 0;\n",
              "      width: 32px;\n",
              "    }\n",
              "\n",
              "    .colab-df-convert:hover {\n",
              "      background-color: #E2EBFA;\n",
              "      box-shadow: 0px 1px 2px rgba(60, 64, 67, 0.3), 0px 1px 3px 1px rgba(60, 64, 67, 0.15);\n",
              "      fill: #174EA6;\n",
              "    }\n",
              "\n",
              "    [theme=dark] .colab-df-convert {\n",
              "      background-color: #3B4455;\n",
              "      fill: #D2E3FC;\n",
              "    }\n",
              "\n",
              "    [theme=dark] .colab-df-convert:hover {\n",
              "      background-color: #434B5C;\n",
              "      box-shadow: 0px 1px 3px 1px rgba(0, 0, 0, 0.15);\n",
              "      filter: drop-shadow(0px 1px 2px rgba(0, 0, 0, 0.3));\n",
              "      fill: #FFFFFF;\n",
              "    }\n",
              "  </style>\n",
              "\n",
              "      <script>\n",
              "        const buttonEl =\n",
              "          document.querySelector('#df-3aaad973-89f9-4fca-9bdb-513dd898673e button.colab-df-convert');\n",
              "        buttonEl.style.display =\n",
              "          google.colab.kernel.accessAllowed ? 'block' : 'none';\n",
              "\n",
              "        async function convertToInteractive(key) {\n",
              "          const element = document.querySelector('#df-3aaad973-89f9-4fca-9bdb-513dd898673e');\n",
              "          const dataTable =\n",
              "            await google.colab.kernel.invokeFunction('convertToInteractive',\n",
              "                                                     [key], {});\n",
              "          if (!dataTable) return;\n",
              "\n",
              "          const docLinkHtml = 'Like what you see? Visit the ' +\n",
              "            '<a target=\"_blank\" href=https://colab.research.google.com/notebooks/data_table.ipynb>data table notebook</a>'\n",
              "            + ' to learn more about interactive tables.';\n",
              "          element.innerHTML = '';\n",
              "          dataTable['output_type'] = 'display_data';\n",
              "          await google.colab.output.renderOutput(dataTable, element);\n",
              "          const docLink = document.createElement('div');\n",
              "          docLink.innerHTML = docLinkHtml;\n",
              "          element.appendChild(docLink);\n",
              "        }\n",
              "      </script>\n",
              "    </div>\n",
              "  </div>\n",
              "  "
            ]
          },
          "metadata": {},
          "execution_count": 101
        }
      ],
      "source": [
        "DadosBrasil2022"
      ]
    },
    {
      "cell_type": "markdown",
      "metadata": {
        "id": "YytPzi5GD3fY"
      },
      "source": [
        "# Selecionando os dados das regiões do Brasil nos anos de 2020, 2021 e 2022."
      ]
    },
    {
      "cell_type": "markdown",
      "source": [
        "Regiões sul, norte, nordeste, sudeste e centro-oeste."
      ],
      "metadata": {
        "id": "hCqojpMPo0gR"
      }
    },
    {
      "cell_type": "code",
      "execution_count": 102,
      "metadata": {
        "id": "dCACCLz5EA9y"
      },
      "outputs": [],
      "source": [
        "RegioesBrasil2020 = covid2020[covid2020['regiao'] != 'Brasil']\n",
        "RegioesBrasil2021 = covid2021[covid2021['regiao'] != 'Brasil']\n",
        "RegioesBrasil2022 = covid2022[covid2022['regiao'] != 'Brasil']"
      ]
    },
    {
      "cell_type": "markdown",
      "metadata": {
        "id": "J1QOoVLLRvaF"
      },
      "source": [
        "# Regiões do Brasil em 2020"
      ]
    },
    {
      "cell_type": "code",
      "execution_count": 103,
      "metadata": {
        "colab": {
          "base_uri": "https://localhost:8080/",
          "height": 0
        },
        "id": "6mVyE_8kH9yc",
        "outputId": "42616661-29ae-4801-bcf7-056c4c433116"
      },
      "outputs": [
        {
          "output_type": "execute_result",
          "data": {
            "text/plain": [
              "              regiao estado municipio  coduf    codmun  codRegiaoSaude  \\\n",
              "158            Norte     RO       NaN     11       NaN             NaN   \n",
              "159            Norte     RO       NaN     11       NaN             NaN   \n",
              "160            Norte     RO       NaN     11       NaN             NaN   \n",
              "161            Norte     RO       NaN     11       NaN             NaN   \n",
              "162            Norte     RO       NaN     11       NaN             NaN   \n",
              "...              ...    ...       ...    ...       ...             ...   \n",
              "859702  Centro-Oeste     DF  Brasília     53  530010.0         53001.0   \n",
              "859703  Centro-Oeste     DF  Brasília     53  530010.0         53001.0   \n",
              "859704  Centro-Oeste     DF  Brasília     53  530010.0         53001.0   \n",
              "859705  Centro-Oeste     DF  Brasília     53  530010.0         53001.0   \n",
              "859706  Centro-Oeste     DF  Brasília     53  530010.0         53001.0   \n",
              "\n",
              "         nomeRegiaoSaude        data  semanaEpi  populacaoTCU2019  \\\n",
              "158                  NaN  2020-02-25          9         1777225.0   \n",
              "159                  NaN  2020-02-26          9         1777225.0   \n",
              "160                  NaN  2020-02-27          9         1777225.0   \n",
              "161                  NaN  2020-02-28          9         1777225.0   \n",
              "162                  NaN  2020-02-29          9         1777225.0   \n",
              "...                  ...         ...        ...               ...   \n",
              "859702  DISTRITO FEDERAL  2020-12-27         53         3015268.0   \n",
              "859703  DISTRITO FEDERAL  2020-12-28         53         3015268.0   \n",
              "859704  DISTRITO FEDERAL  2020-12-29         53         3015268.0   \n",
              "859705  DISTRITO FEDERAL  2020-12-30         53         3015268.0   \n",
              "859706  DISTRITO FEDERAL  2020-12-31         53         3015268.0   \n",
              "\n",
              "        casosAcumulado  casosNovos  obitosAcumulado  obitosNovos  \\\n",
              "158                  0           0                0            0   \n",
              "159                  0           0                0            0   \n",
              "160                  0           0                0            0   \n",
              "161                  0           0                0            0   \n",
              "162                  0           0                0            0   \n",
              "...                ...         ...              ...          ...   \n",
              "859702          248543         615             4201            3   \n",
              "859703          249736        1193             4223           22   \n",
              "859704          250457         721             4241           18   \n",
              "859705          251135         678             4248            7   \n",
              "859706          251701         566             4259           11   \n",
              "\n",
              "        Recuperadosnovos  emAcompanhamentoNovos  interior/metropolitana  \n",
              "158                  NaN                    NaN                     NaN  \n",
              "159                  NaN                    NaN                     NaN  \n",
              "160                  NaN                    NaN                     NaN  \n",
              "161                  NaN                    NaN                     NaN  \n",
              "162                  NaN                    NaN                     NaN  \n",
              "...                  ...                    ...                     ...  \n",
              "859702               NaN                    NaN                     1.0  \n",
              "859703               NaN                    NaN                     1.0  \n",
              "859704               NaN                    NaN                     1.0  \n",
              "859705               NaN                    NaN                     1.0  \n",
              "859706               NaN                    NaN                     1.0  \n",
              "\n",
              "[1573877 rows x 17 columns]"
            ],
            "text/html": [
              "\n",
              "  <div id=\"df-f9045a02-3747-4b27-b17e-84043466a264\">\n",
              "    <div class=\"colab-df-container\">\n",
              "      <div>\n",
              "<style scoped>\n",
              "    .dataframe tbody tr th:only-of-type {\n",
              "        vertical-align: middle;\n",
              "    }\n",
              "\n",
              "    .dataframe tbody tr th {\n",
              "        vertical-align: top;\n",
              "    }\n",
              "\n",
              "    .dataframe thead th {\n",
              "        text-align: right;\n",
              "    }\n",
              "</style>\n",
              "<table border=\"1\" class=\"dataframe\">\n",
              "  <thead>\n",
              "    <tr style=\"text-align: right;\">\n",
              "      <th></th>\n",
              "      <th>regiao</th>\n",
              "      <th>estado</th>\n",
              "      <th>municipio</th>\n",
              "      <th>coduf</th>\n",
              "      <th>codmun</th>\n",
              "      <th>codRegiaoSaude</th>\n",
              "      <th>nomeRegiaoSaude</th>\n",
              "      <th>data</th>\n",
              "      <th>semanaEpi</th>\n",
              "      <th>populacaoTCU2019</th>\n",
              "      <th>casosAcumulado</th>\n",
              "      <th>casosNovos</th>\n",
              "      <th>obitosAcumulado</th>\n",
              "      <th>obitosNovos</th>\n",
              "      <th>Recuperadosnovos</th>\n",
              "      <th>emAcompanhamentoNovos</th>\n",
              "      <th>interior/metropolitana</th>\n",
              "    </tr>\n",
              "  </thead>\n",
              "  <tbody>\n",
              "    <tr>\n",
              "      <th>158</th>\n",
              "      <td>Norte</td>\n",
              "      <td>RO</td>\n",
              "      <td>NaN</td>\n",
              "      <td>11</td>\n",
              "      <td>NaN</td>\n",
              "      <td>NaN</td>\n",
              "      <td>NaN</td>\n",
              "      <td>2020-02-25</td>\n",
              "      <td>9</td>\n",
              "      <td>1777225.0</td>\n",
              "      <td>0</td>\n",
              "      <td>0</td>\n",
              "      <td>0</td>\n",
              "      <td>0</td>\n",
              "      <td>NaN</td>\n",
              "      <td>NaN</td>\n",
              "      <td>NaN</td>\n",
              "    </tr>\n",
              "    <tr>\n",
              "      <th>159</th>\n",
              "      <td>Norte</td>\n",
              "      <td>RO</td>\n",
              "      <td>NaN</td>\n",
              "      <td>11</td>\n",
              "      <td>NaN</td>\n",
              "      <td>NaN</td>\n",
              "      <td>NaN</td>\n",
              "      <td>2020-02-26</td>\n",
              "      <td>9</td>\n",
              "      <td>1777225.0</td>\n",
              "      <td>0</td>\n",
              "      <td>0</td>\n",
              "      <td>0</td>\n",
              "      <td>0</td>\n",
              "      <td>NaN</td>\n",
              "      <td>NaN</td>\n",
              "      <td>NaN</td>\n",
              "    </tr>\n",
              "    <tr>\n",
              "      <th>160</th>\n",
              "      <td>Norte</td>\n",
              "      <td>RO</td>\n",
              "      <td>NaN</td>\n",
              "      <td>11</td>\n",
              "      <td>NaN</td>\n",
              "      <td>NaN</td>\n",
              "      <td>NaN</td>\n",
              "      <td>2020-02-27</td>\n",
              "      <td>9</td>\n",
              "      <td>1777225.0</td>\n",
              "      <td>0</td>\n",
              "      <td>0</td>\n",
              "      <td>0</td>\n",
              "      <td>0</td>\n",
              "      <td>NaN</td>\n",
              "      <td>NaN</td>\n",
              "      <td>NaN</td>\n",
              "    </tr>\n",
              "    <tr>\n",
              "      <th>161</th>\n",
              "      <td>Norte</td>\n",
              "      <td>RO</td>\n",
              "      <td>NaN</td>\n",
              "      <td>11</td>\n",
              "      <td>NaN</td>\n",
              "      <td>NaN</td>\n",
              "      <td>NaN</td>\n",
              "      <td>2020-02-28</td>\n",
              "      <td>9</td>\n",
              "      <td>1777225.0</td>\n",
              "      <td>0</td>\n",
              "      <td>0</td>\n",
              "      <td>0</td>\n",
              "      <td>0</td>\n",
              "      <td>NaN</td>\n",
              "      <td>NaN</td>\n",
              "      <td>NaN</td>\n",
              "    </tr>\n",
              "    <tr>\n",
              "      <th>162</th>\n",
              "      <td>Norte</td>\n",
              "      <td>RO</td>\n",
              "      <td>NaN</td>\n",
              "      <td>11</td>\n",
              "      <td>NaN</td>\n",
              "      <td>NaN</td>\n",
              "      <td>NaN</td>\n",
              "      <td>2020-02-29</td>\n",
              "      <td>9</td>\n",
              "      <td>1777225.0</td>\n",
              "      <td>0</td>\n",
              "      <td>0</td>\n",
              "      <td>0</td>\n",
              "      <td>0</td>\n",
              "      <td>NaN</td>\n",
              "      <td>NaN</td>\n",
              "      <td>NaN</td>\n",
              "    </tr>\n",
              "    <tr>\n",
              "      <th>...</th>\n",
              "      <td>...</td>\n",
              "      <td>...</td>\n",
              "      <td>...</td>\n",
              "      <td>...</td>\n",
              "      <td>...</td>\n",
              "      <td>...</td>\n",
              "      <td>...</td>\n",
              "      <td>...</td>\n",
              "      <td>...</td>\n",
              "      <td>...</td>\n",
              "      <td>...</td>\n",
              "      <td>...</td>\n",
              "      <td>...</td>\n",
              "      <td>...</td>\n",
              "      <td>...</td>\n",
              "      <td>...</td>\n",
              "      <td>...</td>\n",
              "    </tr>\n",
              "    <tr>\n",
              "      <th>859702</th>\n",
              "      <td>Centro-Oeste</td>\n",
              "      <td>DF</td>\n",
              "      <td>Brasília</td>\n",
              "      <td>53</td>\n",
              "      <td>530010.0</td>\n",
              "      <td>53001.0</td>\n",
              "      <td>DISTRITO FEDERAL</td>\n",
              "      <td>2020-12-27</td>\n",
              "      <td>53</td>\n",
              "      <td>3015268.0</td>\n",
              "      <td>248543</td>\n",
              "      <td>615</td>\n",
              "      <td>4201</td>\n",
              "      <td>3</td>\n",
              "      <td>NaN</td>\n",
              "      <td>NaN</td>\n",
              "      <td>1.0</td>\n",
              "    </tr>\n",
              "    <tr>\n",
              "      <th>859703</th>\n",
              "      <td>Centro-Oeste</td>\n",
              "      <td>DF</td>\n",
              "      <td>Brasília</td>\n",
              "      <td>53</td>\n",
              "      <td>530010.0</td>\n",
              "      <td>53001.0</td>\n",
              "      <td>DISTRITO FEDERAL</td>\n",
              "      <td>2020-12-28</td>\n",
              "      <td>53</td>\n",
              "      <td>3015268.0</td>\n",
              "      <td>249736</td>\n",
              "      <td>1193</td>\n",
              "      <td>4223</td>\n",
              "      <td>22</td>\n",
              "      <td>NaN</td>\n",
              "      <td>NaN</td>\n",
              "      <td>1.0</td>\n",
              "    </tr>\n",
              "    <tr>\n",
              "      <th>859704</th>\n",
              "      <td>Centro-Oeste</td>\n",
              "      <td>DF</td>\n",
              "      <td>Brasília</td>\n",
              "      <td>53</td>\n",
              "      <td>530010.0</td>\n",
              "      <td>53001.0</td>\n",
              "      <td>DISTRITO FEDERAL</td>\n",
              "      <td>2020-12-29</td>\n",
              "      <td>53</td>\n",
              "      <td>3015268.0</td>\n",
              "      <td>250457</td>\n",
              "      <td>721</td>\n",
              "      <td>4241</td>\n",
              "      <td>18</td>\n",
              "      <td>NaN</td>\n",
              "      <td>NaN</td>\n",
              "      <td>1.0</td>\n",
              "    </tr>\n",
              "    <tr>\n",
              "      <th>859705</th>\n",
              "      <td>Centro-Oeste</td>\n",
              "      <td>DF</td>\n",
              "      <td>Brasília</td>\n",
              "      <td>53</td>\n",
              "      <td>530010.0</td>\n",
              "      <td>53001.0</td>\n",
              "      <td>DISTRITO FEDERAL</td>\n",
              "      <td>2020-12-30</td>\n",
              "      <td>53</td>\n",
              "      <td>3015268.0</td>\n",
              "      <td>251135</td>\n",
              "      <td>678</td>\n",
              "      <td>4248</td>\n",
              "      <td>7</td>\n",
              "      <td>NaN</td>\n",
              "      <td>NaN</td>\n",
              "      <td>1.0</td>\n",
              "    </tr>\n",
              "    <tr>\n",
              "      <th>859706</th>\n",
              "      <td>Centro-Oeste</td>\n",
              "      <td>DF</td>\n",
              "      <td>Brasília</td>\n",
              "      <td>53</td>\n",
              "      <td>530010.0</td>\n",
              "      <td>53001.0</td>\n",
              "      <td>DISTRITO FEDERAL</td>\n",
              "      <td>2020-12-31</td>\n",
              "      <td>53</td>\n",
              "      <td>3015268.0</td>\n",
              "      <td>251701</td>\n",
              "      <td>566</td>\n",
              "      <td>4259</td>\n",
              "      <td>11</td>\n",
              "      <td>NaN</td>\n",
              "      <td>NaN</td>\n",
              "      <td>1.0</td>\n",
              "    </tr>\n",
              "  </tbody>\n",
              "</table>\n",
              "<p>1573877 rows × 17 columns</p>\n",
              "</div>\n",
              "      <button class=\"colab-df-convert\" onclick=\"convertToInteractive('df-f9045a02-3747-4b27-b17e-84043466a264')\"\n",
              "              title=\"Convert this dataframe to an interactive table.\"\n",
              "              style=\"display:none;\">\n",
              "        \n",
              "  <svg xmlns=\"http://www.w3.org/2000/svg\" height=\"24px\"viewBox=\"0 0 24 24\"\n",
              "       width=\"24px\">\n",
              "    <path d=\"M0 0h24v24H0V0z\" fill=\"none\"/>\n",
              "    <path d=\"M18.56 5.44l.94 2.06.94-2.06 2.06-.94-2.06-.94-.94-2.06-.94 2.06-2.06.94zm-11 1L8.5 8.5l.94-2.06 2.06-.94-2.06-.94L8.5 2.5l-.94 2.06-2.06.94zm10 10l.94 2.06.94-2.06 2.06-.94-2.06-.94-.94-2.06-.94 2.06-2.06.94z\"/><path d=\"M17.41 7.96l-1.37-1.37c-.4-.4-.92-.59-1.43-.59-.52 0-1.04.2-1.43.59L10.3 9.45l-7.72 7.72c-.78.78-.78 2.05 0 2.83L4 21.41c.39.39.9.59 1.41.59.51 0 1.02-.2 1.41-.59l7.78-7.78 2.81-2.81c.8-.78.8-2.07 0-2.86zM5.41 20L4 18.59l7.72-7.72 1.47 1.35L5.41 20z\"/>\n",
              "  </svg>\n",
              "      </button>\n",
              "      \n",
              "  <style>\n",
              "    .colab-df-container {\n",
              "      display:flex;\n",
              "      flex-wrap:wrap;\n",
              "      gap: 12px;\n",
              "    }\n",
              "\n",
              "    .colab-df-convert {\n",
              "      background-color: #E8F0FE;\n",
              "      border: none;\n",
              "      border-radius: 50%;\n",
              "      cursor: pointer;\n",
              "      display: none;\n",
              "      fill: #1967D2;\n",
              "      height: 32px;\n",
              "      padding: 0 0 0 0;\n",
              "      width: 32px;\n",
              "    }\n",
              "\n",
              "    .colab-df-convert:hover {\n",
              "      background-color: #E2EBFA;\n",
              "      box-shadow: 0px 1px 2px rgba(60, 64, 67, 0.3), 0px 1px 3px 1px rgba(60, 64, 67, 0.15);\n",
              "      fill: #174EA6;\n",
              "    }\n",
              "\n",
              "    [theme=dark] .colab-df-convert {\n",
              "      background-color: #3B4455;\n",
              "      fill: #D2E3FC;\n",
              "    }\n",
              "\n",
              "    [theme=dark] .colab-df-convert:hover {\n",
              "      background-color: #434B5C;\n",
              "      box-shadow: 0px 1px 3px 1px rgba(0, 0, 0, 0.15);\n",
              "      filter: drop-shadow(0px 1px 2px rgba(0, 0, 0, 0.3));\n",
              "      fill: #FFFFFF;\n",
              "    }\n",
              "  </style>\n",
              "\n",
              "      <script>\n",
              "        const buttonEl =\n",
              "          document.querySelector('#df-f9045a02-3747-4b27-b17e-84043466a264 button.colab-df-convert');\n",
              "        buttonEl.style.display =\n",
              "          google.colab.kernel.accessAllowed ? 'block' : 'none';\n",
              "\n",
              "        async function convertToInteractive(key) {\n",
              "          const element = document.querySelector('#df-f9045a02-3747-4b27-b17e-84043466a264');\n",
              "          const dataTable =\n",
              "            await google.colab.kernel.invokeFunction('convertToInteractive',\n",
              "                                                     [key], {});\n",
              "          if (!dataTable) return;\n",
              "\n",
              "          const docLinkHtml = 'Like what you see? Visit the ' +\n",
              "            '<a target=\"_blank\" href=https://colab.research.google.com/notebooks/data_table.ipynb>data table notebook</a>'\n",
              "            + ' to learn more about interactive tables.';\n",
              "          element.innerHTML = '';\n",
              "          dataTable['output_type'] = 'display_data';\n",
              "          await google.colab.output.renderOutput(dataTable, element);\n",
              "          const docLink = document.createElement('div');\n",
              "          docLink.innerHTML = docLinkHtml;\n",
              "          element.appendChild(docLink);\n",
              "        }\n",
              "      </script>\n",
              "    </div>\n",
              "  </div>\n",
              "  "
            ]
          },
          "metadata": {},
          "execution_count": 103
        }
      ],
      "source": [
        "RegioesBrasil2020"
      ]
    },
    {
      "cell_type": "markdown",
      "metadata": {
        "id": "dx3fsJEYR079"
      },
      "source": [
        "# Regiões do Brasil em 2021"
      ]
    },
    {
      "cell_type": "code",
      "execution_count": 104,
      "metadata": {
        "colab": {
          "base_uri": "https://localhost:8080/",
          "height": 0
        },
        "id": "23cG_LVnH9yc",
        "outputId": "cef05241-c742-42a5-f543-eb5e47506517"
      },
      "outputs": [
        {
          "output_type": "execute_result",
          "data": {
            "text/plain": [
              "               regiao estado municipio  coduf    codmun  codRegiaoSaude  \\\n",
              "181             Norte     RO       NaN     11       NaN             NaN   \n",
              "182             Norte     RO       NaN     11       NaN             NaN   \n",
              "183             Norte     RO       NaN     11       NaN             NaN   \n",
              "184             Norte     RO       NaN     11       NaN             NaN   \n",
              "185             Norte     RO       NaN     11       NaN             NaN   \n",
              "...               ...    ...       ...    ...       ...             ...   \n",
              "1033891  Centro-Oeste     DF  Brasília     53  530010.0         53001.0   \n",
              "1033892  Centro-Oeste     DF  Brasília     53  530010.0         53001.0   \n",
              "1033893  Centro-Oeste     DF  Brasília     53  530010.0         53001.0   \n",
              "1033894  Centro-Oeste     DF  Brasília     53  530010.0         53001.0   \n",
              "1033895  Centro-Oeste     DF  Brasília     53  530010.0         53001.0   \n",
              "\n",
              "          nomeRegiaoSaude        data  semanaEpi  populacaoTCU2019  \\\n",
              "181                   NaN  2021-01-01         53         1777225.0   \n",
              "182                   NaN  2021-01-02         53         1777225.0   \n",
              "183                   NaN  2021-01-03          1         1777225.0   \n",
              "184                   NaN  2021-01-04          1         1777225.0   \n",
              "185                   NaN  2021-01-05          1         1777225.0   \n",
              "...                   ...         ...        ...               ...   \n",
              "1033891  DISTRITO FEDERAL  2021-12-27         52         3015268.0   \n",
              "1033892  DISTRITO FEDERAL  2021-12-28         52         3015268.0   \n",
              "1033893  DISTRITO FEDERAL  2021-12-29         52         3015268.0   \n",
              "1033894  DISTRITO FEDERAL  2021-12-30         52         3015268.0   \n",
              "1033895  DISTRITO FEDERAL  2021-12-31         52         3015268.0   \n",
              "\n",
              "         casosAcumulado  casosNovos  obitosAcumulado  obitosNovos  \\\n",
              "181             95999.0         270             1822            5   \n",
              "182             96433.0         434             1825            3   \n",
              "183             96906.0         473             1832            7   \n",
              "184             97197.0         291             1840            8   \n",
              "185             97854.0         657             1852           12   \n",
              "...                 ...         ...              ...          ...   \n",
              "1033891        519103.0         225            11100            5   \n",
              "1033892        519196.0          93            11104            4   \n",
              "1033893        519346.0         150            11105            1   \n",
              "1033894        519546.0         200            11107            2   \n",
              "1033895        519811.0         265            11108            1   \n",
              "\n",
              "         Recuperadosnovos  emAcompanhamentoNovos  interior/metropolitana  \n",
              "181                   NaN                    NaN                     NaN  \n",
              "182                   NaN                    NaN                     NaN  \n",
              "183                   NaN                    NaN                     NaN  \n",
              "184                   NaN                    NaN                     NaN  \n",
              "185                   NaN                    NaN                     NaN  \n",
              "...                   ...                    ...                     ...  \n",
              "1033891               NaN                    NaN                     1.0  \n",
              "1033892               NaN                    NaN                     1.0  \n",
              "1033893               NaN                    NaN                     1.0  \n",
              "1033894               NaN                    NaN                     1.0  \n",
              "1033895               NaN                    NaN                     1.0  \n",
              "\n",
              "[2050570 rows x 17 columns]"
            ],
            "text/html": [
              "\n",
              "  <div id=\"df-7c98a976-6202-4632-ba55-91bfa63e6bcf\">\n",
              "    <div class=\"colab-df-container\">\n",
              "      <div>\n",
              "<style scoped>\n",
              "    .dataframe tbody tr th:only-of-type {\n",
              "        vertical-align: middle;\n",
              "    }\n",
              "\n",
              "    .dataframe tbody tr th {\n",
              "        vertical-align: top;\n",
              "    }\n",
              "\n",
              "    .dataframe thead th {\n",
              "        text-align: right;\n",
              "    }\n",
              "</style>\n",
              "<table border=\"1\" class=\"dataframe\">\n",
              "  <thead>\n",
              "    <tr style=\"text-align: right;\">\n",
              "      <th></th>\n",
              "      <th>regiao</th>\n",
              "      <th>estado</th>\n",
              "      <th>municipio</th>\n",
              "      <th>coduf</th>\n",
              "      <th>codmun</th>\n",
              "      <th>codRegiaoSaude</th>\n",
              "      <th>nomeRegiaoSaude</th>\n",
              "      <th>data</th>\n",
              "      <th>semanaEpi</th>\n",
              "      <th>populacaoTCU2019</th>\n",
              "      <th>casosAcumulado</th>\n",
              "      <th>casosNovos</th>\n",
              "      <th>obitosAcumulado</th>\n",
              "      <th>obitosNovos</th>\n",
              "      <th>Recuperadosnovos</th>\n",
              "      <th>emAcompanhamentoNovos</th>\n",
              "      <th>interior/metropolitana</th>\n",
              "    </tr>\n",
              "  </thead>\n",
              "  <tbody>\n",
              "    <tr>\n",
              "      <th>181</th>\n",
              "      <td>Norte</td>\n",
              "      <td>RO</td>\n",
              "      <td>NaN</td>\n",
              "      <td>11</td>\n",
              "      <td>NaN</td>\n",
              "      <td>NaN</td>\n",
              "      <td>NaN</td>\n",
              "      <td>2021-01-01</td>\n",
              "      <td>53</td>\n",
              "      <td>1777225.0</td>\n",
              "      <td>95999.0</td>\n",
              "      <td>270</td>\n",
              "      <td>1822</td>\n",
              "      <td>5</td>\n",
              "      <td>NaN</td>\n",
              "      <td>NaN</td>\n",
              "      <td>NaN</td>\n",
              "    </tr>\n",
              "    <tr>\n",
              "      <th>182</th>\n",
              "      <td>Norte</td>\n",
              "      <td>RO</td>\n",
              "      <td>NaN</td>\n",
              "      <td>11</td>\n",
              "      <td>NaN</td>\n",
              "      <td>NaN</td>\n",
              "      <td>NaN</td>\n",
              "      <td>2021-01-02</td>\n",
              "      <td>53</td>\n",
              "      <td>1777225.0</td>\n",
              "      <td>96433.0</td>\n",
              "      <td>434</td>\n",
              "      <td>1825</td>\n",
              "      <td>3</td>\n",
              "      <td>NaN</td>\n",
              "      <td>NaN</td>\n",
              "      <td>NaN</td>\n",
              "    </tr>\n",
              "    <tr>\n",
              "      <th>183</th>\n",
              "      <td>Norte</td>\n",
              "      <td>RO</td>\n",
              "      <td>NaN</td>\n",
              "      <td>11</td>\n",
              "      <td>NaN</td>\n",
              "      <td>NaN</td>\n",
              "      <td>NaN</td>\n",
              "      <td>2021-01-03</td>\n",
              "      <td>1</td>\n",
              "      <td>1777225.0</td>\n",
              "      <td>96906.0</td>\n",
              "      <td>473</td>\n",
              "      <td>1832</td>\n",
              "      <td>7</td>\n",
              "      <td>NaN</td>\n",
              "      <td>NaN</td>\n",
              "      <td>NaN</td>\n",
              "    </tr>\n",
              "    <tr>\n",
              "      <th>184</th>\n",
              "      <td>Norte</td>\n",
              "      <td>RO</td>\n",
              "      <td>NaN</td>\n",
              "      <td>11</td>\n",
              "      <td>NaN</td>\n",
              "      <td>NaN</td>\n",
              "      <td>NaN</td>\n",
              "      <td>2021-01-04</td>\n",
              "      <td>1</td>\n",
              "      <td>1777225.0</td>\n",
              "      <td>97197.0</td>\n",
              "      <td>291</td>\n",
              "      <td>1840</td>\n",
              "      <td>8</td>\n",
              "      <td>NaN</td>\n",
              "      <td>NaN</td>\n",
              "      <td>NaN</td>\n",
              "    </tr>\n",
              "    <tr>\n",
              "      <th>185</th>\n",
              "      <td>Norte</td>\n",
              "      <td>RO</td>\n",
              "      <td>NaN</td>\n",
              "      <td>11</td>\n",
              "      <td>NaN</td>\n",
              "      <td>NaN</td>\n",
              "      <td>NaN</td>\n",
              "      <td>2021-01-05</td>\n",
              "      <td>1</td>\n",
              "      <td>1777225.0</td>\n",
              "      <td>97854.0</td>\n",
              "      <td>657</td>\n",
              "      <td>1852</td>\n",
              "      <td>12</td>\n",
              "      <td>NaN</td>\n",
              "      <td>NaN</td>\n",
              "      <td>NaN</td>\n",
              "    </tr>\n",
              "    <tr>\n",
              "      <th>...</th>\n",
              "      <td>...</td>\n",
              "      <td>...</td>\n",
              "      <td>...</td>\n",
              "      <td>...</td>\n",
              "      <td>...</td>\n",
              "      <td>...</td>\n",
              "      <td>...</td>\n",
              "      <td>...</td>\n",
              "      <td>...</td>\n",
              "      <td>...</td>\n",
              "      <td>...</td>\n",
              "      <td>...</td>\n",
              "      <td>...</td>\n",
              "      <td>...</td>\n",
              "      <td>...</td>\n",
              "      <td>...</td>\n",
              "      <td>...</td>\n",
              "    </tr>\n",
              "    <tr>\n",
              "      <th>1033891</th>\n",
              "      <td>Centro-Oeste</td>\n",
              "      <td>DF</td>\n",
              "      <td>Brasília</td>\n",
              "      <td>53</td>\n",
              "      <td>530010.0</td>\n",
              "      <td>53001.0</td>\n",
              "      <td>DISTRITO FEDERAL</td>\n",
              "      <td>2021-12-27</td>\n",
              "      <td>52</td>\n",
              "      <td>3015268.0</td>\n",
              "      <td>519103.0</td>\n",
              "      <td>225</td>\n",
              "      <td>11100</td>\n",
              "      <td>5</td>\n",
              "      <td>NaN</td>\n",
              "      <td>NaN</td>\n",
              "      <td>1.0</td>\n",
              "    </tr>\n",
              "    <tr>\n",
              "      <th>1033892</th>\n",
              "      <td>Centro-Oeste</td>\n",
              "      <td>DF</td>\n",
              "      <td>Brasília</td>\n",
              "      <td>53</td>\n",
              "      <td>530010.0</td>\n",
              "      <td>53001.0</td>\n",
              "      <td>DISTRITO FEDERAL</td>\n",
              "      <td>2021-12-28</td>\n",
              "      <td>52</td>\n",
              "      <td>3015268.0</td>\n",
              "      <td>519196.0</td>\n",
              "      <td>93</td>\n",
              "      <td>11104</td>\n",
              "      <td>4</td>\n",
              "      <td>NaN</td>\n",
              "      <td>NaN</td>\n",
              "      <td>1.0</td>\n",
              "    </tr>\n",
              "    <tr>\n",
              "      <th>1033893</th>\n",
              "      <td>Centro-Oeste</td>\n",
              "      <td>DF</td>\n",
              "      <td>Brasília</td>\n",
              "      <td>53</td>\n",
              "      <td>530010.0</td>\n",
              "      <td>53001.0</td>\n",
              "      <td>DISTRITO FEDERAL</td>\n",
              "      <td>2021-12-29</td>\n",
              "      <td>52</td>\n",
              "      <td>3015268.0</td>\n",
              "      <td>519346.0</td>\n",
              "      <td>150</td>\n",
              "      <td>11105</td>\n",
              "      <td>1</td>\n",
              "      <td>NaN</td>\n",
              "      <td>NaN</td>\n",
              "      <td>1.0</td>\n",
              "    </tr>\n",
              "    <tr>\n",
              "      <th>1033894</th>\n",
              "      <td>Centro-Oeste</td>\n",
              "      <td>DF</td>\n",
              "      <td>Brasília</td>\n",
              "      <td>53</td>\n",
              "      <td>530010.0</td>\n",
              "      <td>53001.0</td>\n",
              "      <td>DISTRITO FEDERAL</td>\n",
              "      <td>2021-12-30</td>\n",
              "      <td>52</td>\n",
              "      <td>3015268.0</td>\n",
              "      <td>519546.0</td>\n",
              "      <td>200</td>\n",
              "      <td>11107</td>\n",
              "      <td>2</td>\n",
              "      <td>NaN</td>\n",
              "      <td>NaN</td>\n",
              "      <td>1.0</td>\n",
              "    </tr>\n",
              "    <tr>\n",
              "      <th>1033895</th>\n",
              "      <td>Centro-Oeste</td>\n",
              "      <td>DF</td>\n",
              "      <td>Brasília</td>\n",
              "      <td>53</td>\n",
              "      <td>530010.0</td>\n",
              "      <td>53001.0</td>\n",
              "      <td>DISTRITO FEDERAL</td>\n",
              "      <td>2021-12-31</td>\n",
              "      <td>52</td>\n",
              "      <td>3015268.0</td>\n",
              "      <td>519811.0</td>\n",
              "      <td>265</td>\n",
              "      <td>11108</td>\n",
              "      <td>1</td>\n",
              "      <td>NaN</td>\n",
              "      <td>NaN</td>\n",
              "      <td>1.0</td>\n",
              "    </tr>\n",
              "  </tbody>\n",
              "</table>\n",
              "<p>2050570 rows × 17 columns</p>\n",
              "</div>\n",
              "      <button class=\"colab-df-convert\" onclick=\"convertToInteractive('df-7c98a976-6202-4632-ba55-91bfa63e6bcf')\"\n",
              "              title=\"Convert this dataframe to an interactive table.\"\n",
              "              style=\"display:none;\">\n",
              "        \n",
              "  <svg xmlns=\"http://www.w3.org/2000/svg\" height=\"24px\"viewBox=\"0 0 24 24\"\n",
              "       width=\"24px\">\n",
              "    <path d=\"M0 0h24v24H0V0z\" fill=\"none\"/>\n",
              "    <path d=\"M18.56 5.44l.94 2.06.94-2.06 2.06-.94-2.06-.94-.94-2.06-.94 2.06-2.06.94zm-11 1L8.5 8.5l.94-2.06 2.06-.94-2.06-.94L8.5 2.5l-.94 2.06-2.06.94zm10 10l.94 2.06.94-2.06 2.06-.94-2.06-.94-.94-2.06-.94 2.06-2.06.94z\"/><path d=\"M17.41 7.96l-1.37-1.37c-.4-.4-.92-.59-1.43-.59-.52 0-1.04.2-1.43.59L10.3 9.45l-7.72 7.72c-.78.78-.78 2.05 0 2.83L4 21.41c.39.39.9.59 1.41.59.51 0 1.02-.2 1.41-.59l7.78-7.78 2.81-2.81c.8-.78.8-2.07 0-2.86zM5.41 20L4 18.59l7.72-7.72 1.47 1.35L5.41 20z\"/>\n",
              "  </svg>\n",
              "      </button>\n",
              "      \n",
              "  <style>\n",
              "    .colab-df-container {\n",
              "      display:flex;\n",
              "      flex-wrap:wrap;\n",
              "      gap: 12px;\n",
              "    }\n",
              "\n",
              "    .colab-df-convert {\n",
              "      background-color: #E8F0FE;\n",
              "      border: none;\n",
              "      border-radius: 50%;\n",
              "      cursor: pointer;\n",
              "      display: none;\n",
              "      fill: #1967D2;\n",
              "      height: 32px;\n",
              "      padding: 0 0 0 0;\n",
              "      width: 32px;\n",
              "    }\n",
              "\n",
              "    .colab-df-convert:hover {\n",
              "      background-color: #E2EBFA;\n",
              "      box-shadow: 0px 1px 2px rgba(60, 64, 67, 0.3), 0px 1px 3px 1px rgba(60, 64, 67, 0.15);\n",
              "      fill: #174EA6;\n",
              "    }\n",
              "\n",
              "    [theme=dark] .colab-df-convert {\n",
              "      background-color: #3B4455;\n",
              "      fill: #D2E3FC;\n",
              "    }\n",
              "\n",
              "    [theme=dark] .colab-df-convert:hover {\n",
              "      background-color: #434B5C;\n",
              "      box-shadow: 0px 1px 3px 1px rgba(0, 0, 0, 0.15);\n",
              "      filter: drop-shadow(0px 1px 2px rgba(0, 0, 0, 0.3));\n",
              "      fill: #FFFFFF;\n",
              "    }\n",
              "  </style>\n",
              "\n",
              "      <script>\n",
              "        const buttonEl =\n",
              "          document.querySelector('#df-7c98a976-6202-4632-ba55-91bfa63e6bcf button.colab-df-convert');\n",
              "        buttonEl.style.display =\n",
              "          google.colab.kernel.accessAllowed ? 'block' : 'none';\n",
              "\n",
              "        async function convertToInteractive(key) {\n",
              "          const element = document.querySelector('#df-7c98a976-6202-4632-ba55-91bfa63e6bcf');\n",
              "          const dataTable =\n",
              "            await google.colab.kernel.invokeFunction('convertToInteractive',\n",
              "                                                     [key], {});\n",
              "          if (!dataTable) return;\n",
              "\n",
              "          const docLinkHtml = 'Like what you see? Visit the ' +\n",
              "            '<a target=\"_blank\" href=https://colab.research.google.com/notebooks/data_table.ipynb>data table notebook</a>'\n",
              "            + ' to learn more about interactive tables.';\n",
              "          element.innerHTML = '';\n",
              "          dataTable['output_type'] = 'display_data';\n",
              "          await google.colab.output.renderOutput(dataTable, element);\n",
              "          const docLink = document.createElement('div');\n",
              "          docLink.innerHTML = docLinkHtml;\n",
              "          element.appendChild(docLink);\n",
              "        }\n",
              "      </script>\n",
              "    </div>\n",
              "  </div>\n",
              "  "
            ]
          },
          "metadata": {},
          "execution_count": 104
        }
      ],
      "source": [
        "RegioesBrasil2021"
      ]
    },
    {
      "cell_type": "markdown",
      "metadata": {
        "id": "IkiyVkjaR4le"
      },
      "source": [
        "# Regiões do Brasil em 2022"
      ]
    },
    {
      "cell_type": "code",
      "execution_count": 105,
      "metadata": {
        "colab": {
          "base_uri": "https://localhost:8080/",
          "height": 661
        },
        "id": "EU2Sg2GAH9yc",
        "outputId": "375082a4-49ff-4900-8850-323a04d9ef8a"
      },
      "outputs": [
        {
          "output_type": "execute_result",
          "data": {
            "text/plain": [
              "              regiao estado municipio  coduf    codmun  codRegiaoSaude  \\\n",
              "154            Norte     RO       NaN     11       NaN             NaN   \n",
              "155            Norte     RO       NaN     11       NaN             NaN   \n",
              "156            Norte     RO       NaN     11       NaN             NaN   \n",
              "157            Norte     RO       NaN     11       NaN             NaN   \n",
              "158            Norte     RO       NaN     11       NaN             NaN   \n",
              "...              ...    ...       ...    ...       ...             ...   \n",
              "865321  Centro-Oeste     DF  Brasília     53  530010.0         53001.0   \n",
              "865322  Centro-Oeste     DF  Brasília     53  530010.0         53001.0   \n",
              "865323  Centro-Oeste     DF  Brasília     53  530010.0         53001.0   \n",
              "865324  Centro-Oeste     DF  Brasília     53  530010.0         53001.0   \n",
              "865325  Centro-Oeste     DF  Brasília     53  530010.0         53001.0   \n",
              "\n",
              "         nomeRegiaoSaude        data  semanaEpi  populacaoTCU2019  \\\n",
              "154                  NaN  2022-01-01         52         1777225.0   \n",
              "155                  NaN  2022-01-02          1         1777225.0   \n",
              "156                  NaN  2022-01-03          1         1777225.0   \n",
              "157                  NaN  2022-01-04          1         1777225.0   \n",
              "158                  NaN  2022-01-05          1         1777225.0   \n",
              "...                  ...         ...        ...               ...   \n",
              "865321  DISTRITO FEDERAL  2022-05-30         22         3015268.0   \n",
              "865322  DISTRITO FEDERAL  2022-05-31         22         3015268.0   \n",
              "865323  DISTRITO FEDERAL  2022-06-01         22         3015268.0   \n",
              "865324  DISTRITO FEDERAL  2022-06-02         22         3015268.0   \n",
              "865325  DISTRITO FEDERAL  2022-06-03         22         3015268.0   \n",
              "\n",
              "        casosAcumulado  casosNovos  obitosAcumulado  obitosNovos  \\\n",
              "154           284660.0          34             6737            3   \n",
              "155           284692.0          32             6739            2   \n",
              "156           284783.0          91             6742            3   \n",
              "157           285037.0         254             6745            3   \n",
              "158           285269.0         232             6748            3   \n",
              "...                ...         ...              ...          ...   \n",
              "865321        708552.0        2604            11691            1   \n",
              "865322        710694.0        2142            11691            0   \n",
              "865323        712968.0        2274            11692            1   \n",
              "865324        715938.0        2970            11692            0   \n",
              "865325        718242.0        2304            11692            0   \n",
              "\n",
              "        Recuperadosnovos  emAcompanhamentoNovos  interior/metropolitana  \n",
              "154                  NaN                    NaN                     NaN  \n",
              "155                  NaN                    NaN                     NaN  \n",
              "156                  NaN                    NaN                     NaN  \n",
              "157                  NaN                    NaN                     NaN  \n",
              "158                  NaN                    NaN                     NaN  \n",
              "...                  ...                    ...                     ...  \n",
              "865321               NaN                    NaN                     1.0  \n",
              "865322               NaN                    NaN                     1.0  \n",
              "865323               NaN                    NaN                     1.0  \n",
              "865324               NaN                    NaN                     1.0  \n",
              "865325               NaN                    NaN                     1.0  \n",
              "\n",
              "[865172 rows x 17 columns]"
            ],
            "text/html": [
              "\n",
              "  <div id=\"df-43ffb8b1-5648-46fd-84e0-d439e0b75036\">\n",
              "    <div class=\"colab-df-container\">\n",
              "      <div>\n",
              "<style scoped>\n",
              "    .dataframe tbody tr th:only-of-type {\n",
              "        vertical-align: middle;\n",
              "    }\n",
              "\n",
              "    .dataframe tbody tr th {\n",
              "        vertical-align: top;\n",
              "    }\n",
              "\n",
              "    .dataframe thead th {\n",
              "        text-align: right;\n",
              "    }\n",
              "</style>\n",
              "<table border=\"1\" class=\"dataframe\">\n",
              "  <thead>\n",
              "    <tr style=\"text-align: right;\">\n",
              "      <th></th>\n",
              "      <th>regiao</th>\n",
              "      <th>estado</th>\n",
              "      <th>municipio</th>\n",
              "      <th>coduf</th>\n",
              "      <th>codmun</th>\n",
              "      <th>codRegiaoSaude</th>\n",
              "      <th>nomeRegiaoSaude</th>\n",
              "      <th>data</th>\n",
              "      <th>semanaEpi</th>\n",
              "      <th>populacaoTCU2019</th>\n",
              "      <th>casosAcumulado</th>\n",
              "      <th>casosNovos</th>\n",
              "      <th>obitosAcumulado</th>\n",
              "      <th>obitosNovos</th>\n",
              "      <th>Recuperadosnovos</th>\n",
              "      <th>emAcompanhamentoNovos</th>\n",
              "      <th>interior/metropolitana</th>\n",
              "    </tr>\n",
              "  </thead>\n",
              "  <tbody>\n",
              "    <tr>\n",
              "      <th>154</th>\n",
              "      <td>Norte</td>\n",
              "      <td>RO</td>\n",
              "      <td>NaN</td>\n",
              "      <td>11</td>\n",
              "      <td>NaN</td>\n",
              "      <td>NaN</td>\n",
              "      <td>NaN</td>\n",
              "      <td>2022-01-01</td>\n",
              "      <td>52</td>\n",
              "      <td>1777225.0</td>\n",
              "      <td>284660.0</td>\n",
              "      <td>34</td>\n",
              "      <td>6737</td>\n",
              "      <td>3</td>\n",
              "      <td>NaN</td>\n",
              "      <td>NaN</td>\n",
              "      <td>NaN</td>\n",
              "    </tr>\n",
              "    <tr>\n",
              "      <th>155</th>\n",
              "      <td>Norte</td>\n",
              "      <td>RO</td>\n",
              "      <td>NaN</td>\n",
              "      <td>11</td>\n",
              "      <td>NaN</td>\n",
              "      <td>NaN</td>\n",
              "      <td>NaN</td>\n",
              "      <td>2022-01-02</td>\n",
              "      <td>1</td>\n",
              "      <td>1777225.0</td>\n",
              "      <td>284692.0</td>\n",
              "      <td>32</td>\n",
              "      <td>6739</td>\n",
              "      <td>2</td>\n",
              "      <td>NaN</td>\n",
              "      <td>NaN</td>\n",
              "      <td>NaN</td>\n",
              "    </tr>\n",
              "    <tr>\n",
              "      <th>156</th>\n",
              "      <td>Norte</td>\n",
              "      <td>RO</td>\n",
              "      <td>NaN</td>\n",
              "      <td>11</td>\n",
              "      <td>NaN</td>\n",
              "      <td>NaN</td>\n",
              "      <td>NaN</td>\n",
              "      <td>2022-01-03</td>\n",
              "      <td>1</td>\n",
              "      <td>1777225.0</td>\n",
              "      <td>284783.0</td>\n",
              "      <td>91</td>\n",
              "      <td>6742</td>\n",
              "      <td>3</td>\n",
              "      <td>NaN</td>\n",
              "      <td>NaN</td>\n",
              "      <td>NaN</td>\n",
              "    </tr>\n",
              "    <tr>\n",
              "      <th>157</th>\n",
              "      <td>Norte</td>\n",
              "      <td>RO</td>\n",
              "      <td>NaN</td>\n",
              "      <td>11</td>\n",
              "      <td>NaN</td>\n",
              "      <td>NaN</td>\n",
              "      <td>NaN</td>\n",
              "      <td>2022-01-04</td>\n",
              "      <td>1</td>\n",
              "      <td>1777225.0</td>\n",
              "      <td>285037.0</td>\n",
              "      <td>254</td>\n",
              "      <td>6745</td>\n",
              "      <td>3</td>\n",
              "      <td>NaN</td>\n",
              "      <td>NaN</td>\n",
              "      <td>NaN</td>\n",
              "    </tr>\n",
              "    <tr>\n",
              "      <th>158</th>\n",
              "      <td>Norte</td>\n",
              "      <td>RO</td>\n",
              "      <td>NaN</td>\n",
              "      <td>11</td>\n",
              "      <td>NaN</td>\n",
              "      <td>NaN</td>\n",
              "      <td>NaN</td>\n",
              "      <td>2022-01-05</td>\n",
              "      <td>1</td>\n",
              "      <td>1777225.0</td>\n",
              "      <td>285269.0</td>\n",
              "      <td>232</td>\n",
              "      <td>6748</td>\n",
              "      <td>3</td>\n",
              "      <td>NaN</td>\n",
              "      <td>NaN</td>\n",
              "      <td>NaN</td>\n",
              "    </tr>\n",
              "    <tr>\n",
              "      <th>...</th>\n",
              "      <td>...</td>\n",
              "      <td>...</td>\n",
              "      <td>...</td>\n",
              "      <td>...</td>\n",
              "      <td>...</td>\n",
              "      <td>...</td>\n",
              "      <td>...</td>\n",
              "      <td>...</td>\n",
              "      <td>...</td>\n",
              "      <td>...</td>\n",
              "      <td>...</td>\n",
              "      <td>...</td>\n",
              "      <td>...</td>\n",
              "      <td>...</td>\n",
              "      <td>...</td>\n",
              "      <td>...</td>\n",
              "      <td>...</td>\n",
              "    </tr>\n",
              "    <tr>\n",
              "      <th>865321</th>\n",
              "      <td>Centro-Oeste</td>\n",
              "      <td>DF</td>\n",
              "      <td>Brasília</td>\n",
              "      <td>53</td>\n",
              "      <td>530010.0</td>\n",
              "      <td>53001.0</td>\n",
              "      <td>DISTRITO FEDERAL</td>\n",
              "      <td>2022-05-30</td>\n",
              "      <td>22</td>\n",
              "      <td>3015268.0</td>\n",
              "      <td>708552.0</td>\n",
              "      <td>2604</td>\n",
              "      <td>11691</td>\n",
              "      <td>1</td>\n",
              "      <td>NaN</td>\n",
              "      <td>NaN</td>\n",
              "      <td>1.0</td>\n",
              "    </tr>\n",
              "    <tr>\n",
              "      <th>865322</th>\n",
              "      <td>Centro-Oeste</td>\n",
              "      <td>DF</td>\n",
              "      <td>Brasília</td>\n",
              "      <td>53</td>\n",
              "      <td>530010.0</td>\n",
              "      <td>53001.0</td>\n",
              "      <td>DISTRITO FEDERAL</td>\n",
              "      <td>2022-05-31</td>\n",
              "      <td>22</td>\n",
              "      <td>3015268.0</td>\n",
              "      <td>710694.0</td>\n",
              "      <td>2142</td>\n",
              "      <td>11691</td>\n",
              "      <td>0</td>\n",
              "      <td>NaN</td>\n",
              "      <td>NaN</td>\n",
              "      <td>1.0</td>\n",
              "    </tr>\n",
              "    <tr>\n",
              "      <th>865323</th>\n",
              "      <td>Centro-Oeste</td>\n",
              "      <td>DF</td>\n",
              "      <td>Brasília</td>\n",
              "      <td>53</td>\n",
              "      <td>530010.0</td>\n",
              "      <td>53001.0</td>\n",
              "      <td>DISTRITO FEDERAL</td>\n",
              "      <td>2022-06-01</td>\n",
              "      <td>22</td>\n",
              "      <td>3015268.0</td>\n",
              "      <td>712968.0</td>\n",
              "      <td>2274</td>\n",
              "      <td>11692</td>\n",
              "      <td>1</td>\n",
              "      <td>NaN</td>\n",
              "      <td>NaN</td>\n",
              "      <td>1.0</td>\n",
              "    </tr>\n",
              "    <tr>\n",
              "      <th>865324</th>\n",
              "      <td>Centro-Oeste</td>\n",
              "      <td>DF</td>\n",
              "      <td>Brasília</td>\n",
              "      <td>53</td>\n",
              "      <td>530010.0</td>\n",
              "      <td>53001.0</td>\n",
              "      <td>DISTRITO FEDERAL</td>\n",
              "      <td>2022-06-02</td>\n",
              "      <td>22</td>\n",
              "      <td>3015268.0</td>\n",
              "      <td>715938.0</td>\n",
              "      <td>2970</td>\n",
              "      <td>11692</td>\n",
              "      <td>0</td>\n",
              "      <td>NaN</td>\n",
              "      <td>NaN</td>\n",
              "      <td>1.0</td>\n",
              "    </tr>\n",
              "    <tr>\n",
              "      <th>865325</th>\n",
              "      <td>Centro-Oeste</td>\n",
              "      <td>DF</td>\n",
              "      <td>Brasília</td>\n",
              "      <td>53</td>\n",
              "      <td>530010.0</td>\n",
              "      <td>53001.0</td>\n",
              "      <td>DISTRITO FEDERAL</td>\n",
              "      <td>2022-06-03</td>\n",
              "      <td>22</td>\n",
              "      <td>3015268.0</td>\n",
              "      <td>718242.0</td>\n",
              "      <td>2304</td>\n",
              "      <td>11692</td>\n",
              "      <td>0</td>\n",
              "      <td>NaN</td>\n",
              "      <td>NaN</td>\n",
              "      <td>1.0</td>\n",
              "    </tr>\n",
              "  </tbody>\n",
              "</table>\n",
              "<p>865172 rows × 17 columns</p>\n",
              "</div>\n",
              "      <button class=\"colab-df-convert\" onclick=\"convertToInteractive('df-43ffb8b1-5648-46fd-84e0-d439e0b75036')\"\n",
              "              title=\"Convert this dataframe to an interactive table.\"\n",
              "              style=\"display:none;\">\n",
              "        \n",
              "  <svg xmlns=\"http://www.w3.org/2000/svg\" height=\"24px\"viewBox=\"0 0 24 24\"\n",
              "       width=\"24px\">\n",
              "    <path d=\"M0 0h24v24H0V0z\" fill=\"none\"/>\n",
              "    <path d=\"M18.56 5.44l.94 2.06.94-2.06 2.06-.94-2.06-.94-.94-2.06-.94 2.06-2.06.94zm-11 1L8.5 8.5l.94-2.06 2.06-.94-2.06-.94L8.5 2.5l-.94 2.06-2.06.94zm10 10l.94 2.06.94-2.06 2.06-.94-2.06-.94-.94-2.06-.94 2.06-2.06.94z\"/><path d=\"M17.41 7.96l-1.37-1.37c-.4-.4-.92-.59-1.43-.59-.52 0-1.04.2-1.43.59L10.3 9.45l-7.72 7.72c-.78.78-.78 2.05 0 2.83L4 21.41c.39.39.9.59 1.41.59.51 0 1.02-.2 1.41-.59l7.78-7.78 2.81-2.81c.8-.78.8-2.07 0-2.86zM5.41 20L4 18.59l7.72-7.72 1.47 1.35L5.41 20z\"/>\n",
              "  </svg>\n",
              "      </button>\n",
              "      \n",
              "  <style>\n",
              "    .colab-df-container {\n",
              "      display:flex;\n",
              "      flex-wrap:wrap;\n",
              "      gap: 12px;\n",
              "    }\n",
              "\n",
              "    .colab-df-convert {\n",
              "      background-color: #E8F0FE;\n",
              "      border: none;\n",
              "      border-radius: 50%;\n",
              "      cursor: pointer;\n",
              "      display: none;\n",
              "      fill: #1967D2;\n",
              "      height: 32px;\n",
              "      padding: 0 0 0 0;\n",
              "      width: 32px;\n",
              "    }\n",
              "\n",
              "    .colab-df-convert:hover {\n",
              "      background-color: #E2EBFA;\n",
              "      box-shadow: 0px 1px 2px rgba(60, 64, 67, 0.3), 0px 1px 3px 1px rgba(60, 64, 67, 0.15);\n",
              "      fill: #174EA6;\n",
              "    }\n",
              "\n",
              "    [theme=dark] .colab-df-convert {\n",
              "      background-color: #3B4455;\n",
              "      fill: #D2E3FC;\n",
              "    }\n",
              "\n",
              "    [theme=dark] .colab-df-convert:hover {\n",
              "      background-color: #434B5C;\n",
              "      box-shadow: 0px 1px 3px 1px rgba(0, 0, 0, 0.15);\n",
              "      filter: drop-shadow(0px 1px 2px rgba(0, 0, 0, 0.3));\n",
              "      fill: #FFFFFF;\n",
              "    }\n",
              "  </style>\n",
              "\n",
              "      <script>\n",
              "        const buttonEl =\n",
              "          document.querySelector('#df-43ffb8b1-5648-46fd-84e0-d439e0b75036 button.colab-df-convert');\n",
              "        buttonEl.style.display =\n",
              "          google.colab.kernel.accessAllowed ? 'block' : 'none';\n",
              "\n",
              "        async function convertToInteractive(key) {\n",
              "          const element = document.querySelector('#df-43ffb8b1-5648-46fd-84e0-d439e0b75036');\n",
              "          const dataTable =\n",
              "            await google.colab.kernel.invokeFunction('convertToInteractive',\n",
              "                                                     [key], {});\n",
              "          if (!dataTable) return;\n",
              "\n",
              "          const docLinkHtml = 'Like what you see? Visit the ' +\n",
              "            '<a target=\"_blank\" href=https://colab.research.google.com/notebooks/data_table.ipynb>data table notebook</a>'\n",
              "            + ' to learn more about interactive tables.';\n",
              "          element.innerHTML = '';\n",
              "          dataTable['output_type'] = 'display_data';\n",
              "          await google.colab.output.renderOutput(dataTable, element);\n",
              "          const docLink = document.createElement('div');\n",
              "          docLink.innerHTML = docLinkHtml;\n",
              "          element.appendChild(docLink);\n",
              "        }\n",
              "      </script>\n",
              "    </div>\n",
              "  </div>\n",
              "  "
            ]
          },
          "metadata": {},
          "execution_count": 105
        }
      ],
      "source": [
        "RegioesBrasil2022"
      ]
    },
    {
      "cell_type": "markdown",
      "metadata": {
        "id": "aRTa-mdhH9yc"
      },
      "source": [
        "## Contagem dos pacientes recuperados da COVID-19"
      ]
    },
    {
      "cell_type": "code",
      "execution_count": 106,
      "metadata": {
        "colab": {
          "base_uri": "https://localhost:8080/"
        },
        "id": "gGt4T-P_H9yc",
        "outputId": "80785ffd-dbe5-4952-9780-043cf9df9af0"
      },
      "outputs": [
        {
          "output_type": "stream",
          "name": "stdout",
          "text": [
            "RecuperadosNovaos: 0 0 0\n",
            "emAcompanhamentoNovos: 0 0 0\n"
          ]
        }
      ],
      "source": [
        "#Verificando se existem algum valor não nulo na coluna recuperadosnovos dos dataframes de regiões\n",
        "value1 = RegioesBrasil2022['Recuperadosnovos'].count()\n",
        "value2 = RegioesBrasil2021['Recuperadosnovos'].count()\n",
        "value3 = RegioesBrasil2020['Recuperadosnovos'].count()\n",
        "print(\"RecuperadosNovaos:\",value1, value2, value3)\n",
        "\n",
        "value1 = RegioesBrasil2022['emAcompanhamentoNovos'].count()\n",
        "value2 = RegioesBrasil2021['emAcompanhamentoNovos'].count()\n",
        "value3 = RegioesBrasil2020['emAcompanhamentoNovos'].count()\n",
        "print(\"emAcompanhamentoNovos:\",value1, value2, value3)\n"
      ]
    },
    {
      "cell_type": "markdown",
      "metadata": {
        "id": "WN1aSjmkH9yd"
      },
      "source": [
        "Apagando as colunas nulas dos dataframes de regiões"
      ]
    },
    {
      "cell_type": "code",
      "execution_count": 107,
      "metadata": {
        "id": "RxhtfVIjH9yd"
      },
      "outputs": [],
      "source": [
        "#Colunas nulas deletadas\n",
        "for i in ['Recuperadosnovos','emAcompanhamentoNovos']:\n",
        "\n",
        "  RegioesBrasil2022 = RegioesBrasil2022.drop(columns=[i])\n",
        "  RegioesBrasil2021 = RegioesBrasil2021.drop(columns=[i])\n",
        "  RegioesBrasil2020 = RegioesBrasil2020.drop(columns=[i])\n"
      ]
    },
    {
      "cell_type": "code",
      "execution_count": 108,
      "metadata": {
        "colab": {
          "base_uri": "https://localhost:8080/",
          "height": 661
        },
        "id": "WYBbkrDMH9yd",
        "outputId": "8856a05f-2b12-4002-b94f-a9a613efeadc"
      },
      "outputs": [
        {
          "output_type": "execute_result",
          "data": {
            "text/plain": [
              "              regiao estado municipio  coduf    codmun  codRegiaoSaude  \\\n",
              "158            Norte     RO       NaN     11       NaN             NaN   \n",
              "159            Norte     RO       NaN     11       NaN             NaN   \n",
              "160            Norte     RO       NaN     11       NaN             NaN   \n",
              "161            Norte     RO       NaN     11       NaN             NaN   \n",
              "162            Norte     RO       NaN     11       NaN             NaN   \n",
              "...              ...    ...       ...    ...       ...             ...   \n",
              "859702  Centro-Oeste     DF  Brasília     53  530010.0         53001.0   \n",
              "859703  Centro-Oeste     DF  Brasília     53  530010.0         53001.0   \n",
              "859704  Centro-Oeste     DF  Brasília     53  530010.0         53001.0   \n",
              "859705  Centro-Oeste     DF  Brasília     53  530010.0         53001.0   \n",
              "859706  Centro-Oeste     DF  Brasília     53  530010.0         53001.0   \n",
              "\n",
              "         nomeRegiaoSaude        data  semanaEpi  populacaoTCU2019  \\\n",
              "158                  NaN  2020-02-25          9         1777225.0   \n",
              "159                  NaN  2020-02-26          9         1777225.0   \n",
              "160                  NaN  2020-02-27          9         1777225.0   \n",
              "161                  NaN  2020-02-28          9         1777225.0   \n",
              "162                  NaN  2020-02-29          9         1777225.0   \n",
              "...                  ...         ...        ...               ...   \n",
              "859702  DISTRITO FEDERAL  2020-12-27         53         3015268.0   \n",
              "859703  DISTRITO FEDERAL  2020-12-28         53         3015268.0   \n",
              "859704  DISTRITO FEDERAL  2020-12-29         53         3015268.0   \n",
              "859705  DISTRITO FEDERAL  2020-12-30         53         3015268.0   \n",
              "859706  DISTRITO FEDERAL  2020-12-31         53         3015268.0   \n",
              "\n",
              "        casosAcumulado  casosNovos  obitosAcumulado  obitosNovos  \\\n",
              "158                  0           0                0            0   \n",
              "159                  0           0                0            0   \n",
              "160                  0           0                0            0   \n",
              "161                  0           0                0            0   \n",
              "162                  0           0                0            0   \n",
              "...                ...         ...              ...          ...   \n",
              "859702          248543         615             4201            3   \n",
              "859703          249736        1193             4223           22   \n",
              "859704          250457         721             4241           18   \n",
              "859705          251135         678             4248            7   \n",
              "859706          251701         566             4259           11   \n",
              "\n",
              "        interior/metropolitana  \n",
              "158                        NaN  \n",
              "159                        NaN  \n",
              "160                        NaN  \n",
              "161                        NaN  \n",
              "162                        NaN  \n",
              "...                        ...  \n",
              "859702                     1.0  \n",
              "859703                     1.0  \n",
              "859704                     1.0  \n",
              "859705                     1.0  \n",
              "859706                     1.0  \n",
              "\n",
              "[1573877 rows x 15 columns]"
            ],
            "text/html": [
              "\n",
              "  <div id=\"df-2753807e-34d8-4087-8708-5bedf4d9b454\">\n",
              "    <div class=\"colab-df-container\">\n",
              "      <div>\n",
              "<style scoped>\n",
              "    .dataframe tbody tr th:only-of-type {\n",
              "        vertical-align: middle;\n",
              "    }\n",
              "\n",
              "    .dataframe tbody tr th {\n",
              "        vertical-align: top;\n",
              "    }\n",
              "\n",
              "    .dataframe thead th {\n",
              "        text-align: right;\n",
              "    }\n",
              "</style>\n",
              "<table border=\"1\" class=\"dataframe\">\n",
              "  <thead>\n",
              "    <tr style=\"text-align: right;\">\n",
              "      <th></th>\n",
              "      <th>regiao</th>\n",
              "      <th>estado</th>\n",
              "      <th>municipio</th>\n",
              "      <th>coduf</th>\n",
              "      <th>codmun</th>\n",
              "      <th>codRegiaoSaude</th>\n",
              "      <th>nomeRegiaoSaude</th>\n",
              "      <th>data</th>\n",
              "      <th>semanaEpi</th>\n",
              "      <th>populacaoTCU2019</th>\n",
              "      <th>casosAcumulado</th>\n",
              "      <th>casosNovos</th>\n",
              "      <th>obitosAcumulado</th>\n",
              "      <th>obitosNovos</th>\n",
              "      <th>interior/metropolitana</th>\n",
              "    </tr>\n",
              "  </thead>\n",
              "  <tbody>\n",
              "    <tr>\n",
              "      <th>158</th>\n",
              "      <td>Norte</td>\n",
              "      <td>RO</td>\n",
              "      <td>NaN</td>\n",
              "      <td>11</td>\n",
              "      <td>NaN</td>\n",
              "      <td>NaN</td>\n",
              "      <td>NaN</td>\n",
              "      <td>2020-02-25</td>\n",
              "      <td>9</td>\n",
              "      <td>1777225.0</td>\n",
              "      <td>0</td>\n",
              "      <td>0</td>\n",
              "      <td>0</td>\n",
              "      <td>0</td>\n",
              "      <td>NaN</td>\n",
              "    </tr>\n",
              "    <tr>\n",
              "      <th>159</th>\n",
              "      <td>Norte</td>\n",
              "      <td>RO</td>\n",
              "      <td>NaN</td>\n",
              "      <td>11</td>\n",
              "      <td>NaN</td>\n",
              "      <td>NaN</td>\n",
              "      <td>NaN</td>\n",
              "      <td>2020-02-26</td>\n",
              "      <td>9</td>\n",
              "      <td>1777225.0</td>\n",
              "      <td>0</td>\n",
              "      <td>0</td>\n",
              "      <td>0</td>\n",
              "      <td>0</td>\n",
              "      <td>NaN</td>\n",
              "    </tr>\n",
              "    <tr>\n",
              "      <th>160</th>\n",
              "      <td>Norte</td>\n",
              "      <td>RO</td>\n",
              "      <td>NaN</td>\n",
              "      <td>11</td>\n",
              "      <td>NaN</td>\n",
              "      <td>NaN</td>\n",
              "      <td>NaN</td>\n",
              "      <td>2020-02-27</td>\n",
              "      <td>9</td>\n",
              "      <td>1777225.0</td>\n",
              "      <td>0</td>\n",
              "      <td>0</td>\n",
              "      <td>0</td>\n",
              "      <td>0</td>\n",
              "      <td>NaN</td>\n",
              "    </tr>\n",
              "    <tr>\n",
              "      <th>161</th>\n",
              "      <td>Norte</td>\n",
              "      <td>RO</td>\n",
              "      <td>NaN</td>\n",
              "      <td>11</td>\n",
              "      <td>NaN</td>\n",
              "      <td>NaN</td>\n",
              "      <td>NaN</td>\n",
              "      <td>2020-02-28</td>\n",
              "      <td>9</td>\n",
              "      <td>1777225.0</td>\n",
              "      <td>0</td>\n",
              "      <td>0</td>\n",
              "      <td>0</td>\n",
              "      <td>0</td>\n",
              "      <td>NaN</td>\n",
              "    </tr>\n",
              "    <tr>\n",
              "      <th>162</th>\n",
              "      <td>Norte</td>\n",
              "      <td>RO</td>\n",
              "      <td>NaN</td>\n",
              "      <td>11</td>\n",
              "      <td>NaN</td>\n",
              "      <td>NaN</td>\n",
              "      <td>NaN</td>\n",
              "      <td>2020-02-29</td>\n",
              "      <td>9</td>\n",
              "      <td>1777225.0</td>\n",
              "      <td>0</td>\n",
              "      <td>0</td>\n",
              "      <td>0</td>\n",
              "      <td>0</td>\n",
              "      <td>NaN</td>\n",
              "    </tr>\n",
              "    <tr>\n",
              "      <th>...</th>\n",
              "      <td>...</td>\n",
              "      <td>...</td>\n",
              "      <td>...</td>\n",
              "      <td>...</td>\n",
              "      <td>...</td>\n",
              "      <td>...</td>\n",
              "      <td>...</td>\n",
              "      <td>...</td>\n",
              "      <td>...</td>\n",
              "      <td>...</td>\n",
              "      <td>...</td>\n",
              "      <td>...</td>\n",
              "      <td>...</td>\n",
              "      <td>...</td>\n",
              "      <td>...</td>\n",
              "    </tr>\n",
              "    <tr>\n",
              "      <th>859702</th>\n",
              "      <td>Centro-Oeste</td>\n",
              "      <td>DF</td>\n",
              "      <td>Brasília</td>\n",
              "      <td>53</td>\n",
              "      <td>530010.0</td>\n",
              "      <td>53001.0</td>\n",
              "      <td>DISTRITO FEDERAL</td>\n",
              "      <td>2020-12-27</td>\n",
              "      <td>53</td>\n",
              "      <td>3015268.0</td>\n",
              "      <td>248543</td>\n",
              "      <td>615</td>\n",
              "      <td>4201</td>\n",
              "      <td>3</td>\n",
              "      <td>1.0</td>\n",
              "    </tr>\n",
              "    <tr>\n",
              "      <th>859703</th>\n",
              "      <td>Centro-Oeste</td>\n",
              "      <td>DF</td>\n",
              "      <td>Brasília</td>\n",
              "      <td>53</td>\n",
              "      <td>530010.0</td>\n",
              "      <td>53001.0</td>\n",
              "      <td>DISTRITO FEDERAL</td>\n",
              "      <td>2020-12-28</td>\n",
              "      <td>53</td>\n",
              "      <td>3015268.0</td>\n",
              "      <td>249736</td>\n",
              "      <td>1193</td>\n",
              "      <td>4223</td>\n",
              "      <td>22</td>\n",
              "      <td>1.0</td>\n",
              "    </tr>\n",
              "    <tr>\n",
              "      <th>859704</th>\n",
              "      <td>Centro-Oeste</td>\n",
              "      <td>DF</td>\n",
              "      <td>Brasília</td>\n",
              "      <td>53</td>\n",
              "      <td>530010.0</td>\n",
              "      <td>53001.0</td>\n",
              "      <td>DISTRITO FEDERAL</td>\n",
              "      <td>2020-12-29</td>\n",
              "      <td>53</td>\n",
              "      <td>3015268.0</td>\n",
              "      <td>250457</td>\n",
              "      <td>721</td>\n",
              "      <td>4241</td>\n",
              "      <td>18</td>\n",
              "      <td>1.0</td>\n",
              "    </tr>\n",
              "    <tr>\n",
              "      <th>859705</th>\n",
              "      <td>Centro-Oeste</td>\n",
              "      <td>DF</td>\n",
              "      <td>Brasília</td>\n",
              "      <td>53</td>\n",
              "      <td>530010.0</td>\n",
              "      <td>53001.0</td>\n",
              "      <td>DISTRITO FEDERAL</td>\n",
              "      <td>2020-12-30</td>\n",
              "      <td>53</td>\n",
              "      <td>3015268.0</td>\n",
              "      <td>251135</td>\n",
              "      <td>678</td>\n",
              "      <td>4248</td>\n",
              "      <td>7</td>\n",
              "      <td>1.0</td>\n",
              "    </tr>\n",
              "    <tr>\n",
              "      <th>859706</th>\n",
              "      <td>Centro-Oeste</td>\n",
              "      <td>DF</td>\n",
              "      <td>Brasília</td>\n",
              "      <td>53</td>\n",
              "      <td>530010.0</td>\n",
              "      <td>53001.0</td>\n",
              "      <td>DISTRITO FEDERAL</td>\n",
              "      <td>2020-12-31</td>\n",
              "      <td>53</td>\n",
              "      <td>3015268.0</td>\n",
              "      <td>251701</td>\n",
              "      <td>566</td>\n",
              "      <td>4259</td>\n",
              "      <td>11</td>\n",
              "      <td>1.0</td>\n",
              "    </tr>\n",
              "  </tbody>\n",
              "</table>\n",
              "<p>1573877 rows × 15 columns</p>\n",
              "</div>\n",
              "      <button class=\"colab-df-convert\" onclick=\"convertToInteractive('df-2753807e-34d8-4087-8708-5bedf4d9b454')\"\n",
              "              title=\"Convert this dataframe to an interactive table.\"\n",
              "              style=\"display:none;\">\n",
              "        \n",
              "  <svg xmlns=\"http://www.w3.org/2000/svg\" height=\"24px\"viewBox=\"0 0 24 24\"\n",
              "       width=\"24px\">\n",
              "    <path d=\"M0 0h24v24H0V0z\" fill=\"none\"/>\n",
              "    <path d=\"M18.56 5.44l.94 2.06.94-2.06 2.06-.94-2.06-.94-.94-2.06-.94 2.06-2.06.94zm-11 1L8.5 8.5l.94-2.06 2.06-.94-2.06-.94L8.5 2.5l-.94 2.06-2.06.94zm10 10l.94 2.06.94-2.06 2.06-.94-2.06-.94-.94-2.06-.94 2.06-2.06.94z\"/><path d=\"M17.41 7.96l-1.37-1.37c-.4-.4-.92-.59-1.43-.59-.52 0-1.04.2-1.43.59L10.3 9.45l-7.72 7.72c-.78.78-.78 2.05 0 2.83L4 21.41c.39.39.9.59 1.41.59.51 0 1.02-.2 1.41-.59l7.78-7.78 2.81-2.81c.8-.78.8-2.07 0-2.86zM5.41 20L4 18.59l7.72-7.72 1.47 1.35L5.41 20z\"/>\n",
              "  </svg>\n",
              "      </button>\n",
              "      \n",
              "  <style>\n",
              "    .colab-df-container {\n",
              "      display:flex;\n",
              "      flex-wrap:wrap;\n",
              "      gap: 12px;\n",
              "    }\n",
              "\n",
              "    .colab-df-convert {\n",
              "      background-color: #E8F0FE;\n",
              "      border: none;\n",
              "      border-radius: 50%;\n",
              "      cursor: pointer;\n",
              "      display: none;\n",
              "      fill: #1967D2;\n",
              "      height: 32px;\n",
              "      padding: 0 0 0 0;\n",
              "      width: 32px;\n",
              "    }\n",
              "\n",
              "    .colab-df-convert:hover {\n",
              "      background-color: #E2EBFA;\n",
              "      box-shadow: 0px 1px 2px rgba(60, 64, 67, 0.3), 0px 1px 3px 1px rgba(60, 64, 67, 0.15);\n",
              "      fill: #174EA6;\n",
              "    }\n",
              "\n",
              "    [theme=dark] .colab-df-convert {\n",
              "      background-color: #3B4455;\n",
              "      fill: #D2E3FC;\n",
              "    }\n",
              "\n",
              "    [theme=dark] .colab-df-convert:hover {\n",
              "      background-color: #434B5C;\n",
              "      box-shadow: 0px 1px 3px 1px rgba(0, 0, 0, 0.15);\n",
              "      filter: drop-shadow(0px 1px 2px rgba(0, 0, 0, 0.3));\n",
              "      fill: #FFFFFF;\n",
              "    }\n",
              "  </style>\n",
              "\n",
              "      <script>\n",
              "        const buttonEl =\n",
              "          document.querySelector('#df-2753807e-34d8-4087-8708-5bedf4d9b454 button.colab-df-convert');\n",
              "        buttonEl.style.display =\n",
              "          google.colab.kernel.accessAllowed ? 'block' : 'none';\n",
              "\n",
              "        async function convertToInteractive(key) {\n",
              "          const element = document.querySelector('#df-2753807e-34d8-4087-8708-5bedf4d9b454');\n",
              "          const dataTable =\n",
              "            await google.colab.kernel.invokeFunction('convertToInteractive',\n",
              "                                                     [key], {});\n",
              "          if (!dataTable) return;\n",
              "\n",
              "          const docLinkHtml = 'Like what you see? Visit the ' +\n",
              "            '<a target=\"_blank\" href=https://colab.research.google.com/notebooks/data_table.ipynb>data table notebook</a>'\n",
              "            + ' to learn more about interactive tables.';\n",
              "          element.innerHTML = '';\n",
              "          dataTable['output_type'] = 'display_data';\n",
              "          await google.colab.output.renderOutput(dataTable, element);\n",
              "          const docLink = document.createElement('div');\n",
              "          docLink.innerHTML = docLinkHtml;\n",
              "          element.appendChild(docLink);\n",
              "        }\n",
              "      </script>\n",
              "    </div>\n",
              "  </div>\n",
              "  "
            ]
          },
          "metadata": {},
          "execution_count": 108
        }
      ],
      "source": [
        "RegioesBrasil2020"
      ]
    },
    {
      "cell_type": "markdown",
      "metadata": {
        "id": "AtT3Qvu04o6O"
      },
      "source": [
        "# Concatenação dos bancos de dados dos anos 2020,2021,2022 para a visualização mais abrangente acerca dos casos novos no decorrer dos anos"
      ]
    },
    {
      "cell_type": "code",
      "execution_count": 109,
      "metadata": {
        "id": "ZIBQuMxS0FFF"
      },
      "outputs": [],
      "source": [
        "# Variáveis a serem usadas\n",
        "# DadosBrasil2020 -> 21, 22\n",
        "# RegioesBrasil2020 -> 21, 22\n",
        "\n",
        "RegioesBrasilFull = pd.concat([RegioesBrasil2020,RegioesBrasil2021,RegioesBrasil2022])"
      ]
    },
    {
      "cell_type": "code",
      "execution_count": 110,
      "metadata": {
        "colab": {
          "base_uri": "https://localhost:8080/"
        },
        "id": "DiveRM9616Gk",
        "outputId": "1dc40830-3104-41c4-a1a9-dea81a4f26fa"
      },
      "outputs": [
        {
          "output_type": "execute_result",
          "data": {
            "text/plain": [
              "array(['Norte', 'Nordeste', 'Sudeste', 'Sul', 'Centro-Oeste'],\n",
              "      dtype=object)"
            ]
          },
          "metadata": {},
          "execution_count": 110
        }
      ],
      "source": [
        "RegioesBrasilFull['regiao'].unique()"
      ]
    },
    {
      "cell_type": "code",
      "execution_count": 111,
      "metadata": {
        "id": "VrfZ0VBr1XPh"
      },
      "outputs": [],
      "source": [
        "# Definição de algumas cores para graficos\n",
        "regioes_colors = {\n",
        "    'Norte': '#FAA916',\n",
        "    'Nordeste': '#0FA3B1',\n",
        "    'Sudeste': '#BB4430',\n",
        "    'Sul': '#FFCBDB',\n",
        "    'Centro-Oeste': '#7D5B8C'\n",
        "}"
      ]
    },
    {
      "cell_type": "markdown",
      "metadata": {
        "id": "8vQCk_mP66vI"
      },
      "source": [
        "#Gráfico que mostra o número de casos novos no decorrer dos anos"
      ]
    },
    {
      "cell_type": "code",
      "execution_count": 112,
      "metadata": {
        "colab": {
          "base_uri": "https://localhost:8080/",
          "height": 279
        },
        "id": "dM5HV70u3ehN",
        "outputId": "8668423b-a236-4f55-8466-3d17e05530ea"
      },
      "outputs": [
        {
          "output_type": "display_data",
          "data": {
            "text/plain": [
              "<Figure size 432x288 with 1 Axes>"
            ],
            "image/png": "[encoded data removed]"
          },
          "metadata": {
            "needs_background": "light"
          }
        }
      ],
      "source": [
        "group_date = RegioesBrasilFull.groupby(\"data\")\n",
        "group_date.sum()['casosNovos'].plot(c='#EF2D56')\n",
        "plt.ylabel('Quantidade de casos novos')\n",
        "plt.xlabel('Data')\n",
        "plt.show()"
      ]
    },
    {
      "cell_type": "markdown",
      "metadata": {
        "id": "A0RG8rHP8okG"
      },
      "source": [
        "# Visualizando a população dos estados para tentar ver alguma correlação"
      ]
    },
    {
      "cell_type": "code",
      "execution_count": 113,
      "metadata": {
        "colab": {
          "base_uri": "https://localhost:8080/",
          "height": 297
        },
        "id": "imBYR9vO5FfF",
        "outputId": "37dfdf52-05b2-4f94-a339-2f6680f1485c"
      },
      "outputs": [
        {
          "output_type": "display_data",
          "data": {
            "text/plain": [
              "<Figure size 432x288 with 1 Axes>"
            ],
            "image/png": "[encoded data removed]"
          },
          "metadata": {
            "needs_background": "light"
          }
        }
      ],
      "source": [
        "GroupState = RegioesBrasilFull.groupby('estado')\n",
        "GroupState.sum()['populacaoTCU2019'].plot(kind='bar', color='#EF2D56')\n",
        "plt.xlabel('Estado')\n",
        "plt.ylabel('População')\n",
        "plt.show()"
      ]
    },
    {
      "cell_type": "markdown",
      "metadata": {
        "id": "U5TyXJ6F9v3n"
      },
      "source": [
        "# Criando uma nova coluna para mostrar a proporção entre o número de casos novos e o tamanho da população para cada estado"
      ]
    },
    {
      "cell_type": "code",
      "execution_count": 114,
      "metadata": {
        "id": "6nbIBOfs7MUe"
      },
      "outputs": [],
      "source": [
        "df = RegioesBrasilFull\n",
        "df['Prop'] = df['casosNovos'] / df['populacaoTCU2019']"
      ]
    },
    {
      "cell_type": "markdown",
      "metadata": {
        "id": "T61OThqB90Vo"
      },
      "source": [
        "# Gráfico que mostra a relação entre o número de casos novos e a população do estado"
      ]
    },
    {
      "cell_type": "code",
      "execution_count": 115,
      "metadata": {
        "colab": {
          "base_uri": "https://localhost:8080/",
          "height": 295
        },
        "id": "dAHvX5BP9G0w",
        "outputId": "09973af8-2e88-451f-c3e7-130c4ed5fb70"
      },
      "outputs": [
        {
          "output_type": "display_data",
          "data": {
            "text/plain": [
              "<Figure size 432x288 with 1 Axes>"
            ],
            "image/png": "[encoded data removed]"
          },
          "metadata": {
            "needs_background": "light"
          }
        }
      ],
      "source": [
        "GroupState = df.groupby('estado')\n",
        "GroupState.sum()['Prop'].plot(kind='bar', color='#EF2D56')\n",
        "plt.xlabel('Estado')\n",
        "plt.ylabel('Proporção (Casos novos / População do estado)')\n",
        "plt.show()"
      ]
    },
    {
      "cell_type": "markdown",
      "metadata": {
        "id": "NEaJ_vuE-Q2X"
      },
      "source": [
        "### O gráfico acima revela como ocorre reíncidencia ou aparecimento de novos casos de covid19 em cada estado de acordo com sua população durante os anos de 2020,2021 e 2022"
      ]
    },
    {
      "cell_type": "markdown",
      "metadata": {
        "id": "ig8WR_unAHsZ"
      },
      "source": [
        "# Gráfico para visualização da relação feita anteriormente para cada ano separadamente"
      ]
    },
    {
      "cell_type": "code",
      "execution_count": 116,
      "metadata": {
        "colab": {
          "base_uri": "https://localhost:8080/",
          "height": 955
        },
        "id": "P-u76xTT_A6o",
        "outputId": "012d34b6-c81e-4cb9-dba6-8d8b6def31fc"
      },
      "outputs": [
        {
          "output_type": "display_data",
          "data": {
            "text/plain": [
              "<Figure size 432x288 with 1 Axes>"
            ],
            "image/png": "[encoded data removed]"
          },
          "metadata": {
            "needs_background": "light"
          }
        },
        {
          "output_type": "stream",
          "name": "stdout",
          "text": [
            " "
          ]
        },
        {
          "output_type": "display_data",
          "data": {
            "text/plain": [
              "<Figure size 432x288 with 1 Axes>"
            ],
            "image/png": "[encoded data removed]"
          },
          "metadata": {
            "needs_background": "light"
          }
        },
        {
          "output_type": "stream",
          "name": "stdout",
          "text": [
            " "
          ]
        },
        {
          "output_type": "display_data",
          "data": {
            "text/plain": [
              "<Figure size 432x288 with 1 Axes>"
            ],
            "image/png": "[encoded data removed]"
          },
          "metadata": {
            "needs_background": "light"
          }
        }
      ],
      "source": [
        "df1 = RegioesBrasil2020\n",
        "df2 = RegioesBrasil2021\n",
        "df3 = RegioesBrasil2022\n",
        "\n",
        "df1['Prop'] = df1['casosNovos'] / df1['populacaoTCU2019']\n",
        "df2['Prop'] = df2['casosNovos'] / df2['populacaoTCU2019']\n",
        "df3['Prop'] = df3['casosNovos'] / df3['populacaoTCU2019']\n",
        "\n",
        "\n",
        "GroupState1 = df1.groupby('estado')\n",
        "GroupState1.sum()['Prop'].plot(kind='bar', color='#EF2D56')\n",
        "plt.xlabel('Estado')\n",
        "plt.ylabel('Proporção (Casos novos / População do estado) em 2020')\n",
        "plt.yscale('log')\n",
        "plt.show()\n",
        "\n",
        "print(end=\" \")\n",
        "\n",
        "GroupState2 = df2.groupby('estado')\n",
        "GroupState2.sum()['Prop'].plot(kind='bar', color='#EF2D56')\n",
        "plt.xlabel('Estado')\n",
        "plt.ylabel('Proporção (Casos novos / População do estado) em 2021')\n",
        "plt.yscale('log')\n",
        "plt.show()\n",
        "\n",
        "print(end=\" \")\n",
        "\n",
        "\n",
        "GroupState3 = df3.groupby('estado')\n",
        "GroupState3.sum()['Prop'].plot(kind='bar', color='#EF2D56')\n",
        "plt.xlabel('Estado')\n",
        "plt.ylabel('Proporção (Casos novos / População do estado) em 2022')\n",
        "plt.yscale('log')\n",
        "plt.show()\n"
      ]
    },
    {
      "cell_type": "markdown",
      "metadata": {
        "id": "BTyY6NgMlULN"
      },
      "source": [
        "# Questionamentos levantados pelo grupo"
      ]
    },
    {
      "cell_type": "markdown",
      "metadata": {
        "id": "iL8Ctkjph4RK"
      },
      "source": [
        "# 1 - Qual a média de casos novos de Covid em cada região nos anos de 2020, 2021 e 2022 ?\n"
      ]
    },
    {
      "cell_type": "markdown",
      "metadata": {
        "id": "PKLOEh6Umr66"
      },
      "source": [
        "### Em 2020"
      ]
    },
    {
      "cell_type": "code",
      "execution_count": 117,
      "metadata": {
        "colab": {
          "base_uri": "https://localhost:8080/",
          "height": 451
        },
        "id": "X9glpvw_h92f",
        "outputId": "4d179bb6-09d6-480b-a0e7-cfcf94db0ac2"
      },
      "outputs": [
        {
          "output_type": "stream",
          "name": "stdout",
          "text": [
            "MÉDIA DE CASOS NOVOS EM 2020\n",
            "regiao\n",
            "Centro-Oeste    13.182418\n",
            "Nordeste         7.470494\n",
            "Norte           13.318400\n",
            "Sudeste         11.453187\n",
            "Sul              8.106254\n",
            "Name: casosNovos, dtype: float64\n",
            "==============================\n"
          ]
        },
        {
          "output_type": "display_data",
          "data": {
            "text/plain": [
              "<Figure size 432x288 with 1 Axes>"
            ],
            "image/png": "[encoded data removed]"
          },
          "metadata": {
            "needs_background": "light"
          }
        }
      ],
      "source": [
        "df_covid2020 = RegioesBrasil2020.groupby('regiao')\n",
        "mediaCasosNovos2020 = df_covid2020['casosNovos'].mean().head(10)\n",
        "print(\"MÉDIA DE CASOS NOVOS EM 2020\")\n",
        "print(mediaCasosNovos2020)\n",
        "print(\"=\"*30)\n",
        "\n",
        "df_covid2020.mean()['casosNovos'].plot(c='#EF2D56')\n",
        "plt.xlabel('Região')\n",
        "plt.ylabel('Média de casos novos')\n",
        "plt.title(\"Média de casos novos nas regiões do Brasil\")\n",
        "plt.show()\n"
      ]
    },
    {
      "cell_type": "markdown",
      "metadata": {
        "id": "eGE9lyERmo5j"
      },
      "source": [
        "### Em 2021"
      ]
    },
    {
      "cell_type": "code",
      "execution_count": 118,
      "metadata": {
        "colab": {
          "base_uri": "https://localhost:8080/",
          "height": 0
        },
        "id": "1rQasJpRisoJ",
        "outputId": "efe3e3d3-0bd2-44a1-f301-c2314ce3af8f"
      },
      "outputs": [
        {
          "output_type": "stream",
          "name": "stdout",
          "text": [
            "MÉDIA DE CASOS NOVOS EM 2021\n",
            "regiao\n",
            "Centro-Oeste    17.701237\n",
            "Nordeste         9.235051\n",
            "Norte           12.683276\n",
            "Sudeste         19.533468\n",
            "Sul             13.687786\n",
            "Name: casosNovos, dtype: float64\n",
            "==============================\n"
          ]
        },
        {
          "output_type": "display_data",
          "data": {
            "text/plain": [
              "<Figure size 432x288 with 1 Axes>"
            ],
            "image/png": "[encoded data removed]"
          },
          "metadata": {
            "needs_background": "light"
          }
        }
      ],
      "source": [
        "df_covid2021 = RegioesBrasil2021.groupby('regiao')\n",
        "mediaCasosNovos2021 = df_covid2021['casosNovos'].mean().head(10)\n",
        "print(\"MÉDIA DE CASOS NOVOS EM 2021\")\n",
        "print(mediaCasosNovos2021)\n",
        "print(\"=\"*30)\n",
        "\n",
        "df_covid2021.mean()['casosNovos'].plot(c='#EF2D56')\n",
        "plt.xlabel('Região')\n",
        "plt.ylabel('Média de casos novos')\n",
        "plt.title(\"Média de casos novos nas regiões do Brasil\")\n",
        "plt.show()\n"
      ]
    },
    {
      "cell_type": "markdown",
      "metadata": {
        "id": "AMWq7wdbmlNh"
      },
      "source": [
        "### Em 2022"
      ]
    },
    {
      "cell_type": "code",
      "execution_count": 119,
      "metadata": {
        "colab": {
          "base_uri": "https://localhost:8080/",
          "height": 0
        },
        "id": "wfqI6QKjiu6V",
        "outputId": "03b096a3-4a45-4846-fc76-25d08b8d3944"
      },
      "outputs": [
        {
          "output_type": "stream",
          "name": "stdout",
          "text": [
            "MÉDIA DE CASOS NOVOS EM 2022\n",
            "regiao\n",
            "Centro-Oeste    26.616238\n",
            "Nordeste         9.554292\n",
            "Norte           16.576934\n",
            "Sudeste         27.620882\n",
            "Sul             25.993881\n",
            "Name: casosNovos, dtype: float64\n",
            "==============================\n"
          ]
        },
        {
          "output_type": "display_data",
          "data": {
            "text/plain": [
              "<Figure size 432x288 with 1 Axes>"
            ],
            "image/png": "[encoded data removed]"
          },
          "metadata": {
            "needs_background": "light"
          }
        }
      ],
      "source": [
        "df_covid2022 = RegioesBrasil2022.groupby('regiao')\n",
        "mediaCasosNovos2022 = df_covid2022['casosNovos'].mean().head(10)\n",
        "print(\"MÉDIA DE CASOS NOVOS EM 2022\")\n",
        "print(mediaCasosNovos2022)\n",
        "print(\"=\"*30)\n",
        "\n",
        "df_covid2022.mean()['casosNovos'].plot(c='#EF2D56')\n",
        "plt.xlabel('Região')\n",
        "plt.ylabel('Média de casos novos')\n",
        "plt.title(\"Média de casos novos nas regiões do Brasil\")\n",
        "plt.show()"
      ]
    },
    {
      "cell_type": "markdown",
      "source": [
        "# 2 - Qual o número de casos novos de Covid em cada região nos anos de  2020, 2021 e 2022 ?"
      ],
      "metadata": {
        "id": "HH1Yo2e9sMxj"
      }
    },
    {
      "cell_type": "markdown",
      "source": [
        "### 2020"
      ],
      "metadata": {
        "id": "lWfFaxamsLO0"
      }
    },
    {
      "cell_type": "code",
      "source": [
        "df_covid2020 = RegioesBrasil2020.groupby('regiao')\n",
        "casosNovos2020 = df_covid2020['casosNovos'].sum().head(10)\n",
        "print(\"QUANTIDADE DE CASOS NOVOS EM 2020\")\n",
        "print(casosNovos2020)\n",
        "print(\"=\"*30)\n",
        "\n",
        "df_covid2020.sum()['casosNovos'].plot(c='#EF2D56')\n",
        "plt.xlabel('Região')\n",
        "plt.ylabel('Quantidade de casos novos')\n",
        "plt.title(\"Quantidade de casos novos nas regiões do Brasil\")\n",
        "plt.show()"
      ],
      "metadata": {
        "colab": {
          "base_uri": "https://localhost:8080/",
          "height": 0
        },
        "id": "748OCaTrr6Uu",
        "outputId": "b3c30b25-8e2b-4b23-9aa6-e9582336c5f0"
      },
      "execution_count": 120,
      "outputs": [
        {
          "output_type": "stream",
          "name": "stdout",
          "text": [
            "QUANTIDADE DE CASOS NOVOS EM 2020\n",
            "regiao\n",
            "Centro-Oeste    1747514\n",
            "Nordeste        3792314\n",
            "Norte           1718300\n",
            "Sudeste         5376172\n",
            "Sul             2717646\n",
            "Name: casosNovos, dtype: int64\n",
            "==============================\n"
          ]
        },
        {
          "output_type": "display_data",
          "data": {
            "text/plain": [
              "<Figure size 432x288 with 1 Axes>"
            ],
            "image/png": "[encoded data removed]"
          },
          "metadata": {
            "needs_background": "light"
          }
        }
      ]
    },
    {
      "cell_type": "markdown",
      "source": [
        "### 2021"
      ],
      "metadata": {
        "id": "RaxLmlXgsJQx"
      }
    },
    {
      "cell_type": "code",
      "source": [
        "df_covid2021 = RegioesBrasil2021.groupby('regiao')\n",
        "casosNovos2021 = df_covid2021['casosNovos'].sum().head(10)\n",
        "print(\"QUANTIDADE DE CASOS NOVOS EM 2021\")\n",
        "print(casosNovos2021)\n",
        "print(\"=\"*30)\n",
        "\n",
        "df_covid2021.sum()['casosNovos'].plot(c='#EF2D56')\n",
        "plt.xlabel('Região')\n",
        "plt.ylabel('Quantidade de casos novos')\n",
        "plt.title(\"Quantidade de casos novos nas regiões do Brasil\")\n",
        "plt.show()\n"
      ],
      "metadata": {
        "colab": {
          "base_uri": "https://localhost:8080/",
          "height": 0
        },
        "id": "ePwUyfnRsBWo",
        "outputId": "42568cb1-113c-4440-e24f-1a02da350ab4"
      },
      "execution_count": 121,
      "outputs": [
        {
          "output_type": "stream",
          "name": "stdout",
          "text": [
            "QUANTIDADE DE CASOS NOVOS EM 2021\n",
            "regiao\n",
            "Centro-Oeste     3056030\n",
            "Nordeste         6107878\n",
            "Norte            2129522\n",
            "Sudeste         11949404\n",
            "Sul              5980262\n",
            "Name: casosNovos, dtype: int64\n",
            "==============================\n"
          ]
        },
        {
          "output_type": "display_data",
          "data": {
            "text/plain": [
              "<Figure size 432x288 with 1 Axes>"
            ],
            "image/png": "[encoded data removed]"
          },
          "metadata": {
            "needs_background": "light"
          }
        }
      ]
    },
    {
      "cell_type": "markdown",
      "source": [
        "### 2022"
      ],
      "metadata": {
        "id": "2V4LZeZTsF8I"
      }
    },
    {
      "cell_type": "code",
      "source": [
        "df_covid2022 = RegioesBrasil2022.groupby('regiao')\n",
        "casosNovos2022 = df_covid2022['casosNovos'].sum().head(10)\n",
        "print(\"QUANTIDADE DE CASOS NOVOS EM 2022\")\n",
        "print(casosNovos2022)\n",
        "print(\"=\"*30)\n",
        "\n",
        "df_covid2022.sum()['casosNovos'].plot(c='#EF2D56')\n",
        "plt.xlabel('Região')\n",
        "plt.ylabel('Quantidade de casos novos')\n",
        "plt.title(\"Quantidade de casos novos nas regiões do Brasil\")\n",
        "plt.show()"
      ],
      "metadata": {
        "colab": {
          "base_uri": "https://localhost:8080/",
          "height": 0
        },
        "id": "XbaGF8F-sEwx",
        "outputId": "006baa81-7ac9-4a63-8e65-146821981f7d"
      },
      "execution_count": 122,
      "outputs": [
        {
          "output_type": "stream",
          "name": "stdout",
          "text": [
            "QUANTIDADE DE CASOS NOVOS EM 2022\n",
            "regiao\n",
            "Centro-Oeste    1938780\n",
            "Nordeste        2666106\n",
            "Norte           1174310\n",
            "Sudeste         7129060\n",
            "Sul             4791660\n",
            "Name: casosNovos, dtype: int64\n",
            "==============================\n"
          ]
        },
        {
          "output_type": "display_data",
          "data": {
            "text/plain": [
              "<Figure size 432x288 with 1 Axes>"
            ],
            "image/png": "[encoded data removed]"
          },
          "metadata": {
            "needs_background": "light"
          }
        }
      ]
    },
    {
      "cell_type": "markdown",
      "metadata": {
        "id": "Mk6ZG5k6f4rI"
      },
      "source": [
        "#3 - Óbitos de covid durante o ano de 2022?"
      ]
    },
    {
      "cell_type": "code",
      "execution_count": 123,
      "metadata": {
        "colab": {
          "base_uri": "https://localhost:8080/"
        },
        "id": "3Hykyz7-f8fJ",
        "outputId": "41ad5226-1d97-4f36-f9c8-e400213bc4d2"
      },
      "outputs": [
        {
          "output_type": "execute_result",
          "data": {
            "text/plain": [
              "47915"
            ]
          },
          "metadata": {},
          "execution_count": 123
        }
      ],
      "source": [
        "DadosBrasil2022['obitosNovos'].sum()"
      ]
    },
    {
      "cell_type": "markdown",
      "metadata": {
        "id": "39Wy2miRg0Zw"
      },
      "source": [
        "#4 - Quais as regiões mais afetadas pela Covid-19?"
      ]
    },
    {
      "cell_type": "code",
      "execution_count": 124,
      "metadata": {
        "colab": {
          "base_uri": "https://localhost:8080/",
          "height": 0
        },
        "id": "m70ilSpNg0FX",
        "outputId": "549addfc-4a14-41e6-d8d8-0f970abe7435"
      },
      "outputs": [
        {
          "output_type": "display_data",
          "data": {
            "text/plain": [
              "<Figure size 432x288 with 1 Axes>"
            ],
            "image/png": "[encoded data removed]"
          },
          "metadata": {
            "needs_background": "light"
          }
        },
        {
          "output_type": "stream",
          "name": "stdout",
          "text": [
            "\n",
            "\n"
          ]
        },
        {
          "output_type": "display_data",
          "data": {
            "text/plain": [
              "<Figure size 432x288 with 1 Axes>"
            ],
            "image/png": "[encoded data removed]"
          },
          "metadata": {
            "needs_background": "light"
          }
        }
      ],
      "source": [
        "# Pegando o gráfico para analisar os casos novos em cada região\n",
        "GroupState1 = RegioesBrasilFull.groupby('regiao')\n",
        "GroupState1.sum()['casosNovos'].plot(kind='bar', color='#EF2D56')\n",
        "plt.xlabel('Regiao')\n",
        "plt.ylabel('Casos Novos')\n",
        "plt.yscale('log')\n",
        "plt.show()\n",
        "# Pegando o gráfico para analisar os óbitos novos em cada região\n",
        "print('\\n')\n",
        "GroupState1 = RegioesBrasilFull.groupby('regiao')\n",
        "GroupState1.sum()['obitosNovos'].plot(kind='bar', color='#EF2D56')\n",
        "plt.xlabel('Regiao')\n",
        "plt.ylabel('Óbitos novos')\n",
        "plt.yscale('log')\n",
        "plt.show()"
      ]
    },
    {
      "cell_type": "markdown",
      "metadata": {
        "id": "gTEdELlYj46B"
      },
      "source": [
        "##Por meio desses dois gráficos que analisam os óbitos novos e os casos novos de covid19, podemos observar que as regiões mais afetadas pela covid são as regiões Nordeste,Sudeste e sul respectivamente."
      ]
    },
    {
      "cell_type": "markdown",
      "metadata": {
        "id": "lRRVnbLtkSCH"
      },
      "source": [
        "#5 -  Qual o ano mais afetado pela Covid 19 ?"
      ]
    },
    {
      "cell_type": "code",
      "execution_count": 125,
      "metadata": {
        "colab": {
          "base_uri": "https://localhost:8080/",
          "height": 0
        },
        "id": "mb-jIhqmkVL2",
        "outputId": "b2109b77-b8df-4214-96d9-729f97fc7812"
      },
      "outputs": [
        {
          "output_type": "display_data",
          "data": {
            "text/plain": [
              "<Figure size 432x288 with 1 Axes>"
            ],
            "image/png": "[encoded data removed]"
          },
          "metadata": {
            "needs_background": "light"
          }
        }
      ],
      "source": [
        "data = pd.DataFrame(columns = ['Ano' , 'QtdCasosNovos'])\n",
        "data.loc[0] = ['2020',DadosBrasil2020['casosNovos'].sum()]\n",
        "data.loc[1] = ['2021',DadosBrasil2021['casosNovos'].sum()]\n",
        "data.loc[2] = ['2022',DadosBrasil2022['casosNovos'].sum()]\n",
        "\n",
        "GroupState1 = data.groupby('Ano')\n",
        "GroupState1.sum()['QtdCasosNovos'].plot(kind='bar', color='#EF2D56')\n",
        "plt.xlabel('Ano')\n",
        "plt.ylabel('QtdCasosNovos')\n",
        "plt.yscale('log')\n",
        "plt.show()"
      ]
    },
    {
      "cell_type": "markdown",
      "metadata": {
        "id": "d8jVoI1KuX6F"
      },
      "source": [
        "## Por meio desse gráfico, podemos notar que o ano mais afetado com novos casos de covid19 é o ano de 2021 com maior número de aparecimento de novos casos dentre os 3 anos"
      ]
    },
    {
      "cell_type": "markdown",
      "metadata": {
        "id": "-UIykCLfuig3"
      },
      "source": [
        "#6 - Qual a probabilidade de ocorrer um caso em Minas Gerais ?"
      ]
    },
    {
      "cell_type": "code",
      "execution_count": 126,
      "metadata": {
        "colab": {
          "base_uri": "https://localhost:8080/"
        },
        "id": "ewazYIJFunQe",
        "outputId": "a2932a4c-f985-4d07-a785-fc44fe7470bc"
      },
      "outputs": [
        {
          "output_type": "stream",
          "name": "stdout",
          "text": [
            "A probabilidade é de 32.089607271612174%\n"
          ]
        }
      ],
      "source": [
        "#Considerando todos os anos e voltando apenas para o estado de Minas Gerais, temos que a probabilidade de ocorrer um caso novo, seja uma relação entre os casos novos e o número de pessoas no estado de minas\n",
        "# População estimada em Minas Gerais = 21.411.923 no ano de 2021\n",
        "\n",
        "Minas = RegioesBrasilFull[RegioesBrasilFull['estado'] == 'MG']['casosNovos'].sum()\n",
        "print(f'A probabilidade é de {(Minas/21411923)*100}%')"
      ]
    },
    {
      "cell_type": "markdown",
      "metadata": {
        "id": "U3QEGXaOw7Lc"
      },
      "source": [
        "#7 - Qual a probabilidade de ocorrer um novo caso de Covid-19 em 2022 ?"
      ]
    },
    {
      "cell_type": "code",
      "execution_count": 127,
      "metadata": {
        "colab": {
          "base_uri": "https://localhost:8080/"
        },
        "id": "t2WCSMMtw9H9",
        "outputId": "26b34912-d501-4996-f6c3-c3225a876e5b"
      },
      "outputs": [
        {
          "output_type": "stream",
          "name": "stdout",
          "text": [
            "A probabilidade é de 4.086282301833968%\n"
          ]
        }
      ],
      "source": [
        "#Estimativa da população brasileira em 2022  == 216 577 254\n",
        "\n",
        "Dados = DadosBrasil2022['casosNovos'].sum()\n",
        "print(f'A probabilidade é de {(Dados/216577254)*100}%')"
      ]
    },
    {
      "cell_type": "markdown",
      "metadata": {
        "id": "OuBHqOaVlqGU"
      },
      "source": [
        "#8 - Quais as regiões menos afetadas pela Covid nos anos de 2020, 2021 e 2022 ?"
      ]
    },
    {
      "cell_type": "markdown",
      "metadata": {
        "id": "ZZA-7CJ1fO2x"
      },
      "source": [
        "Para descobrir qual região foi mais afetada pelo covid, primeiro plotamos um gráfico para visualizar as regiões que mais tiveram casos novos"
      ]
    },
    {
      "cell_type": "markdown",
      "metadata": {
        "id": "L-BRU7erhrsJ"
      },
      "source": [
        "Visualizando o gráfico abaixo é possível perceber que as regiões menos afetadas foram as regiões Centro-Oeste, Norte e Sul."
      ]
    },
    {
      "cell_type": "code",
      "execution_count": 128,
      "metadata": {
        "colab": {
          "base_uri": "https://localhost:8080/",
          "height": 0
        },
        "id": "_2Q9TSI2mlnH",
        "outputId": "b8712dbd-6054-4b71-d25a-7b83d730b4d6"
      },
      "outputs": [
        {
          "output_type": "stream",
          "name": "stdout",
          "text": [
            "Quantidade de casos novos no dataframe de 2020\n"
          ]
        },
        {
          "output_type": "display_data",
          "data": {
            "text/plain": [
              "<Figure size 432x288 with 1 Axes>"
            ],
            "image/png": "[encoded data removed]"
          },
          "metadata": {
            "needs_background": "light"
          }
        }
      ],
      "source": [
        "casosNovos2020  = RegioesBrasil2020.groupby('regiao')\n",
        "casosNovos2020.sum()['casosNovos'].plot(c='#EF2D56')\n",
        "plt.ylabel('CasosNovos')\n",
        "plt.xlabel('Região')\n",
        "print(\"Quantidade de casos novos no dataframe de 2020\")\n",
        "plt.show()"
      ]
    },
    {
      "cell_type": "markdown",
      "metadata": {
        "id": "Zw5b1FhGh-lB"
      },
      "source": [
        "Veja abaixo a quantidade de casos novos em cada região, isto agrupando as regiões e somando a quantidade de casos novos. Nele é ratificado as informações do gráfico, onde demonstra ratificar a confirmação anterior que as regiões Centro-Oeste e Norte são as regiões que menor tiveram casos novos de covid. Veja os dados em ordem crescente abaixo."
      ]
    },
    {
      "cell_type": "code",
      "execution_count": 129,
      "metadata": {
        "colab": {
          "base_uri": "https://localhost:8080/"
        },
        "id": "H6KbIatYqb_9",
        "outputId": "4d5508f3-6b52-46ec-889f-6508248d3fab"
      },
      "outputs": [
        {
          "output_type": "execute_result",
          "data": {
            "text/plain": [
              "regiao\n",
              "Norte           1718300\n",
              "Centro-Oeste    1747514\n",
              "Sul             2717646\n",
              "Nordeste        3792314\n",
              "Sudeste         5376172\n",
              "Name: casosNovos, dtype: int64"
            ]
          },
          "metadata": {},
          "execution_count": 129
        }
      ],
      "source": [
        "casosNovos2020  = RegioesBrasil2020.groupby('regiao')\n",
        "casosNovos2020['casosNovos'].sum().sort_values()"
      ]
    },
    {
      "cell_type": "markdown",
      "metadata": {
        "id": "pQUKeOlJjPGe"
      },
      "source": [
        "Veja agora no ano de 2021 quais foram as regiões que mais tiveram novos casos de covid, e com isto foram mais afetadas."
      ]
    },
    {
      "cell_type": "code",
      "execution_count": 130,
      "metadata": {
        "colab": {
          "base_uri": "https://localhost:8080/",
          "height": 0
        },
        "id": "YiamTo3Zf85M",
        "outputId": "b6ebbc20-9b41-4bde-90fd-bf5bb673ac3a"
      },
      "outputs": [
        {
          "output_type": "stream",
          "name": "stdout",
          "text": [
            "Quantidade de casos novos no dataframe de 2021\n"
          ]
        },
        {
          "output_type": "display_data",
          "data": {
            "text/plain": [
              "<Figure size 432x288 with 1 Axes>"
            ],
            "image/png": "[encoded data removed]"
          },
          "metadata": {
            "needs_background": "light"
          }
        }
      ],
      "source": [
        "casosNovos2021  = RegioesBrasil2021.groupby('regiao')\n",
        "casosNovos2021.sum()['casosNovos'].plot(c='#EF2D56')\n",
        "plt.ylabel('CasosNovos')\n",
        "plt.xlabel('Região')\n",
        "print(\"Quantidade de casos novos no dataframe de 2021\")\n",
        "plt.show()"
      ]
    },
    {
      "cell_type": "markdown",
      "metadata": {
        "id": "DBQY1DkYkiv8"
      },
      "source": [
        "No gráfico e somando os casos novos de covid é possível ver que as regiões menos afetadas nos anos de 2021 foram as regiões do Norte e Centro-Oeste novamente. Veja os dados em ordem crescente abaixo."
      ]
    },
    {
      "cell_type": "code",
      "execution_count": 131,
      "metadata": {
        "colab": {
          "base_uri": "https://localhost:8080/"
        },
        "id": "Qme5gElnkIQ7",
        "outputId": "deb55369-1c29-438f-898e-aad9608ebd67"
      },
      "outputs": [
        {
          "output_type": "execute_result",
          "data": {
            "text/plain": [
              "regiao\n",
              "Norte            2129522\n",
              "Centro-Oeste     3056030\n",
              "Sul              5980262\n",
              "Nordeste         6107878\n",
              "Sudeste         11949404\n",
              "Name: casosNovos, dtype: int64"
            ]
          },
          "metadata": {},
          "execution_count": 131
        }
      ],
      "source": [
        "casosNovos2021  = RegioesBrasil2021.groupby('regiao')\n",
        "casosNovos2021['casosNovos'].sum().sort_values()"
      ]
    },
    {
      "cell_type": "markdown",
      "metadata": {
        "id": "wdKMJzyulBd-"
      },
      "source": [
        "Agora iremos verificar quais regiões no ano de 2022 foram mais afetadas pelo covid."
      ]
    },
    {
      "cell_type": "code",
      "execution_count": 132,
      "metadata": {
        "colab": {
          "base_uri": "https://localhost:8080/",
          "height": 0
        },
        "id": "wze9dmowlHv2",
        "outputId": "421c7e40-96cc-4837-a2f2-0a7c6da91ed3"
      },
      "outputs": [
        {
          "output_type": "stream",
          "name": "stdout",
          "text": [
            "Quantidade de casos novos no dataframe de 2022\n"
          ]
        },
        {
          "output_type": "display_data",
          "data": {
            "text/plain": [
              "<Figure size 432x288 with 1 Axes>"
            ],
            "image/png": "[encoded data removed]"
          },
          "metadata": {
            "needs_background": "light"
          }
        }
      ],
      "source": [
        "casosNovos2022  = RegioesBrasil2022.groupby('regiao')\n",
        "casosNovos2022.sum()['casosNovos'].plot(c='#EF2D56')\n",
        "plt.ylabel('CasosNovos')\n",
        "plt.xlabel('Região')\n",
        "print(\"Quantidade de casos novos no dataframe de 2022\")\n",
        "plt.show()"
      ]
    },
    {
      "cell_type": "markdown",
      "metadata": {
        "id": "f12fyzaglbZ-"
      },
      "source": [
        "Novamente o Centro-Oeste e o Norte tiveram meno casos de covid, veja abaixo a soma dos novos casos."
      ]
    },
    {
      "cell_type": "code",
      "execution_count": 133,
      "metadata": {
        "colab": {
          "base_uri": "https://localhost:8080/"
        },
        "id": "Q3dab_LElQW9",
        "outputId": "33630f76-f2d8-4d74-81cf-74c6450fc7cb"
      },
      "outputs": [
        {
          "output_type": "execute_result",
          "data": {
            "text/plain": [
              "regiao\n",
              "Norte           1174310\n",
              "Centro-Oeste    1938780\n",
              "Nordeste        2666106\n",
              "Sul             4791660\n",
              "Sudeste         7129060\n",
              "Name: casosNovos, dtype: int64"
            ]
          },
          "metadata": {},
          "execution_count": 133
        }
      ],
      "source": [
        "casosNovos2022  = RegioesBrasil2022.groupby('regiao')\n",
        "casosNovos2022['casosNovos'].sum().sort_values()"
      ]
    },
    {
      "cell_type": "markdown",
      "metadata": {
        "id": "gCnR-gj4lpmI"
      },
      "source": [
        "Veja agora o dataframe, cujo os dados são a concatenação dos dataframes de 2020, 2021 e 2022. Nele veremos quais regiões foram mais afetadas nos 3 anos. Veja os dados em ordem crescente abaixo."
      ]
    },
    {
      "cell_type": "code",
      "execution_count": 134,
      "metadata": {
        "colab": {
          "base_uri": "https://localhost:8080/"
        },
        "id": "7_tRomC_mH2c",
        "outputId": "ac8f55ab-8f3e-4e12-ba26-29ac785fd376"
      },
      "outputs": [
        {
          "output_type": "execute_result",
          "data": {
            "text/plain": [
              "regiao\n",
              "Norte            5022132\n",
              "Centro-Oeste     6742324\n",
              "Nordeste        12566298\n",
              "Sul             13489568\n",
              "Sudeste         24454636\n",
              "Name: casosNovos, dtype: int64"
            ]
          },
          "metadata": {},
          "execution_count": 134
        }
      ],
      "source": [
        "df = RegioesBrasilFull.groupby('regiao')\n",
        "df['casosNovos'].sum().sort_values()"
      ]
    },
    {
      "cell_type": "markdown",
      "metadata": {
        "id": "Vqlt4OqT-M4Z"
      },
      "source": [
        "#9 - Qual o estado teve o maior número de casos em 2022 ?"
      ]
    },
    {
      "cell_type": "code",
      "execution_count": 135,
      "metadata": {
        "colab": {
          "base_uri": "https://localhost:8080/",
          "height": 0
        },
        "id": "xa23sv8g_pVV",
        "outputId": "c6b59a3e-cc94-479c-cb0d-52c1e1dc2d49"
      },
      "outputs": [
        {
          "output_type": "execute_result",
          "data": {
            "text/plain": [
              "              regiao estado municipio  coduf    codmun  codRegiaoSaude  \\\n",
              "154            Norte     RO       NaN     11       NaN             NaN   \n",
              "155            Norte     RO       NaN     11       NaN             NaN   \n",
              "156            Norte     RO       NaN     11       NaN             NaN   \n",
              "157            Norte     RO       NaN     11       NaN             NaN   \n",
              "158            Norte     RO       NaN     11       NaN             NaN   \n",
              "...              ...    ...       ...    ...       ...             ...   \n",
              "865321  Centro-Oeste     DF  Brasília     53  530010.0         53001.0   \n",
              "865322  Centro-Oeste     DF  Brasília     53  530010.0         53001.0   \n",
              "865323  Centro-Oeste     DF  Brasília     53  530010.0         53001.0   \n",
              "865324  Centro-Oeste     DF  Brasília     53  530010.0         53001.0   \n",
              "865325  Centro-Oeste     DF  Brasília     53  530010.0         53001.0   \n",
              "\n",
              "         nomeRegiaoSaude        data  semanaEpi  populacaoTCU2019  \\\n",
              "154                  NaN  2022-01-01         52         1777225.0   \n",
              "155                  NaN  2022-01-02          1         1777225.0   \n",
              "156                  NaN  2022-01-03          1         1777225.0   \n",
              "157                  NaN  2022-01-04          1         1777225.0   \n",
              "158                  NaN  2022-01-05          1         1777225.0   \n",
              "...                  ...         ...        ...               ...   \n",
              "865321  DISTRITO FEDERAL  2022-05-30         22         3015268.0   \n",
              "865322  DISTRITO FEDERAL  2022-05-31         22         3015268.0   \n",
              "865323  DISTRITO FEDERAL  2022-06-01         22         3015268.0   \n",
              "865324  DISTRITO FEDERAL  2022-06-02         22         3015268.0   \n",
              "865325  DISTRITO FEDERAL  2022-06-03         22         3015268.0   \n",
              "\n",
              "        casosAcumulado  casosNovos  obitosAcumulado  obitosNovos  \\\n",
              "154           284660.0          34             6737            3   \n",
              "155           284692.0          32             6739            2   \n",
              "156           284783.0          91             6742            3   \n",
              "157           285037.0         254             6745            3   \n",
              "158           285269.0         232             6748            3   \n",
              "...                ...         ...              ...          ...   \n",
              "865321        708552.0        2604            11691            1   \n",
              "865322        710694.0        2142            11691            0   \n",
              "865323        712968.0        2274            11692            1   \n",
              "865324        715938.0        2970            11692            0   \n",
              "865325        718242.0        2304            11692            0   \n",
              "\n",
              "        interior/metropolitana      Prop  \n",
              "154                        NaN  0.000019  \n",
              "155                        NaN  0.000018  \n",
              "156                        NaN  0.000051  \n",
              "157                        NaN  0.000143  \n",
              "158                        NaN  0.000131  \n",
              "...                        ...       ...  \n",
              "865321                     1.0  0.000864  \n",
              "865322                     1.0  0.000710  \n",
              "865323                     1.0  0.000754  \n",
              "865324                     1.0  0.000985  \n",
              "865325                     1.0  0.000764  \n",
              "\n",
              "[865172 rows x 16 columns]"
            ],
            "text/html": [
              "\n",
              "  <div id=\"df-68a4437a-2d65-4026-924d-1cd5b6ddbc00\">\n",
              "    <div class=\"colab-df-container\">\n",
              "      <div>\n",
              "<style scoped>\n",
              "    .dataframe tbody tr th:only-of-type {\n",
              "        vertical-align: middle;\n",
              "    }\n",
              "\n",
              "    .dataframe tbody tr th {\n",
              "        vertical-align: top;\n",
              "    }\n",
              "\n",
              "    .dataframe thead th {\n",
              "        text-align: right;\n",
              "    }\n",
              "</style>\n",
              "<table border=\"1\" class=\"dataframe\">\n",
              "  <thead>\n",
              "    <tr style=\"text-align: right;\">\n",
              "      <th></th>\n",
              "      <th>regiao</th>\n",
              "      <th>estado</th>\n",
              "      <th>municipio</th>\n",
              "      <th>coduf</th>\n",
              "      <th>codmun</th>\n",
              "      <th>codRegiaoSaude</th>\n",
              "      <th>nomeRegiaoSaude</th>\n",
              "      <th>data</th>\n",
              "      <th>semanaEpi</th>\n",
              "      <th>populacaoTCU2019</th>\n",
              "      <th>casosAcumulado</th>\n",
              "      <th>casosNovos</th>\n",
              "      <th>obitosAcumulado</th>\n",
              "      <th>obitosNovos</th>\n",
              "      <th>interior/metropolitana</th>\n",
              "      <th>Prop</th>\n",
              "    </tr>\n",
              "  </thead>\n",
              "  <tbody>\n",
              "    <tr>\n",
              "      <th>154</th>\n",
              "      <td>Norte</td>\n",
              "      <td>RO</td>\n",
              "      <td>NaN</td>\n",
              "      <td>11</td>\n",
              "      <td>NaN</td>\n",
              "      <td>NaN</td>\n",
              "      <td>NaN</td>\n",
              "      <td>2022-01-01</td>\n",
              "      <td>52</td>\n",
              "      <td>1777225.0</td>\n",
              "      <td>284660.0</td>\n",
              "      <td>34</td>\n",
              "      <td>6737</td>\n",
              "      <td>3</td>\n",
              "      <td>NaN</td>\n",
              "      <td>0.000019</td>\n",
              "    </tr>\n",
              "    <tr>\n",
              "      <th>155</th>\n",
              "      <td>Norte</td>\n",
              "      <td>RO</td>\n",
              "      <td>NaN</td>\n",
              "      <td>11</td>\n",
              "      <td>NaN</td>\n",
              "      <td>NaN</td>\n",
              "      <td>NaN</td>\n",
              "      <td>2022-01-02</td>\n",
              "      <td>1</td>\n",
              "      <td>1777225.0</td>\n",
              "      <td>284692.0</td>\n",
              "      <td>32</td>\n",
              "      <td>6739</td>\n",
              "      <td>2</td>\n",
              "      <td>NaN</td>\n",
              "      <td>0.000018</td>\n",
              "    </tr>\n",
              "    <tr>\n",
              "      <th>156</th>\n",
              "      <td>Norte</td>\n",
              "      <td>RO</td>\n",
              "      <td>NaN</td>\n",
              "      <td>11</td>\n",
              "      <td>NaN</td>\n",
              "      <td>NaN</td>\n",
              "      <td>NaN</td>\n",
              "      <td>2022-01-03</td>\n",
              "      <td>1</td>\n",
              "      <td>1777225.0</td>\n",
              "      <td>284783.0</td>\n",
              "      <td>91</td>\n",
              "      <td>6742</td>\n",
              "      <td>3</td>\n",
              "      <td>NaN</td>\n",
              "      <td>0.000051</td>\n",
              "    </tr>\n",
              "    <tr>\n",
              "      <th>157</th>\n",
              "      <td>Norte</td>\n",
              "      <td>RO</td>\n",
              "      <td>NaN</td>\n",
              "      <td>11</td>\n",
              "      <td>NaN</td>\n",
              "      <td>NaN</td>\n",
              "      <td>NaN</td>\n",
              "      <td>2022-01-04</td>\n",
              "      <td>1</td>\n",
              "      <td>1777225.0</td>\n",
              "      <td>285037.0</td>\n",
              "      <td>254</td>\n",
              "      <td>6745</td>\n",
              "      <td>3</td>\n",
              "      <td>NaN</td>\n",
              "      <td>0.000143</td>\n",
              "    </tr>\n",
              "    <tr>\n",
              "      <th>158</th>\n",
              "      <td>Norte</td>\n",
              "      <td>RO</td>\n",
              "      <td>NaN</td>\n",
              "      <td>11</td>\n",
              "      <td>NaN</td>\n",
              "      <td>NaN</td>\n",
              "      <td>NaN</td>\n",
              "      <td>2022-01-05</td>\n",
              "      <td>1</td>\n",
              "      <td>1777225.0</td>\n",
              "      <td>285269.0</td>\n",
              "      <td>232</td>\n",
              "      <td>6748</td>\n",
              "      <td>3</td>\n",
              "      <td>NaN</td>\n",
              "      <td>0.000131</td>\n",
              "    </tr>\n",
              "    <tr>\n",
              "      <th>...</th>\n",
              "      <td>...</td>\n",
              "      <td>...</td>\n",
              "      <td>...</td>\n",
              "      <td>...</td>\n",
              "      <td>...</td>\n",
              "      <td>...</td>\n",
              "      <td>...</td>\n",
              "      <td>...</td>\n",
              "      <td>...</td>\n",
              "      <td>...</td>\n",
              "      <td>...</td>\n",
              "      <td>...</td>\n",
              "      <td>...</td>\n",
              "      <td>...</td>\n",
              "      <td>...</td>\n",
              "      <td>...</td>\n",
              "    </tr>\n",
              "    <tr>\n",
              "      <th>865321</th>\n",
              "      <td>Centro-Oeste</td>\n",
              "      <td>DF</td>\n",
              "      <td>Brasília</td>\n",
              "      <td>53</td>\n",
              "      <td>530010.0</td>\n",
              "      <td>53001.0</td>\n",
              "      <td>DISTRITO FEDERAL</td>\n",
              "      <td>2022-05-30</td>\n",
              "      <td>22</td>\n",
              "      <td>3015268.0</td>\n",
              "      <td>708552.0</td>\n",
              "      <td>2604</td>\n",
              "      <td>11691</td>\n",
              "      <td>1</td>\n",
              "      <td>1.0</td>\n",
              "      <td>0.000864</td>\n",
              "    </tr>\n",
              "    <tr>\n",
              "      <th>865322</th>\n",
              "      <td>Centro-Oeste</td>\n",
              "      <td>DF</td>\n",
              "      <td>Brasília</td>\n",
              "      <td>53</td>\n",
              "      <td>530010.0</td>\n",
              "      <td>53001.0</td>\n",
              "      <td>DISTRITO FEDERAL</td>\n",
              "      <td>2022-05-31</td>\n",
              "      <td>22</td>\n",
              "      <td>3015268.0</td>\n",
              "      <td>710694.0</td>\n",
              "      <td>2142</td>\n",
              "      <td>11691</td>\n",
              "      <td>0</td>\n",
              "      <td>1.0</td>\n",
              "      <td>0.000710</td>\n",
              "    </tr>\n",
              "    <tr>\n",
              "      <th>865323</th>\n",
              "      <td>Centro-Oeste</td>\n",
              "      <td>DF</td>\n",
              "      <td>Brasília</td>\n",
              "      <td>53</td>\n",
              "      <td>530010.0</td>\n",
              "      <td>53001.0</td>\n",
              "      <td>DISTRITO FEDERAL</td>\n",
              "      <td>2022-06-01</td>\n",
              "      <td>22</td>\n",
              "      <td>3015268.0</td>\n",
              "      <td>712968.0</td>\n",
              "      <td>2274</td>\n",
              "      <td>11692</td>\n",
              "      <td>1</td>\n",
              "      <td>1.0</td>\n",
              "      <td>0.000754</td>\n",
              "    </tr>\n",
              "    <tr>\n",
              "      <th>865324</th>\n",
              "      <td>Centro-Oeste</td>\n",
              "      <td>DF</td>\n",
              "      <td>Brasília</td>\n",
              "      <td>53</td>\n",
              "      <td>530010.0</td>\n",
              "      <td>53001.0</td>\n",
              "      <td>DISTRITO FEDERAL</td>\n",
              "      <td>2022-06-02</td>\n",
              "      <td>22</td>\n",
              "      <td>3015268.0</td>\n",
              "      <td>715938.0</td>\n",
              "      <td>2970</td>\n",
              "      <td>11692</td>\n",
              "      <td>0</td>\n",
              "      <td>1.0</td>\n",
              "      <td>0.000985</td>\n",
              "    </tr>\n",
              "    <tr>\n",
              "      <th>865325</th>\n",
              "      <td>Centro-Oeste</td>\n",
              "      <td>DF</td>\n",
              "      <td>Brasília</td>\n",
              "      <td>53</td>\n",
              "      <td>530010.0</td>\n",
              "      <td>53001.0</td>\n",
              "      <td>DISTRITO FEDERAL</td>\n",
              "      <td>2022-06-03</td>\n",
              "      <td>22</td>\n",
              "      <td>3015268.0</td>\n",
              "      <td>718242.0</td>\n",
              "      <td>2304</td>\n",
              "      <td>11692</td>\n",
              "      <td>0</td>\n",
              "      <td>1.0</td>\n",
              "      <td>0.000764</td>\n",
              "    </tr>\n",
              "  </tbody>\n",
              "</table>\n",
              "<p>865172 rows × 16 columns</p>\n",
              "</div>\n",
              "      <button class=\"colab-df-convert\" onclick=\"convertToInteractive('df-68a4437a-2d65-4026-924d-1cd5b6ddbc00')\"\n",
              "              title=\"Convert this dataframe to an interactive table.\"\n",
              "              style=\"display:none;\">\n",
              "        \n",
              "  <svg xmlns=\"http://www.w3.org/2000/svg\" height=\"24px\"viewBox=\"0 0 24 24\"\n",
              "       width=\"24px\">\n",
              "    <path d=\"M0 0h24v24H0V0z\" fill=\"none\"/>\n",
              "    <path d=\"M18.56 5.44l.94 2.06.94-2.06 2.06-.94-2.06-.94-.94-2.06-.94 2.06-2.06.94zm-11 1L8.5 8.5l.94-2.06 2.06-.94-2.06-.94L8.5 2.5l-.94 2.06-2.06.94zm10 10l.94 2.06.94-2.06 2.06-.94-2.06-.94-.94-2.06-.94 2.06-2.06.94z\"/><path d=\"M17.41 7.96l-1.37-1.37c-.4-.4-.92-.59-1.43-.59-.52 0-1.04.2-1.43.59L10.3 9.45l-7.72 7.72c-.78.78-.78 2.05 0 2.83L4 21.41c.39.39.9.59 1.41.59.51 0 1.02-.2 1.41-.59l7.78-7.78 2.81-2.81c.8-.78.8-2.07 0-2.86zM5.41 20L4 18.59l7.72-7.72 1.47 1.35L5.41 20z\"/>\n",
              "  </svg>\n",
              "      </button>\n",
              "      \n",
              "  <style>\n",
              "    .colab-df-container {\n",
              "      display:flex;\n",
              "      flex-wrap:wrap;\n",
              "      gap: 12px;\n",
              "    }\n",
              "\n",
              "    .colab-df-convert {\n",
              "      background-color: #E8F0FE;\n",
              "      border: none;\n",
              "      border-radius: 50%;\n",
              "      cursor: pointer;\n",
              "      display: none;\n",
              "      fill: #1967D2;\n",
              "      height: 32px;\n",
              "      padding: 0 0 0 0;\n",
              "      width: 32px;\n",
              "    }\n",
              "\n",
              "    .colab-df-convert:hover {\n",
              "      background-color: #E2EBFA;\n",
              "      box-shadow: 0px 1px 2px rgba(60, 64, 67, 0.3), 0px 1px 3px 1px rgba(60, 64, 67, 0.15);\n",
              "      fill: #174EA6;\n",
              "    }\n",
              "\n",
              "    [theme=dark] .colab-df-convert {\n",
              "      background-color: #3B4455;\n",
              "      fill: #D2E3FC;\n",
              "    }\n",
              "\n",
              "    [theme=dark] .colab-df-convert:hover {\n",
              "      background-color: #434B5C;\n",
              "      box-shadow: 0px 1px 3px 1px rgba(0, 0, 0, 0.15);\n",
              "      filter: drop-shadow(0px 1px 2px rgba(0, 0, 0, 0.3));\n",
              "      fill: #FFFFFF;\n",
              "    }\n",
              "  </style>\n",
              "\n",
              "      <script>\n",
              "        const buttonEl =\n",
              "          document.querySelector('#df-68a4437a-2d65-4026-924d-1cd5b6ddbc00 button.colab-df-convert');\n",
              "        buttonEl.style.display =\n",
              "          google.colab.kernel.accessAllowed ? 'block' : 'none';\n",
              "\n",
              "        async function convertToInteractive(key) {\n",
              "          const element = document.querySelector('#df-68a4437a-2d65-4026-924d-1cd5b6ddbc00');\n",
              "          const dataTable =\n",
              "            await google.colab.kernel.invokeFunction('convertToInteractive',\n",
              "                                                     [key], {});\n",
              "          if (!dataTable) return;\n",
              "\n",
              "          const docLinkHtml = 'Like what you see? Visit the ' +\n",
              "            '<a target=\"_blank\" href=https://colab.research.google.com/notebooks/data_table.ipynb>data table notebook</a>'\n",
              "            + ' to learn more about interactive tables.';\n",
              "          element.innerHTML = '';\n",
              "          dataTable['output_type'] = 'display_data';\n",
              "          await google.colab.output.renderOutput(dataTable, element);\n",
              "          const docLink = document.createElement('div');\n",
              "          docLink.innerHTML = docLinkHtml;\n",
              "          element.appendChild(docLink);\n",
              "        }\n",
              "      </script>\n",
              "    </div>\n",
              "  </div>\n",
              "  "
            ]
          },
          "metadata": {},
          "execution_count": 135
        }
      ],
      "source": [
        "RegioesBrasil2022"
      ]
    },
    {
      "cell_type": "code",
      "execution_count": 136,
      "metadata": {
        "colab": {
          "base_uri": "https://localhost:8080/"
        },
        "id": "RKdpIy2P_9wK",
        "outputId": "072b28b5-f56c-41f2-eb2f-fdd82c79ff7e"
      },
      "outputs": [
        {
          "output_type": "execute_result",
          "data": {
            "text/plain": [
              "estado\n",
              "RR      53510\n",
              "AP      66924\n",
              "PI      67316\n",
              "AC      73454\n",
              "SE      97974\n",
              "AL     114698\n",
              "MA     136732\n",
              "TO     142926\n",
              "RO     239734\n",
              "RN     240142\n",
              "PB     282762\n",
              "AM     298044\n",
              "PA     299718\n",
              "MS     310690\n",
              "MT     360150\n",
              "DF     396862\n",
              "BA     558014\n",
              "CE     580612\n",
              "PE     587856\n",
              "ES     852016\n",
              "GO     871078\n",
              "SC    1009636\n",
              "RJ    1710776\n",
              "RS    1889352\n",
              "PR    1892672\n",
              "SP    2143236\n",
              "MG    2423032\n",
              "Name: casosNovos, dtype: int64"
            ]
          },
          "metadata": {},
          "execution_count": 136
        }
      ],
      "source": [
        "estadosAgrupados = RegioesBrasil2022.groupby('estado')\n",
        "estadosOrdenados = estadosAgrupados['casosNovos'].sum().sort_values()\n",
        "estadosOrdenados"
      ]
    },
    {
      "cell_type": "code",
      "execution_count": 137,
      "metadata": {
        "colab": {
          "base_uri": "https://localhost:8080/",
          "height": 0
        },
        "id": "WZkvsR8NCvY2",
        "outputId": "2fa8d8be-0f04-4a29-e5e1-b64d2a480ade"
      },
      "outputs": [
        {
          "output_type": "stream",
          "name": "stdout",
          "text": [
            "Quantidade de casos novos no dataframe de 2022\n"
          ]
        },
        {
          "output_type": "display_data",
          "data": {
            "text/plain": [
              "<Figure size 432x288 with 1 Axes>"
            ],
            "image/png": "[encoded data removed]"
          },
          "metadata": {
            "needs_background": "light"
          }
        }
      ],
      "source": [
        "estadosAgrupados = RegioesBrasil2022.groupby('estado')\n",
        "estadosAgrupados.sum()['casosNovos'].plot(kind='bar', color='#EF2D56')\n",
        "plt.ylabel('CasosNovos')\n",
        "plt.xlabel('Região')\n",
        "print(\"Quantidade de casos novos no dataframe de 2022\")\n",
        "plt.show()"
      ]
    },
    {
      "cell_type": "markdown",
      "metadata": {
        "id": "-8K7Q297DHTT"
      },
      "source": [
        "Verificando os dados depois de ordenados, isto em ordem crescente, e verificando o gráfico de barras acima, o estado que teve a maior taxa de covid foi o estado de Minas Gerais."
      ]
    },
    {
      "cell_type": "markdown",
      "metadata": {
        "id": "A9EroZdURyYm"
      },
      "source": [
        "# 10 - Qual o estado teve o menor número de casos em 2021 ?"
      ]
    },
    {
      "cell_type": "markdown",
      "metadata": {
        "id": "8edrpwC6T3sL"
      },
      "source": [
        "Para sabermos qual foi o estado que menor teve casos de covid no anos de 2021, iremos primeiro agrupar o dataframe por estado e ordená-lo verificando qual estado teve menor número de casos em 2021"
      ]
    },
    {
      "cell_type": "code",
      "execution_count": 138,
      "metadata": {
        "colab": {
          "base_uri": "https://localhost:8080/"
        },
        "id": "vTLjleQ_WeeN",
        "outputId": "2ed82cf9-4313-4a02-8b8f-bb089a54957d"
      },
      "outputs": [
        {
          "output_type": "execute_result",
          "data": {
            "text/plain": [
              "estado\n",
              "AC      93528\n",
              "AP     117560\n",
              "RR     120794\n",
              "AL     274524\n",
              "TO     290400\n",
              "SE     332050\n",
              "MA     339414\n",
              "RO     377794\n",
              "PI     383536\n",
              "AM     465600\n",
              "MS     493288\n",
              "DF     536220\n",
              "RN     538238\n",
              "PB     595702\n",
              "PA     663846\n",
              "MT     748850\n",
              "ES     763278\n",
              "PE     847030\n",
              "CE    1242468\n",
              "GO    1277672\n",
              "SC    1501904\n",
              "BA    1554916\n",
              "RJ    1836352\n",
              "RS    2114886\n",
              "PR    2363472\n",
              "MG    3362152\n",
              "SP    5987622\n",
              "Name: casosNovos, dtype: int64"
            ]
          },
          "metadata": {},
          "execution_count": 138
        }
      ],
      "source": [
        "estadosOrdenados = RegioesBrasil2021.groupby('estado')\n",
        "estadosOrdenados = estadosOrdenados['casosNovos'].sum().sort_values()\n",
        "estadosOrdenados"
      ]
    },
    {
      "cell_type": "markdown",
      "metadata": {
        "id": "eKrZGwgHXg2U"
      },
      "source": [
        "Acima é possível ver em ordem crescente que o estado que teve o menor número de casos em 2021 foi o estado do Acré, agora plotaremos um gráfico de barras para ver esta diferença com os outros estados. Veja abaixo:"
      ]
    },
    {
      "cell_type": "code",
      "execution_count": 139,
      "metadata": {
        "colab": {
          "base_uri": "https://localhost:8080/",
          "height": 0
        },
        "id": "M2xVdF_4X4Tn",
        "outputId": "83d1a210-64fd-4800-d2bb-baddafdfaab6"
      },
      "outputs": [
        {
          "output_type": "stream",
          "name": "stdout",
          "text": [
            "Quantidade de casos novos no dataframe de 2021\n"
          ]
        },
        {
          "output_type": "display_data",
          "data": {
            "text/plain": [
              "<Figure size 432x288 with 1 Axes>"
            ],
            "image/png": "[encoded data removed]"
          },
          "metadata": {
            "needs_background": "light"
          }
        }
      ],
      "source": [
        "estadosAgrupados = RegioesBrasil2021.groupby('estado')\n",
        "estadosAgrupados.sum()['casosNovos'].plot(kind='bar', color='#EF2D56')\n",
        "plt.ylabel('CasosNovos')\n",
        "plt.xlabel('Região')\n",
        "print(\"Quantidade de casos novos no dataframe de 2021\")\n",
        "plt.show()"
      ]
    },
    {
      "cell_type": "markdown",
      "metadata": {
        "id": "Hf2_aVlgYbud"
      },
      "source": [
        "#11 - Qual a região teve mais sucesso no combate ao Covid, nos anos de 2020, 2021 2 2022 ?"
      ]
    },
    {
      "cell_type": "markdown",
      "metadata": {
        "id": "7lPPTWWZY1r_"
      },
      "source": [
        "Para desconbrir qual região teve mais sucesso ao combate ao covid primeiro vamos verficar quais regiões menos tiveram casos de covid, e verificar as regiões que tiveram menos morte."
      ]
    },
    {
      "cell_type": "code",
      "execution_count": 140,
      "metadata": {
        "colab": {
          "base_uri": "https://localhost:8080/"
        },
        "id": "-MmXkK-dZIDu",
        "outputId": "8a712850-05f6-4753-fa98-934cde74c827"
      },
      "outputs": [
        {
          "output_type": "execute_result",
          "data": {
            "text/plain": [
              "regiao\n",
              "Norte            5022132\n",
              "Centro-Oeste     6742324\n",
              "Nordeste        12566298\n",
              "Sul             13489568\n",
              "Sudeste         24454636\n",
              "Name: casosNovos, dtype: int64"
            ]
          },
          "metadata": {},
          "execution_count": 140
        }
      ],
      "source": [
        "#Agrupando as regiões e verificando quais delas tiveram menos casos, vamos usar o dataframe que contenham todos os dados de 2020, 2021 e 2022\n",
        "regioesOrdenadas = RegioesBrasilFull.groupby('regiao')\n",
        "regioesOrdenadas['casosNovos'].sum().sort_values()"
      ]
    },
    {
      "cell_type": "markdown",
      "metadata": {
        "id": "c9a7CZaWaHAo"
      },
      "source": [
        "Nos anos de 2020 a 2022 a região norte teve menos casos novos de covid, ou seja, foi a região que menos teve casos. Veja no gráfico abaixo esta descrepância:"
      ]
    },
    {
      "cell_type": "code",
      "execution_count": 141,
      "metadata": {
        "colab": {
          "base_uri": "https://localhost:8080/",
          "height": 0
        },
        "id": "igijtA-WaWFw",
        "outputId": "461a4b24-b7f9-4b3c-8c30-47124d3084e4"
      },
      "outputs": [
        {
          "output_type": "stream",
          "name": "stdout",
          "text": [
            "Quantidade de casos novos no dataframe de 2021\n"
          ]
        },
        {
          "output_type": "display_data",
          "data": {
            "text/plain": [
              "<Figure size 432x288 with 1 Axes>"
            ],
            "image/png": "[encoded data removed]"
          },
          "metadata": {
            "needs_background": "light"
          }
        }
      ],
      "source": [
        "regioesOrdenadas.sum()['casosNovos'].plot(kind='bar', color='#EF2D56')\n",
        "plt.ylabel('CasosNovos')\n",
        "plt.xlabel('Região')\n",
        "print(\"Quantidade de casos novos no dataframe de 2021\")\n",
        "plt.show()\n"
      ]
    },
    {
      "cell_type": "markdown",
      "metadata": {
        "id": "UMveL2IRbamY"
      },
      "source": [
        "Logo, é possível afirmar apenas vendo o gráfico de barras que a região norte foi a menos afetada."
      ]
    },
    {
      "cell_type": "markdown",
      "metadata": {
        "id": "4qS_3VCNcTLw"
      },
      "source": [
        "Agora iremos verificar qual região teve menos casos de óbitos"
      ]
    },
    {
      "cell_type": "code",
      "execution_count": 142,
      "metadata": {
        "colab": {
          "base_uri": "https://localhost:8080/"
        },
        "id": "FvFNx1F4cSon",
        "outputId": "909185c2-9ef7-4b4f-d1c1-203686fae5c6"
      },
      "outputs": [
        {
          "output_type": "execute_result",
          "data": {
            "text/plain": [
              "regiao\n",
              "Norte           100440\n",
              "Centro-Oeste    127122\n",
              "Sul             209638\n",
              "Nordeste        258260\n",
              "Sudeste         638482\n",
              "Name: obitosNovos, dtype: int64"
            ]
          },
          "metadata": {},
          "execution_count": 142
        }
      ],
      "source": [
        "regioesOrdenadas['obitosNovos'].sum().sort_values()"
      ]
    },
    {
      "cell_type": "markdown",
      "metadata": {
        "id": "6hSXiAEodqp-"
      },
      "source": [
        "A região que menos teve casos de óbitos foi o Norte. Veja no gráfico abaixo esta descrepância com os outros estados."
      ]
    },
    {
      "cell_type": "code",
      "execution_count": 143,
      "metadata": {
        "colab": {
          "base_uri": "https://localhost:8080/",
          "height": 0
        },
        "id": "G0rmwHxIdcc8",
        "outputId": "1ef415c3-fa82-4a22-b36c-1ac89d9fb9dc"
      },
      "outputs": [
        {
          "output_type": "stream",
          "name": "stdout",
          "text": [
            "Quantidade de casos novos no dataframe de 2021\n"
          ]
        },
        {
          "output_type": "display_data",
          "data": {
            "text/plain": [
              "<Figure size 432x288 with 1 Axes>"
            ],
            "image/png": "[encoded data removed]"
          },
          "metadata": {
            "needs_background": "light"
          }
        }
      ],
      "source": [
        "regioesOrdenadas.sum()['obitosNovos'].plot(kind='bar', color='#EF2D56')\n",
        "plt.ylabel('ObitosNovos')\n",
        "plt.xlabel('Região')\n",
        "print(\"Quantidade de casos novos no dataframe de 2021\")\n",
        "plt.show()\n"
      ]
    },
    {
      "cell_type": "markdown",
      "metadata": {
        "id": "a3dUnXTheg5I"
      },
      "source": [
        "Diante disso, analisando os anos de 2020, 2021 e 2022 a região que conteve mais o covid foi o Norte, pois foi o estado com menos casos e menas morte."
      ]
    },
    {
      "cell_type": "markdown",
      "metadata": {
        "id": "u0QMPEhMe3Xv"
      },
      "source": [
        "# 12 - Qual a região que teve mais óbitos com a Covid ?"
      ]
    },
    {
      "cell_type": "markdown",
      "metadata": {
        "id": "DIJEhcAxe52s"
      },
      "source": [
        "A região que teve mais óbito de covid foi a região Sudeste. Veja no gráfico abaixo:"
      ]
    },
    {
      "cell_type": "code",
      "execution_count": 144,
      "metadata": {
        "colab": {
          "base_uri": "https://localhost:8080/",
          "height": 609
        },
        "id": "3JxugISNfXMq",
        "outputId": "2b0fab3c-535d-45dc-baf7-2d4e48b2c327"
      },
      "outputs": [
        {
          "output_type": "display_data",
          "data": {
            "text/plain": [
              "<Figure size 720x720 with 1 Axes>"
            ],
            "image/png": "[encoded data removed]"
          },
          "metadata": {
            "needs_background": "light"
          }
        }
      ],
      "source": [
        "country_group_sum = RegioesBrasilFull.groupby('regiao').sum().reset_index()\n",
        "plt.figure(figsize=(10,10))\n",
        "\n",
        "g=sns.barplot(data=country_group_sum, y='regiao', x='obitosNovos', orient='h')\n",
        "g.set_xscale('log')\n",
        "\n",
        "plt.show()"
      ]
    },
    {
      "cell_type": "code",
      "source": [
        ""
      ],
      "metadata": {
        "id": "9K3OU4SLxl9k"
      },
      "execution_count": 144,
      "outputs": []
    },
    {
      "cell_type": "markdown",
      "source": [
        "# 13 - Qual o impacto das vacinas com o número de óbitos de Covid-19?"
      ],
      "metadata": {
        "id": "sMO_jImExaLZ"
      }
    },
    {
      "cell_type": "markdown",
      "source": [
        "## Primeiramente iremos analisar o número de óbitos em cada ano:"
      ],
      "metadata": {
        "id": "nZk7EqBC1uZr"
      }
    },
    {
      "cell_type": "markdown",
      "source": [
        "### 2020"
      ],
      "metadata": {
        "id": "rJ4gWlkK17p0"
      }
    },
    {
      "cell_type": "code",
      "source": [
        "group_date = RegioesBrasil2020.groupby(\"regiao\")\n",
        "group_date.sum()['obitosNovos'].plot(kind='bar', color='#EF2D56')\n",
        "plt.ylabel('Quantidade de obitos novos')\n",
        "plt.xlabel('região do Brasil')\n",
        "plt.yscale('log')\n",
        "plt.show()\n",
        "\n"
      ],
      "metadata": {
        "colab": {
          "base_uri": "https://localhost:8080/",
          "height": 336
        },
        "id": "LvfwExg-2DYd",
        "outputId": "2425764b-1cd8-4d1f-d638-2fcc104a991d"
      },
      "execution_count": 172,
      "outputs": [
        {
          "output_type": "display_data",
          "data": {
            "text/plain": [
              "<Figure size 432x288 with 1 Axes>"
            ],
            "image/png": "[encoded data removed]"
          },
          "metadata": {
            "needs_background": "light"
          }
        }
      ]
    },
    {
      "cell_type": "markdown",
      "source": [
        "### 2021"
      ],
      "metadata": {
        "id": "HG4cDtRa2Vo5"
      }
    },
    {
      "cell_type": "code",
      "source": [
        "group_date = RegioesBrasil2021.groupby(\"regiao\")\n",
        "group_date.sum()['obitosNovos'].plot(kind='bar', color='#EF2D56')\n",
        "plt.ylabel('Quantidade de obitos novos')\n",
        "plt.xlabel('região do Brasil')\n",
        "plt.yscale('log')\n",
        "plt.show()"
      ],
      "metadata": {
        "colab": {
          "base_uri": "https://localhost:8080/",
          "height": 336
        },
        "id": "gYhEMPB2xlY7",
        "outputId": "5c1b0276-d093-40a6-bafb-fae45b853bee"
      },
      "execution_count": 171,
      "outputs": [
        {
          "output_type": "display_data",
          "data": {
            "text/plain": [
              "<Figure size 432x288 with 1 Axes>"
            ],
            "image/png": "[encoded data removed]"
          },
          "metadata": {
            "needs_background": "light"
          }
        }
      ]
    },
    {
      "cell_type": "markdown",
      "source": [
        "### 2022"
      ],
      "metadata": {
        "id": "4ORXWijo2eep"
      }
    },
    {
      "cell_type": "code",
      "source": [
        "group_date = RegioesBrasil2022.groupby(\"regiao\")\n",
        "group_date.sum()['obitosNovos'].plot(kind='bar', color='#EF2D56')\n",
        "plt.ylabel('Quantidade de obitos novos')\n",
        "plt.xlabel('região do Brasil')\n",
        "plt.yscale('log')\n",
        "plt.show()"
      ],
      "metadata": {
        "colab": {
          "base_uri": "https://localhost:8080/",
          "height": 336
        },
        "id": "Zb806pJl2iqq",
        "outputId": "a4fa74fd-40df-4846-e161-55993ffff53d"
      },
      "execution_count": 170,
      "outputs": [
        {
          "output_type": "display_data",
          "data": {
            "text/plain": [
              "<Figure size 432x288 with 1 Axes>"
            ],
            "image/png": "[encoded data removed]"
          },
          "metadata": {
            "needs_background": "light"
          }
        }
      ]
    },
    {
      "cell_type": "markdown",
      "source": [
        "### A partir dos gráficos acima é possível perceber uma baixa consideravel em relação aos anos de 2020 e 2021 em relação com o ano de 2022. Desse modo, pode-se dizer que provavelmente a vacina para o combate do corona vírus teve um impacto positivo em relação ao números de óbitos registrados."
      ],
      "metadata": {
        "id": "58SMkBbw5DZI"
      }
    },
    {
      "cell_type": "markdown",
      "source": [
        "# 14 - Qual o número de casos de COVID-19 no decorrer dos anos?"
      ],
      "metadata": {
        "id": "nAO3c7PZxeq6"
      }
    },
    {
      "cell_type": "code",
      "source": [
        "CasosNovos2020 = RegioesBrasil2020['casosNovos'].count()\n",
        "print(\"Número de casos de COVID-19 em 2020\")\n",
        "print(CasosNovos2020)\n",
        "print(\"=\"*30)\n",
        "\n",
        "CasosNovos2021 = RegioesBrasil2021['casosNovos'].count()\n",
        "print(\"Número de casos de COVID-19 em 2021\")\n",
        "print(CasosNovos2021)\n",
        "print(\"=\"*30)\n",
        "\n",
        "CasosNovos2022 = RegioesBrasil2022['casosNovos'].count()\n",
        "print(\"Número de casos de COVID-19 em 2022\")\n",
        "print(CasosNovos2022)\n",
        "print(\"=\"*30)\n",
        "\n",
        "port2020to2021 = (CasosNovos2021 * 100) /CasosNovos2020\n",
        "port2021to2022 = (CasosNovos2022 * 100) /CasosNovos2021\n",
        "print(\"=\"*100)\n",
        "print(f\"O aumento em porcentagem do número de casos novos de 2020 a 2021: {port2020to2021 - 100}%\")\n",
        "print(f\"O aumento em porcentagem do número de casos novos de 2021 a 2022: {port2021to2022 - 100}%\")\n",
        "print(\"=\"*100)"
      ],
      "metadata": {
        "colab": {
          "base_uri": "https://localhost:8080/"
        },
        "id": "kymGEcLHxk9T",
        "outputId": "c73a3221-3084-46b3-82ef-6552df8b0ebd"
      },
      "execution_count": 181,
      "outputs": [
        {
          "output_type": "stream",
          "name": "stdout",
          "text": [
            "Número de casos de COVID-19 em 2020\n",
            "1573877\n",
            "==============================\n",
            "Número de casos de COVID-19 em 2021\n",
            "2050570\n",
            "==============================\n",
            "Número de casos de COVID-19 em 2022\n",
            "865172\n",
            "==============================\n",
            "====================================================================================================\n",
            "O aumento em porcentagem do número de casos novos de 2020 a 2021: 30.28781791715616%\n",
            "O aumento em porcentagem do número de casos novos de 2021 a 2022: -57.80821917808219%\n",
            "====================================================================================================\n"
          ]
        }
      ]
    },
    {
      "cell_type": "markdown",
      "source": [
        "## Pode-se notar que houve uma aumento do numero de casos novos em relação aos nos de 2020 e 2021 e uma redução no número de casos registrado no período de 2021 a 2020."
      ],
      "metadata": {
        "id": "ghvHC-BO9XfE"
      }
    },
    {
      "cell_type": "markdown",
      "source": [
        "# 15 - Qual é a distribuição de casos novos ao decorrer do tempo em Minas Gerais no ano de 2020?"
      ],
      "metadata": {
        "id": "5W4SqG77xgo6"
      }
    },
    {
      "cell_type": "code",
      "source": [
        "minas = RegioesBrasil2020[RegioesBrasil2020['estado'] == 'MG']\n",
        "\n",
        "group_date = minas.groupby(\"data\")\n",
        "group_date.sum()['casosNovos'].plot(c='#EF2D56')\n",
        "plt.ylabel('Quantidade de casos novos')\n",
        "plt.xlabel('Data')\n",
        "plt.show()"
      ],
      "metadata": {
        "colab": {
          "base_uri": "https://localhost:8080/",
          "height": 279
        },
        "id": "OzIrnPxKyCqh",
        "outputId": "ee4873c3-f241-4a4c-ea83-92ea73ca7d13"
      },
      "execution_count": 193,
      "outputs": [
        {
          "output_type": "display_data",
          "data": {
            "text/plain": [
              "<Figure size 432x288 with 1 Axes>"
            ],
            "image/png": "[encoded data removed]"
          },
          "metadata": {
            "needs_background": "light"
          }
        }
      ]
    },
    {
      "cell_type": "markdown",
      "source": [
        "## Podemos observar que houve um aumento no número de casos novos registrado em Minas Gerais com o passar do tempo da pandemia.Havendo uma crescente no final do ano."
      ],
      "metadata": {
        "id": "PY-KV1sABVpd"
      }
    },
    {
      "cell_type": "markdown",
      "metadata": {
        "id": "xUyiIHHfA1jn"
      },
      "source": [
        "# 16 - Analise os óbitos diários por covid nos anos de 2020, 2021 e 2022.\n",
        "Para fazer uma análise dos óbitos diários por covid nos anos de 2020, 2021 e 2022 será utilizado o boxplot.\n"
      ]
    },
    {
      "cell_type": "markdown",
      "metadata": {
        "id": "DNdMXRFSBa_4"
      },
      "source": [
        "## Boxplot dos óbitos em 2020"
      ]
    },
    {
      "cell_type": "code",
      "execution_count": 145,
      "metadata": {
        "colab": {
          "base_uri": "https://localhost:8080/",
          "height": 0
        },
        "id": "7L9C_y-Z8y6_",
        "outputId": "d3aa47bb-5a92-4011-a275-be59c7aa486a"
      },
      "outputs": [
        {
          "output_type": "display_data",
          "data": {
            "text/plain": [
              "<Figure size 432x288 with 1 Axes>"
            ],
            "image/png": "[encoded data removed]"
          },
          "metadata": {
            "needs_background": "light"
          }
        }
      ],
      "source": [
        "sns.boxplot(x=DadosBrasil2020['obitosNovos']) \n",
        "plt.show()"
      ]
    },
    {
      "cell_type": "markdown",
      "metadata": {
        "id": "nmM_CalRBxog"
      },
      "source": [
        "## Boxplot dos óbitos em 2021"
      ]
    },
    {
      "cell_type": "code",
      "execution_count": 146,
      "metadata": {
        "colab": {
          "base_uri": "https://localhost:8080/",
          "height": 0
        },
        "id": "jBSF5q91B0Vf",
        "outputId": "2fdfdbca-0a27-459f-ba93-59e27916f6c7"
      },
      "outputs": [
        {
          "output_type": "display_data",
          "data": {
            "text/plain": [
              "<Figure size 432x288 with 1 Axes>"
            ],
            "image/png": "[encoded data removed]"
          },
          "metadata": {
            "needs_background": "light"
          }
        }
      ],
      "source": [
        "sns.boxplot(x=DadosBrasil2021['obitosNovos']) \n",
        "plt.show()"
      ]
    },
    {
      "cell_type": "markdown",
      "metadata": {
        "id": "HflEvsIaB50X"
      },
      "source": [
        "## Boxplot dos óbitos em 2022"
      ]
    },
    {
      "cell_type": "code",
      "execution_count": 147,
      "metadata": {
        "colab": {
          "base_uri": "https://localhost:8080/",
          "height": 0
        },
        "id": "nnKRFJcbB-RG",
        "outputId": "40189e11-bd01-4553-f835-e3e558dca970"
      },
      "outputs": [
        {
          "output_type": "display_data",
          "data": {
            "text/plain": [
              "<Figure size 432x288 with 1 Axes>"
            ],
            "image/png": "[encoded data removed]"
          },
          "metadata": {
            "needs_background": "light"
          }
        }
      ],
      "source": [
        "sns.boxplot(x=DadosBrasil2022['obitosNovos']) \n",
        "plt.show()"
      ]
    },
    {
      "cell_type": "markdown",
      "metadata": {
        "id": "K4yyw9e5CzLn"
      },
      "source": [
        "Através dos boxplots criados foi possível perceber que as mortes diárias se elevaram de 2020 para 2021 e diminuíram de 2021 para 2022. Isso ficou perceptível através do maior número de óbito e o 3º quartil de cada ano, sendo que:\n",
        "\n",
        "*   Em 2020 o maior óbito diário ficou por volta dos 1.600 e o 3º quartil por volta de 970.\n",
        "*   Em 2021 o maior óbito diário ficou por volta dos 3.500 e o 3º quartil por volta de 1600.\n",
        "* Em 2020 o maior óbito diário ficou por volta dos 800 e o 3º quartil por volta de 390.\n",
        "\n",
        "Vale lembrar que foi desconsiderado os outliers na análise realizada.\n",
        "\n"
      ]
    },
    {
      "cell_type": "markdown",
      "metadata": {
        "id": "bmrqe801He0G"
      },
      "source": [
        "# 17 - Identifique os quartis de cada boxplot gerado na questão 11."
      ]
    },
    {
      "cell_type": "code",
      "execution_count": 148,
      "metadata": {
        "colab": {
          "base_uri": "https://localhost:8080/",
          "height": 0
        },
        "id": "mTtZ5FFpIgv-",
        "outputId": "bf41c9f5-fa18-4145-bbdd-be879e6b6f5c"
      },
      "outputs": [
        {
          "output_type": "display_data",
          "data": {
            "text/plain": [
              "293.0"
            ]
          },
          "metadata": {}
        },
        {
          "output_type": "display_data",
          "data": {
            "text/plain": [
              "627.0"
            ]
          },
          "metadata": {}
        },
        {
          "output_type": "display_data",
          "data": {
            "text/plain": [
              "957.0"
            ]
          },
          "metadata": {}
        },
        {
          "output_type": "stream",
          "name": "stdout",
          "text": [
            "\n"
          ]
        },
        {
          "output_type": "display_data",
          "data": {
            "text/plain": [
              "389.0"
            ]
          },
          "metadata": {}
        },
        {
          "output_type": "display_data",
          "data": {
            "text/plain": [
              "962.0"
            ]
          },
          "metadata": {}
        },
        {
          "output_type": "display_data",
          "data": {
            "text/plain": [
              "1641.0"
            ]
          },
          "metadata": {}
        },
        {
          "output_type": "stream",
          "name": "stdout",
          "text": [
            "\n"
          ]
        },
        {
          "output_type": "display_data",
          "data": {
            "text/plain": [
              "103.0"
            ]
          },
          "metadata": {}
        },
        {
          "output_type": "display_data",
          "data": {
            "text/plain": [
              "195.0"
            ]
          },
          "metadata": {}
        },
        {
          "output_type": "display_data",
          "data": {
            "text/plain": [
              "385.0"
            ]
          },
          "metadata": {}
        }
      ],
      "source": [
        "# Ano de 2020\n",
        "display(np.percentile(DadosBrasil2020['obitosNovos'],25))\n",
        "display(np.percentile(DadosBrasil2020['obitosNovos'],50))\n",
        "display(np.percentile(DadosBrasil2020['obitosNovos'],75))\n",
        "print()\n",
        "# Ano de 2021\n",
        "display(np.percentile(DadosBrasil2021['obitosNovos'],25))\n",
        "display(np.percentile(DadosBrasil2021['obitosNovos'],50))\n",
        "display(np.percentile(DadosBrasil2021['obitosNovos'],75))\n",
        "print()\n",
        "# Ano de 2022\n",
        "display(np.percentile(DadosBrasil2022['obitosNovos'],25))\n",
        "display(np.percentile(DadosBrasil2022['obitosNovos'],50))\n",
        "display(np.percentile(DadosBrasil2022['obitosNovos'],75))"
      ]
    },
    {
      "cell_type": "markdown",
      "metadata": {
        "id": "rx5MesCdHwYc"
      },
      "source": [
        "Quartis de óbitos diários de 2020:\n",
        "* **1º quartil:** 293\n",
        "* **2º quartil:** 627\n",
        "* **3º quartil:** 957\n",
        "\n",
        "Quartis de óbitos diários de 2021:\n",
        "* **1º quartil:** 389\n",
        "* **2º quartil:** 962\n",
        "* **3º quartil:** 1641\n",
        "\n",
        "Quartis de óbitos diários de 2022:\n",
        "* **1º quartil:** 103\n",
        "* **2º quartil:** 195\n",
        "* **3º quartil:** 385\n",
        "\n",
        "Estes dados contribuem na confirmação da afirmação realizada na questão anterior."
      ]
    },
    {
      "cell_type": "markdown",
      "metadata": {
        "id": "v7yv1c8-LWGU"
      },
      "source": [
        "# 18 - Os óbitos por covid ocorreram mais em regiões do interior ou em regiões metropolitanas ?\n",
        "Para responder a esta pergunta será utilizado um gráfico de pizza, onde cidade interior é representada por 0 e cidade metropolitana por 1."
      ]
    },
    {
      "cell_type": "code",
      "execution_count": 149,
      "metadata": {
        "colab": {
          "base_uri": "https://localhost:8080/",
          "height": 0
        },
        "id": "41wummkILj7W",
        "outputId": "8e1e9490-1dc6-49f4-9774-40afd28b029e"
      },
      "outputs": [
        {
          "output_type": "display_data",
          "data": {
            "text/plain": [
              "<Figure size 720x504 with 1 Axes>"
            ],
            "image/png": "[encoded data removed]"
          },
          "metadata": {}
        }
      ],
      "source": [
        "filtro = RegioesBrasilFull.groupby('interior/metropolitana').sum()\n",
        "fig=plt.figure(figsize=(10,7))\n",
        "plt.pie(labels=filtro.index,x=filtro['obitosNovos'])\n",
        "plt.show()"
      ]
    },
    {
      "cell_type": "markdown",
      "metadata": {
        "id": "IF5mFWDxPsGm"
      },
      "source": [
        "Observando o gráfico de pizza acima podemos concluir que os óbitos são maiores em regiões do interior, no entanto, a porcentagem de óbitos para cada tipo de região está bem próxima."
      ]
    },
    {
      "cell_type": "markdown",
      "metadata": {
        "id": "2sxKA5OuV5Of"
      },
      "source": [
        "# 19 - Como ocorreu os óbitos por covid na região sudeste nos anos de 2020, 2021, 2022?\n",
        "Para responder a esta pergunta usaremos gráfico de barras para cada ano."
      ]
    },
    {
      "cell_type": "code",
      "execution_count": 150,
      "metadata": {
        "colab": {
          "base_uri": "https://localhost:8080/",
          "height": 0
        },
        "id": "y_LDGTv6WEjD",
        "outputId": "4ece37bf-9140-4503-93a8-d4cd1a44cc2f"
      },
      "outputs": [
        {
          "output_type": "display_data",
          "data": {
            "text/plain": [
              "<Figure size 432x288 with 1 Axes>"
            ],
            "image/png": "[encoded data removed]"
          },
          "metadata": {
            "needs_background": "light"
          }
        }
      ],
      "source": [
        "sudeste2020=RegioesBrasil2020.groupby('regiao').sum().reset_index()\n",
        "sudeste2020=sudeste2020.assign(ano=\"2020\")\n",
        "sudeste2021=RegioesBrasil2021.groupby('regiao').sum().reset_index()\n",
        "sudeste2021=sudeste2021.assign(ano=\"2021\")\n",
        "sudeste2022=RegioesBrasil2022.groupby('regiao').sum().reset_index()\n",
        "sudeste2022=sudeste2022.assign(ano=\"2022\")\n",
        "\n",
        "sudeste2020=sudeste2020[sudeste2020['regiao']==\"Sudeste\"]\n",
        "sudeste2021=sudeste2021[sudeste2021['regiao']==\"Sudeste\"]\n",
        "sudeste2022=sudeste2022[sudeste2022['regiao']==\"Sudeste\"]\n",
        "\n",
        "data =pd.concat([sudeste2020,sudeste2021,sudeste2022])\n",
        "data = data.groupby('ano').sum() \n",
        "data['obitosNovos'].plot(kind='bar', color='#EF2D56')\n",
        "plt.show()"
      ]
    },
    {
      "cell_type": "markdown",
      "metadata": {
        "id": "hwmVBPp97BIu"
      },
      "source": [
        "Analisando a resposta da questão 11 poderiamos supor que as demais regiões também teriam um aumento nos óbitos de 2020 para 2021 e uma regressão de 2021 para 2022. Como de fato acontece, basta observar o gráfico de barras acima."
      ]
    },
    {
      "cell_type": "markdown",
      "metadata": {
        "id": "bE3K_x5l9cQI"
      },
      "source": [
        "# 20 - Identifique como ocorreu os óbitos por covid em cada estado da região sudeste."
      ]
    },
    {
      "cell_type": "code",
      "execution_count": 151,
      "metadata": {
        "colab": {
          "base_uri": "https://localhost:8080/",
          "height": 0
        },
        "id": "4Bq2DKDy8CbU",
        "outputId": "77a5a259-7080-493b-c570-cf540ae8c5f5"
      },
      "outputs": [
        {
          "output_type": "display_data",
          "data": {
            "text/plain": [
              "<Figure size 720x504 with 1 Axes>"
            ],
            "image/png": "[encoded data removed]"
          },
          "metadata": {}
        }
      ],
      "source": [
        "sudeste2020=RegioesBrasil2020[RegioesBrasil2020['regiao']==\"Sudeste\"]\n",
        "sudeste2021=RegioesBrasil2021[RegioesBrasil2021['regiao']==\"Sudeste\"]\n",
        "sudeste2022=RegioesBrasil2022[RegioesBrasil2022['regiao']==\"Sudeste\"]\n",
        "data = pd.concat([sudeste2020,sudeste2021,sudeste2022])\n",
        "data=data.groupby('estado').sum()\n",
        "fig=plt.figure(figsize=(10,7))\n",
        "plt.pie(labels=data.index,x=data['obitosNovos'])\n",
        "plt.show()"
      ]
    },
    {
      "cell_type": "markdown",
      "metadata": {
        "id": "3vYGP-uqCnH2"
      },
      "source": [
        "A partir do gráfico de pizza acima podemos perceber que o estado de São Paulo é repsonsável por mais de 50% dos óbitos por covid da região sudeste. Depois de SP, o Rio de Janeiro possui maior quantidade de mortes, seguido de Minas gerais e Espírito Santo. Além disso, o ES possui uma quantidade muito baixa de óbitos comparado aos outros estados da região sudeste."
      ]
    }
  ],
  "metadata": {
    "colab": {
      "collapsed_sections": [
        "J1QOoVLLRvaF",
        "dx3fsJEYR079",
        "IkiyVkjaR4le",
        "aRTa-mdhH9yc",
        "iL8Ctkjph4RK",
        "eGE9lyERmo5j",
        "AMWq7wdbmlNh",
        "3vNduZeBiNCM",
        "AtT3Qvu04o6O",
        "8vQCk_mP66vI",
        "NEaJ_vuE-Q2X",
        "ig8WR_unAHsZ",
        "BTyY6NgMlULN",
        "OuBHqOaVlqGU",
        "Mk6ZG5k6f4rI",
        "39Wy2miRg0Zw",
        "gTEdELlYj46B",
        "lRRVnbLtkSCH",
        "d8jVoI1KuX6F",
        "-UIykCLfuig3",
        "U3QEGXaOw7Lc",
        "xUyiIHHfA1jn",
        "nmM_CalRBxog",
        "HflEvsIaB50X"
      ],
      "name": "Trabalho_de_Dados.ipynb",
      "provenance": [],
      "include_colab_link": true
    },
    "interpreter": {
      "hash": "916dbcbb3f70747c44a77c7bcd40155683ae19c65e1c03b4aa3499c5328201f1"
    },
    "kernelspec": {
      "display_name": "Python 3.10.4 64-bit",
      "language": "python",
      "name": "python3"
    },
    "language_info": {
      "codemirror_mode": {
        "name": "ipython",
        "version": 3
      },
      "file_extension": ".py",
      "mimetype": "text/x-python",
      "name": "python",
      "nbconvert_exporter": "python",
      "pygments_lexer": "ipython3",
      "version": "3.10.4"
    }
  },
  "nbformat": 4,
  "nbformat_minor": 0
}